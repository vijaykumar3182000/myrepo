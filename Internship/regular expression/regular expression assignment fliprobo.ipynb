{
 "cells": [
  {
   "cell_type": "code",
   "execution_count": null,
   "id": "22f81aa3",
   "metadata": {},
   "outputs": [],
   "source": [
    "Question 1"
   ]
  },
  {
   "cell_type": "code",
   "execution_count": 3,
   "id": "35b1d498",
   "metadata": {},
   "outputs": [
    {
     "name": "stdout",
     "output_type": "stream",
     "text": [
      "python Exercises:PHP execrises:\n"
     ]
    }
   ],
   "source": [
    "import re\n",
    "text='python Exercises,PHP execrises.'\n",
    "print(re.sub(\"[,.]\",\":\",text))"
   ]
  },
  {
   "cell_type": "code",
   "execution_count": null,
   "id": "2b63eebe",
   "metadata": {},
   "outputs": [],
   "source": [
    "Question 2"
   ]
  },
  {
   "cell_type": "code",
   "execution_count": 4,
   "id": "1e4f7598",
   "metadata": {},
   "outputs": [
    {
     "name": "stdout",
     "output_type": "stream",
     "text": [
      "['example', 'eates', 'a', 'a', 'a', 'elements']\n"
     ]
    }
   ],
   "source": [
    "import re\n",
    "text='the following example creates an arraylist with a capacity of elements.'\n",
    "print(re.findall(r\"\\ba|e\\w+\",text))"
   ]
  },
  {
   "cell_type": "code",
   "execution_count": null,
   "id": "86748f84",
   "metadata": {},
   "outputs": [],
   "source": [
    "Question 3"
   ]
  },
  {
   "cell_type": "code",
   "execution_count": 5,
   "id": "5edf254d",
   "metadata": {},
   "outputs": [
    {
     "name": "stdout",
     "output_type": "stream",
     "text": [
      "['jump', 'lazy']\n"
     ]
    }
   ],
   "source": [
    "import re\n",
    "text='a quick brown fox jump in a lazy dog'\n",
    "p=re.compile(r\"\\b\\w{4}\\b\")\n",
    "print(re.findall(p,text))"
   ]
  },
  {
   "cell_type": "code",
   "execution_count": null,
   "id": "3521707f",
   "metadata": {},
   "outputs": [],
   "source": [
    "Question 4"
   ]
  },
  {
   "cell_type": "code",
   "execution_count": 6,
   "id": "3b774aa5",
   "metadata": {},
   "outputs": [
    {
     "name": "stdout",
     "output_type": "stream",
     "text": [
      "['quick', 'brown', 'fox', 'jump', 'lazy', 'fox']\n"
     ]
    }
   ],
   "source": [
    "import re\n",
    "text='a quick brown fox jump on a lazy fox'\n",
    "p=re.compile(r\"\\b\\w{3,5}\\b\")\n",
    "print(re.findall(p,text))"
   ]
  },
  {
   "cell_type": "code",
   "execution_count": null,
   "id": "aba66173",
   "metadata": {},
   "outputs": [],
   "source": [
    "Question 5"
   ]
  },
  {
   "cell_type": "code",
   "execution_count": 7,
   "id": "7b5d8b8c",
   "metadata": {},
   "outputs": [
    {
     "name": "stdout",
     "output_type": "stream",
     "text": [
      "example.com\n",
      "hr@fliprobo.com\n",
      "github.com\n",
      "hellodata science world\n",
      "datascientist\n"
     ]
    }
   ],
   "source": [
    "import re\n",
    "data=[\"example(.com)\",\"hr@fliprobo(.com)\",\"github(.com)\",\"hello(data science world)\",\"data(scientist)\"]\n",
    "m=re.compile(r\"[()]\")\n",
    "for i in data:\n",
    "    print(re.sub(m,\"\",i))"
   ]
  },
  {
   "cell_type": "code",
   "execution_count": null,
   "id": "4a9a806d",
   "metadata": {},
   "outputs": [],
   "source": [
    "Question 6"
   ]
  },
  {
   "cell_type": "code",
   "execution_count": 14,
   "id": "bce693fa",
   "metadata": {
    "scrolled": true
   },
   "outputs": [
    {
     "name": "stdout",
     "output_type": "stream",
     "text": [
      "example\n",
      "hr@fliprobo\n",
      "github\n",
      "hello\n",
      "data\n"
     ]
    }
   ],
   "source": [
    "import re\n",
    "data=[\"example(.com)\",\"hr@fliprobo(.com)\",\"github(.com)\",\"hello (data science world)\",\"data(scientist)\"]\n",
    "for i in data:\n",
    "    print(re.sub(r\" ?\\(\\.?[^)]+\\)\",\"\",i))"
   ]
  },
  {
   "cell_type": "code",
   "execution_count": null,
   "id": "7ee79625",
   "metadata": {},
   "outputs": [],
   "source": [
    "Question 7"
   ]
  },
  {
   "cell_type": "code",
   "execution_count": 12,
   "id": "2f00652d",
   "metadata": {},
   "outputs": [
    {
     "name": "stdout",
     "output_type": "stream",
     "text": [
      "['Importance', 'Of', 'Regular', 'Expressions', 'In', 'Python']\n"
     ]
    }
   ],
   "source": [
    "import re\n",
    "text=\"ImportanceOfRegularExpressionsInPython\"\n",
    "print(re.findall('[A-Z][^A-Z]*',text))"
   ]
  },
  {
   "cell_type": "code",
   "execution_count": null,
   "id": "9fff873e",
   "metadata": {},
   "outputs": [],
   "source": [
    "Question 8"
   ]
  },
  {
   "cell_type": "code",
   "execution_count": 16,
   "id": "a3d6d333",
   "metadata": {},
   "outputs": [
    {
     "name": "stdout",
     "output_type": "stream",
     "text": [
      "RegularExpression 1IsAn 2ImportantTopics 3InPython\n"
     ]
    }
   ],
   "source": [
    "def new_text(text):\n",
    "    return re.sub(r\"(\\w)([0-9])\", r\"\\1 \\2\", text)\n",
    "\n",
    "print(new_text(\"RegularExpression1IsAn2ImportantTopics3InPython\"))"
   ]
  },
  {
   "cell_type": "code",
   "execution_count": null,
   "id": "88d7ec65",
   "metadata": {},
   "outputs": [],
   "source": [
    "Question 9"
   ]
  },
  {
   "cell_type": "code",
   "execution_count": 17,
   "id": "572b4346",
   "metadata": {},
   "outputs": [
    {
     "name": "stdout",
     "output_type": "stream",
     "text": [
      "Regular Expression 1Is An 2Important Topics 3In Python\n"
     ]
    }
   ],
   "source": [
    "def new_text(text):\n",
    "    return re.sub(r\"(\\w)([0-9]|[A-Z])\", r\"\\1 \\2\", text)\n",
    "print(new_text(\"RegularExpression1IsAn2ImportantTopics3InPython\"))"
   ]
  },
  {
   "cell_type": "code",
   "execution_count": null,
   "id": "b30fcc1b",
   "metadata": {},
   "outputs": [],
   "source": [
    "Question 10"
   ]
  },
  {
   "cell_type": "code",
   "execution_count": 23,
   "id": "05762b06",
   "metadata": {},
   "outputs": [
    {
     "name": "stdout",
     "output_type": "stream",
     "text": [
      "['xyz@domain.com', 'xyz.abc@sdomain.domain.com.', 'hr@fliprobo.com']\n"
     ]
    }
   ],
   "source": [
    "import re\n",
    "\n",
    "text=\"\"\"Hello my name is Data Science and my email address is xyz@domain.com and alternate email address is xyz.abc@sdomain.domain.com. \n",
    "Please contact us at hr@fliprobo.com for further information.\"\"\"\n",
    "\n",
    "email=re.findall(r\"\\S*@\\S+\",text)\n",
    "                 \n",
    "print(email)"
   ]
  },
  {
   "cell_type": "code",
   "execution_count": null,
   "id": "4563fe2c",
   "metadata": {},
   "outputs": [],
   "source": [
    "Question 11"
   ]
  },
  {
   "cell_type": "code",
   "execution_count": 26,
   "id": "5bb58960",
   "metadata": {},
   "outputs": [
    {
     "name": "stdout",
     "output_type": "stream",
     "text": [
      "False\n"
     ]
    }
   ],
   "source": [
    "import re\n",
    "text=\"The quick brown fox jumps over the lazy dog.\"\n",
    "str=re.compile(r\"[A-Za-z0-9_]*$\")\n",
    "print(bool(re.match(str, text)))"
   ]
  },
  {
   "cell_type": "code",
   "execution_count": null,
   "id": "ab19faba",
   "metadata": {},
   "outputs": [],
   "source": [
    "Question 12"
   ]
  },
  {
   "cell_type": "code",
   "execution_count": 32,
   "id": "3064d0f8",
   "metadata": {},
   "outputs": [
    {
     "name": "stdout",
     "output_type": "stream",
     "text": [
      "True\n",
      "True\n",
      "False\n",
      "False\n",
      "False\n"
     ]
    }
   ],
   "source": [
    "import re\n",
    "\n",
    "str=[\"26454\", \"2525\", \"5214\", \"3589\", \"74589\"]   \n",
    "for i in str:\n",
    "    x=re.compile(r\"^2\") \n",
    "    if x.match(i):\n",
    "        print(True)\n",
    "    else:\n",
    "        print(False)"
   ]
  },
  {
   "cell_type": "code",
   "execution_count": null,
   "id": "ae5c41c0",
   "metadata": {},
   "outputs": [],
   "source": [
    "Question 13"
   ]
  },
  {
   "cell_type": "code",
   "execution_count": 33,
   "id": "f7c7cb2c",
   "metadata": {},
   "outputs": [
    {
     "name": "stdout",
     "output_type": "stream",
     "text": [
      "216.8.94.196\n"
     ]
    }
   ],
   "source": [
    "import re\n",
    "ip = \"216.08.094.196\"\n",
    "string = re.sub('\\.[0]*', '.', ip)\n",
    "print(string)"
   ]
  },
  {
   "cell_type": "code",
   "execution_count": null,
   "id": "c996d5f5",
   "metadata": {},
   "outputs": [],
   "source": [
    "Question 14"
   ]
  },
  {
   "cell_type": "code",
   "execution_count": 36,
   "id": "70584544",
   "metadata": {},
   "outputs": [
    {
     "name": "stdout",
     "output_type": "stream",
     "text": [
      "['August 15th 1947']\n"
     ]
    }
   ],
   "source": [
    "import re\n",
    "text='''On August 15th 1947 that India was declared independent from British colonialism, and the reins of control were handed over to the leaders of the Country'''\n",
    "print(re.findall(\"[A-Z][a-z]+\\s\\d{2}[a-z]{2}\\s\\d{4}\", text))"
   ]
  },
  {
   "cell_type": "code",
   "execution_count": null,
   "id": "d3235cc6",
   "metadata": {},
   "outputs": [],
   "source": [
    "Question 15"
   ]
  },
  {
   "cell_type": "code",
   "execution_count": 37,
   "id": "782cbe53",
   "metadata": {},
   "outputs": [
    {
     "name": "stdout",
     "output_type": "stream",
     "text": [
      "match\n",
      "match\n",
      "not match\n"
     ]
    }
   ],
   "source": [
    "import re\n",
    "patterns=['fox','dog','horse']\n",
    "text='the quick brown fox jumps over the lazy dog.'\n",
    "for pattern in patterns:\n",
    "    if re.search(pattern, text):\n",
    "        print(\"match\")\n",
    "    else:\n",
    "        print(\"not match\")"
   ]
  },
  {
   "cell_type": "code",
   "execution_count": null,
   "id": "869dc268",
   "metadata": {},
   "outputs": [],
   "source": [
    "Question 16"
   ]
  },
  {
   "cell_type": "code",
   "execution_count": 38,
   "id": "823615db",
   "metadata": {},
   "outputs": [
    {
     "name": "stdout",
     "output_type": "stream",
     "text": [
      "<re.Match object; span=(16, 19), match='fox'>\n",
      "(16, 19)\n"
     ]
    }
   ],
   "source": [
    "import re\n",
    "pattern='fox'\n",
    "text='the quick brown fox jumps over the lazy dog.'\n",
    "match=re.search(pattern,text)\n",
    "print(match)\n",
    "print(match.span())"
   ]
  },
  {
   "cell_type": "code",
   "execution_count": null,
   "id": "644dc10c",
   "metadata": {},
   "outputs": [],
   "source": [
    "Question 17"
   ]
  },
  {
   "cell_type": "code",
   "execution_count": 39,
   "id": "9bf4c723",
   "metadata": {
    "scrolled": true
   },
   "outputs": [
    {
     "name": "stdout",
     "output_type": "stream",
     "text": [
      "<re.Match object; span=(34, 43), match='exersises'>\n"
     ]
    }
   ],
   "source": [
    "import re\n",
    "text='python exercises,PHP exercises,c# exersises'\n",
    "pattern='exersises'\n",
    "print(re.search(pattern,text))\n"
   ]
  },
  {
   "cell_type": "code",
   "execution_count": null,
   "id": "c1e7869a",
   "metadata": {},
   "outputs": [],
   "source": [
    "Question 18"
   ]
  },
  {
   "cell_type": "code",
   "execution_count": 4,
   "id": "27834f2c",
   "metadata": {},
   "outputs": [
    {
     "name": "stdout",
     "output_type": "stream",
     "text": [
      "exercises 7 16\n",
      "exercises 22 31\n",
      "exercises 36 45\n"
     ]
    }
   ],
   "source": [
    "import re\n",
    "text = 'Python exercises, PHP exercises, C# exercises'\n",
    "all_matches= re.finditer('exercises', text)\n",
    "for match in all_matches:\n",
    "    print(match.group(), match.start(), match.end())"
   ]
  },
  {
   "cell_type": "code",
   "execution_count": null,
   "id": "fc236c68",
   "metadata": {},
   "outputs": [],
   "source": [
    "Question 19"
   ]
  },
  {
   "cell_type": "code",
   "execution_count": 53,
   "id": "0d71a87f",
   "metadata": {},
   "outputs": [
    {
     "data": {
      "text/plain": [
       "'04-05-2014'"
      ]
     },
     "execution_count": 53,
     "metadata": {},
     "output_type": "execute_result"
    }
   ],
   "source": [
    "import re\n",
    "def new_date_format(date):\n",
    "    return re.sub(r'(\\d{4})-(\\d{2})-(\\d{2})', \"\\\\3-\\\\2-\\\\1\",date)\n",
    "dt1=\"2014-05-04\"\n",
    "new_date_format(dt1)"
   ]
  },
  {
   "cell_type": "code",
   "execution_count": null,
   "id": "4fc04159",
   "metadata": {},
   "outputs": [],
   "source": [
    "Question 20"
   ]
  },
  {
   "cell_type": "code",
   "execution_count": 5,
   "id": "1d948ec6",
   "metadata": {},
   "outputs": [
    {
     "name": "stdout",
     "output_type": "stream",
     "text": [
      "True\n",
      "True\n",
      "True\n",
      "True\n",
      "False\n",
      "False\n",
      "False\n"
     ]
    }
   ],
   "source": [
    "def is_decimal(num):\n",
    "    import re\n",
    "    dnumre = re.compile(r\"\"\"^[0-9]+(\\.[0-9]{1,2})?$\"\"\")\n",
    "    result = dnumre.search(num)\n",
    "    return bool(result)\n",
    "\n",
    "print(is_decimal('123.11'))\n",
    "print(is_decimal('123.1'))\n",
    "print(is_decimal('123'))\n",
    "print(is_decimal('0.21'))\n",
    "\n",
    "print(is_decimal('123.1214'))\n",
    "print(is_decimal('3.124587'))\n",
    "print(is_decimal('e666.86'))\n"
   ]
  },
  {
   "cell_type": "code",
   "execution_count": null,
   "id": "9fe8047b",
   "metadata": {},
   "outputs": [],
   "source": [
    "Question 21"
   ]
  },
  {
   "cell_type": "code",
   "execution_count": 6,
   "id": "78744f9a",
   "metadata": {},
   "outputs": [
    {
     "name": "stdout",
     "output_type": "stream",
     "text": [
      "50\n",
      "Index position: 62\n"
     ]
    }
   ],
   "source": [
    "import re\n",
    "text = \"The following example creates an ArrayList with a capacity of 50 elements.\"\n",
    "\n",
    "for m in re.finditer(\"\\d+\", text):\n",
    "    print(m.group(0))\n",
    "    print(\"Index position:\", m.start())"
   ]
  },
  {
   "cell_type": "code",
   "execution_count": null,
   "id": "ad10a7b0",
   "metadata": {},
   "outputs": [],
   "source": [
    "Question 22"
   ]
  },
  {
   "cell_type": "code",
   "execution_count": 7,
   "id": "47dd6dc8",
   "metadata": {},
   "outputs": [
    {
     "name": "stdout",
     "output_type": "stream",
     "text": [
      "950\n"
     ]
    }
   ],
   "source": [
    "import re\n",
    "text=\"My marks in each semester are: 947, 896, 926, 524, 734, 950, 642\"\n",
    "num=re.findall(\"\\d+\", text)\n",
    "print(max(num))"
   ]
  },
  {
   "cell_type": "code",
   "execution_count": null,
   "id": "4e949f8b",
   "metadata": {},
   "outputs": [],
   "source": [
    "Question 23"
   ]
  },
  {
   "cell_type": "code",
   "execution_count": 9,
   "id": "daea2c12",
   "metadata": {},
   "outputs": [
    {
     "name": "stdout",
     "output_type": "stream",
     "text": [
      "Regular Expression Is An Important Topic In Python\n"
     ]
    }
   ],
   "source": [
    "import re\n",
    "def capital_words_spaces(text):\n",
    "    return re.sub(r\"(\\w)([A-Z])\", r\"\\1 \\2\", text)\n",
    "   \n",
    "print(capital_words_spaces(\"RegularExpressionIsAnImportantTopicInPython\"))"
   ]
  },
  {
   "cell_type": "code",
   "execution_count": null,
   "id": "03ee53b4",
   "metadata": {},
   "outputs": [],
   "source": [
    "Question 24"
   ]
  },
  {
   "cell_type": "code",
   "execution_count": 10,
   "id": "85bde51b",
   "metadata": {},
   "outputs": [
    {
     "name": "stdout",
     "output_type": "stream",
     "text": [
      "True\n"
     ]
    }
   ],
   "source": [
    "import re\n",
    "text= \"Python is an Amazing language\"\n",
    "print(bool(re.search('[A-Z][a-z]+', text))) "
   ]
  },
  {
   "cell_type": "code",
   "execution_count": null,
   "id": "4c94af0e",
   "metadata": {},
   "outputs": [],
   "source": [
    "Question 25"
   ]
  },
  {
   "cell_type": "code",
   "execution_count": 11,
   "id": "b10756e5",
   "metadata": {},
   "outputs": [
    {
     "name": "stdout",
     "output_type": "stream",
     "text": [
      "Hello hello world\n"
     ]
    }
   ],
   "source": [
    "import re\n",
    "text=\"Hello hello world world\"\n",
    "print(re.sub('\\\\b(\\\\w+)(?:\\\\W+\\\\1\\\\b)+',r'\\1', text))"
   ]
  },
  {
   "cell_type": "code",
   "execution_count": null,
   "id": "13e90bb4",
   "metadata": {},
   "outputs": [],
   "source": [
    "Question 26"
   ]
  },
  {
   "cell_type": "code",
   "execution_count": 18,
   "id": "2ec55ffa",
   "metadata": {},
   "outputs": [
    {
     "name": "stdout",
     "output_type": "stream",
     "text": [
      "Matched\n"
     ]
    }
   ],
   "source": [
    "import re\n",
    "def text(str):\n",
    "    x= re.compile(r'[A-Za-z0-9]$')\n",
    "    if re.search(x, str):\n",
    "        print('Matched')\n",
    "    else:\n",
    "        print ('Not Matched')\n",
    "        \n",
    "text('python1245')"
   ]
  },
  {
   "cell_type": "code",
   "execution_count": null,
   "id": "7d40eac9",
   "metadata": {},
   "outputs": [],
   "source": [
    "Question 27"
   ]
  },
  {
   "cell_type": "code",
   "execution_count": 21,
   "id": "07b337e9",
   "metadata": {},
   "outputs": [
    {
     "name": "stdout",
     "output_type": "stream",
     "text": [
      "['#Doltiwal', '#xyzabc', '#Demonetization']\n"
     ]
    }
   ],
   "source": [
    "import re\n",
    "text=\"\"\"RT @kapil_kausik: #Doltiwal I mean #xyzabc is \"hurt\" by #Demonetization as the same has rendered USELESS <ed><U+00A0><U+00BD><ed><U+00B1><U+0089> \"acquired funds\" No wo\"\"\"\n",
    "match=re.findall('#\\S+', text)\n",
    "print (match)"
   ]
  },
  {
   "cell_type": "code",
   "execution_count": null,
   "id": "032c00e6",
   "metadata": {},
   "outputs": [],
   "source": [
    "Question 28"
   ]
  },
  {
   "cell_type": "code",
   "execution_count": 23,
   "id": "b0441b5d",
   "metadata": {},
   "outputs": [
    {
     "name": "stdout",
     "output_type": "stream",
     "text": [
      "@Jags123456 Bharat band on 28??<ed><ed>Those who  are protesting #demonetization  are all different party leaders\n"
     ]
    }
   ],
   "source": [
    "import re\n",
    "text= \"@Jags123456 Bharat band on 28??<ed><U+00A0><U+00BD><ed><U+00B8><U+0082>Those who  are protesting #demonetization  are all different party leaders\"\n",
    "match=re.compile('<U\\+[A-Z0-9]*>')\n",
    "print(re.sub(match, '', text))"
   ]
  },
  {
   "cell_type": "code",
   "execution_count": null,
   "id": "e9bdee37",
   "metadata": {},
   "outputs": [],
   "source": [
    "Question 29"
   ]
  },
  {
   "cell_type": "code",
   "execution_count": 25,
   "id": "a415d255",
   "metadata": {},
   "outputs": [
    {
     "name": "stdout",
     "output_type": "stream",
     "text": [
      "['12-09-1992', '15-12-1999']\n"
     ]
    }
   ],
   "source": [
    "import re\n",
    "text=\"Ron was born on 12-09-1992 and he was admitted to school 15-12-1999.\"\n",
    "print(re.findall('\\d{2}-\\d{2}-\\d{4}', text))"
   ]
  },
  {
   "cell_type": "code",
   "execution_count": null,
   "id": "4ce57a24",
   "metadata": {},
   "outputs": [],
   "source": [
    "Question 30"
   ]
  },
  {
   "cell_type": "code",
   "execution_count": 26,
   "id": "45cfda52",
   "metadata": {},
   "outputs": [
    {
     "name": "stdout",
     "output_type": "stream",
     "text": [
      " following example creates  ArrayList  a capacity   elements. 4 elements   added   ArrayList   ArrayList  trimmed accordingly.\n"
     ]
    }
   ],
   "source": [
    "import re\n",
    "text=\"The following example creates an ArrayList with a capacity of 50 elements. 4 elements are then added to the ArrayList and the ArrayList is trimmed accordingly.\"\n",
    "print(re.sub(r'\\b\\w{2,4}\\b',\"\", text))   "
   ]
  },
  {
   "cell_type": "code",
   "execution_count": null,
   "id": "892db607",
   "metadata": {},
   "outputs": [],
   "source": []
  }
 ],
 "metadata": {
  "kernelspec": {
   "display_name": "Python 3 (ipykernel)",
   "language": "python",
   "name": "python3"
  },
  "language_info": {
   "codemirror_mode": {
    "name": "ipython",
    "version": 3
   },
   "file_extension": ".py",
   "mimetype": "text/x-python",
   "name": "python",
   "nbconvert_exporter": "python",
   "pygments_lexer": "ipython3",
   "version": "3.9.13"
  }
 },
 "nbformat": 4,
 "nbformat_minor": 5
}
