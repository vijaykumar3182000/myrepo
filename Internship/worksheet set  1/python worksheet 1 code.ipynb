{
 "cells": [
  {
   "cell_type": "code",
   "execution_count": null,
   "id": "d51ad648",
   "metadata": {},
   "outputs": [],
   "source": [
    "QUESTION 11"
   ]
  },
  {
   "cell_type": "code",
   "execution_count": null,
   "id": "3f783af3",
   "metadata": {},
   "outputs": [],
   "source": [
    "num = int(input())\n",
    "if num < 0:\n",
    "    print ('Factorial does not exist')\n",
    "elif num == 0:\n",
    "    print(1)\n",
    "else:\n",
    "    fact = 1\n",
    "    for i in range (1, num + 1):\n",
    "        fact = fact * i\n",
    "    print(fact)\n"
   ]
  },
  {
   "cell_type": "code",
   "execution_count": null,
   "id": "b54dd974",
   "metadata": {},
   "outputs": [],
   "source": [
    "QUESTION 12"
   ]
  },
  {
   "cell_type": "code",
   "execution_count": null,
   "id": "ee5f892b",
   "metadata": {},
   "outputs": [],
   "source": [
    "num= int(input(\"Enter the number:\"))\n",
    "\n",
    "if num==0|1:\n",
    "    print(num, 'is neither prime nor composite')\n",
    "elif num>1:\n",
    "    for i in range(2, num):\n",
    "        if (num%i)==0:\n",
    "            print(num, 'is a prime number')\n",
    "        else:\n",
    "            print(num, 'is a composite number')"
   ]
  },
  {
   "cell_type": "code",
   "execution_count": null,
   "id": "2e5b096f",
   "metadata": {},
   "outputs": [],
   "source": [
    "QUESTION 13"
   ]
  },
  {
   "cell_type": "code",
   "execution_count": null,
   "id": "2785dd00",
   "metadata": {},
   "outputs": [],
   "source": [
    "def Palindrome(string): \n",
    "    if (string == string[::-1]) : \n",
    "        print \"string is a palindrome.\" \n",
    "    else: \n",
    "        print \"string is not a palindrome.\" \n",
    " \n",
    "string = input (\"Enter string: \") \n",
    " \n",
    "print(isPalindrome(string)) "
   ]
  },
  {
   "cell_type": "code",
   "execution_count": null,
   "id": "e9a0674e",
   "metadata": {},
   "outputs": [],
   "source": [
    "QUESTION 14"
   ]
  },
  {
   "cell_type": "code",
   "execution_count": null,
   "id": "ff8d48c5",
   "metadata": {},
   "outputs": [],
   "source": [
    "import math\n",
    "\n",
    "a = float(input(\"Give side a: \"))\n",
    "b = float(input(\"Give side b: \"))\n",
    "\n",
    "c =(a ** 2 + b ** 2)*1/2\n",
    "\n",
    "print(\"The length of the hypotenuse c is {c}\")"
   ]
  },
  {
   "cell_type": "code",
   "execution_count": null,
   "id": "b910e225",
   "metadata": {},
   "outputs": [],
   "source": [
    "QUESTION 15"
   ]
  },
  {
   "cell_type": "code",
   "execution_count": null,
   "id": "4be3ea73",
   "metadata": {},
   "outputs": [],
   "source": [
    "string=input(\"Enter the string: \")\n",
    "char=input(\"Please enter the char to find frequency of ta character\\n\")\n",
    "count=0\n",
    "i=0\n",
    "while(i<len(string)):\n",
    "    if(string[i]==char):\n",
    "        count=count+1\n",
    "    i=i+1\n",
    "print(\"The frequency of the \",char,\"in the string is: \",count)"
   ]
  }
 ],
 "metadata": {
  "kernelspec": {
   "display_name": "Python 3 (ipykernel)",
   "language": "python",
   "name": "python3"
  },
  "language_info": {
   "codemirror_mode": {
    "name": "ipython",
    "version": 3
   },
   "file_extension": ".py",
   "mimetype": "text/x-python",
   "name": "python",
   "nbconvert_exporter": "python",
   "pygments_lexer": "ipython3",
   "version": "3.9.13"
  }
 },
 "nbformat": 4,
 "nbformat_minor": 5
}
