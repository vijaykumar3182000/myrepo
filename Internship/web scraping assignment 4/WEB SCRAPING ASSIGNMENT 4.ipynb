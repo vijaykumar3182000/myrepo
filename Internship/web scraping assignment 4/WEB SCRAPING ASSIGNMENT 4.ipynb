{
 "cells": [
  {
   "cell_type": "code",
   "execution_count": null,
   "id": "b076405e",
   "metadata": {},
   "outputs": [],
   "source": [
    "                                                  # web scraping assignment 4"
   ]
  },
  {
   "cell_type": "code",
   "execution_count": 1,
   "id": "fe3edaba",
   "metadata": {},
   "outputs": [],
   "source": [
    "# Importing Libraries\n",
    "import selenium\n",
    "import pandas as pd\n",
    "import time\n",
    "from bs4 import BeautifulSoup\n",
    "\n",
    "# Importing selenium webdriver \n",
    "from selenium import webdriver\n",
    "import warnings\n",
    "warnings.filterwarnings('ignore')\n",
    "\n",
    "# Importing required Exceptions which needs to handled\n",
    "from selenium.common.exceptions import StaleElementReferenceException, NoSuchElementException\n",
    "from selenium.webdriver.common.by import By\n",
    "#Importing requests\n",
    "import requests\n",
    "\n",
    "# importing regex\n",
    "import re"
   ]
  },
  {
   "cell_type": "code",
   "execution_count": null,
   "id": "4ada6e17",
   "metadata": {},
   "outputs": [],
   "source": []
  },
  {
   "cell_type": "code",
   "execution_count": null,
   "id": "3291e296",
   "metadata": {},
   "outputs": [],
   "source": [
    "# QUESTION 1"
   ]
  },
  {
   "cell_type": "code",
   "execution_count": 2,
   "id": "6f6b5ae3",
   "metadata": {},
   "outputs": [],
   "source": [
    "# Connecting to the webdriver\n",
    "driver=webdriver.Chrome()\n",
    "# Getting the webpage of mentioned url \n",
    "url = \"https://en.wikipedia.org/wiki/List_of_most-viewed_YouTube_videos\"\n",
    "driver.get(url)"
   ]
  },
  {
   "cell_type": "code",
   "execution_count": 3,
   "id": "0b089ff6",
   "metadata": {},
   "outputs": [],
   "source": [
    "rank=[i.text for i in driver.find_elements(By.XPATH,'//table[@class=\"wikitable sortable jquery-tablesorter\"]/tbody/tr/td[1]')][:30]"
   ]
  },
  {
   "cell_type": "code",
   "execution_count": 4,
   "id": "05767279",
   "metadata": {},
   "outputs": [
    {
     "data": {
      "text/plain": [
       "30"
      ]
     },
     "execution_count": 4,
     "metadata": {},
     "output_type": "execute_result"
    }
   ],
   "source": [
    "len(rank)"
   ]
  },
  {
   "cell_type": "code",
   "execution_count": 5,
   "id": "c4b62482",
   "metadata": {},
   "outputs": [],
   "source": [
    "name=[i.text for i in driver.find_elements(By.XPATH,'//table[@class=\"wikitable sortable jquery-tablesorter\"]/tbody/tr/td[2]')][:30]"
   ]
  },
  {
   "cell_type": "code",
   "execution_count": 6,
   "id": "c9fe86d0",
   "metadata": {},
   "outputs": [
    {
     "data": {
      "text/plain": [
       "30"
      ]
     },
     "execution_count": 6,
     "metadata": {},
     "output_type": "execute_result"
    }
   ],
   "source": [
    "len(name)"
   ]
  },
  {
   "cell_type": "code",
   "execution_count": 7,
   "id": "57f5d737",
   "metadata": {},
   "outputs": [
    {
     "name": "stdout",
     "output_type": "stream",
     "text": [
      "['\"Baby Shark Dance\"[6]', '\"Despacito\"[9]', '\"Johny Johny Yes Papa\"[16]', '\"Bath Song\"[17]', '\"Shape of You\"[18]', '\"See You Again\"[21]', '\"Wheels on the Bus\"[26]', '\"Phonics Song with Two Words\"[27]', '\"Uptown Funk\"[28]', '\"Learning Colors – Colorful Eggs on a Farm\"[29]', '\"Gangnam Style\"[30]', '\"Masha and the Bear – Recipe for Disaster\"[35]', '\"Dame Tu Cosita\"[36]', '\"Axel F\"[37]', '\"Sugar\"[38]', '\"Counting Stars\"[39]', '\"Roar\"[40]', '\"Baa Baa Black Sheep\"[41]', '\"Waka Waka (This Time for Africa)\"[42]', '\"Sorry\"[43]', '\"Lakdi Ki Kathi\"[44]', '\"Thinking Out Loud\"[45]', '\"Dark Horse\"[46]', '\"Humpty the train on a fruits ride\"[47]', '\"Perfect\"[48]', '\"Faded\"[49]', '\"Let Her Go\"[50]', '\"Girls Like You\"[51]', '\"Lean On\"[52]', '\"Bailando\"[53]']\n"
     ]
    }
   ],
   "source": [
    "print(name)"
   ]
  },
  {
   "cell_type": "code",
   "execution_count": 8,
   "id": "a3ac602b",
   "metadata": {},
   "outputs": [],
   "source": [
    "artist=[i.text for i in driver.find_elements(By.XPATH,'//table[@class=\"wikitable sortable jquery-tablesorter\"]/tbody/tr/td[3]')][:30]"
   ]
  },
  {
   "cell_type": "code",
   "execution_count": 9,
   "id": "56bd69e7",
   "metadata": {},
   "outputs": [
    {
     "data": {
      "text/plain": [
       "30"
      ]
     },
     "execution_count": 9,
     "metadata": {},
     "output_type": "execute_result"
    }
   ],
   "source": [
    "len(artist)"
   ]
  },
  {
   "cell_type": "code",
   "execution_count": 10,
   "id": "b2bf5c43",
   "metadata": {},
   "outputs": [],
   "source": [
    "upload_date=[i.text for i in driver.find_elements(By.XPATH,'//table[@class=\"wikitable sortable jquery-tablesorter\"]/tbody/tr/td[5]')][:30]"
   ]
  },
  {
   "cell_type": "code",
   "execution_count": 11,
   "id": "7c5e14ec",
   "metadata": {},
   "outputs": [],
   "source": [
    "views=[i.text for i in driver.find_elements(By.XPATH,'//table[@class=\"wikitable sortable jquery-tablesorter\"]/tbody/tr/td[4]')][:30]"
   ]
  },
  {
   "cell_type": "code",
   "execution_count": 12,
   "id": "1b7fd699",
   "metadata": {},
   "outputs": [],
   "source": [
    "youtube=pd.DataFrame({\"rank\":rank,\"name\":name,\"artist\":artist,\"upload\":upload_date,\"views\":views})"
   ]
  },
  {
   "cell_type": "code",
   "execution_count": 13,
   "id": "95b7308d",
   "metadata": {},
   "outputs": [
    {
     "data": {
      "text/html": [
       "<div>\n",
       "<style scoped>\n",
       "    .dataframe tbody tr th:only-of-type {\n",
       "        vertical-align: middle;\n",
       "    }\n",
       "\n",
       "    .dataframe tbody tr th {\n",
       "        vertical-align: top;\n",
       "    }\n",
       "\n",
       "    .dataframe thead th {\n",
       "        text-align: right;\n",
       "    }\n",
       "</style>\n",
       "<table border=\"1\" class=\"dataframe\">\n",
       "  <thead>\n",
       "    <tr style=\"text-align: right;\">\n",
       "      <th></th>\n",
       "      <th>rank</th>\n",
       "      <th>name</th>\n",
       "      <th>artist</th>\n",
       "      <th>upload</th>\n",
       "      <th>views</th>\n",
       "    </tr>\n",
       "  </thead>\n",
       "  <tbody>\n",
       "    <tr>\n",
       "      <th>0</th>\n",
       "      <td>1.</td>\n",
       "      <td>\"Baby Shark Dance\"[6]</td>\n",
       "      <td>Pinkfong Baby Shark - Kids' Songs &amp; Stories</td>\n",
       "      <td>June 17, 2016</td>\n",
       "      <td>13.36</td>\n",
       "    </tr>\n",
       "    <tr>\n",
       "      <th>1</th>\n",
       "      <td>2.</td>\n",
       "      <td>\"Despacito\"[9]</td>\n",
       "      <td>Luis Fonsi</td>\n",
       "      <td>January 12, 2017</td>\n",
       "      <td>8.26</td>\n",
       "    </tr>\n",
       "    <tr>\n",
       "      <th>2</th>\n",
       "      <td>3.</td>\n",
       "      <td>\"Johny Johny Yes Papa\"[16]</td>\n",
       "      <td>LooLoo Kids - Nursery Rhymes and Children's Songs</td>\n",
       "      <td>October 8, 2016</td>\n",
       "      <td>6.80</td>\n",
       "    </tr>\n",
       "    <tr>\n",
       "      <th>3</th>\n",
       "      <td>4.</td>\n",
       "      <td>\"Bath Song\"[17]</td>\n",
       "      <td>Cocomelon - Nursery Rhymes</td>\n",
       "      <td>May 2, 2018</td>\n",
       "      <td>6.41</td>\n",
       "    </tr>\n",
       "    <tr>\n",
       "      <th>4</th>\n",
       "      <td>5.</td>\n",
       "      <td>\"Shape of You\"[18]</td>\n",
       "      <td>Ed Sheeran</td>\n",
       "      <td>January 30, 2017</td>\n",
       "      <td>6.08</td>\n",
       "    </tr>\n",
       "    <tr>\n",
       "      <th>5</th>\n",
       "      <td>6.</td>\n",
       "      <td>\"See You Again\"[21]</td>\n",
       "      <td>Wiz Khalifa</td>\n",
       "      <td>April 6, 2015</td>\n",
       "      <td>6.03</td>\n",
       "    </tr>\n",
       "    <tr>\n",
       "      <th>6</th>\n",
       "      <td>7.</td>\n",
       "      <td>\"Wheels on the Bus\"[26]</td>\n",
       "      <td>Cocomelon - Nursery Rhymes</td>\n",
       "      <td>May 24, 2018</td>\n",
       "      <td>5.56</td>\n",
       "    </tr>\n",
       "    <tr>\n",
       "      <th>7</th>\n",
       "      <td>8.</td>\n",
       "      <td>\"Phonics Song with Two Words\"[27]</td>\n",
       "      <td>ChuChu TV Nursery Rhymes &amp; Kids Songs</td>\n",
       "      <td>March 6, 2014</td>\n",
       "      <td>5.48</td>\n",
       "    </tr>\n",
       "    <tr>\n",
       "      <th>8</th>\n",
       "      <td>9.</td>\n",
       "      <td>\"Uptown Funk\"[28]</td>\n",
       "      <td>Mark Ronson</td>\n",
       "      <td>November 19, 2014</td>\n",
       "      <td>5.03</td>\n",
       "    </tr>\n",
       "    <tr>\n",
       "      <th>9</th>\n",
       "      <td>10.</td>\n",
       "      <td>\"Learning Colors – Colorful Eggs on a Farm\"[29]</td>\n",
       "      <td>Miroshka TV</td>\n",
       "      <td>February 27, 2018</td>\n",
       "      <td>4.97</td>\n",
       "    </tr>\n",
       "    <tr>\n",
       "      <th>10</th>\n",
       "      <td>11.</td>\n",
       "      <td>\"Gangnam Style\"[30]</td>\n",
       "      <td>officialpsy</td>\n",
       "      <td>July 15, 2012</td>\n",
       "      <td>4.90</td>\n",
       "    </tr>\n",
       "    <tr>\n",
       "      <th>11</th>\n",
       "      <td>12.</td>\n",
       "      <td>\"Masha and the Bear – Recipe for Disaster\"[35]</td>\n",
       "      <td>Get Movies</td>\n",
       "      <td>January 31, 2012</td>\n",
       "      <td>4.56</td>\n",
       "    </tr>\n",
       "    <tr>\n",
       "      <th>12</th>\n",
       "      <td>13.</td>\n",
       "      <td>\"Dame Tu Cosita\"[36]</td>\n",
       "      <td>Ultra Records</td>\n",
       "      <td>April 5, 2018</td>\n",
       "      <td>4.44</td>\n",
       "    </tr>\n",
       "    <tr>\n",
       "      <th>13</th>\n",
       "      <td>14.</td>\n",
       "      <td>\"Axel F\"[37]</td>\n",
       "      <td>Crazy Frog</td>\n",
       "      <td>June 16, 2009</td>\n",
       "      <td>4.06</td>\n",
       "    </tr>\n",
       "    <tr>\n",
       "      <th>14</th>\n",
       "      <td>15.</td>\n",
       "      <td>\"Sugar\"[38]</td>\n",
       "      <td>Maroon 5</td>\n",
       "      <td>January 14, 2015</td>\n",
       "      <td>3.93</td>\n",
       "    </tr>\n",
       "    <tr>\n",
       "      <th>15</th>\n",
       "      <td>16.</td>\n",
       "      <td>\"Counting Stars\"[39]</td>\n",
       "      <td>OneRepublic</td>\n",
       "      <td>May 31, 2013</td>\n",
       "      <td>3.87</td>\n",
       "    </tr>\n",
       "    <tr>\n",
       "      <th>16</th>\n",
       "      <td>17.</td>\n",
       "      <td>\"Roar\"[40]</td>\n",
       "      <td>Katy Perry</td>\n",
       "      <td>September 5, 2013</td>\n",
       "      <td>3.87</td>\n",
       "    </tr>\n",
       "    <tr>\n",
       "      <th>17</th>\n",
       "      <td>18.</td>\n",
       "      <td>\"Baa Baa Black Sheep\"[41]</td>\n",
       "      <td>Cocomelon - Nursery Rhymes</td>\n",
       "      <td>June 25, 2018</td>\n",
       "      <td>3.78</td>\n",
       "    </tr>\n",
       "    <tr>\n",
       "      <th>18</th>\n",
       "      <td>19.</td>\n",
       "      <td>\"Waka Waka (This Time for Africa)\"[42]</td>\n",
       "      <td>Shakira</td>\n",
       "      <td>June 4, 2010</td>\n",
       "      <td>3.73</td>\n",
       "    </tr>\n",
       "    <tr>\n",
       "      <th>19</th>\n",
       "      <td>20.</td>\n",
       "      <td>\"Sorry\"[43]</td>\n",
       "      <td>Justin Bieber</td>\n",
       "      <td>October 22, 2015</td>\n",
       "      <td>3.71</td>\n",
       "    </tr>\n",
       "    <tr>\n",
       "      <th>20</th>\n",
       "      <td>21.</td>\n",
       "      <td>\"Lakdi Ki Kathi\"[44]</td>\n",
       "      <td>Jingle Toons</td>\n",
       "      <td>June 14, 2018</td>\n",
       "      <td>3.69</td>\n",
       "    </tr>\n",
       "    <tr>\n",
       "      <th>21</th>\n",
       "      <td>22.</td>\n",
       "      <td>\"Thinking Out Loud\"[45]</td>\n",
       "      <td>Ed Sheeran</td>\n",
       "      <td>October 7, 2014</td>\n",
       "      <td>3.66</td>\n",
       "    </tr>\n",
       "    <tr>\n",
       "      <th>22</th>\n",
       "      <td>23.</td>\n",
       "      <td>\"Dark Horse\"[46]</td>\n",
       "      <td>Katy Perry</td>\n",
       "      <td>February 20, 2014</td>\n",
       "      <td>3.59</td>\n",
       "    </tr>\n",
       "    <tr>\n",
       "      <th>23</th>\n",
       "      <td>24.</td>\n",
       "      <td>\"Humpty the train on a fruits ride\"[47]</td>\n",
       "      <td>Kiddiestv Hindi - Nursery Rhymes &amp; Kids Songs</td>\n",
       "      <td>January 26, 2018</td>\n",
       "      <td>3.55</td>\n",
       "    </tr>\n",
       "    <tr>\n",
       "      <th>24</th>\n",
       "      <td>25.</td>\n",
       "      <td>\"Perfect\"[48]</td>\n",
       "      <td>Ed Sheeran</td>\n",
       "      <td>November 9, 2017</td>\n",
       "      <td>3.54</td>\n",
       "    </tr>\n",
       "    <tr>\n",
       "      <th>25</th>\n",
       "      <td>26.</td>\n",
       "      <td>\"Faded\"[49]</td>\n",
       "      <td>Alan Walker</td>\n",
       "      <td>December 3, 2015</td>\n",
       "      <td>3.51</td>\n",
       "    </tr>\n",
       "    <tr>\n",
       "      <th>26</th>\n",
       "      <td>27.</td>\n",
       "      <td>\"Let Her Go\"[50]</td>\n",
       "      <td>Passenger</td>\n",
       "      <td>July 25, 2012</td>\n",
       "      <td>3.51</td>\n",
       "    </tr>\n",
       "    <tr>\n",
       "      <th>27</th>\n",
       "      <td>28.</td>\n",
       "      <td>\"Girls Like You\"[51]</td>\n",
       "      <td>Maroon 5</td>\n",
       "      <td>May 31, 2018</td>\n",
       "      <td>3.48</td>\n",
       "    </tr>\n",
       "    <tr>\n",
       "      <th>28</th>\n",
       "      <td>29.</td>\n",
       "      <td>\"Lean On\"[52]</td>\n",
       "      <td>Major Lazer Official</td>\n",
       "      <td>March 22, 2015</td>\n",
       "      <td>3.46</td>\n",
       "    </tr>\n",
       "    <tr>\n",
       "      <th>29</th>\n",
       "      <td>30.</td>\n",
       "      <td>\"Bailando\"[53]</td>\n",
       "      <td>Enrique Iglesias</td>\n",
       "      <td>April 11, 2014</td>\n",
       "      <td>3.45</td>\n",
       "    </tr>\n",
       "  </tbody>\n",
       "</table>\n",
       "</div>"
      ],
      "text/plain": [
       "   rank                                             name  \\\n",
       "0    1.                            \"Baby Shark Dance\"[6]   \n",
       "1    2.                                   \"Despacito\"[9]   \n",
       "2    3.                       \"Johny Johny Yes Papa\"[16]   \n",
       "3    4.                                  \"Bath Song\"[17]   \n",
       "4    5.                               \"Shape of You\"[18]   \n",
       "5    6.                              \"See You Again\"[21]   \n",
       "6    7.                          \"Wheels on the Bus\"[26]   \n",
       "7    8.                \"Phonics Song with Two Words\"[27]   \n",
       "8    9.                                \"Uptown Funk\"[28]   \n",
       "9   10.  \"Learning Colors – Colorful Eggs on a Farm\"[29]   \n",
       "10  11.                              \"Gangnam Style\"[30]   \n",
       "11  12.   \"Masha and the Bear – Recipe for Disaster\"[35]   \n",
       "12  13.                             \"Dame Tu Cosita\"[36]   \n",
       "13  14.                                     \"Axel F\"[37]   \n",
       "14  15.                                      \"Sugar\"[38]   \n",
       "15  16.                             \"Counting Stars\"[39]   \n",
       "16  17.                                       \"Roar\"[40]   \n",
       "17  18.                        \"Baa Baa Black Sheep\"[41]   \n",
       "18  19.           \"Waka Waka (This Time for Africa)\"[42]   \n",
       "19  20.                                      \"Sorry\"[43]   \n",
       "20  21.                             \"Lakdi Ki Kathi\"[44]   \n",
       "21  22.                          \"Thinking Out Loud\"[45]   \n",
       "22  23.                                 \"Dark Horse\"[46]   \n",
       "23  24.          \"Humpty the train on a fruits ride\"[47]   \n",
       "24  25.                                    \"Perfect\"[48]   \n",
       "25  26.                                      \"Faded\"[49]   \n",
       "26  27.                                 \"Let Her Go\"[50]   \n",
       "27  28.                             \"Girls Like You\"[51]   \n",
       "28  29.                                    \"Lean On\"[52]   \n",
       "29  30.                                   \"Bailando\"[53]   \n",
       "\n",
       "                                               artist             upload  \\\n",
       "0         Pinkfong Baby Shark - Kids' Songs & Stories      June 17, 2016   \n",
       "1                                          Luis Fonsi   January 12, 2017   \n",
       "2   LooLoo Kids - Nursery Rhymes and Children's Songs    October 8, 2016   \n",
       "3                          Cocomelon - Nursery Rhymes        May 2, 2018   \n",
       "4                                          Ed Sheeran   January 30, 2017   \n",
       "5                                         Wiz Khalifa      April 6, 2015   \n",
       "6                          Cocomelon - Nursery Rhymes       May 24, 2018   \n",
       "7               ChuChu TV Nursery Rhymes & Kids Songs      March 6, 2014   \n",
       "8                                         Mark Ronson  November 19, 2014   \n",
       "9                                         Miroshka TV  February 27, 2018   \n",
       "10                                        officialpsy      July 15, 2012   \n",
       "11                                         Get Movies   January 31, 2012   \n",
       "12                                      Ultra Records      April 5, 2018   \n",
       "13                                         Crazy Frog      June 16, 2009   \n",
       "14                                           Maroon 5   January 14, 2015   \n",
       "15                                        OneRepublic       May 31, 2013   \n",
       "16                                         Katy Perry  September 5, 2013   \n",
       "17                         Cocomelon - Nursery Rhymes      June 25, 2018   \n",
       "18                                            Shakira       June 4, 2010   \n",
       "19                                      Justin Bieber   October 22, 2015   \n",
       "20                                       Jingle Toons      June 14, 2018   \n",
       "21                                         Ed Sheeran    October 7, 2014   \n",
       "22                                         Katy Perry  February 20, 2014   \n",
       "23      Kiddiestv Hindi - Nursery Rhymes & Kids Songs   January 26, 2018   \n",
       "24                                         Ed Sheeran   November 9, 2017   \n",
       "25                                        Alan Walker   December 3, 2015   \n",
       "26                                          Passenger      July 25, 2012   \n",
       "27                                           Maroon 5       May 31, 2018   \n",
       "28                               Major Lazer Official     March 22, 2015   \n",
       "29                                   Enrique Iglesias     April 11, 2014   \n",
       "\n",
       "    views  \n",
       "0   13.36  \n",
       "1    8.26  \n",
       "2    6.80  \n",
       "3    6.41  \n",
       "4    6.08  \n",
       "5    6.03  \n",
       "6    5.56  \n",
       "7    5.48  \n",
       "8    5.03  \n",
       "9    4.97  \n",
       "10   4.90  \n",
       "11   4.56  \n",
       "12   4.44  \n",
       "13   4.06  \n",
       "14   3.93  \n",
       "15   3.87  \n",
       "16   3.87  \n",
       "17   3.78  \n",
       "18   3.73  \n",
       "19   3.71  \n",
       "20   3.69  \n",
       "21   3.66  \n",
       "22   3.59  \n",
       "23   3.55  \n",
       "24   3.54  \n",
       "25   3.51  \n",
       "26   3.51  \n",
       "27   3.48  \n",
       "28   3.46  \n",
       "29   3.45  "
      ]
     },
     "execution_count": 13,
     "metadata": {},
     "output_type": "execute_result"
    }
   ],
   "source": [
    "youtube"
   ]
  },
  {
   "cell_type": "code",
   "execution_count": 14,
   "id": "cfdbdd76",
   "metadata": {},
   "outputs": [],
   "source": [
    "driver.close()"
   ]
  },
  {
   "cell_type": "code",
   "execution_count": null,
   "id": "645dc37c",
   "metadata": {},
   "outputs": [],
   "source": []
  },
  {
   "cell_type": "code",
   "execution_count": null,
   "id": "9ab02c55",
   "metadata": {},
   "outputs": [],
   "source": [
    "# QUESTION 2"
   ]
  },
  {
   "cell_type": "code",
   "execution_count": 15,
   "id": "8954e47f",
   "metadata": {},
   "outputs": [],
   "source": [
    "url='http://www.bcci.tv/'\n",
    "driver=webdriver.Chrome()\n",
    "driver.get(url)"
   ]
  },
  {
   "cell_type": "code",
   "execution_count": 16,
   "id": "986d8ca5",
   "metadata": {},
   "outputs": [],
   "source": [
    "driver.find_element(By.XPATH,'/html/body/div[17]/button').click()"
   ]
  },
  {
   "cell_type": "code",
   "execution_count": 18,
   "id": "b8d0efcf",
   "metadata": {},
   "outputs": [],
   "source": [
    "driver.find_element(By.XPATH,'/html/body/nav/div[1]/div[2]/ul[1]/li[2]/a').click()"
   ]
  },
  {
   "cell_type": "code",
   "execution_count": 19,
   "id": "40d10eb8",
   "metadata": {},
   "outputs": [],
   "source": [
    "matchtitle=[i.text.replace('-',\"\") for i in driver.find_elements(By.XPATH,'//div[@class=\"match-card-top\"]/h5')]"
   ]
  },
  {
   "cell_type": "code",
   "execution_count": 20,
   "id": "b6acda96",
   "metadata": {},
   "outputs": [
    {
     "data": {
      "text/plain": [
       "8"
      ]
     },
     "execution_count": 20,
     "metadata": {},
     "output_type": "execute_result"
    }
   ],
   "source": [
    "len(matchtitle)"
   ]
  },
  {
   "cell_type": "code",
   "execution_count": 21,
   "id": "41a8aa4e",
   "metadata": {},
   "outputs": [],
   "source": [
    "series=[i.text.replace('-',\"\") for i in driver.find_elements(By.XPATH,'//span[@class=\"matchOrderText ng-binding ng-scope\"]')]"
   ]
  },
  {
   "cell_type": "code",
   "execution_count": 22,
   "id": "289eb1a5",
   "metadata": {},
   "outputs": [
    {
     "data": {
      "text/plain": [
       "8"
      ]
     },
     "execution_count": 22,
     "metadata": {},
     "output_type": "execute_result"
    }
   ],
   "source": [
    "len(series)"
   ]
  },
  {
   "cell_type": "code",
   "execution_count": 23,
   "id": "03b5c0d9",
   "metadata": {},
   "outputs": [],
   "source": [
    "place=[i.text for i in driver.find_elements(By.XPATH,'//span[@class=\"ng-binding ng-scope\"]')]"
   ]
  },
  {
   "cell_type": "code",
   "execution_count": 24,
   "id": "50a466c7",
   "metadata": {},
   "outputs": [],
   "source": [
    "date=[i.text.replace('-',\"\") for i in driver.find_elements(By.XPATH,'//div[@class=\"match-dates ng-binding\"]')]"
   ]
  },
  {
   "cell_type": "code",
   "execution_count": 25,
   "id": "7668115f",
   "metadata": {},
   "outputs": [],
   "source": [
    "time=[i.text.replace('IST',\"\") for i in driver.find_elements(By.XPATH,'//div[@class=\"match-info\"]/div[2]')]"
   ]
  },
  {
   "cell_type": "code",
   "execution_count": 26,
   "id": "b74bdbfa",
   "metadata": {},
   "outputs": [
    {
     "data": {
      "text/plain": [
       "8"
      ]
     },
     "execution_count": 26,
     "metadata": {},
     "output_type": "execute_result"
    }
   ],
   "source": [
    "len(place)"
   ]
  },
  {
   "cell_type": "code",
   "execution_count": 27,
   "id": "9e06f3af",
   "metadata": {},
   "outputs": [
    {
     "data": {
      "text/plain": [
       "(8, 8)"
      ]
     },
     "execution_count": 27,
     "metadata": {},
     "output_type": "execute_result"
    }
   ],
   "source": [
    "len(date),len(time)"
   ]
  },
  {
   "cell_type": "code",
   "execution_count": 28,
   "id": "caaa5d02",
   "metadata": {},
   "outputs": [
    {
     "name": "stdout",
     "output_type": "stream",
     "text": [
      "['21 SEP 2023', '22 SEP 2023', '24 SEP 2023', '27 SEP 2023', '30 SEP 2023', '3 OCT 2023', '3 OCT 2023', '8 OCT 2023']\n"
     ]
    }
   ],
   "source": [
    "print(date)"
   ]
  },
  {
   "cell_type": "code",
   "execution_count": 29,
   "id": "991a252f",
   "metadata": {},
   "outputs": [],
   "source": [
    "international_fixtures=pd.DataFrame({'match_title':matchtitle,'series':series,'place':place,'date':date,'time':time})"
   ]
  },
  {
   "cell_type": "code",
   "execution_count": 30,
   "id": "529192ee",
   "metadata": {},
   "outputs": [
    {
     "data": {
      "text/html": [
       "<div>\n",
       "<style scoped>\n",
       "    .dataframe tbody tr th:only-of-type {\n",
       "        vertical-align: middle;\n",
       "    }\n",
       "\n",
       "    .dataframe tbody tr th {\n",
       "        vertical-align: top;\n",
       "    }\n",
       "\n",
       "    .dataframe thead th {\n",
       "        text-align: right;\n",
       "    }\n",
       "</style>\n",
       "<table border=\"1\" class=\"dataframe\">\n",
       "  <thead>\n",
       "    <tr style=\"text-align: right;\">\n",
       "      <th></th>\n",
       "      <th>match_title</th>\n",
       "      <th>series</th>\n",
       "      <th>place</th>\n",
       "      <th>date</th>\n",
       "      <th>time</th>\n",
       "    </tr>\n",
       "  </thead>\n",
       "  <tbody>\n",
       "    <tr>\n",
       "      <th>0</th>\n",
       "      <td>19TH ASIAN GAMES HANGZHOU 2022</td>\n",
       "      <td>1st T20I</td>\n",
       "      <td>Pingfeng Cricket Field,</td>\n",
       "      <td>21 SEP 2023</td>\n",
       "      <td>6:30 AM</td>\n",
       "    </tr>\n",
       "    <tr>\n",
       "      <th>1</th>\n",
       "      <td>AUSTRALIA TOUR OF INDIA 202324</td>\n",
       "      <td>1st ODI</td>\n",
       "      <td>Punjab Cricket Association IS Bindra Stadium,</td>\n",
       "      <td>22 SEP 2023</td>\n",
       "      <td>1:30 PM</td>\n",
       "    </tr>\n",
       "    <tr>\n",
       "      <th>2</th>\n",
       "      <td>AUSTRALIA TOUR OF INDIA 202324</td>\n",
       "      <td>2nd ODI</td>\n",
       "      <td>Holkar Cricket Stadium,</td>\n",
       "      <td>24 SEP 2023</td>\n",
       "      <td>1:30 PM</td>\n",
       "    </tr>\n",
       "    <tr>\n",
       "      <th>3</th>\n",
       "      <td>AUSTRALIA TOUR OF INDIA 202324</td>\n",
       "      <td>3rd ODI</td>\n",
       "      <td>Saurashtra Cricket Association Stadium,</td>\n",
       "      <td>27 SEP 2023</td>\n",
       "      <td>1:30 PM</td>\n",
       "    </tr>\n",
       "    <tr>\n",
       "      <th>4</th>\n",
       "      <td>ICC MENS WORLD CUP 2023 WARMUP MATCHES</td>\n",
       "      <td>1st ODI</td>\n",
       "      <td>Barsapara Cricket Stadium,</td>\n",
       "      <td>30 SEP 2023</td>\n",
       "      <td>2:00 PM</td>\n",
       "    </tr>\n",
       "    <tr>\n",
       "      <th>5</th>\n",
       "      <td>19TH ASIAN GAMES HANGZHOU 2022</td>\n",
       "      <td>1st T20I</td>\n",
       "      <td>Pingfeng Cricket Field,</td>\n",
       "      <td>3 OCT 2023</td>\n",
       "      <td>6:30 AM</td>\n",
       "    </tr>\n",
       "    <tr>\n",
       "      <th>6</th>\n",
       "      <td>ICC MENS WORLD CUP 2023 WARMUP MATCHES</td>\n",
       "      <td>2nd ODI</td>\n",
       "      <td>Greenfield International Stadium,</td>\n",
       "      <td>3 OCT 2023</td>\n",
       "      <td>2:00 PM</td>\n",
       "    </tr>\n",
       "    <tr>\n",
       "      <th>7</th>\n",
       "      <td>ICC MENS WORLD CUP 2023</td>\n",
       "      <td>1st ODI</td>\n",
       "      <td>MA Chidambaram Stadium,</td>\n",
       "      <td>8 OCT 2023</td>\n",
       "      <td>2:00 PM</td>\n",
       "    </tr>\n",
       "  </tbody>\n",
       "</table>\n",
       "</div>"
      ],
      "text/plain": [
       "                              match_title     series  \\\n",
       "0          19TH ASIAN GAMES HANGZHOU 2022  1st T20I    \n",
       "1          AUSTRALIA TOUR OF INDIA 202324   1st ODI    \n",
       "2          AUSTRALIA TOUR OF INDIA 202324   2nd ODI    \n",
       "3          AUSTRALIA TOUR OF INDIA 202324   3rd ODI    \n",
       "4  ICC MENS WORLD CUP 2023 WARMUP MATCHES   1st ODI    \n",
       "5          19TH ASIAN GAMES HANGZHOU 2022  1st T20I    \n",
       "6  ICC MENS WORLD CUP 2023 WARMUP MATCHES   2nd ODI    \n",
       "7                 ICC MENS WORLD CUP 2023   1st ODI    \n",
       "\n",
       "                                           place         date      time  \n",
       "0                        Pingfeng Cricket Field,  21 SEP 2023  6:30 AM   \n",
       "1  Punjab Cricket Association IS Bindra Stadium,  22 SEP 2023  1:30 PM   \n",
       "2                        Holkar Cricket Stadium,  24 SEP 2023  1:30 PM   \n",
       "3        Saurashtra Cricket Association Stadium,  27 SEP 2023  1:30 PM   \n",
       "4                     Barsapara Cricket Stadium,  30 SEP 2023  2:00 PM   \n",
       "5                        Pingfeng Cricket Field,   3 OCT 2023  6:30 AM   \n",
       "6              Greenfield International Stadium,   3 OCT 2023  2:00 PM   \n",
       "7                        MA Chidambaram Stadium,   8 OCT 2023  2:00 PM   "
      ]
     },
     "execution_count": 30,
     "metadata": {},
     "output_type": "execute_result"
    }
   ],
   "source": [
    "international_fixtures"
   ]
  },
  {
   "cell_type": "code",
   "execution_count": null,
   "id": "bef265cd",
   "metadata": {},
   "outputs": [],
   "source": []
  },
  {
   "cell_type": "code",
   "execution_count": null,
   "id": "abfe5f46",
   "metadata": {},
   "outputs": [],
   "source": [
    "# QUESTION 3"
   ]
  },
  {
   "cell_type": "code",
   "execution_count": 31,
   "id": "dbc84b28",
   "metadata": {},
   "outputs": [],
   "source": [
    "# Connecting to the webdriver\n",
    "driver=webdriver.Chrome()\n",
    "# Getting the webpage of mentioned url \n",
    "url = \"http://statisticstimes.com/\"\n",
    "driver.get(url)"
   ]
  },
  {
   "cell_type": "code",
   "execution_count": 33,
   "id": "4420ee18",
   "metadata": {},
   "outputs": [],
   "source": [
    "#Clicking on economy section\n",
    "economy = driver.find_element(By.XPATH,'//div[@class=\"navbar\"]//div[2]//button').click()"
   ]
  },
  {
   "cell_type": "code",
   "execution_count": 35,
   "id": "a6e3f941",
   "metadata": {},
   "outputs": [],
   "source": [
    "urls = driver.find_element(By.XPATH,'//div[@class=\"dropdown-content\"]//a[3]')\n",
    "indianeco_page = urls.get_attribute(\"href\")"
   ]
  },
  {
   "cell_type": "code",
   "execution_count": 48,
   "id": "3e00979f",
   "metadata": {},
   "outputs": [],
   "source": [
    "#Going to indian economy page\n",
    "driver.get(indianeco_page)  "
   ]
  },
  {
   "cell_type": "code",
   "execution_count": 49,
   "id": "b84abbe9",
   "metadata": {},
   "outputs": [],
   "source": [
    "#Scraping data of rank\n",
    "rank= [i.text for i in driver.find_elements(By.XPATH,'//div[@id=\"table_id_wrapper\"]//tbody//tr//td[1]')]"
   ]
  },
  {
   "cell_type": "code",
   "execution_count": 50,
   "id": "0e6a69e7",
   "metadata": {},
   "outputs": [],
   "source": [
    "#Scraping data of state name\n",
    "state_name= [i.text for i in driver.find_elements(By.XPATH,'//div[@id=\"table_id_wrapper\"]//tbody//tr//td[2]')]"
   ]
  },
  {
   "cell_type": "code",
   "execution_count": 51,
   "id": "124531af",
   "metadata": {},
   "outputs": [],
   "source": [
    "# Scraping data of GSDP at current price (18-19)\n",
    "gsdp_1= [i.text for i in driver.find_elements(By.XPATH,'//div[@id=\"table_id_wrapper\"]//tbody//tr//td[3]')]"
   ]
  },
  {
   "cell_type": "code",
   "execution_count": 52,
   "id": "8ecbba0b",
   "metadata": {},
   "outputs": [],
   "source": [
    "#Scraping data of GSDP at current price (17-18)\n",
    "gsdp_2= [i.text for i in driver.find_elements(By.XPATH,'//div[@id=\"table_id_wrapper\"]//tbody//tr//td[4]')]"
   ]
  },
  {
   "cell_type": "code",
   "execution_count": 53,
   "id": "c8b86bcf",
   "metadata": {},
   "outputs": [],
   "source": [
    "#Scraping data of Share(2017)\n",
    "share= [i.text for i in driver.find_elements(By.XPATH,'//div[@id=\"table_id_wrapper\"]//tbody//tr//td[5]')]"
   ]
  },
  {
   "cell_type": "code",
   "execution_count": 54,
   "id": "42971224",
   "metadata": {},
   "outputs": [],
   "source": [
    "#Scraping data of GDP($ billion)\n",
    "gdp= [i.text for i in driver.find_elements(By.XPATH,'//div[@id=\"table_id_wrapper\"]//tbody//tr//td[6]')]"
   ]
  },
  {
   "cell_type": "code",
   "execution_count": 55,
   "id": "bb1a11ec",
   "metadata": {},
   "outputs": [],
   "source": [
    "#DataFraming\n",
    "data=list(zip(rank,state_name,gsdp_1,gsdp_2,share,gdp))"
   ]
  },
  {
   "cell_type": "code",
   "execution_count": 56,
   "id": "303ca949",
   "metadata": {},
   "outputs": [],
   "source": [
    "df=pd.DataFrame(data,columns=['Rank','Indian_State','GSDP(19-20)','GSDP(18-19)','Share','GDP'])"
   ]
  },
  {
   "cell_type": "code",
   "execution_count": 57,
   "id": "59ba915f",
   "metadata": {},
   "outputs": [
    {
     "data": {
      "text/html": [
       "<div>\n",
       "<style scoped>\n",
       "    .dataframe tbody tr th:only-of-type {\n",
       "        vertical-align: middle;\n",
       "    }\n",
       "\n",
       "    .dataframe tbody tr th {\n",
       "        vertical-align: top;\n",
       "    }\n",
       "\n",
       "    .dataframe thead th {\n",
       "        text-align: right;\n",
       "    }\n",
       "</style>\n",
       "<table border=\"1\" class=\"dataframe\">\n",
       "  <thead>\n",
       "    <tr style=\"text-align: right;\">\n",
       "      <th></th>\n",
       "      <th>Rank</th>\n",
       "      <th>Indian_State</th>\n",
       "      <th>GSDP(19-20)</th>\n",
       "      <th>GSDP(18-19)</th>\n",
       "      <th>Share</th>\n",
       "      <th>GDP</th>\n",
       "    </tr>\n",
       "  </thead>\n",
       "  <tbody>\n",
       "  </tbody>\n",
       "</table>\n",
       "</div>"
      ],
      "text/plain": [
       "Empty DataFrame\n",
       "Columns: [Rank, Indian_State, GSDP(19-20), GSDP(18-19), Share, GDP]\n",
       "Index: []"
      ]
     },
     "execution_count": 57,
     "metadata": {},
     "output_type": "execute_result"
    }
   ],
   "source": [
    "df"
   ]
  },
  {
   "cell_type": "code",
   "execution_count": null,
   "id": "d778dbd2",
   "metadata": {},
   "outputs": [],
   "source": []
  },
  {
   "cell_type": "code",
   "execution_count": null,
   "id": "30be9d6e",
   "metadata": {},
   "outputs": [],
   "source": [
    "# QUESTION 4"
   ]
  },
  {
   "cell_type": "code",
   "execution_count": 60,
   "id": "4a65d0fa",
   "metadata": {},
   "outputs": [],
   "source": [
    "# Connecting to the webdriver\n",
    "driver=webdriver.Chrome()\n",
    "#getting the desired webpage.\n",
    "url='https://github.com/'\n",
    "driver.get(url)"
   ]
  },
  {
   "cell_type": "code",
   "execution_count": null,
   "id": "1833aa57",
   "metadata": {},
   "outputs": [],
   "source": [
    "#Getting explore button and clicking on it\n",
    "explore = driver.find_element(By.XPATH,\"/html/body/div[1]/div[1]/header/div/div[1]/deferred-side-panel/div/modal-dialog/div[3]/nav/nav-list/ul/li[1]/a/span[2]\").click()"
   ]
  },
  {
   "cell_type": "code",
   "execution_count": null,
   "id": "55644084",
   "metadata": {},
   "outputs": [],
   "source": [
    "#Getting trending and clicking on it\n",
    "trending = driver.find_element(By.XPATH,\"/html/body/div[1]/div[6]/main/div[2]/div/div/div[3]/div[1]/div[1]/h3/a\").click()"
   ]
  },
  {
   "cell_type": "code",
   "execution_count": null,
   "id": "56db6af8",
   "metadata": {},
   "outputs": [],
   "source": [
    "#scraping repositories title\n",
    "repo_title=[i.text for i in driver.find_elements(By.XPATH,'//a[@class=\"Link\"]')][1:26]"
   ]
  },
  {
   "cell_type": "code",
   "execution_count": null,
   "id": "6c67dcb6",
   "metadata": {},
   "outputs": [],
   "source": [
    " #scraping repositories discription\n",
    "discription=[i.text for i in driver.find_elements(By.XPATH,'//p[@class=\"col-9 color-fg-muted my-1 pr-4\"]')][:25]"
   ]
  },
  {
   "cell_type": "code",
   "execution_count": null,
   "id": "b2b3b113",
   "metadata": {},
   "outputs": [],
   "source": [
    "#scraping languages used   \n",
    "language_used=[i.text for i in driver.find_elements(By.XPATH,'//span[@itemprop=\"programmingLanguage\"]')][:25]"
   ]
  },
  {
   "cell_type": "code",
   "execution_count": null,
   "id": "133ade0e",
   "metadata": {},
   "outputs": [],
   "source": [
    "len(repo_title),len(discription),len(language_used)"
   ]
  },
  {
   "cell_type": "code",
   "execution_count": null,
   "id": "9f59bae3",
   "metadata": {},
   "outputs": [],
   "source": [
    "data=list(zip(repo_title,discription,language_used))"
   ]
  },
  {
   "cell_type": "code",
   "execution_count": null,
   "id": "fe66a2d8",
   "metadata": {},
   "outputs": [],
   "source": [
    "df=pd.DataFrame(data,columns=['Repository_title','Repository_description','Language_used'])"
   ]
  },
  {
   "cell_type": "code",
   "execution_count": null,
   "id": "daba0aee",
   "metadata": {},
   "outputs": [],
   "source": [
    "df"
   ]
  },
  {
   "cell_type": "code",
   "execution_count": null,
   "id": "d20d2213",
   "metadata": {},
   "outputs": [],
   "source": []
  },
  {
   "cell_type": "code",
   "execution_count": null,
   "id": "6e76dcf1",
   "metadata": {},
   "outputs": [],
   "source": [
    "# QUESTION 5"
   ]
  },
  {
   "cell_type": "code",
   "execution_count": null,
   "id": "f58d6368",
   "metadata": {},
   "outputs": [],
   "source": [
    "# to get web drivers\n",
    "driver=webdriver.Chrome()  \n",
    "time.sleep(2)\n",
    "\n",
    "# Opening the billboard\n",
    "url = \"https://www.billboard.com/\"\n",
    "driver.get(url)\n",
    "time.sleep(2)"
   ]
  },
  {
   "cell_type": "code",
   "execution_count": null,
   "id": "f9782d43",
   "metadata": {},
   "outputs": [],
   "source": [
    "#Clicking on option\n",
    "driver.find_element(By.XPATH,\"/html/body/div[3]/header/div/div[4]/div/div[1]/div[1]/button\").click()"
   ]
  },
  {
   "cell_type": "code",
   "execution_count": null,
   "id": "e63d7bf7",
   "metadata": {},
   "outputs": [],
   "source": [
    "#Clicking on charts\n",
    "driver.find_element(By.XPATH,\"/html/body/div[3]/div[9]/div/div/div/ul/li[1]/h3/a\").click()"
   ]
  },
  {
   "cell_type": "code",
   "execution_count": null,
   "id": "665213e1",
   "metadata": {},
   "outputs": [],
   "source": [
    "# clicking view chart\n",
    "driver.find_element(By.XPATH,\"/html/body/div[3]/main/div[2]/div[1]/div[1]/div/div/div[3]/a\").click()"
   ]
  },
  {
   "cell_type": "code",
   "execution_count": null,
   "id": "55d50e6b",
   "metadata": {},
   "outputs": [],
   "source": [
    "#Scraping data of song name\n",
    "song_name = [i.text for i in driver.find_elements(By.XPATH,'//div[@class=\"o-chart-results-list-row-container\"]/ul/li[4]/ul/li/h3')][:100]"
   ]
  },
  {
   "cell_type": "code",
   "execution_count": null,
   "id": "c46242cc",
   "metadata": {},
   "outputs": [],
   "source": [
    "len(song_name)"
   ]
  },
  {
   "cell_type": "code",
   "execution_count": null,
   "id": "4f4f98b2",
   "metadata": {},
   "outputs": [],
   "source": [
    "#Scraping data of artist name\n",
    "artist_name = [i.text for i in driver.find_elements(By.XPATH,'//div[@class=\"o-chart-results-list-row-container\"]/ul/li[4]/ul/li/span')][:400:4]"
   ]
  },
  {
   "cell_type": "code",
   "execution_count": null,
   "id": "533babf6",
   "metadata": {},
   "outputs": [],
   "source": [
    "len(artist_name)"
   ]
  },
  {
   "cell_type": "code",
   "execution_count": null,
   "id": "d79d46be",
   "metadata": {},
   "outputs": [],
   "source": [
    "print(artist_name)"
   ]
  },
  {
   "cell_type": "code",
   "execution_count": null,
   "id": "88043d19",
   "metadata": {},
   "outputs": [],
   "source": [
    "#Scraping data of last_week_rank\n",
    "last_week_rank = [i.text for i in driver.find_elements(By.XPATH,'//div[@class=\"o-chart-results-list-row-container\"]/ul/li[4]/ul/li[4]')]"
   ]
  },
  {
   "cell_type": "code",
   "execution_count": null,
   "id": "ffc0863f",
   "metadata": {},
   "outputs": [],
   "source": [
    "len(last_week_rank)"
   ]
  },
  {
   "cell_type": "code",
   "execution_count": null,
   "id": "4505032b",
   "metadata": {},
   "outputs": [],
   "source": [
    "print(last_week_rank)"
   ]
  },
  {
   "cell_type": "code",
   "execution_count": null,
   "id": "3325a576",
   "metadata": {},
   "outputs": [],
   "source": [
    "#Scraping data of peak_rank\n",
    "peak_rank = [i.text for i in driver.find_elements(By.XPATH,'//div[@class=\"o-chart-results-list-row-container\"]/ul/li[4]/ul/li[5]')]"
   ]
  },
  {
   "cell_type": "code",
   "execution_count": null,
   "id": "ea956c27",
   "metadata": {},
   "outputs": [],
   "source": [
    "len(peak_rank)"
   ]
  },
  {
   "cell_type": "code",
   "execution_count": null,
   "id": "55a141d6",
   "metadata": {},
   "outputs": [],
   "source": [
    "#Scraping data of weeks_on_board\n",
    "wkson_board = [i.text for i in driver.find_elements(By.XPATH,'//div[@class=\"o-chart-results-list-row-container\"]/ul/li[4]/ul/li[6]')]"
   ]
  },
  {
   "cell_type": "code",
   "execution_count": null,
   "id": "943b8833",
   "metadata": {},
   "outputs": [],
   "source": [
    "len(wkson_board)"
   ]
  },
  {
   "cell_type": "code",
   "execution_count": null,
   "id": "f97ffb5d",
   "metadata": {},
   "outputs": [],
   "source": [
    "data=list(zip(song_name,artist_name,last_week_rank,peak_rank,wkson_board))"
   ]
  },
  {
   "cell_type": "code",
   "execution_count": null,
   "id": "a1a54156",
   "metadata": {},
   "outputs": [],
   "source": [
    "df=pd.DataFrame(data,columns=['SONG_NAME','ARTIST_NAME','LAST_WEEK_RANK','PEAK_RANK','WEEKS_ON_BOARD'])"
   ]
  },
  {
   "cell_type": "code",
   "execution_count": null,
   "id": "2fd30fc4",
   "metadata": {},
   "outputs": [],
   "source": [
    "df"
   ]
  },
  {
   "cell_type": "code",
   "execution_count": null,
   "id": "6bec22b6",
   "metadata": {},
   "outputs": [],
   "source": []
  },
  {
   "cell_type": "code",
   "execution_count": null,
   "id": "cdb952ba",
   "metadata": {},
   "outputs": [],
   "source": [
    "# QUESTION 6"
   ]
  },
  {
   "cell_type": "code",
   "execution_count": null,
   "id": "bbf1b8d6",
   "metadata": {},
   "outputs": [],
   "source": [
    "# to get web drivers\n",
    "driver=webdriver.Chrome()\n",
    "time.sleep(2)\n",
    "\n",
    "# Opening the theguardian.com\n",
    "url = \"https://www.theguardian.com/news/datablog/2012/aug/09/best-selling-books-all-time-fifty-shades-grey-compare\"\n",
    "driver.get(url)\n",
    "time.sleep(2)"
   ]
  },
  {
   "cell_type": "code",
   "execution_count": null,
   "id": "14c1efdc",
   "metadata": {},
   "outputs": [],
   "source": [
    "#scraping data of book names\n",
    "book_name=[i.text for i in driver.find_elements(By.XPATH,'//table[@class=\"in-article sortable\"]/tbody/tr/td[2]')]"
   ]
  },
  {
   "cell_type": "code",
   "execution_count": null,
   "id": "ebb1818e",
   "metadata": {},
   "outputs": [],
   "source": [
    "#Scraping data of author names\n",
    "author_name=[i.text for i in driver.find_elements(By.XPATH,'//table[@class=\"in-article sortable\"]/tbody/tr/td[3]')]"
   ]
  },
  {
   "cell_type": "code",
   "execution_count": null,
   "id": "682679f0",
   "metadata": {},
   "outputs": [],
   "source": [
    "#Scraping data of volumes sold\n",
    "volume_sold=[i.text for i in driver.find_elements(By.XPATH,'//table[@class=\"in-article sortable\"]/tbody/tr/td[4]')]"
   ]
  },
  {
   "cell_type": "code",
   "execution_count": null,
   "id": "9743f730",
   "metadata": {},
   "outputs": [],
   "source": [
    "#Scraping data of publisher names\n",
    "publisher_name=[i.text for i in driver.find_elements(By.XPATH,'//table[@class=\"in-article sortable\"]/tbody/tr/td[5]')]"
   ]
  },
  {
   "cell_type": "code",
   "execution_count": null,
   "id": "dc75bb0b",
   "metadata": {},
   "outputs": [],
   "source": [
    "#Scraping data of genre\n",
    "genre=[i.text for i in driver.find_elements(By.XPATH,'//table[@class=\"in-article sortable\"]/tbody/tr/td[6]')]"
   ]
  },
  {
   "cell_type": "code",
   "execution_count": null,
   "id": "95224f64",
   "metadata": {},
   "outputs": [],
   "source": [
    "len(book_name),len(author_name),len(volume_sold),len(publisher_name),len(genre)"
   ]
  },
  {
   "cell_type": "code",
   "execution_count": null,
   "id": "ca6af884",
   "metadata": {},
   "outputs": [],
   "source": [
    "data=list(zip(book_name,author_name,volume_sold,publisher_name,genre))"
   ]
  },
  {
   "cell_type": "code",
   "execution_count": null,
   "id": "6c8b6dfe",
   "metadata": {},
   "outputs": [],
   "source": [
    "df=pd.DataFrame(data,columns=['BOOK_NAME','AUTHOR_NAME','VOLUMES_SOLD','PUBLISHER_NAME','GENRE'])"
   ]
  },
  {
   "cell_type": "code",
   "execution_count": null,
   "id": "0b8bab44",
   "metadata": {},
   "outputs": [],
   "source": [
    "df"
   ]
  },
  {
   "cell_type": "code",
   "execution_count": null,
   "id": "0163dac4",
   "metadata": {},
   "outputs": [],
   "source": []
  },
  {
   "cell_type": "code",
   "execution_count": null,
   "id": "09fa289f",
   "metadata": {},
   "outputs": [],
   "source": [
    "# QUESTION 7"
   ]
  },
  {
   "cell_type": "code",
   "execution_count": null,
   "id": "3f06e0ed",
   "metadata": {},
   "outputs": [],
   "source": [
    "# to get web drivers\n",
    "driver=webdriver.Chrome()\n",
    "time.sleep(2)\n",
    "\n",
    "# Opening the imdb.com\n",
    "url = \"http://www.imdb.com/list/ls095964455/\"\n",
    "driver.get(url)\n",
    "time.sleep(2)"
   ]
  },
  {
   "cell_type": "code",
   "execution_count": null,
   "id": "1199182a",
   "metadata": {},
   "outputs": [],
   "source": [
    "#scraping data of book names\n",
    "movie_name=[i.text for i in driver.find_elements(By.XPATH,'//div[@class=\"lister-item-content\"]/h3//a')]"
   ]
  },
  {
   "cell_type": "code",
   "execution_count": null,
   "id": "43834335",
   "metadata": {},
   "outputs": [],
   "source": [
    "#Scraping data of year\n",
    "year=[i.text for i in driver.find_elements(By.XPATH,'//div[@class=\"lister-item-content\"]/h3/span[2]')]"
   ]
  },
  {
   "cell_type": "code",
   "execution_count": null,
   "id": "12df9d87",
   "metadata": {},
   "outputs": [],
   "source": [
    "#Scraping data of genre\n",
    "genre=[i.text for i in driver.find_elements(By.XPATH,'//span[@class=\"genre\"]')]"
   ]
  },
  {
   "cell_type": "code",
   "execution_count": null,
   "id": "ffefc14e",
   "metadata": {},
   "outputs": [],
   "source": [
    "#Scraping data of run_time\n",
    "run_time=[i.text for i in driver.find_elements(By.XPATH,'//span[@class=\"runtime\"]')]"
   ]
  },
  {
   "cell_type": "code",
   "execution_count": null,
   "id": "1941e24a",
   "metadata": {},
   "outputs": [],
   "source": [
    "#Scraping data of ratings\n",
    "ratings=[i.text for i in driver.find_elements(By.XPATH,'//div[@class=\"ipl-rating-star small\"]')]"
   ]
  },
  {
   "cell_type": "code",
   "execution_count": null,
   "id": "23140829",
   "metadata": {},
   "outputs": [],
   "source": [
    "#Scraping data of votes\n",
    "votes=[i.text for i in driver.find_elements(By.XPATH,'//span[@name=\"nv\"]')]"
   ]
  },
  {
   "cell_type": "code",
   "execution_count": null,
   "id": "6d26c74b",
   "metadata": {},
   "outputs": [],
   "source": [
    "len(movie_name),len(year),len(genre),len(run_time),len(ratings),len(votes)"
   ]
  },
  {
   "cell_type": "code",
   "execution_count": null,
   "id": "5e3e14be",
   "metadata": {},
   "outputs": [],
   "source": [
    "data=list(zip(movie_name,year,genre,run_time,ratings,votes))"
   ]
  },
  {
   "cell_type": "code",
   "execution_count": null,
   "id": "18dda6fc",
   "metadata": {},
   "outputs": [],
   "source": [
    "df=pd.DataFrame(data,columns=['MOVIE_NAME','YEAR','GENRE','RUN_TIME','RATINGS','VOTES'])"
   ]
  },
  {
   "cell_type": "code",
   "execution_count": null,
   "id": "d5ddf509",
   "metadata": {},
   "outputs": [],
   "source": [
    "df"
   ]
  },
  {
   "cell_type": "code",
   "execution_count": null,
   "id": "ca5875a5",
   "metadata": {},
   "outputs": [],
   "source": []
  }
 ],
 "metadata": {
  "kernelspec": {
   "display_name": "Python 3 (ipykernel)",
   "language": "python",
   "name": "python3"
  },
  "language_info": {
   "codemirror_mode": {
    "name": "ipython",
    "version": 3
   },
   "file_extension": ".py",
   "mimetype": "text/x-python",
   "name": "python",
   "nbconvert_exporter": "python",
   "pygments_lexer": "ipython3",
   "version": "3.9.13"
  }
 },
 "nbformat": 4,
 "nbformat_minor": 5
}
