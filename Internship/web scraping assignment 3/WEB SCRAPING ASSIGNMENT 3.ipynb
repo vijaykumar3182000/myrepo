{
 "cells": [
  {
   "cell_type": "code",
   "execution_count": null,
   "id": "b48ec460",
   "metadata": {},
   "outputs": [],
   "source": [
    "                                             #WEB SCRAPING ASSIGNMENT 3"
   ]
  },
  {
   "cell_type": "code",
   "execution_count": 1,
   "id": "6f9057de",
   "metadata": {},
   "outputs": [],
   "source": [
    " #Importing Libraries\n",
    "import selenium\n",
    "import pandas as pd\n",
    "import time\n",
    "from bs4 import BeautifulSoup\n",
    "\n",
    "# Importing selenium webdriver \n",
    "from selenium import webdriver\n",
    "import warnings\n",
    "warnings.filterwarnings('ignore')\n",
    "\n",
    "# Importing required Exceptions which needs to handled\n",
    "from selenium.common.exceptions import StaleElementReferenceException, NoSuchElementException\n",
    "from selenium.webdriver.common.by import By\n",
    "#Importing requests\n",
    "import requests\n",
    "\n",
    "# importing regex\n",
    "import re"
   ]
  },
  {
   "cell_type": "code",
   "execution_count": null,
   "id": "2ad35567",
   "metadata": {},
   "outputs": [],
   "source": []
  },
  {
   "cell_type": "code",
   "execution_count": null,
   "id": "33a82785",
   "metadata": {},
   "outputs": [],
   "source": [
    "# QUESTION 1"
   ]
  },
  {
   "cell_type": "code",
   "execution_count": 2,
   "id": "ac581eef",
   "metadata": {},
   "outputs": [
    {
     "name": "stdout",
     "output_type": "stream",
     "text": [
      "Enter the product you want to search : guitar\n"
     ]
    }
   ],
   "source": [
    "# connect to webdriver\n",
    "driver=webdriver.Chrome() \n",
    "time.sleep(2)\n",
    "\n",
    "# to get url\n",
    "url = \"https://www.amazon.in/\"\n",
    "driver.get(url)\n",
    "\n",
    "time.sleep(7)\n",
    "# input the keywords that user wants to search\n",
    "search = input('Enter the product you want to search : ')"
   ]
  },
  {
   "cell_type": "code",
   "execution_count": 3,
   "id": "e34353fb",
   "metadata": {},
   "outputs": [],
   "source": [
    "# to Locate searc_bar by id\n",
    "search_bar = driver.find_element(By.ID,\"twotabsearchtextbox\") \n",
    "# to send user input to search bar\n",
    "search_bar.send_keys(search)\n",
    " # to Locate search_button by xpath\n",
    "search_button = driver.find_element(By.XPATH,'//div[@class=\"nav-search-submit nav-sprite\"]/span/input')      \n",
    "search_button.click()  "
   ]
  },
  {
   "cell_type": "code",
   "execution_count": null,
   "id": "0dd5a23d",
   "metadata": {},
   "outputs": [],
   "source": []
  },
  {
   "cell_type": "code",
   "execution_count": null,
   "id": "1f82bf76",
   "metadata": {},
   "outputs": [],
   "source": [
    "#QUESTION 2"
   ]
  },
  {
   "cell_type": "code",
   "execution_count": 4,
   "id": "443f96a2",
   "metadata": {},
   "outputs": [],
   "source": [
    "#Making empty lists and scraping the required spots\n",
    "Product_name = []\n",
    "Brand_name= []\n",
    "Price = []\n",
    "Return = []\n",
    "Expected_Delivery = []\n",
    "Availability = []"
   ]
  },
  {
   "cell_type": "code",
   "execution_count": 5,
   "id": "82c6263c",
   "metadata": {},
   "outputs": [],
   "source": [
    "#collecting all the Product URLS\n",
    "urls = []\n",
    "for i in range(0,3):\n",
    "    Page_urls=driver.find_elements(By.XPATH,'//a[@class=\"a-link-normal s-underline-text s-underline-link-text s-link-style a-text-normal\"]')#collecting urls of all the guitar\n",
    "    for i in Page_urls:\n",
    "        urls.append(i.get_attribute('href'))\n",
    "        \n",
    "    #next button \n",
    "    nxt_btn=driver.find_element(By.XPATH,'//a[@class=\"s-pagination-item s-pagination-next s-pagination-button s-pagination-separator\"]') \n",
    "    url=nxt_btn.get_attribute('href')\n",
    "    driver.get(url)\n",
    "    time.sleep(2)"
   ]
  },
  {
   "cell_type": "code",
   "execution_count": 6,
   "id": "b33827de",
   "metadata": {},
   "outputs": [],
   "source": [
    "#Start with for loop\n",
    "for i in urls:\n",
    "    driver.get(i)\n",
    "    time.sleep(2)"
   ]
  },
  {
   "cell_type": "code",
   "execution_count": null,
   "id": "a82ff467",
   "metadata": {},
   "outputs": [],
   "source": [
    "#Scraping product name\n",
    "    try:\n",
    "        produc=driver.find_element(By.XPATH,'/html/body/div[2]/div[2]/div[5]/div[3]/div[4]/div[1]/div/h1/span')\n",
    "        Product_name.append(produc.text)\n",
    "    except NoSuchElementException as e:\n",
    "        Product_name.append(\"-\")\n",
    "        \n",
    "        \n",
    "    #Scraping brand name\n",
    "    try:\n",
    "        brand=driver.find_element(By.XPATH,'//div[@id=\"bylineInfo_feature_div\"]/div/a')\n",
    "        Brand_name.append(brand.text)\n",
    "    except NoSuchElementException as e:\n",
    "        Brand_name.append(\"-\")\n",
    "        \n",
    "        \n",
    "    #Scraping Price\n",
    "    try:\n",
    "        pric=driver.find_element(By.XPATH,'//span[@class=\"a-price-whole\"]')  \n",
    "        Price.append(pric.text)\n",
    "    except NoSuchElementException as e:\n",
    "        Price.append(\"-\")\n",
    "        \n",
    "        #Scraping Return/Exchange\n",
    "    try:\n",
    "        retur=driver.find_element(By.XPATH,'//div[@data-name=\"RETURNS_POLICY\"]/span/div[2]/a')\n",
    "        Return.append(retur.text)\n",
    "    except NoSuchElementException as e:\n",
    "        Return.append(\"-\")\n",
    "        \n",
    "     \n",
    "    #Scraping  Expected_Delivery\n",
    "    try:\n",
    "        delivary=driver.find_element(By.XPATH,'//span[@class=\"a-color-base a-text-bold\"]')\n",
    "        Expected_Delivery.append(delivary.text)\n",
    "    except NoSuchElementException as e:\n",
    "        Expected_Delivery.append(\"-\")\n",
    "        \n",
    "        \n",
    "    #Scraping Availability\n",
    "    try:\n",
    "        avail=driver.find_element(By.XPATH,'//div[@id=\"availability\"]')\n",
    "        Availability.append(avail.text)\n",
    "    except NoSuchElementException as e:\n",
    "        Availability.append(\"-\")"
   ]
  },
  {
   "cell_type": "code",
   "execution_count": null,
   "id": "23789f89",
   "metadata": {},
   "outputs": [],
   "source": [
    "# To make dataframe\n",
    "Guitar=pd.DataFrame({})\n",
    "Guitar['Name'] = Product_name\n",
    "Guitar['Brand'] = Brand_name\n",
    "Guitar['Price'] = Price\n",
    "Guitar['Return'] = Return\n",
    "Guitar['Expected_Delivery'] = Expected_Delivery\n",
    "Guitar['Availability'] = Availability\n",
    "Guitar['Urls'] = urls"
   ]
  },
  {
   "cell_type": "code",
   "execution_count": null,
   "id": "df6180de",
   "metadata": {},
   "outputs": [],
   "source": [
    "Guitar"
   ]
  },
  {
   "cell_type": "code",
   "execution_count": null,
   "id": "a2f0498e",
   "metadata": {},
   "outputs": [],
   "source": [
    "driver.close"
   ]
  },
  {
   "cell_type": "code",
   "execution_count": null,
   "id": "1fcacb5d",
   "metadata": {},
   "outputs": [],
   "source": []
  },
  {
   "cell_type": "code",
   "execution_count": null,
   "id": "73220a68",
   "metadata": {},
   "outputs": [],
   "source": [
    "# QUESTION 3"
   ]
  },
  {
   "cell_type": "code",
   "execution_count": 12,
   "id": "540283b8",
   "metadata": {},
   "outputs": [],
   "source": [
    "# Connecting to the webdriver\n",
    "driver=webdriver.Chrome()"
   ]
  },
  {
   "cell_type": "code",
   "execution_count": 13,
   "id": "2d2b95da",
   "metadata": {},
   "outputs": [],
   "source": [
    "#Creating empty list \n",
    "urls = []    #empty list\n",
    "data = []    #empty list"
   ]
  },
  {
   "cell_type": "code",
   "execution_count": 14,
   "id": "84889218",
   "metadata": {},
   "outputs": [],
   "source": [
    "# Getting the webpage of mentioned url \n",
    "url = \"https://images.google.com/\""
   ]
  },
  {
   "cell_type": "code",
   "execution_count": 15,
   "id": "c5c49736",
   "metadata": {},
   "outputs": [],
   "source": [
    "search_item = [\"fruits\", \"cars\", \"Machine Learning\", \"Guitar\", \"Cakes\"]\n",
    "for item in search_item:\n",
    "    driver.get(url)  \n",
    "    time.sleep(5)"
   ]
  },
  {
   "cell_type": "code",
   "execution_count": 18,
   "id": "733c7bd2",
   "metadata": {},
   "outputs": [],
   "source": [
    "# Finding webelement for search_bar\n",
    "search_bar = driver.find_element(By.CLASS_NAME,\"gLFyf\") "
   ]
  },
  {
   "cell_type": "code",
   "execution_count": 20,
   "id": "64104166",
   "metadata": {},
   "outputs": [],
   "source": [
    "# Sending keys to get the keyword for search bar\n",
    "search_bar.send_keys(str(item))"
   ]
  },
  {
   "cell_type": "code",
   "execution_count": 21,
   "id": "10c6ed48",
   "metadata": {},
   "outputs": [],
   "source": [
    "# Clicking on search button\n",
    "search_button = driver.find_element(By.XPATH,'//button[@class=\"Tg7LZd\"]').click()"
   ]
  },
  {
   "cell_type": "code",
   "execution_count": 27,
   "id": "bbbcc450",
   "metadata": {},
   "outputs": [],
   "source": [
    "# Scrolling down the webpage to get some more images\n",
    "for _ in range(50):\n",
    "    driver.execute_script(\"window.scrollBy(0,100)\")\n",
    "        \n",
    "    imgs = driver.find_elements(By.XPATH,'//img[@class=\"rg_i Q4LuWd\"]')\n",
    "img_url = []\n",
    "for image in imgs:\n",
    "    source = image.get_attribute('src')\n",
    "    if source is not None:\n",
    "            if(source[0:4] == 'http'):\n",
    "                img_url.append(source)\n",
    "for i in img_url[:10]:\n",
    "    urls.append(i)\n",
    "                    \n",
    "for i in range(len(urls)):\n",
    "    if i >= 50:\n",
    "        break\n",
    "    print(\"Downloading {0} of {1} images\" .format(i, 50))\n",
    "    response = requests.get(urls[i])\n",
    "    file = open(r\"C:\\Users\\jkart\\Pictures\\fliprobo\"+str(i)+\".jpg\",\"wb\")\n",
    "    file.write(response.content)"
   ]
  },
  {
   "cell_type": "code",
   "execution_count": 28,
   "id": "b6c75068",
   "metadata": {},
   "outputs": [],
   "source": [
    "driver.close()"
   ]
  },
  {
   "cell_type": "code",
   "execution_count": null,
   "id": "ab687c2d",
   "metadata": {},
   "outputs": [],
   "source": []
  },
  {
   "cell_type": "code",
   "execution_count": null,
   "id": "2a351884",
   "metadata": {},
   "outputs": [],
   "source": [
    "# QUESTION 4"
   ]
  },
  {
   "cell_type": "code",
   "execution_count": 29,
   "id": "4c0eb0ba",
   "metadata": {},
   "outputs": [],
   "source": [
    "# connect to wed browser\n",
    "driver = webdriver.Chrome()"
   ]
  },
  {
   "cell_type": "code",
   "execution_count": 30,
   "id": "07ca5253",
   "metadata": {},
   "outputs": [],
   "source": [
    "# To get the web page \n",
    "url = \"https://www.flipkart.com/\"\n",
    "driver.get(url)\n",
    "time.sleep(3)"
   ]
  },
  {
   "cell_type": "code",
   "execution_count": 31,
   "id": "ef401254",
   "metadata": {},
   "outputs": [],
   "source": [
    "#clicking on login popup\n",
    "login_pop=driver.find_element(By.XPATH, '/html/body/div[2]/div/div/button')\n",
    "login_pop.click()"
   ]
  },
  {
   "cell_type": "code",
   "execution_count": 32,
   "id": "e6e4afc0",
   "metadata": {},
   "outputs": [],
   "source": [
    "#sending input in searchbar\n",
    "input= driver.find_element(By.XPATH, '/html/body/div[1]/div/div[1]/div[1]/div[2]/div[2]/form/div/div/input')\n",
    "input.send_keys('redmi smartphone')"
   ]
  },
  {
   "cell_type": "code",
   "execution_count": 33,
   "id": "0eb7e8af",
   "metadata": {},
   "outputs": [],
   "source": [
    "from selenium.common.exceptions import NoSuchElementException, StaleElementReferenceException"
   ]
  },
  {
   "cell_type": "code",
   "execution_count": 34,
   "id": "f370241d",
   "metadata": {},
   "outputs": [],
   "source": [
    "#clicking on search button\n",
    "try:\n",
    "    search_btn=driver.find_element(By.XPATH, '/html/body/div[1]/div/div[1]/div[1]/div[2]/div[2]/form/div/button/svg')\n",
    "    search_btn.click()\n",
    "except NoSuchElementException:\n",
    "    search_btn=driver.find_element(By.XPATH, '/html/body/div[1]/div/div[1]/div[1]/div[2]/div[2]/form/div/button')\n",
    "    search_btn.click()"
   ]
  },
  {
   "cell_type": "code",
   "execution_count": 35,
   "id": "0be6efdc",
   "metadata": {},
   "outputs": [],
   "source": [
    "#scraping name\n",
    "smartphone_name=[i.text for i in driver.find_elements(By.XPATH, '//div[@class=\"_4rR01T\"]')]"
   ]
  },
  {
   "cell_type": "code",
   "execution_count": 36,
   "id": "12445bc2",
   "metadata": {},
   "outputs": [
    {
     "data": {
      "text/plain": [
       "24"
      ]
     },
     "execution_count": 36,
     "metadata": {},
     "output_type": "execute_result"
    }
   ],
   "source": [
    "len(smartphone_name)"
   ]
  },
  {
   "cell_type": "code",
   "execution_count": 37,
   "id": "61e1fa0a",
   "metadata": {},
   "outputs": [
    {
     "data": {
      "text/plain": [
       "['REDMI 12 (Moonstone Silver, 128 GB)',\n",
       " 'REDMI 12 (Pastel Blue, 128 GB)',\n",
       " 'REDMI 12 (Jade Black, 128 GB)',\n",
       " 'REDMI 11 Prime (Peppy Purple, 128 GB)',\n",
       " 'REDMI 12 (Pastel Blue, 128 GB)',\n",
       " 'REDMI A1+ (Black, 32 GB)',\n",
       " 'REDMI A1+ (Light Green, 32 GB)',\n",
       " 'REDMI A2 (Aqua Blue, 64 GB)',\n",
       " 'REDMI A2 (Sea Green, 32 GB)',\n",
       " 'REDMI A2 (Aqua Blue, 64 GB)',\n",
       " 'REDMI A2 (Classic Black, 64 GB)',\n",
       " 'Redmi 9A Sport (Coral Green, 32 GB)',\n",
       " 'Redmi 6A (Blue, 16 GB)',\n",
       " 'REDMI A2 (Aqua Blue, 32 GB)',\n",
       " 'REDMI 11 Prime (Playful Green, 128 GB)',\n",
       " 'REDMI A2 (Sea Green, 64 GB)',\n",
       " 'REDMI A2 (Classic Black, 64 GB)',\n",
       " 'REDMI A2 (Sea Green, 64 GB)',\n",
       " 'REDMI Note 12 (Ice Blue, 64 GB)',\n",
       " 'REDMI 12 5G (Jade Black, 128 GB)',\n",
       " 'REDMI Note 12 (Sunrise Gold, 64 GB)',\n",
       " 'REDMI 12C (?Lavender Purple, 128 GB)',\n",
       " 'REDMI 12C (Mint Green, 128 GB)',\n",
       " 'REDMI 12C (Lavender Purple, 64 GB)']"
      ]
     },
     "execution_count": 37,
     "metadata": {},
     "output_type": "execute_result"
    }
   ],
   "source": [
    "smartphone_name"
   ]
  },
  {
   "cell_type": "code",
   "execution_count": 38,
   "id": "6ce9294a",
   "metadata": {},
   "outputs": [],
   "source": [
    "#scraping brand name\n",
    "brand_name=[i.text.split(\" \")[0] for i in driver.find_elements(By.XPATH, '//div[@class=\"_4rR01T\"]')]"
   ]
  },
  {
   "cell_type": "code",
   "execution_count": 39,
   "id": "0a9bfa94",
   "metadata": {},
   "outputs": [
    {
     "data": {
      "text/plain": [
       "['REDMI',\n",
       " 'REDMI',\n",
       " 'REDMI',\n",
       " 'REDMI',\n",
       " 'REDMI',\n",
       " 'REDMI',\n",
       " 'REDMI',\n",
       " 'REDMI',\n",
       " 'REDMI',\n",
       " 'REDMI',\n",
       " 'REDMI',\n",
       " 'Redmi',\n",
       " 'Redmi',\n",
       " 'REDMI',\n",
       " 'REDMI',\n",
       " 'REDMI',\n",
       " 'REDMI',\n",
       " 'REDMI',\n",
       " 'REDMI',\n",
       " 'REDMI',\n",
       " 'REDMI',\n",
       " 'REDMI',\n",
       " 'REDMI',\n",
       " 'REDMI']"
      ]
     },
     "execution_count": 39,
     "metadata": {},
     "output_type": "execute_result"
    }
   ],
   "source": [
    "brand_name"
   ]
  },
  {
   "cell_type": "code",
   "execution_count": 40,
   "id": "73352ea3",
   "metadata": {},
   "outputs": [],
   "source": [
    "#scraping price\n",
    "for i in smartphone_name:\n",
    "    price=[a.text for a in driver.find_elements(By.XPATH, '//div[@class=\"_30jeq3 _1_WHN1\"]')]"
   ]
  },
  {
   "cell_type": "code",
   "execution_count": 41,
   "id": "f5e7baac",
   "metadata": {},
   "outputs": [
    {
     "data": {
      "text/plain": [
       "['₹9,999',\n",
       " '₹9,999',\n",
       " '₹11,499',\n",
       " '₹10,499',\n",
       " '₹11,499',\n",
       " '₹6,299',\n",
       " '₹6,299',\n",
       " '₹6,773',\n",
       " '₹6,725',\n",
       " '₹6,990',\n",
       " '₹6,787',\n",
       " '₹8,150',\n",
       " '₹6,490',\n",
       " '₹7,128',\n",
       " '₹10,499',\n",
       " '₹6,783',\n",
       " '₹6,725',\n",
       " '₹6,900',\n",
       " '₹12,999',\n",
       " '₹14,088',\n",
       " '₹12,999',\n",
       " '₹9,717',\n",
       " '₹9,917',\n",
       " '₹8,295']"
      ]
     },
     "execution_count": 41,
     "metadata": {},
     "output_type": "execute_result"
    }
   ],
   "source": [
    "len(price)\n",
    "price"
   ]
  },
  {
   "cell_type": "code",
   "execution_count": 42,
   "id": "39d6d0b7",
   "metadata": {},
   "outputs": [],
   "source": [
    "import requests\n",
    "from bs4 import BeautifulSoup"
   ]
  },
  {
   "cell_type": "code",
   "execution_count": 43,
   "id": "51234453",
   "metadata": {},
   "outputs": [],
   "source": [
    "soup=BeautifulSoup(driver.page_source, 'html.parser')"
   ]
  },
  {
   "cell_type": "code",
   "execution_count": 44,
   "id": "193b90dc",
   "metadata": {},
   "outputs": [],
   "source": [
    "#scraping phone info\n",
    "for i in smartphone_name:\n",
    "    info=[i.text for i in driver.find_elements(By.XPATH, '//div[@class=\"fMghEO\"]')]"
   ]
  },
  {
   "cell_type": "code",
   "execution_count": 45,
   "id": "9e0d933b",
   "metadata": {},
   "outputs": [
    {
     "name": "stdout",
     "output_type": "stream",
     "text": [
      "['4 GB RAM | 128 GB ROM | Expandable Upto 1 TB\\n17.25 cm (6.79 inch) Full HD+ Display\\n50MP + 8MP + 2MP | 8MP Front Camera\\n5000 mAh Battery\\nHelio G88 Processor\\n1 Year Manufacturer Warranty for Phone and 6 Months Warranty for in the Box Accessories', '4 GB RAM | 128 GB ROM | Expandable Upto 1 TB\\n17.25 cm (6.79 inch) Full HD+ Display\\n50MP + 8MP + 2MP | 8MP Front Camera\\n5000 mAh Battery\\nHelio G88 Processor\\n1 Year Manufacturer Warranty for Phone and 6 Months Warranty for in the Box Accessories', '6 GB RAM | 128 GB ROM | Expandable Upto 1 TB\\n17.25 cm (6.79 inch) Full HD+ Display\\n50MP + 8MP + 2MP | 8MP Front Camera\\n5000 mAh Battery\\nHelio G88 Processor\\n1 Year Manufacturer Warranty for Phone and 6 Months Warranty for in the Box Accessories', '6 GB RAM | 128 GB ROM | Expandable Upto 512 GB\\n16.71 cm (6.58 inch) Full HD+ Display\\n50MP + 2MP + 2MP | 8MP Front Camera\\n5000 mAh Battery\\nHelio G99 Processor\\n1 Year Manufacturer Warranty for Phone and 6 Months Warranty for In the Box Accessories', '6 GB RAM | 128 GB ROM | Expandable Upto 1 TB\\n17.25 cm (6.79 inch) Full HD+ Display\\n50MP + 8MP + 2MP | 8MP Front Camera\\n5000 mAh Battery\\nHelio G88 Processor\\n1 Year Manufacturer Warranty for Phone and 6 Months Warranty for in the Box Accessories', '2 GB RAM | 32 GB ROM | Expandable Upto 512 GB\\n16.56 cm (6.52 inch) HD+ Display\\n8MP Rear Camera | 5MP Front Camera\\n5000 mAh Lithium Polymer Battery\\nMediatek Helio A22 Processor\\n1 Year Manufacturer Warranty for Phone and 6 Months Warranty for in the Box Accessories', '2 GB RAM | 32 GB ROM | Expandable Upto 512 GB\\n16.56 cm (6.52 inch) HD+ Display\\n8MP Rear Camera | 5MP Front Camera\\n5000 mAh Lithium Polymer Battery\\nMediatek Helio A22 Processor\\n1 Year Manufacturer Warranty for Phone and 6 Months Warranty for in the Box Accessories', '4 GB RAM | 64 GB ROM\\n16.56 cm (6.52 inch) Display\\n8MP Rear Camera\\n5000 mAh Battery\\n2 year on phone domestic', '2 GB RAM | 32 GB ROM\\n16.56 cm (6.52 inch) Display\\n8MP Rear Camera\\n5000 mAh Battery\\n2 year on phone domestic', '2 GB RAM | 64 GB ROM\\n16.56 cm (6.52 inch) Display\\n8MP Rear Camera\\n5000 mAh Battery\\n2 year on phone domestic', '4 GB RAM | 64 GB ROM\\n16.56 cm (6.52 inch) Display\\n8MP Rear Camera\\n5000 mAh Battery\\n2 year on phone domestic', '3 GB RAM | 32 GB ROM\\n16.59 cm (6.53 inch) Display\\n13MP Rear Camera\\n5000 mAh Battery\\n1 Year Warranty', '2 GB RAM | 16 GB ROM | Expandable Upto 128 GB\\n13.84 cm (5.45 inch) Display\\n13MP Rear Camera | 5MP Front Camera\\n3000 mAh Battery\\n1 Year Manufacturer Warranty', '2 GB RAM | 32 GB ROM\\n16.56 cm (6.52 inch) Display\\n8MP Rear Camera\\n5000 mAh Battery\\n2 year on phone domestic', '6 GB RAM | 128 GB ROM | Expandable Upto 512 GB\\n16.71 cm (6.58 inch) Full HD+ Display\\n50MP + 2MP + 2MP | 8MP Front Camera\\n5000 mAh Battery\\nHelio G99 Processor\\n1 Year Manufacturer Warranty for Phone and 6 Months Warranty for In the Box Accessories', '4 GB RAM | 64 GB ROM\\n16.56 cm (6.52 inch) Display\\n8MP Rear Camera\\n5000 mAh Battery\\n2 year on phone domestic', '2 GB RAM | 64 GB ROM\\n16.56 cm (6.52 inch) Display\\n8MP Rear Camera\\n5000 mAh Battery\\n2 year on phone domestic', '2 GB RAM | 64 GB ROM\\n16.56 cm (6.52 inch) Display\\n8MP Rear Camera\\n5000 mAh Battery\\n2 year on phone domestic', '6 GB RAM | 64 GB ROM | Expandable Upto 1 TB\\n16.94 cm (6.67 inch) Full HD+ Super AMOLED Display\\n50MP + 8MP + 2MP | 13MP Front Camera\\n5000 mAh Battery\\nSnapdragon 685 Processor\\n1 Year Manufacturer Warranty for Phone and 6 Months Warranty for In the Box Accessories', '4 GB RAM | 128 GB ROM\\n17.25 cm (6.79 inch) Full HD Display\\n50MP Rear Camera\\n5000 mAh Battery\\n1 Year Domestic Warranty for Phone and 6 Months Warranty for In-Box Accessories', '6 GB RAM | 64 GB ROM | Expandable Upto 1 TB\\n16.94 cm (6.67 inch) Full HD+ Super AMOLED Display\\n50MP + 8MP + 2MP | 13MP Front Camera\\n5000 mAh Battery\\nSnapdragon 685 Processor\\n1 Year Manufacturer Warranty for Phone and 6 Months Warranty for In the Box Accessories', '6 GB RAM | 128 GB ROM\\n17.04 cm (6.71 inch) Display\\n50MP Rear Camera\\n5000 mAh Battery\\nDomestic warranty of 12 months on phone & 6 months on accessories', '6 GB RAM | 128 GB ROM\\n17.04 cm (6.71 inch) Display\\n50MP Rear Camera\\n5000 mAh Battery\\nDomestic warranty of 12 months on phone & 6 months on accessories', '4 GB RAM | 64 GB ROM\\n17.04 cm (6.71 inch) Display\\n50MP Rear Camera\\n5000 mAh Battery\\nDomestic warranty of 12 months on phone & 6 months on accessories']\n"
     ]
    }
   ],
   "source": [
    "print(info)"
   ]
  },
  {
   "cell_type": "code",
   "execution_count": 46,
   "id": "dbdd53a9",
   "metadata": {},
   "outputs": [
    {
     "name": "stdout",
     "output_type": "stream",
     "text": [
      "['4', '4', '6', '6', '6', '2', '2', '4', '2', '2', '4', '3', '2', '2', '6', '4', '2', '2', '6', '4', '6', '6', '6', '4']\n"
     ]
    }
   ],
   "source": [
    "info1=driver.find_elements(By.XPATH, '//div[@class=\"fMghEO\"]')\n",
    "RAM=[i.text.split('|')[0].split(\" \")[0] for i in driver.find_elements(By.XPATH, '//div[@class=\"fMghEO\"]')]\n",
    "print(RAM)"
   ]
  },
  {
   "cell_type": "code",
   "execution_count": 47,
   "id": "6ce5df07",
   "metadata": {},
   "outputs": [
    {
     "data": {
      "text/plain": [
       "24"
      ]
     },
     "execution_count": 47,
     "metadata": {},
     "output_type": "execute_result"
    }
   ],
   "source": [
    "len(RAM)"
   ]
  },
  {
   "cell_type": "code",
   "execution_count": 48,
   "id": "d7878947",
   "metadata": {},
   "outputs": [
    {
     "name": "stdout",
     "output_type": "stream",
     "text": [
      "24\n"
     ]
    }
   ],
   "source": [
    "#scraping rom\n",
    "info1=driver.find_elements(By.XPATH, '//div[@class=\"fMghEO\"]')\n",
    "for i in info1:\n",
    "    ROM=[i.text.split('GB')[1].split('|')[1] for i in driver.find_elements(By.XPATH, '//div[@class=\"fMghEO\"]')]\n",
    "print(len(ROM))"
   ]
  },
  {
   "cell_type": "code",
   "execution_count": 49,
   "id": "e1981a75",
   "metadata": {},
   "outputs": [
    {
     "name": "stdout",
     "output_type": "stream",
     "text": [
      "[' 128 ', ' 128 ', ' 128 ', ' 128 ', ' 128 ', ' 32 ', ' 32 ', ' 64 ', ' 32 ', ' 64 ', ' 64 ', ' 32 ', ' 16 ', ' 32 ', ' 128 ', ' 64 ', ' 64 ', ' 64 ', ' 64 ', ' 128 ', ' 64 ', ' 128 ', ' 128 ', ' 64 ']\n"
     ]
    }
   ],
   "source": [
    "print(ROM)"
   ]
  },
  {
   "cell_type": "code",
   "execution_count": 50,
   "id": "c221dcbb",
   "metadata": {},
   "outputs": [
    {
     "name": "stdout",
     "output_type": "stream",
     "text": [
      "['https://www.flipkart.com/redmi-12-moonstone-silver-128-gb/p/itme52e778c12701?pid=MOBGRMFK2MGRNG4Q&lid=LSTMOBGRMFK2MGRNG4QFZLVXT&marketplace=FLIPKART&q=redmi+smartphone&store=tyy%2F4io&spotlightTagId=BestsellerId_tyy%2F4io&srno=s_1_1&otracker=search&otracker1=search&fm=Search&iid=1b46f281-1602-4314-bb73-75dafebd44e6.MOBGRMFK2MGRNG4Q.SEARCH&ppt=sp&ppn=sp&ssid=t7o3907q280000001694347398905&qH=16e35e1c76bc3b93', 'https://www.flipkart.com/redmi-12-pastel-blue-128-gb/p/itm48719506a7ceb?pid=MOBGRMFKKGYD9ETX&lid=LSTMOBGRMFKKGYD9ETX5KD9VL&marketplace=FLIPKART&q=redmi+smartphone&store=tyy%2F4io&spotlightTagId=BestsellerId_tyy%2F4io&srno=s_1_2&otracker=search&otracker1=search&fm=Search&iid=1b46f281-1602-4314-bb73-75dafebd44e6.MOBGRMFKKGYD9ETX.SEARCH&ppt=sp&ppn=sp&ssid=t7o3907q280000001694347398905&qH=16e35e1c76bc3b93', 'https://www.flipkart.com/redmi-12-jade-black-128-gb/p/itmb7050ec01c09f?pid=MOBGRMFKTHKQSJEG&lid=LSTMOBGRMFKTHKQSJEGQK3FM2&marketplace=FLIPKART&q=redmi+smartphone&store=tyy%2F4io&spotlightTagId=BestsellerId_tyy%2F4io&srno=s_1_3&otracker=search&otracker1=search&fm=organic&iid=1b46f281-1602-4314-bb73-75dafebd44e6.MOBGRMFKTHKQSJEG.SEARCH&ppt=hp&ppn=homepage&ssid=t7o3907q280000001694347398905&qH=16e35e1c76bc3b93', 'https://www.flipkart.com/redmi-11-prime-peppy-purple-128-gb/p/itm52d6b0fe396e9?pid=MOBGZHFGUHYSHQYM&lid=LSTMOBGZHFGUHYSHQYMWGOOJ0&marketplace=FLIPKART&q=redmi+smartphone&store=tyy%2F4io&srno=s_1_4&otracker=search&otracker1=search&fm=organic&iid=1b46f281-1602-4314-bb73-75dafebd44e6.MOBGZHFGUHYSHQYM.SEARCH&ppt=hp&ppn=homepage&ssid=t7o3907q280000001694347398905&qH=16e35e1c76bc3b93', 'https://www.flipkart.com/redmi-12-pastel-blue-128-gb/p/itm9b1a6640faccd?pid=MOBGRMFKAHNTZPWE&lid=LSTMOBGRMFKAHNTZPWE1H5IWS&marketplace=FLIPKART&q=redmi+smartphone&store=tyy%2F4io&srno=s_1_5&otracker=search&otracker1=search&fm=organic&iid=1b46f281-1602-4314-bb73-75dafebd44e6.MOBGRMFKAHNTZPWE.SEARCH&ppt=hp&ppn=homepage&ssid=t7o3907q280000001694347398905&qH=16e35e1c76bc3b93', 'https://www.flipkart.com/redmi-a1-black-32-gb/p/itm70b00a77a7d1d?pid=MOBGGYBABVXHHRDQ&lid=LSTMOBGGYBABVXHHRDQTMWLXJ&marketplace=FLIPKART&q=redmi+smartphone&store=tyy%2F4io&srno=s_1_6&otracker=search&otracker1=search&fm=organic&iid=1b46f281-1602-4314-bb73-75dafebd44e6.MOBGGYBABVXHHRDQ.SEARCH&ppt=hp&ppn=homepage&ssid=t7o3907q280000001694347398905&qH=16e35e1c76bc3b93', 'https://www.flipkart.com/redmi-a1-light-green-32-gb/p/itmecc9e7ba0a1df?pid=MOBGGYBAHSAJVKHP&lid=LSTMOBGGYBAHSAJVKHP4UBD9A&marketplace=FLIPKART&q=redmi+smartphone&store=tyy%2F4io&srno=s_1_7&otracker=search&otracker1=search&fm=organic&iid=1b46f281-1602-4314-bb73-75dafebd44e6.MOBGGYBAHSAJVKHP.SEARCH&ppt=hp&ppn=homepage&ssid=t7o3907q280000001694347398905&qH=16e35e1c76bc3b93', 'https://www.flipkart.com/redmi-a2-aqua-blue-64-gb/p/itm5d49be2c0a95a?pid=MOBGPVYMG9RWX6XY&lid=LSTMOBGPVYMG9RWX6XYNJOQ2B&marketplace=FLIPKART&q=redmi+smartphone&store=tyy%2F4io&srno=s_1_8&otracker=search&otracker1=search&fm=organic&iid=1b46f281-1602-4314-bb73-75dafebd44e6.MOBGPVYMG9RWX6XY.SEARCH&ppt=hp&ppn=homepage&ssid=t7o3907q280000001694347398905&qH=16e35e1c76bc3b93', 'https://www.flipkart.com/redmi-a2-sea-green-32-gb/p/itm5d49be2c0a95a?pid=MOBGPVYATHJDTSSR&lid=LSTMOBGPVYATHJDTSSR6JMF4X&marketplace=FLIPKART&q=redmi+smartphone&store=tyy%2F4io&srno=s_1_9&otracker=search&otracker1=search&fm=organic&iid=1b46f281-1602-4314-bb73-75dafebd44e6.MOBGPVYATHJDTSSR.SEARCH&ppt=hp&ppn=homepage&ssid=t7o3907q280000001694347398905&qH=16e35e1c76bc3b93', 'https://www.flipkart.com/redmi-a2-aqua-blue-64-gb/p/itm5d49be2c0a95a?pid=MOBGR4UZWNAYKSUH&lid=LSTMOBGR4UZWNAYKSUHUXU5WM&marketplace=FLIPKART&q=redmi+smartphone&store=tyy%2F4io&srno=s_1_10&otracker=search&otracker1=search&fm=organic&iid=1b46f281-1602-4314-bb73-75dafebd44e6.MOBGR4UZWNAYKSUH.SEARCH&ppt=hp&ppn=homepage&ssid=t7o3907q280000001694347398905&qH=16e35e1c76bc3b93', 'https://www.flipkart.com/redmi-a2-classic-black-64-gb/p/itm5d49be2c0a95a?pid=MOBGPVYHRXZ3PFZU&lid=LSTMOBGPVYHRXZ3PFZU0QHLLF&marketplace=FLIPKART&q=redmi+smartphone&store=tyy%2F4io&srno=s_1_11&otracker=search&otracker1=search&fm=organic&iid=1b46f281-1602-4314-bb73-75dafebd44e6.MOBGPVYHRXZ3PFZU.SEARCH&ppt=hp&ppn=homepage&ssid=t7o3907q280000001694347398905&qH=16e35e1c76bc3b93', 'https://www.flipkart.com/redmi-9a-sport-coral-green-32-gb/p/itm53bc6ebfe147b?pid=MOBGHDXFKYSE5TPK&lid=LSTMOBGHDXFKYSE5TPKGHQ4XF&marketplace=FLIPKART&q=redmi+smartphone&store=tyy%2F4io&srno=s_1_12&otracker=search&otracker1=search&fm=organic&iid=1b46f281-1602-4314-bb73-75dafebd44e6.MOBGHDXFKYSE5TPK.SEARCH&ppt=hp&ppn=homepage&ssid=t7o3907q280000001694347398905&qH=16e35e1c76bc3b93', 'https://www.flipkart.com/redmi-6a-blue-16-gb/p/itm1ed294a755383?pid=MOBF9Z2Z3YDBSF6V&lid=LSTMOBF9Z2Z3YDBSF6VX16ZOH&marketplace=FLIPKART&q=redmi+smartphone&store=tyy%2F4io&srno=s_1_13&otracker=search&otracker1=search&fm=organic&iid=1b46f281-1602-4314-bb73-75dafebd44e6.MOBF9Z2Z3YDBSF6V.SEARCH&ppt=hp&ppn=homepage&ssid=t7o3907q280000001694347398905&qH=16e35e1c76bc3b93', 'https://www.flipkart.com/redmi-a2-aqua-blue-32-gb/p/itm5d49be2c0a95a?pid=MOBGPUZR8GHCE5ZQ&lid=LSTMOBGPUZR8GHCE5ZQ1P4DF9&marketplace=FLIPKART&q=redmi+smartphone&store=tyy%2F4io&srno=s_1_14&otracker=search&otracker1=search&fm=organic&iid=1b46f281-1602-4314-bb73-75dafebd44e6.MOBGPUZR8GHCE5ZQ.SEARCH&ppt=hp&ppn=homepage&ssid=t7o3907q280000001694347398905&qH=16e35e1c76bc3b93', 'https://www.flipkart.com/redmi-11-prime-playful-green-128-gb/p/itm0b080e6994972?pid=MOBGZHFGZQMESCDK&lid=LSTMOBGZHFGZQMESCDKZ6ILTE&marketplace=FLIPKART&q=redmi+smartphone&store=tyy%2F4io&srno=s_1_15&otracker=search&otracker1=search&fm=organic&iid=1b46f281-1602-4314-bb73-75dafebd44e6.MOBGZHFGZQMESCDK.SEARCH&ppt=hp&ppn=homepage&ssid=t7o3907q280000001694347398905&qH=16e35e1c76bc3b93', 'https://www.flipkart.com/redmi-a2-sea-green-64-gb/p/itm5d49be2c0a95a?pid=MOBGPVYEHMPGNCBZ&lid=LSTMOBGPVYEHMPGNCBZHUKI4Z&marketplace=FLIPKART&q=redmi+smartphone&store=tyy%2F4io&srno=s_1_16&otracker=search&otracker1=search&fm=organic&iid=1b46f281-1602-4314-bb73-75dafebd44e6.MOBGPVYEHMPGNCBZ.SEARCH&ppt=hp&ppn=homepage&ssid=t7o3907q280000001694347398905&qH=16e35e1c76bc3b93', 'https://www.flipkart.com/redmi-a2-classic-black-64-gb/p/itm5d49be2c0a95a?pid=MOBGRHB6XAEUADQB&lid=LSTMOBGRHB6XAEUADQBAI4AJ4&marketplace=FLIPKART&q=redmi+smartphone&store=tyy%2F4io&srno=s_1_17&otracker=search&otracker1=search&fm=organic&iid=1b46f281-1602-4314-bb73-75dafebd44e6.MOBGRHB6XAEUADQB.SEARCH&ppt=hp&ppn=homepage&ssid=t7o3907q280000001694347398905&qH=16e35e1c76bc3b93', 'https://www.flipkart.com/redmi-a2-sea-green-64-gb/p/itm5d49be2c0a95a?pid=MOBGRHB7GUUZG3QH&lid=LSTMOBGRHB7GUUZG3QHWXCHRR&marketplace=FLIPKART&q=redmi+smartphone&store=tyy%2F4io&srno=s_1_18&otracker=search&otracker1=search&fm=organic&iid=1b46f281-1602-4314-bb73-75dafebd44e6.MOBGRHB7GUUZG3QH.SEARCH&ppt=hp&ppn=homepage&ssid=t7o3907q280000001694347398905&qH=16e35e1c76bc3b93', 'https://www.flipkart.com/redmi-note-12-ice-blue-64-gb/p/itmee415766dfc1a?pid=MOBGNYHZYZ4CNTCM&lid=LSTMOBGNYHZYZ4CNTCMVONB0S&marketplace=FLIPKART&q=redmi+smartphone&store=tyy%2F4io&srno=s_1_19&otracker=search&otracker1=search&fm=organic&iid=1b46f281-1602-4314-bb73-75dafebd44e6.MOBGNYHZYZ4CNTCM.SEARCH&ppt=hp&ppn=homepage&ssid=t7o3907q280000001694347398905&qH=16e35e1c76bc3b93', 'https://www.flipkart.com/redmi-12-5g-jade-black-128-gb/p/itm0c8ba13f6fc5b?pid=MOBGS9QU7QVWUWRD&lid=LSTMOBGS9QU7QVWUWRDCTGYQ5&marketplace=FLIPKART&q=redmi+smartphone&store=tyy%2F4io&srno=s_1_20&otracker=search&otracker1=search&fm=organic&iid=1b46f281-1602-4314-bb73-75dafebd44e6.MOBGS9QU7QVWUWRD.SEARCH&ppt=hp&ppn=homepage&ssid=t7o3907q280000001694347398905&qH=16e35e1c76bc3b93', 'https://www.flipkart.com/redmi-note-12-sunrise-gold-64-gb/p/itm5d170187bcbf0?pid=MOBGNYHZ7ZGHES2V&lid=LSTMOBGNYHZ7ZGHES2VQILAET&marketplace=FLIPKART&q=redmi+smartphone&store=tyy%2F4io&srno=s_1_21&otracker=search&otracker1=search&fm=organic&iid=1b46f281-1602-4314-bb73-75dafebd44e6.MOBGNYHZ7ZGHES2V.SEARCH&ppt=hp&ppn=homepage&ssid=t7o3907q280000001694347398905&qH=16e35e1c76bc3b93', 'https://www.flipkart.com/redmi-12c-lavender-purple-128-gb/p/itm3fe4e598a0358?pid=MOBGZEU9TYHQ8RGE&lid=LSTMOBGZEU9TYHQ8RGEJXEEKD&marketplace=FLIPKART&q=redmi+smartphone&store=tyy%2F4io&srno=s_1_22&otracker=search&otracker1=search&fm=organic&iid=1b46f281-1602-4314-bb73-75dafebd44e6.MOBGZEU9TYHQ8RGE.SEARCH&ppt=hp&ppn=homepage&ssid=t7o3907q280000001694347398905&qH=16e35e1c76bc3b93', 'https://www.flipkart.com/redmi-12c-mint-green-128-gb/p/itm3fe4e598a0358?pid=MOBGZEUDZWSZHYJM&lid=LSTMOBGZEUDZWSZHYJMPU2O1S&marketplace=FLIPKART&q=redmi+smartphone&store=tyy%2F4io&srno=s_1_23&otracker=search&otracker1=search&fm=organic&iid=1b46f281-1602-4314-bb73-75dafebd44e6.MOBGZEUDZWSZHYJM.SEARCH&ppt=hp&ppn=homepage&ssid=t7o3907q280000001694347398905&qH=16e35e1c76bc3b93', 'https://www.flipkart.com/redmi-12c-lavender-purple-64-gb/p/itm3fe4e598a0358?pid=MOBGZEVUSSJ8VGXZ&lid=LSTMOBGZEVUSSJ8VGXZQC5UNR&marketplace=FLIPKART&q=redmi+smartphone&store=tyy%2F4io&srno=s_1_24&otracker=search&otracker1=search&fm=organic&iid=1b46f281-1602-4314-bb73-75dafebd44e6.MOBGZEVUSSJ8VGXZ.SEARCH&ppt=hp&ppn=homepage&ssid=t7o3907q280000001694347398905&qH=16e35e1c76bc3b93']\n",
      "['https://www.flipkart.com/redmi-12-moonstone-silver-128-gb/p/itme52e778c12701?pid=MOBGRMFK2MGRNG4Q&lid=LSTMOBGRMFK2MGRNG4QFZLVXT&marketplace=FLIPKART&q=redmi+smartphone&store=tyy%2F4io&spotlightTagId=BestsellerId_tyy%2F4io&srno=s_1_1&otracker=search&otracker1=search&fm=Search&iid=1b46f281-1602-4314-bb73-75dafebd44e6.MOBGRMFK2MGRNG4Q.SEARCH&ppt=sp&ppn=sp&ssid=t7o3907q280000001694347398905&qH=16e35e1c76bc3b93', 'https://www.flipkart.com/redmi-12-pastel-blue-128-gb/p/itm48719506a7ceb?pid=MOBGRMFKKGYD9ETX&lid=LSTMOBGRMFKKGYD9ETX5KD9VL&marketplace=FLIPKART&q=redmi+smartphone&store=tyy%2F4io&spotlightTagId=BestsellerId_tyy%2F4io&srno=s_1_2&otracker=search&otracker1=search&fm=Search&iid=1b46f281-1602-4314-bb73-75dafebd44e6.MOBGRMFKKGYD9ETX.SEARCH&ppt=sp&ppn=sp&ssid=t7o3907q280000001694347398905&qH=16e35e1c76bc3b93', 'https://www.flipkart.com/redmi-12-jade-black-128-gb/p/itmb7050ec01c09f?pid=MOBGRMFKTHKQSJEG&lid=LSTMOBGRMFKTHKQSJEGQK3FM2&marketplace=FLIPKART&q=redmi+smartphone&store=tyy%2F4io&spotlightTagId=BestsellerId_tyy%2F4io&srno=s_1_3&otracker=search&otracker1=search&fm=organic&iid=1b46f281-1602-4314-bb73-75dafebd44e6.MOBGRMFKTHKQSJEG.SEARCH&ppt=hp&ppn=homepage&ssid=t7o3907q280000001694347398905&qH=16e35e1c76bc3b93', 'https://www.flipkart.com/redmi-11-prime-peppy-purple-128-gb/p/itm52d6b0fe396e9?pid=MOBGZHFGUHYSHQYM&lid=LSTMOBGZHFGUHYSHQYMWGOOJ0&marketplace=FLIPKART&q=redmi+smartphone&store=tyy%2F4io&srno=s_1_4&otracker=search&otracker1=search&fm=organic&iid=1b46f281-1602-4314-bb73-75dafebd44e6.MOBGZHFGUHYSHQYM.SEARCH&ppt=hp&ppn=homepage&ssid=t7o3907q280000001694347398905&qH=16e35e1c76bc3b93', 'https://www.flipkart.com/redmi-12-pastel-blue-128-gb/p/itm9b1a6640faccd?pid=MOBGRMFKAHNTZPWE&lid=LSTMOBGRMFKAHNTZPWE1H5IWS&marketplace=FLIPKART&q=redmi+smartphone&store=tyy%2F4io&srno=s_1_5&otracker=search&otracker1=search&fm=organic&iid=1b46f281-1602-4314-bb73-75dafebd44e6.MOBGRMFKAHNTZPWE.SEARCH&ppt=hp&ppn=homepage&ssid=t7o3907q280000001694347398905&qH=16e35e1c76bc3b93', 'https://www.flipkart.com/redmi-a1-black-32-gb/p/itm70b00a77a7d1d?pid=MOBGGYBABVXHHRDQ&lid=LSTMOBGGYBABVXHHRDQTMWLXJ&marketplace=FLIPKART&q=redmi+smartphone&store=tyy%2F4io&srno=s_1_6&otracker=search&otracker1=search&fm=organic&iid=1b46f281-1602-4314-bb73-75dafebd44e6.MOBGGYBABVXHHRDQ.SEARCH&ppt=hp&ppn=homepage&ssid=t7o3907q280000001694347398905&qH=16e35e1c76bc3b93', 'https://www.flipkart.com/redmi-a1-light-green-32-gb/p/itmecc9e7ba0a1df?pid=MOBGGYBAHSAJVKHP&lid=LSTMOBGGYBAHSAJVKHP4UBD9A&marketplace=FLIPKART&q=redmi+smartphone&store=tyy%2F4io&srno=s_1_7&otracker=search&otracker1=search&fm=organic&iid=1b46f281-1602-4314-bb73-75dafebd44e6.MOBGGYBAHSAJVKHP.SEARCH&ppt=hp&ppn=homepage&ssid=t7o3907q280000001694347398905&qH=16e35e1c76bc3b93', 'https://www.flipkart.com/redmi-a2-aqua-blue-64-gb/p/itm5d49be2c0a95a?pid=MOBGPVYMG9RWX6XY&lid=LSTMOBGPVYMG9RWX6XYNJOQ2B&marketplace=FLIPKART&q=redmi+smartphone&store=tyy%2F4io&srno=s_1_8&otracker=search&otracker1=search&fm=organic&iid=1b46f281-1602-4314-bb73-75dafebd44e6.MOBGPVYMG9RWX6XY.SEARCH&ppt=hp&ppn=homepage&ssid=t7o3907q280000001694347398905&qH=16e35e1c76bc3b93', 'https://www.flipkart.com/redmi-a2-sea-green-32-gb/p/itm5d49be2c0a95a?pid=MOBGPVYATHJDTSSR&lid=LSTMOBGPVYATHJDTSSR6JMF4X&marketplace=FLIPKART&q=redmi+smartphone&store=tyy%2F4io&srno=s_1_9&otracker=search&otracker1=search&fm=organic&iid=1b46f281-1602-4314-bb73-75dafebd44e6.MOBGPVYATHJDTSSR.SEARCH&ppt=hp&ppn=homepage&ssid=t7o3907q280000001694347398905&qH=16e35e1c76bc3b93', 'https://www.flipkart.com/redmi-a2-aqua-blue-64-gb/p/itm5d49be2c0a95a?pid=MOBGR4UZWNAYKSUH&lid=LSTMOBGR4UZWNAYKSUHUXU5WM&marketplace=FLIPKART&q=redmi+smartphone&store=tyy%2F4io&srno=s_1_10&otracker=search&otracker1=search&fm=organic&iid=1b46f281-1602-4314-bb73-75dafebd44e6.MOBGR4UZWNAYKSUH.SEARCH&ppt=hp&ppn=homepage&ssid=t7o3907q280000001694347398905&qH=16e35e1c76bc3b93', 'https://www.flipkart.com/redmi-a2-classic-black-64-gb/p/itm5d49be2c0a95a?pid=MOBGPVYHRXZ3PFZU&lid=LSTMOBGPVYHRXZ3PFZU0QHLLF&marketplace=FLIPKART&q=redmi+smartphone&store=tyy%2F4io&srno=s_1_11&otracker=search&otracker1=search&fm=organic&iid=1b46f281-1602-4314-bb73-75dafebd44e6.MOBGPVYHRXZ3PFZU.SEARCH&ppt=hp&ppn=homepage&ssid=t7o3907q280000001694347398905&qH=16e35e1c76bc3b93', 'https://www.flipkart.com/redmi-9a-sport-coral-green-32-gb/p/itm53bc6ebfe147b?pid=MOBGHDXFKYSE5TPK&lid=LSTMOBGHDXFKYSE5TPKGHQ4XF&marketplace=FLIPKART&q=redmi+smartphone&store=tyy%2F4io&srno=s_1_12&otracker=search&otracker1=search&fm=organic&iid=1b46f281-1602-4314-bb73-75dafebd44e6.MOBGHDXFKYSE5TPK.SEARCH&ppt=hp&ppn=homepage&ssid=t7o3907q280000001694347398905&qH=16e35e1c76bc3b93', 'https://www.flipkart.com/redmi-6a-blue-16-gb/p/itm1ed294a755383?pid=MOBF9Z2Z3YDBSF6V&lid=LSTMOBF9Z2Z3YDBSF6VX16ZOH&marketplace=FLIPKART&q=redmi+smartphone&store=tyy%2F4io&srno=s_1_13&otracker=search&otracker1=search&fm=organic&iid=1b46f281-1602-4314-bb73-75dafebd44e6.MOBF9Z2Z3YDBSF6V.SEARCH&ppt=hp&ppn=homepage&ssid=t7o3907q280000001694347398905&qH=16e35e1c76bc3b93', 'https://www.flipkart.com/redmi-a2-aqua-blue-32-gb/p/itm5d49be2c0a95a?pid=MOBGPUZR8GHCE5ZQ&lid=LSTMOBGPUZR8GHCE5ZQ1P4DF9&marketplace=FLIPKART&q=redmi+smartphone&store=tyy%2F4io&srno=s_1_14&otracker=search&otracker1=search&fm=organic&iid=1b46f281-1602-4314-bb73-75dafebd44e6.MOBGPUZR8GHCE5ZQ.SEARCH&ppt=hp&ppn=homepage&ssid=t7o3907q280000001694347398905&qH=16e35e1c76bc3b93', 'https://www.flipkart.com/redmi-11-prime-playful-green-128-gb/p/itm0b080e6994972?pid=MOBGZHFGZQMESCDK&lid=LSTMOBGZHFGZQMESCDKZ6ILTE&marketplace=FLIPKART&q=redmi+smartphone&store=tyy%2F4io&srno=s_1_15&otracker=search&otracker1=search&fm=organic&iid=1b46f281-1602-4314-bb73-75dafebd44e6.MOBGZHFGZQMESCDK.SEARCH&ppt=hp&ppn=homepage&ssid=t7o3907q280000001694347398905&qH=16e35e1c76bc3b93', 'https://www.flipkart.com/redmi-a2-sea-green-64-gb/p/itm5d49be2c0a95a?pid=MOBGPVYEHMPGNCBZ&lid=LSTMOBGPVYEHMPGNCBZHUKI4Z&marketplace=FLIPKART&q=redmi+smartphone&store=tyy%2F4io&srno=s_1_16&otracker=search&otracker1=search&fm=organic&iid=1b46f281-1602-4314-bb73-75dafebd44e6.MOBGPVYEHMPGNCBZ.SEARCH&ppt=hp&ppn=homepage&ssid=t7o3907q280000001694347398905&qH=16e35e1c76bc3b93', 'https://www.flipkart.com/redmi-a2-classic-black-64-gb/p/itm5d49be2c0a95a?pid=MOBGRHB6XAEUADQB&lid=LSTMOBGRHB6XAEUADQBAI4AJ4&marketplace=FLIPKART&q=redmi+smartphone&store=tyy%2F4io&srno=s_1_17&otracker=search&otracker1=search&fm=organic&iid=1b46f281-1602-4314-bb73-75dafebd44e6.MOBGRHB6XAEUADQB.SEARCH&ppt=hp&ppn=homepage&ssid=t7o3907q280000001694347398905&qH=16e35e1c76bc3b93', 'https://www.flipkart.com/redmi-a2-sea-green-64-gb/p/itm5d49be2c0a95a?pid=MOBGRHB7GUUZG3QH&lid=LSTMOBGRHB7GUUZG3QHWXCHRR&marketplace=FLIPKART&q=redmi+smartphone&store=tyy%2F4io&srno=s_1_18&otracker=search&otracker1=search&fm=organic&iid=1b46f281-1602-4314-bb73-75dafebd44e6.MOBGRHB7GUUZG3QH.SEARCH&ppt=hp&ppn=homepage&ssid=t7o3907q280000001694347398905&qH=16e35e1c76bc3b93', 'https://www.flipkart.com/redmi-note-12-ice-blue-64-gb/p/itmee415766dfc1a?pid=MOBGNYHZYZ4CNTCM&lid=LSTMOBGNYHZYZ4CNTCMVONB0S&marketplace=FLIPKART&q=redmi+smartphone&store=tyy%2F4io&srno=s_1_19&otracker=search&otracker1=search&fm=organic&iid=1b46f281-1602-4314-bb73-75dafebd44e6.MOBGNYHZYZ4CNTCM.SEARCH&ppt=hp&ppn=homepage&ssid=t7o3907q280000001694347398905&qH=16e35e1c76bc3b93', 'https://www.flipkart.com/redmi-12-5g-jade-black-128-gb/p/itm0c8ba13f6fc5b?pid=MOBGS9QU7QVWUWRD&lid=LSTMOBGS9QU7QVWUWRDCTGYQ5&marketplace=FLIPKART&q=redmi+smartphone&store=tyy%2F4io&srno=s_1_20&otracker=search&otracker1=search&fm=organic&iid=1b46f281-1602-4314-bb73-75dafebd44e6.MOBGS9QU7QVWUWRD.SEARCH&ppt=hp&ppn=homepage&ssid=t7o3907q280000001694347398905&qH=16e35e1c76bc3b93', 'https://www.flipkart.com/redmi-note-12-sunrise-gold-64-gb/p/itm5d170187bcbf0?pid=MOBGNYHZ7ZGHES2V&lid=LSTMOBGNYHZ7ZGHES2VQILAET&marketplace=FLIPKART&q=redmi+smartphone&store=tyy%2F4io&srno=s_1_21&otracker=search&otracker1=search&fm=organic&iid=1b46f281-1602-4314-bb73-75dafebd44e6.MOBGNYHZ7ZGHES2V.SEARCH&ppt=hp&ppn=homepage&ssid=t7o3907q280000001694347398905&qH=16e35e1c76bc3b93', 'https://www.flipkart.com/redmi-12c-lavender-purple-128-gb/p/itm3fe4e598a0358?pid=MOBGZEU9TYHQ8RGE&lid=LSTMOBGZEU9TYHQ8RGEJXEEKD&marketplace=FLIPKART&q=redmi+smartphone&store=tyy%2F4io&srno=s_1_22&otracker=search&otracker1=search&fm=organic&iid=1b46f281-1602-4314-bb73-75dafebd44e6.MOBGZEU9TYHQ8RGE.SEARCH&ppt=hp&ppn=homepage&ssid=t7o3907q280000001694347398905&qH=16e35e1c76bc3b93', 'https://www.flipkart.com/redmi-12c-mint-green-128-gb/p/itm3fe4e598a0358?pid=MOBGZEUDZWSZHYJM&lid=LSTMOBGZEUDZWSZHYJMPU2O1S&marketplace=FLIPKART&q=redmi+smartphone&store=tyy%2F4io&srno=s_1_23&otracker=search&otracker1=search&fm=organic&iid=1b46f281-1602-4314-bb73-75dafebd44e6.MOBGZEUDZWSZHYJM.SEARCH&ppt=hp&ppn=homepage&ssid=t7o3907q280000001694347398905&qH=16e35e1c76bc3b93', 'https://www.flipkart.com/redmi-12c-lavender-purple-64-gb/p/itm3fe4e598a0358?pid=MOBGZEVUSSJ8VGXZ&lid=LSTMOBGZEVUSSJ8VGXZQC5UNR&marketplace=FLIPKART&q=redmi+smartphone&store=tyy%2F4io&srno=s_1_24&otracker=search&otracker1=search&fm=organic&iid=1b46f281-1602-4314-bb73-75dafebd44e6.MOBGZEVUSSJ8VGXZ.SEARCH&ppt=hp&ppn=homepage&ssid=t7o3907q280000001694347398905&qH=16e35e1c76bc3b93']\n"
     ]
    },
    {
     "name": "stdout",
     "output_type": "stream",
     "text": [
      "['https://www.flipkart.com/redmi-12-moonstone-silver-128-gb/p/itme52e778c12701?pid=MOBGRMFK2MGRNG4Q&lid=LSTMOBGRMFK2MGRNG4QFZLVXT&marketplace=FLIPKART&q=redmi+smartphone&store=tyy%2F4io&spotlightTagId=BestsellerId_tyy%2F4io&srno=s_1_1&otracker=search&otracker1=search&fm=Search&iid=1b46f281-1602-4314-bb73-75dafebd44e6.MOBGRMFK2MGRNG4Q.SEARCH&ppt=sp&ppn=sp&ssid=t7o3907q280000001694347398905&qH=16e35e1c76bc3b93', 'https://www.flipkart.com/redmi-12-pastel-blue-128-gb/p/itm48719506a7ceb?pid=MOBGRMFKKGYD9ETX&lid=LSTMOBGRMFKKGYD9ETX5KD9VL&marketplace=FLIPKART&q=redmi+smartphone&store=tyy%2F4io&spotlightTagId=BestsellerId_tyy%2F4io&srno=s_1_2&otracker=search&otracker1=search&fm=Search&iid=1b46f281-1602-4314-bb73-75dafebd44e6.MOBGRMFKKGYD9ETX.SEARCH&ppt=sp&ppn=sp&ssid=t7o3907q280000001694347398905&qH=16e35e1c76bc3b93', 'https://www.flipkart.com/redmi-12-jade-black-128-gb/p/itmb7050ec01c09f?pid=MOBGRMFKTHKQSJEG&lid=LSTMOBGRMFKTHKQSJEGQK3FM2&marketplace=FLIPKART&q=redmi+smartphone&store=tyy%2F4io&spotlightTagId=BestsellerId_tyy%2F4io&srno=s_1_3&otracker=search&otracker1=search&fm=organic&iid=1b46f281-1602-4314-bb73-75dafebd44e6.MOBGRMFKTHKQSJEG.SEARCH&ppt=hp&ppn=homepage&ssid=t7o3907q280000001694347398905&qH=16e35e1c76bc3b93', 'https://www.flipkart.com/redmi-11-prime-peppy-purple-128-gb/p/itm52d6b0fe396e9?pid=MOBGZHFGUHYSHQYM&lid=LSTMOBGZHFGUHYSHQYMWGOOJ0&marketplace=FLIPKART&q=redmi+smartphone&store=tyy%2F4io&srno=s_1_4&otracker=search&otracker1=search&fm=organic&iid=1b46f281-1602-4314-bb73-75dafebd44e6.MOBGZHFGUHYSHQYM.SEARCH&ppt=hp&ppn=homepage&ssid=t7o3907q280000001694347398905&qH=16e35e1c76bc3b93', 'https://www.flipkart.com/redmi-12-pastel-blue-128-gb/p/itm9b1a6640faccd?pid=MOBGRMFKAHNTZPWE&lid=LSTMOBGRMFKAHNTZPWE1H5IWS&marketplace=FLIPKART&q=redmi+smartphone&store=tyy%2F4io&srno=s_1_5&otracker=search&otracker1=search&fm=organic&iid=1b46f281-1602-4314-bb73-75dafebd44e6.MOBGRMFKAHNTZPWE.SEARCH&ppt=hp&ppn=homepage&ssid=t7o3907q280000001694347398905&qH=16e35e1c76bc3b93', 'https://www.flipkart.com/redmi-a1-black-32-gb/p/itm70b00a77a7d1d?pid=MOBGGYBABVXHHRDQ&lid=LSTMOBGGYBABVXHHRDQTMWLXJ&marketplace=FLIPKART&q=redmi+smartphone&store=tyy%2F4io&srno=s_1_6&otracker=search&otracker1=search&fm=organic&iid=1b46f281-1602-4314-bb73-75dafebd44e6.MOBGGYBABVXHHRDQ.SEARCH&ppt=hp&ppn=homepage&ssid=t7o3907q280000001694347398905&qH=16e35e1c76bc3b93', 'https://www.flipkart.com/redmi-a1-light-green-32-gb/p/itmecc9e7ba0a1df?pid=MOBGGYBAHSAJVKHP&lid=LSTMOBGGYBAHSAJVKHP4UBD9A&marketplace=FLIPKART&q=redmi+smartphone&store=tyy%2F4io&srno=s_1_7&otracker=search&otracker1=search&fm=organic&iid=1b46f281-1602-4314-bb73-75dafebd44e6.MOBGGYBAHSAJVKHP.SEARCH&ppt=hp&ppn=homepage&ssid=t7o3907q280000001694347398905&qH=16e35e1c76bc3b93', 'https://www.flipkart.com/redmi-a2-aqua-blue-64-gb/p/itm5d49be2c0a95a?pid=MOBGPVYMG9RWX6XY&lid=LSTMOBGPVYMG9RWX6XYNJOQ2B&marketplace=FLIPKART&q=redmi+smartphone&store=tyy%2F4io&srno=s_1_8&otracker=search&otracker1=search&fm=organic&iid=1b46f281-1602-4314-bb73-75dafebd44e6.MOBGPVYMG9RWX6XY.SEARCH&ppt=hp&ppn=homepage&ssid=t7o3907q280000001694347398905&qH=16e35e1c76bc3b93', 'https://www.flipkart.com/redmi-a2-sea-green-32-gb/p/itm5d49be2c0a95a?pid=MOBGPVYATHJDTSSR&lid=LSTMOBGPVYATHJDTSSR6JMF4X&marketplace=FLIPKART&q=redmi+smartphone&store=tyy%2F4io&srno=s_1_9&otracker=search&otracker1=search&fm=organic&iid=1b46f281-1602-4314-bb73-75dafebd44e6.MOBGPVYATHJDTSSR.SEARCH&ppt=hp&ppn=homepage&ssid=t7o3907q280000001694347398905&qH=16e35e1c76bc3b93', 'https://www.flipkart.com/redmi-a2-aqua-blue-64-gb/p/itm5d49be2c0a95a?pid=MOBGR4UZWNAYKSUH&lid=LSTMOBGR4UZWNAYKSUHUXU5WM&marketplace=FLIPKART&q=redmi+smartphone&store=tyy%2F4io&srno=s_1_10&otracker=search&otracker1=search&fm=organic&iid=1b46f281-1602-4314-bb73-75dafebd44e6.MOBGR4UZWNAYKSUH.SEARCH&ppt=hp&ppn=homepage&ssid=t7o3907q280000001694347398905&qH=16e35e1c76bc3b93', 'https://www.flipkart.com/redmi-a2-classic-black-64-gb/p/itm5d49be2c0a95a?pid=MOBGPVYHRXZ3PFZU&lid=LSTMOBGPVYHRXZ3PFZU0QHLLF&marketplace=FLIPKART&q=redmi+smartphone&store=tyy%2F4io&srno=s_1_11&otracker=search&otracker1=search&fm=organic&iid=1b46f281-1602-4314-bb73-75dafebd44e6.MOBGPVYHRXZ3PFZU.SEARCH&ppt=hp&ppn=homepage&ssid=t7o3907q280000001694347398905&qH=16e35e1c76bc3b93', 'https://www.flipkart.com/redmi-9a-sport-coral-green-32-gb/p/itm53bc6ebfe147b?pid=MOBGHDXFKYSE5TPK&lid=LSTMOBGHDXFKYSE5TPKGHQ4XF&marketplace=FLIPKART&q=redmi+smartphone&store=tyy%2F4io&srno=s_1_12&otracker=search&otracker1=search&fm=organic&iid=1b46f281-1602-4314-bb73-75dafebd44e6.MOBGHDXFKYSE5TPK.SEARCH&ppt=hp&ppn=homepage&ssid=t7o3907q280000001694347398905&qH=16e35e1c76bc3b93', 'https://www.flipkart.com/redmi-6a-blue-16-gb/p/itm1ed294a755383?pid=MOBF9Z2Z3YDBSF6V&lid=LSTMOBF9Z2Z3YDBSF6VX16ZOH&marketplace=FLIPKART&q=redmi+smartphone&store=tyy%2F4io&srno=s_1_13&otracker=search&otracker1=search&fm=organic&iid=1b46f281-1602-4314-bb73-75dafebd44e6.MOBF9Z2Z3YDBSF6V.SEARCH&ppt=hp&ppn=homepage&ssid=t7o3907q280000001694347398905&qH=16e35e1c76bc3b93', 'https://www.flipkart.com/redmi-a2-aqua-blue-32-gb/p/itm5d49be2c0a95a?pid=MOBGPUZR8GHCE5ZQ&lid=LSTMOBGPUZR8GHCE5ZQ1P4DF9&marketplace=FLIPKART&q=redmi+smartphone&store=tyy%2F4io&srno=s_1_14&otracker=search&otracker1=search&fm=organic&iid=1b46f281-1602-4314-bb73-75dafebd44e6.MOBGPUZR8GHCE5ZQ.SEARCH&ppt=hp&ppn=homepage&ssid=t7o3907q280000001694347398905&qH=16e35e1c76bc3b93', 'https://www.flipkart.com/redmi-11-prime-playful-green-128-gb/p/itm0b080e6994972?pid=MOBGZHFGZQMESCDK&lid=LSTMOBGZHFGZQMESCDKZ6ILTE&marketplace=FLIPKART&q=redmi+smartphone&store=tyy%2F4io&srno=s_1_15&otracker=search&otracker1=search&fm=organic&iid=1b46f281-1602-4314-bb73-75dafebd44e6.MOBGZHFGZQMESCDK.SEARCH&ppt=hp&ppn=homepage&ssid=t7o3907q280000001694347398905&qH=16e35e1c76bc3b93', 'https://www.flipkart.com/redmi-a2-sea-green-64-gb/p/itm5d49be2c0a95a?pid=MOBGPVYEHMPGNCBZ&lid=LSTMOBGPVYEHMPGNCBZHUKI4Z&marketplace=FLIPKART&q=redmi+smartphone&store=tyy%2F4io&srno=s_1_16&otracker=search&otracker1=search&fm=organic&iid=1b46f281-1602-4314-bb73-75dafebd44e6.MOBGPVYEHMPGNCBZ.SEARCH&ppt=hp&ppn=homepage&ssid=t7o3907q280000001694347398905&qH=16e35e1c76bc3b93', 'https://www.flipkart.com/redmi-a2-classic-black-64-gb/p/itm5d49be2c0a95a?pid=MOBGRHB6XAEUADQB&lid=LSTMOBGRHB6XAEUADQBAI4AJ4&marketplace=FLIPKART&q=redmi+smartphone&store=tyy%2F4io&srno=s_1_17&otracker=search&otracker1=search&fm=organic&iid=1b46f281-1602-4314-bb73-75dafebd44e6.MOBGRHB6XAEUADQB.SEARCH&ppt=hp&ppn=homepage&ssid=t7o3907q280000001694347398905&qH=16e35e1c76bc3b93', 'https://www.flipkart.com/redmi-a2-sea-green-64-gb/p/itm5d49be2c0a95a?pid=MOBGRHB7GUUZG3QH&lid=LSTMOBGRHB7GUUZG3QHWXCHRR&marketplace=FLIPKART&q=redmi+smartphone&store=tyy%2F4io&srno=s_1_18&otracker=search&otracker1=search&fm=organic&iid=1b46f281-1602-4314-bb73-75dafebd44e6.MOBGRHB7GUUZG3QH.SEARCH&ppt=hp&ppn=homepage&ssid=t7o3907q280000001694347398905&qH=16e35e1c76bc3b93', 'https://www.flipkart.com/redmi-note-12-ice-blue-64-gb/p/itmee415766dfc1a?pid=MOBGNYHZYZ4CNTCM&lid=LSTMOBGNYHZYZ4CNTCMVONB0S&marketplace=FLIPKART&q=redmi+smartphone&store=tyy%2F4io&srno=s_1_19&otracker=search&otracker1=search&fm=organic&iid=1b46f281-1602-4314-bb73-75dafebd44e6.MOBGNYHZYZ4CNTCM.SEARCH&ppt=hp&ppn=homepage&ssid=t7o3907q280000001694347398905&qH=16e35e1c76bc3b93', 'https://www.flipkart.com/redmi-12-5g-jade-black-128-gb/p/itm0c8ba13f6fc5b?pid=MOBGS9QU7QVWUWRD&lid=LSTMOBGS9QU7QVWUWRDCTGYQ5&marketplace=FLIPKART&q=redmi+smartphone&store=tyy%2F4io&srno=s_1_20&otracker=search&otracker1=search&fm=organic&iid=1b46f281-1602-4314-bb73-75dafebd44e6.MOBGS9QU7QVWUWRD.SEARCH&ppt=hp&ppn=homepage&ssid=t7o3907q280000001694347398905&qH=16e35e1c76bc3b93', 'https://www.flipkart.com/redmi-note-12-sunrise-gold-64-gb/p/itm5d170187bcbf0?pid=MOBGNYHZ7ZGHES2V&lid=LSTMOBGNYHZ7ZGHES2VQILAET&marketplace=FLIPKART&q=redmi+smartphone&store=tyy%2F4io&srno=s_1_21&otracker=search&otracker1=search&fm=organic&iid=1b46f281-1602-4314-bb73-75dafebd44e6.MOBGNYHZ7ZGHES2V.SEARCH&ppt=hp&ppn=homepage&ssid=t7o3907q280000001694347398905&qH=16e35e1c76bc3b93', 'https://www.flipkart.com/redmi-12c-lavender-purple-128-gb/p/itm3fe4e598a0358?pid=MOBGZEU9TYHQ8RGE&lid=LSTMOBGZEU9TYHQ8RGEJXEEKD&marketplace=FLIPKART&q=redmi+smartphone&store=tyy%2F4io&srno=s_1_22&otracker=search&otracker1=search&fm=organic&iid=1b46f281-1602-4314-bb73-75dafebd44e6.MOBGZEU9TYHQ8RGE.SEARCH&ppt=hp&ppn=homepage&ssid=t7o3907q280000001694347398905&qH=16e35e1c76bc3b93', 'https://www.flipkart.com/redmi-12c-mint-green-128-gb/p/itm3fe4e598a0358?pid=MOBGZEUDZWSZHYJM&lid=LSTMOBGZEUDZWSZHYJMPU2O1S&marketplace=FLIPKART&q=redmi+smartphone&store=tyy%2F4io&srno=s_1_23&otracker=search&otracker1=search&fm=organic&iid=1b46f281-1602-4314-bb73-75dafebd44e6.MOBGZEUDZWSZHYJM.SEARCH&ppt=hp&ppn=homepage&ssid=t7o3907q280000001694347398905&qH=16e35e1c76bc3b93', 'https://www.flipkart.com/redmi-12c-lavender-purple-64-gb/p/itm3fe4e598a0358?pid=MOBGZEVUSSJ8VGXZ&lid=LSTMOBGZEVUSSJ8VGXZQC5UNR&marketplace=FLIPKART&q=redmi+smartphone&store=tyy%2F4io&srno=s_1_24&otracker=search&otracker1=search&fm=organic&iid=1b46f281-1602-4314-bb73-75dafebd44e6.MOBGZEVUSSJ8VGXZ.SEARCH&ppt=hp&ppn=homepage&ssid=t7o3907q280000001694347398905&qH=16e35e1c76bc3b93']\n",
      "['https://www.flipkart.com/redmi-12-moonstone-silver-128-gb/p/itme52e778c12701?pid=MOBGRMFK2MGRNG4Q&lid=LSTMOBGRMFK2MGRNG4QFZLVXT&marketplace=FLIPKART&q=redmi+smartphone&store=tyy%2F4io&spotlightTagId=BestsellerId_tyy%2F4io&srno=s_1_1&otracker=search&otracker1=search&fm=Search&iid=1b46f281-1602-4314-bb73-75dafebd44e6.MOBGRMFK2MGRNG4Q.SEARCH&ppt=sp&ppn=sp&ssid=t7o3907q280000001694347398905&qH=16e35e1c76bc3b93', 'https://www.flipkart.com/redmi-12-pastel-blue-128-gb/p/itm48719506a7ceb?pid=MOBGRMFKKGYD9ETX&lid=LSTMOBGRMFKKGYD9ETX5KD9VL&marketplace=FLIPKART&q=redmi+smartphone&store=tyy%2F4io&spotlightTagId=BestsellerId_tyy%2F4io&srno=s_1_2&otracker=search&otracker1=search&fm=Search&iid=1b46f281-1602-4314-bb73-75dafebd44e6.MOBGRMFKKGYD9ETX.SEARCH&ppt=sp&ppn=sp&ssid=t7o3907q280000001694347398905&qH=16e35e1c76bc3b93', 'https://www.flipkart.com/redmi-12-jade-black-128-gb/p/itmb7050ec01c09f?pid=MOBGRMFKTHKQSJEG&lid=LSTMOBGRMFKTHKQSJEGQK3FM2&marketplace=FLIPKART&q=redmi+smartphone&store=tyy%2F4io&spotlightTagId=BestsellerId_tyy%2F4io&srno=s_1_3&otracker=search&otracker1=search&fm=organic&iid=1b46f281-1602-4314-bb73-75dafebd44e6.MOBGRMFKTHKQSJEG.SEARCH&ppt=hp&ppn=homepage&ssid=t7o3907q280000001694347398905&qH=16e35e1c76bc3b93', 'https://www.flipkart.com/redmi-11-prime-peppy-purple-128-gb/p/itm52d6b0fe396e9?pid=MOBGZHFGUHYSHQYM&lid=LSTMOBGZHFGUHYSHQYMWGOOJ0&marketplace=FLIPKART&q=redmi+smartphone&store=tyy%2F4io&srno=s_1_4&otracker=search&otracker1=search&fm=organic&iid=1b46f281-1602-4314-bb73-75dafebd44e6.MOBGZHFGUHYSHQYM.SEARCH&ppt=hp&ppn=homepage&ssid=t7o3907q280000001694347398905&qH=16e35e1c76bc3b93', 'https://www.flipkart.com/redmi-12-pastel-blue-128-gb/p/itm9b1a6640faccd?pid=MOBGRMFKAHNTZPWE&lid=LSTMOBGRMFKAHNTZPWE1H5IWS&marketplace=FLIPKART&q=redmi+smartphone&store=tyy%2F4io&srno=s_1_5&otracker=search&otracker1=search&fm=organic&iid=1b46f281-1602-4314-bb73-75dafebd44e6.MOBGRMFKAHNTZPWE.SEARCH&ppt=hp&ppn=homepage&ssid=t7o3907q280000001694347398905&qH=16e35e1c76bc3b93', 'https://www.flipkart.com/redmi-a1-black-32-gb/p/itm70b00a77a7d1d?pid=MOBGGYBABVXHHRDQ&lid=LSTMOBGGYBABVXHHRDQTMWLXJ&marketplace=FLIPKART&q=redmi+smartphone&store=tyy%2F4io&srno=s_1_6&otracker=search&otracker1=search&fm=organic&iid=1b46f281-1602-4314-bb73-75dafebd44e6.MOBGGYBABVXHHRDQ.SEARCH&ppt=hp&ppn=homepage&ssid=t7o3907q280000001694347398905&qH=16e35e1c76bc3b93', 'https://www.flipkart.com/redmi-a1-light-green-32-gb/p/itmecc9e7ba0a1df?pid=MOBGGYBAHSAJVKHP&lid=LSTMOBGGYBAHSAJVKHP4UBD9A&marketplace=FLIPKART&q=redmi+smartphone&store=tyy%2F4io&srno=s_1_7&otracker=search&otracker1=search&fm=organic&iid=1b46f281-1602-4314-bb73-75dafebd44e6.MOBGGYBAHSAJVKHP.SEARCH&ppt=hp&ppn=homepage&ssid=t7o3907q280000001694347398905&qH=16e35e1c76bc3b93', 'https://www.flipkart.com/redmi-a2-aqua-blue-64-gb/p/itm5d49be2c0a95a?pid=MOBGPVYMG9RWX6XY&lid=LSTMOBGPVYMG9RWX6XYNJOQ2B&marketplace=FLIPKART&q=redmi+smartphone&store=tyy%2F4io&srno=s_1_8&otracker=search&otracker1=search&fm=organic&iid=1b46f281-1602-4314-bb73-75dafebd44e6.MOBGPVYMG9RWX6XY.SEARCH&ppt=hp&ppn=homepage&ssid=t7o3907q280000001694347398905&qH=16e35e1c76bc3b93', 'https://www.flipkart.com/redmi-a2-sea-green-32-gb/p/itm5d49be2c0a95a?pid=MOBGPVYATHJDTSSR&lid=LSTMOBGPVYATHJDTSSR6JMF4X&marketplace=FLIPKART&q=redmi+smartphone&store=tyy%2F4io&srno=s_1_9&otracker=search&otracker1=search&fm=organic&iid=1b46f281-1602-4314-bb73-75dafebd44e6.MOBGPVYATHJDTSSR.SEARCH&ppt=hp&ppn=homepage&ssid=t7o3907q280000001694347398905&qH=16e35e1c76bc3b93', 'https://www.flipkart.com/redmi-a2-aqua-blue-64-gb/p/itm5d49be2c0a95a?pid=MOBGR4UZWNAYKSUH&lid=LSTMOBGR4UZWNAYKSUHUXU5WM&marketplace=FLIPKART&q=redmi+smartphone&store=tyy%2F4io&srno=s_1_10&otracker=search&otracker1=search&fm=organic&iid=1b46f281-1602-4314-bb73-75dafebd44e6.MOBGR4UZWNAYKSUH.SEARCH&ppt=hp&ppn=homepage&ssid=t7o3907q280000001694347398905&qH=16e35e1c76bc3b93', 'https://www.flipkart.com/redmi-a2-classic-black-64-gb/p/itm5d49be2c0a95a?pid=MOBGPVYHRXZ3PFZU&lid=LSTMOBGPVYHRXZ3PFZU0QHLLF&marketplace=FLIPKART&q=redmi+smartphone&store=tyy%2F4io&srno=s_1_11&otracker=search&otracker1=search&fm=organic&iid=1b46f281-1602-4314-bb73-75dafebd44e6.MOBGPVYHRXZ3PFZU.SEARCH&ppt=hp&ppn=homepage&ssid=t7o3907q280000001694347398905&qH=16e35e1c76bc3b93', 'https://www.flipkart.com/redmi-9a-sport-coral-green-32-gb/p/itm53bc6ebfe147b?pid=MOBGHDXFKYSE5TPK&lid=LSTMOBGHDXFKYSE5TPKGHQ4XF&marketplace=FLIPKART&q=redmi+smartphone&store=tyy%2F4io&srno=s_1_12&otracker=search&otracker1=search&fm=organic&iid=1b46f281-1602-4314-bb73-75dafebd44e6.MOBGHDXFKYSE5TPK.SEARCH&ppt=hp&ppn=homepage&ssid=t7o3907q280000001694347398905&qH=16e35e1c76bc3b93', 'https://www.flipkart.com/redmi-6a-blue-16-gb/p/itm1ed294a755383?pid=MOBF9Z2Z3YDBSF6V&lid=LSTMOBF9Z2Z3YDBSF6VX16ZOH&marketplace=FLIPKART&q=redmi+smartphone&store=tyy%2F4io&srno=s_1_13&otracker=search&otracker1=search&fm=organic&iid=1b46f281-1602-4314-bb73-75dafebd44e6.MOBF9Z2Z3YDBSF6V.SEARCH&ppt=hp&ppn=homepage&ssid=t7o3907q280000001694347398905&qH=16e35e1c76bc3b93', 'https://www.flipkart.com/redmi-a2-aqua-blue-32-gb/p/itm5d49be2c0a95a?pid=MOBGPUZR8GHCE5ZQ&lid=LSTMOBGPUZR8GHCE5ZQ1P4DF9&marketplace=FLIPKART&q=redmi+smartphone&store=tyy%2F4io&srno=s_1_14&otracker=search&otracker1=search&fm=organic&iid=1b46f281-1602-4314-bb73-75dafebd44e6.MOBGPUZR8GHCE5ZQ.SEARCH&ppt=hp&ppn=homepage&ssid=t7o3907q280000001694347398905&qH=16e35e1c76bc3b93', 'https://www.flipkart.com/redmi-11-prime-playful-green-128-gb/p/itm0b080e6994972?pid=MOBGZHFGZQMESCDK&lid=LSTMOBGZHFGZQMESCDKZ6ILTE&marketplace=FLIPKART&q=redmi+smartphone&store=tyy%2F4io&srno=s_1_15&otracker=search&otracker1=search&fm=organic&iid=1b46f281-1602-4314-bb73-75dafebd44e6.MOBGZHFGZQMESCDK.SEARCH&ppt=hp&ppn=homepage&ssid=t7o3907q280000001694347398905&qH=16e35e1c76bc3b93', 'https://www.flipkart.com/redmi-a2-sea-green-64-gb/p/itm5d49be2c0a95a?pid=MOBGPVYEHMPGNCBZ&lid=LSTMOBGPVYEHMPGNCBZHUKI4Z&marketplace=FLIPKART&q=redmi+smartphone&store=tyy%2F4io&srno=s_1_16&otracker=search&otracker1=search&fm=organic&iid=1b46f281-1602-4314-bb73-75dafebd44e6.MOBGPVYEHMPGNCBZ.SEARCH&ppt=hp&ppn=homepage&ssid=t7o3907q280000001694347398905&qH=16e35e1c76bc3b93', 'https://www.flipkart.com/redmi-a2-classic-black-64-gb/p/itm5d49be2c0a95a?pid=MOBGRHB6XAEUADQB&lid=LSTMOBGRHB6XAEUADQBAI4AJ4&marketplace=FLIPKART&q=redmi+smartphone&store=tyy%2F4io&srno=s_1_17&otracker=search&otracker1=search&fm=organic&iid=1b46f281-1602-4314-bb73-75dafebd44e6.MOBGRHB6XAEUADQB.SEARCH&ppt=hp&ppn=homepage&ssid=t7o3907q280000001694347398905&qH=16e35e1c76bc3b93', 'https://www.flipkart.com/redmi-a2-sea-green-64-gb/p/itm5d49be2c0a95a?pid=MOBGRHB7GUUZG3QH&lid=LSTMOBGRHB7GUUZG3QHWXCHRR&marketplace=FLIPKART&q=redmi+smartphone&store=tyy%2F4io&srno=s_1_18&otracker=search&otracker1=search&fm=organic&iid=1b46f281-1602-4314-bb73-75dafebd44e6.MOBGRHB7GUUZG3QH.SEARCH&ppt=hp&ppn=homepage&ssid=t7o3907q280000001694347398905&qH=16e35e1c76bc3b93', 'https://www.flipkart.com/redmi-note-12-ice-blue-64-gb/p/itmee415766dfc1a?pid=MOBGNYHZYZ4CNTCM&lid=LSTMOBGNYHZYZ4CNTCMVONB0S&marketplace=FLIPKART&q=redmi+smartphone&store=tyy%2F4io&srno=s_1_19&otracker=search&otracker1=search&fm=organic&iid=1b46f281-1602-4314-bb73-75dafebd44e6.MOBGNYHZYZ4CNTCM.SEARCH&ppt=hp&ppn=homepage&ssid=t7o3907q280000001694347398905&qH=16e35e1c76bc3b93', 'https://www.flipkart.com/redmi-12-5g-jade-black-128-gb/p/itm0c8ba13f6fc5b?pid=MOBGS9QU7QVWUWRD&lid=LSTMOBGS9QU7QVWUWRDCTGYQ5&marketplace=FLIPKART&q=redmi+smartphone&store=tyy%2F4io&srno=s_1_20&otracker=search&otracker1=search&fm=organic&iid=1b46f281-1602-4314-bb73-75dafebd44e6.MOBGS9QU7QVWUWRD.SEARCH&ppt=hp&ppn=homepage&ssid=t7o3907q280000001694347398905&qH=16e35e1c76bc3b93', 'https://www.flipkart.com/redmi-note-12-sunrise-gold-64-gb/p/itm5d170187bcbf0?pid=MOBGNYHZ7ZGHES2V&lid=LSTMOBGNYHZ7ZGHES2VQILAET&marketplace=FLIPKART&q=redmi+smartphone&store=tyy%2F4io&srno=s_1_21&otracker=search&otracker1=search&fm=organic&iid=1b46f281-1602-4314-bb73-75dafebd44e6.MOBGNYHZ7ZGHES2V.SEARCH&ppt=hp&ppn=homepage&ssid=t7o3907q280000001694347398905&qH=16e35e1c76bc3b93', 'https://www.flipkart.com/redmi-12c-lavender-purple-128-gb/p/itm3fe4e598a0358?pid=MOBGZEU9TYHQ8RGE&lid=LSTMOBGZEU9TYHQ8RGEJXEEKD&marketplace=FLIPKART&q=redmi+smartphone&store=tyy%2F4io&srno=s_1_22&otracker=search&otracker1=search&fm=organic&iid=1b46f281-1602-4314-bb73-75dafebd44e6.MOBGZEU9TYHQ8RGE.SEARCH&ppt=hp&ppn=homepage&ssid=t7o3907q280000001694347398905&qH=16e35e1c76bc3b93', 'https://www.flipkart.com/redmi-12c-mint-green-128-gb/p/itm3fe4e598a0358?pid=MOBGZEUDZWSZHYJM&lid=LSTMOBGZEUDZWSZHYJMPU2O1S&marketplace=FLIPKART&q=redmi+smartphone&store=tyy%2F4io&srno=s_1_23&otracker=search&otracker1=search&fm=organic&iid=1b46f281-1602-4314-bb73-75dafebd44e6.MOBGZEUDZWSZHYJM.SEARCH&ppt=hp&ppn=homepage&ssid=t7o3907q280000001694347398905&qH=16e35e1c76bc3b93', 'https://www.flipkart.com/redmi-12c-lavender-purple-64-gb/p/itm3fe4e598a0358?pid=MOBGZEVUSSJ8VGXZ&lid=LSTMOBGZEVUSSJ8VGXZQC5UNR&marketplace=FLIPKART&q=redmi+smartphone&store=tyy%2F4io&srno=s_1_24&otracker=search&otracker1=search&fm=organic&iid=1b46f281-1602-4314-bb73-75dafebd44e6.MOBGZEVUSSJ8VGXZ.SEARCH&ppt=hp&ppn=homepage&ssid=t7o3907q280000001694347398905&qH=16e35e1c76bc3b93']\n"
     ]
    },
    {
     "name": "stdout",
     "output_type": "stream",
     "text": [
      "['https://www.flipkart.com/redmi-12-moonstone-silver-128-gb/p/itme52e778c12701?pid=MOBGRMFK2MGRNG4Q&lid=LSTMOBGRMFK2MGRNG4QFZLVXT&marketplace=FLIPKART&q=redmi+smartphone&store=tyy%2F4io&spotlightTagId=BestsellerId_tyy%2F4io&srno=s_1_1&otracker=search&otracker1=search&fm=Search&iid=1b46f281-1602-4314-bb73-75dafebd44e6.MOBGRMFK2MGRNG4Q.SEARCH&ppt=sp&ppn=sp&ssid=t7o3907q280000001694347398905&qH=16e35e1c76bc3b93', 'https://www.flipkart.com/redmi-12-pastel-blue-128-gb/p/itm48719506a7ceb?pid=MOBGRMFKKGYD9ETX&lid=LSTMOBGRMFKKGYD9ETX5KD9VL&marketplace=FLIPKART&q=redmi+smartphone&store=tyy%2F4io&spotlightTagId=BestsellerId_tyy%2F4io&srno=s_1_2&otracker=search&otracker1=search&fm=Search&iid=1b46f281-1602-4314-bb73-75dafebd44e6.MOBGRMFKKGYD9ETX.SEARCH&ppt=sp&ppn=sp&ssid=t7o3907q280000001694347398905&qH=16e35e1c76bc3b93', 'https://www.flipkart.com/redmi-12-jade-black-128-gb/p/itmb7050ec01c09f?pid=MOBGRMFKTHKQSJEG&lid=LSTMOBGRMFKTHKQSJEGQK3FM2&marketplace=FLIPKART&q=redmi+smartphone&store=tyy%2F4io&spotlightTagId=BestsellerId_tyy%2F4io&srno=s_1_3&otracker=search&otracker1=search&fm=organic&iid=1b46f281-1602-4314-bb73-75dafebd44e6.MOBGRMFKTHKQSJEG.SEARCH&ppt=hp&ppn=homepage&ssid=t7o3907q280000001694347398905&qH=16e35e1c76bc3b93', 'https://www.flipkart.com/redmi-11-prime-peppy-purple-128-gb/p/itm52d6b0fe396e9?pid=MOBGZHFGUHYSHQYM&lid=LSTMOBGZHFGUHYSHQYMWGOOJ0&marketplace=FLIPKART&q=redmi+smartphone&store=tyy%2F4io&srno=s_1_4&otracker=search&otracker1=search&fm=organic&iid=1b46f281-1602-4314-bb73-75dafebd44e6.MOBGZHFGUHYSHQYM.SEARCH&ppt=hp&ppn=homepage&ssid=t7o3907q280000001694347398905&qH=16e35e1c76bc3b93', 'https://www.flipkart.com/redmi-12-pastel-blue-128-gb/p/itm9b1a6640faccd?pid=MOBGRMFKAHNTZPWE&lid=LSTMOBGRMFKAHNTZPWE1H5IWS&marketplace=FLIPKART&q=redmi+smartphone&store=tyy%2F4io&srno=s_1_5&otracker=search&otracker1=search&fm=organic&iid=1b46f281-1602-4314-bb73-75dafebd44e6.MOBGRMFKAHNTZPWE.SEARCH&ppt=hp&ppn=homepage&ssid=t7o3907q280000001694347398905&qH=16e35e1c76bc3b93', 'https://www.flipkart.com/redmi-a1-black-32-gb/p/itm70b00a77a7d1d?pid=MOBGGYBABVXHHRDQ&lid=LSTMOBGGYBABVXHHRDQTMWLXJ&marketplace=FLIPKART&q=redmi+smartphone&store=tyy%2F4io&srno=s_1_6&otracker=search&otracker1=search&fm=organic&iid=1b46f281-1602-4314-bb73-75dafebd44e6.MOBGGYBABVXHHRDQ.SEARCH&ppt=hp&ppn=homepage&ssid=t7o3907q280000001694347398905&qH=16e35e1c76bc3b93', 'https://www.flipkart.com/redmi-a1-light-green-32-gb/p/itmecc9e7ba0a1df?pid=MOBGGYBAHSAJVKHP&lid=LSTMOBGGYBAHSAJVKHP4UBD9A&marketplace=FLIPKART&q=redmi+smartphone&store=tyy%2F4io&srno=s_1_7&otracker=search&otracker1=search&fm=organic&iid=1b46f281-1602-4314-bb73-75dafebd44e6.MOBGGYBAHSAJVKHP.SEARCH&ppt=hp&ppn=homepage&ssid=t7o3907q280000001694347398905&qH=16e35e1c76bc3b93', 'https://www.flipkart.com/redmi-a2-aqua-blue-64-gb/p/itm5d49be2c0a95a?pid=MOBGPVYMG9RWX6XY&lid=LSTMOBGPVYMG9RWX6XYNJOQ2B&marketplace=FLIPKART&q=redmi+smartphone&store=tyy%2F4io&srno=s_1_8&otracker=search&otracker1=search&fm=organic&iid=1b46f281-1602-4314-bb73-75dafebd44e6.MOBGPVYMG9RWX6XY.SEARCH&ppt=hp&ppn=homepage&ssid=t7o3907q280000001694347398905&qH=16e35e1c76bc3b93', 'https://www.flipkart.com/redmi-a2-sea-green-32-gb/p/itm5d49be2c0a95a?pid=MOBGPVYATHJDTSSR&lid=LSTMOBGPVYATHJDTSSR6JMF4X&marketplace=FLIPKART&q=redmi+smartphone&store=tyy%2F4io&srno=s_1_9&otracker=search&otracker1=search&fm=organic&iid=1b46f281-1602-4314-bb73-75dafebd44e6.MOBGPVYATHJDTSSR.SEARCH&ppt=hp&ppn=homepage&ssid=t7o3907q280000001694347398905&qH=16e35e1c76bc3b93', 'https://www.flipkart.com/redmi-a2-aqua-blue-64-gb/p/itm5d49be2c0a95a?pid=MOBGR4UZWNAYKSUH&lid=LSTMOBGR4UZWNAYKSUHUXU5WM&marketplace=FLIPKART&q=redmi+smartphone&store=tyy%2F4io&srno=s_1_10&otracker=search&otracker1=search&fm=organic&iid=1b46f281-1602-4314-bb73-75dafebd44e6.MOBGR4UZWNAYKSUH.SEARCH&ppt=hp&ppn=homepage&ssid=t7o3907q280000001694347398905&qH=16e35e1c76bc3b93', 'https://www.flipkart.com/redmi-a2-classic-black-64-gb/p/itm5d49be2c0a95a?pid=MOBGPVYHRXZ3PFZU&lid=LSTMOBGPVYHRXZ3PFZU0QHLLF&marketplace=FLIPKART&q=redmi+smartphone&store=tyy%2F4io&srno=s_1_11&otracker=search&otracker1=search&fm=organic&iid=1b46f281-1602-4314-bb73-75dafebd44e6.MOBGPVYHRXZ3PFZU.SEARCH&ppt=hp&ppn=homepage&ssid=t7o3907q280000001694347398905&qH=16e35e1c76bc3b93', 'https://www.flipkart.com/redmi-9a-sport-coral-green-32-gb/p/itm53bc6ebfe147b?pid=MOBGHDXFKYSE5TPK&lid=LSTMOBGHDXFKYSE5TPKGHQ4XF&marketplace=FLIPKART&q=redmi+smartphone&store=tyy%2F4io&srno=s_1_12&otracker=search&otracker1=search&fm=organic&iid=1b46f281-1602-4314-bb73-75dafebd44e6.MOBGHDXFKYSE5TPK.SEARCH&ppt=hp&ppn=homepage&ssid=t7o3907q280000001694347398905&qH=16e35e1c76bc3b93', 'https://www.flipkart.com/redmi-6a-blue-16-gb/p/itm1ed294a755383?pid=MOBF9Z2Z3YDBSF6V&lid=LSTMOBF9Z2Z3YDBSF6VX16ZOH&marketplace=FLIPKART&q=redmi+smartphone&store=tyy%2F4io&srno=s_1_13&otracker=search&otracker1=search&fm=organic&iid=1b46f281-1602-4314-bb73-75dafebd44e6.MOBF9Z2Z3YDBSF6V.SEARCH&ppt=hp&ppn=homepage&ssid=t7o3907q280000001694347398905&qH=16e35e1c76bc3b93', 'https://www.flipkart.com/redmi-a2-aqua-blue-32-gb/p/itm5d49be2c0a95a?pid=MOBGPUZR8GHCE5ZQ&lid=LSTMOBGPUZR8GHCE5ZQ1P4DF9&marketplace=FLIPKART&q=redmi+smartphone&store=tyy%2F4io&srno=s_1_14&otracker=search&otracker1=search&fm=organic&iid=1b46f281-1602-4314-bb73-75dafebd44e6.MOBGPUZR8GHCE5ZQ.SEARCH&ppt=hp&ppn=homepage&ssid=t7o3907q280000001694347398905&qH=16e35e1c76bc3b93', 'https://www.flipkart.com/redmi-11-prime-playful-green-128-gb/p/itm0b080e6994972?pid=MOBGZHFGZQMESCDK&lid=LSTMOBGZHFGZQMESCDKZ6ILTE&marketplace=FLIPKART&q=redmi+smartphone&store=tyy%2F4io&srno=s_1_15&otracker=search&otracker1=search&fm=organic&iid=1b46f281-1602-4314-bb73-75dafebd44e6.MOBGZHFGZQMESCDK.SEARCH&ppt=hp&ppn=homepage&ssid=t7o3907q280000001694347398905&qH=16e35e1c76bc3b93', 'https://www.flipkart.com/redmi-a2-sea-green-64-gb/p/itm5d49be2c0a95a?pid=MOBGPVYEHMPGNCBZ&lid=LSTMOBGPVYEHMPGNCBZHUKI4Z&marketplace=FLIPKART&q=redmi+smartphone&store=tyy%2F4io&srno=s_1_16&otracker=search&otracker1=search&fm=organic&iid=1b46f281-1602-4314-bb73-75dafebd44e6.MOBGPVYEHMPGNCBZ.SEARCH&ppt=hp&ppn=homepage&ssid=t7o3907q280000001694347398905&qH=16e35e1c76bc3b93', 'https://www.flipkart.com/redmi-a2-classic-black-64-gb/p/itm5d49be2c0a95a?pid=MOBGRHB6XAEUADQB&lid=LSTMOBGRHB6XAEUADQBAI4AJ4&marketplace=FLIPKART&q=redmi+smartphone&store=tyy%2F4io&srno=s_1_17&otracker=search&otracker1=search&fm=organic&iid=1b46f281-1602-4314-bb73-75dafebd44e6.MOBGRHB6XAEUADQB.SEARCH&ppt=hp&ppn=homepage&ssid=t7o3907q280000001694347398905&qH=16e35e1c76bc3b93', 'https://www.flipkart.com/redmi-a2-sea-green-64-gb/p/itm5d49be2c0a95a?pid=MOBGRHB7GUUZG3QH&lid=LSTMOBGRHB7GUUZG3QHWXCHRR&marketplace=FLIPKART&q=redmi+smartphone&store=tyy%2F4io&srno=s_1_18&otracker=search&otracker1=search&fm=organic&iid=1b46f281-1602-4314-bb73-75dafebd44e6.MOBGRHB7GUUZG3QH.SEARCH&ppt=hp&ppn=homepage&ssid=t7o3907q280000001694347398905&qH=16e35e1c76bc3b93', 'https://www.flipkart.com/redmi-note-12-ice-blue-64-gb/p/itmee415766dfc1a?pid=MOBGNYHZYZ4CNTCM&lid=LSTMOBGNYHZYZ4CNTCMVONB0S&marketplace=FLIPKART&q=redmi+smartphone&store=tyy%2F4io&srno=s_1_19&otracker=search&otracker1=search&fm=organic&iid=1b46f281-1602-4314-bb73-75dafebd44e6.MOBGNYHZYZ4CNTCM.SEARCH&ppt=hp&ppn=homepage&ssid=t7o3907q280000001694347398905&qH=16e35e1c76bc3b93', 'https://www.flipkart.com/redmi-12-5g-jade-black-128-gb/p/itm0c8ba13f6fc5b?pid=MOBGS9QU7QVWUWRD&lid=LSTMOBGS9QU7QVWUWRDCTGYQ5&marketplace=FLIPKART&q=redmi+smartphone&store=tyy%2F4io&srno=s_1_20&otracker=search&otracker1=search&fm=organic&iid=1b46f281-1602-4314-bb73-75dafebd44e6.MOBGS9QU7QVWUWRD.SEARCH&ppt=hp&ppn=homepage&ssid=t7o3907q280000001694347398905&qH=16e35e1c76bc3b93', 'https://www.flipkart.com/redmi-note-12-sunrise-gold-64-gb/p/itm5d170187bcbf0?pid=MOBGNYHZ7ZGHES2V&lid=LSTMOBGNYHZ7ZGHES2VQILAET&marketplace=FLIPKART&q=redmi+smartphone&store=tyy%2F4io&srno=s_1_21&otracker=search&otracker1=search&fm=organic&iid=1b46f281-1602-4314-bb73-75dafebd44e6.MOBGNYHZ7ZGHES2V.SEARCH&ppt=hp&ppn=homepage&ssid=t7o3907q280000001694347398905&qH=16e35e1c76bc3b93', 'https://www.flipkart.com/redmi-12c-lavender-purple-128-gb/p/itm3fe4e598a0358?pid=MOBGZEU9TYHQ8RGE&lid=LSTMOBGZEU9TYHQ8RGEJXEEKD&marketplace=FLIPKART&q=redmi+smartphone&store=tyy%2F4io&srno=s_1_22&otracker=search&otracker1=search&fm=organic&iid=1b46f281-1602-4314-bb73-75dafebd44e6.MOBGZEU9TYHQ8RGE.SEARCH&ppt=hp&ppn=homepage&ssid=t7o3907q280000001694347398905&qH=16e35e1c76bc3b93', 'https://www.flipkart.com/redmi-12c-mint-green-128-gb/p/itm3fe4e598a0358?pid=MOBGZEUDZWSZHYJM&lid=LSTMOBGZEUDZWSZHYJMPU2O1S&marketplace=FLIPKART&q=redmi+smartphone&store=tyy%2F4io&srno=s_1_23&otracker=search&otracker1=search&fm=organic&iid=1b46f281-1602-4314-bb73-75dafebd44e6.MOBGZEUDZWSZHYJM.SEARCH&ppt=hp&ppn=homepage&ssid=t7o3907q280000001694347398905&qH=16e35e1c76bc3b93', 'https://www.flipkart.com/redmi-12c-lavender-purple-64-gb/p/itm3fe4e598a0358?pid=MOBGZEVUSSJ8VGXZ&lid=LSTMOBGZEVUSSJ8VGXZQC5UNR&marketplace=FLIPKART&q=redmi+smartphone&store=tyy%2F4io&srno=s_1_24&otracker=search&otracker1=search&fm=organic&iid=1b46f281-1602-4314-bb73-75dafebd44e6.MOBGZEVUSSJ8VGXZ.SEARCH&ppt=hp&ppn=homepage&ssid=t7o3907q280000001694347398905&qH=16e35e1c76bc3b93']\n",
      "['https://www.flipkart.com/redmi-12-moonstone-silver-128-gb/p/itme52e778c12701?pid=MOBGRMFK2MGRNG4Q&lid=LSTMOBGRMFK2MGRNG4QFZLVXT&marketplace=FLIPKART&q=redmi+smartphone&store=tyy%2F4io&spotlightTagId=BestsellerId_tyy%2F4io&srno=s_1_1&otracker=search&otracker1=search&fm=Search&iid=1b46f281-1602-4314-bb73-75dafebd44e6.MOBGRMFK2MGRNG4Q.SEARCH&ppt=sp&ppn=sp&ssid=t7o3907q280000001694347398905&qH=16e35e1c76bc3b93', 'https://www.flipkart.com/redmi-12-pastel-blue-128-gb/p/itm48719506a7ceb?pid=MOBGRMFKKGYD9ETX&lid=LSTMOBGRMFKKGYD9ETX5KD9VL&marketplace=FLIPKART&q=redmi+smartphone&store=tyy%2F4io&spotlightTagId=BestsellerId_tyy%2F4io&srno=s_1_2&otracker=search&otracker1=search&fm=Search&iid=1b46f281-1602-4314-bb73-75dafebd44e6.MOBGRMFKKGYD9ETX.SEARCH&ppt=sp&ppn=sp&ssid=t7o3907q280000001694347398905&qH=16e35e1c76bc3b93', 'https://www.flipkart.com/redmi-12-jade-black-128-gb/p/itmb7050ec01c09f?pid=MOBGRMFKTHKQSJEG&lid=LSTMOBGRMFKTHKQSJEGQK3FM2&marketplace=FLIPKART&q=redmi+smartphone&store=tyy%2F4io&spotlightTagId=BestsellerId_tyy%2F4io&srno=s_1_3&otracker=search&otracker1=search&fm=organic&iid=1b46f281-1602-4314-bb73-75dafebd44e6.MOBGRMFKTHKQSJEG.SEARCH&ppt=hp&ppn=homepage&ssid=t7o3907q280000001694347398905&qH=16e35e1c76bc3b93', 'https://www.flipkart.com/redmi-11-prime-peppy-purple-128-gb/p/itm52d6b0fe396e9?pid=MOBGZHFGUHYSHQYM&lid=LSTMOBGZHFGUHYSHQYMWGOOJ0&marketplace=FLIPKART&q=redmi+smartphone&store=tyy%2F4io&srno=s_1_4&otracker=search&otracker1=search&fm=organic&iid=1b46f281-1602-4314-bb73-75dafebd44e6.MOBGZHFGUHYSHQYM.SEARCH&ppt=hp&ppn=homepage&ssid=t7o3907q280000001694347398905&qH=16e35e1c76bc3b93', 'https://www.flipkart.com/redmi-12-pastel-blue-128-gb/p/itm9b1a6640faccd?pid=MOBGRMFKAHNTZPWE&lid=LSTMOBGRMFKAHNTZPWE1H5IWS&marketplace=FLIPKART&q=redmi+smartphone&store=tyy%2F4io&srno=s_1_5&otracker=search&otracker1=search&fm=organic&iid=1b46f281-1602-4314-bb73-75dafebd44e6.MOBGRMFKAHNTZPWE.SEARCH&ppt=hp&ppn=homepage&ssid=t7o3907q280000001694347398905&qH=16e35e1c76bc3b93', 'https://www.flipkart.com/redmi-a1-black-32-gb/p/itm70b00a77a7d1d?pid=MOBGGYBABVXHHRDQ&lid=LSTMOBGGYBABVXHHRDQTMWLXJ&marketplace=FLIPKART&q=redmi+smartphone&store=tyy%2F4io&srno=s_1_6&otracker=search&otracker1=search&fm=organic&iid=1b46f281-1602-4314-bb73-75dafebd44e6.MOBGGYBABVXHHRDQ.SEARCH&ppt=hp&ppn=homepage&ssid=t7o3907q280000001694347398905&qH=16e35e1c76bc3b93', 'https://www.flipkart.com/redmi-a1-light-green-32-gb/p/itmecc9e7ba0a1df?pid=MOBGGYBAHSAJVKHP&lid=LSTMOBGGYBAHSAJVKHP4UBD9A&marketplace=FLIPKART&q=redmi+smartphone&store=tyy%2F4io&srno=s_1_7&otracker=search&otracker1=search&fm=organic&iid=1b46f281-1602-4314-bb73-75dafebd44e6.MOBGGYBAHSAJVKHP.SEARCH&ppt=hp&ppn=homepage&ssid=t7o3907q280000001694347398905&qH=16e35e1c76bc3b93', 'https://www.flipkart.com/redmi-a2-aqua-blue-64-gb/p/itm5d49be2c0a95a?pid=MOBGPVYMG9RWX6XY&lid=LSTMOBGPVYMG9RWX6XYNJOQ2B&marketplace=FLIPKART&q=redmi+smartphone&store=tyy%2F4io&srno=s_1_8&otracker=search&otracker1=search&fm=organic&iid=1b46f281-1602-4314-bb73-75dafebd44e6.MOBGPVYMG9RWX6XY.SEARCH&ppt=hp&ppn=homepage&ssid=t7o3907q280000001694347398905&qH=16e35e1c76bc3b93', 'https://www.flipkart.com/redmi-a2-sea-green-32-gb/p/itm5d49be2c0a95a?pid=MOBGPVYATHJDTSSR&lid=LSTMOBGPVYATHJDTSSR6JMF4X&marketplace=FLIPKART&q=redmi+smartphone&store=tyy%2F4io&srno=s_1_9&otracker=search&otracker1=search&fm=organic&iid=1b46f281-1602-4314-bb73-75dafebd44e6.MOBGPVYATHJDTSSR.SEARCH&ppt=hp&ppn=homepage&ssid=t7o3907q280000001694347398905&qH=16e35e1c76bc3b93', 'https://www.flipkart.com/redmi-a2-aqua-blue-64-gb/p/itm5d49be2c0a95a?pid=MOBGR4UZWNAYKSUH&lid=LSTMOBGR4UZWNAYKSUHUXU5WM&marketplace=FLIPKART&q=redmi+smartphone&store=tyy%2F4io&srno=s_1_10&otracker=search&otracker1=search&fm=organic&iid=1b46f281-1602-4314-bb73-75dafebd44e6.MOBGR4UZWNAYKSUH.SEARCH&ppt=hp&ppn=homepage&ssid=t7o3907q280000001694347398905&qH=16e35e1c76bc3b93', 'https://www.flipkart.com/redmi-a2-classic-black-64-gb/p/itm5d49be2c0a95a?pid=MOBGPVYHRXZ3PFZU&lid=LSTMOBGPVYHRXZ3PFZU0QHLLF&marketplace=FLIPKART&q=redmi+smartphone&store=tyy%2F4io&srno=s_1_11&otracker=search&otracker1=search&fm=organic&iid=1b46f281-1602-4314-bb73-75dafebd44e6.MOBGPVYHRXZ3PFZU.SEARCH&ppt=hp&ppn=homepage&ssid=t7o3907q280000001694347398905&qH=16e35e1c76bc3b93', 'https://www.flipkart.com/redmi-9a-sport-coral-green-32-gb/p/itm53bc6ebfe147b?pid=MOBGHDXFKYSE5TPK&lid=LSTMOBGHDXFKYSE5TPKGHQ4XF&marketplace=FLIPKART&q=redmi+smartphone&store=tyy%2F4io&srno=s_1_12&otracker=search&otracker1=search&fm=organic&iid=1b46f281-1602-4314-bb73-75dafebd44e6.MOBGHDXFKYSE5TPK.SEARCH&ppt=hp&ppn=homepage&ssid=t7o3907q280000001694347398905&qH=16e35e1c76bc3b93', 'https://www.flipkart.com/redmi-6a-blue-16-gb/p/itm1ed294a755383?pid=MOBF9Z2Z3YDBSF6V&lid=LSTMOBF9Z2Z3YDBSF6VX16ZOH&marketplace=FLIPKART&q=redmi+smartphone&store=tyy%2F4io&srno=s_1_13&otracker=search&otracker1=search&fm=organic&iid=1b46f281-1602-4314-bb73-75dafebd44e6.MOBF9Z2Z3YDBSF6V.SEARCH&ppt=hp&ppn=homepage&ssid=t7o3907q280000001694347398905&qH=16e35e1c76bc3b93', 'https://www.flipkart.com/redmi-a2-aqua-blue-32-gb/p/itm5d49be2c0a95a?pid=MOBGPUZR8GHCE5ZQ&lid=LSTMOBGPUZR8GHCE5ZQ1P4DF9&marketplace=FLIPKART&q=redmi+smartphone&store=tyy%2F4io&srno=s_1_14&otracker=search&otracker1=search&fm=organic&iid=1b46f281-1602-4314-bb73-75dafebd44e6.MOBGPUZR8GHCE5ZQ.SEARCH&ppt=hp&ppn=homepage&ssid=t7o3907q280000001694347398905&qH=16e35e1c76bc3b93', 'https://www.flipkart.com/redmi-11-prime-playful-green-128-gb/p/itm0b080e6994972?pid=MOBGZHFGZQMESCDK&lid=LSTMOBGZHFGZQMESCDKZ6ILTE&marketplace=FLIPKART&q=redmi+smartphone&store=tyy%2F4io&srno=s_1_15&otracker=search&otracker1=search&fm=organic&iid=1b46f281-1602-4314-bb73-75dafebd44e6.MOBGZHFGZQMESCDK.SEARCH&ppt=hp&ppn=homepage&ssid=t7o3907q280000001694347398905&qH=16e35e1c76bc3b93', 'https://www.flipkart.com/redmi-a2-sea-green-64-gb/p/itm5d49be2c0a95a?pid=MOBGPVYEHMPGNCBZ&lid=LSTMOBGPVYEHMPGNCBZHUKI4Z&marketplace=FLIPKART&q=redmi+smartphone&store=tyy%2F4io&srno=s_1_16&otracker=search&otracker1=search&fm=organic&iid=1b46f281-1602-4314-bb73-75dafebd44e6.MOBGPVYEHMPGNCBZ.SEARCH&ppt=hp&ppn=homepage&ssid=t7o3907q280000001694347398905&qH=16e35e1c76bc3b93', 'https://www.flipkart.com/redmi-a2-classic-black-64-gb/p/itm5d49be2c0a95a?pid=MOBGRHB6XAEUADQB&lid=LSTMOBGRHB6XAEUADQBAI4AJ4&marketplace=FLIPKART&q=redmi+smartphone&store=tyy%2F4io&srno=s_1_17&otracker=search&otracker1=search&fm=organic&iid=1b46f281-1602-4314-bb73-75dafebd44e6.MOBGRHB6XAEUADQB.SEARCH&ppt=hp&ppn=homepage&ssid=t7o3907q280000001694347398905&qH=16e35e1c76bc3b93', 'https://www.flipkart.com/redmi-a2-sea-green-64-gb/p/itm5d49be2c0a95a?pid=MOBGRHB7GUUZG3QH&lid=LSTMOBGRHB7GUUZG3QHWXCHRR&marketplace=FLIPKART&q=redmi+smartphone&store=tyy%2F4io&srno=s_1_18&otracker=search&otracker1=search&fm=organic&iid=1b46f281-1602-4314-bb73-75dafebd44e6.MOBGRHB7GUUZG3QH.SEARCH&ppt=hp&ppn=homepage&ssid=t7o3907q280000001694347398905&qH=16e35e1c76bc3b93', 'https://www.flipkart.com/redmi-note-12-ice-blue-64-gb/p/itmee415766dfc1a?pid=MOBGNYHZYZ4CNTCM&lid=LSTMOBGNYHZYZ4CNTCMVONB0S&marketplace=FLIPKART&q=redmi+smartphone&store=tyy%2F4io&srno=s_1_19&otracker=search&otracker1=search&fm=organic&iid=1b46f281-1602-4314-bb73-75dafebd44e6.MOBGNYHZYZ4CNTCM.SEARCH&ppt=hp&ppn=homepage&ssid=t7o3907q280000001694347398905&qH=16e35e1c76bc3b93', 'https://www.flipkart.com/redmi-12-5g-jade-black-128-gb/p/itm0c8ba13f6fc5b?pid=MOBGS9QU7QVWUWRD&lid=LSTMOBGS9QU7QVWUWRDCTGYQ5&marketplace=FLIPKART&q=redmi+smartphone&store=tyy%2F4io&srno=s_1_20&otracker=search&otracker1=search&fm=organic&iid=1b46f281-1602-4314-bb73-75dafebd44e6.MOBGS9QU7QVWUWRD.SEARCH&ppt=hp&ppn=homepage&ssid=t7o3907q280000001694347398905&qH=16e35e1c76bc3b93', 'https://www.flipkart.com/redmi-note-12-sunrise-gold-64-gb/p/itm5d170187bcbf0?pid=MOBGNYHZ7ZGHES2V&lid=LSTMOBGNYHZ7ZGHES2VQILAET&marketplace=FLIPKART&q=redmi+smartphone&store=tyy%2F4io&srno=s_1_21&otracker=search&otracker1=search&fm=organic&iid=1b46f281-1602-4314-bb73-75dafebd44e6.MOBGNYHZ7ZGHES2V.SEARCH&ppt=hp&ppn=homepage&ssid=t7o3907q280000001694347398905&qH=16e35e1c76bc3b93', 'https://www.flipkart.com/redmi-12c-lavender-purple-128-gb/p/itm3fe4e598a0358?pid=MOBGZEU9TYHQ8RGE&lid=LSTMOBGZEU9TYHQ8RGEJXEEKD&marketplace=FLIPKART&q=redmi+smartphone&store=tyy%2F4io&srno=s_1_22&otracker=search&otracker1=search&fm=organic&iid=1b46f281-1602-4314-bb73-75dafebd44e6.MOBGZEU9TYHQ8RGE.SEARCH&ppt=hp&ppn=homepage&ssid=t7o3907q280000001694347398905&qH=16e35e1c76bc3b93', 'https://www.flipkart.com/redmi-12c-mint-green-128-gb/p/itm3fe4e598a0358?pid=MOBGZEUDZWSZHYJM&lid=LSTMOBGZEUDZWSZHYJMPU2O1S&marketplace=FLIPKART&q=redmi+smartphone&store=tyy%2F4io&srno=s_1_23&otracker=search&otracker1=search&fm=organic&iid=1b46f281-1602-4314-bb73-75dafebd44e6.MOBGZEUDZWSZHYJM.SEARCH&ppt=hp&ppn=homepage&ssid=t7o3907q280000001694347398905&qH=16e35e1c76bc3b93', 'https://www.flipkart.com/redmi-12c-lavender-purple-64-gb/p/itm3fe4e598a0358?pid=MOBGZEVUSSJ8VGXZ&lid=LSTMOBGZEVUSSJ8VGXZQC5UNR&marketplace=FLIPKART&q=redmi+smartphone&store=tyy%2F4io&srno=s_1_24&otracker=search&otracker1=search&fm=organic&iid=1b46f281-1602-4314-bb73-75dafebd44e6.MOBGZEVUSSJ8VGXZ.SEARCH&ppt=hp&ppn=homepage&ssid=t7o3907q280000001694347398905&qH=16e35e1c76bc3b93']\n"
     ]
    },
    {
     "name": "stdout",
     "output_type": "stream",
     "text": [
      "['https://www.flipkart.com/redmi-12-moonstone-silver-128-gb/p/itme52e778c12701?pid=MOBGRMFK2MGRNG4Q&lid=LSTMOBGRMFK2MGRNG4QFZLVXT&marketplace=FLIPKART&q=redmi+smartphone&store=tyy%2F4io&spotlightTagId=BestsellerId_tyy%2F4io&srno=s_1_1&otracker=search&otracker1=search&fm=Search&iid=1b46f281-1602-4314-bb73-75dafebd44e6.MOBGRMFK2MGRNG4Q.SEARCH&ppt=sp&ppn=sp&ssid=t7o3907q280000001694347398905&qH=16e35e1c76bc3b93', 'https://www.flipkart.com/redmi-12-pastel-blue-128-gb/p/itm48719506a7ceb?pid=MOBGRMFKKGYD9ETX&lid=LSTMOBGRMFKKGYD9ETX5KD9VL&marketplace=FLIPKART&q=redmi+smartphone&store=tyy%2F4io&spotlightTagId=BestsellerId_tyy%2F4io&srno=s_1_2&otracker=search&otracker1=search&fm=Search&iid=1b46f281-1602-4314-bb73-75dafebd44e6.MOBGRMFKKGYD9ETX.SEARCH&ppt=sp&ppn=sp&ssid=t7o3907q280000001694347398905&qH=16e35e1c76bc3b93', 'https://www.flipkart.com/redmi-12-jade-black-128-gb/p/itmb7050ec01c09f?pid=MOBGRMFKTHKQSJEG&lid=LSTMOBGRMFKTHKQSJEGQK3FM2&marketplace=FLIPKART&q=redmi+smartphone&store=tyy%2F4io&spotlightTagId=BestsellerId_tyy%2F4io&srno=s_1_3&otracker=search&otracker1=search&fm=organic&iid=1b46f281-1602-4314-bb73-75dafebd44e6.MOBGRMFKTHKQSJEG.SEARCH&ppt=hp&ppn=homepage&ssid=t7o3907q280000001694347398905&qH=16e35e1c76bc3b93', 'https://www.flipkart.com/redmi-11-prime-peppy-purple-128-gb/p/itm52d6b0fe396e9?pid=MOBGZHFGUHYSHQYM&lid=LSTMOBGZHFGUHYSHQYMWGOOJ0&marketplace=FLIPKART&q=redmi+smartphone&store=tyy%2F4io&srno=s_1_4&otracker=search&otracker1=search&fm=organic&iid=1b46f281-1602-4314-bb73-75dafebd44e6.MOBGZHFGUHYSHQYM.SEARCH&ppt=hp&ppn=homepage&ssid=t7o3907q280000001694347398905&qH=16e35e1c76bc3b93', 'https://www.flipkart.com/redmi-12-pastel-blue-128-gb/p/itm9b1a6640faccd?pid=MOBGRMFKAHNTZPWE&lid=LSTMOBGRMFKAHNTZPWE1H5IWS&marketplace=FLIPKART&q=redmi+smartphone&store=tyy%2F4io&srno=s_1_5&otracker=search&otracker1=search&fm=organic&iid=1b46f281-1602-4314-bb73-75dafebd44e6.MOBGRMFKAHNTZPWE.SEARCH&ppt=hp&ppn=homepage&ssid=t7o3907q280000001694347398905&qH=16e35e1c76bc3b93', 'https://www.flipkart.com/redmi-a1-black-32-gb/p/itm70b00a77a7d1d?pid=MOBGGYBABVXHHRDQ&lid=LSTMOBGGYBABVXHHRDQTMWLXJ&marketplace=FLIPKART&q=redmi+smartphone&store=tyy%2F4io&srno=s_1_6&otracker=search&otracker1=search&fm=organic&iid=1b46f281-1602-4314-bb73-75dafebd44e6.MOBGGYBABVXHHRDQ.SEARCH&ppt=hp&ppn=homepage&ssid=t7o3907q280000001694347398905&qH=16e35e1c76bc3b93', 'https://www.flipkart.com/redmi-a1-light-green-32-gb/p/itmecc9e7ba0a1df?pid=MOBGGYBAHSAJVKHP&lid=LSTMOBGGYBAHSAJVKHP4UBD9A&marketplace=FLIPKART&q=redmi+smartphone&store=tyy%2F4io&srno=s_1_7&otracker=search&otracker1=search&fm=organic&iid=1b46f281-1602-4314-bb73-75dafebd44e6.MOBGGYBAHSAJVKHP.SEARCH&ppt=hp&ppn=homepage&ssid=t7o3907q280000001694347398905&qH=16e35e1c76bc3b93', 'https://www.flipkart.com/redmi-a2-aqua-blue-64-gb/p/itm5d49be2c0a95a?pid=MOBGPVYMG9RWX6XY&lid=LSTMOBGPVYMG9RWX6XYNJOQ2B&marketplace=FLIPKART&q=redmi+smartphone&store=tyy%2F4io&srno=s_1_8&otracker=search&otracker1=search&fm=organic&iid=1b46f281-1602-4314-bb73-75dafebd44e6.MOBGPVYMG9RWX6XY.SEARCH&ppt=hp&ppn=homepage&ssid=t7o3907q280000001694347398905&qH=16e35e1c76bc3b93', 'https://www.flipkart.com/redmi-a2-sea-green-32-gb/p/itm5d49be2c0a95a?pid=MOBGPVYATHJDTSSR&lid=LSTMOBGPVYATHJDTSSR6JMF4X&marketplace=FLIPKART&q=redmi+smartphone&store=tyy%2F4io&srno=s_1_9&otracker=search&otracker1=search&fm=organic&iid=1b46f281-1602-4314-bb73-75dafebd44e6.MOBGPVYATHJDTSSR.SEARCH&ppt=hp&ppn=homepage&ssid=t7o3907q280000001694347398905&qH=16e35e1c76bc3b93', 'https://www.flipkart.com/redmi-a2-aqua-blue-64-gb/p/itm5d49be2c0a95a?pid=MOBGR4UZWNAYKSUH&lid=LSTMOBGR4UZWNAYKSUHUXU5WM&marketplace=FLIPKART&q=redmi+smartphone&store=tyy%2F4io&srno=s_1_10&otracker=search&otracker1=search&fm=organic&iid=1b46f281-1602-4314-bb73-75dafebd44e6.MOBGR4UZWNAYKSUH.SEARCH&ppt=hp&ppn=homepage&ssid=t7o3907q280000001694347398905&qH=16e35e1c76bc3b93', 'https://www.flipkart.com/redmi-a2-classic-black-64-gb/p/itm5d49be2c0a95a?pid=MOBGPVYHRXZ3PFZU&lid=LSTMOBGPVYHRXZ3PFZU0QHLLF&marketplace=FLIPKART&q=redmi+smartphone&store=tyy%2F4io&srno=s_1_11&otracker=search&otracker1=search&fm=organic&iid=1b46f281-1602-4314-bb73-75dafebd44e6.MOBGPVYHRXZ3PFZU.SEARCH&ppt=hp&ppn=homepage&ssid=t7o3907q280000001694347398905&qH=16e35e1c76bc3b93', 'https://www.flipkart.com/redmi-9a-sport-coral-green-32-gb/p/itm53bc6ebfe147b?pid=MOBGHDXFKYSE5TPK&lid=LSTMOBGHDXFKYSE5TPKGHQ4XF&marketplace=FLIPKART&q=redmi+smartphone&store=tyy%2F4io&srno=s_1_12&otracker=search&otracker1=search&fm=organic&iid=1b46f281-1602-4314-bb73-75dafebd44e6.MOBGHDXFKYSE5TPK.SEARCH&ppt=hp&ppn=homepage&ssid=t7o3907q280000001694347398905&qH=16e35e1c76bc3b93', 'https://www.flipkart.com/redmi-6a-blue-16-gb/p/itm1ed294a755383?pid=MOBF9Z2Z3YDBSF6V&lid=LSTMOBF9Z2Z3YDBSF6VX16ZOH&marketplace=FLIPKART&q=redmi+smartphone&store=tyy%2F4io&srno=s_1_13&otracker=search&otracker1=search&fm=organic&iid=1b46f281-1602-4314-bb73-75dafebd44e6.MOBF9Z2Z3YDBSF6V.SEARCH&ppt=hp&ppn=homepage&ssid=t7o3907q280000001694347398905&qH=16e35e1c76bc3b93', 'https://www.flipkart.com/redmi-a2-aqua-blue-32-gb/p/itm5d49be2c0a95a?pid=MOBGPUZR8GHCE5ZQ&lid=LSTMOBGPUZR8GHCE5ZQ1P4DF9&marketplace=FLIPKART&q=redmi+smartphone&store=tyy%2F4io&srno=s_1_14&otracker=search&otracker1=search&fm=organic&iid=1b46f281-1602-4314-bb73-75dafebd44e6.MOBGPUZR8GHCE5ZQ.SEARCH&ppt=hp&ppn=homepage&ssid=t7o3907q280000001694347398905&qH=16e35e1c76bc3b93', 'https://www.flipkart.com/redmi-11-prime-playful-green-128-gb/p/itm0b080e6994972?pid=MOBGZHFGZQMESCDK&lid=LSTMOBGZHFGZQMESCDKZ6ILTE&marketplace=FLIPKART&q=redmi+smartphone&store=tyy%2F4io&srno=s_1_15&otracker=search&otracker1=search&fm=organic&iid=1b46f281-1602-4314-bb73-75dafebd44e6.MOBGZHFGZQMESCDK.SEARCH&ppt=hp&ppn=homepage&ssid=t7o3907q280000001694347398905&qH=16e35e1c76bc3b93', 'https://www.flipkart.com/redmi-a2-sea-green-64-gb/p/itm5d49be2c0a95a?pid=MOBGPVYEHMPGNCBZ&lid=LSTMOBGPVYEHMPGNCBZHUKI4Z&marketplace=FLIPKART&q=redmi+smartphone&store=tyy%2F4io&srno=s_1_16&otracker=search&otracker1=search&fm=organic&iid=1b46f281-1602-4314-bb73-75dafebd44e6.MOBGPVYEHMPGNCBZ.SEARCH&ppt=hp&ppn=homepage&ssid=t7o3907q280000001694347398905&qH=16e35e1c76bc3b93', 'https://www.flipkart.com/redmi-a2-classic-black-64-gb/p/itm5d49be2c0a95a?pid=MOBGRHB6XAEUADQB&lid=LSTMOBGRHB6XAEUADQBAI4AJ4&marketplace=FLIPKART&q=redmi+smartphone&store=tyy%2F4io&srno=s_1_17&otracker=search&otracker1=search&fm=organic&iid=1b46f281-1602-4314-bb73-75dafebd44e6.MOBGRHB6XAEUADQB.SEARCH&ppt=hp&ppn=homepage&ssid=t7o3907q280000001694347398905&qH=16e35e1c76bc3b93', 'https://www.flipkart.com/redmi-a2-sea-green-64-gb/p/itm5d49be2c0a95a?pid=MOBGRHB7GUUZG3QH&lid=LSTMOBGRHB7GUUZG3QHWXCHRR&marketplace=FLIPKART&q=redmi+smartphone&store=tyy%2F4io&srno=s_1_18&otracker=search&otracker1=search&fm=organic&iid=1b46f281-1602-4314-bb73-75dafebd44e6.MOBGRHB7GUUZG3QH.SEARCH&ppt=hp&ppn=homepage&ssid=t7o3907q280000001694347398905&qH=16e35e1c76bc3b93', 'https://www.flipkart.com/redmi-note-12-ice-blue-64-gb/p/itmee415766dfc1a?pid=MOBGNYHZYZ4CNTCM&lid=LSTMOBGNYHZYZ4CNTCMVONB0S&marketplace=FLIPKART&q=redmi+smartphone&store=tyy%2F4io&srno=s_1_19&otracker=search&otracker1=search&fm=organic&iid=1b46f281-1602-4314-bb73-75dafebd44e6.MOBGNYHZYZ4CNTCM.SEARCH&ppt=hp&ppn=homepage&ssid=t7o3907q280000001694347398905&qH=16e35e1c76bc3b93', 'https://www.flipkart.com/redmi-12-5g-jade-black-128-gb/p/itm0c8ba13f6fc5b?pid=MOBGS9QU7QVWUWRD&lid=LSTMOBGS9QU7QVWUWRDCTGYQ5&marketplace=FLIPKART&q=redmi+smartphone&store=tyy%2F4io&srno=s_1_20&otracker=search&otracker1=search&fm=organic&iid=1b46f281-1602-4314-bb73-75dafebd44e6.MOBGS9QU7QVWUWRD.SEARCH&ppt=hp&ppn=homepage&ssid=t7o3907q280000001694347398905&qH=16e35e1c76bc3b93', 'https://www.flipkart.com/redmi-note-12-sunrise-gold-64-gb/p/itm5d170187bcbf0?pid=MOBGNYHZ7ZGHES2V&lid=LSTMOBGNYHZ7ZGHES2VQILAET&marketplace=FLIPKART&q=redmi+smartphone&store=tyy%2F4io&srno=s_1_21&otracker=search&otracker1=search&fm=organic&iid=1b46f281-1602-4314-bb73-75dafebd44e6.MOBGNYHZ7ZGHES2V.SEARCH&ppt=hp&ppn=homepage&ssid=t7o3907q280000001694347398905&qH=16e35e1c76bc3b93', 'https://www.flipkart.com/redmi-12c-lavender-purple-128-gb/p/itm3fe4e598a0358?pid=MOBGZEU9TYHQ8RGE&lid=LSTMOBGZEU9TYHQ8RGEJXEEKD&marketplace=FLIPKART&q=redmi+smartphone&store=tyy%2F4io&srno=s_1_22&otracker=search&otracker1=search&fm=organic&iid=1b46f281-1602-4314-bb73-75dafebd44e6.MOBGZEU9TYHQ8RGE.SEARCH&ppt=hp&ppn=homepage&ssid=t7o3907q280000001694347398905&qH=16e35e1c76bc3b93', 'https://www.flipkart.com/redmi-12c-mint-green-128-gb/p/itm3fe4e598a0358?pid=MOBGZEUDZWSZHYJM&lid=LSTMOBGZEUDZWSZHYJMPU2O1S&marketplace=FLIPKART&q=redmi+smartphone&store=tyy%2F4io&srno=s_1_23&otracker=search&otracker1=search&fm=organic&iid=1b46f281-1602-4314-bb73-75dafebd44e6.MOBGZEUDZWSZHYJM.SEARCH&ppt=hp&ppn=homepage&ssid=t7o3907q280000001694347398905&qH=16e35e1c76bc3b93', 'https://www.flipkart.com/redmi-12c-lavender-purple-64-gb/p/itm3fe4e598a0358?pid=MOBGZEVUSSJ8VGXZ&lid=LSTMOBGZEVUSSJ8VGXZQC5UNR&marketplace=FLIPKART&q=redmi+smartphone&store=tyy%2F4io&srno=s_1_24&otracker=search&otracker1=search&fm=organic&iid=1b46f281-1602-4314-bb73-75dafebd44e6.MOBGZEVUSSJ8VGXZ.SEARCH&ppt=hp&ppn=homepage&ssid=t7o3907q280000001694347398905&qH=16e35e1c76bc3b93']\n",
      "['https://www.flipkart.com/redmi-12-moonstone-silver-128-gb/p/itme52e778c12701?pid=MOBGRMFK2MGRNG4Q&lid=LSTMOBGRMFK2MGRNG4QFZLVXT&marketplace=FLIPKART&q=redmi+smartphone&store=tyy%2F4io&spotlightTagId=BestsellerId_tyy%2F4io&srno=s_1_1&otracker=search&otracker1=search&fm=Search&iid=1b46f281-1602-4314-bb73-75dafebd44e6.MOBGRMFK2MGRNG4Q.SEARCH&ppt=sp&ppn=sp&ssid=t7o3907q280000001694347398905&qH=16e35e1c76bc3b93', 'https://www.flipkart.com/redmi-12-pastel-blue-128-gb/p/itm48719506a7ceb?pid=MOBGRMFKKGYD9ETX&lid=LSTMOBGRMFKKGYD9ETX5KD9VL&marketplace=FLIPKART&q=redmi+smartphone&store=tyy%2F4io&spotlightTagId=BestsellerId_tyy%2F4io&srno=s_1_2&otracker=search&otracker1=search&fm=Search&iid=1b46f281-1602-4314-bb73-75dafebd44e6.MOBGRMFKKGYD9ETX.SEARCH&ppt=sp&ppn=sp&ssid=t7o3907q280000001694347398905&qH=16e35e1c76bc3b93', 'https://www.flipkart.com/redmi-12-jade-black-128-gb/p/itmb7050ec01c09f?pid=MOBGRMFKTHKQSJEG&lid=LSTMOBGRMFKTHKQSJEGQK3FM2&marketplace=FLIPKART&q=redmi+smartphone&store=tyy%2F4io&spotlightTagId=BestsellerId_tyy%2F4io&srno=s_1_3&otracker=search&otracker1=search&fm=organic&iid=1b46f281-1602-4314-bb73-75dafebd44e6.MOBGRMFKTHKQSJEG.SEARCH&ppt=hp&ppn=homepage&ssid=t7o3907q280000001694347398905&qH=16e35e1c76bc3b93', 'https://www.flipkart.com/redmi-11-prime-peppy-purple-128-gb/p/itm52d6b0fe396e9?pid=MOBGZHFGUHYSHQYM&lid=LSTMOBGZHFGUHYSHQYMWGOOJ0&marketplace=FLIPKART&q=redmi+smartphone&store=tyy%2F4io&srno=s_1_4&otracker=search&otracker1=search&fm=organic&iid=1b46f281-1602-4314-bb73-75dafebd44e6.MOBGZHFGUHYSHQYM.SEARCH&ppt=hp&ppn=homepage&ssid=t7o3907q280000001694347398905&qH=16e35e1c76bc3b93', 'https://www.flipkart.com/redmi-12-pastel-blue-128-gb/p/itm9b1a6640faccd?pid=MOBGRMFKAHNTZPWE&lid=LSTMOBGRMFKAHNTZPWE1H5IWS&marketplace=FLIPKART&q=redmi+smartphone&store=tyy%2F4io&srno=s_1_5&otracker=search&otracker1=search&fm=organic&iid=1b46f281-1602-4314-bb73-75dafebd44e6.MOBGRMFKAHNTZPWE.SEARCH&ppt=hp&ppn=homepage&ssid=t7o3907q280000001694347398905&qH=16e35e1c76bc3b93', 'https://www.flipkart.com/redmi-a1-black-32-gb/p/itm70b00a77a7d1d?pid=MOBGGYBABVXHHRDQ&lid=LSTMOBGGYBABVXHHRDQTMWLXJ&marketplace=FLIPKART&q=redmi+smartphone&store=tyy%2F4io&srno=s_1_6&otracker=search&otracker1=search&fm=organic&iid=1b46f281-1602-4314-bb73-75dafebd44e6.MOBGGYBABVXHHRDQ.SEARCH&ppt=hp&ppn=homepage&ssid=t7o3907q280000001694347398905&qH=16e35e1c76bc3b93', 'https://www.flipkart.com/redmi-a1-light-green-32-gb/p/itmecc9e7ba0a1df?pid=MOBGGYBAHSAJVKHP&lid=LSTMOBGGYBAHSAJVKHP4UBD9A&marketplace=FLIPKART&q=redmi+smartphone&store=tyy%2F4io&srno=s_1_7&otracker=search&otracker1=search&fm=organic&iid=1b46f281-1602-4314-bb73-75dafebd44e6.MOBGGYBAHSAJVKHP.SEARCH&ppt=hp&ppn=homepage&ssid=t7o3907q280000001694347398905&qH=16e35e1c76bc3b93', 'https://www.flipkart.com/redmi-a2-aqua-blue-64-gb/p/itm5d49be2c0a95a?pid=MOBGPVYMG9RWX6XY&lid=LSTMOBGPVYMG9RWX6XYNJOQ2B&marketplace=FLIPKART&q=redmi+smartphone&store=tyy%2F4io&srno=s_1_8&otracker=search&otracker1=search&fm=organic&iid=1b46f281-1602-4314-bb73-75dafebd44e6.MOBGPVYMG9RWX6XY.SEARCH&ppt=hp&ppn=homepage&ssid=t7o3907q280000001694347398905&qH=16e35e1c76bc3b93', 'https://www.flipkart.com/redmi-a2-sea-green-32-gb/p/itm5d49be2c0a95a?pid=MOBGPVYATHJDTSSR&lid=LSTMOBGPVYATHJDTSSR6JMF4X&marketplace=FLIPKART&q=redmi+smartphone&store=tyy%2F4io&srno=s_1_9&otracker=search&otracker1=search&fm=organic&iid=1b46f281-1602-4314-bb73-75dafebd44e6.MOBGPVYATHJDTSSR.SEARCH&ppt=hp&ppn=homepage&ssid=t7o3907q280000001694347398905&qH=16e35e1c76bc3b93', 'https://www.flipkart.com/redmi-a2-aqua-blue-64-gb/p/itm5d49be2c0a95a?pid=MOBGR4UZWNAYKSUH&lid=LSTMOBGR4UZWNAYKSUHUXU5WM&marketplace=FLIPKART&q=redmi+smartphone&store=tyy%2F4io&srno=s_1_10&otracker=search&otracker1=search&fm=organic&iid=1b46f281-1602-4314-bb73-75dafebd44e6.MOBGR4UZWNAYKSUH.SEARCH&ppt=hp&ppn=homepage&ssid=t7o3907q280000001694347398905&qH=16e35e1c76bc3b93', 'https://www.flipkart.com/redmi-a2-classic-black-64-gb/p/itm5d49be2c0a95a?pid=MOBGPVYHRXZ3PFZU&lid=LSTMOBGPVYHRXZ3PFZU0QHLLF&marketplace=FLIPKART&q=redmi+smartphone&store=tyy%2F4io&srno=s_1_11&otracker=search&otracker1=search&fm=organic&iid=1b46f281-1602-4314-bb73-75dafebd44e6.MOBGPVYHRXZ3PFZU.SEARCH&ppt=hp&ppn=homepage&ssid=t7o3907q280000001694347398905&qH=16e35e1c76bc3b93', 'https://www.flipkart.com/redmi-9a-sport-coral-green-32-gb/p/itm53bc6ebfe147b?pid=MOBGHDXFKYSE5TPK&lid=LSTMOBGHDXFKYSE5TPKGHQ4XF&marketplace=FLIPKART&q=redmi+smartphone&store=tyy%2F4io&srno=s_1_12&otracker=search&otracker1=search&fm=organic&iid=1b46f281-1602-4314-bb73-75dafebd44e6.MOBGHDXFKYSE5TPK.SEARCH&ppt=hp&ppn=homepage&ssid=t7o3907q280000001694347398905&qH=16e35e1c76bc3b93', 'https://www.flipkart.com/redmi-6a-blue-16-gb/p/itm1ed294a755383?pid=MOBF9Z2Z3YDBSF6V&lid=LSTMOBF9Z2Z3YDBSF6VX16ZOH&marketplace=FLIPKART&q=redmi+smartphone&store=tyy%2F4io&srno=s_1_13&otracker=search&otracker1=search&fm=organic&iid=1b46f281-1602-4314-bb73-75dafebd44e6.MOBF9Z2Z3YDBSF6V.SEARCH&ppt=hp&ppn=homepage&ssid=t7o3907q280000001694347398905&qH=16e35e1c76bc3b93', 'https://www.flipkart.com/redmi-a2-aqua-blue-32-gb/p/itm5d49be2c0a95a?pid=MOBGPUZR8GHCE5ZQ&lid=LSTMOBGPUZR8GHCE5ZQ1P4DF9&marketplace=FLIPKART&q=redmi+smartphone&store=tyy%2F4io&srno=s_1_14&otracker=search&otracker1=search&fm=organic&iid=1b46f281-1602-4314-bb73-75dafebd44e6.MOBGPUZR8GHCE5ZQ.SEARCH&ppt=hp&ppn=homepage&ssid=t7o3907q280000001694347398905&qH=16e35e1c76bc3b93', 'https://www.flipkart.com/redmi-11-prime-playful-green-128-gb/p/itm0b080e6994972?pid=MOBGZHFGZQMESCDK&lid=LSTMOBGZHFGZQMESCDKZ6ILTE&marketplace=FLIPKART&q=redmi+smartphone&store=tyy%2F4io&srno=s_1_15&otracker=search&otracker1=search&fm=organic&iid=1b46f281-1602-4314-bb73-75dafebd44e6.MOBGZHFGZQMESCDK.SEARCH&ppt=hp&ppn=homepage&ssid=t7o3907q280000001694347398905&qH=16e35e1c76bc3b93', 'https://www.flipkart.com/redmi-a2-sea-green-64-gb/p/itm5d49be2c0a95a?pid=MOBGPVYEHMPGNCBZ&lid=LSTMOBGPVYEHMPGNCBZHUKI4Z&marketplace=FLIPKART&q=redmi+smartphone&store=tyy%2F4io&srno=s_1_16&otracker=search&otracker1=search&fm=organic&iid=1b46f281-1602-4314-bb73-75dafebd44e6.MOBGPVYEHMPGNCBZ.SEARCH&ppt=hp&ppn=homepage&ssid=t7o3907q280000001694347398905&qH=16e35e1c76bc3b93', 'https://www.flipkart.com/redmi-a2-classic-black-64-gb/p/itm5d49be2c0a95a?pid=MOBGRHB6XAEUADQB&lid=LSTMOBGRHB6XAEUADQBAI4AJ4&marketplace=FLIPKART&q=redmi+smartphone&store=tyy%2F4io&srno=s_1_17&otracker=search&otracker1=search&fm=organic&iid=1b46f281-1602-4314-bb73-75dafebd44e6.MOBGRHB6XAEUADQB.SEARCH&ppt=hp&ppn=homepage&ssid=t7o3907q280000001694347398905&qH=16e35e1c76bc3b93', 'https://www.flipkart.com/redmi-a2-sea-green-64-gb/p/itm5d49be2c0a95a?pid=MOBGRHB7GUUZG3QH&lid=LSTMOBGRHB7GUUZG3QHWXCHRR&marketplace=FLIPKART&q=redmi+smartphone&store=tyy%2F4io&srno=s_1_18&otracker=search&otracker1=search&fm=organic&iid=1b46f281-1602-4314-bb73-75dafebd44e6.MOBGRHB7GUUZG3QH.SEARCH&ppt=hp&ppn=homepage&ssid=t7o3907q280000001694347398905&qH=16e35e1c76bc3b93', 'https://www.flipkart.com/redmi-note-12-ice-blue-64-gb/p/itmee415766dfc1a?pid=MOBGNYHZYZ4CNTCM&lid=LSTMOBGNYHZYZ4CNTCMVONB0S&marketplace=FLIPKART&q=redmi+smartphone&store=tyy%2F4io&srno=s_1_19&otracker=search&otracker1=search&fm=organic&iid=1b46f281-1602-4314-bb73-75dafebd44e6.MOBGNYHZYZ4CNTCM.SEARCH&ppt=hp&ppn=homepage&ssid=t7o3907q280000001694347398905&qH=16e35e1c76bc3b93', 'https://www.flipkart.com/redmi-12-5g-jade-black-128-gb/p/itm0c8ba13f6fc5b?pid=MOBGS9QU7QVWUWRD&lid=LSTMOBGS9QU7QVWUWRDCTGYQ5&marketplace=FLIPKART&q=redmi+smartphone&store=tyy%2F4io&srno=s_1_20&otracker=search&otracker1=search&fm=organic&iid=1b46f281-1602-4314-bb73-75dafebd44e6.MOBGS9QU7QVWUWRD.SEARCH&ppt=hp&ppn=homepage&ssid=t7o3907q280000001694347398905&qH=16e35e1c76bc3b93', 'https://www.flipkart.com/redmi-note-12-sunrise-gold-64-gb/p/itm5d170187bcbf0?pid=MOBGNYHZ7ZGHES2V&lid=LSTMOBGNYHZ7ZGHES2VQILAET&marketplace=FLIPKART&q=redmi+smartphone&store=tyy%2F4io&srno=s_1_21&otracker=search&otracker1=search&fm=organic&iid=1b46f281-1602-4314-bb73-75dafebd44e6.MOBGNYHZ7ZGHES2V.SEARCH&ppt=hp&ppn=homepage&ssid=t7o3907q280000001694347398905&qH=16e35e1c76bc3b93', 'https://www.flipkart.com/redmi-12c-lavender-purple-128-gb/p/itm3fe4e598a0358?pid=MOBGZEU9TYHQ8RGE&lid=LSTMOBGZEU9TYHQ8RGEJXEEKD&marketplace=FLIPKART&q=redmi+smartphone&store=tyy%2F4io&srno=s_1_22&otracker=search&otracker1=search&fm=organic&iid=1b46f281-1602-4314-bb73-75dafebd44e6.MOBGZEU9TYHQ8RGE.SEARCH&ppt=hp&ppn=homepage&ssid=t7o3907q280000001694347398905&qH=16e35e1c76bc3b93', 'https://www.flipkart.com/redmi-12c-mint-green-128-gb/p/itm3fe4e598a0358?pid=MOBGZEUDZWSZHYJM&lid=LSTMOBGZEUDZWSZHYJMPU2O1S&marketplace=FLIPKART&q=redmi+smartphone&store=tyy%2F4io&srno=s_1_23&otracker=search&otracker1=search&fm=organic&iid=1b46f281-1602-4314-bb73-75dafebd44e6.MOBGZEUDZWSZHYJM.SEARCH&ppt=hp&ppn=homepage&ssid=t7o3907q280000001694347398905&qH=16e35e1c76bc3b93', 'https://www.flipkart.com/redmi-12c-lavender-purple-64-gb/p/itm3fe4e598a0358?pid=MOBGZEVUSSJ8VGXZ&lid=LSTMOBGZEVUSSJ8VGXZQC5UNR&marketplace=FLIPKART&q=redmi+smartphone&store=tyy%2F4io&srno=s_1_24&otracker=search&otracker1=search&fm=organic&iid=1b46f281-1602-4314-bb73-75dafebd44e6.MOBGZEVUSSJ8VGXZ.SEARCH&ppt=hp&ppn=homepage&ssid=t7o3907q280000001694347398905&qH=16e35e1c76bc3b93']\n"
     ]
    },
    {
     "name": "stdout",
     "output_type": "stream",
     "text": [
      "['https://www.flipkart.com/redmi-12-moonstone-silver-128-gb/p/itme52e778c12701?pid=MOBGRMFK2MGRNG4Q&lid=LSTMOBGRMFK2MGRNG4QFZLVXT&marketplace=FLIPKART&q=redmi+smartphone&store=tyy%2F4io&spotlightTagId=BestsellerId_tyy%2F4io&srno=s_1_1&otracker=search&otracker1=search&fm=Search&iid=1b46f281-1602-4314-bb73-75dafebd44e6.MOBGRMFK2MGRNG4Q.SEARCH&ppt=sp&ppn=sp&ssid=t7o3907q280000001694347398905&qH=16e35e1c76bc3b93', 'https://www.flipkart.com/redmi-12-pastel-blue-128-gb/p/itm48719506a7ceb?pid=MOBGRMFKKGYD9ETX&lid=LSTMOBGRMFKKGYD9ETX5KD9VL&marketplace=FLIPKART&q=redmi+smartphone&store=tyy%2F4io&spotlightTagId=BestsellerId_tyy%2F4io&srno=s_1_2&otracker=search&otracker1=search&fm=Search&iid=1b46f281-1602-4314-bb73-75dafebd44e6.MOBGRMFKKGYD9ETX.SEARCH&ppt=sp&ppn=sp&ssid=t7o3907q280000001694347398905&qH=16e35e1c76bc3b93', 'https://www.flipkart.com/redmi-12-jade-black-128-gb/p/itmb7050ec01c09f?pid=MOBGRMFKTHKQSJEG&lid=LSTMOBGRMFKTHKQSJEGQK3FM2&marketplace=FLIPKART&q=redmi+smartphone&store=tyy%2F4io&spotlightTagId=BestsellerId_tyy%2F4io&srno=s_1_3&otracker=search&otracker1=search&fm=organic&iid=1b46f281-1602-4314-bb73-75dafebd44e6.MOBGRMFKTHKQSJEG.SEARCH&ppt=hp&ppn=homepage&ssid=t7o3907q280000001694347398905&qH=16e35e1c76bc3b93', 'https://www.flipkart.com/redmi-11-prime-peppy-purple-128-gb/p/itm52d6b0fe396e9?pid=MOBGZHFGUHYSHQYM&lid=LSTMOBGZHFGUHYSHQYMWGOOJ0&marketplace=FLIPKART&q=redmi+smartphone&store=tyy%2F4io&srno=s_1_4&otracker=search&otracker1=search&fm=organic&iid=1b46f281-1602-4314-bb73-75dafebd44e6.MOBGZHFGUHYSHQYM.SEARCH&ppt=hp&ppn=homepage&ssid=t7o3907q280000001694347398905&qH=16e35e1c76bc3b93', 'https://www.flipkart.com/redmi-12-pastel-blue-128-gb/p/itm9b1a6640faccd?pid=MOBGRMFKAHNTZPWE&lid=LSTMOBGRMFKAHNTZPWE1H5IWS&marketplace=FLIPKART&q=redmi+smartphone&store=tyy%2F4io&srno=s_1_5&otracker=search&otracker1=search&fm=organic&iid=1b46f281-1602-4314-bb73-75dafebd44e6.MOBGRMFKAHNTZPWE.SEARCH&ppt=hp&ppn=homepage&ssid=t7o3907q280000001694347398905&qH=16e35e1c76bc3b93', 'https://www.flipkart.com/redmi-a1-black-32-gb/p/itm70b00a77a7d1d?pid=MOBGGYBABVXHHRDQ&lid=LSTMOBGGYBABVXHHRDQTMWLXJ&marketplace=FLIPKART&q=redmi+smartphone&store=tyy%2F4io&srno=s_1_6&otracker=search&otracker1=search&fm=organic&iid=1b46f281-1602-4314-bb73-75dafebd44e6.MOBGGYBABVXHHRDQ.SEARCH&ppt=hp&ppn=homepage&ssid=t7o3907q280000001694347398905&qH=16e35e1c76bc3b93', 'https://www.flipkart.com/redmi-a1-light-green-32-gb/p/itmecc9e7ba0a1df?pid=MOBGGYBAHSAJVKHP&lid=LSTMOBGGYBAHSAJVKHP4UBD9A&marketplace=FLIPKART&q=redmi+smartphone&store=tyy%2F4io&srno=s_1_7&otracker=search&otracker1=search&fm=organic&iid=1b46f281-1602-4314-bb73-75dafebd44e6.MOBGGYBAHSAJVKHP.SEARCH&ppt=hp&ppn=homepage&ssid=t7o3907q280000001694347398905&qH=16e35e1c76bc3b93', 'https://www.flipkart.com/redmi-a2-aqua-blue-64-gb/p/itm5d49be2c0a95a?pid=MOBGPVYMG9RWX6XY&lid=LSTMOBGPVYMG9RWX6XYNJOQ2B&marketplace=FLIPKART&q=redmi+smartphone&store=tyy%2F4io&srno=s_1_8&otracker=search&otracker1=search&fm=organic&iid=1b46f281-1602-4314-bb73-75dafebd44e6.MOBGPVYMG9RWX6XY.SEARCH&ppt=hp&ppn=homepage&ssid=t7o3907q280000001694347398905&qH=16e35e1c76bc3b93', 'https://www.flipkart.com/redmi-a2-sea-green-32-gb/p/itm5d49be2c0a95a?pid=MOBGPVYATHJDTSSR&lid=LSTMOBGPVYATHJDTSSR6JMF4X&marketplace=FLIPKART&q=redmi+smartphone&store=tyy%2F4io&srno=s_1_9&otracker=search&otracker1=search&fm=organic&iid=1b46f281-1602-4314-bb73-75dafebd44e6.MOBGPVYATHJDTSSR.SEARCH&ppt=hp&ppn=homepage&ssid=t7o3907q280000001694347398905&qH=16e35e1c76bc3b93', 'https://www.flipkart.com/redmi-a2-aqua-blue-64-gb/p/itm5d49be2c0a95a?pid=MOBGR4UZWNAYKSUH&lid=LSTMOBGR4UZWNAYKSUHUXU5WM&marketplace=FLIPKART&q=redmi+smartphone&store=tyy%2F4io&srno=s_1_10&otracker=search&otracker1=search&fm=organic&iid=1b46f281-1602-4314-bb73-75dafebd44e6.MOBGR4UZWNAYKSUH.SEARCH&ppt=hp&ppn=homepage&ssid=t7o3907q280000001694347398905&qH=16e35e1c76bc3b93', 'https://www.flipkart.com/redmi-a2-classic-black-64-gb/p/itm5d49be2c0a95a?pid=MOBGPVYHRXZ3PFZU&lid=LSTMOBGPVYHRXZ3PFZU0QHLLF&marketplace=FLIPKART&q=redmi+smartphone&store=tyy%2F4io&srno=s_1_11&otracker=search&otracker1=search&fm=organic&iid=1b46f281-1602-4314-bb73-75dafebd44e6.MOBGPVYHRXZ3PFZU.SEARCH&ppt=hp&ppn=homepage&ssid=t7o3907q280000001694347398905&qH=16e35e1c76bc3b93', 'https://www.flipkart.com/redmi-9a-sport-coral-green-32-gb/p/itm53bc6ebfe147b?pid=MOBGHDXFKYSE5TPK&lid=LSTMOBGHDXFKYSE5TPKGHQ4XF&marketplace=FLIPKART&q=redmi+smartphone&store=tyy%2F4io&srno=s_1_12&otracker=search&otracker1=search&fm=organic&iid=1b46f281-1602-4314-bb73-75dafebd44e6.MOBGHDXFKYSE5TPK.SEARCH&ppt=hp&ppn=homepage&ssid=t7o3907q280000001694347398905&qH=16e35e1c76bc3b93', 'https://www.flipkart.com/redmi-6a-blue-16-gb/p/itm1ed294a755383?pid=MOBF9Z2Z3YDBSF6V&lid=LSTMOBF9Z2Z3YDBSF6VX16ZOH&marketplace=FLIPKART&q=redmi+smartphone&store=tyy%2F4io&srno=s_1_13&otracker=search&otracker1=search&fm=organic&iid=1b46f281-1602-4314-bb73-75dafebd44e6.MOBF9Z2Z3YDBSF6V.SEARCH&ppt=hp&ppn=homepage&ssid=t7o3907q280000001694347398905&qH=16e35e1c76bc3b93', 'https://www.flipkart.com/redmi-a2-aqua-blue-32-gb/p/itm5d49be2c0a95a?pid=MOBGPUZR8GHCE5ZQ&lid=LSTMOBGPUZR8GHCE5ZQ1P4DF9&marketplace=FLIPKART&q=redmi+smartphone&store=tyy%2F4io&srno=s_1_14&otracker=search&otracker1=search&fm=organic&iid=1b46f281-1602-4314-bb73-75dafebd44e6.MOBGPUZR8GHCE5ZQ.SEARCH&ppt=hp&ppn=homepage&ssid=t7o3907q280000001694347398905&qH=16e35e1c76bc3b93', 'https://www.flipkart.com/redmi-11-prime-playful-green-128-gb/p/itm0b080e6994972?pid=MOBGZHFGZQMESCDK&lid=LSTMOBGZHFGZQMESCDKZ6ILTE&marketplace=FLIPKART&q=redmi+smartphone&store=tyy%2F4io&srno=s_1_15&otracker=search&otracker1=search&fm=organic&iid=1b46f281-1602-4314-bb73-75dafebd44e6.MOBGZHFGZQMESCDK.SEARCH&ppt=hp&ppn=homepage&ssid=t7o3907q280000001694347398905&qH=16e35e1c76bc3b93', 'https://www.flipkart.com/redmi-a2-sea-green-64-gb/p/itm5d49be2c0a95a?pid=MOBGPVYEHMPGNCBZ&lid=LSTMOBGPVYEHMPGNCBZHUKI4Z&marketplace=FLIPKART&q=redmi+smartphone&store=tyy%2F4io&srno=s_1_16&otracker=search&otracker1=search&fm=organic&iid=1b46f281-1602-4314-bb73-75dafebd44e6.MOBGPVYEHMPGNCBZ.SEARCH&ppt=hp&ppn=homepage&ssid=t7o3907q280000001694347398905&qH=16e35e1c76bc3b93', 'https://www.flipkart.com/redmi-a2-classic-black-64-gb/p/itm5d49be2c0a95a?pid=MOBGRHB6XAEUADQB&lid=LSTMOBGRHB6XAEUADQBAI4AJ4&marketplace=FLIPKART&q=redmi+smartphone&store=tyy%2F4io&srno=s_1_17&otracker=search&otracker1=search&fm=organic&iid=1b46f281-1602-4314-bb73-75dafebd44e6.MOBGRHB6XAEUADQB.SEARCH&ppt=hp&ppn=homepage&ssid=t7o3907q280000001694347398905&qH=16e35e1c76bc3b93', 'https://www.flipkart.com/redmi-a2-sea-green-64-gb/p/itm5d49be2c0a95a?pid=MOBGRHB7GUUZG3QH&lid=LSTMOBGRHB7GUUZG3QHWXCHRR&marketplace=FLIPKART&q=redmi+smartphone&store=tyy%2F4io&srno=s_1_18&otracker=search&otracker1=search&fm=organic&iid=1b46f281-1602-4314-bb73-75dafebd44e6.MOBGRHB7GUUZG3QH.SEARCH&ppt=hp&ppn=homepage&ssid=t7o3907q280000001694347398905&qH=16e35e1c76bc3b93', 'https://www.flipkart.com/redmi-note-12-ice-blue-64-gb/p/itmee415766dfc1a?pid=MOBGNYHZYZ4CNTCM&lid=LSTMOBGNYHZYZ4CNTCMVONB0S&marketplace=FLIPKART&q=redmi+smartphone&store=tyy%2F4io&srno=s_1_19&otracker=search&otracker1=search&fm=organic&iid=1b46f281-1602-4314-bb73-75dafebd44e6.MOBGNYHZYZ4CNTCM.SEARCH&ppt=hp&ppn=homepage&ssid=t7o3907q280000001694347398905&qH=16e35e1c76bc3b93', 'https://www.flipkart.com/redmi-12-5g-jade-black-128-gb/p/itm0c8ba13f6fc5b?pid=MOBGS9QU7QVWUWRD&lid=LSTMOBGS9QU7QVWUWRDCTGYQ5&marketplace=FLIPKART&q=redmi+smartphone&store=tyy%2F4io&srno=s_1_20&otracker=search&otracker1=search&fm=organic&iid=1b46f281-1602-4314-bb73-75dafebd44e6.MOBGS9QU7QVWUWRD.SEARCH&ppt=hp&ppn=homepage&ssid=t7o3907q280000001694347398905&qH=16e35e1c76bc3b93', 'https://www.flipkart.com/redmi-note-12-sunrise-gold-64-gb/p/itm5d170187bcbf0?pid=MOBGNYHZ7ZGHES2V&lid=LSTMOBGNYHZ7ZGHES2VQILAET&marketplace=FLIPKART&q=redmi+smartphone&store=tyy%2F4io&srno=s_1_21&otracker=search&otracker1=search&fm=organic&iid=1b46f281-1602-4314-bb73-75dafebd44e6.MOBGNYHZ7ZGHES2V.SEARCH&ppt=hp&ppn=homepage&ssid=t7o3907q280000001694347398905&qH=16e35e1c76bc3b93', 'https://www.flipkart.com/redmi-12c-lavender-purple-128-gb/p/itm3fe4e598a0358?pid=MOBGZEU9TYHQ8RGE&lid=LSTMOBGZEU9TYHQ8RGEJXEEKD&marketplace=FLIPKART&q=redmi+smartphone&store=tyy%2F4io&srno=s_1_22&otracker=search&otracker1=search&fm=organic&iid=1b46f281-1602-4314-bb73-75dafebd44e6.MOBGZEU9TYHQ8RGE.SEARCH&ppt=hp&ppn=homepage&ssid=t7o3907q280000001694347398905&qH=16e35e1c76bc3b93', 'https://www.flipkart.com/redmi-12c-mint-green-128-gb/p/itm3fe4e598a0358?pid=MOBGZEUDZWSZHYJM&lid=LSTMOBGZEUDZWSZHYJMPU2O1S&marketplace=FLIPKART&q=redmi+smartphone&store=tyy%2F4io&srno=s_1_23&otracker=search&otracker1=search&fm=organic&iid=1b46f281-1602-4314-bb73-75dafebd44e6.MOBGZEUDZWSZHYJM.SEARCH&ppt=hp&ppn=homepage&ssid=t7o3907q280000001694347398905&qH=16e35e1c76bc3b93', 'https://www.flipkart.com/redmi-12c-lavender-purple-64-gb/p/itm3fe4e598a0358?pid=MOBGZEVUSSJ8VGXZ&lid=LSTMOBGZEVUSSJ8VGXZQC5UNR&marketplace=FLIPKART&q=redmi+smartphone&store=tyy%2F4io&srno=s_1_24&otracker=search&otracker1=search&fm=organic&iid=1b46f281-1602-4314-bb73-75dafebd44e6.MOBGZEVUSSJ8VGXZ.SEARCH&ppt=hp&ppn=homepage&ssid=t7o3907q280000001694347398905&qH=16e35e1c76bc3b93']\n",
      "['https://www.flipkart.com/redmi-12-moonstone-silver-128-gb/p/itme52e778c12701?pid=MOBGRMFK2MGRNG4Q&lid=LSTMOBGRMFK2MGRNG4QFZLVXT&marketplace=FLIPKART&q=redmi+smartphone&store=tyy%2F4io&spotlightTagId=BestsellerId_tyy%2F4io&srno=s_1_1&otracker=search&otracker1=search&fm=Search&iid=1b46f281-1602-4314-bb73-75dafebd44e6.MOBGRMFK2MGRNG4Q.SEARCH&ppt=sp&ppn=sp&ssid=t7o3907q280000001694347398905&qH=16e35e1c76bc3b93', 'https://www.flipkart.com/redmi-12-pastel-blue-128-gb/p/itm48719506a7ceb?pid=MOBGRMFKKGYD9ETX&lid=LSTMOBGRMFKKGYD9ETX5KD9VL&marketplace=FLIPKART&q=redmi+smartphone&store=tyy%2F4io&spotlightTagId=BestsellerId_tyy%2F4io&srno=s_1_2&otracker=search&otracker1=search&fm=Search&iid=1b46f281-1602-4314-bb73-75dafebd44e6.MOBGRMFKKGYD9ETX.SEARCH&ppt=sp&ppn=sp&ssid=t7o3907q280000001694347398905&qH=16e35e1c76bc3b93', 'https://www.flipkart.com/redmi-12-jade-black-128-gb/p/itmb7050ec01c09f?pid=MOBGRMFKTHKQSJEG&lid=LSTMOBGRMFKTHKQSJEGQK3FM2&marketplace=FLIPKART&q=redmi+smartphone&store=tyy%2F4io&spotlightTagId=BestsellerId_tyy%2F4io&srno=s_1_3&otracker=search&otracker1=search&fm=organic&iid=1b46f281-1602-4314-bb73-75dafebd44e6.MOBGRMFKTHKQSJEG.SEARCH&ppt=hp&ppn=homepage&ssid=t7o3907q280000001694347398905&qH=16e35e1c76bc3b93', 'https://www.flipkart.com/redmi-11-prime-peppy-purple-128-gb/p/itm52d6b0fe396e9?pid=MOBGZHFGUHYSHQYM&lid=LSTMOBGZHFGUHYSHQYMWGOOJ0&marketplace=FLIPKART&q=redmi+smartphone&store=tyy%2F4io&srno=s_1_4&otracker=search&otracker1=search&fm=organic&iid=1b46f281-1602-4314-bb73-75dafebd44e6.MOBGZHFGUHYSHQYM.SEARCH&ppt=hp&ppn=homepage&ssid=t7o3907q280000001694347398905&qH=16e35e1c76bc3b93', 'https://www.flipkart.com/redmi-12-pastel-blue-128-gb/p/itm9b1a6640faccd?pid=MOBGRMFKAHNTZPWE&lid=LSTMOBGRMFKAHNTZPWE1H5IWS&marketplace=FLIPKART&q=redmi+smartphone&store=tyy%2F4io&srno=s_1_5&otracker=search&otracker1=search&fm=organic&iid=1b46f281-1602-4314-bb73-75dafebd44e6.MOBGRMFKAHNTZPWE.SEARCH&ppt=hp&ppn=homepage&ssid=t7o3907q280000001694347398905&qH=16e35e1c76bc3b93', 'https://www.flipkart.com/redmi-a1-black-32-gb/p/itm70b00a77a7d1d?pid=MOBGGYBABVXHHRDQ&lid=LSTMOBGGYBABVXHHRDQTMWLXJ&marketplace=FLIPKART&q=redmi+smartphone&store=tyy%2F4io&srno=s_1_6&otracker=search&otracker1=search&fm=organic&iid=1b46f281-1602-4314-bb73-75dafebd44e6.MOBGGYBABVXHHRDQ.SEARCH&ppt=hp&ppn=homepage&ssid=t7o3907q280000001694347398905&qH=16e35e1c76bc3b93', 'https://www.flipkart.com/redmi-a1-light-green-32-gb/p/itmecc9e7ba0a1df?pid=MOBGGYBAHSAJVKHP&lid=LSTMOBGGYBAHSAJVKHP4UBD9A&marketplace=FLIPKART&q=redmi+smartphone&store=tyy%2F4io&srno=s_1_7&otracker=search&otracker1=search&fm=organic&iid=1b46f281-1602-4314-bb73-75dafebd44e6.MOBGGYBAHSAJVKHP.SEARCH&ppt=hp&ppn=homepage&ssid=t7o3907q280000001694347398905&qH=16e35e1c76bc3b93', 'https://www.flipkart.com/redmi-a2-aqua-blue-64-gb/p/itm5d49be2c0a95a?pid=MOBGPVYMG9RWX6XY&lid=LSTMOBGPVYMG9RWX6XYNJOQ2B&marketplace=FLIPKART&q=redmi+smartphone&store=tyy%2F4io&srno=s_1_8&otracker=search&otracker1=search&fm=organic&iid=1b46f281-1602-4314-bb73-75dafebd44e6.MOBGPVYMG9RWX6XY.SEARCH&ppt=hp&ppn=homepage&ssid=t7o3907q280000001694347398905&qH=16e35e1c76bc3b93', 'https://www.flipkart.com/redmi-a2-sea-green-32-gb/p/itm5d49be2c0a95a?pid=MOBGPVYATHJDTSSR&lid=LSTMOBGPVYATHJDTSSR6JMF4X&marketplace=FLIPKART&q=redmi+smartphone&store=tyy%2F4io&srno=s_1_9&otracker=search&otracker1=search&fm=organic&iid=1b46f281-1602-4314-bb73-75dafebd44e6.MOBGPVYATHJDTSSR.SEARCH&ppt=hp&ppn=homepage&ssid=t7o3907q280000001694347398905&qH=16e35e1c76bc3b93', 'https://www.flipkart.com/redmi-a2-aqua-blue-64-gb/p/itm5d49be2c0a95a?pid=MOBGR4UZWNAYKSUH&lid=LSTMOBGR4UZWNAYKSUHUXU5WM&marketplace=FLIPKART&q=redmi+smartphone&store=tyy%2F4io&srno=s_1_10&otracker=search&otracker1=search&fm=organic&iid=1b46f281-1602-4314-bb73-75dafebd44e6.MOBGR4UZWNAYKSUH.SEARCH&ppt=hp&ppn=homepage&ssid=t7o3907q280000001694347398905&qH=16e35e1c76bc3b93', 'https://www.flipkart.com/redmi-a2-classic-black-64-gb/p/itm5d49be2c0a95a?pid=MOBGPVYHRXZ3PFZU&lid=LSTMOBGPVYHRXZ3PFZU0QHLLF&marketplace=FLIPKART&q=redmi+smartphone&store=tyy%2F4io&srno=s_1_11&otracker=search&otracker1=search&fm=organic&iid=1b46f281-1602-4314-bb73-75dafebd44e6.MOBGPVYHRXZ3PFZU.SEARCH&ppt=hp&ppn=homepage&ssid=t7o3907q280000001694347398905&qH=16e35e1c76bc3b93', 'https://www.flipkart.com/redmi-9a-sport-coral-green-32-gb/p/itm53bc6ebfe147b?pid=MOBGHDXFKYSE5TPK&lid=LSTMOBGHDXFKYSE5TPKGHQ4XF&marketplace=FLIPKART&q=redmi+smartphone&store=tyy%2F4io&srno=s_1_12&otracker=search&otracker1=search&fm=organic&iid=1b46f281-1602-4314-bb73-75dafebd44e6.MOBGHDXFKYSE5TPK.SEARCH&ppt=hp&ppn=homepage&ssid=t7o3907q280000001694347398905&qH=16e35e1c76bc3b93', 'https://www.flipkart.com/redmi-6a-blue-16-gb/p/itm1ed294a755383?pid=MOBF9Z2Z3YDBSF6V&lid=LSTMOBF9Z2Z3YDBSF6VX16ZOH&marketplace=FLIPKART&q=redmi+smartphone&store=tyy%2F4io&srno=s_1_13&otracker=search&otracker1=search&fm=organic&iid=1b46f281-1602-4314-bb73-75dafebd44e6.MOBF9Z2Z3YDBSF6V.SEARCH&ppt=hp&ppn=homepage&ssid=t7o3907q280000001694347398905&qH=16e35e1c76bc3b93', 'https://www.flipkart.com/redmi-a2-aqua-blue-32-gb/p/itm5d49be2c0a95a?pid=MOBGPUZR8GHCE5ZQ&lid=LSTMOBGPUZR8GHCE5ZQ1P4DF9&marketplace=FLIPKART&q=redmi+smartphone&store=tyy%2F4io&srno=s_1_14&otracker=search&otracker1=search&fm=organic&iid=1b46f281-1602-4314-bb73-75dafebd44e6.MOBGPUZR8GHCE5ZQ.SEARCH&ppt=hp&ppn=homepage&ssid=t7o3907q280000001694347398905&qH=16e35e1c76bc3b93', 'https://www.flipkart.com/redmi-11-prime-playful-green-128-gb/p/itm0b080e6994972?pid=MOBGZHFGZQMESCDK&lid=LSTMOBGZHFGZQMESCDKZ6ILTE&marketplace=FLIPKART&q=redmi+smartphone&store=tyy%2F4io&srno=s_1_15&otracker=search&otracker1=search&fm=organic&iid=1b46f281-1602-4314-bb73-75dafebd44e6.MOBGZHFGZQMESCDK.SEARCH&ppt=hp&ppn=homepage&ssid=t7o3907q280000001694347398905&qH=16e35e1c76bc3b93', 'https://www.flipkart.com/redmi-a2-sea-green-64-gb/p/itm5d49be2c0a95a?pid=MOBGPVYEHMPGNCBZ&lid=LSTMOBGPVYEHMPGNCBZHUKI4Z&marketplace=FLIPKART&q=redmi+smartphone&store=tyy%2F4io&srno=s_1_16&otracker=search&otracker1=search&fm=organic&iid=1b46f281-1602-4314-bb73-75dafebd44e6.MOBGPVYEHMPGNCBZ.SEARCH&ppt=hp&ppn=homepage&ssid=t7o3907q280000001694347398905&qH=16e35e1c76bc3b93', 'https://www.flipkart.com/redmi-a2-classic-black-64-gb/p/itm5d49be2c0a95a?pid=MOBGRHB6XAEUADQB&lid=LSTMOBGRHB6XAEUADQBAI4AJ4&marketplace=FLIPKART&q=redmi+smartphone&store=tyy%2F4io&srno=s_1_17&otracker=search&otracker1=search&fm=organic&iid=1b46f281-1602-4314-bb73-75dafebd44e6.MOBGRHB6XAEUADQB.SEARCH&ppt=hp&ppn=homepage&ssid=t7o3907q280000001694347398905&qH=16e35e1c76bc3b93', 'https://www.flipkart.com/redmi-a2-sea-green-64-gb/p/itm5d49be2c0a95a?pid=MOBGRHB7GUUZG3QH&lid=LSTMOBGRHB7GUUZG3QHWXCHRR&marketplace=FLIPKART&q=redmi+smartphone&store=tyy%2F4io&srno=s_1_18&otracker=search&otracker1=search&fm=organic&iid=1b46f281-1602-4314-bb73-75dafebd44e6.MOBGRHB7GUUZG3QH.SEARCH&ppt=hp&ppn=homepage&ssid=t7o3907q280000001694347398905&qH=16e35e1c76bc3b93', 'https://www.flipkart.com/redmi-note-12-ice-blue-64-gb/p/itmee415766dfc1a?pid=MOBGNYHZYZ4CNTCM&lid=LSTMOBGNYHZYZ4CNTCMVONB0S&marketplace=FLIPKART&q=redmi+smartphone&store=tyy%2F4io&srno=s_1_19&otracker=search&otracker1=search&fm=organic&iid=1b46f281-1602-4314-bb73-75dafebd44e6.MOBGNYHZYZ4CNTCM.SEARCH&ppt=hp&ppn=homepage&ssid=t7o3907q280000001694347398905&qH=16e35e1c76bc3b93', 'https://www.flipkart.com/redmi-12-5g-jade-black-128-gb/p/itm0c8ba13f6fc5b?pid=MOBGS9QU7QVWUWRD&lid=LSTMOBGS9QU7QVWUWRDCTGYQ5&marketplace=FLIPKART&q=redmi+smartphone&store=tyy%2F4io&srno=s_1_20&otracker=search&otracker1=search&fm=organic&iid=1b46f281-1602-4314-bb73-75dafebd44e6.MOBGS9QU7QVWUWRD.SEARCH&ppt=hp&ppn=homepage&ssid=t7o3907q280000001694347398905&qH=16e35e1c76bc3b93', 'https://www.flipkart.com/redmi-note-12-sunrise-gold-64-gb/p/itm5d170187bcbf0?pid=MOBGNYHZ7ZGHES2V&lid=LSTMOBGNYHZ7ZGHES2VQILAET&marketplace=FLIPKART&q=redmi+smartphone&store=tyy%2F4io&srno=s_1_21&otracker=search&otracker1=search&fm=organic&iid=1b46f281-1602-4314-bb73-75dafebd44e6.MOBGNYHZ7ZGHES2V.SEARCH&ppt=hp&ppn=homepage&ssid=t7o3907q280000001694347398905&qH=16e35e1c76bc3b93', 'https://www.flipkart.com/redmi-12c-lavender-purple-128-gb/p/itm3fe4e598a0358?pid=MOBGZEU9TYHQ8RGE&lid=LSTMOBGZEU9TYHQ8RGEJXEEKD&marketplace=FLIPKART&q=redmi+smartphone&store=tyy%2F4io&srno=s_1_22&otracker=search&otracker1=search&fm=organic&iid=1b46f281-1602-4314-bb73-75dafebd44e6.MOBGZEU9TYHQ8RGE.SEARCH&ppt=hp&ppn=homepage&ssid=t7o3907q280000001694347398905&qH=16e35e1c76bc3b93', 'https://www.flipkart.com/redmi-12c-mint-green-128-gb/p/itm3fe4e598a0358?pid=MOBGZEUDZWSZHYJM&lid=LSTMOBGZEUDZWSZHYJMPU2O1S&marketplace=FLIPKART&q=redmi+smartphone&store=tyy%2F4io&srno=s_1_23&otracker=search&otracker1=search&fm=organic&iid=1b46f281-1602-4314-bb73-75dafebd44e6.MOBGZEUDZWSZHYJM.SEARCH&ppt=hp&ppn=homepage&ssid=t7o3907q280000001694347398905&qH=16e35e1c76bc3b93', 'https://www.flipkart.com/redmi-12c-lavender-purple-64-gb/p/itm3fe4e598a0358?pid=MOBGZEVUSSJ8VGXZ&lid=LSTMOBGZEVUSSJ8VGXZQC5UNR&marketplace=FLIPKART&q=redmi+smartphone&store=tyy%2F4io&srno=s_1_24&otracker=search&otracker1=search&fm=organic&iid=1b46f281-1602-4314-bb73-75dafebd44e6.MOBGZEVUSSJ8VGXZ.SEARCH&ppt=hp&ppn=homepage&ssid=t7o3907q280000001694347398905&qH=16e35e1c76bc3b93']\n"
     ]
    },
    {
     "name": "stdout",
     "output_type": "stream",
     "text": [
      "['https://www.flipkart.com/redmi-12-moonstone-silver-128-gb/p/itme52e778c12701?pid=MOBGRMFK2MGRNG4Q&lid=LSTMOBGRMFK2MGRNG4QFZLVXT&marketplace=FLIPKART&q=redmi+smartphone&store=tyy%2F4io&spotlightTagId=BestsellerId_tyy%2F4io&srno=s_1_1&otracker=search&otracker1=search&fm=Search&iid=1b46f281-1602-4314-bb73-75dafebd44e6.MOBGRMFK2MGRNG4Q.SEARCH&ppt=sp&ppn=sp&ssid=t7o3907q280000001694347398905&qH=16e35e1c76bc3b93', 'https://www.flipkart.com/redmi-12-pastel-blue-128-gb/p/itm48719506a7ceb?pid=MOBGRMFKKGYD9ETX&lid=LSTMOBGRMFKKGYD9ETX5KD9VL&marketplace=FLIPKART&q=redmi+smartphone&store=tyy%2F4io&spotlightTagId=BestsellerId_tyy%2F4io&srno=s_1_2&otracker=search&otracker1=search&fm=Search&iid=1b46f281-1602-4314-bb73-75dafebd44e6.MOBGRMFKKGYD9ETX.SEARCH&ppt=sp&ppn=sp&ssid=t7o3907q280000001694347398905&qH=16e35e1c76bc3b93', 'https://www.flipkart.com/redmi-12-jade-black-128-gb/p/itmb7050ec01c09f?pid=MOBGRMFKTHKQSJEG&lid=LSTMOBGRMFKTHKQSJEGQK3FM2&marketplace=FLIPKART&q=redmi+smartphone&store=tyy%2F4io&spotlightTagId=BestsellerId_tyy%2F4io&srno=s_1_3&otracker=search&otracker1=search&fm=organic&iid=1b46f281-1602-4314-bb73-75dafebd44e6.MOBGRMFKTHKQSJEG.SEARCH&ppt=hp&ppn=homepage&ssid=t7o3907q280000001694347398905&qH=16e35e1c76bc3b93', 'https://www.flipkart.com/redmi-11-prime-peppy-purple-128-gb/p/itm52d6b0fe396e9?pid=MOBGZHFGUHYSHQYM&lid=LSTMOBGZHFGUHYSHQYMWGOOJ0&marketplace=FLIPKART&q=redmi+smartphone&store=tyy%2F4io&srno=s_1_4&otracker=search&otracker1=search&fm=organic&iid=1b46f281-1602-4314-bb73-75dafebd44e6.MOBGZHFGUHYSHQYM.SEARCH&ppt=hp&ppn=homepage&ssid=t7o3907q280000001694347398905&qH=16e35e1c76bc3b93', 'https://www.flipkart.com/redmi-12-pastel-blue-128-gb/p/itm9b1a6640faccd?pid=MOBGRMFKAHNTZPWE&lid=LSTMOBGRMFKAHNTZPWE1H5IWS&marketplace=FLIPKART&q=redmi+smartphone&store=tyy%2F4io&srno=s_1_5&otracker=search&otracker1=search&fm=organic&iid=1b46f281-1602-4314-bb73-75dafebd44e6.MOBGRMFKAHNTZPWE.SEARCH&ppt=hp&ppn=homepage&ssid=t7o3907q280000001694347398905&qH=16e35e1c76bc3b93', 'https://www.flipkart.com/redmi-a1-black-32-gb/p/itm70b00a77a7d1d?pid=MOBGGYBABVXHHRDQ&lid=LSTMOBGGYBABVXHHRDQTMWLXJ&marketplace=FLIPKART&q=redmi+smartphone&store=tyy%2F4io&srno=s_1_6&otracker=search&otracker1=search&fm=organic&iid=1b46f281-1602-4314-bb73-75dafebd44e6.MOBGGYBABVXHHRDQ.SEARCH&ppt=hp&ppn=homepage&ssid=t7o3907q280000001694347398905&qH=16e35e1c76bc3b93', 'https://www.flipkart.com/redmi-a1-light-green-32-gb/p/itmecc9e7ba0a1df?pid=MOBGGYBAHSAJVKHP&lid=LSTMOBGGYBAHSAJVKHP4UBD9A&marketplace=FLIPKART&q=redmi+smartphone&store=tyy%2F4io&srno=s_1_7&otracker=search&otracker1=search&fm=organic&iid=1b46f281-1602-4314-bb73-75dafebd44e6.MOBGGYBAHSAJVKHP.SEARCH&ppt=hp&ppn=homepage&ssid=t7o3907q280000001694347398905&qH=16e35e1c76bc3b93', 'https://www.flipkart.com/redmi-a2-aqua-blue-64-gb/p/itm5d49be2c0a95a?pid=MOBGPVYMG9RWX6XY&lid=LSTMOBGPVYMG9RWX6XYNJOQ2B&marketplace=FLIPKART&q=redmi+smartphone&store=tyy%2F4io&srno=s_1_8&otracker=search&otracker1=search&fm=organic&iid=1b46f281-1602-4314-bb73-75dafebd44e6.MOBGPVYMG9RWX6XY.SEARCH&ppt=hp&ppn=homepage&ssid=t7o3907q280000001694347398905&qH=16e35e1c76bc3b93', 'https://www.flipkart.com/redmi-a2-sea-green-32-gb/p/itm5d49be2c0a95a?pid=MOBGPVYATHJDTSSR&lid=LSTMOBGPVYATHJDTSSR6JMF4X&marketplace=FLIPKART&q=redmi+smartphone&store=tyy%2F4io&srno=s_1_9&otracker=search&otracker1=search&fm=organic&iid=1b46f281-1602-4314-bb73-75dafebd44e6.MOBGPVYATHJDTSSR.SEARCH&ppt=hp&ppn=homepage&ssid=t7o3907q280000001694347398905&qH=16e35e1c76bc3b93', 'https://www.flipkart.com/redmi-a2-aqua-blue-64-gb/p/itm5d49be2c0a95a?pid=MOBGR4UZWNAYKSUH&lid=LSTMOBGR4UZWNAYKSUHUXU5WM&marketplace=FLIPKART&q=redmi+smartphone&store=tyy%2F4io&srno=s_1_10&otracker=search&otracker1=search&fm=organic&iid=1b46f281-1602-4314-bb73-75dafebd44e6.MOBGR4UZWNAYKSUH.SEARCH&ppt=hp&ppn=homepage&ssid=t7o3907q280000001694347398905&qH=16e35e1c76bc3b93', 'https://www.flipkart.com/redmi-a2-classic-black-64-gb/p/itm5d49be2c0a95a?pid=MOBGPVYHRXZ3PFZU&lid=LSTMOBGPVYHRXZ3PFZU0QHLLF&marketplace=FLIPKART&q=redmi+smartphone&store=tyy%2F4io&srno=s_1_11&otracker=search&otracker1=search&fm=organic&iid=1b46f281-1602-4314-bb73-75dafebd44e6.MOBGPVYHRXZ3PFZU.SEARCH&ppt=hp&ppn=homepage&ssid=t7o3907q280000001694347398905&qH=16e35e1c76bc3b93', 'https://www.flipkart.com/redmi-9a-sport-coral-green-32-gb/p/itm53bc6ebfe147b?pid=MOBGHDXFKYSE5TPK&lid=LSTMOBGHDXFKYSE5TPKGHQ4XF&marketplace=FLIPKART&q=redmi+smartphone&store=tyy%2F4io&srno=s_1_12&otracker=search&otracker1=search&fm=organic&iid=1b46f281-1602-4314-bb73-75dafebd44e6.MOBGHDXFKYSE5TPK.SEARCH&ppt=hp&ppn=homepage&ssid=t7o3907q280000001694347398905&qH=16e35e1c76bc3b93', 'https://www.flipkart.com/redmi-6a-blue-16-gb/p/itm1ed294a755383?pid=MOBF9Z2Z3YDBSF6V&lid=LSTMOBF9Z2Z3YDBSF6VX16ZOH&marketplace=FLIPKART&q=redmi+smartphone&store=tyy%2F4io&srno=s_1_13&otracker=search&otracker1=search&fm=organic&iid=1b46f281-1602-4314-bb73-75dafebd44e6.MOBF9Z2Z3YDBSF6V.SEARCH&ppt=hp&ppn=homepage&ssid=t7o3907q280000001694347398905&qH=16e35e1c76bc3b93', 'https://www.flipkart.com/redmi-a2-aqua-blue-32-gb/p/itm5d49be2c0a95a?pid=MOBGPUZR8GHCE5ZQ&lid=LSTMOBGPUZR8GHCE5ZQ1P4DF9&marketplace=FLIPKART&q=redmi+smartphone&store=tyy%2F4io&srno=s_1_14&otracker=search&otracker1=search&fm=organic&iid=1b46f281-1602-4314-bb73-75dafebd44e6.MOBGPUZR8GHCE5ZQ.SEARCH&ppt=hp&ppn=homepage&ssid=t7o3907q280000001694347398905&qH=16e35e1c76bc3b93', 'https://www.flipkart.com/redmi-11-prime-playful-green-128-gb/p/itm0b080e6994972?pid=MOBGZHFGZQMESCDK&lid=LSTMOBGZHFGZQMESCDKZ6ILTE&marketplace=FLIPKART&q=redmi+smartphone&store=tyy%2F4io&srno=s_1_15&otracker=search&otracker1=search&fm=organic&iid=1b46f281-1602-4314-bb73-75dafebd44e6.MOBGZHFGZQMESCDK.SEARCH&ppt=hp&ppn=homepage&ssid=t7o3907q280000001694347398905&qH=16e35e1c76bc3b93', 'https://www.flipkart.com/redmi-a2-sea-green-64-gb/p/itm5d49be2c0a95a?pid=MOBGPVYEHMPGNCBZ&lid=LSTMOBGPVYEHMPGNCBZHUKI4Z&marketplace=FLIPKART&q=redmi+smartphone&store=tyy%2F4io&srno=s_1_16&otracker=search&otracker1=search&fm=organic&iid=1b46f281-1602-4314-bb73-75dafebd44e6.MOBGPVYEHMPGNCBZ.SEARCH&ppt=hp&ppn=homepage&ssid=t7o3907q280000001694347398905&qH=16e35e1c76bc3b93', 'https://www.flipkart.com/redmi-a2-classic-black-64-gb/p/itm5d49be2c0a95a?pid=MOBGRHB6XAEUADQB&lid=LSTMOBGRHB6XAEUADQBAI4AJ4&marketplace=FLIPKART&q=redmi+smartphone&store=tyy%2F4io&srno=s_1_17&otracker=search&otracker1=search&fm=organic&iid=1b46f281-1602-4314-bb73-75dafebd44e6.MOBGRHB6XAEUADQB.SEARCH&ppt=hp&ppn=homepage&ssid=t7o3907q280000001694347398905&qH=16e35e1c76bc3b93', 'https://www.flipkart.com/redmi-a2-sea-green-64-gb/p/itm5d49be2c0a95a?pid=MOBGRHB7GUUZG3QH&lid=LSTMOBGRHB7GUUZG3QHWXCHRR&marketplace=FLIPKART&q=redmi+smartphone&store=tyy%2F4io&srno=s_1_18&otracker=search&otracker1=search&fm=organic&iid=1b46f281-1602-4314-bb73-75dafebd44e6.MOBGRHB7GUUZG3QH.SEARCH&ppt=hp&ppn=homepage&ssid=t7o3907q280000001694347398905&qH=16e35e1c76bc3b93', 'https://www.flipkart.com/redmi-note-12-ice-blue-64-gb/p/itmee415766dfc1a?pid=MOBGNYHZYZ4CNTCM&lid=LSTMOBGNYHZYZ4CNTCMVONB0S&marketplace=FLIPKART&q=redmi+smartphone&store=tyy%2F4io&srno=s_1_19&otracker=search&otracker1=search&fm=organic&iid=1b46f281-1602-4314-bb73-75dafebd44e6.MOBGNYHZYZ4CNTCM.SEARCH&ppt=hp&ppn=homepage&ssid=t7o3907q280000001694347398905&qH=16e35e1c76bc3b93', 'https://www.flipkart.com/redmi-12-5g-jade-black-128-gb/p/itm0c8ba13f6fc5b?pid=MOBGS9QU7QVWUWRD&lid=LSTMOBGS9QU7QVWUWRDCTGYQ5&marketplace=FLIPKART&q=redmi+smartphone&store=tyy%2F4io&srno=s_1_20&otracker=search&otracker1=search&fm=organic&iid=1b46f281-1602-4314-bb73-75dafebd44e6.MOBGS9QU7QVWUWRD.SEARCH&ppt=hp&ppn=homepage&ssid=t7o3907q280000001694347398905&qH=16e35e1c76bc3b93', 'https://www.flipkart.com/redmi-note-12-sunrise-gold-64-gb/p/itm5d170187bcbf0?pid=MOBGNYHZ7ZGHES2V&lid=LSTMOBGNYHZ7ZGHES2VQILAET&marketplace=FLIPKART&q=redmi+smartphone&store=tyy%2F4io&srno=s_1_21&otracker=search&otracker1=search&fm=organic&iid=1b46f281-1602-4314-bb73-75dafebd44e6.MOBGNYHZ7ZGHES2V.SEARCH&ppt=hp&ppn=homepage&ssid=t7o3907q280000001694347398905&qH=16e35e1c76bc3b93', 'https://www.flipkart.com/redmi-12c-lavender-purple-128-gb/p/itm3fe4e598a0358?pid=MOBGZEU9TYHQ8RGE&lid=LSTMOBGZEU9TYHQ8RGEJXEEKD&marketplace=FLIPKART&q=redmi+smartphone&store=tyy%2F4io&srno=s_1_22&otracker=search&otracker1=search&fm=organic&iid=1b46f281-1602-4314-bb73-75dafebd44e6.MOBGZEU9TYHQ8RGE.SEARCH&ppt=hp&ppn=homepage&ssid=t7o3907q280000001694347398905&qH=16e35e1c76bc3b93', 'https://www.flipkart.com/redmi-12c-mint-green-128-gb/p/itm3fe4e598a0358?pid=MOBGZEUDZWSZHYJM&lid=LSTMOBGZEUDZWSZHYJMPU2O1S&marketplace=FLIPKART&q=redmi+smartphone&store=tyy%2F4io&srno=s_1_23&otracker=search&otracker1=search&fm=organic&iid=1b46f281-1602-4314-bb73-75dafebd44e6.MOBGZEUDZWSZHYJM.SEARCH&ppt=hp&ppn=homepage&ssid=t7o3907q280000001694347398905&qH=16e35e1c76bc3b93', 'https://www.flipkart.com/redmi-12c-lavender-purple-64-gb/p/itm3fe4e598a0358?pid=MOBGZEVUSSJ8VGXZ&lid=LSTMOBGZEVUSSJ8VGXZQC5UNR&marketplace=FLIPKART&q=redmi+smartphone&store=tyy%2F4io&srno=s_1_24&otracker=search&otracker1=search&fm=organic&iid=1b46f281-1602-4314-bb73-75dafebd44e6.MOBGZEVUSSJ8VGXZ.SEARCH&ppt=hp&ppn=homepage&ssid=t7o3907q280000001694347398905&qH=16e35e1c76bc3b93']\n",
      "['https://www.flipkart.com/redmi-12-moonstone-silver-128-gb/p/itme52e778c12701?pid=MOBGRMFK2MGRNG4Q&lid=LSTMOBGRMFK2MGRNG4QFZLVXT&marketplace=FLIPKART&q=redmi+smartphone&store=tyy%2F4io&spotlightTagId=BestsellerId_tyy%2F4io&srno=s_1_1&otracker=search&otracker1=search&fm=Search&iid=1b46f281-1602-4314-bb73-75dafebd44e6.MOBGRMFK2MGRNG4Q.SEARCH&ppt=sp&ppn=sp&ssid=t7o3907q280000001694347398905&qH=16e35e1c76bc3b93', 'https://www.flipkart.com/redmi-12-pastel-blue-128-gb/p/itm48719506a7ceb?pid=MOBGRMFKKGYD9ETX&lid=LSTMOBGRMFKKGYD9ETX5KD9VL&marketplace=FLIPKART&q=redmi+smartphone&store=tyy%2F4io&spotlightTagId=BestsellerId_tyy%2F4io&srno=s_1_2&otracker=search&otracker1=search&fm=Search&iid=1b46f281-1602-4314-bb73-75dafebd44e6.MOBGRMFKKGYD9ETX.SEARCH&ppt=sp&ppn=sp&ssid=t7o3907q280000001694347398905&qH=16e35e1c76bc3b93', 'https://www.flipkart.com/redmi-12-jade-black-128-gb/p/itmb7050ec01c09f?pid=MOBGRMFKTHKQSJEG&lid=LSTMOBGRMFKTHKQSJEGQK3FM2&marketplace=FLIPKART&q=redmi+smartphone&store=tyy%2F4io&spotlightTagId=BestsellerId_tyy%2F4io&srno=s_1_3&otracker=search&otracker1=search&fm=organic&iid=1b46f281-1602-4314-bb73-75dafebd44e6.MOBGRMFKTHKQSJEG.SEARCH&ppt=hp&ppn=homepage&ssid=t7o3907q280000001694347398905&qH=16e35e1c76bc3b93', 'https://www.flipkart.com/redmi-11-prime-peppy-purple-128-gb/p/itm52d6b0fe396e9?pid=MOBGZHFGUHYSHQYM&lid=LSTMOBGZHFGUHYSHQYMWGOOJ0&marketplace=FLIPKART&q=redmi+smartphone&store=tyy%2F4io&srno=s_1_4&otracker=search&otracker1=search&fm=organic&iid=1b46f281-1602-4314-bb73-75dafebd44e6.MOBGZHFGUHYSHQYM.SEARCH&ppt=hp&ppn=homepage&ssid=t7o3907q280000001694347398905&qH=16e35e1c76bc3b93', 'https://www.flipkart.com/redmi-12-pastel-blue-128-gb/p/itm9b1a6640faccd?pid=MOBGRMFKAHNTZPWE&lid=LSTMOBGRMFKAHNTZPWE1H5IWS&marketplace=FLIPKART&q=redmi+smartphone&store=tyy%2F4io&srno=s_1_5&otracker=search&otracker1=search&fm=organic&iid=1b46f281-1602-4314-bb73-75dafebd44e6.MOBGRMFKAHNTZPWE.SEARCH&ppt=hp&ppn=homepage&ssid=t7o3907q280000001694347398905&qH=16e35e1c76bc3b93', 'https://www.flipkart.com/redmi-a1-black-32-gb/p/itm70b00a77a7d1d?pid=MOBGGYBABVXHHRDQ&lid=LSTMOBGGYBABVXHHRDQTMWLXJ&marketplace=FLIPKART&q=redmi+smartphone&store=tyy%2F4io&srno=s_1_6&otracker=search&otracker1=search&fm=organic&iid=1b46f281-1602-4314-bb73-75dafebd44e6.MOBGGYBABVXHHRDQ.SEARCH&ppt=hp&ppn=homepage&ssid=t7o3907q280000001694347398905&qH=16e35e1c76bc3b93', 'https://www.flipkart.com/redmi-a1-light-green-32-gb/p/itmecc9e7ba0a1df?pid=MOBGGYBAHSAJVKHP&lid=LSTMOBGGYBAHSAJVKHP4UBD9A&marketplace=FLIPKART&q=redmi+smartphone&store=tyy%2F4io&srno=s_1_7&otracker=search&otracker1=search&fm=organic&iid=1b46f281-1602-4314-bb73-75dafebd44e6.MOBGGYBAHSAJVKHP.SEARCH&ppt=hp&ppn=homepage&ssid=t7o3907q280000001694347398905&qH=16e35e1c76bc3b93', 'https://www.flipkart.com/redmi-a2-aqua-blue-64-gb/p/itm5d49be2c0a95a?pid=MOBGPVYMG9RWX6XY&lid=LSTMOBGPVYMG9RWX6XYNJOQ2B&marketplace=FLIPKART&q=redmi+smartphone&store=tyy%2F4io&srno=s_1_8&otracker=search&otracker1=search&fm=organic&iid=1b46f281-1602-4314-bb73-75dafebd44e6.MOBGPVYMG9RWX6XY.SEARCH&ppt=hp&ppn=homepage&ssid=t7o3907q280000001694347398905&qH=16e35e1c76bc3b93', 'https://www.flipkart.com/redmi-a2-sea-green-32-gb/p/itm5d49be2c0a95a?pid=MOBGPVYATHJDTSSR&lid=LSTMOBGPVYATHJDTSSR6JMF4X&marketplace=FLIPKART&q=redmi+smartphone&store=tyy%2F4io&srno=s_1_9&otracker=search&otracker1=search&fm=organic&iid=1b46f281-1602-4314-bb73-75dafebd44e6.MOBGPVYATHJDTSSR.SEARCH&ppt=hp&ppn=homepage&ssid=t7o3907q280000001694347398905&qH=16e35e1c76bc3b93', 'https://www.flipkart.com/redmi-a2-aqua-blue-64-gb/p/itm5d49be2c0a95a?pid=MOBGR4UZWNAYKSUH&lid=LSTMOBGR4UZWNAYKSUHUXU5WM&marketplace=FLIPKART&q=redmi+smartphone&store=tyy%2F4io&srno=s_1_10&otracker=search&otracker1=search&fm=organic&iid=1b46f281-1602-4314-bb73-75dafebd44e6.MOBGR4UZWNAYKSUH.SEARCH&ppt=hp&ppn=homepage&ssid=t7o3907q280000001694347398905&qH=16e35e1c76bc3b93', 'https://www.flipkart.com/redmi-a2-classic-black-64-gb/p/itm5d49be2c0a95a?pid=MOBGPVYHRXZ3PFZU&lid=LSTMOBGPVYHRXZ3PFZU0QHLLF&marketplace=FLIPKART&q=redmi+smartphone&store=tyy%2F4io&srno=s_1_11&otracker=search&otracker1=search&fm=organic&iid=1b46f281-1602-4314-bb73-75dafebd44e6.MOBGPVYHRXZ3PFZU.SEARCH&ppt=hp&ppn=homepage&ssid=t7o3907q280000001694347398905&qH=16e35e1c76bc3b93', 'https://www.flipkart.com/redmi-9a-sport-coral-green-32-gb/p/itm53bc6ebfe147b?pid=MOBGHDXFKYSE5TPK&lid=LSTMOBGHDXFKYSE5TPKGHQ4XF&marketplace=FLIPKART&q=redmi+smartphone&store=tyy%2F4io&srno=s_1_12&otracker=search&otracker1=search&fm=organic&iid=1b46f281-1602-4314-bb73-75dafebd44e6.MOBGHDXFKYSE5TPK.SEARCH&ppt=hp&ppn=homepage&ssid=t7o3907q280000001694347398905&qH=16e35e1c76bc3b93', 'https://www.flipkart.com/redmi-6a-blue-16-gb/p/itm1ed294a755383?pid=MOBF9Z2Z3YDBSF6V&lid=LSTMOBF9Z2Z3YDBSF6VX16ZOH&marketplace=FLIPKART&q=redmi+smartphone&store=tyy%2F4io&srno=s_1_13&otracker=search&otracker1=search&fm=organic&iid=1b46f281-1602-4314-bb73-75dafebd44e6.MOBF9Z2Z3YDBSF6V.SEARCH&ppt=hp&ppn=homepage&ssid=t7o3907q280000001694347398905&qH=16e35e1c76bc3b93', 'https://www.flipkart.com/redmi-a2-aqua-blue-32-gb/p/itm5d49be2c0a95a?pid=MOBGPUZR8GHCE5ZQ&lid=LSTMOBGPUZR8GHCE5ZQ1P4DF9&marketplace=FLIPKART&q=redmi+smartphone&store=tyy%2F4io&srno=s_1_14&otracker=search&otracker1=search&fm=organic&iid=1b46f281-1602-4314-bb73-75dafebd44e6.MOBGPUZR8GHCE5ZQ.SEARCH&ppt=hp&ppn=homepage&ssid=t7o3907q280000001694347398905&qH=16e35e1c76bc3b93', 'https://www.flipkart.com/redmi-11-prime-playful-green-128-gb/p/itm0b080e6994972?pid=MOBGZHFGZQMESCDK&lid=LSTMOBGZHFGZQMESCDKZ6ILTE&marketplace=FLIPKART&q=redmi+smartphone&store=tyy%2F4io&srno=s_1_15&otracker=search&otracker1=search&fm=organic&iid=1b46f281-1602-4314-bb73-75dafebd44e6.MOBGZHFGZQMESCDK.SEARCH&ppt=hp&ppn=homepage&ssid=t7o3907q280000001694347398905&qH=16e35e1c76bc3b93', 'https://www.flipkart.com/redmi-a2-sea-green-64-gb/p/itm5d49be2c0a95a?pid=MOBGPVYEHMPGNCBZ&lid=LSTMOBGPVYEHMPGNCBZHUKI4Z&marketplace=FLIPKART&q=redmi+smartphone&store=tyy%2F4io&srno=s_1_16&otracker=search&otracker1=search&fm=organic&iid=1b46f281-1602-4314-bb73-75dafebd44e6.MOBGPVYEHMPGNCBZ.SEARCH&ppt=hp&ppn=homepage&ssid=t7o3907q280000001694347398905&qH=16e35e1c76bc3b93', 'https://www.flipkart.com/redmi-a2-classic-black-64-gb/p/itm5d49be2c0a95a?pid=MOBGRHB6XAEUADQB&lid=LSTMOBGRHB6XAEUADQBAI4AJ4&marketplace=FLIPKART&q=redmi+smartphone&store=tyy%2F4io&srno=s_1_17&otracker=search&otracker1=search&fm=organic&iid=1b46f281-1602-4314-bb73-75dafebd44e6.MOBGRHB6XAEUADQB.SEARCH&ppt=hp&ppn=homepage&ssid=t7o3907q280000001694347398905&qH=16e35e1c76bc3b93', 'https://www.flipkart.com/redmi-a2-sea-green-64-gb/p/itm5d49be2c0a95a?pid=MOBGRHB7GUUZG3QH&lid=LSTMOBGRHB7GUUZG3QHWXCHRR&marketplace=FLIPKART&q=redmi+smartphone&store=tyy%2F4io&srno=s_1_18&otracker=search&otracker1=search&fm=organic&iid=1b46f281-1602-4314-bb73-75dafebd44e6.MOBGRHB7GUUZG3QH.SEARCH&ppt=hp&ppn=homepage&ssid=t7o3907q280000001694347398905&qH=16e35e1c76bc3b93', 'https://www.flipkart.com/redmi-note-12-ice-blue-64-gb/p/itmee415766dfc1a?pid=MOBGNYHZYZ4CNTCM&lid=LSTMOBGNYHZYZ4CNTCMVONB0S&marketplace=FLIPKART&q=redmi+smartphone&store=tyy%2F4io&srno=s_1_19&otracker=search&otracker1=search&fm=organic&iid=1b46f281-1602-4314-bb73-75dafebd44e6.MOBGNYHZYZ4CNTCM.SEARCH&ppt=hp&ppn=homepage&ssid=t7o3907q280000001694347398905&qH=16e35e1c76bc3b93', 'https://www.flipkart.com/redmi-12-5g-jade-black-128-gb/p/itm0c8ba13f6fc5b?pid=MOBGS9QU7QVWUWRD&lid=LSTMOBGS9QU7QVWUWRDCTGYQ5&marketplace=FLIPKART&q=redmi+smartphone&store=tyy%2F4io&srno=s_1_20&otracker=search&otracker1=search&fm=organic&iid=1b46f281-1602-4314-bb73-75dafebd44e6.MOBGS9QU7QVWUWRD.SEARCH&ppt=hp&ppn=homepage&ssid=t7o3907q280000001694347398905&qH=16e35e1c76bc3b93', 'https://www.flipkart.com/redmi-note-12-sunrise-gold-64-gb/p/itm5d170187bcbf0?pid=MOBGNYHZ7ZGHES2V&lid=LSTMOBGNYHZ7ZGHES2VQILAET&marketplace=FLIPKART&q=redmi+smartphone&store=tyy%2F4io&srno=s_1_21&otracker=search&otracker1=search&fm=organic&iid=1b46f281-1602-4314-bb73-75dafebd44e6.MOBGNYHZ7ZGHES2V.SEARCH&ppt=hp&ppn=homepage&ssid=t7o3907q280000001694347398905&qH=16e35e1c76bc3b93', 'https://www.flipkart.com/redmi-12c-lavender-purple-128-gb/p/itm3fe4e598a0358?pid=MOBGZEU9TYHQ8RGE&lid=LSTMOBGZEU9TYHQ8RGEJXEEKD&marketplace=FLIPKART&q=redmi+smartphone&store=tyy%2F4io&srno=s_1_22&otracker=search&otracker1=search&fm=organic&iid=1b46f281-1602-4314-bb73-75dafebd44e6.MOBGZEU9TYHQ8RGE.SEARCH&ppt=hp&ppn=homepage&ssid=t7o3907q280000001694347398905&qH=16e35e1c76bc3b93', 'https://www.flipkart.com/redmi-12c-mint-green-128-gb/p/itm3fe4e598a0358?pid=MOBGZEUDZWSZHYJM&lid=LSTMOBGZEUDZWSZHYJMPU2O1S&marketplace=FLIPKART&q=redmi+smartphone&store=tyy%2F4io&srno=s_1_23&otracker=search&otracker1=search&fm=organic&iid=1b46f281-1602-4314-bb73-75dafebd44e6.MOBGZEUDZWSZHYJM.SEARCH&ppt=hp&ppn=homepage&ssid=t7o3907q280000001694347398905&qH=16e35e1c76bc3b93', 'https://www.flipkart.com/redmi-12c-lavender-purple-64-gb/p/itm3fe4e598a0358?pid=MOBGZEVUSSJ8VGXZ&lid=LSTMOBGZEVUSSJ8VGXZQC5UNR&marketplace=FLIPKART&q=redmi+smartphone&store=tyy%2F4io&srno=s_1_24&otracker=search&otracker1=search&fm=organic&iid=1b46f281-1602-4314-bb73-75dafebd44e6.MOBGZEVUSSJ8VGXZ.SEARCH&ppt=hp&ppn=homepage&ssid=t7o3907q280000001694347398905&qH=16e35e1c76bc3b93']\n"
     ]
    },
    {
     "name": "stdout",
     "output_type": "stream",
     "text": [
      "['https://www.flipkart.com/redmi-12-moonstone-silver-128-gb/p/itme52e778c12701?pid=MOBGRMFK2MGRNG4Q&lid=LSTMOBGRMFK2MGRNG4QFZLVXT&marketplace=FLIPKART&q=redmi+smartphone&store=tyy%2F4io&spotlightTagId=BestsellerId_tyy%2F4io&srno=s_1_1&otracker=search&otracker1=search&fm=Search&iid=1b46f281-1602-4314-bb73-75dafebd44e6.MOBGRMFK2MGRNG4Q.SEARCH&ppt=sp&ppn=sp&ssid=t7o3907q280000001694347398905&qH=16e35e1c76bc3b93', 'https://www.flipkart.com/redmi-12-pastel-blue-128-gb/p/itm48719506a7ceb?pid=MOBGRMFKKGYD9ETX&lid=LSTMOBGRMFKKGYD9ETX5KD9VL&marketplace=FLIPKART&q=redmi+smartphone&store=tyy%2F4io&spotlightTagId=BestsellerId_tyy%2F4io&srno=s_1_2&otracker=search&otracker1=search&fm=Search&iid=1b46f281-1602-4314-bb73-75dafebd44e6.MOBGRMFKKGYD9ETX.SEARCH&ppt=sp&ppn=sp&ssid=t7o3907q280000001694347398905&qH=16e35e1c76bc3b93', 'https://www.flipkart.com/redmi-12-jade-black-128-gb/p/itmb7050ec01c09f?pid=MOBGRMFKTHKQSJEG&lid=LSTMOBGRMFKTHKQSJEGQK3FM2&marketplace=FLIPKART&q=redmi+smartphone&store=tyy%2F4io&spotlightTagId=BestsellerId_tyy%2F4io&srno=s_1_3&otracker=search&otracker1=search&fm=organic&iid=1b46f281-1602-4314-bb73-75dafebd44e6.MOBGRMFKTHKQSJEG.SEARCH&ppt=hp&ppn=homepage&ssid=t7o3907q280000001694347398905&qH=16e35e1c76bc3b93', 'https://www.flipkart.com/redmi-11-prime-peppy-purple-128-gb/p/itm52d6b0fe396e9?pid=MOBGZHFGUHYSHQYM&lid=LSTMOBGZHFGUHYSHQYMWGOOJ0&marketplace=FLIPKART&q=redmi+smartphone&store=tyy%2F4io&srno=s_1_4&otracker=search&otracker1=search&fm=organic&iid=1b46f281-1602-4314-bb73-75dafebd44e6.MOBGZHFGUHYSHQYM.SEARCH&ppt=hp&ppn=homepage&ssid=t7o3907q280000001694347398905&qH=16e35e1c76bc3b93', 'https://www.flipkart.com/redmi-12-pastel-blue-128-gb/p/itm9b1a6640faccd?pid=MOBGRMFKAHNTZPWE&lid=LSTMOBGRMFKAHNTZPWE1H5IWS&marketplace=FLIPKART&q=redmi+smartphone&store=tyy%2F4io&srno=s_1_5&otracker=search&otracker1=search&fm=organic&iid=1b46f281-1602-4314-bb73-75dafebd44e6.MOBGRMFKAHNTZPWE.SEARCH&ppt=hp&ppn=homepage&ssid=t7o3907q280000001694347398905&qH=16e35e1c76bc3b93', 'https://www.flipkart.com/redmi-a1-black-32-gb/p/itm70b00a77a7d1d?pid=MOBGGYBABVXHHRDQ&lid=LSTMOBGGYBABVXHHRDQTMWLXJ&marketplace=FLIPKART&q=redmi+smartphone&store=tyy%2F4io&srno=s_1_6&otracker=search&otracker1=search&fm=organic&iid=1b46f281-1602-4314-bb73-75dafebd44e6.MOBGGYBABVXHHRDQ.SEARCH&ppt=hp&ppn=homepage&ssid=t7o3907q280000001694347398905&qH=16e35e1c76bc3b93', 'https://www.flipkart.com/redmi-a1-light-green-32-gb/p/itmecc9e7ba0a1df?pid=MOBGGYBAHSAJVKHP&lid=LSTMOBGGYBAHSAJVKHP4UBD9A&marketplace=FLIPKART&q=redmi+smartphone&store=tyy%2F4io&srno=s_1_7&otracker=search&otracker1=search&fm=organic&iid=1b46f281-1602-4314-bb73-75dafebd44e6.MOBGGYBAHSAJVKHP.SEARCH&ppt=hp&ppn=homepage&ssid=t7o3907q280000001694347398905&qH=16e35e1c76bc3b93', 'https://www.flipkart.com/redmi-a2-aqua-blue-64-gb/p/itm5d49be2c0a95a?pid=MOBGPVYMG9RWX6XY&lid=LSTMOBGPVYMG9RWX6XYNJOQ2B&marketplace=FLIPKART&q=redmi+smartphone&store=tyy%2F4io&srno=s_1_8&otracker=search&otracker1=search&fm=organic&iid=1b46f281-1602-4314-bb73-75dafebd44e6.MOBGPVYMG9RWX6XY.SEARCH&ppt=hp&ppn=homepage&ssid=t7o3907q280000001694347398905&qH=16e35e1c76bc3b93', 'https://www.flipkart.com/redmi-a2-sea-green-32-gb/p/itm5d49be2c0a95a?pid=MOBGPVYATHJDTSSR&lid=LSTMOBGPVYATHJDTSSR6JMF4X&marketplace=FLIPKART&q=redmi+smartphone&store=tyy%2F4io&srno=s_1_9&otracker=search&otracker1=search&fm=organic&iid=1b46f281-1602-4314-bb73-75dafebd44e6.MOBGPVYATHJDTSSR.SEARCH&ppt=hp&ppn=homepage&ssid=t7o3907q280000001694347398905&qH=16e35e1c76bc3b93', 'https://www.flipkart.com/redmi-a2-aqua-blue-64-gb/p/itm5d49be2c0a95a?pid=MOBGR4UZWNAYKSUH&lid=LSTMOBGR4UZWNAYKSUHUXU5WM&marketplace=FLIPKART&q=redmi+smartphone&store=tyy%2F4io&srno=s_1_10&otracker=search&otracker1=search&fm=organic&iid=1b46f281-1602-4314-bb73-75dafebd44e6.MOBGR4UZWNAYKSUH.SEARCH&ppt=hp&ppn=homepage&ssid=t7o3907q280000001694347398905&qH=16e35e1c76bc3b93', 'https://www.flipkart.com/redmi-a2-classic-black-64-gb/p/itm5d49be2c0a95a?pid=MOBGPVYHRXZ3PFZU&lid=LSTMOBGPVYHRXZ3PFZU0QHLLF&marketplace=FLIPKART&q=redmi+smartphone&store=tyy%2F4io&srno=s_1_11&otracker=search&otracker1=search&fm=organic&iid=1b46f281-1602-4314-bb73-75dafebd44e6.MOBGPVYHRXZ3PFZU.SEARCH&ppt=hp&ppn=homepage&ssid=t7o3907q280000001694347398905&qH=16e35e1c76bc3b93', 'https://www.flipkart.com/redmi-9a-sport-coral-green-32-gb/p/itm53bc6ebfe147b?pid=MOBGHDXFKYSE5TPK&lid=LSTMOBGHDXFKYSE5TPKGHQ4XF&marketplace=FLIPKART&q=redmi+smartphone&store=tyy%2F4io&srno=s_1_12&otracker=search&otracker1=search&fm=organic&iid=1b46f281-1602-4314-bb73-75dafebd44e6.MOBGHDXFKYSE5TPK.SEARCH&ppt=hp&ppn=homepage&ssid=t7o3907q280000001694347398905&qH=16e35e1c76bc3b93', 'https://www.flipkart.com/redmi-6a-blue-16-gb/p/itm1ed294a755383?pid=MOBF9Z2Z3YDBSF6V&lid=LSTMOBF9Z2Z3YDBSF6VX16ZOH&marketplace=FLIPKART&q=redmi+smartphone&store=tyy%2F4io&srno=s_1_13&otracker=search&otracker1=search&fm=organic&iid=1b46f281-1602-4314-bb73-75dafebd44e6.MOBF9Z2Z3YDBSF6V.SEARCH&ppt=hp&ppn=homepage&ssid=t7o3907q280000001694347398905&qH=16e35e1c76bc3b93', 'https://www.flipkart.com/redmi-a2-aqua-blue-32-gb/p/itm5d49be2c0a95a?pid=MOBGPUZR8GHCE5ZQ&lid=LSTMOBGPUZR8GHCE5ZQ1P4DF9&marketplace=FLIPKART&q=redmi+smartphone&store=tyy%2F4io&srno=s_1_14&otracker=search&otracker1=search&fm=organic&iid=1b46f281-1602-4314-bb73-75dafebd44e6.MOBGPUZR8GHCE5ZQ.SEARCH&ppt=hp&ppn=homepage&ssid=t7o3907q280000001694347398905&qH=16e35e1c76bc3b93', 'https://www.flipkart.com/redmi-11-prime-playful-green-128-gb/p/itm0b080e6994972?pid=MOBGZHFGZQMESCDK&lid=LSTMOBGZHFGZQMESCDKZ6ILTE&marketplace=FLIPKART&q=redmi+smartphone&store=tyy%2F4io&srno=s_1_15&otracker=search&otracker1=search&fm=organic&iid=1b46f281-1602-4314-bb73-75dafebd44e6.MOBGZHFGZQMESCDK.SEARCH&ppt=hp&ppn=homepage&ssid=t7o3907q280000001694347398905&qH=16e35e1c76bc3b93', 'https://www.flipkart.com/redmi-a2-sea-green-64-gb/p/itm5d49be2c0a95a?pid=MOBGPVYEHMPGNCBZ&lid=LSTMOBGPVYEHMPGNCBZHUKI4Z&marketplace=FLIPKART&q=redmi+smartphone&store=tyy%2F4io&srno=s_1_16&otracker=search&otracker1=search&fm=organic&iid=1b46f281-1602-4314-bb73-75dafebd44e6.MOBGPVYEHMPGNCBZ.SEARCH&ppt=hp&ppn=homepage&ssid=t7o3907q280000001694347398905&qH=16e35e1c76bc3b93', 'https://www.flipkart.com/redmi-a2-classic-black-64-gb/p/itm5d49be2c0a95a?pid=MOBGRHB6XAEUADQB&lid=LSTMOBGRHB6XAEUADQBAI4AJ4&marketplace=FLIPKART&q=redmi+smartphone&store=tyy%2F4io&srno=s_1_17&otracker=search&otracker1=search&fm=organic&iid=1b46f281-1602-4314-bb73-75dafebd44e6.MOBGRHB6XAEUADQB.SEARCH&ppt=hp&ppn=homepage&ssid=t7o3907q280000001694347398905&qH=16e35e1c76bc3b93', 'https://www.flipkart.com/redmi-a2-sea-green-64-gb/p/itm5d49be2c0a95a?pid=MOBGRHB7GUUZG3QH&lid=LSTMOBGRHB7GUUZG3QHWXCHRR&marketplace=FLIPKART&q=redmi+smartphone&store=tyy%2F4io&srno=s_1_18&otracker=search&otracker1=search&fm=organic&iid=1b46f281-1602-4314-bb73-75dafebd44e6.MOBGRHB7GUUZG3QH.SEARCH&ppt=hp&ppn=homepage&ssid=t7o3907q280000001694347398905&qH=16e35e1c76bc3b93', 'https://www.flipkart.com/redmi-note-12-ice-blue-64-gb/p/itmee415766dfc1a?pid=MOBGNYHZYZ4CNTCM&lid=LSTMOBGNYHZYZ4CNTCMVONB0S&marketplace=FLIPKART&q=redmi+smartphone&store=tyy%2F4io&srno=s_1_19&otracker=search&otracker1=search&fm=organic&iid=1b46f281-1602-4314-bb73-75dafebd44e6.MOBGNYHZYZ4CNTCM.SEARCH&ppt=hp&ppn=homepage&ssid=t7o3907q280000001694347398905&qH=16e35e1c76bc3b93', 'https://www.flipkart.com/redmi-12-5g-jade-black-128-gb/p/itm0c8ba13f6fc5b?pid=MOBGS9QU7QVWUWRD&lid=LSTMOBGS9QU7QVWUWRDCTGYQ5&marketplace=FLIPKART&q=redmi+smartphone&store=tyy%2F4io&srno=s_1_20&otracker=search&otracker1=search&fm=organic&iid=1b46f281-1602-4314-bb73-75dafebd44e6.MOBGS9QU7QVWUWRD.SEARCH&ppt=hp&ppn=homepage&ssid=t7o3907q280000001694347398905&qH=16e35e1c76bc3b93', 'https://www.flipkart.com/redmi-note-12-sunrise-gold-64-gb/p/itm5d170187bcbf0?pid=MOBGNYHZ7ZGHES2V&lid=LSTMOBGNYHZ7ZGHES2VQILAET&marketplace=FLIPKART&q=redmi+smartphone&store=tyy%2F4io&srno=s_1_21&otracker=search&otracker1=search&fm=organic&iid=1b46f281-1602-4314-bb73-75dafebd44e6.MOBGNYHZ7ZGHES2V.SEARCH&ppt=hp&ppn=homepage&ssid=t7o3907q280000001694347398905&qH=16e35e1c76bc3b93', 'https://www.flipkart.com/redmi-12c-lavender-purple-128-gb/p/itm3fe4e598a0358?pid=MOBGZEU9TYHQ8RGE&lid=LSTMOBGZEU9TYHQ8RGEJXEEKD&marketplace=FLIPKART&q=redmi+smartphone&store=tyy%2F4io&srno=s_1_22&otracker=search&otracker1=search&fm=organic&iid=1b46f281-1602-4314-bb73-75dafebd44e6.MOBGZEU9TYHQ8RGE.SEARCH&ppt=hp&ppn=homepage&ssid=t7o3907q280000001694347398905&qH=16e35e1c76bc3b93', 'https://www.flipkart.com/redmi-12c-mint-green-128-gb/p/itm3fe4e598a0358?pid=MOBGZEUDZWSZHYJM&lid=LSTMOBGZEUDZWSZHYJMPU2O1S&marketplace=FLIPKART&q=redmi+smartphone&store=tyy%2F4io&srno=s_1_23&otracker=search&otracker1=search&fm=organic&iid=1b46f281-1602-4314-bb73-75dafebd44e6.MOBGZEUDZWSZHYJM.SEARCH&ppt=hp&ppn=homepage&ssid=t7o3907q280000001694347398905&qH=16e35e1c76bc3b93', 'https://www.flipkart.com/redmi-12c-lavender-purple-64-gb/p/itm3fe4e598a0358?pid=MOBGZEVUSSJ8VGXZ&lid=LSTMOBGZEVUSSJ8VGXZQC5UNR&marketplace=FLIPKART&q=redmi+smartphone&store=tyy%2F4io&srno=s_1_24&otracker=search&otracker1=search&fm=organic&iid=1b46f281-1602-4314-bb73-75dafebd44e6.MOBGZEVUSSJ8VGXZ.SEARCH&ppt=hp&ppn=homepage&ssid=t7o3907q280000001694347398905&qH=16e35e1c76bc3b93']\n",
      "['https://www.flipkart.com/redmi-12-moonstone-silver-128-gb/p/itme52e778c12701?pid=MOBGRMFK2MGRNG4Q&lid=LSTMOBGRMFK2MGRNG4QFZLVXT&marketplace=FLIPKART&q=redmi+smartphone&store=tyy%2F4io&spotlightTagId=BestsellerId_tyy%2F4io&srno=s_1_1&otracker=search&otracker1=search&fm=Search&iid=1b46f281-1602-4314-bb73-75dafebd44e6.MOBGRMFK2MGRNG4Q.SEARCH&ppt=sp&ppn=sp&ssid=t7o3907q280000001694347398905&qH=16e35e1c76bc3b93', 'https://www.flipkart.com/redmi-12-pastel-blue-128-gb/p/itm48719506a7ceb?pid=MOBGRMFKKGYD9ETX&lid=LSTMOBGRMFKKGYD9ETX5KD9VL&marketplace=FLIPKART&q=redmi+smartphone&store=tyy%2F4io&spotlightTagId=BestsellerId_tyy%2F4io&srno=s_1_2&otracker=search&otracker1=search&fm=Search&iid=1b46f281-1602-4314-bb73-75dafebd44e6.MOBGRMFKKGYD9ETX.SEARCH&ppt=sp&ppn=sp&ssid=t7o3907q280000001694347398905&qH=16e35e1c76bc3b93', 'https://www.flipkart.com/redmi-12-jade-black-128-gb/p/itmb7050ec01c09f?pid=MOBGRMFKTHKQSJEG&lid=LSTMOBGRMFKTHKQSJEGQK3FM2&marketplace=FLIPKART&q=redmi+smartphone&store=tyy%2F4io&spotlightTagId=BestsellerId_tyy%2F4io&srno=s_1_3&otracker=search&otracker1=search&fm=organic&iid=1b46f281-1602-4314-bb73-75dafebd44e6.MOBGRMFKTHKQSJEG.SEARCH&ppt=hp&ppn=homepage&ssid=t7o3907q280000001694347398905&qH=16e35e1c76bc3b93', 'https://www.flipkart.com/redmi-11-prime-peppy-purple-128-gb/p/itm52d6b0fe396e9?pid=MOBGZHFGUHYSHQYM&lid=LSTMOBGZHFGUHYSHQYMWGOOJ0&marketplace=FLIPKART&q=redmi+smartphone&store=tyy%2F4io&srno=s_1_4&otracker=search&otracker1=search&fm=organic&iid=1b46f281-1602-4314-bb73-75dafebd44e6.MOBGZHFGUHYSHQYM.SEARCH&ppt=hp&ppn=homepage&ssid=t7o3907q280000001694347398905&qH=16e35e1c76bc3b93', 'https://www.flipkart.com/redmi-12-pastel-blue-128-gb/p/itm9b1a6640faccd?pid=MOBGRMFKAHNTZPWE&lid=LSTMOBGRMFKAHNTZPWE1H5IWS&marketplace=FLIPKART&q=redmi+smartphone&store=tyy%2F4io&srno=s_1_5&otracker=search&otracker1=search&fm=organic&iid=1b46f281-1602-4314-bb73-75dafebd44e6.MOBGRMFKAHNTZPWE.SEARCH&ppt=hp&ppn=homepage&ssid=t7o3907q280000001694347398905&qH=16e35e1c76bc3b93', 'https://www.flipkart.com/redmi-a1-black-32-gb/p/itm70b00a77a7d1d?pid=MOBGGYBABVXHHRDQ&lid=LSTMOBGGYBABVXHHRDQTMWLXJ&marketplace=FLIPKART&q=redmi+smartphone&store=tyy%2F4io&srno=s_1_6&otracker=search&otracker1=search&fm=organic&iid=1b46f281-1602-4314-bb73-75dafebd44e6.MOBGGYBABVXHHRDQ.SEARCH&ppt=hp&ppn=homepage&ssid=t7o3907q280000001694347398905&qH=16e35e1c76bc3b93', 'https://www.flipkart.com/redmi-a1-light-green-32-gb/p/itmecc9e7ba0a1df?pid=MOBGGYBAHSAJVKHP&lid=LSTMOBGGYBAHSAJVKHP4UBD9A&marketplace=FLIPKART&q=redmi+smartphone&store=tyy%2F4io&srno=s_1_7&otracker=search&otracker1=search&fm=organic&iid=1b46f281-1602-4314-bb73-75dafebd44e6.MOBGGYBAHSAJVKHP.SEARCH&ppt=hp&ppn=homepage&ssid=t7o3907q280000001694347398905&qH=16e35e1c76bc3b93', 'https://www.flipkart.com/redmi-a2-aqua-blue-64-gb/p/itm5d49be2c0a95a?pid=MOBGPVYMG9RWX6XY&lid=LSTMOBGPVYMG9RWX6XYNJOQ2B&marketplace=FLIPKART&q=redmi+smartphone&store=tyy%2F4io&srno=s_1_8&otracker=search&otracker1=search&fm=organic&iid=1b46f281-1602-4314-bb73-75dafebd44e6.MOBGPVYMG9RWX6XY.SEARCH&ppt=hp&ppn=homepage&ssid=t7o3907q280000001694347398905&qH=16e35e1c76bc3b93', 'https://www.flipkart.com/redmi-a2-sea-green-32-gb/p/itm5d49be2c0a95a?pid=MOBGPVYATHJDTSSR&lid=LSTMOBGPVYATHJDTSSR6JMF4X&marketplace=FLIPKART&q=redmi+smartphone&store=tyy%2F4io&srno=s_1_9&otracker=search&otracker1=search&fm=organic&iid=1b46f281-1602-4314-bb73-75dafebd44e6.MOBGPVYATHJDTSSR.SEARCH&ppt=hp&ppn=homepage&ssid=t7o3907q280000001694347398905&qH=16e35e1c76bc3b93', 'https://www.flipkart.com/redmi-a2-aqua-blue-64-gb/p/itm5d49be2c0a95a?pid=MOBGR4UZWNAYKSUH&lid=LSTMOBGR4UZWNAYKSUHUXU5WM&marketplace=FLIPKART&q=redmi+smartphone&store=tyy%2F4io&srno=s_1_10&otracker=search&otracker1=search&fm=organic&iid=1b46f281-1602-4314-bb73-75dafebd44e6.MOBGR4UZWNAYKSUH.SEARCH&ppt=hp&ppn=homepage&ssid=t7o3907q280000001694347398905&qH=16e35e1c76bc3b93', 'https://www.flipkart.com/redmi-a2-classic-black-64-gb/p/itm5d49be2c0a95a?pid=MOBGPVYHRXZ3PFZU&lid=LSTMOBGPVYHRXZ3PFZU0QHLLF&marketplace=FLIPKART&q=redmi+smartphone&store=tyy%2F4io&srno=s_1_11&otracker=search&otracker1=search&fm=organic&iid=1b46f281-1602-4314-bb73-75dafebd44e6.MOBGPVYHRXZ3PFZU.SEARCH&ppt=hp&ppn=homepage&ssid=t7o3907q280000001694347398905&qH=16e35e1c76bc3b93', 'https://www.flipkart.com/redmi-9a-sport-coral-green-32-gb/p/itm53bc6ebfe147b?pid=MOBGHDXFKYSE5TPK&lid=LSTMOBGHDXFKYSE5TPKGHQ4XF&marketplace=FLIPKART&q=redmi+smartphone&store=tyy%2F4io&srno=s_1_12&otracker=search&otracker1=search&fm=organic&iid=1b46f281-1602-4314-bb73-75dafebd44e6.MOBGHDXFKYSE5TPK.SEARCH&ppt=hp&ppn=homepage&ssid=t7o3907q280000001694347398905&qH=16e35e1c76bc3b93', 'https://www.flipkart.com/redmi-6a-blue-16-gb/p/itm1ed294a755383?pid=MOBF9Z2Z3YDBSF6V&lid=LSTMOBF9Z2Z3YDBSF6VX16ZOH&marketplace=FLIPKART&q=redmi+smartphone&store=tyy%2F4io&srno=s_1_13&otracker=search&otracker1=search&fm=organic&iid=1b46f281-1602-4314-bb73-75dafebd44e6.MOBF9Z2Z3YDBSF6V.SEARCH&ppt=hp&ppn=homepage&ssid=t7o3907q280000001694347398905&qH=16e35e1c76bc3b93', 'https://www.flipkart.com/redmi-a2-aqua-blue-32-gb/p/itm5d49be2c0a95a?pid=MOBGPUZR8GHCE5ZQ&lid=LSTMOBGPUZR8GHCE5ZQ1P4DF9&marketplace=FLIPKART&q=redmi+smartphone&store=tyy%2F4io&srno=s_1_14&otracker=search&otracker1=search&fm=organic&iid=1b46f281-1602-4314-bb73-75dafebd44e6.MOBGPUZR8GHCE5ZQ.SEARCH&ppt=hp&ppn=homepage&ssid=t7o3907q280000001694347398905&qH=16e35e1c76bc3b93', 'https://www.flipkart.com/redmi-11-prime-playful-green-128-gb/p/itm0b080e6994972?pid=MOBGZHFGZQMESCDK&lid=LSTMOBGZHFGZQMESCDKZ6ILTE&marketplace=FLIPKART&q=redmi+smartphone&store=tyy%2F4io&srno=s_1_15&otracker=search&otracker1=search&fm=organic&iid=1b46f281-1602-4314-bb73-75dafebd44e6.MOBGZHFGZQMESCDK.SEARCH&ppt=hp&ppn=homepage&ssid=t7o3907q280000001694347398905&qH=16e35e1c76bc3b93', 'https://www.flipkart.com/redmi-a2-sea-green-64-gb/p/itm5d49be2c0a95a?pid=MOBGPVYEHMPGNCBZ&lid=LSTMOBGPVYEHMPGNCBZHUKI4Z&marketplace=FLIPKART&q=redmi+smartphone&store=tyy%2F4io&srno=s_1_16&otracker=search&otracker1=search&fm=organic&iid=1b46f281-1602-4314-bb73-75dafebd44e6.MOBGPVYEHMPGNCBZ.SEARCH&ppt=hp&ppn=homepage&ssid=t7o3907q280000001694347398905&qH=16e35e1c76bc3b93', 'https://www.flipkart.com/redmi-a2-classic-black-64-gb/p/itm5d49be2c0a95a?pid=MOBGRHB6XAEUADQB&lid=LSTMOBGRHB6XAEUADQBAI4AJ4&marketplace=FLIPKART&q=redmi+smartphone&store=tyy%2F4io&srno=s_1_17&otracker=search&otracker1=search&fm=organic&iid=1b46f281-1602-4314-bb73-75dafebd44e6.MOBGRHB6XAEUADQB.SEARCH&ppt=hp&ppn=homepage&ssid=t7o3907q280000001694347398905&qH=16e35e1c76bc3b93', 'https://www.flipkart.com/redmi-a2-sea-green-64-gb/p/itm5d49be2c0a95a?pid=MOBGRHB7GUUZG3QH&lid=LSTMOBGRHB7GUUZG3QHWXCHRR&marketplace=FLIPKART&q=redmi+smartphone&store=tyy%2F4io&srno=s_1_18&otracker=search&otracker1=search&fm=organic&iid=1b46f281-1602-4314-bb73-75dafebd44e6.MOBGRHB7GUUZG3QH.SEARCH&ppt=hp&ppn=homepage&ssid=t7o3907q280000001694347398905&qH=16e35e1c76bc3b93', 'https://www.flipkart.com/redmi-note-12-ice-blue-64-gb/p/itmee415766dfc1a?pid=MOBGNYHZYZ4CNTCM&lid=LSTMOBGNYHZYZ4CNTCMVONB0S&marketplace=FLIPKART&q=redmi+smartphone&store=tyy%2F4io&srno=s_1_19&otracker=search&otracker1=search&fm=organic&iid=1b46f281-1602-4314-bb73-75dafebd44e6.MOBGNYHZYZ4CNTCM.SEARCH&ppt=hp&ppn=homepage&ssid=t7o3907q280000001694347398905&qH=16e35e1c76bc3b93', 'https://www.flipkart.com/redmi-12-5g-jade-black-128-gb/p/itm0c8ba13f6fc5b?pid=MOBGS9QU7QVWUWRD&lid=LSTMOBGS9QU7QVWUWRDCTGYQ5&marketplace=FLIPKART&q=redmi+smartphone&store=tyy%2F4io&srno=s_1_20&otracker=search&otracker1=search&fm=organic&iid=1b46f281-1602-4314-bb73-75dafebd44e6.MOBGS9QU7QVWUWRD.SEARCH&ppt=hp&ppn=homepage&ssid=t7o3907q280000001694347398905&qH=16e35e1c76bc3b93', 'https://www.flipkart.com/redmi-note-12-sunrise-gold-64-gb/p/itm5d170187bcbf0?pid=MOBGNYHZ7ZGHES2V&lid=LSTMOBGNYHZ7ZGHES2VQILAET&marketplace=FLIPKART&q=redmi+smartphone&store=tyy%2F4io&srno=s_1_21&otracker=search&otracker1=search&fm=organic&iid=1b46f281-1602-4314-bb73-75dafebd44e6.MOBGNYHZ7ZGHES2V.SEARCH&ppt=hp&ppn=homepage&ssid=t7o3907q280000001694347398905&qH=16e35e1c76bc3b93', 'https://www.flipkart.com/redmi-12c-lavender-purple-128-gb/p/itm3fe4e598a0358?pid=MOBGZEU9TYHQ8RGE&lid=LSTMOBGZEU9TYHQ8RGEJXEEKD&marketplace=FLIPKART&q=redmi+smartphone&store=tyy%2F4io&srno=s_1_22&otracker=search&otracker1=search&fm=organic&iid=1b46f281-1602-4314-bb73-75dafebd44e6.MOBGZEU9TYHQ8RGE.SEARCH&ppt=hp&ppn=homepage&ssid=t7o3907q280000001694347398905&qH=16e35e1c76bc3b93', 'https://www.flipkart.com/redmi-12c-mint-green-128-gb/p/itm3fe4e598a0358?pid=MOBGZEUDZWSZHYJM&lid=LSTMOBGZEUDZWSZHYJMPU2O1S&marketplace=FLIPKART&q=redmi+smartphone&store=tyy%2F4io&srno=s_1_23&otracker=search&otracker1=search&fm=organic&iid=1b46f281-1602-4314-bb73-75dafebd44e6.MOBGZEUDZWSZHYJM.SEARCH&ppt=hp&ppn=homepage&ssid=t7o3907q280000001694347398905&qH=16e35e1c76bc3b93', 'https://www.flipkart.com/redmi-12c-lavender-purple-64-gb/p/itm3fe4e598a0358?pid=MOBGZEVUSSJ8VGXZ&lid=LSTMOBGZEVUSSJ8VGXZQC5UNR&marketplace=FLIPKART&q=redmi+smartphone&store=tyy%2F4io&srno=s_1_24&otracker=search&otracker1=search&fm=organic&iid=1b46f281-1602-4314-bb73-75dafebd44e6.MOBGZEVUSSJ8VGXZ.SEARCH&ppt=hp&ppn=homepage&ssid=t7o3907q280000001694347398905&qH=16e35e1c76bc3b93']\n"
     ]
    },
    {
     "name": "stdout",
     "output_type": "stream",
     "text": [
      "['https://www.flipkart.com/redmi-12-moonstone-silver-128-gb/p/itme52e778c12701?pid=MOBGRMFK2MGRNG4Q&lid=LSTMOBGRMFK2MGRNG4QFZLVXT&marketplace=FLIPKART&q=redmi+smartphone&store=tyy%2F4io&spotlightTagId=BestsellerId_tyy%2F4io&srno=s_1_1&otracker=search&otracker1=search&fm=Search&iid=1b46f281-1602-4314-bb73-75dafebd44e6.MOBGRMFK2MGRNG4Q.SEARCH&ppt=sp&ppn=sp&ssid=t7o3907q280000001694347398905&qH=16e35e1c76bc3b93', 'https://www.flipkart.com/redmi-12-pastel-blue-128-gb/p/itm48719506a7ceb?pid=MOBGRMFKKGYD9ETX&lid=LSTMOBGRMFKKGYD9ETX5KD9VL&marketplace=FLIPKART&q=redmi+smartphone&store=tyy%2F4io&spotlightTagId=BestsellerId_tyy%2F4io&srno=s_1_2&otracker=search&otracker1=search&fm=Search&iid=1b46f281-1602-4314-bb73-75dafebd44e6.MOBGRMFKKGYD9ETX.SEARCH&ppt=sp&ppn=sp&ssid=t7o3907q280000001694347398905&qH=16e35e1c76bc3b93', 'https://www.flipkart.com/redmi-12-jade-black-128-gb/p/itmb7050ec01c09f?pid=MOBGRMFKTHKQSJEG&lid=LSTMOBGRMFKTHKQSJEGQK3FM2&marketplace=FLIPKART&q=redmi+smartphone&store=tyy%2F4io&spotlightTagId=BestsellerId_tyy%2F4io&srno=s_1_3&otracker=search&otracker1=search&fm=organic&iid=1b46f281-1602-4314-bb73-75dafebd44e6.MOBGRMFKTHKQSJEG.SEARCH&ppt=hp&ppn=homepage&ssid=t7o3907q280000001694347398905&qH=16e35e1c76bc3b93', 'https://www.flipkart.com/redmi-11-prime-peppy-purple-128-gb/p/itm52d6b0fe396e9?pid=MOBGZHFGUHYSHQYM&lid=LSTMOBGZHFGUHYSHQYMWGOOJ0&marketplace=FLIPKART&q=redmi+smartphone&store=tyy%2F4io&srno=s_1_4&otracker=search&otracker1=search&fm=organic&iid=1b46f281-1602-4314-bb73-75dafebd44e6.MOBGZHFGUHYSHQYM.SEARCH&ppt=hp&ppn=homepage&ssid=t7o3907q280000001694347398905&qH=16e35e1c76bc3b93', 'https://www.flipkart.com/redmi-12-pastel-blue-128-gb/p/itm9b1a6640faccd?pid=MOBGRMFKAHNTZPWE&lid=LSTMOBGRMFKAHNTZPWE1H5IWS&marketplace=FLIPKART&q=redmi+smartphone&store=tyy%2F4io&srno=s_1_5&otracker=search&otracker1=search&fm=organic&iid=1b46f281-1602-4314-bb73-75dafebd44e6.MOBGRMFKAHNTZPWE.SEARCH&ppt=hp&ppn=homepage&ssid=t7o3907q280000001694347398905&qH=16e35e1c76bc3b93', 'https://www.flipkart.com/redmi-a1-black-32-gb/p/itm70b00a77a7d1d?pid=MOBGGYBABVXHHRDQ&lid=LSTMOBGGYBABVXHHRDQTMWLXJ&marketplace=FLIPKART&q=redmi+smartphone&store=tyy%2F4io&srno=s_1_6&otracker=search&otracker1=search&fm=organic&iid=1b46f281-1602-4314-bb73-75dafebd44e6.MOBGGYBABVXHHRDQ.SEARCH&ppt=hp&ppn=homepage&ssid=t7o3907q280000001694347398905&qH=16e35e1c76bc3b93', 'https://www.flipkart.com/redmi-a1-light-green-32-gb/p/itmecc9e7ba0a1df?pid=MOBGGYBAHSAJVKHP&lid=LSTMOBGGYBAHSAJVKHP4UBD9A&marketplace=FLIPKART&q=redmi+smartphone&store=tyy%2F4io&srno=s_1_7&otracker=search&otracker1=search&fm=organic&iid=1b46f281-1602-4314-bb73-75dafebd44e6.MOBGGYBAHSAJVKHP.SEARCH&ppt=hp&ppn=homepage&ssid=t7o3907q280000001694347398905&qH=16e35e1c76bc3b93', 'https://www.flipkart.com/redmi-a2-aqua-blue-64-gb/p/itm5d49be2c0a95a?pid=MOBGPVYMG9RWX6XY&lid=LSTMOBGPVYMG9RWX6XYNJOQ2B&marketplace=FLIPKART&q=redmi+smartphone&store=tyy%2F4io&srno=s_1_8&otracker=search&otracker1=search&fm=organic&iid=1b46f281-1602-4314-bb73-75dafebd44e6.MOBGPVYMG9RWX6XY.SEARCH&ppt=hp&ppn=homepage&ssid=t7o3907q280000001694347398905&qH=16e35e1c76bc3b93', 'https://www.flipkart.com/redmi-a2-sea-green-32-gb/p/itm5d49be2c0a95a?pid=MOBGPVYATHJDTSSR&lid=LSTMOBGPVYATHJDTSSR6JMF4X&marketplace=FLIPKART&q=redmi+smartphone&store=tyy%2F4io&srno=s_1_9&otracker=search&otracker1=search&fm=organic&iid=1b46f281-1602-4314-bb73-75dafebd44e6.MOBGPVYATHJDTSSR.SEARCH&ppt=hp&ppn=homepage&ssid=t7o3907q280000001694347398905&qH=16e35e1c76bc3b93', 'https://www.flipkart.com/redmi-a2-aqua-blue-64-gb/p/itm5d49be2c0a95a?pid=MOBGR4UZWNAYKSUH&lid=LSTMOBGR4UZWNAYKSUHUXU5WM&marketplace=FLIPKART&q=redmi+smartphone&store=tyy%2F4io&srno=s_1_10&otracker=search&otracker1=search&fm=organic&iid=1b46f281-1602-4314-bb73-75dafebd44e6.MOBGR4UZWNAYKSUH.SEARCH&ppt=hp&ppn=homepage&ssid=t7o3907q280000001694347398905&qH=16e35e1c76bc3b93', 'https://www.flipkart.com/redmi-a2-classic-black-64-gb/p/itm5d49be2c0a95a?pid=MOBGPVYHRXZ3PFZU&lid=LSTMOBGPVYHRXZ3PFZU0QHLLF&marketplace=FLIPKART&q=redmi+smartphone&store=tyy%2F4io&srno=s_1_11&otracker=search&otracker1=search&fm=organic&iid=1b46f281-1602-4314-bb73-75dafebd44e6.MOBGPVYHRXZ3PFZU.SEARCH&ppt=hp&ppn=homepage&ssid=t7o3907q280000001694347398905&qH=16e35e1c76bc3b93', 'https://www.flipkart.com/redmi-9a-sport-coral-green-32-gb/p/itm53bc6ebfe147b?pid=MOBGHDXFKYSE5TPK&lid=LSTMOBGHDXFKYSE5TPKGHQ4XF&marketplace=FLIPKART&q=redmi+smartphone&store=tyy%2F4io&srno=s_1_12&otracker=search&otracker1=search&fm=organic&iid=1b46f281-1602-4314-bb73-75dafebd44e6.MOBGHDXFKYSE5TPK.SEARCH&ppt=hp&ppn=homepage&ssid=t7o3907q280000001694347398905&qH=16e35e1c76bc3b93', 'https://www.flipkart.com/redmi-6a-blue-16-gb/p/itm1ed294a755383?pid=MOBF9Z2Z3YDBSF6V&lid=LSTMOBF9Z2Z3YDBSF6VX16ZOH&marketplace=FLIPKART&q=redmi+smartphone&store=tyy%2F4io&srno=s_1_13&otracker=search&otracker1=search&fm=organic&iid=1b46f281-1602-4314-bb73-75dafebd44e6.MOBF9Z2Z3YDBSF6V.SEARCH&ppt=hp&ppn=homepage&ssid=t7o3907q280000001694347398905&qH=16e35e1c76bc3b93', 'https://www.flipkart.com/redmi-a2-aqua-blue-32-gb/p/itm5d49be2c0a95a?pid=MOBGPUZR8GHCE5ZQ&lid=LSTMOBGPUZR8GHCE5ZQ1P4DF9&marketplace=FLIPKART&q=redmi+smartphone&store=tyy%2F4io&srno=s_1_14&otracker=search&otracker1=search&fm=organic&iid=1b46f281-1602-4314-bb73-75dafebd44e6.MOBGPUZR8GHCE5ZQ.SEARCH&ppt=hp&ppn=homepage&ssid=t7o3907q280000001694347398905&qH=16e35e1c76bc3b93', 'https://www.flipkart.com/redmi-11-prime-playful-green-128-gb/p/itm0b080e6994972?pid=MOBGZHFGZQMESCDK&lid=LSTMOBGZHFGZQMESCDKZ6ILTE&marketplace=FLIPKART&q=redmi+smartphone&store=tyy%2F4io&srno=s_1_15&otracker=search&otracker1=search&fm=organic&iid=1b46f281-1602-4314-bb73-75dafebd44e6.MOBGZHFGZQMESCDK.SEARCH&ppt=hp&ppn=homepage&ssid=t7o3907q280000001694347398905&qH=16e35e1c76bc3b93', 'https://www.flipkart.com/redmi-a2-sea-green-64-gb/p/itm5d49be2c0a95a?pid=MOBGPVYEHMPGNCBZ&lid=LSTMOBGPVYEHMPGNCBZHUKI4Z&marketplace=FLIPKART&q=redmi+smartphone&store=tyy%2F4io&srno=s_1_16&otracker=search&otracker1=search&fm=organic&iid=1b46f281-1602-4314-bb73-75dafebd44e6.MOBGPVYEHMPGNCBZ.SEARCH&ppt=hp&ppn=homepage&ssid=t7o3907q280000001694347398905&qH=16e35e1c76bc3b93', 'https://www.flipkart.com/redmi-a2-classic-black-64-gb/p/itm5d49be2c0a95a?pid=MOBGRHB6XAEUADQB&lid=LSTMOBGRHB6XAEUADQBAI4AJ4&marketplace=FLIPKART&q=redmi+smartphone&store=tyy%2F4io&srno=s_1_17&otracker=search&otracker1=search&fm=organic&iid=1b46f281-1602-4314-bb73-75dafebd44e6.MOBGRHB6XAEUADQB.SEARCH&ppt=hp&ppn=homepage&ssid=t7o3907q280000001694347398905&qH=16e35e1c76bc3b93', 'https://www.flipkart.com/redmi-a2-sea-green-64-gb/p/itm5d49be2c0a95a?pid=MOBGRHB7GUUZG3QH&lid=LSTMOBGRHB7GUUZG3QHWXCHRR&marketplace=FLIPKART&q=redmi+smartphone&store=tyy%2F4io&srno=s_1_18&otracker=search&otracker1=search&fm=organic&iid=1b46f281-1602-4314-bb73-75dafebd44e6.MOBGRHB7GUUZG3QH.SEARCH&ppt=hp&ppn=homepage&ssid=t7o3907q280000001694347398905&qH=16e35e1c76bc3b93', 'https://www.flipkart.com/redmi-note-12-ice-blue-64-gb/p/itmee415766dfc1a?pid=MOBGNYHZYZ4CNTCM&lid=LSTMOBGNYHZYZ4CNTCMVONB0S&marketplace=FLIPKART&q=redmi+smartphone&store=tyy%2F4io&srno=s_1_19&otracker=search&otracker1=search&fm=organic&iid=1b46f281-1602-4314-bb73-75dafebd44e6.MOBGNYHZYZ4CNTCM.SEARCH&ppt=hp&ppn=homepage&ssid=t7o3907q280000001694347398905&qH=16e35e1c76bc3b93', 'https://www.flipkart.com/redmi-12-5g-jade-black-128-gb/p/itm0c8ba13f6fc5b?pid=MOBGS9QU7QVWUWRD&lid=LSTMOBGS9QU7QVWUWRDCTGYQ5&marketplace=FLIPKART&q=redmi+smartphone&store=tyy%2F4io&srno=s_1_20&otracker=search&otracker1=search&fm=organic&iid=1b46f281-1602-4314-bb73-75dafebd44e6.MOBGS9QU7QVWUWRD.SEARCH&ppt=hp&ppn=homepage&ssid=t7o3907q280000001694347398905&qH=16e35e1c76bc3b93', 'https://www.flipkart.com/redmi-note-12-sunrise-gold-64-gb/p/itm5d170187bcbf0?pid=MOBGNYHZ7ZGHES2V&lid=LSTMOBGNYHZ7ZGHES2VQILAET&marketplace=FLIPKART&q=redmi+smartphone&store=tyy%2F4io&srno=s_1_21&otracker=search&otracker1=search&fm=organic&iid=1b46f281-1602-4314-bb73-75dafebd44e6.MOBGNYHZ7ZGHES2V.SEARCH&ppt=hp&ppn=homepage&ssid=t7o3907q280000001694347398905&qH=16e35e1c76bc3b93', 'https://www.flipkart.com/redmi-12c-lavender-purple-128-gb/p/itm3fe4e598a0358?pid=MOBGZEU9TYHQ8RGE&lid=LSTMOBGZEU9TYHQ8RGEJXEEKD&marketplace=FLIPKART&q=redmi+smartphone&store=tyy%2F4io&srno=s_1_22&otracker=search&otracker1=search&fm=organic&iid=1b46f281-1602-4314-bb73-75dafebd44e6.MOBGZEU9TYHQ8RGE.SEARCH&ppt=hp&ppn=homepage&ssid=t7o3907q280000001694347398905&qH=16e35e1c76bc3b93', 'https://www.flipkart.com/redmi-12c-mint-green-128-gb/p/itm3fe4e598a0358?pid=MOBGZEUDZWSZHYJM&lid=LSTMOBGZEUDZWSZHYJMPU2O1S&marketplace=FLIPKART&q=redmi+smartphone&store=tyy%2F4io&srno=s_1_23&otracker=search&otracker1=search&fm=organic&iid=1b46f281-1602-4314-bb73-75dafebd44e6.MOBGZEUDZWSZHYJM.SEARCH&ppt=hp&ppn=homepage&ssid=t7o3907q280000001694347398905&qH=16e35e1c76bc3b93', 'https://www.flipkart.com/redmi-12c-lavender-purple-64-gb/p/itm3fe4e598a0358?pid=MOBGZEVUSSJ8VGXZ&lid=LSTMOBGZEVUSSJ8VGXZQC5UNR&marketplace=FLIPKART&q=redmi+smartphone&store=tyy%2F4io&srno=s_1_24&otracker=search&otracker1=search&fm=organic&iid=1b46f281-1602-4314-bb73-75dafebd44e6.MOBGZEVUSSJ8VGXZ.SEARCH&ppt=hp&ppn=homepage&ssid=t7o3907q280000001694347398905&qH=16e35e1c76bc3b93']\n",
      "['https://www.flipkart.com/redmi-12-moonstone-silver-128-gb/p/itme52e778c12701?pid=MOBGRMFK2MGRNG4Q&lid=LSTMOBGRMFK2MGRNG4QFZLVXT&marketplace=FLIPKART&q=redmi+smartphone&store=tyy%2F4io&spotlightTagId=BestsellerId_tyy%2F4io&srno=s_1_1&otracker=search&otracker1=search&fm=Search&iid=1b46f281-1602-4314-bb73-75dafebd44e6.MOBGRMFK2MGRNG4Q.SEARCH&ppt=sp&ppn=sp&ssid=t7o3907q280000001694347398905&qH=16e35e1c76bc3b93', 'https://www.flipkart.com/redmi-12-pastel-blue-128-gb/p/itm48719506a7ceb?pid=MOBGRMFKKGYD9ETX&lid=LSTMOBGRMFKKGYD9ETX5KD9VL&marketplace=FLIPKART&q=redmi+smartphone&store=tyy%2F4io&spotlightTagId=BestsellerId_tyy%2F4io&srno=s_1_2&otracker=search&otracker1=search&fm=Search&iid=1b46f281-1602-4314-bb73-75dafebd44e6.MOBGRMFKKGYD9ETX.SEARCH&ppt=sp&ppn=sp&ssid=t7o3907q280000001694347398905&qH=16e35e1c76bc3b93', 'https://www.flipkart.com/redmi-12-jade-black-128-gb/p/itmb7050ec01c09f?pid=MOBGRMFKTHKQSJEG&lid=LSTMOBGRMFKTHKQSJEGQK3FM2&marketplace=FLIPKART&q=redmi+smartphone&store=tyy%2F4io&spotlightTagId=BestsellerId_tyy%2F4io&srno=s_1_3&otracker=search&otracker1=search&fm=organic&iid=1b46f281-1602-4314-bb73-75dafebd44e6.MOBGRMFKTHKQSJEG.SEARCH&ppt=hp&ppn=homepage&ssid=t7o3907q280000001694347398905&qH=16e35e1c76bc3b93', 'https://www.flipkart.com/redmi-11-prime-peppy-purple-128-gb/p/itm52d6b0fe396e9?pid=MOBGZHFGUHYSHQYM&lid=LSTMOBGZHFGUHYSHQYMWGOOJ0&marketplace=FLIPKART&q=redmi+smartphone&store=tyy%2F4io&srno=s_1_4&otracker=search&otracker1=search&fm=organic&iid=1b46f281-1602-4314-bb73-75dafebd44e6.MOBGZHFGUHYSHQYM.SEARCH&ppt=hp&ppn=homepage&ssid=t7o3907q280000001694347398905&qH=16e35e1c76bc3b93', 'https://www.flipkart.com/redmi-12-pastel-blue-128-gb/p/itm9b1a6640faccd?pid=MOBGRMFKAHNTZPWE&lid=LSTMOBGRMFKAHNTZPWE1H5IWS&marketplace=FLIPKART&q=redmi+smartphone&store=tyy%2F4io&srno=s_1_5&otracker=search&otracker1=search&fm=organic&iid=1b46f281-1602-4314-bb73-75dafebd44e6.MOBGRMFKAHNTZPWE.SEARCH&ppt=hp&ppn=homepage&ssid=t7o3907q280000001694347398905&qH=16e35e1c76bc3b93', 'https://www.flipkart.com/redmi-a1-black-32-gb/p/itm70b00a77a7d1d?pid=MOBGGYBABVXHHRDQ&lid=LSTMOBGGYBABVXHHRDQTMWLXJ&marketplace=FLIPKART&q=redmi+smartphone&store=tyy%2F4io&srno=s_1_6&otracker=search&otracker1=search&fm=organic&iid=1b46f281-1602-4314-bb73-75dafebd44e6.MOBGGYBABVXHHRDQ.SEARCH&ppt=hp&ppn=homepage&ssid=t7o3907q280000001694347398905&qH=16e35e1c76bc3b93', 'https://www.flipkart.com/redmi-a1-light-green-32-gb/p/itmecc9e7ba0a1df?pid=MOBGGYBAHSAJVKHP&lid=LSTMOBGGYBAHSAJVKHP4UBD9A&marketplace=FLIPKART&q=redmi+smartphone&store=tyy%2F4io&srno=s_1_7&otracker=search&otracker1=search&fm=organic&iid=1b46f281-1602-4314-bb73-75dafebd44e6.MOBGGYBAHSAJVKHP.SEARCH&ppt=hp&ppn=homepage&ssid=t7o3907q280000001694347398905&qH=16e35e1c76bc3b93', 'https://www.flipkart.com/redmi-a2-aqua-blue-64-gb/p/itm5d49be2c0a95a?pid=MOBGPVYMG9RWX6XY&lid=LSTMOBGPVYMG9RWX6XYNJOQ2B&marketplace=FLIPKART&q=redmi+smartphone&store=tyy%2F4io&srno=s_1_8&otracker=search&otracker1=search&fm=organic&iid=1b46f281-1602-4314-bb73-75dafebd44e6.MOBGPVYMG9RWX6XY.SEARCH&ppt=hp&ppn=homepage&ssid=t7o3907q280000001694347398905&qH=16e35e1c76bc3b93', 'https://www.flipkart.com/redmi-a2-sea-green-32-gb/p/itm5d49be2c0a95a?pid=MOBGPVYATHJDTSSR&lid=LSTMOBGPVYATHJDTSSR6JMF4X&marketplace=FLIPKART&q=redmi+smartphone&store=tyy%2F4io&srno=s_1_9&otracker=search&otracker1=search&fm=organic&iid=1b46f281-1602-4314-bb73-75dafebd44e6.MOBGPVYATHJDTSSR.SEARCH&ppt=hp&ppn=homepage&ssid=t7o3907q280000001694347398905&qH=16e35e1c76bc3b93', 'https://www.flipkart.com/redmi-a2-aqua-blue-64-gb/p/itm5d49be2c0a95a?pid=MOBGR4UZWNAYKSUH&lid=LSTMOBGR4UZWNAYKSUHUXU5WM&marketplace=FLIPKART&q=redmi+smartphone&store=tyy%2F4io&srno=s_1_10&otracker=search&otracker1=search&fm=organic&iid=1b46f281-1602-4314-bb73-75dafebd44e6.MOBGR4UZWNAYKSUH.SEARCH&ppt=hp&ppn=homepage&ssid=t7o3907q280000001694347398905&qH=16e35e1c76bc3b93', 'https://www.flipkart.com/redmi-a2-classic-black-64-gb/p/itm5d49be2c0a95a?pid=MOBGPVYHRXZ3PFZU&lid=LSTMOBGPVYHRXZ3PFZU0QHLLF&marketplace=FLIPKART&q=redmi+smartphone&store=tyy%2F4io&srno=s_1_11&otracker=search&otracker1=search&fm=organic&iid=1b46f281-1602-4314-bb73-75dafebd44e6.MOBGPVYHRXZ3PFZU.SEARCH&ppt=hp&ppn=homepage&ssid=t7o3907q280000001694347398905&qH=16e35e1c76bc3b93', 'https://www.flipkart.com/redmi-9a-sport-coral-green-32-gb/p/itm53bc6ebfe147b?pid=MOBGHDXFKYSE5TPK&lid=LSTMOBGHDXFKYSE5TPKGHQ4XF&marketplace=FLIPKART&q=redmi+smartphone&store=tyy%2F4io&srno=s_1_12&otracker=search&otracker1=search&fm=organic&iid=1b46f281-1602-4314-bb73-75dafebd44e6.MOBGHDXFKYSE5TPK.SEARCH&ppt=hp&ppn=homepage&ssid=t7o3907q280000001694347398905&qH=16e35e1c76bc3b93', 'https://www.flipkart.com/redmi-6a-blue-16-gb/p/itm1ed294a755383?pid=MOBF9Z2Z3YDBSF6V&lid=LSTMOBF9Z2Z3YDBSF6VX16ZOH&marketplace=FLIPKART&q=redmi+smartphone&store=tyy%2F4io&srno=s_1_13&otracker=search&otracker1=search&fm=organic&iid=1b46f281-1602-4314-bb73-75dafebd44e6.MOBF9Z2Z3YDBSF6V.SEARCH&ppt=hp&ppn=homepage&ssid=t7o3907q280000001694347398905&qH=16e35e1c76bc3b93', 'https://www.flipkart.com/redmi-a2-aqua-blue-32-gb/p/itm5d49be2c0a95a?pid=MOBGPUZR8GHCE5ZQ&lid=LSTMOBGPUZR8GHCE5ZQ1P4DF9&marketplace=FLIPKART&q=redmi+smartphone&store=tyy%2F4io&srno=s_1_14&otracker=search&otracker1=search&fm=organic&iid=1b46f281-1602-4314-bb73-75dafebd44e6.MOBGPUZR8GHCE5ZQ.SEARCH&ppt=hp&ppn=homepage&ssid=t7o3907q280000001694347398905&qH=16e35e1c76bc3b93', 'https://www.flipkart.com/redmi-11-prime-playful-green-128-gb/p/itm0b080e6994972?pid=MOBGZHFGZQMESCDK&lid=LSTMOBGZHFGZQMESCDKZ6ILTE&marketplace=FLIPKART&q=redmi+smartphone&store=tyy%2F4io&srno=s_1_15&otracker=search&otracker1=search&fm=organic&iid=1b46f281-1602-4314-bb73-75dafebd44e6.MOBGZHFGZQMESCDK.SEARCH&ppt=hp&ppn=homepage&ssid=t7o3907q280000001694347398905&qH=16e35e1c76bc3b93', 'https://www.flipkart.com/redmi-a2-sea-green-64-gb/p/itm5d49be2c0a95a?pid=MOBGPVYEHMPGNCBZ&lid=LSTMOBGPVYEHMPGNCBZHUKI4Z&marketplace=FLIPKART&q=redmi+smartphone&store=tyy%2F4io&srno=s_1_16&otracker=search&otracker1=search&fm=organic&iid=1b46f281-1602-4314-bb73-75dafebd44e6.MOBGPVYEHMPGNCBZ.SEARCH&ppt=hp&ppn=homepage&ssid=t7o3907q280000001694347398905&qH=16e35e1c76bc3b93', 'https://www.flipkart.com/redmi-a2-classic-black-64-gb/p/itm5d49be2c0a95a?pid=MOBGRHB6XAEUADQB&lid=LSTMOBGRHB6XAEUADQBAI4AJ4&marketplace=FLIPKART&q=redmi+smartphone&store=tyy%2F4io&srno=s_1_17&otracker=search&otracker1=search&fm=organic&iid=1b46f281-1602-4314-bb73-75dafebd44e6.MOBGRHB6XAEUADQB.SEARCH&ppt=hp&ppn=homepage&ssid=t7o3907q280000001694347398905&qH=16e35e1c76bc3b93', 'https://www.flipkart.com/redmi-a2-sea-green-64-gb/p/itm5d49be2c0a95a?pid=MOBGRHB7GUUZG3QH&lid=LSTMOBGRHB7GUUZG3QHWXCHRR&marketplace=FLIPKART&q=redmi+smartphone&store=tyy%2F4io&srno=s_1_18&otracker=search&otracker1=search&fm=organic&iid=1b46f281-1602-4314-bb73-75dafebd44e6.MOBGRHB7GUUZG3QH.SEARCH&ppt=hp&ppn=homepage&ssid=t7o3907q280000001694347398905&qH=16e35e1c76bc3b93', 'https://www.flipkart.com/redmi-note-12-ice-blue-64-gb/p/itmee415766dfc1a?pid=MOBGNYHZYZ4CNTCM&lid=LSTMOBGNYHZYZ4CNTCMVONB0S&marketplace=FLIPKART&q=redmi+smartphone&store=tyy%2F4io&srno=s_1_19&otracker=search&otracker1=search&fm=organic&iid=1b46f281-1602-4314-bb73-75dafebd44e6.MOBGNYHZYZ4CNTCM.SEARCH&ppt=hp&ppn=homepage&ssid=t7o3907q280000001694347398905&qH=16e35e1c76bc3b93', 'https://www.flipkart.com/redmi-12-5g-jade-black-128-gb/p/itm0c8ba13f6fc5b?pid=MOBGS9QU7QVWUWRD&lid=LSTMOBGS9QU7QVWUWRDCTGYQ5&marketplace=FLIPKART&q=redmi+smartphone&store=tyy%2F4io&srno=s_1_20&otracker=search&otracker1=search&fm=organic&iid=1b46f281-1602-4314-bb73-75dafebd44e6.MOBGS9QU7QVWUWRD.SEARCH&ppt=hp&ppn=homepage&ssid=t7o3907q280000001694347398905&qH=16e35e1c76bc3b93', 'https://www.flipkart.com/redmi-note-12-sunrise-gold-64-gb/p/itm5d170187bcbf0?pid=MOBGNYHZ7ZGHES2V&lid=LSTMOBGNYHZ7ZGHES2VQILAET&marketplace=FLIPKART&q=redmi+smartphone&store=tyy%2F4io&srno=s_1_21&otracker=search&otracker1=search&fm=organic&iid=1b46f281-1602-4314-bb73-75dafebd44e6.MOBGNYHZ7ZGHES2V.SEARCH&ppt=hp&ppn=homepage&ssid=t7o3907q280000001694347398905&qH=16e35e1c76bc3b93', 'https://www.flipkart.com/redmi-12c-lavender-purple-128-gb/p/itm3fe4e598a0358?pid=MOBGZEU9TYHQ8RGE&lid=LSTMOBGZEU9TYHQ8RGEJXEEKD&marketplace=FLIPKART&q=redmi+smartphone&store=tyy%2F4io&srno=s_1_22&otracker=search&otracker1=search&fm=organic&iid=1b46f281-1602-4314-bb73-75dafebd44e6.MOBGZEU9TYHQ8RGE.SEARCH&ppt=hp&ppn=homepage&ssid=t7o3907q280000001694347398905&qH=16e35e1c76bc3b93', 'https://www.flipkart.com/redmi-12c-mint-green-128-gb/p/itm3fe4e598a0358?pid=MOBGZEUDZWSZHYJM&lid=LSTMOBGZEUDZWSZHYJMPU2O1S&marketplace=FLIPKART&q=redmi+smartphone&store=tyy%2F4io&srno=s_1_23&otracker=search&otracker1=search&fm=organic&iid=1b46f281-1602-4314-bb73-75dafebd44e6.MOBGZEUDZWSZHYJM.SEARCH&ppt=hp&ppn=homepage&ssid=t7o3907q280000001694347398905&qH=16e35e1c76bc3b93', 'https://www.flipkart.com/redmi-12c-lavender-purple-64-gb/p/itm3fe4e598a0358?pid=MOBGZEVUSSJ8VGXZ&lid=LSTMOBGZEVUSSJ8VGXZQC5UNR&marketplace=FLIPKART&q=redmi+smartphone&store=tyy%2F4io&srno=s_1_24&otracker=search&otracker1=search&fm=organic&iid=1b46f281-1602-4314-bb73-75dafebd44e6.MOBGZEVUSSJ8VGXZ.SEARCH&ppt=hp&ppn=homepage&ssid=t7o3907q280000001694347398905&qH=16e35e1c76bc3b93']\n"
     ]
    },
    {
     "name": "stdout",
     "output_type": "stream",
     "text": [
      "['https://www.flipkart.com/redmi-12-moonstone-silver-128-gb/p/itme52e778c12701?pid=MOBGRMFK2MGRNG4Q&lid=LSTMOBGRMFK2MGRNG4QFZLVXT&marketplace=FLIPKART&q=redmi+smartphone&store=tyy%2F4io&spotlightTagId=BestsellerId_tyy%2F4io&srno=s_1_1&otracker=search&otracker1=search&fm=Search&iid=1b46f281-1602-4314-bb73-75dafebd44e6.MOBGRMFK2MGRNG4Q.SEARCH&ppt=sp&ppn=sp&ssid=t7o3907q280000001694347398905&qH=16e35e1c76bc3b93', 'https://www.flipkart.com/redmi-12-pastel-blue-128-gb/p/itm48719506a7ceb?pid=MOBGRMFKKGYD9ETX&lid=LSTMOBGRMFKKGYD9ETX5KD9VL&marketplace=FLIPKART&q=redmi+smartphone&store=tyy%2F4io&spotlightTagId=BestsellerId_tyy%2F4io&srno=s_1_2&otracker=search&otracker1=search&fm=Search&iid=1b46f281-1602-4314-bb73-75dafebd44e6.MOBGRMFKKGYD9ETX.SEARCH&ppt=sp&ppn=sp&ssid=t7o3907q280000001694347398905&qH=16e35e1c76bc3b93', 'https://www.flipkart.com/redmi-12-jade-black-128-gb/p/itmb7050ec01c09f?pid=MOBGRMFKTHKQSJEG&lid=LSTMOBGRMFKTHKQSJEGQK3FM2&marketplace=FLIPKART&q=redmi+smartphone&store=tyy%2F4io&spotlightTagId=BestsellerId_tyy%2F4io&srno=s_1_3&otracker=search&otracker1=search&fm=organic&iid=1b46f281-1602-4314-bb73-75dafebd44e6.MOBGRMFKTHKQSJEG.SEARCH&ppt=hp&ppn=homepage&ssid=t7o3907q280000001694347398905&qH=16e35e1c76bc3b93', 'https://www.flipkart.com/redmi-11-prime-peppy-purple-128-gb/p/itm52d6b0fe396e9?pid=MOBGZHFGUHYSHQYM&lid=LSTMOBGZHFGUHYSHQYMWGOOJ0&marketplace=FLIPKART&q=redmi+smartphone&store=tyy%2F4io&srno=s_1_4&otracker=search&otracker1=search&fm=organic&iid=1b46f281-1602-4314-bb73-75dafebd44e6.MOBGZHFGUHYSHQYM.SEARCH&ppt=hp&ppn=homepage&ssid=t7o3907q280000001694347398905&qH=16e35e1c76bc3b93', 'https://www.flipkart.com/redmi-12-pastel-blue-128-gb/p/itm9b1a6640faccd?pid=MOBGRMFKAHNTZPWE&lid=LSTMOBGRMFKAHNTZPWE1H5IWS&marketplace=FLIPKART&q=redmi+smartphone&store=tyy%2F4io&srno=s_1_5&otracker=search&otracker1=search&fm=organic&iid=1b46f281-1602-4314-bb73-75dafebd44e6.MOBGRMFKAHNTZPWE.SEARCH&ppt=hp&ppn=homepage&ssid=t7o3907q280000001694347398905&qH=16e35e1c76bc3b93', 'https://www.flipkart.com/redmi-a1-black-32-gb/p/itm70b00a77a7d1d?pid=MOBGGYBABVXHHRDQ&lid=LSTMOBGGYBABVXHHRDQTMWLXJ&marketplace=FLIPKART&q=redmi+smartphone&store=tyy%2F4io&srno=s_1_6&otracker=search&otracker1=search&fm=organic&iid=1b46f281-1602-4314-bb73-75dafebd44e6.MOBGGYBABVXHHRDQ.SEARCH&ppt=hp&ppn=homepage&ssid=t7o3907q280000001694347398905&qH=16e35e1c76bc3b93', 'https://www.flipkart.com/redmi-a1-light-green-32-gb/p/itmecc9e7ba0a1df?pid=MOBGGYBAHSAJVKHP&lid=LSTMOBGGYBAHSAJVKHP4UBD9A&marketplace=FLIPKART&q=redmi+smartphone&store=tyy%2F4io&srno=s_1_7&otracker=search&otracker1=search&fm=organic&iid=1b46f281-1602-4314-bb73-75dafebd44e6.MOBGGYBAHSAJVKHP.SEARCH&ppt=hp&ppn=homepage&ssid=t7o3907q280000001694347398905&qH=16e35e1c76bc3b93', 'https://www.flipkart.com/redmi-a2-aqua-blue-64-gb/p/itm5d49be2c0a95a?pid=MOBGPVYMG9RWX6XY&lid=LSTMOBGPVYMG9RWX6XYNJOQ2B&marketplace=FLIPKART&q=redmi+smartphone&store=tyy%2F4io&srno=s_1_8&otracker=search&otracker1=search&fm=organic&iid=1b46f281-1602-4314-bb73-75dafebd44e6.MOBGPVYMG9RWX6XY.SEARCH&ppt=hp&ppn=homepage&ssid=t7o3907q280000001694347398905&qH=16e35e1c76bc3b93', 'https://www.flipkart.com/redmi-a2-sea-green-32-gb/p/itm5d49be2c0a95a?pid=MOBGPVYATHJDTSSR&lid=LSTMOBGPVYATHJDTSSR6JMF4X&marketplace=FLIPKART&q=redmi+smartphone&store=tyy%2F4io&srno=s_1_9&otracker=search&otracker1=search&fm=organic&iid=1b46f281-1602-4314-bb73-75dafebd44e6.MOBGPVYATHJDTSSR.SEARCH&ppt=hp&ppn=homepage&ssid=t7o3907q280000001694347398905&qH=16e35e1c76bc3b93', 'https://www.flipkart.com/redmi-a2-aqua-blue-64-gb/p/itm5d49be2c0a95a?pid=MOBGR4UZWNAYKSUH&lid=LSTMOBGR4UZWNAYKSUHUXU5WM&marketplace=FLIPKART&q=redmi+smartphone&store=tyy%2F4io&srno=s_1_10&otracker=search&otracker1=search&fm=organic&iid=1b46f281-1602-4314-bb73-75dafebd44e6.MOBGR4UZWNAYKSUH.SEARCH&ppt=hp&ppn=homepage&ssid=t7o3907q280000001694347398905&qH=16e35e1c76bc3b93', 'https://www.flipkart.com/redmi-a2-classic-black-64-gb/p/itm5d49be2c0a95a?pid=MOBGPVYHRXZ3PFZU&lid=LSTMOBGPVYHRXZ3PFZU0QHLLF&marketplace=FLIPKART&q=redmi+smartphone&store=tyy%2F4io&srno=s_1_11&otracker=search&otracker1=search&fm=organic&iid=1b46f281-1602-4314-bb73-75dafebd44e6.MOBGPVYHRXZ3PFZU.SEARCH&ppt=hp&ppn=homepage&ssid=t7o3907q280000001694347398905&qH=16e35e1c76bc3b93', 'https://www.flipkart.com/redmi-9a-sport-coral-green-32-gb/p/itm53bc6ebfe147b?pid=MOBGHDXFKYSE5TPK&lid=LSTMOBGHDXFKYSE5TPKGHQ4XF&marketplace=FLIPKART&q=redmi+smartphone&store=tyy%2F4io&srno=s_1_12&otracker=search&otracker1=search&fm=organic&iid=1b46f281-1602-4314-bb73-75dafebd44e6.MOBGHDXFKYSE5TPK.SEARCH&ppt=hp&ppn=homepage&ssid=t7o3907q280000001694347398905&qH=16e35e1c76bc3b93', 'https://www.flipkart.com/redmi-6a-blue-16-gb/p/itm1ed294a755383?pid=MOBF9Z2Z3YDBSF6V&lid=LSTMOBF9Z2Z3YDBSF6VX16ZOH&marketplace=FLIPKART&q=redmi+smartphone&store=tyy%2F4io&srno=s_1_13&otracker=search&otracker1=search&fm=organic&iid=1b46f281-1602-4314-bb73-75dafebd44e6.MOBF9Z2Z3YDBSF6V.SEARCH&ppt=hp&ppn=homepage&ssid=t7o3907q280000001694347398905&qH=16e35e1c76bc3b93', 'https://www.flipkart.com/redmi-a2-aqua-blue-32-gb/p/itm5d49be2c0a95a?pid=MOBGPUZR8GHCE5ZQ&lid=LSTMOBGPUZR8GHCE5ZQ1P4DF9&marketplace=FLIPKART&q=redmi+smartphone&store=tyy%2F4io&srno=s_1_14&otracker=search&otracker1=search&fm=organic&iid=1b46f281-1602-4314-bb73-75dafebd44e6.MOBGPUZR8GHCE5ZQ.SEARCH&ppt=hp&ppn=homepage&ssid=t7o3907q280000001694347398905&qH=16e35e1c76bc3b93', 'https://www.flipkart.com/redmi-11-prime-playful-green-128-gb/p/itm0b080e6994972?pid=MOBGZHFGZQMESCDK&lid=LSTMOBGZHFGZQMESCDKZ6ILTE&marketplace=FLIPKART&q=redmi+smartphone&store=tyy%2F4io&srno=s_1_15&otracker=search&otracker1=search&fm=organic&iid=1b46f281-1602-4314-bb73-75dafebd44e6.MOBGZHFGZQMESCDK.SEARCH&ppt=hp&ppn=homepage&ssid=t7o3907q280000001694347398905&qH=16e35e1c76bc3b93', 'https://www.flipkart.com/redmi-a2-sea-green-64-gb/p/itm5d49be2c0a95a?pid=MOBGPVYEHMPGNCBZ&lid=LSTMOBGPVYEHMPGNCBZHUKI4Z&marketplace=FLIPKART&q=redmi+smartphone&store=tyy%2F4io&srno=s_1_16&otracker=search&otracker1=search&fm=organic&iid=1b46f281-1602-4314-bb73-75dafebd44e6.MOBGPVYEHMPGNCBZ.SEARCH&ppt=hp&ppn=homepage&ssid=t7o3907q280000001694347398905&qH=16e35e1c76bc3b93', 'https://www.flipkart.com/redmi-a2-classic-black-64-gb/p/itm5d49be2c0a95a?pid=MOBGRHB6XAEUADQB&lid=LSTMOBGRHB6XAEUADQBAI4AJ4&marketplace=FLIPKART&q=redmi+smartphone&store=tyy%2F4io&srno=s_1_17&otracker=search&otracker1=search&fm=organic&iid=1b46f281-1602-4314-bb73-75dafebd44e6.MOBGRHB6XAEUADQB.SEARCH&ppt=hp&ppn=homepage&ssid=t7o3907q280000001694347398905&qH=16e35e1c76bc3b93', 'https://www.flipkart.com/redmi-a2-sea-green-64-gb/p/itm5d49be2c0a95a?pid=MOBGRHB7GUUZG3QH&lid=LSTMOBGRHB7GUUZG3QHWXCHRR&marketplace=FLIPKART&q=redmi+smartphone&store=tyy%2F4io&srno=s_1_18&otracker=search&otracker1=search&fm=organic&iid=1b46f281-1602-4314-bb73-75dafebd44e6.MOBGRHB7GUUZG3QH.SEARCH&ppt=hp&ppn=homepage&ssid=t7o3907q280000001694347398905&qH=16e35e1c76bc3b93', 'https://www.flipkart.com/redmi-note-12-ice-blue-64-gb/p/itmee415766dfc1a?pid=MOBGNYHZYZ4CNTCM&lid=LSTMOBGNYHZYZ4CNTCMVONB0S&marketplace=FLIPKART&q=redmi+smartphone&store=tyy%2F4io&srno=s_1_19&otracker=search&otracker1=search&fm=organic&iid=1b46f281-1602-4314-bb73-75dafebd44e6.MOBGNYHZYZ4CNTCM.SEARCH&ppt=hp&ppn=homepage&ssid=t7o3907q280000001694347398905&qH=16e35e1c76bc3b93', 'https://www.flipkart.com/redmi-12-5g-jade-black-128-gb/p/itm0c8ba13f6fc5b?pid=MOBGS9QU7QVWUWRD&lid=LSTMOBGS9QU7QVWUWRDCTGYQ5&marketplace=FLIPKART&q=redmi+smartphone&store=tyy%2F4io&srno=s_1_20&otracker=search&otracker1=search&fm=organic&iid=1b46f281-1602-4314-bb73-75dafebd44e6.MOBGS9QU7QVWUWRD.SEARCH&ppt=hp&ppn=homepage&ssid=t7o3907q280000001694347398905&qH=16e35e1c76bc3b93', 'https://www.flipkart.com/redmi-note-12-sunrise-gold-64-gb/p/itm5d170187bcbf0?pid=MOBGNYHZ7ZGHES2V&lid=LSTMOBGNYHZ7ZGHES2VQILAET&marketplace=FLIPKART&q=redmi+smartphone&store=tyy%2F4io&srno=s_1_21&otracker=search&otracker1=search&fm=organic&iid=1b46f281-1602-4314-bb73-75dafebd44e6.MOBGNYHZ7ZGHES2V.SEARCH&ppt=hp&ppn=homepage&ssid=t7o3907q280000001694347398905&qH=16e35e1c76bc3b93', 'https://www.flipkart.com/redmi-12c-lavender-purple-128-gb/p/itm3fe4e598a0358?pid=MOBGZEU9TYHQ8RGE&lid=LSTMOBGZEU9TYHQ8RGEJXEEKD&marketplace=FLIPKART&q=redmi+smartphone&store=tyy%2F4io&srno=s_1_22&otracker=search&otracker1=search&fm=organic&iid=1b46f281-1602-4314-bb73-75dafebd44e6.MOBGZEU9TYHQ8RGE.SEARCH&ppt=hp&ppn=homepage&ssid=t7o3907q280000001694347398905&qH=16e35e1c76bc3b93', 'https://www.flipkart.com/redmi-12c-mint-green-128-gb/p/itm3fe4e598a0358?pid=MOBGZEUDZWSZHYJM&lid=LSTMOBGZEUDZWSZHYJMPU2O1S&marketplace=FLIPKART&q=redmi+smartphone&store=tyy%2F4io&srno=s_1_23&otracker=search&otracker1=search&fm=organic&iid=1b46f281-1602-4314-bb73-75dafebd44e6.MOBGZEUDZWSZHYJM.SEARCH&ppt=hp&ppn=homepage&ssid=t7o3907q280000001694347398905&qH=16e35e1c76bc3b93', 'https://www.flipkart.com/redmi-12c-lavender-purple-64-gb/p/itm3fe4e598a0358?pid=MOBGZEVUSSJ8VGXZ&lid=LSTMOBGZEVUSSJ8VGXZQC5UNR&marketplace=FLIPKART&q=redmi+smartphone&store=tyy%2F4io&srno=s_1_24&otracker=search&otracker1=search&fm=organic&iid=1b46f281-1602-4314-bb73-75dafebd44e6.MOBGZEVUSSJ8VGXZ.SEARCH&ppt=hp&ppn=homepage&ssid=t7o3907q280000001694347398905&qH=16e35e1c76bc3b93']\n",
      "['https://www.flipkart.com/redmi-12-moonstone-silver-128-gb/p/itme52e778c12701?pid=MOBGRMFK2MGRNG4Q&lid=LSTMOBGRMFK2MGRNG4QFZLVXT&marketplace=FLIPKART&q=redmi+smartphone&store=tyy%2F4io&spotlightTagId=BestsellerId_tyy%2F4io&srno=s_1_1&otracker=search&otracker1=search&fm=Search&iid=1b46f281-1602-4314-bb73-75dafebd44e6.MOBGRMFK2MGRNG4Q.SEARCH&ppt=sp&ppn=sp&ssid=t7o3907q280000001694347398905&qH=16e35e1c76bc3b93', 'https://www.flipkart.com/redmi-12-pastel-blue-128-gb/p/itm48719506a7ceb?pid=MOBGRMFKKGYD9ETX&lid=LSTMOBGRMFKKGYD9ETX5KD9VL&marketplace=FLIPKART&q=redmi+smartphone&store=tyy%2F4io&spotlightTagId=BestsellerId_tyy%2F4io&srno=s_1_2&otracker=search&otracker1=search&fm=Search&iid=1b46f281-1602-4314-bb73-75dafebd44e6.MOBGRMFKKGYD9ETX.SEARCH&ppt=sp&ppn=sp&ssid=t7o3907q280000001694347398905&qH=16e35e1c76bc3b93', 'https://www.flipkart.com/redmi-12-jade-black-128-gb/p/itmb7050ec01c09f?pid=MOBGRMFKTHKQSJEG&lid=LSTMOBGRMFKTHKQSJEGQK3FM2&marketplace=FLIPKART&q=redmi+smartphone&store=tyy%2F4io&spotlightTagId=BestsellerId_tyy%2F4io&srno=s_1_3&otracker=search&otracker1=search&fm=organic&iid=1b46f281-1602-4314-bb73-75dafebd44e6.MOBGRMFKTHKQSJEG.SEARCH&ppt=hp&ppn=homepage&ssid=t7o3907q280000001694347398905&qH=16e35e1c76bc3b93', 'https://www.flipkart.com/redmi-11-prime-peppy-purple-128-gb/p/itm52d6b0fe396e9?pid=MOBGZHFGUHYSHQYM&lid=LSTMOBGZHFGUHYSHQYMWGOOJ0&marketplace=FLIPKART&q=redmi+smartphone&store=tyy%2F4io&srno=s_1_4&otracker=search&otracker1=search&fm=organic&iid=1b46f281-1602-4314-bb73-75dafebd44e6.MOBGZHFGUHYSHQYM.SEARCH&ppt=hp&ppn=homepage&ssid=t7o3907q280000001694347398905&qH=16e35e1c76bc3b93', 'https://www.flipkart.com/redmi-12-pastel-blue-128-gb/p/itm9b1a6640faccd?pid=MOBGRMFKAHNTZPWE&lid=LSTMOBGRMFKAHNTZPWE1H5IWS&marketplace=FLIPKART&q=redmi+smartphone&store=tyy%2F4io&srno=s_1_5&otracker=search&otracker1=search&fm=organic&iid=1b46f281-1602-4314-bb73-75dafebd44e6.MOBGRMFKAHNTZPWE.SEARCH&ppt=hp&ppn=homepage&ssid=t7o3907q280000001694347398905&qH=16e35e1c76bc3b93', 'https://www.flipkart.com/redmi-a1-black-32-gb/p/itm70b00a77a7d1d?pid=MOBGGYBABVXHHRDQ&lid=LSTMOBGGYBABVXHHRDQTMWLXJ&marketplace=FLIPKART&q=redmi+smartphone&store=tyy%2F4io&srno=s_1_6&otracker=search&otracker1=search&fm=organic&iid=1b46f281-1602-4314-bb73-75dafebd44e6.MOBGGYBABVXHHRDQ.SEARCH&ppt=hp&ppn=homepage&ssid=t7o3907q280000001694347398905&qH=16e35e1c76bc3b93', 'https://www.flipkart.com/redmi-a1-light-green-32-gb/p/itmecc9e7ba0a1df?pid=MOBGGYBAHSAJVKHP&lid=LSTMOBGGYBAHSAJVKHP4UBD9A&marketplace=FLIPKART&q=redmi+smartphone&store=tyy%2F4io&srno=s_1_7&otracker=search&otracker1=search&fm=organic&iid=1b46f281-1602-4314-bb73-75dafebd44e6.MOBGGYBAHSAJVKHP.SEARCH&ppt=hp&ppn=homepage&ssid=t7o3907q280000001694347398905&qH=16e35e1c76bc3b93', 'https://www.flipkart.com/redmi-a2-aqua-blue-64-gb/p/itm5d49be2c0a95a?pid=MOBGPVYMG9RWX6XY&lid=LSTMOBGPVYMG9RWX6XYNJOQ2B&marketplace=FLIPKART&q=redmi+smartphone&store=tyy%2F4io&srno=s_1_8&otracker=search&otracker1=search&fm=organic&iid=1b46f281-1602-4314-bb73-75dafebd44e6.MOBGPVYMG9RWX6XY.SEARCH&ppt=hp&ppn=homepage&ssid=t7o3907q280000001694347398905&qH=16e35e1c76bc3b93', 'https://www.flipkart.com/redmi-a2-sea-green-32-gb/p/itm5d49be2c0a95a?pid=MOBGPVYATHJDTSSR&lid=LSTMOBGPVYATHJDTSSR6JMF4X&marketplace=FLIPKART&q=redmi+smartphone&store=tyy%2F4io&srno=s_1_9&otracker=search&otracker1=search&fm=organic&iid=1b46f281-1602-4314-bb73-75dafebd44e6.MOBGPVYATHJDTSSR.SEARCH&ppt=hp&ppn=homepage&ssid=t7o3907q280000001694347398905&qH=16e35e1c76bc3b93', 'https://www.flipkart.com/redmi-a2-aqua-blue-64-gb/p/itm5d49be2c0a95a?pid=MOBGR4UZWNAYKSUH&lid=LSTMOBGR4UZWNAYKSUHUXU5WM&marketplace=FLIPKART&q=redmi+smartphone&store=tyy%2F4io&srno=s_1_10&otracker=search&otracker1=search&fm=organic&iid=1b46f281-1602-4314-bb73-75dafebd44e6.MOBGR4UZWNAYKSUH.SEARCH&ppt=hp&ppn=homepage&ssid=t7o3907q280000001694347398905&qH=16e35e1c76bc3b93', 'https://www.flipkart.com/redmi-a2-classic-black-64-gb/p/itm5d49be2c0a95a?pid=MOBGPVYHRXZ3PFZU&lid=LSTMOBGPVYHRXZ3PFZU0QHLLF&marketplace=FLIPKART&q=redmi+smartphone&store=tyy%2F4io&srno=s_1_11&otracker=search&otracker1=search&fm=organic&iid=1b46f281-1602-4314-bb73-75dafebd44e6.MOBGPVYHRXZ3PFZU.SEARCH&ppt=hp&ppn=homepage&ssid=t7o3907q280000001694347398905&qH=16e35e1c76bc3b93', 'https://www.flipkart.com/redmi-9a-sport-coral-green-32-gb/p/itm53bc6ebfe147b?pid=MOBGHDXFKYSE5TPK&lid=LSTMOBGHDXFKYSE5TPKGHQ4XF&marketplace=FLIPKART&q=redmi+smartphone&store=tyy%2F4io&srno=s_1_12&otracker=search&otracker1=search&fm=organic&iid=1b46f281-1602-4314-bb73-75dafebd44e6.MOBGHDXFKYSE5TPK.SEARCH&ppt=hp&ppn=homepage&ssid=t7o3907q280000001694347398905&qH=16e35e1c76bc3b93', 'https://www.flipkart.com/redmi-6a-blue-16-gb/p/itm1ed294a755383?pid=MOBF9Z2Z3YDBSF6V&lid=LSTMOBF9Z2Z3YDBSF6VX16ZOH&marketplace=FLIPKART&q=redmi+smartphone&store=tyy%2F4io&srno=s_1_13&otracker=search&otracker1=search&fm=organic&iid=1b46f281-1602-4314-bb73-75dafebd44e6.MOBF9Z2Z3YDBSF6V.SEARCH&ppt=hp&ppn=homepage&ssid=t7o3907q280000001694347398905&qH=16e35e1c76bc3b93', 'https://www.flipkart.com/redmi-a2-aqua-blue-32-gb/p/itm5d49be2c0a95a?pid=MOBGPUZR8GHCE5ZQ&lid=LSTMOBGPUZR8GHCE5ZQ1P4DF9&marketplace=FLIPKART&q=redmi+smartphone&store=tyy%2F4io&srno=s_1_14&otracker=search&otracker1=search&fm=organic&iid=1b46f281-1602-4314-bb73-75dafebd44e6.MOBGPUZR8GHCE5ZQ.SEARCH&ppt=hp&ppn=homepage&ssid=t7o3907q280000001694347398905&qH=16e35e1c76bc3b93', 'https://www.flipkart.com/redmi-11-prime-playful-green-128-gb/p/itm0b080e6994972?pid=MOBGZHFGZQMESCDK&lid=LSTMOBGZHFGZQMESCDKZ6ILTE&marketplace=FLIPKART&q=redmi+smartphone&store=tyy%2F4io&srno=s_1_15&otracker=search&otracker1=search&fm=organic&iid=1b46f281-1602-4314-bb73-75dafebd44e6.MOBGZHFGZQMESCDK.SEARCH&ppt=hp&ppn=homepage&ssid=t7o3907q280000001694347398905&qH=16e35e1c76bc3b93', 'https://www.flipkart.com/redmi-a2-sea-green-64-gb/p/itm5d49be2c0a95a?pid=MOBGPVYEHMPGNCBZ&lid=LSTMOBGPVYEHMPGNCBZHUKI4Z&marketplace=FLIPKART&q=redmi+smartphone&store=tyy%2F4io&srno=s_1_16&otracker=search&otracker1=search&fm=organic&iid=1b46f281-1602-4314-bb73-75dafebd44e6.MOBGPVYEHMPGNCBZ.SEARCH&ppt=hp&ppn=homepage&ssid=t7o3907q280000001694347398905&qH=16e35e1c76bc3b93', 'https://www.flipkart.com/redmi-a2-classic-black-64-gb/p/itm5d49be2c0a95a?pid=MOBGRHB6XAEUADQB&lid=LSTMOBGRHB6XAEUADQBAI4AJ4&marketplace=FLIPKART&q=redmi+smartphone&store=tyy%2F4io&srno=s_1_17&otracker=search&otracker1=search&fm=organic&iid=1b46f281-1602-4314-bb73-75dafebd44e6.MOBGRHB6XAEUADQB.SEARCH&ppt=hp&ppn=homepage&ssid=t7o3907q280000001694347398905&qH=16e35e1c76bc3b93', 'https://www.flipkart.com/redmi-a2-sea-green-64-gb/p/itm5d49be2c0a95a?pid=MOBGRHB7GUUZG3QH&lid=LSTMOBGRHB7GUUZG3QHWXCHRR&marketplace=FLIPKART&q=redmi+smartphone&store=tyy%2F4io&srno=s_1_18&otracker=search&otracker1=search&fm=organic&iid=1b46f281-1602-4314-bb73-75dafebd44e6.MOBGRHB7GUUZG3QH.SEARCH&ppt=hp&ppn=homepage&ssid=t7o3907q280000001694347398905&qH=16e35e1c76bc3b93', 'https://www.flipkart.com/redmi-note-12-ice-blue-64-gb/p/itmee415766dfc1a?pid=MOBGNYHZYZ4CNTCM&lid=LSTMOBGNYHZYZ4CNTCMVONB0S&marketplace=FLIPKART&q=redmi+smartphone&store=tyy%2F4io&srno=s_1_19&otracker=search&otracker1=search&fm=organic&iid=1b46f281-1602-4314-bb73-75dafebd44e6.MOBGNYHZYZ4CNTCM.SEARCH&ppt=hp&ppn=homepage&ssid=t7o3907q280000001694347398905&qH=16e35e1c76bc3b93', 'https://www.flipkart.com/redmi-12-5g-jade-black-128-gb/p/itm0c8ba13f6fc5b?pid=MOBGS9QU7QVWUWRD&lid=LSTMOBGS9QU7QVWUWRDCTGYQ5&marketplace=FLIPKART&q=redmi+smartphone&store=tyy%2F4io&srno=s_1_20&otracker=search&otracker1=search&fm=organic&iid=1b46f281-1602-4314-bb73-75dafebd44e6.MOBGS9QU7QVWUWRD.SEARCH&ppt=hp&ppn=homepage&ssid=t7o3907q280000001694347398905&qH=16e35e1c76bc3b93', 'https://www.flipkart.com/redmi-note-12-sunrise-gold-64-gb/p/itm5d170187bcbf0?pid=MOBGNYHZ7ZGHES2V&lid=LSTMOBGNYHZ7ZGHES2VQILAET&marketplace=FLIPKART&q=redmi+smartphone&store=tyy%2F4io&srno=s_1_21&otracker=search&otracker1=search&fm=organic&iid=1b46f281-1602-4314-bb73-75dafebd44e6.MOBGNYHZ7ZGHES2V.SEARCH&ppt=hp&ppn=homepage&ssid=t7o3907q280000001694347398905&qH=16e35e1c76bc3b93', 'https://www.flipkart.com/redmi-12c-lavender-purple-128-gb/p/itm3fe4e598a0358?pid=MOBGZEU9TYHQ8RGE&lid=LSTMOBGZEU9TYHQ8RGEJXEEKD&marketplace=FLIPKART&q=redmi+smartphone&store=tyy%2F4io&srno=s_1_22&otracker=search&otracker1=search&fm=organic&iid=1b46f281-1602-4314-bb73-75dafebd44e6.MOBGZEU9TYHQ8RGE.SEARCH&ppt=hp&ppn=homepage&ssid=t7o3907q280000001694347398905&qH=16e35e1c76bc3b93', 'https://www.flipkart.com/redmi-12c-mint-green-128-gb/p/itm3fe4e598a0358?pid=MOBGZEUDZWSZHYJM&lid=LSTMOBGZEUDZWSZHYJMPU2O1S&marketplace=FLIPKART&q=redmi+smartphone&store=tyy%2F4io&srno=s_1_23&otracker=search&otracker1=search&fm=organic&iid=1b46f281-1602-4314-bb73-75dafebd44e6.MOBGZEUDZWSZHYJM.SEARCH&ppt=hp&ppn=homepage&ssid=t7o3907q280000001694347398905&qH=16e35e1c76bc3b93', 'https://www.flipkart.com/redmi-12c-lavender-purple-64-gb/p/itm3fe4e598a0358?pid=MOBGZEVUSSJ8VGXZ&lid=LSTMOBGZEVUSSJ8VGXZQC5UNR&marketplace=FLIPKART&q=redmi+smartphone&store=tyy%2F4io&srno=s_1_24&otracker=search&otracker1=search&fm=organic&iid=1b46f281-1602-4314-bb73-75dafebd44e6.MOBGZEVUSSJ8VGXZ.SEARCH&ppt=hp&ppn=homepage&ssid=t7o3907q280000001694347398905&qH=16e35e1c76bc3b93']\n"
     ]
    },
    {
     "name": "stdout",
     "output_type": "stream",
     "text": [
      "['https://www.flipkart.com/redmi-12-moonstone-silver-128-gb/p/itme52e778c12701?pid=MOBGRMFK2MGRNG4Q&lid=LSTMOBGRMFK2MGRNG4QFZLVXT&marketplace=FLIPKART&q=redmi+smartphone&store=tyy%2F4io&spotlightTagId=BestsellerId_tyy%2F4io&srno=s_1_1&otracker=search&otracker1=search&fm=Search&iid=1b46f281-1602-4314-bb73-75dafebd44e6.MOBGRMFK2MGRNG4Q.SEARCH&ppt=sp&ppn=sp&ssid=t7o3907q280000001694347398905&qH=16e35e1c76bc3b93', 'https://www.flipkart.com/redmi-12-pastel-blue-128-gb/p/itm48719506a7ceb?pid=MOBGRMFKKGYD9ETX&lid=LSTMOBGRMFKKGYD9ETX5KD9VL&marketplace=FLIPKART&q=redmi+smartphone&store=tyy%2F4io&spotlightTagId=BestsellerId_tyy%2F4io&srno=s_1_2&otracker=search&otracker1=search&fm=Search&iid=1b46f281-1602-4314-bb73-75dafebd44e6.MOBGRMFKKGYD9ETX.SEARCH&ppt=sp&ppn=sp&ssid=t7o3907q280000001694347398905&qH=16e35e1c76bc3b93', 'https://www.flipkart.com/redmi-12-jade-black-128-gb/p/itmb7050ec01c09f?pid=MOBGRMFKTHKQSJEG&lid=LSTMOBGRMFKTHKQSJEGQK3FM2&marketplace=FLIPKART&q=redmi+smartphone&store=tyy%2F4io&spotlightTagId=BestsellerId_tyy%2F4io&srno=s_1_3&otracker=search&otracker1=search&fm=organic&iid=1b46f281-1602-4314-bb73-75dafebd44e6.MOBGRMFKTHKQSJEG.SEARCH&ppt=hp&ppn=homepage&ssid=t7o3907q280000001694347398905&qH=16e35e1c76bc3b93', 'https://www.flipkart.com/redmi-11-prime-peppy-purple-128-gb/p/itm52d6b0fe396e9?pid=MOBGZHFGUHYSHQYM&lid=LSTMOBGZHFGUHYSHQYMWGOOJ0&marketplace=FLIPKART&q=redmi+smartphone&store=tyy%2F4io&srno=s_1_4&otracker=search&otracker1=search&fm=organic&iid=1b46f281-1602-4314-bb73-75dafebd44e6.MOBGZHFGUHYSHQYM.SEARCH&ppt=hp&ppn=homepage&ssid=t7o3907q280000001694347398905&qH=16e35e1c76bc3b93', 'https://www.flipkart.com/redmi-12-pastel-blue-128-gb/p/itm9b1a6640faccd?pid=MOBGRMFKAHNTZPWE&lid=LSTMOBGRMFKAHNTZPWE1H5IWS&marketplace=FLIPKART&q=redmi+smartphone&store=tyy%2F4io&srno=s_1_5&otracker=search&otracker1=search&fm=organic&iid=1b46f281-1602-4314-bb73-75dafebd44e6.MOBGRMFKAHNTZPWE.SEARCH&ppt=hp&ppn=homepage&ssid=t7o3907q280000001694347398905&qH=16e35e1c76bc3b93', 'https://www.flipkart.com/redmi-a1-black-32-gb/p/itm70b00a77a7d1d?pid=MOBGGYBABVXHHRDQ&lid=LSTMOBGGYBABVXHHRDQTMWLXJ&marketplace=FLIPKART&q=redmi+smartphone&store=tyy%2F4io&srno=s_1_6&otracker=search&otracker1=search&fm=organic&iid=1b46f281-1602-4314-bb73-75dafebd44e6.MOBGGYBABVXHHRDQ.SEARCH&ppt=hp&ppn=homepage&ssid=t7o3907q280000001694347398905&qH=16e35e1c76bc3b93', 'https://www.flipkart.com/redmi-a1-light-green-32-gb/p/itmecc9e7ba0a1df?pid=MOBGGYBAHSAJVKHP&lid=LSTMOBGGYBAHSAJVKHP4UBD9A&marketplace=FLIPKART&q=redmi+smartphone&store=tyy%2F4io&srno=s_1_7&otracker=search&otracker1=search&fm=organic&iid=1b46f281-1602-4314-bb73-75dafebd44e6.MOBGGYBAHSAJVKHP.SEARCH&ppt=hp&ppn=homepage&ssid=t7o3907q280000001694347398905&qH=16e35e1c76bc3b93', 'https://www.flipkart.com/redmi-a2-aqua-blue-64-gb/p/itm5d49be2c0a95a?pid=MOBGPVYMG9RWX6XY&lid=LSTMOBGPVYMG9RWX6XYNJOQ2B&marketplace=FLIPKART&q=redmi+smartphone&store=tyy%2F4io&srno=s_1_8&otracker=search&otracker1=search&fm=organic&iid=1b46f281-1602-4314-bb73-75dafebd44e6.MOBGPVYMG9RWX6XY.SEARCH&ppt=hp&ppn=homepage&ssid=t7o3907q280000001694347398905&qH=16e35e1c76bc3b93', 'https://www.flipkart.com/redmi-a2-sea-green-32-gb/p/itm5d49be2c0a95a?pid=MOBGPVYATHJDTSSR&lid=LSTMOBGPVYATHJDTSSR6JMF4X&marketplace=FLIPKART&q=redmi+smartphone&store=tyy%2F4io&srno=s_1_9&otracker=search&otracker1=search&fm=organic&iid=1b46f281-1602-4314-bb73-75dafebd44e6.MOBGPVYATHJDTSSR.SEARCH&ppt=hp&ppn=homepage&ssid=t7o3907q280000001694347398905&qH=16e35e1c76bc3b93', 'https://www.flipkart.com/redmi-a2-aqua-blue-64-gb/p/itm5d49be2c0a95a?pid=MOBGR4UZWNAYKSUH&lid=LSTMOBGR4UZWNAYKSUHUXU5WM&marketplace=FLIPKART&q=redmi+smartphone&store=tyy%2F4io&srno=s_1_10&otracker=search&otracker1=search&fm=organic&iid=1b46f281-1602-4314-bb73-75dafebd44e6.MOBGR4UZWNAYKSUH.SEARCH&ppt=hp&ppn=homepage&ssid=t7o3907q280000001694347398905&qH=16e35e1c76bc3b93', 'https://www.flipkart.com/redmi-a2-classic-black-64-gb/p/itm5d49be2c0a95a?pid=MOBGPVYHRXZ3PFZU&lid=LSTMOBGPVYHRXZ3PFZU0QHLLF&marketplace=FLIPKART&q=redmi+smartphone&store=tyy%2F4io&srno=s_1_11&otracker=search&otracker1=search&fm=organic&iid=1b46f281-1602-4314-bb73-75dafebd44e6.MOBGPVYHRXZ3PFZU.SEARCH&ppt=hp&ppn=homepage&ssid=t7o3907q280000001694347398905&qH=16e35e1c76bc3b93', 'https://www.flipkart.com/redmi-9a-sport-coral-green-32-gb/p/itm53bc6ebfe147b?pid=MOBGHDXFKYSE5TPK&lid=LSTMOBGHDXFKYSE5TPKGHQ4XF&marketplace=FLIPKART&q=redmi+smartphone&store=tyy%2F4io&srno=s_1_12&otracker=search&otracker1=search&fm=organic&iid=1b46f281-1602-4314-bb73-75dafebd44e6.MOBGHDXFKYSE5TPK.SEARCH&ppt=hp&ppn=homepage&ssid=t7o3907q280000001694347398905&qH=16e35e1c76bc3b93', 'https://www.flipkart.com/redmi-6a-blue-16-gb/p/itm1ed294a755383?pid=MOBF9Z2Z3YDBSF6V&lid=LSTMOBF9Z2Z3YDBSF6VX16ZOH&marketplace=FLIPKART&q=redmi+smartphone&store=tyy%2F4io&srno=s_1_13&otracker=search&otracker1=search&fm=organic&iid=1b46f281-1602-4314-bb73-75dafebd44e6.MOBF9Z2Z3YDBSF6V.SEARCH&ppt=hp&ppn=homepage&ssid=t7o3907q280000001694347398905&qH=16e35e1c76bc3b93', 'https://www.flipkart.com/redmi-a2-aqua-blue-32-gb/p/itm5d49be2c0a95a?pid=MOBGPUZR8GHCE5ZQ&lid=LSTMOBGPUZR8GHCE5ZQ1P4DF9&marketplace=FLIPKART&q=redmi+smartphone&store=tyy%2F4io&srno=s_1_14&otracker=search&otracker1=search&fm=organic&iid=1b46f281-1602-4314-bb73-75dafebd44e6.MOBGPUZR8GHCE5ZQ.SEARCH&ppt=hp&ppn=homepage&ssid=t7o3907q280000001694347398905&qH=16e35e1c76bc3b93', 'https://www.flipkart.com/redmi-11-prime-playful-green-128-gb/p/itm0b080e6994972?pid=MOBGZHFGZQMESCDK&lid=LSTMOBGZHFGZQMESCDKZ6ILTE&marketplace=FLIPKART&q=redmi+smartphone&store=tyy%2F4io&srno=s_1_15&otracker=search&otracker1=search&fm=organic&iid=1b46f281-1602-4314-bb73-75dafebd44e6.MOBGZHFGZQMESCDK.SEARCH&ppt=hp&ppn=homepage&ssid=t7o3907q280000001694347398905&qH=16e35e1c76bc3b93', 'https://www.flipkart.com/redmi-a2-sea-green-64-gb/p/itm5d49be2c0a95a?pid=MOBGPVYEHMPGNCBZ&lid=LSTMOBGPVYEHMPGNCBZHUKI4Z&marketplace=FLIPKART&q=redmi+smartphone&store=tyy%2F4io&srno=s_1_16&otracker=search&otracker1=search&fm=organic&iid=1b46f281-1602-4314-bb73-75dafebd44e6.MOBGPVYEHMPGNCBZ.SEARCH&ppt=hp&ppn=homepage&ssid=t7o3907q280000001694347398905&qH=16e35e1c76bc3b93', 'https://www.flipkart.com/redmi-a2-classic-black-64-gb/p/itm5d49be2c0a95a?pid=MOBGRHB6XAEUADQB&lid=LSTMOBGRHB6XAEUADQBAI4AJ4&marketplace=FLIPKART&q=redmi+smartphone&store=tyy%2F4io&srno=s_1_17&otracker=search&otracker1=search&fm=organic&iid=1b46f281-1602-4314-bb73-75dafebd44e6.MOBGRHB6XAEUADQB.SEARCH&ppt=hp&ppn=homepage&ssid=t7o3907q280000001694347398905&qH=16e35e1c76bc3b93', 'https://www.flipkart.com/redmi-a2-sea-green-64-gb/p/itm5d49be2c0a95a?pid=MOBGRHB7GUUZG3QH&lid=LSTMOBGRHB7GUUZG3QHWXCHRR&marketplace=FLIPKART&q=redmi+smartphone&store=tyy%2F4io&srno=s_1_18&otracker=search&otracker1=search&fm=organic&iid=1b46f281-1602-4314-bb73-75dafebd44e6.MOBGRHB7GUUZG3QH.SEARCH&ppt=hp&ppn=homepage&ssid=t7o3907q280000001694347398905&qH=16e35e1c76bc3b93', 'https://www.flipkart.com/redmi-note-12-ice-blue-64-gb/p/itmee415766dfc1a?pid=MOBGNYHZYZ4CNTCM&lid=LSTMOBGNYHZYZ4CNTCMVONB0S&marketplace=FLIPKART&q=redmi+smartphone&store=tyy%2F4io&srno=s_1_19&otracker=search&otracker1=search&fm=organic&iid=1b46f281-1602-4314-bb73-75dafebd44e6.MOBGNYHZYZ4CNTCM.SEARCH&ppt=hp&ppn=homepage&ssid=t7o3907q280000001694347398905&qH=16e35e1c76bc3b93', 'https://www.flipkart.com/redmi-12-5g-jade-black-128-gb/p/itm0c8ba13f6fc5b?pid=MOBGS9QU7QVWUWRD&lid=LSTMOBGS9QU7QVWUWRDCTGYQ5&marketplace=FLIPKART&q=redmi+smartphone&store=tyy%2F4io&srno=s_1_20&otracker=search&otracker1=search&fm=organic&iid=1b46f281-1602-4314-bb73-75dafebd44e6.MOBGS9QU7QVWUWRD.SEARCH&ppt=hp&ppn=homepage&ssid=t7o3907q280000001694347398905&qH=16e35e1c76bc3b93', 'https://www.flipkart.com/redmi-note-12-sunrise-gold-64-gb/p/itm5d170187bcbf0?pid=MOBGNYHZ7ZGHES2V&lid=LSTMOBGNYHZ7ZGHES2VQILAET&marketplace=FLIPKART&q=redmi+smartphone&store=tyy%2F4io&srno=s_1_21&otracker=search&otracker1=search&fm=organic&iid=1b46f281-1602-4314-bb73-75dafebd44e6.MOBGNYHZ7ZGHES2V.SEARCH&ppt=hp&ppn=homepage&ssid=t7o3907q280000001694347398905&qH=16e35e1c76bc3b93', 'https://www.flipkart.com/redmi-12c-lavender-purple-128-gb/p/itm3fe4e598a0358?pid=MOBGZEU9TYHQ8RGE&lid=LSTMOBGZEU9TYHQ8RGEJXEEKD&marketplace=FLIPKART&q=redmi+smartphone&store=tyy%2F4io&srno=s_1_22&otracker=search&otracker1=search&fm=organic&iid=1b46f281-1602-4314-bb73-75dafebd44e6.MOBGZEU9TYHQ8RGE.SEARCH&ppt=hp&ppn=homepage&ssid=t7o3907q280000001694347398905&qH=16e35e1c76bc3b93', 'https://www.flipkart.com/redmi-12c-mint-green-128-gb/p/itm3fe4e598a0358?pid=MOBGZEUDZWSZHYJM&lid=LSTMOBGZEUDZWSZHYJMPU2O1S&marketplace=FLIPKART&q=redmi+smartphone&store=tyy%2F4io&srno=s_1_23&otracker=search&otracker1=search&fm=organic&iid=1b46f281-1602-4314-bb73-75dafebd44e6.MOBGZEUDZWSZHYJM.SEARCH&ppt=hp&ppn=homepage&ssid=t7o3907q280000001694347398905&qH=16e35e1c76bc3b93', 'https://www.flipkart.com/redmi-12c-lavender-purple-64-gb/p/itm3fe4e598a0358?pid=MOBGZEVUSSJ8VGXZ&lid=LSTMOBGZEVUSSJ8VGXZQC5UNR&marketplace=FLIPKART&q=redmi+smartphone&store=tyy%2F4io&srno=s_1_24&otracker=search&otracker1=search&fm=organic&iid=1b46f281-1602-4314-bb73-75dafebd44e6.MOBGZEVUSSJ8VGXZ.SEARCH&ppt=hp&ppn=homepage&ssid=t7o3907q280000001694347398905&qH=16e35e1c76bc3b93']\n",
      "['https://www.flipkart.com/redmi-12-moonstone-silver-128-gb/p/itme52e778c12701?pid=MOBGRMFK2MGRNG4Q&lid=LSTMOBGRMFK2MGRNG4QFZLVXT&marketplace=FLIPKART&q=redmi+smartphone&store=tyy%2F4io&spotlightTagId=BestsellerId_tyy%2F4io&srno=s_1_1&otracker=search&otracker1=search&fm=Search&iid=1b46f281-1602-4314-bb73-75dafebd44e6.MOBGRMFK2MGRNG4Q.SEARCH&ppt=sp&ppn=sp&ssid=t7o3907q280000001694347398905&qH=16e35e1c76bc3b93', 'https://www.flipkart.com/redmi-12-pastel-blue-128-gb/p/itm48719506a7ceb?pid=MOBGRMFKKGYD9ETX&lid=LSTMOBGRMFKKGYD9ETX5KD9VL&marketplace=FLIPKART&q=redmi+smartphone&store=tyy%2F4io&spotlightTagId=BestsellerId_tyy%2F4io&srno=s_1_2&otracker=search&otracker1=search&fm=Search&iid=1b46f281-1602-4314-bb73-75dafebd44e6.MOBGRMFKKGYD9ETX.SEARCH&ppt=sp&ppn=sp&ssid=t7o3907q280000001694347398905&qH=16e35e1c76bc3b93', 'https://www.flipkart.com/redmi-12-jade-black-128-gb/p/itmb7050ec01c09f?pid=MOBGRMFKTHKQSJEG&lid=LSTMOBGRMFKTHKQSJEGQK3FM2&marketplace=FLIPKART&q=redmi+smartphone&store=tyy%2F4io&spotlightTagId=BestsellerId_tyy%2F4io&srno=s_1_3&otracker=search&otracker1=search&fm=organic&iid=1b46f281-1602-4314-bb73-75dafebd44e6.MOBGRMFKTHKQSJEG.SEARCH&ppt=hp&ppn=homepage&ssid=t7o3907q280000001694347398905&qH=16e35e1c76bc3b93', 'https://www.flipkart.com/redmi-11-prime-peppy-purple-128-gb/p/itm52d6b0fe396e9?pid=MOBGZHFGUHYSHQYM&lid=LSTMOBGZHFGUHYSHQYMWGOOJ0&marketplace=FLIPKART&q=redmi+smartphone&store=tyy%2F4io&srno=s_1_4&otracker=search&otracker1=search&fm=organic&iid=1b46f281-1602-4314-bb73-75dafebd44e6.MOBGZHFGUHYSHQYM.SEARCH&ppt=hp&ppn=homepage&ssid=t7o3907q280000001694347398905&qH=16e35e1c76bc3b93', 'https://www.flipkart.com/redmi-12-pastel-blue-128-gb/p/itm9b1a6640faccd?pid=MOBGRMFKAHNTZPWE&lid=LSTMOBGRMFKAHNTZPWE1H5IWS&marketplace=FLIPKART&q=redmi+smartphone&store=tyy%2F4io&srno=s_1_5&otracker=search&otracker1=search&fm=organic&iid=1b46f281-1602-4314-bb73-75dafebd44e6.MOBGRMFKAHNTZPWE.SEARCH&ppt=hp&ppn=homepage&ssid=t7o3907q280000001694347398905&qH=16e35e1c76bc3b93', 'https://www.flipkart.com/redmi-a1-black-32-gb/p/itm70b00a77a7d1d?pid=MOBGGYBABVXHHRDQ&lid=LSTMOBGGYBABVXHHRDQTMWLXJ&marketplace=FLIPKART&q=redmi+smartphone&store=tyy%2F4io&srno=s_1_6&otracker=search&otracker1=search&fm=organic&iid=1b46f281-1602-4314-bb73-75dafebd44e6.MOBGGYBABVXHHRDQ.SEARCH&ppt=hp&ppn=homepage&ssid=t7o3907q280000001694347398905&qH=16e35e1c76bc3b93', 'https://www.flipkart.com/redmi-a1-light-green-32-gb/p/itmecc9e7ba0a1df?pid=MOBGGYBAHSAJVKHP&lid=LSTMOBGGYBAHSAJVKHP4UBD9A&marketplace=FLIPKART&q=redmi+smartphone&store=tyy%2F4io&srno=s_1_7&otracker=search&otracker1=search&fm=organic&iid=1b46f281-1602-4314-bb73-75dafebd44e6.MOBGGYBAHSAJVKHP.SEARCH&ppt=hp&ppn=homepage&ssid=t7o3907q280000001694347398905&qH=16e35e1c76bc3b93', 'https://www.flipkart.com/redmi-a2-aqua-blue-64-gb/p/itm5d49be2c0a95a?pid=MOBGPVYMG9RWX6XY&lid=LSTMOBGPVYMG9RWX6XYNJOQ2B&marketplace=FLIPKART&q=redmi+smartphone&store=tyy%2F4io&srno=s_1_8&otracker=search&otracker1=search&fm=organic&iid=1b46f281-1602-4314-bb73-75dafebd44e6.MOBGPVYMG9RWX6XY.SEARCH&ppt=hp&ppn=homepage&ssid=t7o3907q280000001694347398905&qH=16e35e1c76bc3b93', 'https://www.flipkart.com/redmi-a2-sea-green-32-gb/p/itm5d49be2c0a95a?pid=MOBGPVYATHJDTSSR&lid=LSTMOBGPVYATHJDTSSR6JMF4X&marketplace=FLIPKART&q=redmi+smartphone&store=tyy%2F4io&srno=s_1_9&otracker=search&otracker1=search&fm=organic&iid=1b46f281-1602-4314-bb73-75dafebd44e6.MOBGPVYATHJDTSSR.SEARCH&ppt=hp&ppn=homepage&ssid=t7o3907q280000001694347398905&qH=16e35e1c76bc3b93', 'https://www.flipkart.com/redmi-a2-aqua-blue-64-gb/p/itm5d49be2c0a95a?pid=MOBGR4UZWNAYKSUH&lid=LSTMOBGR4UZWNAYKSUHUXU5WM&marketplace=FLIPKART&q=redmi+smartphone&store=tyy%2F4io&srno=s_1_10&otracker=search&otracker1=search&fm=organic&iid=1b46f281-1602-4314-bb73-75dafebd44e6.MOBGR4UZWNAYKSUH.SEARCH&ppt=hp&ppn=homepage&ssid=t7o3907q280000001694347398905&qH=16e35e1c76bc3b93', 'https://www.flipkart.com/redmi-a2-classic-black-64-gb/p/itm5d49be2c0a95a?pid=MOBGPVYHRXZ3PFZU&lid=LSTMOBGPVYHRXZ3PFZU0QHLLF&marketplace=FLIPKART&q=redmi+smartphone&store=tyy%2F4io&srno=s_1_11&otracker=search&otracker1=search&fm=organic&iid=1b46f281-1602-4314-bb73-75dafebd44e6.MOBGPVYHRXZ3PFZU.SEARCH&ppt=hp&ppn=homepage&ssid=t7o3907q280000001694347398905&qH=16e35e1c76bc3b93', 'https://www.flipkart.com/redmi-9a-sport-coral-green-32-gb/p/itm53bc6ebfe147b?pid=MOBGHDXFKYSE5TPK&lid=LSTMOBGHDXFKYSE5TPKGHQ4XF&marketplace=FLIPKART&q=redmi+smartphone&store=tyy%2F4io&srno=s_1_12&otracker=search&otracker1=search&fm=organic&iid=1b46f281-1602-4314-bb73-75dafebd44e6.MOBGHDXFKYSE5TPK.SEARCH&ppt=hp&ppn=homepage&ssid=t7o3907q280000001694347398905&qH=16e35e1c76bc3b93', 'https://www.flipkart.com/redmi-6a-blue-16-gb/p/itm1ed294a755383?pid=MOBF9Z2Z3YDBSF6V&lid=LSTMOBF9Z2Z3YDBSF6VX16ZOH&marketplace=FLIPKART&q=redmi+smartphone&store=tyy%2F4io&srno=s_1_13&otracker=search&otracker1=search&fm=organic&iid=1b46f281-1602-4314-bb73-75dafebd44e6.MOBF9Z2Z3YDBSF6V.SEARCH&ppt=hp&ppn=homepage&ssid=t7o3907q280000001694347398905&qH=16e35e1c76bc3b93', 'https://www.flipkart.com/redmi-a2-aqua-blue-32-gb/p/itm5d49be2c0a95a?pid=MOBGPUZR8GHCE5ZQ&lid=LSTMOBGPUZR8GHCE5ZQ1P4DF9&marketplace=FLIPKART&q=redmi+smartphone&store=tyy%2F4io&srno=s_1_14&otracker=search&otracker1=search&fm=organic&iid=1b46f281-1602-4314-bb73-75dafebd44e6.MOBGPUZR8GHCE5ZQ.SEARCH&ppt=hp&ppn=homepage&ssid=t7o3907q280000001694347398905&qH=16e35e1c76bc3b93', 'https://www.flipkart.com/redmi-11-prime-playful-green-128-gb/p/itm0b080e6994972?pid=MOBGZHFGZQMESCDK&lid=LSTMOBGZHFGZQMESCDKZ6ILTE&marketplace=FLIPKART&q=redmi+smartphone&store=tyy%2F4io&srno=s_1_15&otracker=search&otracker1=search&fm=organic&iid=1b46f281-1602-4314-bb73-75dafebd44e6.MOBGZHFGZQMESCDK.SEARCH&ppt=hp&ppn=homepage&ssid=t7o3907q280000001694347398905&qH=16e35e1c76bc3b93', 'https://www.flipkart.com/redmi-a2-sea-green-64-gb/p/itm5d49be2c0a95a?pid=MOBGPVYEHMPGNCBZ&lid=LSTMOBGPVYEHMPGNCBZHUKI4Z&marketplace=FLIPKART&q=redmi+smartphone&store=tyy%2F4io&srno=s_1_16&otracker=search&otracker1=search&fm=organic&iid=1b46f281-1602-4314-bb73-75dafebd44e6.MOBGPVYEHMPGNCBZ.SEARCH&ppt=hp&ppn=homepage&ssid=t7o3907q280000001694347398905&qH=16e35e1c76bc3b93', 'https://www.flipkart.com/redmi-a2-classic-black-64-gb/p/itm5d49be2c0a95a?pid=MOBGRHB6XAEUADQB&lid=LSTMOBGRHB6XAEUADQBAI4AJ4&marketplace=FLIPKART&q=redmi+smartphone&store=tyy%2F4io&srno=s_1_17&otracker=search&otracker1=search&fm=organic&iid=1b46f281-1602-4314-bb73-75dafebd44e6.MOBGRHB6XAEUADQB.SEARCH&ppt=hp&ppn=homepage&ssid=t7o3907q280000001694347398905&qH=16e35e1c76bc3b93', 'https://www.flipkart.com/redmi-a2-sea-green-64-gb/p/itm5d49be2c0a95a?pid=MOBGRHB7GUUZG3QH&lid=LSTMOBGRHB7GUUZG3QHWXCHRR&marketplace=FLIPKART&q=redmi+smartphone&store=tyy%2F4io&srno=s_1_18&otracker=search&otracker1=search&fm=organic&iid=1b46f281-1602-4314-bb73-75dafebd44e6.MOBGRHB7GUUZG3QH.SEARCH&ppt=hp&ppn=homepage&ssid=t7o3907q280000001694347398905&qH=16e35e1c76bc3b93', 'https://www.flipkart.com/redmi-note-12-ice-blue-64-gb/p/itmee415766dfc1a?pid=MOBGNYHZYZ4CNTCM&lid=LSTMOBGNYHZYZ4CNTCMVONB0S&marketplace=FLIPKART&q=redmi+smartphone&store=tyy%2F4io&srno=s_1_19&otracker=search&otracker1=search&fm=organic&iid=1b46f281-1602-4314-bb73-75dafebd44e6.MOBGNYHZYZ4CNTCM.SEARCH&ppt=hp&ppn=homepage&ssid=t7o3907q280000001694347398905&qH=16e35e1c76bc3b93', 'https://www.flipkart.com/redmi-12-5g-jade-black-128-gb/p/itm0c8ba13f6fc5b?pid=MOBGS9QU7QVWUWRD&lid=LSTMOBGS9QU7QVWUWRDCTGYQ5&marketplace=FLIPKART&q=redmi+smartphone&store=tyy%2F4io&srno=s_1_20&otracker=search&otracker1=search&fm=organic&iid=1b46f281-1602-4314-bb73-75dafebd44e6.MOBGS9QU7QVWUWRD.SEARCH&ppt=hp&ppn=homepage&ssid=t7o3907q280000001694347398905&qH=16e35e1c76bc3b93', 'https://www.flipkart.com/redmi-note-12-sunrise-gold-64-gb/p/itm5d170187bcbf0?pid=MOBGNYHZ7ZGHES2V&lid=LSTMOBGNYHZ7ZGHES2VQILAET&marketplace=FLIPKART&q=redmi+smartphone&store=tyy%2F4io&srno=s_1_21&otracker=search&otracker1=search&fm=organic&iid=1b46f281-1602-4314-bb73-75dafebd44e6.MOBGNYHZ7ZGHES2V.SEARCH&ppt=hp&ppn=homepage&ssid=t7o3907q280000001694347398905&qH=16e35e1c76bc3b93', 'https://www.flipkart.com/redmi-12c-lavender-purple-128-gb/p/itm3fe4e598a0358?pid=MOBGZEU9TYHQ8RGE&lid=LSTMOBGZEU9TYHQ8RGEJXEEKD&marketplace=FLIPKART&q=redmi+smartphone&store=tyy%2F4io&srno=s_1_22&otracker=search&otracker1=search&fm=organic&iid=1b46f281-1602-4314-bb73-75dafebd44e6.MOBGZEU9TYHQ8RGE.SEARCH&ppt=hp&ppn=homepage&ssid=t7o3907q280000001694347398905&qH=16e35e1c76bc3b93', 'https://www.flipkart.com/redmi-12c-mint-green-128-gb/p/itm3fe4e598a0358?pid=MOBGZEUDZWSZHYJM&lid=LSTMOBGZEUDZWSZHYJMPU2O1S&marketplace=FLIPKART&q=redmi+smartphone&store=tyy%2F4io&srno=s_1_23&otracker=search&otracker1=search&fm=organic&iid=1b46f281-1602-4314-bb73-75dafebd44e6.MOBGZEUDZWSZHYJM.SEARCH&ppt=hp&ppn=homepage&ssid=t7o3907q280000001694347398905&qH=16e35e1c76bc3b93', 'https://www.flipkart.com/redmi-12c-lavender-purple-64-gb/p/itm3fe4e598a0358?pid=MOBGZEVUSSJ8VGXZ&lid=LSTMOBGZEVUSSJ8VGXZQC5UNR&marketplace=FLIPKART&q=redmi+smartphone&store=tyy%2F4io&srno=s_1_24&otracker=search&otracker1=search&fm=organic&iid=1b46f281-1602-4314-bb73-75dafebd44e6.MOBGZEVUSSJ8VGXZ.SEARCH&ppt=hp&ppn=homepage&ssid=t7o3907q280000001694347398905&qH=16e35e1c76bc3b93']\n"
     ]
    },
    {
     "name": "stdout",
     "output_type": "stream",
     "text": [
      "['https://www.flipkart.com/redmi-12-moonstone-silver-128-gb/p/itme52e778c12701?pid=MOBGRMFK2MGRNG4Q&lid=LSTMOBGRMFK2MGRNG4QFZLVXT&marketplace=FLIPKART&q=redmi+smartphone&store=tyy%2F4io&spotlightTagId=BestsellerId_tyy%2F4io&srno=s_1_1&otracker=search&otracker1=search&fm=Search&iid=1b46f281-1602-4314-bb73-75dafebd44e6.MOBGRMFK2MGRNG4Q.SEARCH&ppt=sp&ppn=sp&ssid=t7o3907q280000001694347398905&qH=16e35e1c76bc3b93', 'https://www.flipkart.com/redmi-12-pastel-blue-128-gb/p/itm48719506a7ceb?pid=MOBGRMFKKGYD9ETX&lid=LSTMOBGRMFKKGYD9ETX5KD9VL&marketplace=FLIPKART&q=redmi+smartphone&store=tyy%2F4io&spotlightTagId=BestsellerId_tyy%2F4io&srno=s_1_2&otracker=search&otracker1=search&fm=Search&iid=1b46f281-1602-4314-bb73-75dafebd44e6.MOBGRMFKKGYD9ETX.SEARCH&ppt=sp&ppn=sp&ssid=t7o3907q280000001694347398905&qH=16e35e1c76bc3b93', 'https://www.flipkart.com/redmi-12-jade-black-128-gb/p/itmb7050ec01c09f?pid=MOBGRMFKTHKQSJEG&lid=LSTMOBGRMFKTHKQSJEGQK3FM2&marketplace=FLIPKART&q=redmi+smartphone&store=tyy%2F4io&spotlightTagId=BestsellerId_tyy%2F4io&srno=s_1_3&otracker=search&otracker1=search&fm=organic&iid=1b46f281-1602-4314-bb73-75dafebd44e6.MOBGRMFKTHKQSJEG.SEARCH&ppt=hp&ppn=homepage&ssid=t7o3907q280000001694347398905&qH=16e35e1c76bc3b93', 'https://www.flipkart.com/redmi-11-prime-peppy-purple-128-gb/p/itm52d6b0fe396e9?pid=MOBGZHFGUHYSHQYM&lid=LSTMOBGZHFGUHYSHQYMWGOOJ0&marketplace=FLIPKART&q=redmi+smartphone&store=tyy%2F4io&srno=s_1_4&otracker=search&otracker1=search&fm=organic&iid=1b46f281-1602-4314-bb73-75dafebd44e6.MOBGZHFGUHYSHQYM.SEARCH&ppt=hp&ppn=homepage&ssid=t7o3907q280000001694347398905&qH=16e35e1c76bc3b93', 'https://www.flipkart.com/redmi-12-pastel-blue-128-gb/p/itm9b1a6640faccd?pid=MOBGRMFKAHNTZPWE&lid=LSTMOBGRMFKAHNTZPWE1H5IWS&marketplace=FLIPKART&q=redmi+smartphone&store=tyy%2F4io&srno=s_1_5&otracker=search&otracker1=search&fm=organic&iid=1b46f281-1602-4314-bb73-75dafebd44e6.MOBGRMFKAHNTZPWE.SEARCH&ppt=hp&ppn=homepage&ssid=t7o3907q280000001694347398905&qH=16e35e1c76bc3b93', 'https://www.flipkart.com/redmi-a1-black-32-gb/p/itm70b00a77a7d1d?pid=MOBGGYBABVXHHRDQ&lid=LSTMOBGGYBABVXHHRDQTMWLXJ&marketplace=FLIPKART&q=redmi+smartphone&store=tyy%2F4io&srno=s_1_6&otracker=search&otracker1=search&fm=organic&iid=1b46f281-1602-4314-bb73-75dafebd44e6.MOBGGYBABVXHHRDQ.SEARCH&ppt=hp&ppn=homepage&ssid=t7o3907q280000001694347398905&qH=16e35e1c76bc3b93', 'https://www.flipkart.com/redmi-a1-light-green-32-gb/p/itmecc9e7ba0a1df?pid=MOBGGYBAHSAJVKHP&lid=LSTMOBGGYBAHSAJVKHP4UBD9A&marketplace=FLIPKART&q=redmi+smartphone&store=tyy%2F4io&srno=s_1_7&otracker=search&otracker1=search&fm=organic&iid=1b46f281-1602-4314-bb73-75dafebd44e6.MOBGGYBAHSAJVKHP.SEARCH&ppt=hp&ppn=homepage&ssid=t7o3907q280000001694347398905&qH=16e35e1c76bc3b93', 'https://www.flipkart.com/redmi-a2-aqua-blue-64-gb/p/itm5d49be2c0a95a?pid=MOBGPVYMG9RWX6XY&lid=LSTMOBGPVYMG9RWX6XYNJOQ2B&marketplace=FLIPKART&q=redmi+smartphone&store=tyy%2F4io&srno=s_1_8&otracker=search&otracker1=search&fm=organic&iid=1b46f281-1602-4314-bb73-75dafebd44e6.MOBGPVYMG9RWX6XY.SEARCH&ppt=hp&ppn=homepage&ssid=t7o3907q280000001694347398905&qH=16e35e1c76bc3b93', 'https://www.flipkart.com/redmi-a2-sea-green-32-gb/p/itm5d49be2c0a95a?pid=MOBGPVYATHJDTSSR&lid=LSTMOBGPVYATHJDTSSR6JMF4X&marketplace=FLIPKART&q=redmi+smartphone&store=tyy%2F4io&srno=s_1_9&otracker=search&otracker1=search&fm=organic&iid=1b46f281-1602-4314-bb73-75dafebd44e6.MOBGPVYATHJDTSSR.SEARCH&ppt=hp&ppn=homepage&ssid=t7o3907q280000001694347398905&qH=16e35e1c76bc3b93', 'https://www.flipkart.com/redmi-a2-aqua-blue-64-gb/p/itm5d49be2c0a95a?pid=MOBGR4UZWNAYKSUH&lid=LSTMOBGR4UZWNAYKSUHUXU5WM&marketplace=FLIPKART&q=redmi+smartphone&store=tyy%2F4io&srno=s_1_10&otracker=search&otracker1=search&fm=organic&iid=1b46f281-1602-4314-bb73-75dafebd44e6.MOBGR4UZWNAYKSUH.SEARCH&ppt=hp&ppn=homepage&ssid=t7o3907q280000001694347398905&qH=16e35e1c76bc3b93', 'https://www.flipkart.com/redmi-a2-classic-black-64-gb/p/itm5d49be2c0a95a?pid=MOBGPVYHRXZ3PFZU&lid=LSTMOBGPVYHRXZ3PFZU0QHLLF&marketplace=FLIPKART&q=redmi+smartphone&store=tyy%2F4io&srno=s_1_11&otracker=search&otracker1=search&fm=organic&iid=1b46f281-1602-4314-bb73-75dafebd44e6.MOBGPVYHRXZ3PFZU.SEARCH&ppt=hp&ppn=homepage&ssid=t7o3907q280000001694347398905&qH=16e35e1c76bc3b93', 'https://www.flipkart.com/redmi-9a-sport-coral-green-32-gb/p/itm53bc6ebfe147b?pid=MOBGHDXFKYSE5TPK&lid=LSTMOBGHDXFKYSE5TPKGHQ4XF&marketplace=FLIPKART&q=redmi+smartphone&store=tyy%2F4io&srno=s_1_12&otracker=search&otracker1=search&fm=organic&iid=1b46f281-1602-4314-bb73-75dafebd44e6.MOBGHDXFKYSE5TPK.SEARCH&ppt=hp&ppn=homepage&ssid=t7o3907q280000001694347398905&qH=16e35e1c76bc3b93', 'https://www.flipkart.com/redmi-6a-blue-16-gb/p/itm1ed294a755383?pid=MOBF9Z2Z3YDBSF6V&lid=LSTMOBF9Z2Z3YDBSF6VX16ZOH&marketplace=FLIPKART&q=redmi+smartphone&store=tyy%2F4io&srno=s_1_13&otracker=search&otracker1=search&fm=organic&iid=1b46f281-1602-4314-bb73-75dafebd44e6.MOBF9Z2Z3YDBSF6V.SEARCH&ppt=hp&ppn=homepage&ssid=t7o3907q280000001694347398905&qH=16e35e1c76bc3b93', 'https://www.flipkart.com/redmi-a2-aqua-blue-32-gb/p/itm5d49be2c0a95a?pid=MOBGPUZR8GHCE5ZQ&lid=LSTMOBGPUZR8GHCE5ZQ1P4DF9&marketplace=FLIPKART&q=redmi+smartphone&store=tyy%2F4io&srno=s_1_14&otracker=search&otracker1=search&fm=organic&iid=1b46f281-1602-4314-bb73-75dafebd44e6.MOBGPUZR8GHCE5ZQ.SEARCH&ppt=hp&ppn=homepage&ssid=t7o3907q280000001694347398905&qH=16e35e1c76bc3b93', 'https://www.flipkart.com/redmi-11-prime-playful-green-128-gb/p/itm0b080e6994972?pid=MOBGZHFGZQMESCDK&lid=LSTMOBGZHFGZQMESCDKZ6ILTE&marketplace=FLIPKART&q=redmi+smartphone&store=tyy%2F4io&srno=s_1_15&otracker=search&otracker1=search&fm=organic&iid=1b46f281-1602-4314-bb73-75dafebd44e6.MOBGZHFGZQMESCDK.SEARCH&ppt=hp&ppn=homepage&ssid=t7o3907q280000001694347398905&qH=16e35e1c76bc3b93', 'https://www.flipkart.com/redmi-a2-sea-green-64-gb/p/itm5d49be2c0a95a?pid=MOBGPVYEHMPGNCBZ&lid=LSTMOBGPVYEHMPGNCBZHUKI4Z&marketplace=FLIPKART&q=redmi+smartphone&store=tyy%2F4io&srno=s_1_16&otracker=search&otracker1=search&fm=organic&iid=1b46f281-1602-4314-bb73-75dafebd44e6.MOBGPVYEHMPGNCBZ.SEARCH&ppt=hp&ppn=homepage&ssid=t7o3907q280000001694347398905&qH=16e35e1c76bc3b93', 'https://www.flipkart.com/redmi-a2-classic-black-64-gb/p/itm5d49be2c0a95a?pid=MOBGRHB6XAEUADQB&lid=LSTMOBGRHB6XAEUADQBAI4AJ4&marketplace=FLIPKART&q=redmi+smartphone&store=tyy%2F4io&srno=s_1_17&otracker=search&otracker1=search&fm=organic&iid=1b46f281-1602-4314-bb73-75dafebd44e6.MOBGRHB6XAEUADQB.SEARCH&ppt=hp&ppn=homepage&ssid=t7o3907q280000001694347398905&qH=16e35e1c76bc3b93', 'https://www.flipkart.com/redmi-a2-sea-green-64-gb/p/itm5d49be2c0a95a?pid=MOBGRHB7GUUZG3QH&lid=LSTMOBGRHB7GUUZG3QHWXCHRR&marketplace=FLIPKART&q=redmi+smartphone&store=tyy%2F4io&srno=s_1_18&otracker=search&otracker1=search&fm=organic&iid=1b46f281-1602-4314-bb73-75dafebd44e6.MOBGRHB7GUUZG3QH.SEARCH&ppt=hp&ppn=homepage&ssid=t7o3907q280000001694347398905&qH=16e35e1c76bc3b93', 'https://www.flipkart.com/redmi-note-12-ice-blue-64-gb/p/itmee415766dfc1a?pid=MOBGNYHZYZ4CNTCM&lid=LSTMOBGNYHZYZ4CNTCMVONB0S&marketplace=FLIPKART&q=redmi+smartphone&store=tyy%2F4io&srno=s_1_19&otracker=search&otracker1=search&fm=organic&iid=1b46f281-1602-4314-bb73-75dafebd44e6.MOBGNYHZYZ4CNTCM.SEARCH&ppt=hp&ppn=homepage&ssid=t7o3907q280000001694347398905&qH=16e35e1c76bc3b93', 'https://www.flipkart.com/redmi-12-5g-jade-black-128-gb/p/itm0c8ba13f6fc5b?pid=MOBGS9QU7QVWUWRD&lid=LSTMOBGS9QU7QVWUWRDCTGYQ5&marketplace=FLIPKART&q=redmi+smartphone&store=tyy%2F4io&srno=s_1_20&otracker=search&otracker1=search&fm=organic&iid=1b46f281-1602-4314-bb73-75dafebd44e6.MOBGS9QU7QVWUWRD.SEARCH&ppt=hp&ppn=homepage&ssid=t7o3907q280000001694347398905&qH=16e35e1c76bc3b93', 'https://www.flipkart.com/redmi-note-12-sunrise-gold-64-gb/p/itm5d170187bcbf0?pid=MOBGNYHZ7ZGHES2V&lid=LSTMOBGNYHZ7ZGHES2VQILAET&marketplace=FLIPKART&q=redmi+smartphone&store=tyy%2F4io&srno=s_1_21&otracker=search&otracker1=search&fm=organic&iid=1b46f281-1602-4314-bb73-75dafebd44e6.MOBGNYHZ7ZGHES2V.SEARCH&ppt=hp&ppn=homepage&ssid=t7o3907q280000001694347398905&qH=16e35e1c76bc3b93', 'https://www.flipkart.com/redmi-12c-lavender-purple-128-gb/p/itm3fe4e598a0358?pid=MOBGZEU9TYHQ8RGE&lid=LSTMOBGZEU9TYHQ8RGEJXEEKD&marketplace=FLIPKART&q=redmi+smartphone&store=tyy%2F4io&srno=s_1_22&otracker=search&otracker1=search&fm=organic&iid=1b46f281-1602-4314-bb73-75dafebd44e6.MOBGZEU9TYHQ8RGE.SEARCH&ppt=hp&ppn=homepage&ssid=t7o3907q280000001694347398905&qH=16e35e1c76bc3b93', 'https://www.flipkart.com/redmi-12c-mint-green-128-gb/p/itm3fe4e598a0358?pid=MOBGZEUDZWSZHYJM&lid=LSTMOBGZEUDZWSZHYJMPU2O1S&marketplace=FLIPKART&q=redmi+smartphone&store=tyy%2F4io&srno=s_1_23&otracker=search&otracker1=search&fm=organic&iid=1b46f281-1602-4314-bb73-75dafebd44e6.MOBGZEUDZWSZHYJM.SEARCH&ppt=hp&ppn=homepage&ssid=t7o3907q280000001694347398905&qH=16e35e1c76bc3b93', 'https://www.flipkart.com/redmi-12c-lavender-purple-64-gb/p/itm3fe4e598a0358?pid=MOBGZEVUSSJ8VGXZ&lid=LSTMOBGZEVUSSJ8VGXZQC5UNR&marketplace=FLIPKART&q=redmi+smartphone&store=tyy%2F4io&srno=s_1_24&otracker=search&otracker1=search&fm=organic&iid=1b46f281-1602-4314-bb73-75dafebd44e6.MOBGZEVUSSJ8VGXZ.SEARCH&ppt=hp&ppn=homepage&ssid=t7o3907q280000001694347398905&qH=16e35e1c76bc3b93']\n",
      "['https://www.flipkart.com/redmi-12-moonstone-silver-128-gb/p/itme52e778c12701?pid=MOBGRMFK2MGRNG4Q&lid=LSTMOBGRMFK2MGRNG4QFZLVXT&marketplace=FLIPKART&q=redmi+smartphone&store=tyy%2F4io&spotlightTagId=BestsellerId_tyy%2F4io&srno=s_1_1&otracker=search&otracker1=search&fm=Search&iid=1b46f281-1602-4314-bb73-75dafebd44e6.MOBGRMFK2MGRNG4Q.SEARCH&ppt=sp&ppn=sp&ssid=t7o3907q280000001694347398905&qH=16e35e1c76bc3b93', 'https://www.flipkart.com/redmi-12-pastel-blue-128-gb/p/itm48719506a7ceb?pid=MOBGRMFKKGYD9ETX&lid=LSTMOBGRMFKKGYD9ETX5KD9VL&marketplace=FLIPKART&q=redmi+smartphone&store=tyy%2F4io&spotlightTagId=BestsellerId_tyy%2F4io&srno=s_1_2&otracker=search&otracker1=search&fm=Search&iid=1b46f281-1602-4314-bb73-75dafebd44e6.MOBGRMFKKGYD9ETX.SEARCH&ppt=sp&ppn=sp&ssid=t7o3907q280000001694347398905&qH=16e35e1c76bc3b93', 'https://www.flipkart.com/redmi-12-jade-black-128-gb/p/itmb7050ec01c09f?pid=MOBGRMFKTHKQSJEG&lid=LSTMOBGRMFKTHKQSJEGQK3FM2&marketplace=FLIPKART&q=redmi+smartphone&store=tyy%2F4io&spotlightTagId=BestsellerId_tyy%2F4io&srno=s_1_3&otracker=search&otracker1=search&fm=organic&iid=1b46f281-1602-4314-bb73-75dafebd44e6.MOBGRMFKTHKQSJEG.SEARCH&ppt=hp&ppn=homepage&ssid=t7o3907q280000001694347398905&qH=16e35e1c76bc3b93', 'https://www.flipkart.com/redmi-11-prime-peppy-purple-128-gb/p/itm52d6b0fe396e9?pid=MOBGZHFGUHYSHQYM&lid=LSTMOBGZHFGUHYSHQYMWGOOJ0&marketplace=FLIPKART&q=redmi+smartphone&store=tyy%2F4io&srno=s_1_4&otracker=search&otracker1=search&fm=organic&iid=1b46f281-1602-4314-bb73-75dafebd44e6.MOBGZHFGUHYSHQYM.SEARCH&ppt=hp&ppn=homepage&ssid=t7o3907q280000001694347398905&qH=16e35e1c76bc3b93', 'https://www.flipkart.com/redmi-12-pastel-blue-128-gb/p/itm9b1a6640faccd?pid=MOBGRMFKAHNTZPWE&lid=LSTMOBGRMFKAHNTZPWE1H5IWS&marketplace=FLIPKART&q=redmi+smartphone&store=tyy%2F4io&srno=s_1_5&otracker=search&otracker1=search&fm=organic&iid=1b46f281-1602-4314-bb73-75dafebd44e6.MOBGRMFKAHNTZPWE.SEARCH&ppt=hp&ppn=homepage&ssid=t7o3907q280000001694347398905&qH=16e35e1c76bc3b93', 'https://www.flipkart.com/redmi-a1-black-32-gb/p/itm70b00a77a7d1d?pid=MOBGGYBABVXHHRDQ&lid=LSTMOBGGYBABVXHHRDQTMWLXJ&marketplace=FLIPKART&q=redmi+smartphone&store=tyy%2F4io&srno=s_1_6&otracker=search&otracker1=search&fm=organic&iid=1b46f281-1602-4314-bb73-75dafebd44e6.MOBGGYBABVXHHRDQ.SEARCH&ppt=hp&ppn=homepage&ssid=t7o3907q280000001694347398905&qH=16e35e1c76bc3b93', 'https://www.flipkart.com/redmi-a1-light-green-32-gb/p/itmecc9e7ba0a1df?pid=MOBGGYBAHSAJVKHP&lid=LSTMOBGGYBAHSAJVKHP4UBD9A&marketplace=FLIPKART&q=redmi+smartphone&store=tyy%2F4io&srno=s_1_7&otracker=search&otracker1=search&fm=organic&iid=1b46f281-1602-4314-bb73-75dafebd44e6.MOBGGYBAHSAJVKHP.SEARCH&ppt=hp&ppn=homepage&ssid=t7o3907q280000001694347398905&qH=16e35e1c76bc3b93', 'https://www.flipkart.com/redmi-a2-aqua-blue-64-gb/p/itm5d49be2c0a95a?pid=MOBGPVYMG9RWX6XY&lid=LSTMOBGPVYMG9RWX6XYNJOQ2B&marketplace=FLIPKART&q=redmi+smartphone&store=tyy%2F4io&srno=s_1_8&otracker=search&otracker1=search&fm=organic&iid=1b46f281-1602-4314-bb73-75dafebd44e6.MOBGPVYMG9RWX6XY.SEARCH&ppt=hp&ppn=homepage&ssid=t7o3907q280000001694347398905&qH=16e35e1c76bc3b93', 'https://www.flipkart.com/redmi-a2-sea-green-32-gb/p/itm5d49be2c0a95a?pid=MOBGPVYATHJDTSSR&lid=LSTMOBGPVYATHJDTSSR6JMF4X&marketplace=FLIPKART&q=redmi+smartphone&store=tyy%2F4io&srno=s_1_9&otracker=search&otracker1=search&fm=organic&iid=1b46f281-1602-4314-bb73-75dafebd44e6.MOBGPVYATHJDTSSR.SEARCH&ppt=hp&ppn=homepage&ssid=t7o3907q280000001694347398905&qH=16e35e1c76bc3b93', 'https://www.flipkart.com/redmi-a2-aqua-blue-64-gb/p/itm5d49be2c0a95a?pid=MOBGR4UZWNAYKSUH&lid=LSTMOBGR4UZWNAYKSUHUXU5WM&marketplace=FLIPKART&q=redmi+smartphone&store=tyy%2F4io&srno=s_1_10&otracker=search&otracker1=search&fm=organic&iid=1b46f281-1602-4314-bb73-75dafebd44e6.MOBGR4UZWNAYKSUH.SEARCH&ppt=hp&ppn=homepage&ssid=t7o3907q280000001694347398905&qH=16e35e1c76bc3b93', 'https://www.flipkart.com/redmi-a2-classic-black-64-gb/p/itm5d49be2c0a95a?pid=MOBGPVYHRXZ3PFZU&lid=LSTMOBGPVYHRXZ3PFZU0QHLLF&marketplace=FLIPKART&q=redmi+smartphone&store=tyy%2F4io&srno=s_1_11&otracker=search&otracker1=search&fm=organic&iid=1b46f281-1602-4314-bb73-75dafebd44e6.MOBGPVYHRXZ3PFZU.SEARCH&ppt=hp&ppn=homepage&ssid=t7o3907q280000001694347398905&qH=16e35e1c76bc3b93', 'https://www.flipkart.com/redmi-9a-sport-coral-green-32-gb/p/itm53bc6ebfe147b?pid=MOBGHDXFKYSE5TPK&lid=LSTMOBGHDXFKYSE5TPKGHQ4XF&marketplace=FLIPKART&q=redmi+smartphone&store=tyy%2F4io&srno=s_1_12&otracker=search&otracker1=search&fm=organic&iid=1b46f281-1602-4314-bb73-75dafebd44e6.MOBGHDXFKYSE5TPK.SEARCH&ppt=hp&ppn=homepage&ssid=t7o3907q280000001694347398905&qH=16e35e1c76bc3b93', 'https://www.flipkart.com/redmi-6a-blue-16-gb/p/itm1ed294a755383?pid=MOBF9Z2Z3YDBSF6V&lid=LSTMOBF9Z2Z3YDBSF6VX16ZOH&marketplace=FLIPKART&q=redmi+smartphone&store=tyy%2F4io&srno=s_1_13&otracker=search&otracker1=search&fm=organic&iid=1b46f281-1602-4314-bb73-75dafebd44e6.MOBF9Z2Z3YDBSF6V.SEARCH&ppt=hp&ppn=homepage&ssid=t7o3907q280000001694347398905&qH=16e35e1c76bc3b93', 'https://www.flipkart.com/redmi-a2-aqua-blue-32-gb/p/itm5d49be2c0a95a?pid=MOBGPUZR8GHCE5ZQ&lid=LSTMOBGPUZR8GHCE5ZQ1P4DF9&marketplace=FLIPKART&q=redmi+smartphone&store=tyy%2F4io&srno=s_1_14&otracker=search&otracker1=search&fm=organic&iid=1b46f281-1602-4314-bb73-75dafebd44e6.MOBGPUZR8GHCE5ZQ.SEARCH&ppt=hp&ppn=homepage&ssid=t7o3907q280000001694347398905&qH=16e35e1c76bc3b93', 'https://www.flipkart.com/redmi-11-prime-playful-green-128-gb/p/itm0b080e6994972?pid=MOBGZHFGZQMESCDK&lid=LSTMOBGZHFGZQMESCDKZ6ILTE&marketplace=FLIPKART&q=redmi+smartphone&store=tyy%2F4io&srno=s_1_15&otracker=search&otracker1=search&fm=organic&iid=1b46f281-1602-4314-bb73-75dafebd44e6.MOBGZHFGZQMESCDK.SEARCH&ppt=hp&ppn=homepage&ssid=t7o3907q280000001694347398905&qH=16e35e1c76bc3b93', 'https://www.flipkart.com/redmi-a2-sea-green-64-gb/p/itm5d49be2c0a95a?pid=MOBGPVYEHMPGNCBZ&lid=LSTMOBGPVYEHMPGNCBZHUKI4Z&marketplace=FLIPKART&q=redmi+smartphone&store=tyy%2F4io&srno=s_1_16&otracker=search&otracker1=search&fm=organic&iid=1b46f281-1602-4314-bb73-75dafebd44e6.MOBGPVYEHMPGNCBZ.SEARCH&ppt=hp&ppn=homepage&ssid=t7o3907q280000001694347398905&qH=16e35e1c76bc3b93', 'https://www.flipkart.com/redmi-a2-classic-black-64-gb/p/itm5d49be2c0a95a?pid=MOBGRHB6XAEUADQB&lid=LSTMOBGRHB6XAEUADQBAI4AJ4&marketplace=FLIPKART&q=redmi+smartphone&store=tyy%2F4io&srno=s_1_17&otracker=search&otracker1=search&fm=organic&iid=1b46f281-1602-4314-bb73-75dafebd44e6.MOBGRHB6XAEUADQB.SEARCH&ppt=hp&ppn=homepage&ssid=t7o3907q280000001694347398905&qH=16e35e1c76bc3b93', 'https://www.flipkart.com/redmi-a2-sea-green-64-gb/p/itm5d49be2c0a95a?pid=MOBGRHB7GUUZG3QH&lid=LSTMOBGRHB7GUUZG3QHWXCHRR&marketplace=FLIPKART&q=redmi+smartphone&store=tyy%2F4io&srno=s_1_18&otracker=search&otracker1=search&fm=organic&iid=1b46f281-1602-4314-bb73-75dafebd44e6.MOBGRHB7GUUZG3QH.SEARCH&ppt=hp&ppn=homepage&ssid=t7o3907q280000001694347398905&qH=16e35e1c76bc3b93', 'https://www.flipkart.com/redmi-note-12-ice-blue-64-gb/p/itmee415766dfc1a?pid=MOBGNYHZYZ4CNTCM&lid=LSTMOBGNYHZYZ4CNTCMVONB0S&marketplace=FLIPKART&q=redmi+smartphone&store=tyy%2F4io&srno=s_1_19&otracker=search&otracker1=search&fm=organic&iid=1b46f281-1602-4314-bb73-75dafebd44e6.MOBGNYHZYZ4CNTCM.SEARCH&ppt=hp&ppn=homepage&ssid=t7o3907q280000001694347398905&qH=16e35e1c76bc3b93', 'https://www.flipkart.com/redmi-12-5g-jade-black-128-gb/p/itm0c8ba13f6fc5b?pid=MOBGS9QU7QVWUWRD&lid=LSTMOBGS9QU7QVWUWRDCTGYQ5&marketplace=FLIPKART&q=redmi+smartphone&store=tyy%2F4io&srno=s_1_20&otracker=search&otracker1=search&fm=organic&iid=1b46f281-1602-4314-bb73-75dafebd44e6.MOBGS9QU7QVWUWRD.SEARCH&ppt=hp&ppn=homepage&ssid=t7o3907q280000001694347398905&qH=16e35e1c76bc3b93', 'https://www.flipkart.com/redmi-note-12-sunrise-gold-64-gb/p/itm5d170187bcbf0?pid=MOBGNYHZ7ZGHES2V&lid=LSTMOBGNYHZ7ZGHES2VQILAET&marketplace=FLIPKART&q=redmi+smartphone&store=tyy%2F4io&srno=s_1_21&otracker=search&otracker1=search&fm=organic&iid=1b46f281-1602-4314-bb73-75dafebd44e6.MOBGNYHZ7ZGHES2V.SEARCH&ppt=hp&ppn=homepage&ssid=t7o3907q280000001694347398905&qH=16e35e1c76bc3b93', 'https://www.flipkart.com/redmi-12c-lavender-purple-128-gb/p/itm3fe4e598a0358?pid=MOBGZEU9TYHQ8RGE&lid=LSTMOBGZEU9TYHQ8RGEJXEEKD&marketplace=FLIPKART&q=redmi+smartphone&store=tyy%2F4io&srno=s_1_22&otracker=search&otracker1=search&fm=organic&iid=1b46f281-1602-4314-bb73-75dafebd44e6.MOBGZEU9TYHQ8RGE.SEARCH&ppt=hp&ppn=homepage&ssid=t7o3907q280000001694347398905&qH=16e35e1c76bc3b93', 'https://www.flipkart.com/redmi-12c-mint-green-128-gb/p/itm3fe4e598a0358?pid=MOBGZEUDZWSZHYJM&lid=LSTMOBGZEUDZWSZHYJMPU2O1S&marketplace=FLIPKART&q=redmi+smartphone&store=tyy%2F4io&srno=s_1_23&otracker=search&otracker1=search&fm=organic&iid=1b46f281-1602-4314-bb73-75dafebd44e6.MOBGZEUDZWSZHYJM.SEARCH&ppt=hp&ppn=homepage&ssid=t7o3907q280000001694347398905&qH=16e35e1c76bc3b93', 'https://www.flipkart.com/redmi-12c-lavender-purple-64-gb/p/itm3fe4e598a0358?pid=MOBGZEVUSSJ8VGXZ&lid=LSTMOBGZEVUSSJ8VGXZQC5UNR&marketplace=FLIPKART&q=redmi+smartphone&store=tyy%2F4io&srno=s_1_24&otracker=search&otracker1=search&fm=organic&iid=1b46f281-1602-4314-bb73-75dafebd44e6.MOBGZEVUSSJ8VGXZ.SEARCH&ppt=hp&ppn=homepage&ssid=t7o3907q280000001694347398905&qH=16e35e1c76bc3b93']\n"
     ]
    },
    {
     "name": "stdout",
     "output_type": "stream",
     "text": [
      "['https://www.flipkart.com/redmi-12-moonstone-silver-128-gb/p/itme52e778c12701?pid=MOBGRMFK2MGRNG4Q&lid=LSTMOBGRMFK2MGRNG4QFZLVXT&marketplace=FLIPKART&q=redmi+smartphone&store=tyy%2F4io&spotlightTagId=BestsellerId_tyy%2F4io&srno=s_1_1&otracker=search&otracker1=search&fm=Search&iid=1b46f281-1602-4314-bb73-75dafebd44e6.MOBGRMFK2MGRNG4Q.SEARCH&ppt=sp&ppn=sp&ssid=t7o3907q280000001694347398905&qH=16e35e1c76bc3b93', 'https://www.flipkart.com/redmi-12-pastel-blue-128-gb/p/itm48719506a7ceb?pid=MOBGRMFKKGYD9ETX&lid=LSTMOBGRMFKKGYD9ETX5KD9VL&marketplace=FLIPKART&q=redmi+smartphone&store=tyy%2F4io&spotlightTagId=BestsellerId_tyy%2F4io&srno=s_1_2&otracker=search&otracker1=search&fm=Search&iid=1b46f281-1602-4314-bb73-75dafebd44e6.MOBGRMFKKGYD9ETX.SEARCH&ppt=sp&ppn=sp&ssid=t7o3907q280000001694347398905&qH=16e35e1c76bc3b93', 'https://www.flipkart.com/redmi-12-jade-black-128-gb/p/itmb7050ec01c09f?pid=MOBGRMFKTHKQSJEG&lid=LSTMOBGRMFKTHKQSJEGQK3FM2&marketplace=FLIPKART&q=redmi+smartphone&store=tyy%2F4io&spotlightTagId=BestsellerId_tyy%2F4io&srno=s_1_3&otracker=search&otracker1=search&fm=organic&iid=1b46f281-1602-4314-bb73-75dafebd44e6.MOBGRMFKTHKQSJEG.SEARCH&ppt=hp&ppn=homepage&ssid=t7o3907q280000001694347398905&qH=16e35e1c76bc3b93', 'https://www.flipkart.com/redmi-11-prime-peppy-purple-128-gb/p/itm52d6b0fe396e9?pid=MOBGZHFGUHYSHQYM&lid=LSTMOBGZHFGUHYSHQYMWGOOJ0&marketplace=FLIPKART&q=redmi+smartphone&store=tyy%2F4io&srno=s_1_4&otracker=search&otracker1=search&fm=organic&iid=1b46f281-1602-4314-bb73-75dafebd44e6.MOBGZHFGUHYSHQYM.SEARCH&ppt=hp&ppn=homepage&ssid=t7o3907q280000001694347398905&qH=16e35e1c76bc3b93', 'https://www.flipkart.com/redmi-12-pastel-blue-128-gb/p/itm9b1a6640faccd?pid=MOBGRMFKAHNTZPWE&lid=LSTMOBGRMFKAHNTZPWE1H5IWS&marketplace=FLIPKART&q=redmi+smartphone&store=tyy%2F4io&srno=s_1_5&otracker=search&otracker1=search&fm=organic&iid=1b46f281-1602-4314-bb73-75dafebd44e6.MOBGRMFKAHNTZPWE.SEARCH&ppt=hp&ppn=homepage&ssid=t7o3907q280000001694347398905&qH=16e35e1c76bc3b93', 'https://www.flipkart.com/redmi-a1-black-32-gb/p/itm70b00a77a7d1d?pid=MOBGGYBABVXHHRDQ&lid=LSTMOBGGYBABVXHHRDQTMWLXJ&marketplace=FLIPKART&q=redmi+smartphone&store=tyy%2F4io&srno=s_1_6&otracker=search&otracker1=search&fm=organic&iid=1b46f281-1602-4314-bb73-75dafebd44e6.MOBGGYBABVXHHRDQ.SEARCH&ppt=hp&ppn=homepage&ssid=t7o3907q280000001694347398905&qH=16e35e1c76bc3b93', 'https://www.flipkart.com/redmi-a1-light-green-32-gb/p/itmecc9e7ba0a1df?pid=MOBGGYBAHSAJVKHP&lid=LSTMOBGGYBAHSAJVKHP4UBD9A&marketplace=FLIPKART&q=redmi+smartphone&store=tyy%2F4io&srno=s_1_7&otracker=search&otracker1=search&fm=organic&iid=1b46f281-1602-4314-bb73-75dafebd44e6.MOBGGYBAHSAJVKHP.SEARCH&ppt=hp&ppn=homepage&ssid=t7o3907q280000001694347398905&qH=16e35e1c76bc3b93', 'https://www.flipkart.com/redmi-a2-aqua-blue-64-gb/p/itm5d49be2c0a95a?pid=MOBGPVYMG9RWX6XY&lid=LSTMOBGPVYMG9RWX6XYNJOQ2B&marketplace=FLIPKART&q=redmi+smartphone&store=tyy%2F4io&srno=s_1_8&otracker=search&otracker1=search&fm=organic&iid=1b46f281-1602-4314-bb73-75dafebd44e6.MOBGPVYMG9RWX6XY.SEARCH&ppt=hp&ppn=homepage&ssid=t7o3907q280000001694347398905&qH=16e35e1c76bc3b93', 'https://www.flipkart.com/redmi-a2-sea-green-32-gb/p/itm5d49be2c0a95a?pid=MOBGPVYATHJDTSSR&lid=LSTMOBGPVYATHJDTSSR6JMF4X&marketplace=FLIPKART&q=redmi+smartphone&store=tyy%2F4io&srno=s_1_9&otracker=search&otracker1=search&fm=organic&iid=1b46f281-1602-4314-bb73-75dafebd44e6.MOBGPVYATHJDTSSR.SEARCH&ppt=hp&ppn=homepage&ssid=t7o3907q280000001694347398905&qH=16e35e1c76bc3b93', 'https://www.flipkart.com/redmi-a2-aqua-blue-64-gb/p/itm5d49be2c0a95a?pid=MOBGR4UZWNAYKSUH&lid=LSTMOBGR4UZWNAYKSUHUXU5WM&marketplace=FLIPKART&q=redmi+smartphone&store=tyy%2F4io&srno=s_1_10&otracker=search&otracker1=search&fm=organic&iid=1b46f281-1602-4314-bb73-75dafebd44e6.MOBGR4UZWNAYKSUH.SEARCH&ppt=hp&ppn=homepage&ssid=t7o3907q280000001694347398905&qH=16e35e1c76bc3b93', 'https://www.flipkart.com/redmi-a2-classic-black-64-gb/p/itm5d49be2c0a95a?pid=MOBGPVYHRXZ3PFZU&lid=LSTMOBGPVYHRXZ3PFZU0QHLLF&marketplace=FLIPKART&q=redmi+smartphone&store=tyy%2F4io&srno=s_1_11&otracker=search&otracker1=search&fm=organic&iid=1b46f281-1602-4314-bb73-75dafebd44e6.MOBGPVYHRXZ3PFZU.SEARCH&ppt=hp&ppn=homepage&ssid=t7o3907q280000001694347398905&qH=16e35e1c76bc3b93', 'https://www.flipkart.com/redmi-9a-sport-coral-green-32-gb/p/itm53bc6ebfe147b?pid=MOBGHDXFKYSE5TPK&lid=LSTMOBGHDXFKYSE5TPKGHQ4XF&marketplace=FLIPKART&q=redmi+smartphone&store=tyy%2F4io&srno=s_1_12&otracker=search&otracker1=search&fm=organic&iid=1b46f281-1602-4314-bb73-75dafebd44e6.MOBGHDXFKYSE5TPK.SEARCH&ppt=hp&ppn=homepage&ssid=t7o3907q280000001694347398905&qH=16e35e1c76bc3b93', 'https://www.flipkart.com/redmi-6a-blue-16-gb/p/itm1ed294a755383?pid=MOBF9Z2Z3YDBSF6V&lid=LSTMOBF9Z2Z3YDBSF6VX16ZOH&marketplace=FLIPKART&q=redmi+smartphone&store=tyy%2F4io&srno=s_1_13&otracker=search&otracker1=search&fm=organic&iid=1b46f281-1602-4314-bb73-75dafebd44e6.MOBF9Z2Z3YDBSF6V.SEARCH&ppt=hp&ppn=homepage&ssid=t7o3907q280000001694347398905&qH=16e35e1c76bc3b93', 'https://www.flipkart.com/redmi-a2-aqua-blue-32-gb/p/itm5d49be2c0a95a?pid=MOBGPUZR8GHCE5ZQ&lid=LSTMOBGPUZR8GHCE5ZQ1P4DF9&marketplace=FLIPKART&q=redmi+smartphone&store=tyy%2F4io&srno=s_1_14&otracker=search&otracker1=search&fm=organic&iid=1b46f281-1602-4314-bb73-75dafebd44e6.MOBGPUZR8GHCE5ZQ.SEARCH&ppt=hp&ppn=homepage&ssid=t7o3907q280000001694347398905&qH=16e35e1c76bc3b93', 'https://www.flipkart.com/redmi-11-prime-playful-green-128-gb/p/itm0b080e6994972?pid=MOBGZHFGZQMESCDK&lid=LSTMOBGZHFGZQMESCDKZ6ILTE&marketplace=FLIPKART&q=redmi+smartphone&store=tyy%2F4io&srno=s_1_15&otracker=search&otracker1=search&fm=organic&iid=1b46f281-1602-4314-bb73-75dafebd44e6.MOBGZHFGZQMESCDK.SEARCH&ppt=hp&ppn=homepage&ssid=t7o3907q280000001694347398905&qH=16e35e1c76bc3b93', 'https://www.flipkart.com/redmi-a2-sea-green-64-gb/p/itm5d49be2c0a95a?pid=MOBGPVYEHMPGNCBZ&lid=LSTMOBGPVYEHMPGNCBZHUKI4Z&marketplace=FLIPKART&q=redmi+smartphone&store=tyy%2F4io&srno=s_1_16&otracker=search&otracker1=search&fm=organic&iid=1b46f281-1602-4314-bb73-75dafebd44e6.MOBGPVYEHMPGNCBZ.SEARCH&ppt=hp&ppn=homepage&ssid=t7o3907q280000001694347398905&qH=16e35e1c76bc3b93', 'https://www.flipkart.com/redmi-a2-classic-black-64-gb/p/itm5d49be2c0a95a?pid=MOBGRHB6XAEUADQB&lid=LSTMOBGRHB6XAEUADQBAI4AJ4&marketplace=FLIPKART&q=redmi+smartphone&store=tyy%2F4io&srno=s_1_17&otracker=search&otracker1=search&fm=organic&iid=1b46f281-1602-4314-bb73-75dafebd44e6.MOBGRHB6XAEUADQB.SEARCH&ppt=hp&ppn=homepage&ssid=t7o3907q280000001694347398905&qH=16e35e1c76bc3b93', 'https://www.flipkart.com/redmi-a2-sea-green-64-gb/p/itm5d49be2c0a95a?pid=MOBGRHB7GUUZG3QH&lid=LSTMOBGRHB7GUUZG3QHWXCHRR&marketplace=FLIPKART&q=redmi+smartphone&store=tyy%2F4io&srno=s_1_18&otracker=search&otracker1=search&fm=organic&iid=1b46f281-1602-4314-bb73-75dafebd44e6.MOBGRHB7GUUZG3QH.SEARCH&ppt=hp&ppn=homepage&ssid=t7o3907q280000001694347398905&qH=16e35e1c76bc3b93', 'https://www.flipkart.com/redmi-note-12-ice-blue-64-gb/p/itmee415766dfc1a?pid=MOBGNYHZYZ4CNTCM&lid=LSTMOBGNYHZYZ4CNTCMVONB0S&marketplace=FLIPKART&q=redmi+smartphone&store=tyy%2F4io&srno=s_1_19&otracker=search&otracker1=search&fm=organic&iid=1b46f281-1602-4314-bb73-75dafebd44e6.MOBGNYHZYZ4CNTCM.SEARCH&ppt=hp&ppn=homepage&ssid=t7o3907q280000001694347398905&qH=16e35e1c76bc3b93', 'https://www.flipkart.com/redmi-12-5g-jade-black-128-gb/p/itm0c8ba13f6fc5b?pid=MOBGS9QU7QVWUWRD&lid=LSTMOBGS9QU7QVWUWRDCTGYQ5&marketplace=FLIPKART&q=redmi+smartphone&store=tyy%2F4io&srno=s_1_20&otracker=search&otracker1=search&fm=organic&iid=1b46f281-1602-4314-bb73-75dafebd44e6.MOBGS9QU7QVWUWRD.SEARCH&ppt=hp&ppn=homepage&ssid=t7o3907q280000001694347398905&qH=16e35e1c76bc3b93', 'https://www.flipkart.com/redmi-note-12-sunrise-gold-64-gb/p/itm5d170187bcbf0?pid=MOBGNYHZ7ZGHES2V&lid=LSTMOBGNYHZ7ZGHES2VQILAET&marketplace=FLIPKART&q=redmi+smartphone&store=tyy%2F4io&srno=s_1_21&otracker=search&otracker1=search&fm=organic&iid=1b46f281-1602-4314-bb73-75dafebd44e6.MOBGNYHZ7ZGHES2V.SEARCH&ppt=hp&ppn=homepage&ssid=t7o3907q280000001694347398905&qH=16e35e1c76bc3b93', 'https://www.flipkart.com/redmi-12c-lavender-purple-128-gb/p/itm3fe4e598a0358?pid=MOBGZEU9TYHQ8RGE&lid=LSTMOBGZEU9TYHQ8RGEJXEEKD&marketplace=FLIPKART&q=redmi+smartphone&store=tyy%2F4io&srno=s_1_22&otracker=search&otracker1=search&fm=organic&iid=1b46f281-1602-4314-bb73-75dafebd44e6.MOBGZEU9TYHQ8RGE.SEARCH&ppt=hp&ppn=homepage&ssid=t7o3907q280000001694347398905&qH=16e35e1c76bc3b93', 'https://www.flipkart.com/redmi-12c-mint-green-128-gb/p/itm3fe4e598a0358?pid=MOBGZEUDZWSZHYJM&lid=LSTMOBGZEUDZWSZHYJMPU2O1S&marketplace=FLIPKART&q=redmi+smartphone&store=tyy%2F4io&srno=s_1_23&otracker=search&otracker1=search&fm=organic&iid=1b46f281-1602-4314-bb73-75dafebd44e6.MOBGZEUDZWSZHYJM.SEARCH&ppt=hp&ppn=homepage&ssid=t7o3907q280000001694347398905&qH=16e35e1c76bc3b93', 'https://www.flipkart.com/redmi-12c-lavender-purple-64-gb/p/itm3fe4e598a0358?pid=MOBGZEVUSSJ8VGXZ&lid=LSTMOBGZEVUSSJ8VGXZQC5UNR&marketplace=FLIPKART&q=redmi+smartphone&store=tyy%2F4io&srno=s_1_24&otracker=search&otracker1=search&fm=organic&iid=1b46f281-1602-4314-bb73-75dafebd44e6.MOBGZEVUSSJ8VGXZ.SEARCH&ppt=hp&ppn=homepage&ssid=t7o3907q280000001694347398905&qH=16e35e1c76bc3b93']\n",
      "['https://www.flipkart.com/redmi-12-moonstone-silver-128-gb/p/itme52e778c12701?pid=MOBGRMFK2MGRNG4Q&lid=LSTMOBGRMFK2MGRNG4QFZLVXT&marketplace=FLIPKART&q=redmi+smartphone&store=tyy%2F4io&spotlightTagId=BestsellerId_tyy%2F4io&srno=s_1_1&otracker=search&otracker1=search&fm=Search&iid=1b46f281-1602-4314-bb73-75dafebd44e6.MOBGRMFK2MGRNG4Q.SEARCH&ppt=sp&ppn=sp&ssid=t7o3907q280000001694347398905&qH=16e35e1c76bc3b93', 'https://www.flipkart.com/redmi-12-pastel-blue-128-gb/p/itm48719506a7ceb?pid=MOBGRMFKKGYD9ETX&lid=LSTMOBGRMFKKGYD9ETX5KD9VL&marketplace=FLIPKART&q=redmi+smartphone&store=tyy%2F4io&spotlightTagId=BestsellerId_tyy%2F4io&srno=s_1_2&otracker=search&otracker1=search&fm=Search&iid=1b46f281-1602-4314-bb73-75dafebd44e6.MOBGRMFKKGYD9ETX.SEARCH&ppt=sp&ppn=sp&ssid=t7o3907q280000001694347398905&qH=16e35e1c76bc3b93', 'https://www.flipkart.com/redmi-12-jade-black-128-gb/p/itmb7050ec01c09f?pid=MOBGRMFKTHKQSJEG&lid=LSTMOBGRMFKTHKQSJEGQK3FM2&marketplace=FLIPKART&q=redmi+smartphone&store=tyy%2F4io&spotlightTagId=BestsellerId_tyy%2F4io&srno=s_1_3&otracker=search&otracker1=search&fm=organic&iid=1b46f281-1602-4314-bb73-75dafebd44e6.MOBGRMFKTHKQSJEG.SEARCH&ppt=hp&ppn=homepage&ssid=t7o3907q280000001694347398905&qH=16e35e1c76bc3b93', 'https://www.flipkart.com/redmi-11-prime-peppy-purple-128-gb/p/itm52d6b0fe396e9?pid=MOBGZHFGUHYSHQYM&lid=LSTMOBGZHFGUHYSHQYMWGOOJ0&marketplace=FLIPKART&q=redmi+smartphone&store=tyy%2F4io&srno=s_1_4&otracker=search&otracker1=search&fm=organic&iid=1b46f281-1602-4314-bb73-75dafebd44e6.MOBGZHFGUHYSHQYM.SEARCH&ppt=hp&ppn=homepage&ssid=t7o3907q280000001694347398905&qH=16e35e1c76bc3b93', 'https://www.flipkart.com/redmi-12-pastel-blue-128-gb/p/itm9b1a6640faccd?pid=MOBGRMFKAHNTZPWE&lid=LSTMOBGRMFKAHNTZPWE1H5IWS&marketplace=FLIPKART&q=redmi+smartphone&store=tyy%2F4io&srno=s_1_5&otracker=search&otracker1=search&fm=organic&iid=1b46f281-1602-4314-bb73-75dafebd44e6.MOBGRMFKAHNTZPWE.SEARCH&ppt=hp&ppn=homepage&ssid=t7o3907q280000001694347398905&qH=16e35e1c76bc3b93', 'https://www.flipkart.com/redmi-a1-black-32-gb/p/itm70b00a77a7d1d?pid=MOBGGYBABVXHHRDQ&lid=LSTMOBGGYBABVXHHRDQTMWLXJ&marketplace=FLIPKART&q=redmi+smartphone&store=tyy%2F4io&srno=s_1_6&otracker=search&otracker1=search&fm=organic&iid=1b46f281-1602-4314-bb73-75dafebd44e6.MOBGGYBABVXHHRDQ.SEARCH&ppt=hp&ppn=homepage&ssid=t7o3907q280000001694347398905&qH=16e35e1c76bc3b93', 'https://www.flipkart.com/redmi-a1-light-green-32-gb/p/itmecc9e7ba0a1df?pid=MOBGGYBAHSAJVKHP&lid=LSTMOBGGYBAHSAJVKHP4UBD9A&marketplace=FLIPKART&q=redmi+smartphone&store=tyy%2F4io&srno=s_1_7&otracker=search&otracker1=search&fm=organic&iid=1b46f281-1602-4314-bb73-75dafebd44e6.MOBGGYBAHSAJVKHP.SEARCH&ppt=hp&ppn=homepage&ssid=t7o3907q280000001694347398905&qH=16e35e1c76bc3b93', 'https://www.flipkart.com/redmi-a2-aqua-blue-64-gb/p/itm5d49be2c0a95a?pid=MOBGPVYMG9RWX6XY&lid=LSTMOBGPVYMG9RWX6XYNJOQ2B&marketplace=FLIPKART&q=redmi+smartphone&store=tyy%2F4io&srno=s_1_8&otracker=search&otracker1=search&fm=organic&iid=1b46f281-1602-4314-bb73-75dafebd44e6.MOBGPVYMG9RWX6XY.SEARCH&ppt=hp&ppn=homepage&ssid=t7o3907q280000001694347398905&qH=16e35e1c76bc3b93', 'https://www.flipkart.com/redmi-a2-sea-green-32-gb/p/itm5d49be2c0a95a?pid=MOBGPVYATHJDTSSR&lid=LSTMOBGPVYATHJDTSSR6JMF4X&marketplace=FLIPKART&q=redmi+smartphone&store=tyy%2F4io&srno=s_1_9&otracker=search&otracker1=search&fm=organic&iid=1b46f281-1602-4314-bb73-75dafebd44e6.MOBGPVYATHJDTSSR.SEARCH&ppt=hp&ppn=homepage&ssid=t7o3907q280000001694347398905&qH=16e35e1c76bc3b93', 'https://www.flipkart.com/redmi-a2-aqua-blue-64-gb/p/itm5d49be2c0a95a?pid=MOBGR4UZWNAYKSUH&lid=LSTMOBGR4UZWNAYKSUHUXU5WM&marketplace=FLIPKART&q=redmi+smartphone&store=tyy%2F4io&srno=s_1_10&otracker=search&otracker1=search&fm=organic&iid=1b46f281-1602-4314-bb73-75dafebd44e6.MOBGR4UZWNAYKSUH.SEARCH&ppt=hp&ppn=homepage&ssid=t7o3907q280000001694347398905&qH=16e35e1c76bc3b93', 'https://www.flipkart.com/redmi-a2-classic-black-64-gb/p/itm5d49be2c0a95a?pid=MOBGPVYHRXZ3PFZU&lid=LSTMOBGPVYHRXZ3PFZU0QHLLF&marketplace=FLIPKART&q=redmi+smartphone&store=tyy%2F4io&srno=s_1_11&otracker=search&otracker1=search&fm=organic&iid=1b46f281-1602-4314-bb73-75dafebd44e6.MOBGPVYHRXZ3PFZU.SEARCH&ppt=hp&ppn=homepage&ssid=t7o3907q280000001694347398905&qH=16e35e1c76bc3b93', 'https://www.flipkart.com/redmi-9a-sport-coral-green-32-gb/p/itm53bc6ebfe147b?pid=MOBGHDXFKYSE5TPK&lid=LSTMOBGHDXFKYSE5TPKGHQ4XF&marketplace=FLIPKART&q=redmi+smartphone&store=tyy%2F4io&srno=s_1_12&otracker=search&otracker1=search&fm=organic&iid=1b46f281-1602-4314-bb73-75dafebd44e6.MOBGHDXFKYSE5TPK.SEARCH&ppt=hp&ppn=homepage&ssid=t7o3907q280000001694347398905&qH=16e35e1c76bc3b93', 'https://www.flipkart.com/redmi-6a-blue-16-gb/p/itm1ed294a755383?pid=MOBF9Z2Z3YDBSF6V&lid=LSTMOBF9Z2Z3YDBSF6VX16ZOH&marketplace=FLIPKART&q=redmi+smartphone&store=tyy%2F4io&srno=s_1_13&otracker=search&otracker1=search&fm=organic&iid=1b46f281-1602-4314-bb73-75dafebd44e6.MOBF9Z2Z3YDBSF6V.SEARCH&ppt=hp&ppn=homepage&ssid=t7o3907q280000001694347398905&qH=16e35e1c76bc3b93', 'https://www.flipkart.com/redmi-a2-aqua-blue-32-gb/p/itm5d49be2c0a95a?pid=MOBGPUZR8GHCE5ZQ&lid=LSTMOBGPUZR8GHCE5ZQ1P4DF9&marketplace=FLIPKART&q=redmi+smartphone&store=tyy%2F4io&srno=s_1_14&otracker=search&otracker1=search&fm=organic&iid=1b46f281-1602-4314-bb73-75dafebd44e6.MOBGPUZR8GHCE5ZQ.SEARCH&ppt=hp&ppn=homepage&ssid=t7o3907q280000001694347398905&qH=16e35e1c76bc3b93', 'https://www.flipkart.com/redmi-11-prime-playful-green-128-gb/p/itm0b080e6994972?pid=MOBGZHFGZQMESCDK&lid=LSTMOBGZHFGZQMESCDKZ6ILTE&marketplace=FLIPKART&q=redmi+smartphone&store=tyy%2F4io&srno=s_1_15&otracker=search&otracker1=search&fm=organic&iid=1b46f281-1602-4314-bb73-75dafebd44e6.MOBGZHFGZQMESCDK.SEARCH&ppt=hp&ppn=homepage&ssid=t7o3907q280000001694347398905&qH=16e35e1c76bc3b93', 'https://www.flipkart.com/redmi-a2-sea-green-64-gb/p/itm5d49be2c0a95a?pid=MOBGPVYEHMPGNCBZ&lid=LSTMOBGPVYEHMPGNCBZHUKI4Z&marketplace=FLIPKART&q=redmi+smartphone&store=tyy%2F4io&srno=s_1_16&otracker=search&otracker1=search&fm=organic&iid=1b46f281-1602-4314-bb73-75dafebd44e6.MOBGPVYEHMPGNCBZ.SEARCH&ppt=hp&ppn=homepage&ssid=t7o3907q280000001694347398905&qH=16e35e1c76bc3b93', 'https://www.flipkart.com/redmi-a2-classic-black-64-gb/p/itm5d49be2c0a95a?pid=MOBGRHB6XAEUADQB&lid=LSTMOBGRHB6XAEUADQBAI4AJ4&marketplace=FLIPKART&q=redmi+smartphone&store=tyy%2F4io&srno=s_1_17&otracker=search&otracker1=search&fm=organic&iid=1b46f281-1602-4314-bb73-75dafebd44e6.MOBGRHB6XAEUADQB.SEARCH&ppt=hp&ppn=homepage&ssid=t7o3907q280000001694347398905&qH=16e35e1c76bc3b93', 'https://www.flipkart.com/redmi-a2-sea-green-64-gb/p/itm5d49be2c0a95a?pid=MOBGRHB7GUUZG3QH&lid=LSTMOBGRHB7GUUZG3QHWXCHRR&marketplace=FLIPKART&q=redmi+smartphone&store=tyy%2F4io&srno=s_1_18&otracker=search&otracker1=search&fm=organic&iid=1b46f281-1602-4314-bb73-75dafebd44e6.MOBGRHB7GUUZG3QH.SEARCH&ppt=hp&ppn=homepage&ssid=t7o3907q280000001694347398905&qH=16e35e1c76bc3b93', 'https://www.flipkart.com/redmi-note-12-ice-blue-64-gb/p/itmee415766dfc1a?pid=MOBGNYHZYZ4CNTCM&lid=LSTMOBGNYHZYZ4CNTCMVONB0S&marketplace=FLIPKART&q=redmi+smartphone&store=tyy%2F4io&srno=s_1_19&otracker=search&otracker1=search&fm=organic&iid=1b46f281-1602-4314-bb73-75dafebd44e6.MOBGNYHZYZ4CNTCM.SEARCH&ppt=hp&ppn=homepage&ssid=t7o3907q280000001694347398905&qH=16e35e1c76bc3b93', 'https://www.flipkart.com/redmi-12-5g-jade-black-128-gb/p/itm0c8ba13f6fc5b?pid=MOBGS9QU7QVWUWRD&lid=LSTMOBGS9QU7QVWUWRDCTGYQ5&marketplace=FLIPKART&q=redmi+smartphone&store=tyy%2F4io&srno=s_1_20&otracker=search&otracker1=search&fm=organic&iid=1b46f281-1602-4314-bb73-75dafebd44e6.MOBGS9QU7QVWUWRD.SEARCH&ppt=hp&ppn=homepage&ssid=t7o3907q280000001694347398905&qH=16e35e1c76bc3b93', 'https://www.flipkart.com/redmi-note-12-sunrise-gold-64-gb/p/itm5d170187bcbf0?pid=MOBGNYHZ7ZGHES2V&lid=LSTMOBGNYHZ7ZGHES2VQILAET&marketplace=FLIPKART&q=redmi+smartphone&store=tyy%2F4io&srno=s_1_21&otracker=search&otracker1=search&fm=organic&iid=1b46f281-1602-4314-bb73-75dafebd44e6.MOBGNYHZ7ZGHES2V.SEARCH&ppt=hp&ppn=homepage&ssid=t7o3907q280000001694347398905&qH=16e35e1c76bc3b93', 'https://www.flipkart.com/redmi-12c-lavender-purple-128-gb/p/itm3fe4e598a0358?pid=MOBGZEU9TYHQ8RGE&lid=LSTMOBGZEU9TYHQ8RGEJXEEKD&marketplace=FLIPKART&q=redmi+smartphone&store=tyy%2F4io&srno=s_1_22&otracker=search&otracker1=search&fm=organic&iid=1b46f281-1602-4314-bb73-75dafebd44e6.MOBGZEU9TYHQ8RGE.SEARCH&ppt=hp&ppn=homepage&ssid=t7o3907q280000001694347398905&qH=16e35e1c76bc3b93', 'https://www.flipkart.com/redmi-12c-mint-green-128-gb/p/itm3fe4e598a0358?pid=MOBGZEUDZWSZHYJM&lid=LSTMOBGZEUDZWSZHYJMPU2O1S&marketplace=FLIPKART&q=redmi+smartphone&store=tyy%2F4io&srno=s_1_23&otracker=search&otracker1=search&fm=organic&iid=1b46f281-1602-4314-bb73-75dafebd44e6.MOBGZEUDZWSZHYJM.SEARCH&ppt=hp&ppn=homepage&ssid=t7o3907q280000001694347398905&qH=16e35e1c76bc3b93', 'https://www.flipkart.com/redmi-12c-lavender-purple-64-gb/p/itm3fe4e598a0358?pid=MOBGZEVUSSJ8VGXZ&lid=LSTMOBGZEVUSSJ8VGXZQC5UNR&marketplace=FLIPKART&q=redmi+smartphone&store=tyy%2F4io&srno=s_1_24&otracker=search&otracker1=search&fm=organic&iid=1b46f281-1602-4314-bb73-75dafebd44e6.MOBGZEVUSSJ8VGXZ.SEARCH&ppt=hp&ppn=homepage&ssid=t7o3907q280000001694347398905&qH=16e35e1c76bc3b93']\n"
     ]
    }
   ],
   "source": [
    "#scraping urls\n",
    "info1=driver.find_elements(By.XPATH, '//div[@class=\"fMghEO\"]')\n",
    "for i in info1:\n",
    "    url=[i.get_attribute('href') for i in driver.find_elements(By.XPATH, '//a[@class=\"_1fQZEK\"]')]\n",
    "    print(url)"
   ]
  },
  {
   "cell_type": "code",
   "execution_count": 51,
   "id": "0a18ae63",
   "metadata": {},
   "outputs": [
    {
     "data": {
      "text/plain": [
       "['Moonstone Silver',\n",
       " 'Pastel Blue',\n",
       " 'Jade Black',\n",
       " 'Peppy Purple',\n",
       " 'Pastel Blue',\n",
       " 'Black',\n",
       " 'Light Green',\n",
       " 'Aqua Blue',\n",
       " 'Sea Green',\n",
       " 'Aqua Blue',\n",
       " 'Classic Black',\n",
       " 'Coral Green',\n",
       " 'Blue',\n",
       " 'Aqua Blue',\n",
       " 'Playful Green',\n",
       " 'Sea Green',\n",
       " 'Classic Black',\n",
       " 'Sea Green',\n",
       " 'Ice Blue',\n",
       " 'Jade Black',\n",
       " 'Sunrise Gold',\n",
       " '?Lavender Purple',\n",
       " 'Mint Green',\n",
       " 'Lavender Purple']"
      ]
     },
     "execution_count": 51,
     "metadata": {},
     "output_type": "execute_result"
    }
   ],
   "source": [
    "#scraping phone colour\n",
    "color_name=[i.text.split('(')[1].split(',')[0] for i in driver.find_elements(By.XPATH, '//div[@class=\"_4rR01T\"]')]\n",
    "color_name"
   ]
  },
  {
   "cell_type": "code",
   "execution_count": 52,
   "id": "4c5f05a9",
   "metadata": {},
   "outputs": [
    {
     "data": {
      "text/plain": [
       "24"
      ]
     },
     "execution_count": 52,
     "metadata": {},
     "output_type": "execute_result"
    }
   ],
   "source": [
    "len(color_name)"
   ]
  },
  {
   "cell_type": "code",
   "execution_count": 53,
   "id": "fbb28bff",
   "metadata": {},
   "outputs": [
    {
     "name": "stdout",
     "output_type": "stream",
     "text": [
      "['4', '4', '6', '6', '6', '2', '2', '4', '2', '2', '4', '3', '2', '2', '6', '4', '2', '2', '6', '4', '6', '6', '6', '4']\n"
     ]
    }
   ],
   "source": [
    "#scraping ram\n",
    "info1=soup.find_all('div', class_=\"fMghEO\")\n",
    "RAM=[i.text.split('|')[0].split(\" \")[0] for i in soup.find_all('div', class_=\"fMghEO\")]\n",
    "print(RAM)"
   ]
  },
  {
   "cell_type": "code",
   "execution_count": 54,
   "id": "901058b6",
   "metadata": {},
   "outputs": [
    {
     "name": "stdout",
     "output_type": "stream",
     "text": [
      "24\n"
     ]
    }
   ],
   "source": [
    "#scraping rom\n",
    "info1=soup.find_all('div', class_=\"fMghEO\")\n",
    "for i in info1:\n",
    "    ROM=[i.text.split('GB')[1].split('|')[1] for i in soup.find_all('div', class_=\"fMghEO\")]\n",
    "print(len(ROM))"
   ]
  },
  {
   "cell_type": "code",
   "execution_count": 55,
   "id": "5f0dd626",
   "metadata": {},
   "outputs": [
    {
     "name": "stdout",
     "output_type": "stream",
     "text": [
      "[' 128 ', ' 128 ', ' 128 ', ' 128 ', ' 128 ', ' 32 ', ' 32 ', ' 64 ', ' 32 ', ' 64 ', ' 64 ', ' 32 ', ' 16 ', ' 32 ', ' 128 ', ' 64 ', ' 64 ', ' 64 ', ' 64 ', ' 128 ', ' 64 ', ' 128 ', ' 128 ', ' 64 ']\n"
     ]
    }
   ],
   "source": [
    "print(ROM)"
   ]
  },
  {
   "cell_type": "code",
   "execution_count": 56,
   "id": "a848bab5",
   "metadata": {},
   "outputs": [
    {
     "name": "stdout",
     "output_type": "stream",
     "text": [
      "['https://www.flipkart.com/redmi-12-moonstone-silver-128-gb/p/itme52e778c12701?pid=MOBGRMFK2MGRNG4Q&lid=LSTMOBGRMFK2MGRNG4QFZLVXT&marketplace=FLIPKART&q=redmi+smartphone&store=tyy%2F4io&spotlightTagId=BestsellerId_tyy%2F4io&srno=s_1_1&otracker=search&otracker1=search&fm=Search&iid=1b46f281-1602-4314-bb73-75dafebd44e6.MOBGRMFK2MGRNG4Q.SEARCH&ppt=sp&ppn=sp&ssid=t7o3907q280000001694347398905&qH=16e35e1c76bc3b93', 'https://www.flipkart.com/redmi-12-pastel-blue-128-gb/p/itm48719506a7ceb?pid=MOBGRMFKKGYD9ETX&lid=LSTMOBGRMFKKGYD9ETX5KD9VL&marketplace=FLIPKART&q=redmi+smartphone&store=tyy%2F4io&spotlightTagId=BestsellerId_tyy%2F4io&srno=s_1_2&otracker=search&otracker1=search&fm=Search&iid=1b46f281-1602-4314-bb73-75dafebd44e6.MOBGRMFKKGYD9ETX.SEARCH&ppt=sp&ppn=sp&ssid=t7o3907q280000001694347398905&qH=16e35e1c76bc3b93', 'https://www.flipkart.com/redmi-12-jade-black-128-gb/p/itmb7050ec01c09f?pid=MOBGRMFKTHKQSJEG&lid=LSTMOBGRMFKTHKQSJEGQK3FM2&marketplace=FLIPKART&q=redmi+smartphone&store=tyy%2F4io&spotlightTagId=BestsellerId_tyy%2F4io&srno=s_1_3&otracker=search&otracker1=search&fm=organic&iid=1b46f281-1602-4314-bb73-75dafebd44e6.MOBGRMFKTHKQSJEG.SEARCH&ppt=hp&ppn=homepage&ssid=t7o3907q280000001694347398905&qH=16e35e1c76bc3b93', 'https://www.flipkart.com/redmi-11-prime-peppy-purple-128-gb/p/itm52d6b0fe396e9?pid=MOBGZHFGUHYSHQYM&lid=LSTMOBGZHFGUHYSHQYMWGOOJ0&marketplace=FLIPKART&q=redmi+smartphone&store=tyy%2F4io&srno=s_1_4&otracker=search&otracker1=search&fm=organic&iid=1b46f281-1602-4314-bb73-75dafebd44e6.MOBGZHFGUHYSHQYM.SEARCH&ppt=hp&ppn=homepage&ssid=t7o3907q280000001694347398905&qH=16e35e1c76bc3b93', 'https://www.flipkart.com/redmi-12-pastel-blue-128-gb/p/itm9b1a6640faccd?pid=MOBGRMFKAHNTZPWE&lid=LSTMOBGRMFKAHNTZPWE1H5IWS&marketplace=FLIPKART&q=redmi+smartphone&store=tyy%2F4io&srno=s_1_5&otracker=search&otracker1=search&fm=organic&iid=1b46f281-1602-4314-bb73-75dafebd44e6.MOBGRMFKAHNTZPWE.SEARCH&ppt=hp&ppn=homepage&ssid=t7o3907q280000001694347398905&qH=16e35e1c76bc3b93', 'https://www.flipkart.com/redmi-a1-black-32-gb/p/itm70b00a77a7d1d?pid=MOBGGYBABVXHHRDQ&lid=LSTMOBGGYBABVXHHRDQTMWLXJ&marketplace=FLIPKART&q=redmi+smartphone&store=tyy%2F4io&srno=s_1_6&otracker=search&otracker1=search&fm=organic&iid=1b46f281-1602-4314-bb73-75dafebd44e6.MOBGGYBABVXHHRDQ.SEARCH&ppt=hp&ppn=homepage&ssid=t7o3907q280000001694347398905&qH=16e35e1c76bc3b93', 'https://www.flipkart.com/redmi-a1-light-green-32-gb/p/itmecc9e7ba0a1df?pid=MOBGGYBAHSAJVKHP&lid=LSTMOBGGYBAHSAJVKHP4UBD9A&marketplace=FLIPKART&q=redmi+smartphone&store=tyy%2F4io&srno=s_1_7&otracker=search&otracker1=search&fm=organic&iid=1b46f281-1602-4314-bb73-75dafebd44e6.MOBGGYBAHSAJVKHP.SEARCH&ppt=hp&ppn=homepage&ssid=t7o3907q280000001694347398905&qH=16e35e1c76bc3b93', 'https://www.flipkart.com/redmi-a2-aqua-blue-64-gb/p/itm5d49be2c0a95a?pid=MOBGPVYMG9RWX6XY&lid=LSTMOBGPVYMG9RWX6XYNJOQ2B&marketplace=FLIPKART&q=redmi+smartphone&store=tyy%2F4io&srno=s_1_8&otracker=search&otracker1=search&fm=organic&iid=1b46f281-1602-4314-bb73-75dafebd44e6.MOBGPVYMG9RWX6XY.SEARCH&ppt=hp&ppn=homepage&ssid=t7o3907q280000001694347398905&qH=16e35e1c76bc3b93', 'https://www.flipkart.com/redmi-a2-sea-green-32-gb/p/itm5d49be2c0a95a?pid=MOBGPVYATHJDTSSR&lid=LSTMOBGPVYATHJDTSSR6JMF4X&marketplace=FLIPKART&q=redmi+smartphone&store=tyy%2F4io&srno=s_1_9&otracker=search&otracker1=search&fm=organic&iid=1b46f281-1602-4314-bb73-75dafebd44e6.MOBGPVYATHJDTSSR.SEARCH&ppt=hp&ppn=homepage&ssid=t7o3907q280000001694347398905&qH=16e35e1c76bc3b93', 'https://www.flipkart.com/redmi-a2-aqua-blue-64-gb/p/itm5d49be2c0a95a?pid=MOBGR4UZWNAYKSUH&lid=LSTMOBGR4UZWNAYKSUHUXU5WM&marketplace=FLIPKART&q=redmi+smartphone&store=tyy%2F4io&srno=s_1_10&otracker=search&otracker1=search&fm=organic&iid=1b46f281-1602-4314-bb73-75dafebd44e6.MOBGR4UZWNAYKSUH.SEARCH&ppt=hp&ppn=homepage&ssid=t7o3907q280000001694347398905&qH=16e35e1c76bc3b93', 'https://www.flipkart.com/redmi-a2-classic-black-64-gb/p/itm5d49be2c0a95a?pid=MOBGPVYHRXZ3PFZU&lid=LSTMOBGPVYHRXZ3PFZU0QHLLF&marketplace=FLIPKART&q=redmi+smartphone&store=tyy%2F4io&srno=s_1_11&otracker=search&otracker1=search&fm=organic&iid=1b46f281-1602-4314-bb73-75dafebd44e6.MOBGPVYHRXZ3PFZU.SEARCH&ppt=hp&ppn=homepage&ssid=t7o3907q280000001694347398905&qH=16e35e1c76bc3b93', 'https://www.flipkart.com/redmi-9a-sport-coral-green-32-gb/p/itm53bc6ebfe147b?pid=MOBGHDXFKYSE5TPK&lid=LSTMOBGHDXFKYSE5TPKGHQ4XF&marketplace=FLIPKART&q=redmi+smartphone&store=tyy%2F4io&srno=s_1_12&otracker=search&otracker1=search&fm=organic&iid=1b46f281-1602-4314-bb73-75dafebd44e6.MOBGHDXFKYSE5TPK.SEARCH&ppt=hp&ppn=homepage&ssid=t7o3907q280000001694347398905&qH=16e35e1c76bc3b93', 'https://www.flipkart.com/redmi-6a-blue-16-gb/p/itm1ed294a755383?pid=MOBF9Z2Z3YDBSF6V&lid=LSTMOBF9Z2Z3YDBSF6VX16ZOH&marketplace=FLIPKART&q=redmi+smartphone&store=tyy%2F4io&srno=s_1_13&otracker=search&otracker1=search&fm=organic&iid=1b46f281-1602-4314-bb73-75dafebd44e6.MOBF9Z2Z3YDBSF6V.SEARCH&ppt=hp&ppn=homepage&ssid=t7o3907q280000001694347398905&qH=16e35e1c76bc3b93', 'https://www.flipkart.com/redmi-a2-aqua-blue-32-gb/p/itm5d49be2c0a95a?pid=MOBGPUZR8GHCE5ZQ&lid=LSTMOBGPUZR8GHCE5ZQ1P4DF9&marketplace=FLIPKART&q=redmi+smartphone&store=tyy%2F4io&srno=s_1_14&otracker=search&otracker1=search&fm=organic&iid=1b46f281-1602-4314-bb73-75dafebd44e6.MOBGPUZR8GHCE5ZQ.SEARCH&ppt=hp&ppn=homepage&ssid=t7o3907q280000001694347398905&qH=16e35e1c76bc3b93', 'https://www.flipkart.com/redmi-11-prime-playful-green-128-gb/p/itm0b080e6994972?pid=MOBGZHFGZQMESCDK&lid=LSTMOBGZHFGZQMESCDKZ6ILTE&marketplace=FLIPKART&q=redmi+smartphone&store=tyy%2F4io&srno=s_1_15&otracker=search&otracker1=search&fm=organic&iid=1b46f281-1602-4314-bb73-75dafebd44e6.MOBGZHFGZQMESCDK.SEARCH&ppt=hp&ppn=homepage&ssid=t7o3907q280000001694347398905&qH=16e35e1c76bc3b93', 'https://www.flipkart.com/redmi-a2-sea-green-64-gb/p/itm5d49be2c0a95a?pid=MOBGPVYEHMPGNCBZ&lid=LSTMOBGPVYEHMPGNCBZHUKI4Z&marketplace=FLIPKART&q=redmi+smartphone&store=tyy%2F4io&srno=s_1_16&otracker=search&otracker1=search&fm=organic&iid=1b46f281-1602-4314-bb73-75dafebd44e6.MOBGPVYEHMPGNCBZ.SEARCH&ppt=hp&ppn=homepage&ssid=t7o3907q280000001694347398905&qH=16e35e1c76bc3b93', 'https://www.flipkart.com/redmi-a2-classic-black-64-gb/p/itm5d49be2c0a95a?pid=MOBGRHB6XAEUADQB&lid=LSTMOBGRHB6XAEUADQBAI4AJ4&marketplace=FLIPKART&q=redmi+smartphone&store=tyy%2F4io&srno=s_1_17&otracker=search&otracker1=search&fm=organic&iid=1b46f281-1602-4314-bb73-75dafebd44e6.MOBGRHB6XAEUADQB.SEARCH&ppt=hp&ppn=homepage&ssid=t7o3907q280000001694347398905&qH=16e35e1c76bc3b93', 'https://www.flipkart.com/redmi-a2-sea-green-64-gb/p/itm5d49be2c0a95a?pid=MOBGRHB7GUUZG3QH&lid=LSTMOBGRHB7GUUZG3QHWXCHRR&marketplace=FLIPKART&q=redmi+smartphone&store=tyy%2F4io&srno=s_1_18&otracker=search&otracker1=search&fm=organic&iid=1b46f281-1602-4314-bb73-75dafebd44e6.MOBGRHB7GUUZG3QH.SEARCH&ppt=hp&ppn=homepage&ssid=t7o3907q280000001694347398905&qH=16e35e1c76bc3b93', 'https://www.flipkart.com/redmi-note-12-ice-blue-64-gb/p/itmee415766dfc1a?pid=MOBGNYHZYZ4CNTCM&lid=LSTMOBGNYHZYZ4CNTCMVONB0S&marketplace=FLIPKART&q=redmi+smartphone&store=tyy%2F4io&srno=s_1_19&otracker=search&otracker1=search&fm=organic&iid=1b46f281-1602-4314-bb73-75dafebd44e6.MOBGNYHZYZ4CNTCM.SEARCH&ppt=hp&ppn=homepage&ssid=t7o3907q280000001694347398905&qH=16e35e1c76bc3b93', 'https://www.flipkart.com/redmi-12-5g-jade-black-128-gb/p/itm0c8ba13f6fc5b?pid=MOBGS9QU7QVWUWRD&lid=LSTMOBGS9QU7QVWUWRDCTGYQ5&marketplace=FLIPKART&q=redmi+smartphone&store=tyy%2F4io&srno=s_1_20&otracker=search&otracker1=search&fm=organic&iid=1b46f281-1602-4314-bb73-75dafebd44e6.MOBGS9QU7QVWUWRD.SEARCH&ppt=hp&ppn=homepage&ssid=t7o3907q280000001694347398905&qH=16e35e1c76bc3b93', 'https://www.flipkart.com/redmi-note-12-sunrise-gold-64-gb/p/itm5d170187bcbf0?pid=MOBGNYHZ7ZGHES2V&lid=LSTMOBGNYHZ7ZGHES2VQILAET&marketplace=FLIPKART&q=redmi+smartphone&store=tyy%2F4io&srno=s_1_21&otracker=search&otracker1=search&fm=organic&iid=1b46f281-1602-4314-bb73-75dafebd44e6.MOBGNYHZ7ZGHES2V.SEARCH&ppt=hp&ppn=homepage&ssid=t7o3907q280000001694347398905&qH=16e35e1c76bc3b93', 'https://www.flipkart.com/redmi-12c-lavender-purple-128-gb/p/itm3fe4e598a0358?pid=MOBGZEU9TYHQ8RGE&lid=LSTMOBGZEU9TYHQ8RGEJXEEKD&marketplace=FLIPKART&q=redmi+smartphone&store=tyy%2F4io&srno=s_1_22&otracker=search&otracker1=search&fm=organic&iid=1b46f281-1602-4314-bb73-75dafebd44e6.MOBGZEU9TYHQ8RGE.SEARCH&ppt=hp&ppn=homepage&ssid=t7o3907q280000001694347398905&qH=16e35e1c76bc3b93', 'https://www.flipkart.com/redmi-12c-mint-green-128-gb/p/itm3fe4e598a0358?pid=MOBGZEUDZWSZHYJM&lid=LSTMOBGZEUDZWSZHYJMPU2O1S&marketplace=FLIPKART&q=redmi+smartphone&store=tyy%2F4io&srno=s_1_23&otracker=search&otracker1=search&fm=organic&iid=1b46f281-1602-4314-bb73-75dafebd44e6.MOBGZEUDZWSZHYJM.SEARCH&ppt=hp&ppn=homepage&ssid=t7o3907q280000001694347398905&qH=16e35e1c76bc3b93', 'https://www.flipkart.com/redmi-12c-lavender-purple-64-gb/p/itm3fe4e598a0358?pid=MOBGZEVUSSJ8VGXZ&lid=LSTMOBGZEVUSSJ8VGXZQC5UNR&marketplace=FLIPKART&q=redmi+smartphone&store=tyy%2F4io&srno=s_1_24&otracker=search&otracker1=search&fm=organic&iid=1b46f281-1602-4314-bb73-75dafebd44e6.MOBGZEVUSSJ8VGXZ.SEARCH&ppt=hp&ppn=homepage&ssid=t7o3907q280000001694347398905&qH=16e35e1c76bc3b93']\n",
      "['https://www.flipkart.com/redmi-12-moonstone-silver-128-gb/p/itme52e778c12701?pid=MOBGRMFK2MGRNG4Q&lid=LSTMOBGRMFK2MGRNG4QFZLVXT&marketplace=FLIPKART&q=redmi+smartphone&store=tyy%2F4io&spotlightTagId=BestsellerId_tyy%2F4io&srno=s_1_1&otracker=search&otracker1=search&fm=Search&iid=1b46f281-1602-4314-bb73-75dafebd44e6.MOBGRMFK2MGRNG4Q.SEARCH&ppt=sp&ppn=sp&ssid=t7o3907q280000001694347398905&qH=16e35e1c76bc3b93', 'https://www.flipkart.com/redmi-12-pastel-blue-128-gb/p/itm48719506a7ceb?pid=MOBGRMFKKGYD9ETX&lid=LSTMOBGRMFKKGYD9ETX5KD9VL&marketplace=FLIPKART&q=redmi+smartphone&store=tyy%2F4io&spotlightTagId=BestsellerId_tyy%2F4io&srno=s_1_2&otracker=search&otracker1=search&fm=Search&iid=1b46f281-1602-4314-bb73-75dafebd44e6.MOBGRMFKKGYD9ETX.SEARCH&ppt=sp&ppn=sp&ssid=t7o3907q280000001694347398905&qH=16e35e1c76bc3b93', 'https://www.flipkart.com/redmi-12-jade-black-128-gb/p/itmb7050ec01c09f?pid=MOBGRMFKTHKQSJEG&lid=LSTMOBGRMFKTHKQSJEGQK3FM2&marketplace=FLIPKART&q=redmi+smartphone&store=tyy%2F4io&spotlightTagId=BestsellerId_tyy%2F4io&srno=s_1_3&otracker=search&otracker1=search&fm=organic&iid=1b46f281-1602-4314-bb73-75dafebd44e6.MOBGRMFKTHKQSJEG.SEARCH&ppt=hp&ppn=homepage&ssid=t7o3907q280000001694347398905&qH=16e35e1c76bc3b93', 'https://www.flipkart.com/redmi-11-prime-peppy-purple-128-gb/p/itm52d6b0fe396e9?pid=MOBGZHFGUHYSHQYM&lid=LSTMOBGZHFGUHYSHQYMWGOOJ0&marketplace=FLIPKART&q=redmi+smartphone&store=tyy%2F4io&srno=s_1_4&otracker=search&otracker1=search&fm=organic&iid=1b46f281-1602-4314-bb73-75dafebd44e6.MOBGZHFGUHYSHQYM.SEARCH&ppt=hp&ppn=homepage&ssid=t7o3907q280000001694347398905&qH=16e35e1c76bc3b93', 'https://www.flipkart.com/redmi-12-pastel-blue-128-gb/p/itm9b1a6640faccd?pid=MOBGRMFKAHNTZPWE&lid=LSTMOBGRMFKAHNTZPWE1H5IWS&marketplace=FLIPKART&q=redmi+smartphone&store=tyy%2F4io&srno=s_1_5&otracker=search&otracker1=search&fm=organic&iid=1b46f281-1602-4314-bb73-75dafebd44e6.MOBGRMFKAHNTZPWE.SEARCH&ppt=hp&ppn=homepage&ssid=t7o3907q280000001694347398905&qH=16e35e1c76bc3b93', 'https://www.flipkart.com/redmi-a1-black-32-gb/p/itm70b00a77a7d1d?pid=MOBGGYBABVXHHRDQ&lid=LSTMOBGGYBABVXHHRDQTMWLXJ&marketplace=FLIPKART&q=redmi+smartphone&store=tyy%2F4io&srno=s_1_6&otracker=search&otracker1=search&fm=organic&iid=1b46f281-1602-4314-bb73-75dafebd44e6.MOBGGYBABVXHHRDQ.SEARCH&ppt=hp&ppn=homepage&ssid=t7o3907q280000001694347398905&qH=16e35e1c76bc3b93', 'https://www.flipkart.com/redmi-a1-light-green-32-gb/p/itmecc9e7ba0a1df?pid=MOBGGYBAHSAJVKHP&lid=LSTMOBGGYBAHSAJVKHP4UBD9A&marketplace=FLIPKART&q=redmi+smartphone&store=tyy%2F4io&srno=s_1_7&otracker=search&otracker1=search&fm=organic&iid=1b46f281-1602-4314-bb73-75dafebd44e6.MOBGGYBAHSAJVKHP.SEARCH&ppt=hp&ppn=homepage&ssid=t7o3907q280000001694347398905&qH=16e35e1c76bc3b93', 'https://www.flipkart.com/redmi-a2-aqua-blue-64-gb/p/itm5d49be2c0a95a?pid=MOBGPVYMG9RWX6XY&lid=LSTMOBGPVYMG9RWX6XYNJOQ2B&marketplace=FLIPKART&q=redmi+smartphone&store=tyy%2F4io&srno=s_1_8&otracker=search&otracker1=search&fm=organic&iid=1b46f281-1602-4314-bb73-75dafebd44e6.MOBGPVYMG9RWX6XY.SEARCH&ppt=hp&ppn=homepage&ssid=t7o3907q280000001694347398905&qH=16e35e1c76bc3b93', 'https://www.flipkart.com/redmi-a2-sea-green-32-gb/p/itm5d49be2c0a95a?pid=MOBGPVYATHJDTSSR&lid=LSTMOBGPVYATHJDTSSR6JMF4X&marketplace=FLIPKART&q=redmi+smartphone&store=tyy%2F4io&srno=s_1_9&otracker=search&otracker1=search&fm=organic&iid=1b46f281-1602-4314-bb73-75dafebd44e6.MOBGPVYATHJDTSSR.SEARCH&ppt=hp&ppn=homepage&ssid=t7o3907q280000001694347398905&qH=16e35e1c76bc3b93', 'https://www.flipkart.com/redmi-a2-aqua-blue-64-gb/p/itm5d49be2c0a95a?pid=MOBGR4UZWNAYKSUH&lid=LSTMOBGR4UZWNAYKSUHUXU5WM&marketplace=FLIPKART&q=redmi+smartphone&store=tyy%2F4io&srno=s_1_10&otracker=search&otracker1=search&fm=organic&iid=1b46f281-1602-4314-bb73-75dafebd44e6.MOBGR4UZWNAYKSUH.SEARCH&ppt=hp&ppn=homepage&ssid=t7o3907q280000001694347398905&qH=16e35e1c76bc3b93', 'https://www.flipkart.com/redmi-a2-classic-black-64-gb/p/itm5d49be2c0a95a?pid=MOBGPVYHRXZ3PFZU&lid=LSTMOBGPVYHRXZ3PFZU0QHLLF&marketplace=FLIPKART&q=redmi+smartphone&store=tyy%2F4io&srno=s_1_11&otracker=search&otracker1=search&fm=organic&iid=1b46f281-1602-4314-bb73-75dafebd44e6.MOBGPVYHRXZ3PFZU.SEARCH&ppt=hp&ppn=homepage&ssid=t7o3907q280000001694347398905&qH=16e35e1c76bc3b93', 'https://www.flipkart.com/redmi-9a-sport-coral-green-32-gb/p/itm53bc6ebfe147b?pid=MOBGHDXFKYSE5TPK&lid=LSTMOBGHDXFKYSE5TPKGHQ4XF&marketplace=FLIPKART&q=redmi+smartphone&store=tyy%2F4io&srno=s_1_12&otracker=search&otracker1=search&fm=organic&iid=1b46f281-1602-4314-bb73-75dafebd44e6.MOBGHDXFKYSE5TPK.SEARCH&ppt=hp&ppn=homepage&ssid=t7o3907q280000001694347398905&qH=16e35e1c76bc3b93', 'https://www.flipkart.com/redmi-6a-blue-16-gb/p/itm1ed294a755383?pid=MOBF9Z2Z3YDBSF6V&lid=LSTMOBF9Z2Z3YDBSF6VX16ZOH&marketplace=FLIPKART&q=redmi+smartphone&store=tyy%2F4io&srno=s_1_13&otracker=search&otracker1=search&fm=organic&iid=1b46f281-1602-4314-bb73-75dafebd44e6.MOBF9Z2Z3YDBSF6V.SEARCH&ppt=hp&ppn=homepage&ssid=t7o3907q280000001694347398905&qH=16e35e1c76bc3b93', 'https://www.flipkart.com/redmi-a2-aqua-blue-32-gb/p/itm5d49be2c0a95a?pid=MOBGPUZR8GHCE5ZQ&lid=LSTMOBGPUZR8GHCE5ZQ1P4DF9&marketplace=FLIPKART&q=redmi+smartphone&store=tyy%2F4io&srno=s_1_14&otracker=search&otracker1=search&fm=organic&iid=1b46f281-1602-4314-bb73-75dafebd44e6.MOBGPUZR8GHCE5ZQ.SEARCH&ppt=hp&ppn=homepage&ssid=t7o3907q280000001694347398905&qH=16e35e1c76bc3b93', 'https://www.flipkart.com/redmi-11-prime-playful-green-128-gb/p/itm0b080e6994972?pid=MOBGZHFGZQMESCDK&lid=LSTMOBGZHFGZQMESCDKZ6ILTE&marketplace=FLIPKART&q=redmi+smartphone&store=tyy%2F4io&srno=s_1_15&otracker=search&otracker1=search&fm=organic&iid=1b46f281-1602-4314-bb73-75dafebd44e6.MOBGZHFGZQMESCDK.SEARCH&ppt=hp&ppn=homepage&ssid=t7o3907q280000001694347398905&qH=16e35e1c76bc3b93', 'https://www.flipkart.com/redmi-a2-sea-green-64-gb/p/itm5d49be2c0a95a?pid=MOBGPVYEHMPGNCBZ&lid=LSTMOBGPVYEHMPGNCBZHUKI4Z&marketplace=FLIPKART&q=redmi+smartphone&store=tyy%2F4io&srno=s_1_16&otracker=search&otracker1=search&fm=organic&iid=1b46f281-1602-4314-bb73-75dafebd44e6.MOBGPVYEHMPGNCBZ.SEARCH&ppt=hp&ppn=homepage&ssid=t7o3907q280000001694347398905&qH=16e35e1c76bc3b93', 'https://www.flipkart.com/redmi-a2-classic-black-64-gb/p/itm5d49be2c0a95a?pid=MOBGRHB6XAEUADQB&lid=LSTMOBGRHB6XAEUADQBAI4AJ4&marketplace=FLIPKART&q=redmi+smartphone&store=tyy%2F4io&srno=s_1_17&otracker=search&otracker1=search&fm=organic&iid=1b46f281-1602-4314-bb73-75dafebd44e6.MOBGRHB6XAEUADQB.SEARCH&ppt=hp&ppn=homepage&ssid=t7o3907q280000001694347398905&qH=16e35e1c76bc3b93', 'https://www.flipkart.com/redmi-a2-sea-green-64-gb/p/itm5d49be2c0a95a?pid=MOBGRHB7GUUZG3QH&lid=LSTMOBGRHB7GUUZG3QHWXCHRR&marketplace=FLIPKART&q=redmi+smartphone&store=tyy%2F4io&srno=s_1_18&otracker=search&otracker1=search&fm=organic&iid=1b46f281-1602-4314-bb73-75dafebd44e6.MOBGRHB7GUUZG3QH.SEARCH&ppt=hp&ppn=homepage&ssid=t7o3907q280000001694347398905&qH=16e35e1c76bc3b93', 'https://www.flipkart.com/redmi-note-12-ice-blue-64-gb/p/itmee415766dfc1a?pid=MOBGNYHZYZ4CNTCM&lid=LSTMOBGNYHZYZ4CNTCMVONB0S&marketplace=FLIPKART&q=redmi+smartphone&store=tyy%2F4io&srno=s_1_19&otracker=search&otracker1=search&fm=organic&iid=1b46f281-1602-4314-bb73-75dafebd44e6.MOBGNYHZYZ4CNTCM.SEARCH&ppt=hp&ppn=homepage&ssid=t7o3907q280000001694347398905&qH=16e35e1c76bc3b93', 'https://www.flipkart.com/redmi-12-5g-jade-black-128-gb/p/itm0c8ba13f6fc5b?pid=MOBGS9QU7QVWUWRD&lid=LSTMOBGS9QU7QVWUWRDCTGYQ5&marketplace=FLIPKART&q=redmi+smartphone&store=tyy%2F4io&srno=s_1_20&otracker=search&otracker1=search&fm=organic&iid=1b46f281-1602-4314-bb73-75dafebd44e6.MOBGS9QU7QVWUWRD.SEARCH&ppt=hp&ppn=homepage&ssid=t7o3907q280000001694347398905&qH=16e35e1c76bc3b93', 'https://www.flipkart.com/redmi-note-12-sunrise-gold-64-gb/p/itm5d170187bcbf0?pid=MOBGNYHZ7ZGHES2V&lid=LSTMOBGNYHZ7ZGHES2VQILAET&marketplace=FLIPKART&q=redmi+smartphone&store=tyy%2F4io&srno=s_1_21&otracker=search&otracker1=search&fm=organic&iid=1b46f281-1602-4314-bb73-75dafebd44e6.MOBGNYHZ7ZGHES2V.SEARCH&ppt=hp&ppn=homepage&ssid=t7o3907q280000001694347398905&qH=16e35e1c76bc3b93', 'https://www.flipkart.com/redmi-12c-lavender-purple-128-gb/p/itm3fe4e598a0358?pid=MOBGZEU9TYHQ8RGE&lid=LSTMOBGZEU9TYHQ8RGEJXEEKD&marketplace=FLIPKART&q=redmi+smartphone&store=tyy%2F4io&srno=s_1_22&otracker=search&otracker1=search&fm=organic&iid=1b46f281-1602-4314-bb73-75dafebd44e6.MOBGZEU9TYHQ8RGE.SEARCH&ppt=hp&ppn=homepage&ssid=t7o3907q280000001694347398905&qH=16e35e1c76bc3b93', 'https://www.flipkart.com/redmi-12c-mint-green-128-gb/p/itm3fe4e598a0358?pid=MOBGZEUDZWSZHYJM&lid=LSTMOBGZEUDZWSZHYJMPU2O1S&marketplace=FLIPKART&q=redmi+smartphone&store=tyy%2F4io&srno=s_1_23&otracker=search&otracker1=search&fm=organic&iid=1b46f281-1602-4314-bb73-75dafebd44e6.MOBGZEUDZWSZHYJM.SEARCH&ppt=hp&ppn=homepage&ssid=t7o3907q280000001694347398905&qH=16e35e1c76bc3b93', 'https://www.flipkart.com/redmi-12c-lavender-purple-64-gb/p/itm3fe4e598a0358?pid=MOBGZEVUSSJ8VGXZ&lid=LSTMOBGZEVUSSJ8VGXZQC5UNR&marketplace=FLIPKART&q=redmi+smartphone&store=tyy%2F4io&srno=s_1_24&otracker=search&otracker1=search&fm=organic&iid=1b46f281-1602-4314-bb73-75dafebd44e6.MOBGZEVUSSJ8VGXZ.SEARCH&ppt=hp&ppn=homepage&ssid=t7o3907q280000001694347398905&qH=16e35e1c76bc3b93']\n"
     ]
    },
    {
     "name": "stdout",
     "output_type": "stream",
     "text": [
      "['https://www.flipkart.com/redmi-12-moonstone-silver-128-gb/p/itme52e778c12701?pid=MOBGRMFK2MGRNG4Q&lid=LSTMOBGRMFK2MGRNG4QFZLVXT&marketplace=FLIPKART&q=redmi+smartphone&store=tyy%2F4io&spotlightTagId=BestsellerId_tyy%2F4io&srno=s_1_1&otracker=search&otracker1=search&fm=Search&iid=1b46f281-1602-4314-bb73-75dafebd44e6.MOBGRMFK2MGRNG4Q.SEARCH&ppt=sp&ppn=sp&ssid=t7o3907q280000001694347398905&qH=16e35e1c76bc3b93', 'https://www.flipkart.com/redmi-12-pastel-blue-128-gb/p/itm48719506a7ceb?pid=MOBGRMFKKGYD9ETX&lid=LSTMOBGRMFKKGYD9ETX5KD9VL&marketplace=FLIPKART&q=redmi+smartphone&store=tyy%2F4io&spotlightTagId=BestsellerId_tyy%2F4io&srno=s_1_2&otracker=search&otracker1=search&fm=Search&iid=1b46f281-1602-4314-bb73-75dafebd44e6.MOBGRMFKKGYD9ETX.SEARCH&ppt=sp&ppn=sp&ssid=t7o3907q280000001694347398905&qH=16e35e1c76bc3b93', 'https://www.flipkart.com/redmi-12-jade-black-128-gb/p/itmb7050ec01c09f?pid=MOBGRMFKTHKQSJEG&lid=LSTMOBGRMFKTHKQSJEGQK3FM2&marketplace=FLIPKART&q=redmi+smartphone&store=tyy%2F4io&spotlightTagId=BestsellerId_tyy%2F4io&srno=s_1_3&otracker=search&otracker1=search&fm=organic&iid=1b46f281-1602-4314-bb73-75dafebd44e6.MOBGRMFKTHKQSJEG.SEARCH&ppt=hp&ppn=homepage&ssid=t7o3907q280000001694347398905&qH=16e35e1c76bc3b93', 'https://www.flipkart.com/redmi-11-prime-peppy-purple-128-gb/p/itm52d6b0fe396e9?pid=MOBGZHFGUHYSHQYM&lid=LSTMOBGZHFGUHYSHQYMWGOOJ0&marketplace=FLIPKART&q=redmi+smartphone&store=tyy%2F4io&srno=s_1_4&otracker=search&otracker1=search&fm=organic&iid=1b46f281-1602-4314-bb73-75dafebd44e6.MOBGZHFGUHYSHQYM.SEARCH&ppt=hp&ppn=homepage&ssid=t7o3907q280000001694347398905&qH=16e35e1c76bc3b93', 'https://www.flipkart.com/redmi-12-pastel-blue-128-gb/p/itm9b1a6640faccd?pid=MOBGRMFKAHNTZPWE&lid=LSTMOBGRMFKAHNTZPWE1H5IWS&marketplace=FLIPKART&q=redmi+smartphone&store=tyy%2F4io&srno=s_1_5&otracker=search&otracker1=search&fm=organic&iid=1b46f281-1602-4314-bb73-75dafebd44e6.MOBGRMFKAHNTZPWE.SEARCH&ppt=hp&ppn=homepage&ssid=t7o3907q280000001694347398905&qH=16e35e1c76bc3b93', 'https://www.flipkart.com/redmi-a1-black-32-gb/p/itm70b00a77a7d1d?pid=MOBGGYBABVXHHRDQ&lid=LSTMOBGGYBABVXHHRDQTMWLXJ&marketplace=FLIPKART&q=redmi+smartphone&store=tyy%2F4io&srno=s_1_6&otracker=search&otracker1=search&fm=organic&iid=1b46f281-1602-4314-bb73-75dafebd44e6.MOBGGYBABVXHHRDQ.SEARCH&ppt=hp&ppn=homepage&ssid=t7o3907q280000001694347398905&qH=16e35e1c76bc3b93', 'https://www.flipkart.com/redmi-a1-light-green-32-gb/p/itmecc9e7ba0a1df?pid=MOBGGYBAHSAJVKHP&lid=LSTMOBGGYBAHSAJVKHP4UBD9A&marketplace=FLIPKART&q=redmi+smartphone&store=tyy%2F4io&srno=s_1_7&otracker=search&otracker1=search&fm=organic&iid=1b46f281-1602-4314-bb73-75dafebd44e6.MOBGGYBAHSAJVKHP.SEARCH&ppt=hp&ppn=homepage&ssid=t7o3907q280000001694347398905&qH=16e35e1c76bc3b93', 'https://www.flipkart.com/redmi-a2-aqua-blue-64-gb/p/itm5d49be2c0a95a?pid=MOBGPVYMG9RWX6XY&lid=LSTMOBGPVYMG9RWX6XYNJOQ2B&marketplace=FLIPKART&q=redmi+smartphone&store=tyy%2F4io&srno=s_1_8&otracker=search&otracker1=search&fm=organic&iid=1b46f281-1602-4314-bb73-75dafebd44e6.MOBGPVYMG9RWX6XY.SEARCH&ppt=hp&ppn=homepage&ssid=t7o3907q280000001694347398905&qH=16e35e1c76bc3b93', 'https://www.flipkart.com/redmi-a2-sea-green-32-gb/p/itm5d49be2c0a95a?pid=MOBGPVYATHJDTSSR&lid=LSTMOBGPVYATHJDTSSR6JMF4X&marketplace=FLIPKART&q=redmi+smartphone&store=tyy%2F4io&srno=s_1_9&otracker=search&otracker1=search&fm=organic&iid=1b46f281-1602-4314-bb73-75dafebd44e6.MOBGPVYATHJDTSSR.SEARCH&ppt=hp&ppn=homepage&ssid=t7o3907q280000001694347398905&qH=16e35e1c76bc3b93', 'https://www.flipkart.com/redmi-a2-aqua-blue-64-gb/p/itm5d49be2c0a95a?pid=MOBGR4UZWNAYKSUH&lid=LSTMOBGR4UZWNAYKSUHUXU5WM&marketplace=FLIPKART&q=redmi+smartphone&store=tyy%2F4io&srno=s_1_10&otracker=search&otracker1=search&fm=organic&iid=1b46f281-1602-4314-bb73-75dafebd44e6.MOBGR4UZWNAYKSUH.SEARCH&ppt=hp&ppn=homepage&ssid=t7o3907q280000001694347398905&qH=16e35e1c76bc3b93', 'https://www.flipkart.com/redmi-a2-classic-black-64-gb/p/itm5d49be2c0a95a?pid=MOBGPVYHRXZ3PFZU&lid=LSTMOBGPVYHRXZ3PFZU0QHLLF&marketplace=FLIPKART&q=redmi+smartphone&store=tyy%2F4io&srno=s_1_11&otracker=search&otracker1=search&fm=organic&iid=1b46f281-1602-4314-bb73-75dafebd44e6.MOBGPVYHRXZ3PFZU.SEARCH&ppt=hp&ppn=homepage&ssid=t7o3907q280000001694347398905&qH=16e35e1c76bc3b93', 'https://www.flipkart.com/redmi-9a-sport-coral-green-32-gb/p/itm53bc6ebfe147b?pid=MOBGHDXFKYSE5TPK&lid=LSTMOBGHDXFKYSE5TPKGHQ4XF&marketplace=FLIPKART&q=redmi+smartphone&store=tyy%2F4io&srno=s_1_12&otracker=search&otracker1=search&fm=organic&iid=1b46f281-1602-4314-bb73-75dafebd44e6.MOBGHDXFKYSE5TPK.SEARCH&ppt=hp&ppn=homepage&ssid=t7o3907q280000001694347398905&qH=16e35e1c76bc3b93', 'https://www.flipkart.com/redmi-6a-blue-16-gb/p/itm1ed294a755383?pid=MOBF9Z2Z3YDBSF6V&lid=LSTMOBF9Z2Z3YDBSF6VX16ZOH&marketplace=FLIPKART&q=redmi+smartphone&store=tyy%2F4io&srno=s_1_13&otracker=search&otracker1=search&fm=organic&iid=1b46f281-1602-4314-bb73-75dafebd44e6.MOBF9Z2Z3YDBSF6V.SEARCH&ppt=hp&ppn=homepage&ssid=t7o3907q280000001694347398905&qH=16e35e1c76bc3b93', 'https://www.flipkart.com/redmi-a2-aqua-blue-32-gb/p/itm5d49be2c0a95a?pid=MOBGPUZR8GHCE5ZQ&lid=LSTMOBGPUZR8GHCE5ZQ1P4DF9&marketplace=FLIPKART&q=redmi+smartphone&store=tyy%2F4io&srno=s_1_14&otracker=search&otracker1=search&fm=organic&iid=1b46f281-1602-4314-bb73-75dafebd44e6.MOBGPUZR8GHCE5ZQ.SEARCH&ppt=hp&ppn=homepage&ssid=t7o3907q280000001694347398905&qH=16e35e1c76bc3b93', 'https://www.flipkart.com/redmi-11-prime-playful-green-128-gb/p/itm0b080e6994972?pid=MOBGZHFGZQMESCDK&lid=LSTMOBGZHFGZQMESCDKZ6ILTE&marketplace=FLIPKART&q=redmi+smartphone&store=tyy%2F4io&srno=s_1_15&otracker=search&otracker1=search&fm=organic&iid=1b46f281-1602-4314-bb73-75dafebd44e6.MOBGZHFGZQMESCDK.SEARCH&ppt=hp&ppn=homepage&ssid=t7o3907q280000001694347398905&qH=16e35e1c76bc3b93', 'https://www.flipkart.com/redmi-a2-sea-green-64-gb/p/itm5d49be2c0a95a?pid=MOBGPVYEHMPGNCBZ&lid=LSTMOBGPVYEHMPGNCBZHUKI4Z&marketplace=FLIPKART&q=redmi+smartphone&store=tyy%2F4io&srno=s_1_16&otracker=search&otracker1=search&fm=organic&iid=1b46f281-1602-4314-bb73-75dafebd44e6.MOBGPVYEHMPGNCBZ.SEARCH&ppt=hp&ppn=homepage&ssid=t7o3907q280000001694347398905&qH=16e35e1c76bc3b93', 'https://www.flipkart.com/redmi-a2-classic-black-64-gb/p/itm5d49be2c0a95a?pid=MOBGRHB6XAEUADQB&lid=LSTMOBGRHB6XAEUADQBAI4AJ4&marketplace=FLIPKART&q=redmi+smartphone&store=tyy%2F4io&srno=s_1_17&otracker=search&otracker1=search&fm=organic&iid=1b46f281-1602-4314-bb73-75dafebd44e6.MOBGRHB6XAEUADQB.SEARCH&ppt=hp&ppn=homepage&ssid=t7o3907q280000001694347398905&qH=16e35e1c76bc3b93', 'https://www.flipkart.com/redmi-a2-sea-green-64-gb/p/itm5d49be2c0a95a?pid=MOBGRHB7GUUZG3QH&lid=LSTMOBGRHB7GUUZG3QHWXCHRR&marketplace=FLIPKART&q=redmi+smartphone&store=tyy%2F4io&srno=s_1_18&otracker=search&otracker1=search&fm=organic&iid=1b46f281-1602-4314-bb73-75dafebd44e6.MOBGRHB7GUUZG3QH.SEARCH&ppt=hp&ppn=homepage&ssid=t7o3907q280000001694347398905&qH=16e35e1c76bc3b93', 'https://www.flipkart.com/redmi-note-12-ice-blue-64-gb/p/itmee415766dfc1a?pid=MOBGNYHZYZ4CNTCM&lid=LSTMOBGNYHZYZ4CNTCMVONB0S&marketplace=FLIPKART&q=redmi+smartphone&store=tyy%2F4io&srno=s_1_19&otracker=search&otracker1=search&fm=organic&iid=1b46f281-1602-4314-bb73-75dafebd44e6.MOBGNYHZYZ4CNTCM.SEARCH&ppt=hp&ppn=homepage&ssid=t7o3907q280000001694347398905&qH=16e35e1c76bc3b93', 'https://www.flipkart.com/redmi-12-5g-jade-black-128-gb/p/itm0c8ba13f6fc5b?pid=MOBGS9QU7QVWUWRD&lid=LSTMOBGS9QU7QVWUWRDCTGYQ5&marketplace=FLIPKART&q=redmi+smartphone&store=tyy%2F4io&srno=s_1_20&otracker=search&otracker1=search&fm=organic&iid=1b46f281-1602-4314-bb73-75dafebd44e6.MOBGS9QU7QVWUWRD.SEARCH&ppt=hp&ppn=homepage&ssid=t7o3907q280000001694347398905&qH=16e35e1c76bc3b93', 'https://www.flipkart.com/redmi-note-12-sunrise-gold-64-gb/p/itm5d170187bcbf0?pid=MOBGNYHZ7ZGHES2V&lid=LSTMOBGNYHZ7ZGHES2VQILAET&marketplace=FLIPKART&q=redmi+smartphone&store=tyy%2F4io&srno=s_1_21&otracker=search&otracker1=search&fm=organic&iid=1b46f281-1602-4314-bb73-75dafebd44e6.MOBGNYHZ7ZGHES2V.SEARCH&ppt=hp&ppn=homepage&ssid=t7o3907q280000001694347398905&qH=16e35e1c76bc3b93', 'https://www.flipkart.com/redmi-12c-lavender-purple-128-gb/p/itm3fe4e598a0358?pid=MOBGZEU9TYHQ8RGE&lid=LSTMOBGZEU9TYHQ8RGEJXEEKD&marketplace=FLIPKART&q=redmi+smartphone&store=tyy%2F4io&srno=s_1_22&otracker=search&otracker1=search&fm=organic&iid=1b46f281-1602-4314-bb73-75dafebd44e6.MOBGZEU9TYHQ8RGE.SEARCH&ppt=hp&ppn=homepage&ssid=t7o3907q280000001694347398905&qH=16e35e1c76bc3b93', 'https://www.flipkart.com/redmi-12c-mint-green-128-gb/p/itm3fe4e598a0358?pid=MOBGZEUDZWSZHYJM&lid=LSTMOBGZEUDZWSZHYJMPU2O1S&marketplace=FLIPKART&q=redmi+smartphone&store=tyy%2F4io&srno=s_1_23&otracker=search&otracker1=search&fm=organic&iid=1b46f281-1602-4314-bb73-75dafebd44e6.MOBGZEUDZWSZHYJM.SEARCH&ppt=hp&ppn=homepage&ssid=t7o3907q280000001694347398905&qH=16e35e1c76bc3b93', 'https://www.flipkart.com/redmi-12c-lavender-purple-64-gb/p/itm3fe4e598a0358?pid=MOBGZEVUSSJ8VGXZ&lid=LSTMOBGZEVUSSJ8VGXZQC5UNR&marketplace=FLIPKART&q=redmi+smartphone&store=tyy%2F4io&srno=s_1_24&otracker=search&otracker1=search&fm=organic&iid=1b46f281-1602-4314-bb73-75dafebd44e6.MOBGZEVUSSJ8VGXZ.SEARCH&ppt=hp&ppn=homepage&ssid=t7o3907q280000001694347398905&qH=16e35e1c76bc3b93']\n",
      "['https://www.flipkart.com/redmi-12-moonstone-silver-128-gb/p/itme52e778c12701?pid=MOBGRMFK2MGRNG4Q&lid=LSTMOBGRMFK2MGRNG4QFZLVXT&marketplace=FLIPKART&q=redmi+smartphone&store=tyy%2F4io&spotlightTagId=BestsellerId_tyy%2F4io&srno=s_1_1&otracker=search&otracker1=search&fm=Search&iid=1b46f281-1602-4314-bb73-75dafebd44e6.MOBGRMFK2MGRNG4Q.SEARCH&ppt=sp&ppn=sp&ssid=t7o3907q280000001694347398905&qH=16e35e1c76bc3b93', 'https://www.flipkart.com/redmi-12-pastel-blue-128-gb/p/itm48719506a7ceb?pid=MOBGRMFKKGYD9ETX&lid=LSTMOBGRMFKKGYD9ETX5KD9VL&marketplace=FLIPKART&q=redmi+smartphone&store=tyy%2F4io&spotlightTagId=BestsellerId_tyy%2F4io&srno=s_1_2&otracker=search&otracker1=search&fm=Search&iid=1b46f281-1602-4314-bb73-75dafebd44e6.MOBGRMFKKGYD9ETX.SEARCH&ppt=sp&ppn=sp&ssid=t7o3907q280000001694347398905&qH=16e35e1c76bc3b93', 'https://www.flipkart.com/redmi-12-jade-black-128-gb/p/itmb7050ec01c09f?pid=MOBGRMFKTHKQSJEG&lid=LSTMOBGRMFKTHKQSJEGQK3FM2&marketplace=FLIPKART&q=redmi+smartphone&store=tyy%2F4io&spotlightTagId=BestsellerId_tyy%2F4io&srno=s_1_3&otracker=search&otracker1=search&fm=organic&iid=1b46f281-1602-4314-bb73-75dafebd44e6.MOBGRMFKTHKQSJEG.SEARCH&ppt=hp&ppn=homepage&ssid=t7o3907q280000001694347398905&qH=16e35e1c76bc3b93', 'https://www.flipkart.com/redmi-11-prime-peppy-purple-128-gb/p/itm52d6b0fe396e9?pid=MOBGZHFGUHYSHQYM&lid=LSTMOBGZHFGUHYSHQYMWGOOJ0&marketplace=FLIPKART&q=redmi+smartphone&store=tyy%2F4io&srno=s_1_4&otracker=search&otracker1=search&fm=organic&iid=1b46f281-1602-4314-bb73-75dafebd44e6.MOBGZHFGUHYSHQYM.SEARCH&ppt=hp&ppn=homepage&ssid=t7o3907q280000001694347398905&qH=16e35e1c76bc3b93', 'https://www.flipkart.com/redmi-12-pastel-blue-128-gb/p/itm9b1a6640faccd?pid=MOBGRMFKAHNTZPWE&lid=LSTMOBGRMFKAHNTZPWE1H5IWS&marketplace=FLIPKART&q=redmi+smartphone&store=tyy%2F4io&srno=s_1_5&otracker=search&otracker1=search&fm=organic&iid=1b46f281-1602-4314-bb73-75dafebd44e6.MOBGRMFKAHNTZPWE.SEARCH&ppt=hp&ppn=homepage&ssid=t7o3907q280000001694347398905&qH=16e35e1c76bc3b93', 'https://www.flipkart.com/redmi-a1-black-32-gb/p/itm70b00a77a7d1d?pid=MOBGGYBABVXHHRDQ&lid=LSTMOBGGYBABVXHHRDQTMWLXJ&marketplace=FLIPKART&q=redmi+smartphone&store=tyy%2F4io&srno=s_1_6&otracker=search&otracker1=search&fm=organic&iid=1b46f281-1602-4314-bb73-75dafebd44e6.MOBGGYBABVXHHRDQ.SEARCH&ppt=hp&ppn=homepage&ssid=t7o3907q280000001694347398905&qH=16e35e1c76bc3b93', 'https://www.flipkart.com/redmi-a1-light-green-32-gb/p/itmecc9e7ba0a1df?pid=MOBGGYBAHSAJVKHP&lid=LSTMOBGGYBAHSAJVKHP4UBD9A&marketplace=FLIPKART&q=redmi+smartphone&store=tyy%2F4io&srno=s_1_7&otracker=search&otracker1=search&fm=organic&iid=1b46f281-1602-4314-bb73-75dafebd44e6.MOBGGYBAHSAJVKHP.SEARCH&ppt=hp&ppn=homepage&ssid=t7o3907q280000001694347398905&qH=16e35e1c76bc3b93', 'https://www.flipkart.com/redmi-a2-aqua-blue-64-gb/p/itm5d49be2c0a95a?pid=MOBGPVYMG9RWX6XY&lid=LSTMOBGPVYMG9RWX6XYNJOQ2B&marketplace=FLIPKART&q=redmi+smartphone&store=tyy%2F4io&srno=s_1_8&otracker=search&otracker1=search&fm=organic&iid=1b46f281-1602-4314-bb73-75dafebd44e6.MOBGPVYMG9RWX6XY.SEARCH&ppt=hp&ppn=homepage&ssid=t7o3907q280000001694347398905&qH=16e35e1c76bc3b93', 'https://www.flipkart.com/redmi-a2-sea-green-32-gb/p/itm5d49be2c0a95a?pid=MOBGPVYATHJDTSSR&lid=LSTMOBGPVYATHJDTSSR6JMF4X&marketplace=FLIPKART&q=redmi+smartphone&store=tyy%2F4io&srno=s_1_9&otracker=search&otracker1=search&fm=organic&iid=1b46f281-1602-4314-bb73-75dafebd44e6.MOBGPVYATHJDTSSR.SEARCH&ppt=hp&ppn=homepage&ssid=t7o3907q280000001694347398905&qH=16e35e1c76bc3b93', 'https://www.flipkart.com/redmi-a2-aqua-blue-64-gb/p/itm5d49be2c0a95a?pid=MOBGR4UZWNAYKSUH&lid=LSTMOBGR4UZWNAYKSUHUXU5WM&marketplace=FLIPKART&q=redmi+smartphone&store=tyy%2F4io&srno=s_1_10&otracker=search&otracker1=search&fm=organic&iid=1b46f281-1602-4314-bb73-75dafebd44e6.MOBGR4UZWNAYKSUH.SEARCH&ppt=hp&ppn=homepage&ssid=t7o3907q280000001694347398905&qH=16e35e1c76bc3b93', 'https://www.flipkart.com/redmi-a2-classic-black-64-gb/p/itm5d49be2c0a95a?pid=MOBGPVYHRXZ3PFZU&lid=LSTMOBGPVYHRXZ3PFZU0QHLLF&marketplace=FLIPKART&q=redmi+smartphone&store=tyy%2F4io&srno=s_1_11&otracker=search&otracker1=search&fm=organic&iid=1b46f281-1602-4314-bb73-75dafebd44e6.MOBGPVYHRXZ3PFZU.SEARCH&ppt=hp&ppn=homepage&ssid=t7o3907q280000001694347398905&qH=16e35e1c76bc3b93', 'https://www.flipkart.com/redmi-9a-sport-coral-green-32-gb/p/itm53bc6ebfe147b?pid=MOBGHDXFKYSE5TPK&lid=LSTMOBGHDXFKYSE5TPKGHQ4XF&marketplace=FLIPKART&q=redmi+smartphone&store=tyy%2F4io&srno=s_1_12&otracker=search&otracker1=search&fm=organic&iid=1b46f281-1602-4314-bb73-75dafebd44e6.MOBGHDXFKYSE5TPK.SEARCH&ppt=hp&ppn=homepage&ssid=t7o3907q280000001694347398905&qH=16e35e1c76bc3b93', 'https://www.flipkart.com/redmi-6a-blue-16-gb/p/itm1ed294a755383?pid=MOBF9Z2Z3YDBSF6V&lid=LSTMOBF9Z2Z3YDBSF6VX16ZOH&marketplace=FLIPKART&q=redmi+smartphone&store=tyy%2F4io&srno=s_1_13&otracker=search&otracker1=search&fm=organic&iid=1b46f281-1602-4314-bb73-75dafebd44e6.MOBF9Z2Z3YDBSF6V.SEARCH&ppt=hp&ppn=homepage&ssid=t7o3907q280000001694347398905&qH=16e35e1c76bc3b93', 'https://www.flipkart.com/redmi-a2-aqua-blue-32-gb/p/itm5d49be2c0a95a?pid=MOBGPUZR8GHCE5ZQ&lid=LSTMOBGPUZR8GHCE5ZQ1P4DF9&marketplace=FLIPKART&q=redmi+smartphone&store=tyy%2F4io&srno=s_1_14&otracker=search&otracker1=search&fm=organic&iid=1b46f281-1602-4314-bb73-75dafebd44e6.MOBGPUZR8GHCE5ZQ.SEARCH&ppt=hp&ppn=homepage&ssid=t7o3907q280000001694347398905&qH=16e35e1c76bc3b93', 'https://www.flipkart.com/redmi-11-prime-playful-green-128-gb/p/itm0b080e6994972?pid=MOBGZHFGZQMESCDK&lid=LSTMOBGZHFGZQMESCDKZ6ILTE&marketplace=FLIPKART&q=redmi+smartphone&store=tyy%2F4io&srno=s_1_15&otracker=search&otracker1=search&fm=organic&iid=1b46f281-1602-4314-bb73-75dafebd44e6.MOBGZHFGZQMESCDK.SEARCH&ppt=hp&ppn=homepage&ssid=t7o3907q280000001694347398905&qH=16e35e1c76bc3b93', 'https://www.flipkart.com/redmi-a2-sea-green-64-gb/p/itm5d49be2c0a95a?pid=MOBGPVYEHMPGNCBZ&lid=LSTMOBGPVYEHMPGNCBZHUKI4Z&marketplace=FLIPKART&q=redmi+smartphone&store=tyy%2F4io&srno=s_1_16&otracker=search&otracker1=search&fm=organic&iid=1b46f281-1602-4314-bb73-75dafebd44e6.MOBGPVYEHMPGNCBZ.SEARCH&ppt=hp&ppn=homepage&ssid=t7o3907q280000001694347398905&qH=16e35e1c76bc3b93', 'https://www.flipkart.com/redmi-a2-classic-black-64-gb/p/itm5d49be2c0a95a?pid=MOBGRHB6XAEUADQB&lid=LSTMOBGRHB6XAEUADQBAI4AJ4&marketplace=FLIPKART&q=redmi+smartphone&store=tyy%2F4io&srno=s_1_17&otracker=search&otracker1=search&fm=organic&iid=1b46f281-1602-4314-bb73-75dafebd44e6.MOBGRHB6XAEUADQB.SEARCH&ppt=hp&ppn=homepage&ssid=t7o3907q280000001694347398905&qH=16e35e1c76bc3b93', 'https://www.flipkart.com/redmi-a2-sea-green-64-gb/p/itm5d49be2c0a95a?pid=MOBGRHB7GUUZG3QH&lid=LSTMOBGRHB7GUUZG3QHWXCHRR&marketplace=FLIPKART&q=redmi+smartphone&store=tyy%2F4io&srno=s_1_18&otracker=search&otracker1=search&fm=organic&iid=1b46f281-1602-4314-bb73-75dafebd44e6.MOBGRHB7GUUZG3QH.SEARCH&ppt=hp&ppn=homepage&ssid=t7o3907q280000001694347398905&qH=16e35e1c76bc3b93', 'https://www.flipkart.com/redmi-note-12-ice-blue-64-gb/p/itmee415766dfc1a?pid=MOBGNYHZYZ4CNTCM&lid=LSTMOBGNYHZYZ4CNTCMVONB0S&marketplace=FLIPKART&q=redmi+smartphone&store=tyy%2F4io&srno=s_1_19&otracker=search&otracker1=search&fm=organic&iid=1b46f281-1602-4314-bb73-75dafebd44e6.MOBGNYHZYZ4CNTCM.SEARCH&ppt=hp&ppn=homepage&ssid=t7o3907q280000001694347398905&qH=16e35e1c76bc3b93', 'https://www.flipkart.com/redmi-12-5g-jade-black-128-gb/p/itm0c8ba13f6fc5b?pid=MOBGS9QU7QVWUWRD&lid=LSTMOBGS9QU7QVWUWRDCTGYQ5&marketplace=FLIPKART&q=redmi+smartphone&store=tyy%2F4io&srno=s_1_20&otracker=search&otracker1=search&fm=organic&iid=1b46f281-1602-4314-bb73-75dafebd44e6.MOBGS9QU7QVWUWRD.SEARCH&ppt=hp&ppn=homepage&ssid=t7o3907q280000001694347398905&qH=16e35e1c76bc3b93', 'https://www.flipkart.com/redmi-note-12-sunrise-gold-64-gb/p/itm5d170187bcbf0?pid=MOBGNYHZ7ZGHES2V&lid=LSTMOBGNYHZ7ZGHES2VQILAET&marketplace=FLIPKART&q=redmi+smartphone&store=tyy%2F4io&srno=s_1_21&otracker=search&otracker1=search&fm=organic&iid=1b46f281-1602-4314-bb73-75dafebd44e6.MOBGNYHZ7ZGHES2V.SEARCH&ppt=hp&ppn=homepage&ssid=t7o3907q280000001694347398905&qH=16e35e1c76bc3b93', 'https://www.flipkart.com/redmi-12c-lavender-purple-128-gb/p/itm3fe4e598a0358?pid=MOBGZEU9TYHQ8RGE&lid=LSTMOBGZEU9TYHQ8RGEJXEEKD&marketplace=FLIPKART&q=redmi+smartphone&store=tyy%2F4io&srno=s_1_22&otracker=search&otracker1=search&fm=organic&iid=1b46f281-1602-4314-bb73-75dafebd44e6.MOBGZEU9TYHQ8RGE.SEARCH&ppt=hp&ppn=homepage&ssid=t7o3907q280000001694347398905&qH=16e35e1c76bc3b93', 'https://www.flipkart.com/redmi-12c-mint-green-128-gb/p/itm3fe4e598a0358?pid=MOBGZEUDZWSZHYJM&lid=LSTMOBGZEUDZWSZHYJMPU2O1S&marketplace=FLIPKART&q=redmi+smartphone&store=tyy%2F4io&srno=s_1_23&otracker=search&otracker1=search&fm=organic&iid=1b46f281-1602-4314-bb73-75dafebd44e6.MOBGZEUDZWSZHYJM.SEARCH&ppt=hp&ppn=homepage&ssid=t7o3907q280000001694347398905&qH=16e35e1c76bc3b93', 'https://www.flipkart.com/redmi-12c-lavender-purple-64-gb/p/itm3fe4e598a0358?pid=MOBGZEVUSSJ8VGXZ&lid=LSTMOBGZEVUSSJ8VGXZQC5UNR&marketplace=FLIPKART&q=redmi+smartphone&store=tyy%2F4io&srno=s_1_24&otracker=search&otracker1=search&fm=organic&iid=1b46f281-1602-4314-bb73-75dafebd44e6.MOBGZEVUSSJ8VGXZ.SEARCH&ppt=hp&ppn=homepage&ssid=t7o3907q280000001694347398905&qH=16e35e1c76bc3b93']\n"
     ]
    },
    {
     "name": "stdout",
     "output_type": "stream",
     "text": [
      "['https://www.flipkart.com/redmi-12-moonstone-silver-128-gb/p/itme52e778c12701?pid=MOBGRMFK2MGRNG4Q&lid=LSTMOBGRMFK2MGRNG4QFZLVXT&marketplace=FLIPKART&q=redmi+smartphone&store=tyy%2F4io&spotlightTagId=BestsellerId_tyy%2F4io&srno=s_1_1&otracker=search&otracker1=search&fm=Search&iid=1b46f281-1602-4314-bb73-75dafebd44e6.MOBGRMFK2MGRNG4Q.SEARCH&ppt=sp&ppn=sp&ssid=t7o3907q280000001694347398905&qH=16e35e1c76bc3b93', 'https://www.flipkart.com/redmi-12-pastel-blue-128-gb/p/itm48719506a7ceb?pid=MOBGRMFKKGYD9ETX&lid=LSTMOBGRMFKKGYD9ETX5KD9VL&marketplace=FLIPKART&q=redmi+smartphone&store=tyy%2F4io&spotlightTagId=BestsellerId_tyy%2F4io&srno=s_1_2&otracker=search&otracker1=search&fm=Search&iid=1b46f281-1602-4314-bb73-75dafebd44e6.MOBGRMFKKGYD9ETX.SEARCH&ppt=sp&ppn=sp&ssid=t7o3907q280000001694347398905&qH=16e35e1c76bc3b93', 'https://www.flipkart.com/redmi-12-jade-black-128-gb/p/itmb7050ec01c09f?pid=MOBGRMFKTHKQSJEG&lid=LSTMOBGRMFKTHKQSJEGQK3FM2&marketplace=FLIPKART&q=redmi+smartphone&store=tyy%2F4io&spotlightTagId=BestsellerId_tyy%2F4io&srno=s_1_3&otracker=search&otracker1=search&fm=organic&iid=1b46f281-1602-4314-bb73-75dafebd44e6.MOBGRMFKTHKQSJEG.SEARCH&ppt=hp&ppn=homepage&ssid=t7o3907q280000001694347398905&qH=16e35e1c76bc3b93', 'https://www.flipkart.com/redmi-11-prime-peppy-purple-128-gb/p/itm52d6b0fe396e9?pid=MOBGZHFGUHYSHQYM&lid=LSTMOBGZHFGUHYSHQYMWGOOJ0&marketplace=FLIPKART&q=redmi+smartphone&store=tyy%2F4io&srno=s_1_4&otracker=search&otracker1=search&fm=organic&iid=1b46f281-1602-4314-bb73-75dafebd44e6.MOBGZHFGUHYSHQYM.SEARCH&ppt=hp&ppn=homepage&ssid=t7o3907q280000001694347398905&qH=16e35e1c76bc3b93', 'https://www.flipkart.com/redmi-12-pastel-blue-128-gb/p/itm9b1a6640faccd?pid=MOBGRMFKAHNTZPWE&lid=LSTMOBGRMFKAHNTZPWE1H5IWS&marketplace=FLIPKART&q=redmi+smartphone&store=tyy%2F4io&srno=s_1_5&otracker=search&otracker1=search&fm=organic&iid=1b46f281-1602-4314-bb73-75dafebd44e6.MOBGRMFKAHNTZPWE.SEARCH&ppt=hp&ppn=homepage&ssid=t7o3907q280000001694347398905&qH=16e35e1c76bc3b93', 'https://www.flipkart.com/redmi-a1-black-32-gb/p/itm70b00a77a7d1d?pid=MOBGGYBABVXHHRDQ&lid=LSTMOBGGYBABVXHHRDQTMWLXJ&marketplace=FLIPKART&q=redmi+smartphone&store=tyy%2F4io&srno=s_1_6&otracker=search&otracker1=search&fm=organic&iid=1b46f281-1602-4314-bb73-75dafebd44e6.MOBGGYBABVXHHRDQ.SEARCH&ppt=hp&ppn=homepage&ssid=t7o3907q280000001694347398905&qH=16e35e1c76bc3b93', 'https://www.flipkart.com/redmi-a1-light-green-32-gb/p/itmecc9e7ba0a1df?pid=MOBGGYBAHSAJVKHP&lid=LSTMOBGGYBAHSAJVKHP4UBD9A&marketplace=FLIPKART&q=redmi+smartphone&store=tyy%2F4io&srno=s_1_7&otracker=search&otracker1=search&fm=organic&iid=1b46f281-1602-4314-bb73-75dafebd44e6.MOBGGYBAHSAJVKHP.SEARCH&ppt=hp&ppn=homepage&ssid=t7o3907q280000001694347398905&qH=16e35e1c76bc3b93', 'https://www.flipkart.com/redmi-a2-aqua-blue-64-gb/p/itm5d49be2c0a95a?pid=MOBGPVYMG9RWX6XY&lid=LSTMOBGPVYMG9RWX6XYNJOQ2B&marketplace=FLIPKART&q=redmi+smartphone&store=tyy%2F4io&srno=s_1_8&otracker=search&otracker1=search&fm=organic&iid=1b46f281-1602-4314-bb73-75dafebd44e6.MOBGPVYMG9RWX6XY.SEARCH&ppt=hp&ppn=homepage&ssid=t7o3907q280000001694347398905&qH=16e35e1c76bc3b93', 'https://www.flipkart.com/redmi-a2-sea-green-32-gb/p/itm5d49be2c0a95a?pid=MOBGPVYATHJDTSSR&lid=LSTMOBGPVYATHJDTSSR6JMF4X&marketplace=FLIPKART&q=redmi+smartphone&store=tyy%2F4io&srno=s_1_9&otracker=search&otracker1=search&fm=organic&iid=1b46f281-1602-4314-bb73-75dafebd44e6.MOBGPVYATHJDTSSR.SEARCH&ppt=hp&ppn=homepage&ssid=t7o3907q280000001694347398905&qH=16e35e1c76bc3b93', 'https://www.flipkart.com/redmi-a2-aqua-blue-64-gb/p/itm5d49be2c0a95a?pid=MOBGR4UZWNAYKSUH&lid=LSTMOBGR4UZWNAYKSUHUXU5WM&marketplace=FLIPKART&q=redmi+smartphone&store=tyy%2F4io&srno=s_1_10&otracker=search&otracker1=search&fm=organic&iid=1b46f281-1602-4314-bb73-75dafebd44e6.MOBGR4UZWNAYKSUH.SEARCH&ppt=hp&ppn=homepage&ssid=t7o3907q280000001694347398905&qH=16e35e1c76bc3b93', 'https://www.flipkart.com/redmi-a2-classic-black-64-gb/p/itm5d49be2c0a95a?pid=MOBGPVYHRXZ3PFZU&lid=LSTMOBGPVYHRXZ3PFZU0QHLLF&marketplace=FLIPKART&q=redmi+smartphone&store=tyy%2F4io&srno=s_1_11&otracker=search&otracker1=search&fm=organic&iid=1b46f281-1602-4314-bb73-75dafebd44e6.MOBGPVYHRXZ3PFZU.SEARCH&ppt=hp&ppn=homepage&ssid=t7o3907q280000001694347398905&qH=16e35e1c76bc3b93', 'https://www.flipkart.com/redmi-9a-sport-coral-green-32-gb/p/itm53bc6ebfe147b?pid=MOBGHDXFKYSE5TPK&lid=LSTMOBGHDXFKYSE5TPKGHQ4XF&marketplace=FLIPKART&q=redmi+smartphone&store=tyy%2F4io&srno=s_1_12&otracker=search&otracker1=search&fm=organic&iid=1b46f281-1602-4314-bb73-75dafebd44e6.MOBGHDXFKYSE5TPK.SEARCH&ppt=hp&ppn=homepage&ssid=t7o3907q280000001694347398905&qH=16e35e1c76bc3b93', 'https://www.flipkart.com/redmi-6a-blue-16-gb/p/itm1ed294a755383?pid=MOBF9Z2Z3YDBSF6V&lid=LSTMOBF9Z2Z3YDBSF6VX16ZOH&marketplace=FLIPKART&q=redmi+smartphone&store=tyy%2F4io&srno=s_1_13&otracker=search&otracker1=search&fm=organic&iid=1b46f281-1602-4314-bb73-75dafebd44e6.MOBF9Z2Z3YDBSF6V.SEARCH&ppt=hp&ppn=homepage&ssid=t7o3907q280000001694347398905&qH=16e35e1c76bc3b93', 'https://www.flipkart.com/redmi-a2-aqua-blue-32-gb/p/itm5d49be2c0a95a?pid=MOBGPUZR8GHCE5ZQ&lid=LSTMOBGPUZR8GHCE5ZQ1P4DF9&marketplace=FLIPKART&q=redmi+smartphone&store=tyy%2F4io&srno=s_1_14&otracker=search&otracker1=search&fm=organic&iid=1b46f281-1602-4314-bb73-75dafebd44e6.MOBGPUZR8GHCE5ZQ.SEARCH&ppt=hp&ppn=homepage&ssid=t7o3907q280000001694347398905&qH=16e35e1c76bc3b93', 'https://www.flipkart.com/redmi-11-prime-playful-green-128-gb/p/itm0b080e6994972?pid=MOBGZHFGZQMESCDK&lid=LSTMOBGZHFGZQMESCDKZ6ILTE&marketplace=FLIPKART&q=redmi+smartphone&store=tyy%2F4io&srno=s_1_15&otracker=search&otracker1=search&fm=organic&iid=1b46f281-1602-4314-bb73-75dafebd44e6.MOBGZHFGZQMESCDK.SEARCH&ppt=hp&ppn=homepage&ssid=t7o3907q280000001694347398905&qH=16e35e1c76bc3b93', 'https://www.flipkart.com/redmi-a2-sea-green-64-gb/p/itm5d49be2c0a95a?pid=MOBGPVYEHMPGNCBZ&lid=LSTMOBGPVYEHMPGNCBZHUKI4Z&marketplace=FLIPKART&q=redmi+smartphone&store=tyy%2F4io&srno=s_1_16&otracker=search&otracker1=search&fm=organic&iid=1b46f281-1602-4314-bb73-75dafebd44e6.MOBGPVYEHMPGNCBZ.SEARCH&ppt=hp&ppn=homepage&ssid=t7o3907q280000001694347398905&qH=16e35e1c76bc3b93', 'https://www.flipkart.com/redmi-a2-classic-black-64-gb/p/itm5d49be2c0a95a?pid=MOBGRHB6XAEUADQB&lid=LSTMOBGRHB6XAEUADQBAI4AJ4&marketplace=FLIPKART&q=redmi+smartphone&store=tyy%2F4io&srno=s_1_17&otracker=search&otracker1=search&fm=organic&iid=1b46f281-1602-4314-bb73-75dafebd44e6.MOBGRHB6XAEUADQB.SEARCH&ppt=hp&ppn=homepage&ssid=t7o3907q280000001694347398905&qH=16e35e1c76bc3b93', 'https://www.flipkart.com/redmi-a2-sea-green-64-gb/p/itm5d49be2c0a95a?pid=MOBGRHB7GUUZG3QH&lid=LSTMOBGRHB7GUUZG3QHWXCHRR&marketplace=FLIPKART&q=redmi+smartphone&store=tyy%2F4io&srno=s_1_18&otracker=search&otracker1=search&fm=organic&iid=1b46f281-1602-4314-bb73-75dafebd44e6.MOBGRHB7GUUZG3QH.SEARCH&ppt=hp&ppn=homepage&ssid=t7o3907q280000001694347398905&qH=16e35e1c76bc3b93', 'https://www.flipkart.com/redmi-note-12-ice-blue-64-gb/p/itmee415766dfc1a?pid=MOBGNYHZYZ4CNTCM&lid=LSTMOBGNYHZYZ4CNTCMVONB0S&marketplace=FLIPKART&q=redmi+smartphone&store=tyy%2F4io&srno=s_1_19&otracker=search&otracker1=search&fm=organic&iid=1b46f281-1602-4314-bb73-75dafebd44e6.MOBGNYHZYZ4CNTCM.SEARCH&ppt=hp&ppn=homepage&ssid=t7o3907q280000001694347398905&qH=16e35e1c76bc3b93', 'https://www.flipkart.com/redmi-12-5g-jade-black-128-gb/p/itm0c8ba13f6fc5b?pid=MOBGS9QU7QVWUWRD&lid=LSTMOBGS9QU7QVWUWRDCTGYQ5&marketplace=FLIPKART&q=redmi+smartphone&store=tyy%2F4io&srno=s_1_20&otracker=search&otracker1=search&fm=organic&iid=1b46f281-1602-4314-bb73-75dafebd44e6.MOBGS9QU7QVWUWRD.SEARCH&ppt=hp&ppn=homepage&ssid=t7o3907q280000001694347398905&qH=16e35e1c76bc3b93', 'https://www.flipkart.com/redmi-note-12-sunrise-gold-64-gb/p/itm5d170187bcbf0?pid=MOBGNYHZ7ZGHES2V&lid=LSTMOBGNYHZ7ZGHES2VQILAET&marketplace=FLIPKART&q=redmi+smartphone&store=tyy%2F4io&srno=s_1_21&otracker=search&otracker1=search&fm=organic&iid=1b46f281-1602-4314-bb73-75dafebd44e6.MOBGNYHZ7ZGHES2V.SEARCH&ppt=hp&ppn=homepage&ssid=t7o3907q280000001694347398905&qH=16e35e1c76bc3b93', 'https://www.flipkart.com/redmi-12c-lavender-purple-128-gb/p/itm3fe4e598a0358?pid=MOBGZEU9TYHQ8RGE&lid=LSTMOBGZEU9TYHQ8RGEJXEEKD&marketplace=FLIPKART&q=redmi+smartphone&store=tyy%2F4io&srno=s_1_22&otracker=search&otracker1=search&fm=organic&iid=1b46f281-1602-4314-bb73-75dafebd44e6.MOBGZEU9TYHQ8RGE.SEARCH&ppt=hp&ppn=homepage&ssid=t7o3907q280000001694347398905&qH=16e35e1c76bc3b93', 'https://www.flipkart.com/redmi-12c-mint-green-128-gb/p/itm3fe4e598a0358?pid=MOBGZEUDZWSZHYJM&lid=LSTMOBGZEUDZWSZHYJMPU2O1S&marketplace=FLIPKART&q=redmi+smartphone&store=tyy%2F4io&srno=s_1_23&otracker=search&otracker1=search&fm=organic&iid=1b46f281-1602-4314-bb73-75dafebd44e6.MOBGZEUDZWSZHYJM.SEARCH&ppt=hp&ppn=homepage&ssid=t7o3907q280000001694347398905&qH=16e35e1c76bc3b93', 'https://www.flipkart.com/redmi-12c-lavender-purple-64-gb/p/itm3fe4e598a0358?pid=MOBGZEVUSSJ8VGXZ&lid=LSTMOBGZEVUSSJ8VGXZQC5UNR&marketplace=FLIPKART&q=redmi+smartphone&store=tyy%2F4io&srno=s_1_24&otracker=search&otracker1=search&fm=organic&iid=1b46f281-1602-4314-bb73-75dafebd44e6.MOBGZEVUSSJ8VGXZ.SEARCH&ppt=hp&ppn=homepage&ssid=t7o3907q280000001694347398905&qH=16e35e1c76bc3b93']\n",
      "['https://www.flipkart.com/redmi-12-moonstone-silver-128-gb/p/itme52e778c12701?pid=MOBGRMFK2MGRNG4Q&lid=LSTMOBGRMFK2MGRNG4QFZLVXT&marketplace=FLIPKART&q=redmi+smartphone&store=tyy%2F4io&spotlightTagId=BestsellerId_tyy%2F4io&srno=s_1_1&otracker=search&otracker1=search&fm=Search&iid=1b46f281-1602-4314-bb73-75dafebd44e6.MOBGRMFK2MGRNG4Q.SEARCH&ppt=sp&ppn=sp&ssid=t7o3907q280000001694347398905&qH=16e35e1c76bc3b93', 'https://www.flipkart.com/redmi-12-pastel-blue-128-gb/p/itm48719506a7ceb?pid=MOBGRMFKKGYD9ETX&lid=LSTMOBGRMFKKGYD9ETX5KD9VL&marketplace=FLIPKART&q=redmi+smartphone&store=tyy%2F4io&spotlightTagId=BestsellerId_tyy%2F4io&srno=s_1_2&otracker=search&otracker1=search&fm=Search&iid=1b46f281-1602-4314-bb73-75dafebd44e6.MOBGRMFKKGYD9ETX.SEARCH&ppt=sp&ppn=sp&ssid=t7o3907q280000001694347398905&qH=16e35e1c76bc3b93', 'https://www.flipkart.com/redmi-12-jade-black-128-gb/p/itmb7050ec01c09f?pid=MOBGRMFKTHKQSJEG&lid=LSTMOBGRMFKTHKQSJEGQK3FM2&marketplace=FLIPKART&q=redmi+smartphone&store=tyy%2F4io&spotlightTagId=BestsellerId_tyy%2F4io&srno=s_1_3&otracker=search&otracker1=search&fm=organic&iid=1b46f281-1602-4314-bb73-75dafebd44e6.MOBGRMFKTHKQSJEG.SEARCH&ppt=hp&ppn=homepage&ssid=t7o3907q280000001694347398905&qH=16e35e1c76bc3b93', 'https://www.flipkart.com/redmi-11-prime-peppy-purple-128-gb/p/itm52d6b0fe396e9?pid=MOBGZHFGUHYSHQYM&lid=LSTMOBGZHFGUHYSHQYMWGOOJ0&marketplace=FLIPKART&q=redmi+smartphone&store=tyy%2F4io&srno=s_1_4&otracker=search&otracker1=search&fm=organic&iid=1b46f281-1602-4314-bb73-75dafebd44e6.MOBGZHFGUHYSHQYM.SEARCH&ppt=hp&ppn=homepage&ssid=t7o3907q280000001694347398905&qH=16e35e1c76bc3b93', 'https://www.flipkart.com/redmi-12-pastel-blue-128-gb/p/itm9b1a6640faccd?pid=MOBGRMFKAHNTZPWE&lid=LSTMOBGRMFKAHNTZPWE1H5IWS&marketplace=FLIPKART&q=redmi+smartphone&store=tyy%2F4io&srno=s_1_5&otracker=search&otracker1=search&fm=organic&iid=1b46f281-1602-4314-bb73-75dafebd44e6.MOBGRMFKAHNTZPWE.SEARCH&ppt=hp&ppn=homepage&ssid=t7o3907q280000001694347398905&qH=16e35e1c76bc3b93', 'https://www.flipkart.com/redmi-a1-black-32-gb/p/itm70b00a77a7d1d?pid=MOBGGYBABVXHHRDQ&lid=LSTMOBGGYBABVXHHRDQTMWLXJ&marketplace=FLIPKART&q=redmi+smartphone&store=tyy%2F4io&srno=s_1_6&otracker=search&otracker1=search&fm=organic&iid=1b46f281-1602-4314-bb73-75dafebd44e6.MOBGGYBABVXHHRDQ.SEARCH&ppt=hp&ppn=homepage&ssid=t7o3907q280000001694347398905&qH=16e35e1c76bc3b93', 'https://www.flipkart.com/redmi-a1-light-green-32-gb/p/itmecc9e7ba0a1df?pid=MOBGGYBAHSAJVKHP&lid=LSTMOBGGYBAHSAJVKHP4UBD9A&marketplace=FLIPKART&q=redmi+smartphone&store=tyy%2F4io&srno=s_1_7&otracker=search&otracker1=search&fm=organic&iid=1b46f281-1602-4314-bb73-75dafebd44e6.MOBGGYBAHSAJVKHP.SEARCH&ppt=hp&ppn=homepage&ssid=t7o3907q280000001694347398905&qH=16e35e1c76bc3b93', 'https://www.flipkart.com/redmi-a2-aqua-blue-64-gb/p/itm5d49be2c0a95a?pid=MOBGPVYMG9RWX6XY&lid=LSTMOBGPVYMG9RWX6XYNJOQ2B&marketplace=FLIPKART&q=redmi+smartphone&store=tyy%2F4io&srno=s_1_8&otracker=search&otracker1=search&fm=organic&iid=1b46f281-1602-4314-bb73-75dafebd44e6.MOBGPVYMG9RWX6XY.SEARCH&ppt=hp&ppn=homepage&ssid=t7o3907q280000001694347398905&qH=16e35e1c76bc3b93', 'https://www.flipkart.com/redmi-a2-sea-green-32-gb/p/itm5d49be2c0a95a?pid=MOBGPVYATHJDTSSR&lid=LSTMOBGPVYATHJDTSSR6JMF4X&marketplace=FLIPKART&q=redmi+smartphone&store=tyy%2F4io&srno=s_1_9&otracker=search&otracker1=search&fm=organic&iid=1b46f281-1602-4314-bb73-75dafebd44e6.MOBGPVYATHJDTSSR.SEARCH&ppt=hp&ppn=homepage&ssid=t7o3907q280000001694347398905&qH=16e35e1c76bc3b93', 'https://www.flipkart.com/redmi-a2-aqua-blue-64-gb/p/itm5d49be2c0a95a?pid=MOBGR4UZWNAYKSUH&lid=LSTMOBGR4UZWNAYKSUHUXU5WM&marketplace=FLIPKART&q=redmi+smartphone&store=tyy%2F4io&srno=s_1_10&otracker=search&otracker1=search&fm=organic&iid=1b46f281-1602-4314-bb73-75dafebd44e6.MOBGR4UZWNAYKSUH.SEARCH&ppt=hp&ppn=homepage&ssid=t7o3907q280000001694347398905&qH=16e35e1c76bc3b93', 'https://www.flipkart.com/redmi-a2-classic-black-64-gb/p/itm5d49be2c0a95a?pid=MOBGPVYHRXZ3PFZU&lid=LSTMOBGPVYHRXZ3PFZU0QHLLF&marketplace=FLIPKART&q=redmi+smartphone&store=tyy%2F4io&srno=s_1_11&otracker=search&otracker1=search&fm=organic&iid=1b46f281-1602-4314-bb73-75dafebd44e6.MOBGPVYHRXZ3PFZU.SEARCH&ppt=hp&ppn=homepage&ssid=t7o3907q280000001694347398905&qH=16e35e1c76bc3b93', 'https://www.flipkart.com/redmi-9a-sport-coral-green-32-gb/p/itm53bc6ebfe147b?pid=MOBGHDXFKYSE5TPK&lid=LSTMOBGHDXFKYSE5TPKGHQ4XF&marketplace=FLIPKART&q=redmi+smartphone&store=tyy%2F4io&srno=s_1_12&otracker=search&otracker1=search&fm=organic&iid=1b46f281-1602-4314-bb73-75dafebd44e6.MOBGHDXFKYSE5TPK.SEARCH&ppt=hp&ppn=homepage&ssid=t7o3907q280000001694347398905&qH=16e35e1c76bc3b93', 'https://www.flipkart.com/redmi-6a-blue-16-gb/p/itm1ed294a755383?pid=MOBF9Z2Z3YDBSF6V&lid=LSTMOBF9Z2Z3YDBSF6VX16ZOH&marketplace=FLIPKART&q=redmi+smartphone&store=tyy%2F4io&srno=s_1_13&otracker=search&otracker1=search&fm=organic&iid=1b46f281-1602-4314-bb73-75dafebd44e6.MOBF9Z2Z3YDBSF6V.SEARCH&ppt=hp&ppn=homepage&ssid=t7o3907q280000001694347398905&qH=16e35e1c76bc3b93', 'https://www.flipkart.com/redmi-a2-aqua-blue-32-gb/p/itm5d49be2c0a95a?pid=MOBGPUZR8GHCE5ZQ&lid=LSTMOBGPUZR8GHCE5ZQ1P4DF9&marketplace=FLIPKART&q=redmi+smartphone&store=tyy%2F4io&srno=s_1_14&otracker=search&otracker1=search&fm=organic&iid=1b46f281-1602-4314-bb73-75dafebd44e6.MOBGPUZR8GHCE5ZQ.SEARCH&ppt=hp&ppn=homepage&ssid=t7o3907q280000001694347398905&qH=16e35e1c76bc3b93', 'https://www.flipkart.com/redmi-11-prime-playful-green-128-gb/p/itm0b080e6994972?pid=MOBGZHFGZQMESCDK&lid=LSTMOBGZHFGZQMESCDKZ6ILTE&marketplace=FLIPKART&q=redmi+smartphone&store=tyy%2F4io&srno=s_1_15&otracker=search&otracker1=search&fm=organic&iid=1b46f281-1602-4314-bb73-75dafebd44e6.MOBGZHFGZQMESCDK.SEARCH&ppt=hp&ppn=homepage&ssid=t7o3907q280000001694347398905&qH=16e35e1c76bc3b93', 'https://www.flipkart.com/redmi-a2-sea-green-64-gb/p/itm5d49be2c0a95a?pid=MOBGPVYEHMPGNCBZ&lid=LSTMOBGPVYEHMPGNCBZHUKI4Z&marketplace=FLIPKART&q=redmi+smartphone&store=tyy%2F4io&srno=s_1_16&otracker=search&otracker1=search&fm=organic&iid=1b46f281-1602-4314-bb73-75dafebd44e6.MOBGPVYEHMPGNCBZ.SEARCH&ppt=hp&ppn=homepage&ssid=t7o3907q280000001694347398905&qH=16e35e1c76bc3b93', 'https://www.flipkart.com/redmi-a2-classic-black-64-gb/p/itm5d49be2c0a95a?pid=MOBGRHB6XAEUADQB&lid=LSTMOBGRHB6XAEUADQBAI4AJ4&marketplace=FLIPKART&q=redmi+smartphone&store=tyy%2F4io&srno=s_1_17&otracker=search&otracker1=search&fm=organic&iid=1b46f281-1602-4314-bb73-75dafebd44e6.MOBGRHB6XAEUADQB.SEARCH&ppt=hp&ppn=homepage&ssid=t7o3907q280000001694347398905&qH=16e35e1c76bc3b93', 'https://www.flipkart.com/redmi-a2-sea-green-64-gb/p/itm5d49be2c0a95a?pid=MOBGRHB7GUUZG3QH&lid=LSTMOBGRHB7GUUZG3QHWXCHRR&marketplace=FLIPKART&q=redmi+smartphone&store=tyy%2F4io&srno=s_1_18&otracker=search&otracker1=search&fm=organic&iid=1b46f281-1602-4314-bb73-75dafebd44e6.MOBGRHB7GUUZG3QH.SEARCH&ppt=hp&ppn=homepage&ssid=t7o3907q280000001694347398905&qH=16e35e1c76bc3b93', 'https://www.flipkart.com/redmi-note-12-ice-blue-64-gb/p/itmee415766dfc1a?pid=MOBGNYHZYZ4CNTCM&lid=LSTMOBGNYHZYZ4CNTCMVONB0S&marketplace=FLIPKART&q=redmi+smartphone&store=tyy%2F4io&srno=s_1_19&otracker=search&otracker1=search&fm=organic&iid=1b46f281-1602-4314-bb73-75dafebd44e6.MOBGNYHZYZ4CNTCM.SEARCH&ppt=hp&ppn=homepage&ssid=t7o3907q280000001694347398905&qH=16e35e1c76bc3b93', 'https://www.flipkart.com/redmi-12-5g-jade-black-128-gb/p/itm0c8ba13f6fc5b?pid=MOBGS9QU7QVWUWRD&lid=LSTMOBGS9QU7QVWUWRDCTGYQ5&marketplace=FLIPKART&q=redmi+smartphone&store=tyy%2F4io&srno=s_1_20&otracker=search&otracker1=search&fm=organic&iid=1b46f281-1602-4314-bb73-75dafebd44e6.MOBGS9QU7QVWUWRD.SEARCH&ppt=hp&ppn=homepage&ssid=t7o3907q280000001694347398905&qH=16e35e1c76bc3b93', 'https://www.flipkart.com/redmi-note-12-sunrise-gold-64-gb/p/itm5d170187bcbf0?pid=MOBGNYHZ7ZGHES2V&lid=LSTMOBGNYHZ7ZGHES2VQILAET&marketplace=FLIPKART&q=redmi+smartphone&store=tyy%2F4io&srno=s_1_21&otracker=search&otracker1=search&fm=organic&iid=1b46f281-1602-4314-bb73-75dafebd44e6.MOBGNYHZ7ZGHES2V.SEARCH&ppt=hp&ppn=homepage&ssid=t7o3907q280000001694347398905&qH=16e35e1c76bc3b93', 'https://www.flipkart.com/redmi-12c-lavender-purple-128-gb/p/itm3fe4e598a0358?pid=MOBGZEU9TYHQ8RGE&lid=LSTMOBGZEU9TYHQ8RGEJXEEKD&marketplace=FLIPKART&q=redmi+smartphone&store=tyy%2F4io&srno=s_1_22&otracker=search&otracker1=search&fm=organic&iid=1b46f281-1602-4314-bb73-75dafebd44e6.MOBGZEU9TYHQ8RGE.SEARCH&ppt=hp&ppn=homepage&ssid=t7o3907q280000001694347398905&qH=16e35e1c76bc3b93', 'https://www.flipkart.com/redmi-12c-mint-green-128-gb/p/itm3fe4e598a0358?pid=MOBGZEUDZWSZHYJM&lid=LSTMOBGZEUDZWSZHYJMPU2O1S&marketplace=FLIPKART&q=redmi+smartphone&store=tyy%2F4io&srno=s_1_23&otracker=search&otracker1=search&fm=organic&iid=1b46f281-1602-4314-bb73-75dafebd44e6.MOBGZEUDZWSZHYJM.SEARCH&ppt=hp&ppn=homepage&ssid=t7o3907q280000001694347398905&qH=16e35e1c76bc3b93', 'https://www.flipkart.com/redmi-12c-lavender-purple-64-gb/p/itm3fe4e598a0358?pid=MOBGZEVUSSJ8VGXZ&lid=LSTMOBGZEVUSSJ8VGXZQC5UNR&marketplace=FLIPKART&q=redmi+smartphone&store=tyy%2F4io&srno=s_1_24&otracker=search&otracker1=search&fm=organic&iid=1b46f281-1602-4314-bb73-75dafebd44e6.MOBGZEVUSSJ8VGXZ.SEARCH&ppt=hp&ppn=homepage&ssid=t7o3907q280000001694347398905&qH=16e35e1c76bc3b93']\n"
     ]
    },
    {
     "name": "stdout",
     "output_type": "stream",
     "text": [
      "['https://www.flipkart.com/redmi-12-moonstone-silver-128-gb/p/itme52e778c12701?pid=MOBGRMFK2MGRNG4Q&lid=LSTMOBGRMFK2MGRNG4QFZLVXT&marketplace=FLIPKART&q=redmi+smartphone&store=tyy%2F4io&spotlightTagId=BestsellerId_tyy%2F4io&srno=s_1_1&otracker=search&otracker1=search&fm=Search&iid=1b46f281-1602-4314-bb73-75dafebd44e6.MOBGRMFK2MGRNG4Q.SEARCH&ppt=sp&ppn=sp&ssid=t7o3907q280000001694347398905&qH=16e35e1c76bc3b93', 'https://www.flipkart.com/redmi-12-pastel-blue-128-gb/p/itm48719506a7ceb?pid=MOBGRMFKKGYD9ETX&lid=LSTMOBGRMFKKGYD9ETX5KD9VL&marketplace=FLIPKART&q=redmi+smartphone&store=tyy%2F4io&spotlightTagId=BestsellerId_tyy%2F4io&srno=s_1_2&otracker=search&otracker1=search&fm=Search&iid=1b46f281-1602-4314-bb73-75dafebd44e6.MOBGRMFKKGYD9ETX.SEARCH&ppt=sp&ppn=sp&ssid=t7o3907q280000001694347398905&qH=16e35e1c76bc3b93', 'https://www.flipkart.com/redmi-12-jade-black-128-gb/p/itmb7050ec01c09f?pid=MOBGRMFKTHKQSJEG&lid=LSTMOBGRMFKTHKQSJEGQK3FM2&marketplace=FLIPKART&q=redmi+smartphone&store=tyy%2F4io&spotlightTagId=BestsellerId_tyy%2F4io&srno=s_1_3&otracker=search&otracker1=search&fm=organic&iid=1b46f281-1602-4314-bb73-75dafebd44e6.MOBGRMFKTHKQSJEG.SEARCH&ppt=hp&ppn=homepage&ssid=t7o3907q280000001694347398905&qH=16e35e1c76bc3b93', 'https://www.flipkart.com/redmi-11-prime-peppy-purple-128-gb/p/itm52d6b0fe396e9?pid=MOBGZHFGUHYSHQYM&lid=LSTMOBGZHFGUHYSHQYMWGOOJ0&marketplace=FLIPKART&q=redmi+smartphone&store=tyy%2F4io&srno=s_1_4&otracker=search&otracker1=search&fm=organic&iid=1b46f281-1602-4314-bb73-75dafebd44e6.MOBGZHFGUHYSHQYM.SEARCH&ppt=hp&ppn=homepage&ssid=t7o3907q280000001694347398905&qH=16e35e1c76bc3b93', 'https://www.flipkart.com/redmi-12-pastel-blue-128-gb/p/itm9b1a6640faccd?pid=MOBGRMFKAHNTZPWE&lid=LSTMOBGRMFKAHNTZPWE1H5IWS&marketplace=FLIPKART&q=redmi+smartphone&store=tyy%2F4io&srno=s_1_5&otracker=search&otracker1=search&fm=organic&iid=1b46f281-1602-4314-bb73-75dafebd44e6.MOBGRMFKAHNTZPWE.SEARCH&ppt=hp&ppn=homepage&ssid=t7o3907q280000001694347398905&qH=16e35e1c76bc3b93', 'https://www.flipkart.com/redmi-a1-black-32-gb/p/itm70b00a77a7d1d?pid=MOBGGYBABVXHHRDQ&lid=LSTMOBGGYBABVXHHRDQTMWLXJ&marketplace=FLIPKART&q=redmi+smartphone&store=tyy%2F4io&srno=s_1_6&otracker=search&otracker1=search&fm=organic&iid=1b46f281-1602-4314-bb73-75dafebd44e6.MOBGGYBABVXHHRDQ.SEARCH&ppt=hp&ppn=homepage&ssid=t7o3907q280000001694347398905&qH=16e35e1c76bc3b93', 'https://www.flipkart.com/redmi-a1-light-green-32-gb/p/itmecc9e7ba0a1df?pid=MOBGGYBAHSAJVKHP&lid=LSTMOBGGYBAHSAJVKHP4UBD9A&marketplace=FLIPKART&q=redmi+smartphone&store=tyy%2F4io&srno=s_1_7&otracker=search&otracker1=search&fm=organic&iid=1b46f281-1602-4314-bb73-75dafebd44e6.MOBGGYBAHSAJVKHP.SEARCH&ppt=hp&ppn=homepage&ssid=t7o3907q280000001694347398905&qH=16e35e1c76bc3b93', 'https://www.flipkart.com/redmi-a2-aqua-blue-64-gb/p/itm5d49be2c0a95a?pid=MOBGPVYMG9RWX6XY&lid=LSTMOBGPVYMG9RWX6XYNJOQ2B&marketplace=FLIPKART&q=redmi+smartphone&store=tyy%2F4io&srno=s_1_8&otracker=search&otracker1=search&fm=organic&iid=1b46f281-1602-4314-bb73-75dafebd44e6.MOBGPVYMG9RWX6XY.SEARCH&ppt=hp&ppn=homepage&ssid=t7o3907q280000001694347398905&qH=16e35e1c76bc3b93', 'https://www.flipkart.com/redmi-a2-sea-green-32-gb/p/itm5d49be2c0a95a?pid=MOBGPVYATHJDTSSR&lid=LSTMOBGPVYATHJDTSSR6JMF4X&marketplace=FLIPKART&q=redmi+smartphone&store=tyy%2F4io&srno=s_1_9&otracker=search&otracker1=search&fm=organic&iid=1b46f281-1602-4314-bb73-75dafebd44e6.MOBGPVYATHJDTSSR.SEARCH&ppt=hp&ppn=homepage&ssid=t7o3907q280000001694347398905&qH=16e35e1c76bc3b93', 'https://www.flipkart.com/redmi-a2-aqua-blue-64-gb/p/itm5d49be2c0a95a?pid=MOBGR4UZWNAYKSUH&lid=LSTMOBGR4UZWNAYKSUHUXU5WM&marketplace=FLIPKART&q=redmi+smartphone&store=tyy%2F4io&srno=s_1_10&otracker=search&otracker1=search&fm=organic&iid=1b46f281-1602-4314-bb73-75dafebd44e6.MOBGR4UZWNAYKSUH.SEARCH&ppt=hp&ppn=homepage&ssid=t7o3907q280000001694347398905&qH=16e35e1c76bc3b93', 'https://www.flipkart.com/redmi-a2-classic-black-64-gb/p/itm5d49be2c0a95a?pid=MOBGPVYHRXZ3PFZU&lid=LSTMOBGPVYHRXZ3PFZU0QHLLF&marketplace=FLIPKART&q=redmi+smartphone&store=tyy%2F4io&srno=s_1_11&otracker=search&otracker1=search&fm=organic&iid=1b46f281-1602-4314-bb73-75dafebd44e6.MOBGPVYHRXZ3PFZU.SEARCH&ppt=hp&ppn=homepage&ssid=t7o3907q280000001694347398905&qH=16e35e1c76bc3b93', 'https://www.flipkart.com/redmi-9a-sport-coral-green-32-gb/p/itm53bc6ebfe147b?pid=MOBGHDXFKYSE5TPK&lid=LSTMOBGHDXFKYSE5TPKGHQ4XF&marketplace=FLIPKART&q=redmi+smartphone&store=tyy%2F4io&srno=s_1_12&otracker=search&otracker1=search&fm=organic&iid=1b46f281-1602-4314-bb73-75dafebd44e6.MOBGHDXFKYSE5TPK.SEARCH&ppt=hp&ppn=homepage&ssid=t7o3907q280000001694347398905&qH=16e35e1c76bc3b93', 'https://www.flipkart.com/redmi-6a-blue-16-gb/p/itm1ed294a755383?pid=MOBF9Z2Z3YDBSF6V&lid=LSTMOBF9Z2Z3YDBSF6VX16ZOH&marketplace=FLIPKART&q=redmi+smartphone&store=tyy%2F4io&srno=s_1_13&otracker=search&otracker1=search&fm=organic&iid=1b46f281-1602-4314-bb73-75dafebd44e6.MOBF9Z2Z3YDBSF6V.SEARCH&ppt=hp&ppn=homepage&ssid=t7o3907q280000001694347398905&qH=16e35e1c76bc3b93', 'https://www.flipkart.com/redmi-a2-aqua-blue-32-gb/p/itm5d49be2c0a95a?pid=MOBGPUZR8GHCE5ZQ&lid=LSTMOBGPUZR8GHCE5ZQ1P4DF9&marketplace=FLIPKART&q=redmi+smartphone&store=tyy%2F4io&srno=s_1_14&otracker=search&otracker1=search&fm=organic&iid=1b46f281-1602-4314-bb73-75dafebd44e6.MOBGPUZR8GHCE5ZQ.SEARCH&ppt=hp&ppn=homepage&ssid=t7o3907q280000001694347398905&qH=16e35e1c76bc3b93', 'https://www.flipkart.com/redmi-11-prime-playful-green-128-gb/p/itm0b080e6994972?pid=MOBGZHFGZQMESCDK&lid=LSTMOBGZHFGZQMESCDKZ6ILTE&marketplace=FLIPKART&q=redmi+smartphone&store=tyy%2F4io&srno=s_1_15&otracker=search&otracker1=search&fm=organic&iid=1b46f281-1602-4314-bb73-75dafebd44e6.MOBGZHFGZQMESCDK.SEARCH&ppt=hp&ppn=homepage&ssid=t7o3907q280000001694347398905&qH=16e35e1c76bc3b93', 'https://www.flipkart.com/redmi-a2-sea-green-64-gb/p/itm5d49be2c0a95a?pid=MOBGPVYEHMPGNCBZ&lid=LSTMOBGPVYEHMPGNCBZHUKI4Z&marketplace=FLIPKART&q=redmi+smartphone&store=tyy%2F4io&srno=s_1_16&otracker=search&otracker1=search&fm=organic&iid=1b46f281-1602-4314-bb73-75dafebd44e6.MOBGPVYEHMPGNCBZ.SEARCH&ppt=hp&ppn=homepage&ssid=t7o3907q280000001694347398905&qH=16e35e1c76bc3b93', 'https://www.flipkart.com/redmi-a2-classic-black-64-gb/p/itm5d49be2c0a95a?pid=MOBGRHB6XAEUADQB&lid=LSTMOBGRHB6XAEUADQBAI4AJ4&marketplace=FLIPKART&q=redmi+smartphone&store=tyy%2F4io&srno=s_1_17&otracker=search&otracker1=search&fm=organic&iid=1b46f281-1602-4314-bb73-75dafebd44e6.MOBGRHB6XAEUADQB.SEARCH&ppt=hp&ppn=homepage&ssid=t7o3907q280000001694347398905&qH=16e35e1c76bc3b93', 'https://www.flipkart.com/redmi-a2-sea-green-64-gb/p/itm5d49be2c0a95a?pid=MOBGRHB7GUUZG3QH&lid=LSTMOBGRHB7GUUZG3QHWXCHRR&marketplace=FLIPKART&q=redmi+smartphone&store=tyy%2F4io&srno=s_1_18&otracker=search&otracker1=search&fm=organic&iid=1b46f281-1602-4314-bb73-75dafebd44e6.MOBGRHB7GUUZG3QH.SEARCH&ppt=hp&ppn=homepage&ssid=t7o3907q280000001694347398905&qH=16e35e1c76bc3b93', 'https://www.flipkart.com/redmi-note-12-ice-blue-64-gb/p/itmee415766dfc1a?pid=MOBGNYHZYZ4CNTCM&lid=LSTMOBGNYHZYZ4CNTCMVONB0S&marketplace=FLIPKART&q=redmi+smartphone&store=tyy%2F4io&srno=s_1_19&otracker=search&otracker1=search&fm=organic&iid=1b46f281-1602-4314-bb73-75dafebd44e6.MOBGNYHZYZ4CNTCM.SEARCH&ppt=hp&ppn=homepage&ssid=t7o3907q280000001694347398905&qH=16e35e1c76bc3b93', 'https://www.flipkart.com/redmi-12-5g-jade-black-128-gb/p/itm0c8ba13f6fc5b?pid=MOBGS9QU7QVWUWRD&lid=LSTMOBGS9QU7QVWUWRDCTGYQ5&marketplace=FLIPKART&q=redmi+smartphone&store=tyy%2F4io&srno=s_1_20&otracker=search&otracker1=search&fm=organic&iid=1b46f281-1602-4314-bb73-75dafebd44e6.MOBGS9QU7QVWUWRD.SEARCH&ppt=hp&ppn=homepage&ssid=t7o3907q280000001694347398905&qH=16e35e1c76bc3b93', 'https://www.flipkart.com/redmi-note-12-sunrise-gold-64-gb/p/itm5d170187bcbf0?pid=MOBGNYHZ7ZGHES2V&lid=LSTMOBGNYHZ7ZGHES2VQILAET&marketplace=FLIPKART&q=redmi+smartphone&store=tyy%2F4io&srno=s_1_21&otracker=search&otracker1=search&fm=organic&iid=1b46f281-1602-4314-bb73-75dafebd44e6.MOBGNYHZ7ZGHES2V.SEARCH&ppt=hp&ppn=homepage&ssid=t7o3907q280000001694347398905&qH=16e35e1c76bc3b93', 'https://www.flipkart.com/redmi-12c-lavender-purple-128-gb/p/itm3fe4e598a0358?pid=MOBGZEU9TYHQ8RGE&lid=LSTMOBGZEU9TYHQ8RGEJXEEKD&marketplace=FLIPKART&q=redmi+smartphone&store=tyy%2F4io&srno=s_1_22&otracker=search&otracker1=search&fm=organic&iid=1b46f281-1602-4314-bb73-75dafebd44e6.MOBGZEU9TYHQ8RGE.SEARCH&ppt=hp&ppn=homepage&ssid=t7o3907q280000001694347398905&qH=16e35e1c76bc3b93', 'https://www.flipkart.com/redmi-12c-mint-green-128-gb/p/itm3fe4e598a0358?pid=MOBGZEUDZWSZHYJM&lid=LSTMOBGZEUDZWSZHYJMPU2O1S&marketplace=FLIPKART&q=redmi+smartphone&store=tyy%2F4io&srno=s_1_23&otracker=search&otracker1=search&fm=organic&iid=1b46f281-1602-4314-bb73-75dafebd44e6.MOBGZEUDZWSZHYJM.SEARCH&ppt=hp&ppn=homepage&ssid=t7o3907q280000001694347398905&qH=16e35e1c76bc3b93', 'https://www.flipkart.com/redmi-12c-lavender-purple-64-gb/p/itm3fe4e598a0358?pid=MOBGZEVUSSJ8VGXZ&lid=LSTMOBGZEVUSSJ8VGXZQC5UNR&marketplace=FLIPKART&q=redmi+smartphone&store=tyy%2F4io&srno=s_1_24&otracker=search&otracker1=search&fm=organic&iid=1b46f281-1602-4314-bb73-75dafebd44e6.MOBGZEVUSSJ8VGXZ.SEARCH&ppt=hp&ppn=homepage&ssid=t7o3907q280000001694347398905&qH=16e35e1c76bc3b93']\n",
      "['https://www.flipkart.com/redmi-12-moonstone-silver-128-gb/p/itme52e778c12701?pid=MOBGRMFK2MGRNG4Q&lid=LSTMOBGRMFK2MGRNG4QFZLVXT&marketplace=FLIPKART&q=redmi+smartphone&store=tyy%2F4io&spotlightTagId=BestsellerId_tyy%2F4io&srno=s_1_1&otracker=search&otracker1=search&fm=Search&iid=1b46f281-1602-4314-bb73-75dafebd44e6.MOBGRMFK2MGRNG4Q.SEARCH&ppt=sp&ppn=sp&ssid=t7o3907q280000001694347398905&qH=16e35e1c76bc3b93', 'https://www.flipkart.com/redmi-12-pastel-blue-128-gb/p/itm48719506a7ceb?pid=MOBGRMFKKGYD9ETX&lid=LSTMOBGRMFKKGYD9ETX5KD9VL&marketplace=FLIPKART&q=redmi+smartphone&store=tyy%2F4io&spotlightTagId=BestsellerId_tyy%2F4io&srno=s_1_2&otracker=search&otracker1=search&fm=Search&iid=1b46f281-1602-4314-bb73-75dafebd44e6.MOBGRMFKKGYD9ETX.SEARCH&ppt=sp&ppn=sp&ssid=t7o3907q280000001694347398905&qH=16e35e1c76bc3b93', 'https://www.flipkart.com/redmi-12-jade-black-128-gb/p/itmb7050ec01c09f?pid=MOBGRMFKTHKQSJEG&lid=LSTMOBGRMFKTHKQSJEGQK3FM2&marketplace=FLIPKART&q=redmi+smartphone&store=tyy%2F4io&spotlightTagId=BestsellerId_tyy%2F4io&srno=s_1_3&otracker=search&otracker1=search&fm=organic&iid=1b46f281-1602-4314-bb73-75dafebd44e6.MOBGRMFKTHKQSJEG.SEARCH&ppt=hp&ppn=homepage&ssid=t7o3907q280000001694347398905&qH=16e35e1c76bc3b93', 'https://www.flipkart.com/redmi-11-prime-peppy-purple-128-gb/p/itm52d6b0fe396e9?pid=MOBGZHFGUHYSHQYM&lid=LSTMOBGZHFGUHYSHQYMWGOOJ0&marketplace=FLIPKART&q=redmi+smartphone&store=tyy%2F4io&srno=s_1_4&otracker=search&otracker1=search&fm=organic&iid=1b46f281-1602-4314-bb73-75dafebd44e6.MOBGZHFGUHYSHQYM.SEARCH&ppt=hp&ppn=homepage&ssid=t7o3907q280000001694347398905&qH=16e35e1c76bc3b93', 'https://www.flipkart.com/redmi-12-pastel-blue-128-gb/p/itm9b1a6640faccd?pid=MOBGRMFKAHNTZPWE&lid=LSTMOBGRMFKAHNTZPWE1H5IWS&marketplace=FLIPKART&q=redmi+smartphone&store=tyy%2F4io&srno=s_1_5&otracker=search&otracker1=search&fm=organic&iid=1b46f281-1602-4314-bb73-75dafebd44e6.MOBGRMFKAHNTZPWE.SEARCH&ppt=hp&ppn=homepage&ssid=t7o3907q280000001694347398905&qH=16e35e1c76bc3b93', 'https://www.flipkart.com/redmi-a1-black-32-gb/p/itm70b00a77a7d1d?pid=MOBGGYBABVXHHRDQ&lid=LSTMOBGGYBABVXHHRDQTMWLXJ&marketplace=FLIPKART&q=redmi+smartphone&store=tyy%2F4io&srno=s_1_6&otracker=search&otracker1=search&fm=organic&iid=1b46f281-1602-4314-bb73-75dafebd44e6.MOBGGYBABVXHHRDQ.SEARCH&ppt=hp&ppn=homepage&ssid=t7o3907q280000001694347398905&qH=16e35e1c76bc3b93', 'https://www.flipkart.com/redmi-a1-light-green-32-gb/p/itmecc9e7ba0a1df?pid=MOBGGYBAHSAJVKHP&lid=LSTMOBGGYBAHSAJVKHP4UBD9A&marketplace=FLIPKART&q=redmi+smartphone&store=tyy%2F4io&srno=s_1_7&otracker=search&otracker1=search&fm=organic&iid=1b46f281-1602-4314-bb73-75dafebd44e6.MOBGGYBAHSAJVKHP.SEARCH&ppt=hp&ppn=homepage&ssid=t7o3907q280000001694347398905&qH=16e35e1c76bc3b93', 'https://www.flipkart.com/redmi-a2-aqua-blue-64-gb/p/itm5d49be2c0a95a?pid=MOBGPVYMG9RWX6XY&lid=LSTMOBGPVYMG9RWX6XYNJOQ2B&marketplace=FLIPKART&q=redmi+smartphone&store=tyy%2F4io&srno=s_1_8&otracker=search&otracker1=search&fm=organic&iid=1b46f281-1602-4314-bb73-75dafebd44e6.MOBGPVYMG9RWX6XY.SEARCH&ppt=hp&ppn=homepage&ssid=t7o3907q280000001694347398905&qH=16e35e1c76bc3b93', 'https://www.flipkart.com/redmi-a2-sea-green-32-gb/p/itm5d49be2c0a95a?pid=MOBGPVYATHJDTSSR&lid=LSTMOBGPVYATHJDTSSR6JMF4X&marketplace=FLIPKART&q=redmi+smartphone&store=tyy%2F4io&srno=s_1_9&otracker=search&otracker1=search&fm=organic&iid=1b46f281-1602-4314-bb73-75dafebd44e6.MOBGPVYATHJDTSSR.SEARCH&ppt=hp&ppn=homepage&ssid=t7o3907q280000001694347398905&qH=16e35e1c76bc3b93', 'https://www.flipkart.com/redmi-a2-aqua-blue-64-gb/p/itm5d49be2c0a95a?pid=MOBGR4UZWNAYKSUH&lid=LSTMOBGR4UZWNAYKSUHUXU5WM&marketplace=FLIPKART&q=redmi+smartphone&store=tyy%2F4io&srno=s_1_10&otracker=search&otracker1=search&fm=organic&iid=1b46f281-1602-4314-bb73-75dafebd44e6.MOBGR4UZWNAYKSUH.SEARCH&ppt=hp&ppn=homepage&ssid=t7o3907q280000001694347398905&qH=16e35e1c76bc3b93', 'https://www.flipkart.com/redmi-a2-classic-black-64-gb/p/itm5d49be2c0a95a?pid=MOBGPVYHRXZ3PFZU&lid=LSTMOBGPVYHRXZ3PFZU0QHLLF&marketplace=FLIPKART&q=redmi+smartphone&store=tyy%2F4io&srno=s_1_11&otracker=search&otracker1=search&fm=organic&iid=1b46f281-1602-4314-bb73-75dafebd44e6.MOBGPVYHRXZ3PFZU.SEARCH&ppt=hp&ppn=homepage&ssid=t7o3907q280000001694347398905&qH=16e35e1c76bc3b93', 'https://www.flipkart.com/redmi-9a-sport-coral-green-32-gb/p/itm53bc6ebfe147b?pid=MOBGHDXFKYSE5TPK&lid=LSTMOBGHDXFKYSE5TPKGHQ4XF&marketplace=FLIPKART&q=redmi+smartphone&store=tyy%2F4io&srno=s_1_12&otracker=search&otracker1=search&fm=organic&iid=1b46f281-1602-4314-bb73-75dafebd44e6.MOBGHDXFKYSE5TPK.SEARCH&ppt=hp&ppn=homepage&ssid=t7o3907q280000001694347398905&qH=16e35e1c76bc3b93', 'https://www.flipkart.com/redmi-6a-blue-16-gb/p/itm1ed294a755383?pid=MOBF9Z2Z3YDBSF6V&lid=LSTMOBF9Z2Z3YDBSF6VX16ZOH&marketplace=FLIPKART&q=redmi+smartphone&store=tyy%2F4io&srno=s_1_13&otracker=search&otracker1=search&fm=organic&iid=1b46f281-1602-4314-bb73-75dafebd44e6.MOBF9Z2Z3YDBSF6V.SEARCH&ppt=hp&ppn=homepage&ssid=t7o3907q280000001694347398905&qH=16e35e1c76bc3b93', 'https://www.flipkart.com/redmi-a2-aqua-blue-32-gb/p/itm5d49be2c0a95a?pid=MOBGPUZR8GHCE5ZQ&lid=LSTMOBGPUZR8GHCE5ZQ1P4DF9&marketplace=FLIPKART&q=redmi+smartphone&store=tyy%2F4io&srno=s_1_14&otracker=search&otracker1=search&fm=organic&iid=1b46f281-1602-4314-bb73-75dafebd44e6.MOBGPUZR8GHCE5ZQ.SEARCH&ppt=hp&ppn=homepage&ssid=t7o3907q280000001694347398905&qH=16e35e1c76bc3b93', 'https://www.flipkart.com/redmi-11-prime-playful-green-128-gb/p/itm0b080e6994972?pid=MOBGZHFGZQMESCDK&lid=LSTMOBGZHFGZQMESCDKZ6ILTE&marketplace=FLIPKART&q=redmi+smartphone&store=tyy%2F4io&srno=s_1_15&otracker=search&otracker1=search&fm=organic&iid=1b46f281-1602-4314-bb73-75dafebd44e6.MOBGZHFGZQMESCDK.SEARCH&ppt=hp&ppn=homepage&ssid=t7o3907q280000001694347398905&qH=16e35e1c76bc3b93', 'https://www.flipkart.com/redmi-a2-sea-green-64-gb/p/itm5d49be2c0a95a?pid=MOBGPVYEHMPGNCBZ&lid=LSTMOBGPVYEHMPGNCBZHUKI4Z&marketplace=FLIPKART&q=redmi+smartphone&store=tyy%2F4io&srno=s_1_16&otracker=search&otracker1=search&fm=organic&iid=1b46f281-1602-4314-bb73-75dafebd44e6.MOBGPVYEHMPGNCBZ.SEARCH&ppt=hp&ppn=homepage&ssid=t7o3907q280000001694347398905&qH=16e35e1c76bc3b93', 'https://www.flipkart.com/redmi-a2-classic-black-64-gb/p/itm5d49be2c0a95a?pid=MOBGRHB6XAEUADQB&lid=LSTMOBGRHB6XAEUADQBAI4AJ4&marketplace=FLIPKART&q=redmi+smartphone&store=tyy%2F4io&srno=s_1_17&otracker=search&otracker1=search&fm=organic&iid=1b46f281-1602-4314-bb73-75dafebd44e6.MOBGRHB6XAEUADQB.SEARCH&ppt=hp&ppn=homepage&ssid=t7o3907q280000001694347398905&qH=16e35e1c76bc3b93', 'https://www.flipkart.com/redmi-a2-sea-green-64-gb/p/itm5d49be2c0a95a?pid=MOBGRHB7GUUZG3QH&lid=LSTMOBGRHB7GUUZG3QHWXCHRR&marketplace=FLIPKART&q=redmi+smartphone&store=tyy%2F4io&srno=s_1_18&otracker=search&otracker1=search&fm=organic&iid=1b46f281-1602-4314-bb73-75dafebd44e6.MOBGRHB7GUUZG3QH.SEARCH&ppt=hp&ppn=homepage&ssid=t7o3907q280000001694347398905&qH=16e35e1c76bc3b93', 'https://www.flipkart.com/redmi-note-12-ice-blue-64-gb/p/itmee415766dfc1a?pid=MOBGNYHZYZ4CNTCM&lid=LSTMOBGNYHZYZ4CNTCMVONB0S&marketplace=FLIPKART&q=redmi+smartphone&store=tyy%2F4io&srno=s_1_19&otracker=search&otracker1=search&fm=organic&iid=1b46f281-1602-4314-bb73-75dafebd44e6.MOBGNYHZYZ4CNTCM.SEARCH&ppt=hp&ppn=homepage&ssid=t7o3907q280000001694347398905&qH=16e35e1c76bc3b93', 'https://www.flipkart.com/redmi-12-5g-jade-black-128-gb/p/itm0c8ba13f6fc5b?pid=MOBGS9QU7QVWUWRD&lid=LSTMOBGS9QU7QVWUWRDCTGYQ5&marketplace=FLIPKART&q=redmi+smartphone&store=tyy%2F4io&srno=s_1_20&otracker=search&otracker1=search&fm=organic&iid=1b46f281-1602-4314-bb73-75dafebd44e6.MOBGS9QU7QVWUWRD.SEARCH&ppt=hp&ppn=homepage&ssid=t7o3907q280000001694347398905&qH=16e35e1c76bc3b93', 'https://www.flipkart.com/redmi-note-12-sunrise-gold-64-gb/p/itm5d170187bcbf0?pid=MOBGNYHZ7ZGHES2V&lid=LSTMOBGNYHZ7ZGHES2VQILAET&marketplace=FLIPKART&q=redmi+smartphone&store=tyy%2F4io&srno=s_1_21&otracker=search&otracker1=search&fm=organic&iid=1b46f281-1602-4314-bb73-75dafebd44e6.MOBGNYHZ7ZGHES2V.SEARCH&ppt=hp&ppn=homepage&ssid=t7o3907q280000001694347398905&qH=16e35e1c76bc3b93', 'https://www.flipkart.com/redmi-12c-lavender-purple-128-gb/p/itm3fe4e598a0358?pid=MOBGZEU9TYHQ8RGE&lid=LSTMOBGZEU9TYHQ8RGEJXEEKD&marketplace=FLIPKART&q=redmi+smartphone&store=tyy%2F4io&srno=s_1_22&otracker=search&otracker1=search&fm=organic&iid=1b46f281-1602-4314-bb73-75dafebd44e6.MOBGZEU9TYHQ8RGE.SEARCH&ppt=hp&ppn=homepage&ssid=t7o3907q280000001694347398905&qH=16e35e1c76bc3b93', 'https://www.flipkart.com/redmi-12c-mint-green-128-gb/p/itm3fe4e598a0358?pid=MOBGZEUDZWSZHYJM&lid=LSTMOBGZEUDZWSZHYJMPU2O1S&marketplace=FLIPKART&q=redmi+smartphone&store=tyy%2F4io&srno=s_1_23&otracker=search&otracker1=search&fm=organic&iid=1b46f281-1602-4314-bb73-75dafebd44e6.MOBGZEUDZWSZHYJM.SEARCH&ppt=hp&ppn=homepage&ssid=t7o3907q280000001694347398905&qH=16e35e1c76bc3b93', 'https://www.flipkart.com/redmi-12c-lavender-purple-64-gb/p/itm3fe4e598a0358?pid=MOBGZEVUSSJ8VGXZ&lid=LSTMOBGZEVUSSJ8VGXZQC5UNR&marketplace=FLIPKART&q=redmi+smartphone&store=tyy%2F4io&srno=s_1_24&otracker=search&otracker1=search&fm=organic&iid=1b46f281-1602-4314-bb73-75dafebd44e6.MOBGZEVUSSJ8VGXZ.SEARCH&ppt=hp&ppn=homepage&ssid=t7o3907q280000001694347398905&qH=16e35e1c76bc3b93']\n"
     ]
    },
    {
     "name": "stdout",
     "output_type": "stream",
     "text": [
      "['https://www.flipkart.com/redmi-12-moonstone-silver-128-gb/p/itme52e778c12701?pid=MOBGRMFK2MGRNG4Q&lid=LSTMOBGRMFK2MGRNG4QFZLVXT&marketplace=FLIPKART&q=redmi+smartphone&store=tyy%2F4io&spotlightTagId=BestsellerId_tyy%2F4io&srno=s_1_1&otracker=search&otracker1=search&fm=Search&iid=1b46f281-1602-4314-bb73-75dafebd44e6.MOBGRMFK2MGRNG4Q.SEARCH&ppt=sp&ppn=sp&ssid=t7o3907q280000001694347398905&qH=16e35e1c76bc3b93', 'https://www.flipkart.com/redmi-12-pastel-blue-128-gb/p/itm48719506a7ceb?pid=MOBGRMFKKGYD9ETX&lid=LSTMOBGRMFKKGYD9ETX5KD9VL&marketplace=FLIPKART&q=redmi+smartphone&store=tyy%2F4io&spotlightTagId=BestsellerId_tyy%2F4io&srno=s_1_2&otracker=search&otracker1=search&fm=Search&iid=1b46f281-1602-4314-bb73-75dafebd44e6.MOBGRMFKKGYD9ETX.SEARCH&ppt=sp&ppn=sp&ssid=t7o3907q280000001694347398905&qH=16e35e1c76bc3b93', 'https://www.flipkart.com/redmi-12-jade-black-128-gb/p/itmb7050ec01c09f?pid=MOBGRMFKTHKQSJEG&lid=LSTMOBGRMFKTHKQSJEGQK3FM2&marketplace=FLIPKART&q=redmi+smartphone&store=tyy%2F4io&spotlightTagId=BestsellerId_tyy%2F4io&srno=s_1_3&otracker=search&otracker1=search&fm=organic&iid=1b46f281-1602-4314-bb73-75dafebd44e6.MOBGRMFKTHKQSJEG.SEARCH&ppt=hp&ppn=homepage&ssid=t7o3907q280000001694347398905&qH=16e35e1c76bc3b93', 'https://www.flipkart.com/redmi-11-prime-peppy-purple-128-gb/p/itm52d6b0fe396e9?pid=MOBGZHFGUHYSHQYM&lid=LSTMOBGZHFGUHYSHQYMWGOOJ0&marketplace=FLIPKART&q=redmi+smartphone&store=tyy%2F4io&srno=s_1_4&otracker=search&otracker1=search&fm=organic&iid=1b46f281-1602-4314-bb73-75dafebd44e6.MOBGZHFGUHYSHQYM.SEARCH&ppt=hp&ppn=homepage&ssid=t7o3907q280000001694347398905&qH=16e35e1c76bc3b93', 'https://www.flipkart.com/redmi-12-pastel-blue-128-gb/p/itm9b1a6640faccd?pid=MOBGRMFKAHNTZPWE&lid=LSTMOBGRMFKAHNTZPWE1H5IWS&marketplace=FLIPKART&q=redmi+smartphone&store=tyy%2F4io&srno=s_1_5&otracker=search&otracker1=search&fm=organic&iid=1b46f281-1602-4314-bb73-75dafebd44e6.MOBGRMFKAHNTZPWE.SEARCH&ppt=hp&ppn=homepage&ssid=t7o3907q280000001694347398905&qH=16e35e1c76bc3b93', 'https://www.flipkart.com/redmi-a1-black-32-gb/p/itm70b00a77a7d1d?pid=MOBGGYBABVXHHRDQ&lid=LSTMOBGGYBABVXHHRDQTMWLXJ&marketplace=FLIPKART&q=redmi+smartphone&store=tyy%2F4io&srno=s_1_6&otracker=search&otracker1=search&fm=organic&iid=1b46f281-1602-4314-bb73-75dafebd44e6.MOBGGYBABVXHHRDQ.SEARCH&ppt=hp&ppn=homepage&ssid=t7o3907q280000001694347398905&qH=16e35e1c76bc3b93', 'https://www.flipkart.com/redmi-a1-light-green-32-gb/p/itmecc9e7ba0a1df?pid=MOBGGYBAHSAJVKHP&lid=LSTMOBGGYBAHSAJVKHP4UBD9A&marketplace=FLIPKART&q=redmi+smartphone&store=tyy%2F4io&srno=s_1_7&otracker=search&otracker1=search&fm=organic&iid=1b46f281-1602-4314-bb73-75dafebd44e6.MOBGGYBAHSAJVKHP.SEARCH&ppt=hp&ppn=homepage&ssid=t7o3907q280000001694347398905&qH=16e35e1c76bc3b93', 'https://www.flipkart.com/redmi-a2-aqua-blue-64-gb/p/itm5d49be2c0a95a?pid=MOBGPVYMG9RWX6XY&lid=LSTMOBGPVYMG9RWX6XYNJOQ2B&marketplace=FLIPKART&q=redmi+smartphone&store=tyy%2F4io&srno=s_1_8&otracker=search&otracker1=search&fm=organic&iid=1b46f281-1602-4314-bb73-75dafebd44e6.MOBGPVYMG9RWX6XY.SEARCH&ppt=hp&ppn=homepage&ssid=t7o3907q280000001694347398905&qH=16e35e1c76bc3b93', 'https://www.flipkart.com/redmi-a2-sea-green-32-gb/p/itm5d49be2c0a95a?pid=MOBGPVYATHJDTSSR&lid=LSTMOBGPVYATHJDTSSR6JMF4X&marketplace=FLIPKART&q=redmi+smartphone&store=tyy%2F4io&srno=s_1_9&otracker=search&otracker1=search&fm=organic&iid=1b46f281-1602-4314-bb73-75dafebd44e6.MOBGPVYATHJDTSSR.SEARCH&ppt=hp&ppn=homepage&ssid=t7o3907q280000001694347398905&qH=16e35e1c76bc3b93', 'https://www.flipkart.com/redmi-a2-aqua-blue-64-gb/p/itm5d49be2c0a95a?pid=MOBGR4UZWNAYKSUH&lid=LSTMOBGR4UZWNAYKSUHUXU5WM&marketplace=FLIPKART&q=redmi+smartphone&store=tyy%2F4io&srno=s_1_10&otracker=search&otracker1=search&fm=organic&iid=1b46f281-1602-4314-bb73-75dafebd44e6.MOBGR4UZWNAYKSUH.SEARCH&ppt=hp&ppn=homepage&ssid=t7o3907q280000001694347398905&qH=16e35e1c76bc3b93', 'https://www.flipkart.com/redmi-a2-classic-black-64-gb/p/itm5d49be2c0a95a?pid=MOBGPVYHRXZ3PFZU&lid=LSTMOBGPVYHRXZ3PFZU0QHLLF&marketplace=FLIPKART&q=redmi+smartphone&store=tyy%2F4io&srno=s_1_11&otracker=search&otracker1=search&fm=organic&iid=1b46f281-1602-4314-bb73-75dafebd44e6.MOBGPVYHRXZ3PFZU.SEARCH&ppt=hp&ppn=homepage&ssid=t7o3907q280000001694347398905&qH=16e35e1c76bc3b93', 'https://www.flipkart.com/redmi-9a-sport-coral-green-32-gb/p/itm53bc6ebfe147b?pid=MOBGHDXFKYSE5TPK&lid=LSTMOBGHDXFKYSE5TPKGHQ4XF&marketplace=FLIPKART&q=redmi+smartphone&store=tyy%2F4io&srno=s_1_12&otracker=search&otracker1=search&fm=organic&iid=1b46f281-1602-4314-bb73-75dafebd44e6.MOBGHDXFKYSE5TPK.SEARCH&ppt=hp&ppn=homepage&ssid=t7o3907q280000001694347398905&qH=16e35e1c76bc3b93', 'https://www.flipkart.com/redmi-6a-blue-16-gb/p/itm1ed294a755383?pid=MOBF9Z2Z3YDBSF6V&lid=LSTMOBF9Z2Z3YDBSF6VX16ZOH&marketplace=FLIPKART&q=redmi+smartphone&store=tyy%2F4io&srno=s_1_13&otracker=search&otracker1=search&fm=organic&iid=1b46f281-1602-4314-bb73-75dafebd44e6.MOBF9Z2Z3YDBSF6V.SEARCH&ppt=hp&ppn=homepage&ssid=t7o3907q280000001694347398905&qH=16e35e1c76bc3b93', 'https://www.flipkart.com/redmi-a2-aqua-blue-32-gb/p/itm5d49be2c0a95a?pid=MOBGPUZR8GHCE5ZQ&lid=LSTMOBGPUZR8GHCE5ZQ1P4DF9&marketplace=FLIPKART&q=redmi+smartphone&store=tyy%2F4io&srno=s_1_14&otracker=search&otracker1=search&fm=organic&iid=1b46f281-1602-4314-bb73-75dafebd44e6.MOBGPUZR8GHCE5ZQ.SEARCH&ppt=hp&ppn=homepage&ssid=t7o3907q280000001694347398905&qH=16e35e1c76bc3b93', 'https://www.flipkart.com/redmi-11-prime-playful-green-128-gb/p/itm0b080e6994972?pid=MOBGZHFGZQMESCDK&lid=LSTMOBGZHFGZQMESCDKZ6ILTE&marketplace=FLIPKART&q=redmi+smartphone&store=tyy%2F4io&srno=s_1_15&otracker=search&otracker1=search&fm=organic&iid=1b46f281-1602-4314-bb73-75dafebd44e6.MOBGZHFGZQMESCDK.SEARCH&ppt=hp&ppn=homepage&ssid=t7o3907q280000001694347398905&qH=16e35e1c76bc3b93', 'https://www.flipkart.com/redmi-a2-sea-green-64-gb/p/itm5d49be2c0a95a?pid=MOBGPVYEHMPGNCBZ&lid=LSTMOBGPVYEHMPGNCBZHUKI4Z&marketplace=FLIPKART&q=redmi+smartphone&store=tyy%2F4io&srno=s_1_16&otracker=search&otracker1=search&fm=organic&iid=1b46f281-1602-4314-bb73-75dafebd44e6.MOBGPVYEHMPGNCBZ.SEARCH&ppt=hp&ppn=homepage&ssid=t7o3907q280000001694347398905&qH=16e35e1c76bc3b93', 'https://www.flipkart.com/redmi-a2-classic-black-64-gb/p/itm5d49be2c0a95a?pid=MOBGRHB6XAEUADQB&lid=LSTMOBGRHB6XAEUADQBAI4AJ4&marketplace=FLIPKART&q=redmi+smartphone&store=tyy%2F4io&srno=s_1_17&otracker=search&otracker1=search&fm=organic&iid=1b46f281-1602-4314-bb73-75dafebd44e6.MOBGRHB6XAEUADQB.SEARCH&ppt=hp&ppn=homepage&ssid=t7o3907q280000001694347398905&qH=16e35e1c76bc3b93', 'https://www.flipkart.com/redmi-a2-sea-green-64-gb/p/itm5d49be2c0a95a?pid=MOBGRHB7GUUZG3QH&lid=LSTMOBGRHB7GUUZG3QHWXCHRR&marketplace=FLIPKART&q=redmi+smartphone&store=tyy%2F4io&srno=s_1_18&otracker=search&otracker1=search&fm=organic&iid=1b46f281-1602-4314-bb73-75dafebd44e6.MOBGRHB7GUUZG3QH.SEARCH&ppt=hp&ppn=homepage&ssid=t7o3907q280000001694347398905&qH=16e35e1c76bc3b93', 'https://www.flipkart.com/redmi-note-12-ice-blue-64-gb/p/itmee415766dfc1a?pid=MOBGNYHZYZ4CNTCM&lid=LSTMOBGNYHZYZ4CNTCMVONB0S&marketplace=FLIPKART&q=redmi+smartphone&store=tyy%2F4io&srno=s_1_19&otracker=search&otracker1=search&fm=organic&iid=1b46f281-1602-4314-bb73-75dafebd44e6.MOBGNYHZYZ4CNTCM.SEARCH&ppt=hp&ppn=homepage&ssid=t7o3907q280000001694347398905&qH=16e35e1c76bc3b93', 'https://www.flipkart.com/redmi-12-5g-jade-black-128-gb/p/itm0c8ba13f6fc5b?pid=MOBGS9QU7QVWUWRD&lid=LSTMOBGS9QU7QVWUWRDCTGYQ5&marketplace=FLIPKART&q=redmi+smartphone&store=tyy%2F4io&srno=s_1_20&otracker=search&otracker1=search&fm=organic&iid=1b46f281-1602-4314-bb73-75dafebd44e6.MOBGS9QU7QVWUWRD.SEARCH&ppt=hp&ppn=homepage&ssid=t7o3907q280000001694347398905&qH=16e35e1c76bc3b93', 'https://www.flipkart.com/redmi-note-12-sunrise-gold-64-gb/p/itm5d170187bcbf0?pid=MOBGNYHZ7ZGHES2V&lid=LSTMOBGNYHZ7ZGHES2VQILAET&marketplace=FLIPKART&q=redmi+smartphone&store=tyy%2F4io&srno=s_1_21&otracker=search&otracker1=search&fm=organic&iid=1b46f281-1602-4314-bb73-75dafebd44e6.MOBGNYHZ7ZGHES2V.SEARCH&ppt=hp&ppn=homepage&ssid=t7o3907q280000001694347398905&qH=16e35e1c76bc3b93', 'https://www.flipkart.com/redmi-12c-lavender-purple-128-gb/p/itm3fe4e598a0358?pid=MOBGZEU9TYHQ8RGE&lid=LSTMOBGZEU9TYHQ8RGEJXEEKD&marketplace=FLIPKART&q=redmi+smartphone&store=tyy%2F4io&srno=s_1_22&otracker=search&otracker1=search&fm=organic&iid=1b46f281-1602-4314-bb73-75dafebd44e6.MOBGZEU9TYHQ8RGE.SEARCH&ppt=hp&ppn=homepage&ssid=t7o3907q280000001694347398905&qH=16e35e1c76bc3b93', 'https://www.flipkart.com/redmi-12c-mint-green-128-gb/p/itm3fe4e598a0358?pid=MOBGZEUDZWSZHYJM&lid=LSTMOBGZEUDZWSZHYJMPU2O1S&marketplace=FLIPKART&q=redmi+smartphone&store=tyy%2F4io&srno=s_1_23&otracker=search&otracker1=search&fm=organic&iid=1b46f281-1602-4314-bb73-75dafebd44e6.MOBGZEUDZWSZHYJM.SEARCH&ppt=hp&ppn=homepage&ssid=t7o3907q280000001694347398905&qH=16e35e1c76bc3b93', 'https://www.flipkart.com/redmi-12c-lavender-purple-64-gb/p/itm3fe4e598a0358?pid=MOBGZEVUSSJ8VGXZ&lid=LSTMOBGZEVUSSJ8VGXZQC5UNR&marketplace=FLIPKART&q=redmi+smartphone&store=tyy%2F4io&srno=s_1_24&otracker=search&otracker1=search&fm=organic&iid=1b46f281-1602-4314-bb73-75dafebd44e6.MOBGZEVUSSJ8VGXZ.SEARCH&ppt=hp&ppn=homepage&ssid=t7o3907q280000001694347398905&qH=16e35e1c76bc3b93']\n",
      "['https://www.flipkart.com/redmi-12-moonstone-silver-128-gb/p/itme52e778c12701?pid=MOBGRMFK2MGRNG4Q&lid=LSTMOBGRMFK2MGRNG4QFZLVXT&marketplace=FLIPKART&q=redmi+smartphone&store=tyy%2F4io&spotlightTagId=BestsellerId_tyy%2F4io&srno=s_1_1&otracker=search&otracker1=search&fm=Search&iid=1b46f281-1602-4314-bb73-75dafebd44e6.MOBGRMFK2MGRNG4Q.SEARCH&ppt=sp&ppn=sp&ssid=t7o3907q280000001694347398905&qH=16e35e1c76bc3b93', 'https://www.flipkart.com/redmi-12-pastel-blue-128-gb/p/itm48719506a7ceb?pid=MOBGRMFKKGYD9ETX&lid=LSTMOBGRMFKKGYD9ETX5KD9VL&marketplace=FLIPKART&q=redmi+smartphone&store=tyy%2F4io&spotlightTagId=BestsellerId_tyy%2F4io&srno=s_1_2&otracker=search&otracker1=search&fm=Search&iid=1b46f281-1602-4314-bb73-75dafebd44e6.MOBGRMFKKGYD9ETX.SEARCH&ppt=sp&ppn=sp&ssid=t7o3907q280000001694347398905&qH=16e35e1c76bc3b93', 'https://www.flipkart.com/redmi-12-jade-black-128-gb/p/itmb7050ec01c09f?pid=MOBGRMFKTHKQSJEG&lid=LSTMOBGRMFKTHKQSJEGQK3FM2&marketplace=FLIPKART&q=redmi+smartphone&store=tyy%2F4io&spotlightTagId=BestsellerId_tyy%2F4io&srno=s_1_3&otracker=search&otracker1=search&fm=organic&iid=1b46f281-1602-4314-bb73-75dafebd44e6.MOBGRMFKTHKQSJEG.SEARCH&ppt=hp&ppn=homepage&ssid=t7o3907q280000001694347398905&qH=16e35e1c76bc3b93', 'https://www.flipkart.com/redmi-11-prime-peppy-purple-128-gb/p/itm52d6b0fe396e9?pid=MOBGZHFGUHYSHQYM&lid=LSTMOBGZHFGUHYSHQYMWGOOJ0&marketplace=FLIPKART&q=redmi+smartphone&store=tyy%2F4io&srno=s_1_4&otracker=search&otracker1=search&fm=organic&iid=1b46f281-1602-4314-bb73-75dafebd44e6.MOBGZHFGUHYSHQYM.SEARCH&ppt=hp&ppn=homepage&ssid=t7o3907q280000001694347398905&qH=16e35e1c76bc3b93', 'https://www.flipkart.com/redmi-12-pastel-blue-128-gb/p/itm9b1a6640faccd?pid=MOBGRMFKAHNTZPWE&lid=LSTMOBGRMFKAHNTZPWE1H5IWS&marketplace=FLIPKART&q=redmi+smartphone&store=tyy%2F4io&srno=s_1_5&otracker=search&otracker1=search&fm=organic&iid=1b46f281-1602-4314-bb73-75dafebd44e6.MOBGRMFKAHNTZPWE.SEARCH&ppt=hp&ppn=homepage&ssid=t7o3907q280000001694347398905&qH=16e35e1c76bc3b93', 'https://www.flipkart.com/redmi-a1-black-32-gb/p/itm70b00a77a7d1d?pid=MOBGGYBABVXHHRDQ&lid=LSTMOBGGYBABVXHHRDQTMWLXJ&marketplace=FLIPKART&q=redmi+smartphone&store=tyy%2F4io&srno=s_1_6&otracker=search&otracker1=search&fm=organic&iid=1b46f281-1602-4314-bb73-75dafebd44e6.MOBGGYBABVXHHRDQ.SEARCH&ppt=hp&ppn=homepage&ssid=t7o3907q280000001694347398905&qH=16e35e1c76bc3b93', 'https://www.flipkart.com/redmi-a1-light-green-32-gb/p/itmecc9e7ba0a1df?pid=MOBGGYBAHSAJVKHP&lid=LSTMOBGGYBAHSAJVKHP4UBD9A&marketplace=FLIPKART&q=redmi+smartphone&store=tyy%2F4io&srno=s_1_7&otracker=search&otracker1=search&fm=organic&iid=1b46f281-1602-4314-bb73-75dafebd44e6.MOBGGYBAHSAJVKHP.SEARCH&ppt=hp&ppn=homepage&ssid=t7o3907q280000001694347398905&qH=16e35e1c76bc3b93', 'https://www.flipkart.com/redmi-a2-aqua-blue-64-gb/p/itm5d49be2c0a95a?pid=MOBGPVYMG9RWX6XY&lid=LSTMOBGPVYMG9RWX6XYNJOQ2B&marketplace=FLIPKART&q=redmi+smartphone&store=tyy%2F4io&srno=s_1_8&otracker=search&otracker1=search&fm=organic&iid=1b46f281-1602-4314-bb73-75dafebd44e6.MOBGPVYMG9RWX6XY.SEARCH&ppt=hp&ppn=homepage&ssid=t7o3907q280000001694347398905&qH=16e35e1c76bc3b93', 'https://www.flipkart.com/redmi-a2-sea-green-32-gb/p/itm5d49be2c0a95a?pid=MOBGPVYATHJDTSSR&lid=LSTMOBGPVYATHJDTSSR6JMF4X&marketplace=FLIPKART&q=redmi+smartphone&store=tyy%2F4io&srno=s_1_9&otracker=search&otracker1=search&fm=organic&iid=1b46f281-1602-4314-bb73-75dafebd44e6.MOBGPVYATHJDTSSR.SEARCH&ppt=hp&ppn=homepage&ssid=t7o3907q280000001694347398905&qH=16e35e1c76bc3b93', 'https://www.flipkart.com/redmi-a2-aqua-blue-64-gb/p/itm5d49be2c0a95a?pid=MOBGR4UZWNAYKSUH&lid=LSTMOBGR4UZWNAYKSUHUXU5WM&marketplace=FLIPKART&q=redmi+smartphone&store=tyy%2F4io&srno=s_1_10&otracker=search&otracker1=search&fm=organic&iid=1b46f281-1602-4314-bb73-75dafebd44e6.MOBGR4UZWNAYKSUH.SEARCH&ppt=hp&ppn=homepage&ssid=t7o3907q280000001694347398905&qH=16e35e1c76bc3b93', 'https://www.flipkart.com/redmi-a2-classic-black-64-gb/p/itm5d49be2c0a95a?pid=MOBGPVYHRXZ3PFZU&lid=LSTMOBGPVYHRXZ3PFZU0QHLLF&marketplace=FLIPKART&q=redmi+smartphone&store=tyy%2F4io&srno=s_1_11&otracker=search&otracker1=search&fm=organic&iid=1b46f281-1602-4314-bb73-75dafebd44e6.MOBGPVYHRXZ3PFZU.SEARCH&ppt=hp&ppn=homepage&ssid=t7o3907q280000001694347398905&qH=16e35e1c76bc3b93', 'https://www.flipkart.com/redmi-9a-sport-coral-green-32-gb/p/itm53bc6ebfe147b?pid=MOBGHDXFKYSE5TPK&lid=LSTMOBGHDXFKYSE5TPKGHQ4XF&marketplace=FLIPKART&q=redmi+smartphone&store=tyy%2F4io&srno=s_1_12&otracker=search&otracker1=search&fm=organic&iid=1b46f281-1602-4314-bb73-75dafebd44e6.MOBGHDXFKYSE5TPK.SEARCH&ppt=hp&ppn=homepage&ssid=t7o3907q280000001694347398905&qH=16e35e1c76bc3b93', 'https://www.flipkart.com/redmi-6a-blue-16-gb/p/itm1ed294a755383?pid=MOBF9Z2Z3YDBSF6V&lid=LSTMOBF9Z2Z3YDBSF6VX16ZOH&marketplace=FLIPKART&q=redmi+smartphone&store=tyy%2F4io&srno=s_1_13&otracker=search&otracker1=search&fm=organic&iid=1b46f281-1602-4314-bb73-75dafebd44e6.MOBF9Z2Z3YDBSF6V.SEARCH&ppt=hp&ppn=homepage&ssid=t7o3907q280000001694347398905&qH=16e35e1c76bc3b93', 'https://www.flipkart.com/redmi-a2-aqua-blue-32-gb/p/itm5d49be2c0a95a?pid=MOBGPUZR8GHCE5ZQ&lid=LSTMOBGPUZR8GHCE5ZQ1P4DF9&marketplace=FLIPKART&q=redmi+smartphone&store=tyy%2F4io&srno=s_1_14&otracker=search&otracker1=search&fm=organic&iid=1b46f281-1602-4314-bb73-75dafebd44e6.MOBGPUZR8GHCE5ZQ.SEARCH&ppt=hp&ppn=homepage&ssid=t7o3907q280000001694347398905&qH=16e35e1c76bc3b93', 'https://www.flipkart.com/redmi-11-prime-playful-green-128-gb/p/itm0b080e6994972?pid=MOBGZHFGZQMESCDK&lid=LSTMOBGZHFGZQMESCDKZ6ILTE&marketplace=FLIPKART&q=redmi+smartphone&store=tyy%2F4io&srno=s_1_15&otracker=search&otracker1=search&fm=organic&iid=1b46f281-1602-4314-bb73-75dafebd44e6.MOBGZHFGZQMESCDK.SEARCH&ppt=hp&ppn=homepage&ssid=t7o3907q280000001694347398905&qH=16e35e1c76bc3b93', 'https://www.flipkart.com/redmi-a2-sea-green-64-gb/p/itm5d49be2c0a95a?pid=MOBGPVYEHMPGNCBZ&lid=LSTMOBGPVYEHMPGNCBZHUKI4Z&marketplace=FLIPKART&q=redmi+smartphone&store=tyy%2F4io&srno=s_1_16&otracker=search&otracker1=search&fm=organic&iid=1b46f281-1602-4314-bb73-75dafebd44e6.MOBGPVYEHMPGNCBZ.SEARCH&ppt=hp&ppn=homepage&ssid=t7o3907q280000001694347398905&qH=16e35e1c76bc3b93', 'https://www.flipkart.com/redmi-a2-classic-black-64-gb/p/itm5d49be2c0a95a?pid=MOBGRHB6XAEUADQB&lid=LSTMOBGRHB6XAEUADQBAI4AJ4&marketplace=FLIPKART&q=redmi+smartphone&store=tyy%2F4io&srno=s_1_17&otracker=search&otracker1=search&fm=organic&iid=1b46f281-1602-4314-bb73-75dafebd44e6.MOBGRHB6XAEUADQB.SEARCH&ppt=hp&ppn=homepage&ssid=t7o3907q280000001694347398905&qH=16e35e1c76bc3b93', 'https://www.flipkart.com/redmi-a2-sea-green-64-gb/p/itm5d49be2c0a95a?pid=MOBGRHB7GUUZG3QH&lid=LSTMOBGRHB7GUUZG3QHWXCHRR&marketplace=FLIPKART&q=redmi+smartphone&store=tyy%2F4io&srno=s_1_18&otracker=search&otracker1=search&fm=organic&iid=1b46f281-1602-4314-bb73-75dafebd44e6.MOBGRHB7GUUZG3QH.SEARCH&ppt=hp&ppn=homepage&ssid=t7o3907q280000001694347398905&qH=16e35e1c76bc3b93', 'https://www.flipkart.com/redmi-note-12-ice-blue-64-gb/p/itmee415766dfc1a?pid=MOBGNYHZYZ4CNTCM&lid=LSTMOBGNYHZYZ4CNTCMVONB0S&marketplace=FLIPKART&q=redmi+smartphone&store=tyy%2F4io&srno=s_1_19&otracker=search&otracker1=search&fm=organic&iid=1b46f281-1602-4314-bb73-75dafebd44e6.MOBGNYHZYZ4CNTCM.SEARCH&ppt=hp&ppn=homepage&ssid=t7o3907q280000001694347398905&qH=16e35e1c76bc3b93', 'https://www.flipkart.com/redmi-12-5g-jade-black-128-gb/p/itm0c8ba13f6fc5b?pid=MOBGS9QU7QVWUWRD&lid=LSTMOBGS9QU7QVWUWRDCTGYQ5&marketplace=FLIPKART&q=redmi+smartphone&store=tyy%2F4io&srno=s_1_20&otracker=search&otracker1=search&fm=organic&iid=1b46f281-1602-4314-bb73-75dafebd44e6.MOBGS9QU7QVWUWRD.SEARCH&ppt=hp&ppn=homepage&ssid=t7o3907q280000001694347398905&qH=16e35e1c76bc3b93', 'https://www.flipkart.com/redmi-note-12-sunrise-gold-64-gb/p/itm5d170187bcbf0?pid=MOBGNYHZ7ZGHES2V&lid=LSTMOBGNYHZ7ZGHES2VQILAET&marketplace=FLIPKART&q=redmi+smartphone&store=tyy%2F4io&srno=s_1_21&otracker=search&otracker1=search&fm=organic&iid=1b46f281-1602-4314-bb73-75dafebd44e6.MOBGNYHZ7ZGHES2V.SEARCH&ppt=hp&ppn=homepage&ssid=t7o3907q280000001694347398905&qH=16e35e1c76bc3b93', 'https://www.flipkart.com/redmi-12c-lavender-purple-128-gb/p/itm3fe4e598a0358?pid=MOBGZEU9TYHQ8RGE&lid=LSTMOBGZEU9TYHQ8RGEJXEEKD&marketplace=FLIPKART&q=redmi+smartphone&store=tyy%2F4io&srno=s_1_22&otracker=search&otracker1=search&fm=organic&iid=1b46f281-1602-4314-bb73-75dafebd44e6.MOBGZEU9TYHQ8RGE.SEARCH&ppt=hp&ppn=homepage&ssid=t7o3907q280000001694347398905&qH=16e35e1c76bc3b93', 'https://www.flipkart.com/redmi-12c-mint-green-128-gb/p/itm3fe4e598a0358?pid=MOBGZEUDZWSZHYJM&lid=LSTMOBGZEUDZWSZHYJMPU2O1S&marketplace=FLIPKART&q=redmi+smartphone&store=tyy%2F4io&srno=s_1_23&otracker=search&otracker1=search&fm=organic&iid=1b46f281-1602-4314-bb73-75dafebd44e6.MOBGZEUDZWSZHYJM.SEARCH&ppt=hp&ppn=homepage&ssid=t7o3907q280000001694347398905&qH=16e35e1c76bc3b93', 'https://www.flipkart.com/redmi-12c-lavender-purple-64-gb/p/itm3fe4e598a0358?pid=MOBGZEVUSSJ8VGXZ&lid=LSTMOBGZEVUSSJ8VGXZQC5UNR&marketplace=FLIPKART&q=redmi+smartphone&store=tyy%2F4io&srno=s_1_24&otracker=search&otracker1=search&fm=organic&iid=1b46f281-1602-4314-bb73-75dafebd44e6.MOBGZEVUSSJ8VGXZ.SEARCH&ppt=hp&ppn=homepage&ssid=t7o3907q280000001694347398905&qH=16e35e1c76bc3b93']\n"
     ]
    },
    {
     "name": "stdout",
     "output_type": "stream",
     "text": [
      "['https://www.flipkart.com/redmi-12-moonstone-silver-128-gb/p/itme52e778c12701?pid=MOBGRMFK2MGRNG4Q&lid=LSTMOBGRMFK2MGRNG4QFZLVXT&marketplace=FLIPKART&q=redmi+smartphone&store=tyy%2F4io&spotlightTagId=BestsellerId_tyy%2F4io&srno=s_1_1&otracker=search&otracker1=search&fm=Search&iid=1b46f281-1602-4314-bb73-75dafebd44e6.MOBGRMFK2MGRNG4Q.SEARCH&ppt=sp&ppn=sp&ssid=t7o3907q280000001694347398905&qH=16e35e1c76bc3b93', 'https://www.flipkart.com/redmi-12-pastel-blue-128-gb/p/itm48719506a7ceb?pid=MOBGRMFKKGYD9ETX&lid=LSTMOBGRMFKKGYD9ETX5KD9VL&marketplace=FLIPKART&q=redmi+smartphone&store=tyy%2F4io&spotlightTagId=BestsellerId_tyy%2F4io&srno=s_1_2&otracker=search&otracker1=search&fm=Search&iid=1b46f281-1602-4314-bb73-75dafebd44e6.MOBGRMFKKGYD9ETX.SEARCH&ppt=sp&ppn=sp&ssid=t7o3907q280000001694347398905&qH=16e35e1c76bc3b93', 'https://www.flipkart.com/redmi-12-jade-black-128-gb/p/itmb7050ec01c09f?pid=MOBGRMFKTHKQSJEG&lid=LSTMOBGRMFKTHKQSJEGQK3FM2&marketplace=FLIPKART&q=redmi+smartphone&store=tyy%2F4io&spotlightTagId=BestsellerId_tyy%2F4io&srno=s_1_3&otracker=search&otracker1=search&fm=organic&iid=1b46f281-1602-4314-bb73-75dafebd44e6.MOBGRMFKTHKQSJEG.SEARCH&ppt=hp&ppn=homepage&ssid=t7o3907q280000001694347398905&qH=16e35e1c76bc3b93', 'https://www.flipkart.com/redmi-11-prime-peppy-purple-128-gb/p/itm52d6b0fe396e9?pid=MOBGZHFGUHYSHQYM&lid=LSTMOBGZHFGUHYSHQYMWGOOJ0&marketplace=FLIPKART&q=redmi+smartphone&store=tyy%2F4io&srno=s_1_4&otracker=search&otracker1=search&fm=organic&iid=1b46f281-1602-4314-bb73-75dafebd44e6.MOBGZHFGUHYSHQYM.SEARCH&ppt=hp&ppn=homepage&ssid=t7o3907q280000001694347398905&qH=16e35e1c76bc3b93', 'https://www.flipkart.com/redmi-12-pastel-blue-128-gb/p/itm9b1a6640faccd?pid=MOBGRMFKAHNTZPWE&lid=LSTMOBGRMFKAHNTZPWE1H5IWS&marketplace=FLIPKART&q=redmi+smartphone&store=tyy%2F4io&srno=s_1_5&otracker=search&otracker1=search&fm=organic&iid=1b46f281-1602-4314-bb73-75dafebd44e6.MOBGRMFKAHNTZPWE.SEARCH&ppt=hp&ppn=homepage&ssid=t7o3907q280000001694347398905&qH=16e35e1c76bc3b93', 'https://www.flipkart.com/redmi-a1-black-32-gb/p/itm70b00a77a7d1d?pid=MOBGGYBABVXHHRDQ&lid=LSTMOBGGYBABVXHHRDQTMWLXJ&marketplace=FLIPKART&q=redmi+smartphone&store=tyy%2F4io&srno=s_1_6&otracker=search&otracker1=search&fm=organic&iid=1b46f281-1602-4314-bb73-75dafebd44e6.MOBGGYBABVXHHRDQ.SEARCH&ppt=hp&ppn=homepage&ssid=t7o3907q280000001694347398905&qH=16e35e1c76bc3b93', 'https://www.flipkart.com/redmi-a1-light-green-32-gb/p/itmecc9e7ba0a1df?pid=MOBGGYBAHSAJVKHP&lid=LSTMOBGGYBAHSAJVKHP4UBD9A&marketplace=FLIPKART&q=redmi+smartphone&store=tyy%2F4io&srno=s_1_7&otracker=search&otracker1=search&fm=organic&iid=1b46f281-1602-4314-bb73-75dafebd44e6.MOBGGYBAHSAJVKHP.SEARCH&ppt=hp&ppn=homepage&ssid=t7o3907q280000001694347398905&qH=16e35e1c76bc3b93', 'https://www.flipkart.com/redmi-a2-aqua-blue-64-gb/p/itm5d49be2c0a95a?pid=MOBGPVYMG9RWX6XY&lid=LSTMOBGPVYMG9RWX6XYNJOQ2B&marketplace=FLIPKART&q=redmi+smartphone&store=tyy%2F4io&srno=s_1_8&otracker=search&otracker1=search&fm=organic&iid=1b46f281-1602-4314-bb73-75dafebd44e6.MOBGPVYMG9RWX6XY.SEARCH&ppt=hp&ppn=homepage&ssid=t7o3907q280000001694347398905&qH=16e35e1c76bc3b93', 'https://www.flipkart.com/redmi-a2-sea-green-32-gb/p/itm5d49be2c0a95a?pid=MOBGPVYATHJDTSSR&lid=LSTMOBGPVYATHJDTSSR6JMF4X&marketplace=FLIPKART&q=redmi+smartphone&store=tyy%2F4io&srno=s_1_9&otracker=search&otracker1=search&fm=organic&iid=1b46f281-1602-4314-bb73-75dafebd44e6.MOBGPVYATHJDTSSR.SEARCH&ppt=hp&ppn=homepage&ssid=t7o3907q280000001694347398905&qH=16e35e1c76bc3b93', 'https://www.flipkart.com/redmi-a2-aqua-blue-64-gb/p/itm5d49be2c0a95a?pid=MOBGR4UZWNAYKSUH&lid=LSTMOBGR4UZWNAYKSUHUXU5WM&marketplace=FLIPKART&q=redmi+smartphone&store=tyy%2F4io&srno=s_1_10&otracker=search&otracker1=search&fm=organic&iid=1b46f281-1602-4314-bb73-75dafebd44e6.MOBGR4UZWNAYKSUH.SEARCH&ppt=hp&ppn=homepage&ssid=t7o3907q280000001694347398905&qH=16e35e1c76bc3b93', 'https://www.flipkart.com/redmi-a2-classic-black-64-gb/p/itm5d49be2c0a95a?pid=MOBGPVYHRXZ3PFZU&lid=LSTMOBGPVYHRXZ3PFZU0QHLLF&marketplace=FLIPKART&q=redmi+smartphone&store=tyy%2F4io&srno=s_1_11&otracker=search&otracker1=search&fm=organic&iid=1b46f281-1602-4314-bb73-75dafebd44e6.MOBGPVYHRXZ3PFZU.SEARCH&ppt=hp&ppn=homepage&ssid=t7o3907q280000001694347398905&qH=16e35e1c76bc3b93', 'https://www.flipkart.com/redmi-9a-sport-coral-green-32-gb/p/itm53bc6ebfe147b?pid=MOBGHDXFKYSE5TPK&lid=LSTMOBGHDXFKYSE5TPKGHQ4XF&marketplace=FLIPKART&q=redmi+smartphone&store=tyy%2F4io&srno=s_1_12&otracker=search&otracker1=search&fm=organic&iid=1b46f281-1602-4314-bb73-75dafebd44e6.MOBGHDXFKYSE5TPK.SEARCH&ppt=hp&ppn=homepage&ssid=t7o3907q280000001694347398905&qH=16e35e1c76bc3b93', 'https://www.flipkart.com/redmi-6a-blue-16-gb/p/itm1ed294a755383?pid=MOBF9Z2Z3YDBSF6V&lid=LSTMOBF9Z2Z3YDBSF6VX16ZOH&marketplace=FLIPKART&q=redmi+smartphone&store=tyy%2F4io&srno=s_1_13&otracker=search&otracker1=search&fm=organic&iid=1b46f281-1602-4314-bb73-75dafebd44e6.MOBF9Z2Z3YDBSF6V.SEARCH&ppt=hp&ppn=homepage&ssid=t7o3907q280000001694347398905&qH=16e35e1c76bc3b93', 'https://www.flipkart.com/redmi-a2-aqua-blue-32-gb/p/itm5d49be2c0a95a?pid=MOBGPUZR8GHCE5ZQ&lid=LSTMOBGPUZR8GHCE5ZQ1P4DF9&marketplace=FLIPKART&q=redmi+smartphone&store=tyy%2F4io&srno=s_1_14&otracker=search&otracker1=search&fm=organic&iid=1b46f281-1602-4314-bb73-75dafebd44e6.MOBGPUZR8GHCE5ZQ.SEARCH&ppt=hp&ppn=homepage&ssid=t7o3907q280000001694347398905&qH=16e35e1c76bc3b93', 'https://www.flipkart.com/redmi-11-prime-playful-green-128-gb/p/itm0b080e6994972?pid=MOBGZHFGZQMESCDK&lid=LSTMOBGZHFGZQMESCDKZ6ILTE&marketplace=FLIPKART&q=redmi+smartphone&store=tyy%2F4io&srno=s_1_15&otracker=search&otracker1=search&fm=organic&iid=1b46f281-1602-4314-bb73-75dafebd44e6.MOBGZHFGZQMESCDK.SEARCH&ppt=hp&ppn=homepage&ssid=t7o3907q280000001694347398905&qH=16e35e1c76bc3b93', 'https://www.flipkart.com/redmi-a2-sea-green-64-gb/p/itm5d49be2c0a95a?pid=MOBGPVYEHMPGNCBZ&lid=LSTMOBGPVYEHMPGNCBZHUKI4Z&marketplace=FLIPKART&q=redmi+smartphone&store=tyy%2F4io&srno=s_1_16&otracker=search&otracker1=search&fm=organic&iid=1b46f281-1602-4314-bb73-75dafebd44e6.MOBGPVYEHMPGNCBZ.SEARCH&ppt=hp&ppn=homepage&ssid=t7o3907q280000001694347398905&qH=16e35e1c76bc3b93', 'https://www.flipkart.com/redmi-a2-classic-black-64-gb/p/itm5d49be2c0a95a?pid=MOBGRHB6XAEUADQB&lid=LSTMOBGRHB6XAEUADQBAI4AJ4&marketplace=FLIPKART&q=redmi+smartphone&store=tyy%2F4io&srno=s_1_17&otracker=search&otracker1=search&fm=organic&iid=1b46f281-1602-4314-bb73-75dafebd44e6.MOBGRHB6XAEUADQB.SEARCH&ppt=hp&ppn=homepage&ssid=t7o3907q280000001694347398905&qH=16e35e1c76bc3b93', 'https://www.flipkart.com/redmi-a2-sea-green-64-gb/p/itm5d49be2c0a95a?pid=MOBGRHB7GUUZG3QH&lid=LSTMOBGRHB7GUUZG3QHWXCHRR&marketplace=FLIPKART&q=redmi+smartphone&store=tyy%2F4io&srno=s_1_18&otracker=search&otracker1=search&fm=organic&iid=1b46f281-1602-4314-bb73-75dafebd44e6.MOBGRHB7GUUZG3QH.SEARCH&ppt=hp&ppn=homepage&ssid=t7o3907q280000001694347398905&qH=16e35e1c76bc3b93', 'https://www.flipkart.com/redmi-note-12-ice-blue-64-gb/p/itmee415766dfc1a?pid=MOBGNYHZYZ4CNTCM&lid=LSTMOBGNYHZYZ4CNTCMVONB0S&marketplace=FLIPKART&q=redmi+smartphone&store=tyy%2F4io&srno=s_1_19&otracker=search&otracker1=search&fm=organic&iid=1b46f281-1602-4314-bb73-75dafebd44e6.MOBGNYHZYZ4CNTCM.SEARCH&ppt=hp&ppn=homepage&ssid=t7o3907q280000001694347398905&qH=16e35e1c76bc3b93', 'https://www.flipkart.com/redmi-12-5g-jade-black-128-gb/p/itm0c8ba13f6fc5b?pid=MOBGS9QU7QVWUWRD&lid=LSTMOBGS9QU7QVWUWRDCTGYQ5&marketplace=FLIPKART&q=redmi+smartphone&store=tyy%2F4io&srno=s_1_20&otracker=search&otracker1=search&fm=organic&iid=1b46f281-1602-4314-bb73-75dafebd44e6.MOBGS9QU7QVWUWRD.SEARCH&ppt=hp&ppn=homepage&ssid=t7o3907q280000001694347398905&qH=16e35e1c76bc3b93', 'https://www.flipkart.com/redmi-note-12-sunrise-gold-64-gb/p/itm5d170187bcbf0?pid=MOBGNYHZ7ZGHES2V&lid=LSTMOBGNYHZ7ZGHES2VQILAET&marketplace=FLIPKART&q=redmi+smartphone&store=tyy%2F4io&srno=s_1_21&otracker=search&otracker1=search&fm=organic&iid=1b46f281-1602-4314-bb73-75dafebd44e6.MOBGNYHZ7ZGHES2V.SEARCH&ppt=hp&ppn=homepage&ssid=t7o3907q280000001694347398905&qH=16e35e1c76bc3b93', 'https://www.flipkart.com/redmi-12c-lavender-purple-128-gb/p/itm3fe4e598a0358?pid=MOBGZEU9TYHQ8RGE&lid=LSTMOBGZEU9TYHQ8RGEJXEEKD&marketplace=FLIPKART&q=redmi+smartphone&store=tyy%2F4io&srno=s_1_22&otracker=search&otracker1=search&fm=organic&iid=1b46f281-1602-4314-bb73-75dafebd44e6.MOBGZEU9TYHQ8RGE.SEARCH&ppt=hp&ppn=homepage&ssid=t7o3907q280000001694347398905&qH=16e35e1c76bc3b93', 'https://www.flipkart.com/redmi-12c-mint-green-128-gb/p/itm3fe4e598a0358?pid=MOBGZEUDZWSZHYJM&lid=LSTMOBGZEUDZWSZHYJMPU2O1S&marketplace=FLIPKART&q=redmi+smartphone&store=tyy%2F4io&srno=s_1_23&otracker=search&otracker1=search&fm=organic&iid=1b46f281-1602-4314-bb73-75dafebd44e6.MOBGZEUDZWSZHYJM.SEARCH&ppt=hp&ppn=homepage&ssid=t7o3907q280000001694347398905&qH=16e35e1c76bc3b93', 'https://www.flipkart.com/redmi-12c-lavender-purple-64-gb/p/itm3fe4e598a0358?pid=MOBGZEVUSSJ8VGXZ&lid=LSTMOBGZEVUSSJ8VGXZQC5UNR&marketplace=FLIPKART&q=redmi+smartphone&store=tyy%2F4io&srno=s_1_24&otracker=search&otracker1=search&fm=organic&iid=1b46f281-1602-4314-bb73-75dafebd44e6.MOBGZEVUSSJ8VGXZ.SEARCH&ppt=hp&ppn=homepage&ssid=t7o3907q280000001694347398905&qH=16e35e1c76bc3b93']\n",
      "['https://www.flipkart.com/redmi-12-moonstone-silver-128-gb/p/itme52e778c12701?pid=MOBGRMFK2MGRNG4Q&lid=LSTMOBGRMFK2MGRNG4QFZLVXT&marketplace=FLIPKART&q=redmi+smartphone&store=tyy%2F4io&spotlightTagId=BestsellerId_tyy%2F4io&srno=s_1_1&otracker=search&otracker1=search&fm=Search&iid=1b46f281-1602-4314-bb73-75dafebd44e6.MOBGRMFK2MGRNG4Q.SEARCH&ppt=sp&ppn=sp&ssid=t7o3907q280000001694347398905&qH=16e35e1c76bc3b93', 'https://www.flipkart.com/redmi-12-pastel-blue-128-gb/p/itm48719506a7ceb?pid=MOBGRMFKKGYD9ETX&lid=LSTMOBGRMFKKGYD9ETX5KD9VL&marketplace=FLIPKART&q=redmi+smartphone&store=tyy%2F4io&spotlightTagId=BestsellerId_tyy%2F4io&srno=s_1_2&otracker=search&otracker1=search&fm=Search&iid=1b46f281-1602-4314-bb73-75dafebd44e6.MOBGRMFKKGYD9ETX.SEARCH&ppt=sp&ppn=sp&ssid=t7o3907q280000001694347398905&qH=16e35e1c76bc3b93', 'https://www.flipkart.com/redmi-12-jade-black-128-gb/p/itmb7050ec01c09f?pid=MOBGRMFKTHKQSJEG&lid=LSTMOBGRMFKTHKQSJEGQK3FM2&marketplace=FLIPKART&q=redmi+smartphone&store=tyy%2F4io&spotlightTagId=BestsellerId_tyy%2F4io&srno=s_1_3&otracker=search&otracker1=search&fm=organic&iid=1b46f281-1602-4314-bb73-75dafebd44e6.MOBGRMFKTHKQSJEG.SEARCH&ppt=hp&ppn=homepage&ssid=t7o3907q280000001694347398905&qH=16e35e1c76bc3b93', 'https://www.flipkart.com/redmi-11-prime-peppy-purple-128-gb/p/itm52d6b0fe396e9?pid=MOBGZHFGUHYSHQYM&lid=LSTMOBGZHFGUHYSHQYMWGOOJ0&marketplace=FLIPKART&q=redmi+smartphone&store=tyy%2F4io&srno=s_1_4&otracker=search&otracker1=search&fm=organic&iid=1b46f281-1602-4314-bb73-75dafebd44e6.MOBGZHFGUHYSHQYM.SEARCH&ppt=hp&ppn=homepage&ssid=t7o3907q280000001694347398905&qH=16e35e1c76bc3b93', 'https://www.flipkart.com/redmi-12-pastel-blue-128-gb/p/itm9b1a6640faccd?pid=MOBGRMFKAHNTZPWE&lid=LSTMOBGRMFKAHNTZPWE1H5IWS&marketplace=FLIPKART&q=redmi+smartphone&store=tyy%2F4io&srno=s_1_5&otracker=search&otracker1=search&fm=organic&iid=1b46f281-1602-4314-bb73-75dafebd44e6.MOBGRMFKAHNTZPWE.SEARCH&ppt=hp&ppn=homepage&ssid=t7o3907q280000001694347398905&qH=16e35e1c76bc3b93', 'https://www.flipkart.com/redmi-a1-black-32-gb/p/itm70b00a77a7d1d?pid=MOBGGYBABVXHHRDQ&lid=LSTMOBGGYBABVXHHRDQTMWLXJ&marketplace=FLIPKART&q=redmi+smartphone&store=tyy%2F4io&srno=s_1_6&otracker=search&otracker1=search&fm=organic&iid=1b46f281-1602-4314-bb73-75dafebd44e6.MOBGGYBABVXHHRDQ.SEARCH&ppt=hp&ppn=homepage&ssid=t7o3907q280000001694347398905&qH=16e35e1c76bc3b93', 'https://www.flipkart.com/redmi-a1-light-green-32-gb/p/itmecc9e7ba0a1df?pid=MOBGGYBAHSAJVKHP&lid=LSTMOBGGYBAHSAJVKHP4UBD9A&marketplace=FLIPKART&q=redmi+smartphone&store=tyy%2F4io&srno=s_1_7&otracker=search&otracker1=search&fm=organic&iid=1b46f281-1602-4314-bb73-75dafebd44e6.MOBGGYBAHSAJVKHP.SEARCH&ppt=hp&ppn=homepage&ssid=t7o3907q280000001694347398905&qH=16e35e1c76bc3b93', 'https://www.flipkart.com/redmi-a2-aqua-blue-64-gb/p/itm5d49be2c0a95a?pid=MOBGPVYMG9RWX6XY&lid=LSTMOBGPVYMG9RWX6XYNJOQ2B&marketplace=FLIPKART&q=redmi+smartphone&store=tyy%2F4io&srno=s_1_8&otracker=search&otracker1=search&fm=organic&iid=1b46f281-1602-4314-bb73-75dafebd44e6.MOBGPVYMG9RWX6XY.SEARCH&ppt=hp&ppn=homepage&ssid=t7o3907q280000001694347398905&qH=16e35e1c76bc3b93', 'https://www.flipkart.com/redmi-a2-sea-green-32-gb/p/itm5d49be2c0a95a?pid=MOBGPVYATHJDTSSR&lid=LSTMOBGPVYATHJDTSSR6JMF4X&marketplace=FLIPKART&q=redmi+smartphone&store=tyy%2F4io&srno=s_1_9&otracker=search&otracker1=search&fm=organic&iid=1b46f281-1602-4314-bb73-75dafebd44e6.MOBGPVYATHJDTSSR.SEARCH&ppt=hp&ppn=homepage&ssid=t7o3907q280000001694347398905&qH=16e35e1c76bc3b93', 'https://www.flipkart.com/redmi-a2-aqua-blue-64-gb/p/itm5d49be2c0a95a?pid=MOBGR4UZWNAYKSUH&lid=LSTMOBGR4UZWNAYKSUHUXU5WM&marketplace=FLIPKART&q=redmi+smartphone&store=tyy%2F4io&srno=s_1_10&otracker=search&otracker1=search&fm=organic&iid=1b46f281-1602-4314-bb73-75dafebd44e6.MOBGR4UZWNAYKSUH.SEARCH&ppt=hp&ppn=homepage&ssid=t7o3907q280000001694347398905&qH=16e35e1c76bc3b93', 'https://www.flipkart.com/redmi-a2-classic-black-64-gb/p/itm5d49be2c0a95a?pid=MOBGPVYHRXZ3PFZU&lid=LSTMOBGPVYHRXZ3PFZU0QHLLF&marketplace=FLIPKART&q=redmi+smartphone&store=tyy%2F4io&srno=s_1_11&otracker=search&otracker1=search&fm=organic&iid=1b46f281-1602-4314-bb73-75dafebd44e6.MOBGPVYHRXZ3PFZU.SEARCH&ppt=hp&ppn=homepage&ssid=t7o3907q280000001694347398905&qH=16e35e1c76bc3b93', 'https://www.flipkart.com/redmi-9a-sport-coral-green-32-gb/p/itm53bc6ebfe147b?pid=MOBGHDXFKYSE5TPK&lid=LSTMOBGHDXFKYSE5TPKGHQ4XF&marketplace=FLIPKART&q=redmi+smartphone&store=tyy%2F4io&srno=s_1_12&otracker=search&otracker1=search&fm=organic&iid=1b46f281-1602-4314-bb73-75dafebd44e6.MOBGHDXFKYSE5TPK.SEARCH&ppt=hp&ppn=homepage&ssid=t7o3907q280000001694347398905&qH=16e35e1c76bc3b93', 'https://www.flipkart.com/redmi-6a-blue-16-gb/p/itm1ed294a755383?pid=MOBF9Z2Z3YDBSF6V&lid=LSTMOBF9Z2Z3YDBSF6VX16ZOH&marketplace=FLIPKART&q=redmi+smartphone&store=tyy%2F4io&srno=s_1_13&otracker=search&otracker1=search&fm=organic&iid=1b46f281-1602-4314-bb73-75dafebd44e6.MOBF9Z2Z3YDBSF6V.SEARCH&ppt=hp&ppn=homepage&ssid=t7o3907q280000001694347398905&qH=16e35e1c76bc3b93', 'https://www.flipkart.com/redmi-a2-aqua-blue-32-gb/p/itm5d49be2c0a95a?pid=MOBGPUZR8GHCE5ZQ&lid=LSTMOBGPUZR8GHCE5ZQ1P4DF9&marketplace=FLIPKART&q=redmi+smartphone&store=tyy%2F4io&srno=s_1_14&otracker=search&otracker1=search&fm=organic&iid=1b46f281-1602-4314-bb73-75dafebd44e6.MOBGPUZR8GHCE5ZQ.SEARCH&ppt=hp&ppn=homepage&ssid=t7o3907q280000001694347398905&qH=16e35e1c76bc3b93', 'https://www.flipkart.com/redmi-11-prime-playful-green-128-gb/p/itm0b080e6994972?pid=MOBGZHFGZQMESCDK&lid=LSTMOBGZHFGZQMESCDKZ6ILTE&marketplace=FLIPKART&q=redmi+smartphone&store=tyy%2F4io&srno=s_1_15&otracker=search&otracker1=search&fm=organic&iid=1b46f281-1602-4314-bb73-75dafebd44e6.MOBGZHFGZQMESCDK.SEARCH&ppt=hp&ppn=homepage&ssid=t7o3907q280000001694347398905&qH=16e35e1c76bc3b93', 'https://www.flipkart.com/redmi-a2-sea-green-64-gb/p/itm5d49be2c0a95a?pid=MOBGPVYEHMPGNCBZ&lid=LSTMOBGPVYEHMPGNCBZHUKI4Z&marketplace=FLIPKART&q=redmi+smartphone&store=tyy%2F4io&srno=s_1_16&otracker=search&otracker1=search&fm=organic&iid=1b46f281-1602-4314-bb73-75dafebd44e6.MOBGPVYEHMPGNCBZ.SEARCH&ppt=hp&ppn=homepage&ssid=t7o3907q280000001694347398905&qH=16e35e1c76bc3b93', 'https://www.flipkart.com/redmi-a2-classic-black-64-gb/p/itm5d49be2c0a95a?pid=MOBGRHB6XAEUADQB&lid=LSTMOBGRHB6XAEUADQBAI4AJ4&marketplace=FLIPKART&q=redmi+smartphone&store=tyy%2F4io&srno=s_1_17&otracker=search&otracker1=search&fm=organic&iid=1b46f281-1602-4314-bb73-75dafebd44e6.MOBGRHB6XAEUADQB.SEARCH&ppt=hp&ppn=homepage&ssid=t7o3907q280000001694347398905&qH=16e35e1c76bc3b93', 'https://www.flipkart.com/redmi-a2-sea-green-64-gb/p/itm5d49be2c0a95a?pid=MOBGRHB7GUUZG3QH&lid=LSTMOBGRHB7GUUZG3QHWXCHRR&marketplace=FLIPKART&q=redmi+smartphone&store=tyy%2F4io&srno=s_1_18&otracker=search&otracker1=search&fm=organic&iid=1b46f281-1602-4314-bb73-75dafebd44e6.MOBGRHB7GUUZG3QH.SEARCH&ppt=hp&ppn=homepage&ssid=t7o3907q280000001694347398905&qH=16e35e1c76bc3b93', 'https://www.flipkart.com/redmi-note-12-ice-blue-64-gb/p/itmee415766dfc1a?pid=MOBGNYHZYZ4CNTCM&lid=LSTMOBGNYHZYZ4CNTCMVONB0S&marketplace=FLIPKART&q=redmi+smartphone&store=tyy%2F4io&srno=s_1_19&otracker=search&otracker1=search&fm=organic&iid=1b46f281-1602-4314-bb73-75dafebd44e6.MOBGNYHZYZ4CNTCM.SEARCH&ppt=hp&ppn=homepage&ssid=t7o3907q280000001694347398905&qH=16e35e1c76bc3b93', 'https://www.flipkart.com/redmi-12-5g-jade-black-128-gb/p/itm0c8ba13f6fc5b?pid=MOBGS9QU7QVWUWRD&lid=LSTMOBGS9QU7QVWUWRDCTGYQ5&marketplace=FLIPKART&q=redmi+smartphone&store=tyy%2F4io&srno=s_1_20&otracker=search&otracker1=search&fm=organic&iid=1b46f281-1602-4314-bb73-75dafebd44e6.MOBGS9QU7QVWUWRD.SEARCH&ppt=hp&ppn=homepage&ssid=t7o3907q280000001694347398905&qH=16e35e1c76bc3b93', 'https://www.flipkart.com/redmi-note-12-sunrise-gold-64-gb/p/itm5d170187bcbf0?pid=MOBGNYHZ7ZGHES2V&lid=LSTMOBGNYHZ7ZGHES2VQILAET&marketplace=FLIPKART&q=redmi+smartphone&store=tyy%2F4io&srno=s_1_21&otracker=search&otracker1=search&fm=organic&iid=1b46f281-1602-4314-bb73-75dafebd44e6.MOBGNYHZ7ZGHES2V.SEARCH&ppt=hp&ppn=homepage&ssid=t7o3907q280000001694347398905&qH=16e35e1c76bc3b93', 'https://www.flipkart.com/redmi-12c-lavender-purple-128-gb/p/itm3fe4e598a0358?pid=MOBGZEU9TYHQ8RGE&lid=LSTMOBGZEU9TYHQ8RGEJXEEKD&marketplace=FLIPKART&q=redmi+smartphone&store=tyy%2F4io&srno=s_1_22&otracker=search&otracker1=search&fm=organic&iid=1b46f281-1602-4314-bb73-75dafebd44e6.MOBGZEU9TYHQ8RGE.SEARCH&ppt=hp&ppn=homepage&ssid=t7o3907q280000001694347398905&qH=16e35e1c76bc3b93', 'https://www.flipkart.com/redmi-12c-mint-green-128-gb/p/itm3fe4e598a0358?pid=MOBGZEUDZWSZHYJM&lid=LSTMOBGZEUDZWSZHYJMPU2O1S&marketplace=FLIPKART&q=redmi+smartphone&store=tyy%2F4io&srno=s_1_23&otracker=search&otracker1=search&fm=organic&iid=1b46f281-1602-4314-bb73-75dafebd44e6.MOBGZEUDZWSZHYJM.SEARCH&ppt=hp&ppn=homepage&ssid=t7o3907q280000001694347398905&qH=16e35e1c76bc3b93', 'https://www.flipkart.com/redmi-12c-lavender-purple-64-gb/p/itm3fe4e598a0358?pid=MOBGZEVUSSJ8VGXZ&lid=LSTMOBGZEVUSSJ8VGXZQC5UNR&marketplace=FLIPKART&q=redmi+smartphone&store=tyy%2F4io&srno=s_1_24&otracker=search&otracker1=search&fm=organic&iid=1b46f281-1602-4314-bb73-75dafebd44e6.MOBGZEVUSSJ8VGXZ.SEARCH&ppt=hp&ppn=homepage&ssid=t7o3907q280000001694347398905&qH=16e35e1c76bc3b93']\n"
     ]
    },
    {
     "name": "stdout",
     "output_type": "stream",
     "text": [
      "['https://www.flipkart.com/redmi-12-moonstone-silver-128-gb/p/itme52e778c12701?pid=MOBGRMFK2MGRNG4Q&lid=LSTMOBGRMFK2MGRNG4QFZLVXT&marketplace=FLIPKART&q=redmi+smartphone&store=tyy%2F4io&spotlightTagId=BestsellerId_tyy%2F4io&srno=s_1_1&otracker=search&otracker1=search&fm=Search&iid=1b46f281-1602-4314-bb73-75dafebd44e6.MOBGRMFK2MGRNG4Q.SEARCH&ppt=sp&ppn=sp&ssid=t7o3907q280000001694347398905&qH=16e35e1c76bc3b93', 'https://www.flipkart.com/redmi-12-pastel-blue-128-gb/p/itm48719506a7ceb?pid=MOBGRMFKKGYD9ETX&lid=LSTMOBGRMFKKGYD9ETX5KD9VL&marketplace=FLIPKART&q=redmi+smartphone&store=tyy%2F4io&spotlightTagId=BestsellerId_tyy%2F4io&srno=s_1_2&otracker=search&otracker1=search&fm=Search&iid=1b46f281-1602-4314-bb73-75dafebd44e6.MOBGRMFKKGYD9ETX.SEARCH&ppt=sp&ppn=sp&ssid=t7o3907q280000001694347398905&qH=16e35e1c76bc3b93', 'https://www.flipkart.com/redmi-12-jade-black-128-gb/p/itmb7050ec01c09f?pid=MOBGRMFKTHKQSJEG&lid=LSTMOBGRMFKTHKQSJEGQK3FM2&marketplace=FLIPKART&q=redmi+smartphone&store=tyy%2F4io&spotlightTagId=BestsellerId_tyy%2F4io&srno=s_1_3&otracker=search&otracker1=search&fm=organic&iid=1b46f281-1602-4314-bb73-75dafebd44e6.MOBGRMFKTHKQSJEG.SEARCH&ppt=hp&ppn=homepage&ssid=t7o3907q280000001694347398905&qH=16e35e1c76bc3b93', 'https://www.flipkart.com/redmi-11-prime-peppy-purple-128-gb/p/itm52d6b0fe396e9?pid=MOBGZHFGUHYSHQYM&lid=LSTMOBGZHFGUHYSHQYMWGOOJ0&marketplace=FLIPKART&q=redmi+smartphone&store=tyy%2F4io&srno=s_1_4&otracker=search&otracker1=search&fm=organic&iid=1b46f281-1602-4314-bb73-75dafebd44e6.MOBGZHFGUHYSHQYM.SEARCH&ppt=hp&ppn=homepage&ssid=t7o3907q280000001694347398905&qH=16e35e1c76bc3b93', 'https://www.flipkart.com/redmi-12-pastel-blue-128-gb/p/itm9b1a6640faccd?pid=MOBGRMFKAHNTZPWE&lid=LSTMOBGRMFKAHNTZPWE1H5IWS&marketplace=FLIPKART&q=redmi+smartphone&store=tyy%2F4io&srno=s_1_5&otracker=search&otracker1=search&fm=organic&iid=1b46f281-1602-4314-bb73-75dafebd44e6.MOBGRMFKAHNTZPWE.SEARCH&ppt=hp&ppn=homepage&ssid=t7o3907q280000001694347398905&qH=16e35e1c76bc3b93', 'https://www.flipkart.com/redmi-a1-black-32-gb/p/itm70b00a77a7d1d?pid=MOBGGYBABVXHHRDQ&lid=LSTMOBGGYBABVXHHRDQTMWLXJ&marketplace=FLIPKART&q=redmi+smartphone&store=tyy%2F4io&srno=s_1_6&otracker=search&otracker1=search&fm=organic&iid=1b46f281-1602-4314-bb73-75dafebd44e6.MOBGGYBABVXHHRDQ.SEARCH&ppt=hp&ppn=homepage&ssid=t7o3907q280000001694347398905&qH=16e35e1c76bc3b93', 'https://www.flipkart.com/redmi-a1-light-green-32-gb/p/itmecc9e7ba0a1df?pid=MOBGGYBAHSAJVKHP&lid=LSTMOBGGYBAHSAJVKHP4UBD9A&marketplace=FLIPKART&q=redmi+smartphone&store=tyy%2F4io&srno=s_1_7&otracker=search&otracker1=search&fm=organic&iid=1b46f281-1602-4314-bb73-75dafebd44e6.MOBGGYBAHSAJVKHP.SEARCH&ppt=hp&ppn=homepage&ssid=t7o3907q280000001694347398905&qH=16e35e1c76bc3b93', 'https://www.flipkart.com/redmi-a2-aqua-blue-64-gb/p/itm5d49be2c0a95a?pid=MOBGPVYMG9RWX6XY&lid=LSTMOBGPVYMG9RWX6XYNJOQ2B&marketplace=FLIPKART&q=redmi+smartphone&store=tyy%2F4io&srno=s_1_8&otracker=search&otracker1=search&fm=organic&iid=1b46f281-1602-4314-bb73-75dafebd44e6.MOBGPVYMG9RWX6XY.SEARCH&ppt=hp&ppn=homepage&ssid=t7o3907q280000001694347398905&qH=16e35e1c76bc3b93', 'https://www.flipkart.com/redmi-a2-sea-green-32-gb/p/itm5d49be2c0a95a?pid=MOBGPVYATHJDTSSR&lid=LSTMOBGPVYATHJDTSSR6JMF4X&marketplace=FLIPKART&q=redmi+smartphone&store=tyy%2F4io&srno=s_1_9&otracker=search&otracker1=search&fm=organic&iid=1b46f281-1602-4314-bb73-75dafebd44e6.MOBGPVYATHJDTSSR.SEARCH&ppt=hp&ppn=homepage&ssid=t7o3907q280000001694347398905&qH=16e35e1c76bc3b93', 'https://www.flipkart.com/redmi-a2-aqua-blue-64-gb/p/itm5d49be2c0a95a?pid=MOBGR4UZWNAYKSUH&lid=LSTMOBGR4UZWNAYKSUHUXU5WM&marketplace=FLIPKART&q=redmi+smartphone&store=tyy%2F4io&srno=s_1_10&otracker=search&otracker1=search&fm=organic&iid=1b46f281-1602-4314-bb73-75dafebd44e6.MOBGR4UZWNAYKSUH.SEARCH&ppt=hp&ppn=homepage&ssid=t7o3907q280000001694347398905&qH=16e35e1c76bc3b93', 'https://www.flipkart.com/redmi-a2-classic-black-64-gb/p/itm5d49be2c0a95a?pid=MOBGPVYHRXZ3PFZU&lid=LSTMOBGPVYHRXZ3PFZU0QHLLF&marketplace=FLIPKART&q=redmi+smartphone&store=tyy%2F4io&srno=s_1_11&otracker=search&otracker1=search&fm=organic&iid=1b46f281-1602-4314-bb73-75dafebd44e6.MOBGPVYHRXZ3PFZU.SEARCH&ppt=hp&ppn=homepage&ssid=t7o3907q280000001694347398905&qH=16e35e1c76bc3b93', 'https://www.flipkart.com/redmi-9a-sport-coral-green-32-gb/p/itm53bc6ebfe147b?pid=MOBGHDXFKYSE5TPK&lid=LSTMOBGHDXFKYSE5TPKGHQ4XF&marketplace=FLIPKART&q=redmi+smartphone&store=tyy%2F4io&srno=s_1_12&otracker=search&otracker1=search&fm=organic&iid=1b46f281-1602-4314-bb73-75dafebd44e6.MOBGHDXFKYSE5TPK.SEARCH&ppt=hp&ppn=homepage&ssid=t7o3907q280000001694347398905&qH=16e35e1c76bc3b93', 'https://www.flipkart.com/redmi-6a-blue-16-gb/p/itm1ed294a755383?pid=MOBF9Z2Z3YDBSF6V&lid=LSTMOBF9Z2Z3YDBSF6VX16ZOH&marketplace=FLIPKART&q=redmi+smartphone&store=tyy%2F4io&srno=s_1_13&otracker=search&otracker1=search&fm=organic&iid=1b46f281-1602-4314-bb73-75dafebd44e6.MOBF9Z2Z3YDBSF6V.SEARCH&ppt=hp&ppn=homepage&ssid=t7o3907q280000001694347398905&qH=16e35e1c76bc3b93', 'https://www.flipkart.com/redmi-a2-aqua-blue-32-gb/p/itm5d49be2c0a95a?pid=MOBGPUZR8GHCE5ZQ&lid=LSTMOBGPUZR8GHCE5ZQ1P4DF9&marketplace=FLIPKART&q=redmi+smartphone&store=tyy%2F4io&srno=s_1_14&otracker=search&otracker1=search&fm=organic&iid=1b46f281-1602-4314-bb73-75dafebd44e6.MOBGPUZR8GHCE5ZQ.SEARCH&ppt=hp&ppn=homepage&ssid=t7o3907q280000001694347398905&qH=16e35e1c76bc3b93', 'https://www.flipkart.com/redmi-11-prime-playful-green-128-gb/p/itm0b080e6994972?pid=MOBGZHFGZQMESCDK&lid=LSTMOBGZHFGZQMESCDKZ6ILTE&marketplace=FLIPKART&q=redmi+smartphone&store=tyy%2F4io&srno=s_1_15&otracker=search&otracker1=search&fm=organic&iid=1b46f281-1602-4314-bb73-75dafebd44e6.MOBGZHFGZQMESCDK.SEARCH&ppt=hp&ppn=homepage&ssid=t7o3907q280000001694347398905&qH=16e35e1c76bc3b93', 'https://www.flipkart.com/redmi-a2-sea-green-64-gb/p/itm5d49be2c0a95a?pid=MOBGPVYEHMPGNCBZ&lid=LSTMOBGPVYEHMPGNCBZHUKI4Z&marketplace=FLIPKART&q=redmi+smartphone&store=tyy%2F4io&srno=s_1_16&otracker=search&otracker1=search&fm=organic&iid=1b46f281-1602-4314-bb73-75dafebd44e6.MOBGPVYEHMPGNCBZ.SEARCH&ppt=hp&ppn=homepage&ssid=t7o3907q280000001694347398905&qH=16e35e1c76bc3b93', 'https://www.flipkart.com/redmi-a2-classic-black-64-gb/p/itm5d49be2c0a95a?pid=MOBGRHB6XAEUADQB&lid=LSTMOBGRHB6XAEUADQBAI4AJ4&marketplace=FLIPKART&q=redmi+smartphone&store=tyy%2F4io&srno=s_1_17&otracker=search&otracker1=search&fm=organic&iid=1b46f281-1602-4314-bb73-75dafebd44e6.MOBGRHB6XAEUADQB.SEARCH&ppt=hp&ppn=homepage&ssid=t7o3907q280000001694347398905&qH=16e35e1c76bc3b93', 'https://www.flipkart.com/redmi-a2-sea-green-64-gb/p/itm5d49be2c0a95a?pid=MOBGRHB7GUUZG3QH&lid=LSTMOBGRHB7GUUZG3QHWXCHRR&marketplace=FLIPKART&q=redmi+smartphone&store=tyy%2F4io&srno=s_1_18&otracker=search&otracker1=search&fm=organic&iid=1b46f281-1602-4314-bb73-75dafebd44e6.MOBGRHB7GUUZG3QH.SEARCH&ppt=hp&ppn=homepage&ssid=t7o3907q280000001694347398905&qH=16e35e1c76bc3b93', 'https://www.flipkart.com/redmi-note-12-ice-blue-64-gb/p/itmee415766dfc1a?pid=MOBGNYHZYZ4CNTCM&lid=LSTMOBGNYHZYZ4CNTCMVONB0S&marketplace=FLIPKART&q=redmi+smartphone&store=tyy%2F4io&srno=s_1_19&otracker=search&otracker1=search&fm=organic&iid=1b46f281-1602-4314-bb73-75dafebd44e6.MOBGNYHZYZ4CNTCM.SEARCH&ppt=hp&ppn=homepage&ssid=t7o3907q280000001694347398905&qH=16e35e1c76bc3b93', 'https://www.flipkart.com/redmi-12-5g-jade-black-128-gb/p/itm0c8ba13f6fc5b?pid=MOBGS9QU7QVWUWRD&lid=LSTMOBGS9QU7QVWUWRDCTGYQ5&marketplace=FLIPKART&q=redmi+smartphone&store=tyy%2F4io&srno=s_1_20&otracker=search&otracker1=search&fm=organic&iid=1b46f281-1602-4314-bb73-75dafebd44e6.MOBGS9QU7QVWUWRD.SEARCH&ppt=hp&ppn=homepage&ssid=t7o3907q280000001694347398905&qH=16e35e1c76bc3b93', 'https://www.flipkart.com/redmi-note-12-sunrise-gold-64-gb/p/itm5d170187bcbf0?pid=MOBGNYHZ7ZGHES2V&lid=LSTMOBGNYHZ7ZGHES2VQILAET&marketplace=FLIPKART&q=redmi+smartphone&store=tyy%2F4io&srno=s_1_21&otracker=search&otracker1=search&fm=organic&iid=1b46f281-1602-4314-bb73-75dafebd44e6.MOBGNYHZ7ZGHES2V.SEARCH&ppt=hp&ppn=homepage&ssid=t7o3907q280000001694347398905&qH=16e35e1c76bc3b93', 'https://www.flipkart.com/redmi-12c-lavender-purple-128-gb/p/itm3fe4e598a0358?pid=MOBGZEU9TYHQ8RGE&lid=LSTMOBGZEU9TYHQ8RGEJXEEKD&marketplace=FLIPKART&q=redmi+smartphone&store=tyy%2F4io&srno=s_1_22&otracker=search&otracker1=search&fm=organic&iid=1b46f281-1602-4314-bb73-75dafebd44e6.MOBGZEU9TYHQ8RGE.SEARCH&ppt=hp&ppn=homepage&ssid=t7o3907q280000001694347398905&qH=16e35e1c76bc3b93', 'https://www.flipkart.com/redmi-12c-mint-green-128-gb/p/itm3fe4e598a0358?pid=MOBGZEUDZWSZHYJM&lid=LSTMOBGZEUDZWSZHYJMPU2O1S&marketplace=FLIPKART&q=redmi+smartphone&store=tyy%2F4io&srno=s_1_23&otracker=search&otracker1=search&fm=organic&iid=1b46f281-1602-4314-bb73-75dafebd44e6.MOBGZEUDZWSZHYJM.SEARCH&ppt=hp&ppn=homepage&ssid=t7o3907q280000001694347398905&qH=16e35e1c76bc3b93', 'https://www.flipkart.com/redmi-12c-lavender-purple-64-gb/p/itm3fe4e598a0358?pid=MOBGZEVUSSJ8VGXZ&lid=LSTMOBGZEVUSSJ8VGXZQC5UNR&marketplace=FLIPKART&q=redmi+smartphone&store=tyy%2F4io&srno=s_1_24&otracker=search&otracker1=search&fm=organic&iid=1b46f281-1602-4314-bb73-75dafebd44e6.MOBGZEVUSSJ8VGXZ.SEARCH&ppt=hp&ppn=homepage&ssid=t7o3907q280000001694347398905&qH=16e35e1c76bc3b93']\n",
      "['https://www.flipkart.com/redmi-12-moonstone-silver-128-gb/p/itme52e778c12701?pid=MOBGRMFK2MGRNG4Q&lid=LSTMOBGRMFK2MGRNG4QFZLVXT&marketplace=FLIPKART&q=redmi+smartphone&store=tyy%2F4io&spotlightTagId=BestsellerId_tyy%2F4io&srno=s_1_1&otracker=search&otracker1=search&fm=Search&iid=1b46f281-1602-4314-bb73-75dafebd44e6.MOBGRMFK2MGRNG4Q.SEARCH&ppt=sp&ppn=sp&ssid=t7o3907q280000001694347398905&qH=16e35e1c76bc3b93', 'https://www.flipkart.com/redmi-12-pastel-blue-128-gb/p/itm48719506a7ceb?pid=MOBGRMFKKGYD9ETX&lid=LSTMOBGRMFKKGYD9ETX5KD9VL&marketplace=FLIPKART&q=redmi+smartphone&store=tyy%2F4io&spotlightTagId=BestsellerId_tyy%2F4io&srno=s_1_2&otracker=search&otracker1=search&fm=Search&iid=1b46f281-1602-4314-bb73-75dafebd44e6.MOBGRMFKKGYD9ETX.SEARCH&ppt=sp&ppn=sp&ssid=t7o3907q280000001694347398905&qH=16e35e1c76bc3b93', 'https://www.flipkart.com/redmi-12-jade-black-128-gb/p/itmb7050ec01c09f?pid=MOBGRMFKTHKQSJEG&lid=LSTMOBGRMFKTHKQSJEGQK3FM2&marketplace=FLIPKART&q=redmi+smartphone&store=tyy%2F4io&spotlightTagId=BestsellerId_tyy%2F4io&srno=s_1_3&otracker=search&otracker1=search&fm=organic&iid=1b46f281-1602-4314-bb73-75dafebd44e6.MOBGRMFKTHKQSJEG.SEARCH&ppt=hp&ppn=homepage&ssid=t7o3907q280000001694347398905&qH=16e35e1c76bc3b93', 'https://www.flipkart.com/redmi-11-prime-peppy-purple-128-gb/p/itm52d6b0fe396e9?pid=MOBGZHFGUHYSHQYM&lid=LSTMOBGZHFGUHYSHQYMWGOOJ0&marketplace=FLIPKART&q=redmi+smartphone&store=tyy%2F4io&srno=s_1_4&otracker=search&otracker1=search&fm=organic&iid=1b46f281-1602-4314-bb73-75dafebd44e6.MOBGZHFGUHYSHQYM.SEARCH&ppt=hp&ppn=homepage&ssid=t7o3907q280000001694347398905&qH=16e35e1c76bc3b93', 'https://www.flipkart.com/redmi-12-pastel-blue-128-gb/p/itm9b1a6640faccd?pid=MOBGRMFKAHNTZPWE&lid=LSTMOBGRMFKAHNTZPWE1H5IWS&marketplace=FLIPKART&q=redmi+smartphone&store=tyy%2F4io&srno=s_1_5&otracker=search&otracker1=search&fm=organic&iid=1b46f281-1602-4314-bb73-75dafebd44e6.MOBGRMFKAHNTZPWE.SEARCH&ppt=hp&ppn=homepage&ssid=t7o3907q280000001694347398905&qH=16e35e1c76bc3b93', 'https://www.flipkart.com/redmi-a1-black-32-gb/p/itm70b00a77a7d1d?pid=MOBGGYBABVXHHRDQ&lid=LSTMOBGGYBABVXHHRDQTMWLXJ&marketplace=FLIPKART&q=redmi+smartphone&store=tyy%2F4io&srno=s_1_6&otracker=search&otracker1=search&fm=organic&iid=1b46f281-1602-4314-bb73-75dafebd44e6.MOBGGYBABVXHHRDQ.SEARCH&ppt=hp&ppn=homepage&ssid=t7o3907q280000001694347398905&qH=16e35e1c76bc3b93', 'https://www.flipkart.com/redmi-a1-light-green-32-gb/p/itmecc9e7ba0a1df?pid=MOBGGYBAHSAJVKHP&lid=LSTMOBGGYBAHSAJVKHP4UBD9A&marketplace=FLIPKART&q=redmi+smartphone&store=tyy%2F4io&srno=s_1_7&otracker=search&otracker1=search&fm=organic&iid=1b46f281-1602-4314-bb73-75dafebd44e6.MOBGGYBAHSAJVKHP.SEARCH&ppt=hp&ppn=homepage&ssid=t7o3907q280000001694347398905&qH=16e35e1c76bc3b93', 'https://www.flipkart.com/redmi-a2-aqua-blue-64-gb/p/itm5d49be2c0a95a?pid=MOBGPVYMG9RWX6XY&lid=LSTMOBGPVYMG9RWX6XYNJOQ2B&marketplace=FLIPKART&q=redmi+smartphone&store=tyy%2F4io&srno=s_1_8&otracker=search&otracker1=search&fm=organic&iid=1b46f281-1602-4314-bb73-75dafebd44e6.MOBGPVYMG9RWX6XY.SEARCH&ppt=hp&ppn=homepage&ssid=t7o3907q280000001694347398905&qH=16e35e1c76bc3b93', 'https://www.flipkart.com/redmi-a2-sea-green-32-gb/p/itm5d49be2c0a95a?pid=MOBGPVYATHJDTSSR&lid=LSTMOBGPVYATHJDTSSR6JMF4X&marketplace=FLIPKART&q=redmi+smartphone&store=tyy%2F4io&srno=s_1_9&otracker=search&otracker1=search&fm=organic&iid=1b46f281-1602-4314-bb73-75dafebd44e6.MOBGPVYATHJDTSSR.SEARCH&ppt=hp&ppn=homepage&ssid=t7o3907q280000001694347398905&qH=16e35e1c76bc3b93', 'https://www.flipkart.com/redmi-a2-aqua-blue-64-gb/p/itm5d49be2c0a95a?pid=MOBGR4UZWNAYKSUH&lid=LSTMOBGR4UZWNAYKSUHUXU5WM&marketplace=FLIPKART&q=redmi+smartphone&store=tyy%2F4io&srno=s_1_10&otracker=search&otracker1=search&fm=organic&iid=1b46f281-1602-4314-bb73-75dafebd44e6.MOBGR4UZWNAYKSUH.SEARCH&ppt=hp&ppn=homepage&ssid=t7o3907q280000001694347398905&qH=16e35e1c76bc3b93', 'https://www.flipkart.com/redmi-a2-classic-black-64-gb/p/itm5d49be2c0a95a?pid=MOBGPVYHRXZ3PFZU&lid=LSTMOBGPVYHRXZ3PFZU0QHLLF&marketplace=FLIPKART&q=redmi+smartphone&store=tyy%2F4io&srno=s_1_11&otracker=search&otracker1=search&fm=organic&iid=1b46f281-1602-4314-bb73-75dafebd44e6.MOBGPVYHRXZ3PFZU.SEARCH&ppt=hp&ppn=homepage&ssid=t7o3907q280000001694347398905&qH=16e35e1c76bc3b93', 'https://www.flipkart.com/redmi-9a-sport-coral-green-32-gb/p/itm53bc6ebfe147b?pid=MOBGHDXFKYSE5TPK&lid=LSTMOBGHDXFKYSE5TPKGHQ4XF&marketplace=FLIPKART&q=redmi+smartphone&store=tyy%2F4io&srno=s_1_12&otracker=search&otracker1=search&fm=organic&iid=1b46f281-1602-4314-bb73-75dafebd44e6.MOBGHDXFKYSE5TPK.SEARCH&ppt=hp&ppn=homepage&ssid=t7o3907q280000001694347398905&qH=16e35e1c76bc3b93', 'https://www.flipkart.com/redmi-6a-blue-16-gb/p/itm1ed294a755383?pid=MOBF9Z2Z3YDBSF6V&lid=LSTMOBF9Z2Z3YDBSF6VX16ZOH&marketplace=FLIPKART&q=redmi+smartphone&store=tyy%2F4io&srno=s_1_13&otracker=search&otracker1=search&fm=organic&iid=1b46f281-1602-4314-bb73-75dafebd44e6.MOBF9Z2Z3YDBSF6V.SEARCH&ppt=hp&ppn=homepage&ssid=t7o3907q280000001694347398905&qH=16e35e1c76bc3b93', 'https://www.flipkart.com/redmi-a2-aqua-blue-32-gb/p/itm5d49be2c0a95a?pid=MOBGPUZR8GHCE5ZQ&lid=LSTMOBGPUZR8GHCE5ZQ1P4DF9&marketplace=FLIPKART&q=redmi+smartphone&store=tyy%2F4io&srno=s_1_14&otracker=search&otracker1=search&fm=organic&iid=1b46f281-1602-4314-bb73-75dafebd44e6.MOBGPUZR8GHCE5ZQ.SEARCH&ppt=hp&ppn=homepage&ssid=t7o3907q280000001694347398905&qH=16e35e1c76bc3b93', 'https://www.flipkart.com/redmi-11-prime-playful-green-128-gb/p/itm0b080e6994972?pid=MOBGZHFGZQMESCDK&lid=LSTMOBGZHFGZQMESCDKZ6ILTE&marketplace=FLIPKART&q=redmi+smartphone&store=tyy%2F4io&srno=s_1_15&otracker=search&otracker1=search&fm=organic&iid=1b46f281-1602-4314-bb73-75dafebd44e6.MOBGZHFGZQMESCDK.SEARCH&ppt=hp&ppn=homepage&ssid=t7o3907q280000001694347398905&qH=16e35e1c76bc3b93', 'https://www.flipkart.com/redmi-a2-sea-green-64-gb/p/itm5d49be2c0a95a?pid=MOBGPVYEHMPGNCBZ&lid=LSTMOBGPVYEHMPGNCBZHUKI4Z&marketplace=FLIPKART&q=redmi+smartphone&store=tyy%2F4io&srno=s_1_16&otracker=search&otracker1=search&fm=organic&iid=1b46f281-1602-4314-bb73-75dafebd44e6.MOBGPVYEHMPGNCBZ.SEARCH&ppt=hp&ppn=homepage&ssid=t7o3907q280000001694347398905&qH=16e35e1c76bc3b93', 'https://www.flipkart.com/redmi-a2-classic-black-64-gb/p/itm5d49be2c0a95a?pid=MOBGRHB6XAEUADQB&lid=LSTMOBGRHB6XAEUADQBAI4AJ4&marketplace=FLIPKART&q=redmi+smartphone&store=tyy%2F4io&srno=s_1_17&otracker=search&otracker1=search&fm=organic&iid=1b46f281-1602-4314-bb73-75dafebd44e6.MOBGRHB6XAEUADQB.SEARCH&ppt=hp&ppn=homepage&ssid=t7o3907q280000001694347398905&qH=16e35e1c76bc3b93', 'https://www.flipkart.com/redmi-a2-sea-green-64-gb/p/itm5d49be2c0a95a?pid=MOBGRHB7GUUZG3QH&lid=LSTMOBGRHB7GUUZG3QHWXCHRR&marketplace=FLIPKART&q=redmi+smartphone&store=tyy%2F4io&srno=s_1_18&otracker=search&otracker1=search&fm=organic&iid=1b46f281-1602-4314-bb73-75dafebd44e6.MOBGRHB7GUUZG3QH.SEARCH&ppt=hp&ppn=homepage&ssid=t7o3907q280000001694347398905&qH=16e35e1c76bc3b93', 'https://www.flipkart.com/redmi-note-12-ice-blue-64-gb/p/itmee415766dfc1a?pid=MOBGNYHZYZ4CNTCM&lid=LSTMOBGNYHZYZ4CNTCMVONB0S&marketplace=FLIPKART&q=redmi+smartphone&store=tyy%2F4io&srno=s_1_19&otracker=search&otracker1=search&fm=organic&iid=1b46f281-1602-4314-bb73-75dafebd44e6.MOBGNYHZYZ4CNTCM.SEARCH&ppt=hp&ppn=homepage&ssid=t7o3907q280000001694347398905&qH=16e35e1c76bc3b93', 'https://www.flipkart.com/redmi-12-5g-jade-black-128-gb/p/itm0c8ba13f6fc5b?pid=MOBGS9QU7QVWUWRD&lid=LSTMOBGS9QU7QVWUWRDCTGYQ5&marketplace=FLIPKART&q=redmi+smartphone&store=tyy%2F4io&srno=s_1_20&otracker=search&otracker1=search&fm=organic&iid=1b46f281-1602-4314-bb73-75dafebd44e6.MOBGS9QU7QVWUWRD.SEARCH&ppt=hp&ppn=homepage&ssid=t7o3907q280000001694347398905&qH=16e35e1c76bc3b93', 'https://www.flipkart.com/redmi-note-12-sunrise-gold-64-gb/p/itm5d170187bcbf0?pid=MOBGNYHZ7ZGHES2V&lid=LSTMOBGNYHZ7ZGHES2VQILAET&marketplace=FLIPKART&q=redmi+smartphone&store=tyy%2F4io&srno=s_1_21&otracker=search&otracker1=search&fm=organic&iid=1b46f281-1602-4314-bb73-75dafebd44e6.MOBGNYHZ7ZGHES2V.SEARCH&ppt=hp&ppn=homepage&ssid=t7o3907q280000001694347398905&qH=16e35e1c76bc3b93', 'https://www.flipkart.com/redmi-12c-lavender-purple-128-gb/p/itm3fe4e598a0358?pid=MOBGZEU9TYHQ8RGE&lid=LSTMOBGZEU9TYHQ8RGEJXEEKD&marketplace=FLIPKART&q=redmi+smartphone&store=tyy%2F4io&srno=s_1_22&otracker=search&otracker1=search&fm=organic&iid=1b46f281-1602-4314-bb73-75dafebd44e6.MOBGZEU9TYHQ8RGE.SEARCH&ppt=hp&ppn=homepage&ssid=t7o3907q280000001694347398905&qH=16e35e1c76bc3b93', 'https://www.flipkart.com/redmi-12c-mint-green-128-gb/p/itm3fe4e598a0358?pid=MOBGZEUDZWSZHYJM&lid=LSTMOBGZEUDZWSZHYJMPU2O1S&marketplace=FLIPKART&q=redmi+smartphone&store=tyy%2F4io&srno=s_1_23&otracker=search&otracker1=search&fm=organic&iid=1b46f281-1602-4314-bb73-75dafebd44e6.MOBGZEUDZWSZHYJM.SEARCH&ppt=hp&ppn=homepage&ssid=t7o3907q280000001694347398905&qH=16e35e1c76bc3b93', 'https://www.flipkart.com/redmi-12c-lavender-purple-64-gb/p/itm3fe4e598a0358?pid=MOBGZEVUSSJ8VGXZ&lid=LSTMOBGZEVUSSJ8VGXZQC5UNR&marketplace=FLIPKART&q=redmi+smartphone&store=tyy%2F4io&srno=s_1_24&otracker=search&otracker1=search&fm=organic&iid=1b46f281-1602-4314-bb73-75dafebd44e6.MOBGZEVUSSJ8VGXZ.SEARCH&ppt=hp&ppn=homepage&ssid=t7o3907q280000001694347398905&qH=16e35e1c76bc3b93']\n"
     ]
    },
    {
     "name": "stdout",
     "output_type": "stream",
     "text": [
      "['https://www.flipkart.com/redmi-12-moonstone-silver-128-gb/p/itme52e778c12701?pid=MOBGRMFK2MGRNG4Q&lid=LSTMOBGRMFK2MGRNG4QFZLVXT&marketplace=FLIPKART&q=redmi+smartphone&store=tyy%2F4io&spotlightTagId=BestsellerId_tyy%2F4io&srno=s_1_1&otracker=search&otracker1=search&fm=Search&iid=1b46f281-1602-4314-bb73-75dafebd44e6.MOBGRMFK2MGRNG4Q.SEARCH&ppt=sp&ppn=sp&ssid=t7o3907q280000001694347398905&qH=16e35e1c76bc3b93', 'https://www.flipkart.com/redmi-12-pastel-blue-128-gb/p/itm48719506a7ceb?pid=MOBGRMFKKGYD9ETX&lid=LSTMOBGRMFKKGYD9ETX5KD9VL&marketplace=FLIPKART&q=redmi+smartphone&store=tyy%2F4io&spotlightTagId=BestsellerId_tyy%2F4io&srno=s_1_2&otracker=search&otracker1=search&fm=Search&iid=1b46f281-1602-4314-bb73-75dafebd44e6.MOBGRMFKKGYD9ETX.SEARCH&ppt=sp&ppn=sp&ssid=t7o3907q280000001694347398905&qH=16e35e1c76bc3b93', 'https://www.flipkart.com/redmi-12-jade-black-128-gb/p/itmb7050ec01c09f?pid=MOBGRMFKTHKQSJEG&lid=LSTMOBGRMFKTHKQSJEGQK3FM2&marketplace=FLIPKART&q=redmi+smartphone&store=tyy%2F4io&spotlightTagId=BestsellerId_tyy%2F4io&srno=s_1_3&otracker=search&otracker1=search&fm=organic&iid=1b46f281-1602-4314-bb73-75dafebd44e6.MOBGRMFKTHKQSJEG.SEARCH&ppt=hp&ppn=homepage&ssid=t7o3907q280000001694347398905&qH=16e35e1c76bc3b93', 'https://www.flipkart.com/redmi-11-prime-peppy-purple-128-gb/p/itm52d6b0fe396e9?pid=MOBGZHFGUHYSHQYM&lid=LSTMOBGZHFGUHYSHQYMWGOOJ0&marketplace=FLIPKART&q=redmi+smartphone&store=tyy%2F4io&srno=s_1_4&otracker=search&otracker1=search&fm=organic&iid=1b46f281-1602-4314-bb73-75dafebd44e6.MOBGZHFGUHYSHQYM.SEARCH&ppt=hp&ppn=homepage&ssid=t7o3907q280000001694347398905&qH=16e35e1c76bc3b93', 'https://www.flipkart.com/redmi-12-pastel-blue-128-gb/p/itm9b1a6640faccd?pid=MOBGRMFKAHNTZPWE&lid=LSTMOBGRMFKAHNTZPWE1H5IWS&marketplace=FLIPKART&q=redmi+smartphone&store=tyy%2F4io&srno=s_1_5&otracker=search&otracker1=search&fm=organic&iid=1b46f281-1602-4314-bb73-75dafebd44e6.MOBGRMFKAHNTZPWE.SEARCH&ppt=hp&ppn=homepage&ssid=t7o3907q280000001694347398905&qH=16e35e1c76bc3b93', 'https://www.flipkart.com/redmi-a1-black-32-gb/p/itm70b00a77a7d1d?pid=MOBGGYBABVXHHRDQ&lid=LSTMOBGGYBABVXHHRDQTMWLXJ&marketplace=FLIPKART&q=redmi+smartphone&store=tyy%2F4io&srno=s_1_6&otracker=search&otracker1=search&fm=organic&iid=1b46f281-1602-4314-bb73-75dafebd44e6.MOBGGYBABVXHHRDQ.SEARCH&ppt=hp&ppn=homepage&ssid=t7o3907q280000001694347398905&qH=16e35e1c76bc3b93', 'https://www.flipkart.com/redmi-a1-light-green-32-gb/p/itmecc9e7ba0a1df?pid=MOBGGYBAHSAJVKHP&lid=LSTMOBGGYBAHSAJVKHP4UBD9A&marketplace=FLIPKART&q=redmi+smartphone&store=tyy%2F4io&srno=s_1_7&otracker=search&otracker1=search&fm=organic&iid=1b46f281-1602-4314-bb73-75dafebd44e6.MOBGGYBAHSAJVKHP.SEARCH&ppt=hp&ppn=homepage&ssid=t7o3907q280000001694347398905&qH=16e35e1c76bc3b93', 'https://www.flipkart.com/redmi-a2-aqua-blue-64-gb/p/itm5d49be2c0a95a?pid=MOBGPVYMG9RWX6XY&lid=LSTMOBGPVYMG9RWX6XYNJOQ2B&marketplace=FLIPKART&q=redmi+smartphone&store=tyy%2F4io&srno=s_1_8&otracker=search&otracker1=search&fm=organic&iid=1b46f281-1602-4314-bb73-75dafebd44e6.MOBGPVYMG9RWX6XY.SEARCH&ppt=hp&ppn=homepage&ssid=t7o3907q280000001694347398905&qH=16e35e1c76bc3b93', 'https://www.flipkart.com/redmi-a2-sea-green-32-gb/p/itm5d49be2c0a95a?pid=MOBGPVYATHJDTSSR&lid=LSTMOBGPVYATHJDTSSR6JMF4X&marketplace=FLIPKART&q=redmi+smartphone&store=tyy%2F4io&srno=s_1_9&otracker=search&otracker1=search&fm=organic&iid=1b46f281-1602-4314-bb73-75dafebd44e6.MOBGPVYATHJDTSSR.SEARCH&ppt=hp&ppn=homepage&ssid=t7o3907q280000001694347398905&qH=16e35e1c76bc3b93', 'https://www.flipkart.com/redmi-a2-aqua-blue-64-gb/p/itm5d49be2c0a95a?pid=MOBGR4UZWNAYKSUH&lid=LSTMOBGR4UZWNAYKSUHUXU5WM&marketplace=FLIPKART&q=redmi+smartphone&store=tyy%2F4io&srno=s_1_10&otracker=search&otracker1=search&fm=organic&iid=1b46f281-1602-4314-bb73-75dafebd44e6.MOBGR4UZWNAYKSUH.SEARCH&ppt=hp&ppn=homepage&ssid=t7o3907q280000001694347398905&qH=16e35e1c76bc3b93', 'https://www.flipkart.com/redmi-a2-classic-black-64-gb/p/itm5d49be2c0a95a?pid=MOBGPVYHRXZ3PFZU&lid=LSTMOBGPVYHRXZ3PFZU0QHLLF&marketplace=FLIPKART&q=redmi+smartphone&store=tyy%2F4io&srno=s_1_11&otracker=search&otracker1=search&fm=organic&iid=1b46f281-1602-4314-bb73-75dafebd44e6.MOBGPVYHRXZ3PFZU.SEARCH&ppt=hp&ppn=homepage&ssid=t7o3907q280000001694347398905&qH=16e35e1c76bc3b93', 'https://www.flipkart.com/redmi-9a-sport-coral-green-32-gb/p/itm53bc6ebfe147b?pid=MOBGHDXFKYSE5TPK&lid=LSTMOBGHDXFKYSE5TPKGHQ4XF&marketplace=FLIPKART&q=redmi+smartphone&store=tyy%2F4io&srno=s_1_12&otracker=search&otracker1=search&fm=organic&iid=1b46f281-1602-4314-bb73-75dafebd44e6.MOBGHDXFKYSE5TPK.SEARCH&ppt=hp&ppn=homepage&ssid=t7o3907q280000001694347398905&qH=16e35e1c76bc3b93', 'https://www.flipkart.com/redmi-6a-blue-16-gb/p/itm1ed294a755383?pid=MOBF9Z2Z3YDBSF6V&lid=LSTMOBF9Z2Z3YDBSF6VX16ZOH&marketplace=FLIPKART&q=redmi+smartphone&store=tyy%2F4io&srno=s_1_13&otracker=search&otracker1=search&fm=organic&iid=1b46f281-1602-4314-bb73-75dafebd44e6.MOBF9Z2Z3YDBSF6V.SEARCH&ppt=hp&ppn=homepage&ssid=t7o3907q280000001694347398905&qH=16e35e1c76bc3b93', 'https://www.flipkart.com/redmi-a2-aqua-blue-32-gb/p/itm5d49be2c0a95a?pid=MOBGPUZR8GHCE5ZQ&lid=LSTMOBGPUZR8GHCE5ZQ1P4DF9&marketplace=FLIPKART&q=redmi+smartphone&store=tyy%2F4io&srno=s_1_14&otracker=search&otracker1=search&fm=organic&iid=1b46f281-1602-4314-bb73-75dafebd44e6.MOBGPUZR8GHCE5ZQ.SEARCH&ppt=hp&ppn=homepage&ssid=t7o3907q280000001694347398905&qH=16e35e1c76bc3b93', 'https://www.flipkart.com/redmi-11-prime-playful-green-128-gb/p/itm0b080e6994972?pid=MOBGZHFGZQMESCDK&lid=LSTMOBGZHFGZQMESCDKZ6ILTE&marketplace=FLIPKART&q=redmi+smartphone&store=tyy%2F4io&srno=s_1_15&otracker=search&otracker1=search&fm=organic&iid=1b46f281-1602-4314-bb73-75dafebd44e6.MOBGZHFGZQMESCDK.SEARCH&ppt=hp&ppn=homepage&ssid=t7o3907q280000001694347398905&qH=16e35e1c76bc3b93', 'https://www.flipkart.com/redmi-a2-sea-green-64-gb/p/itm5d49be2c0a95a?pid=MOBGPVYEHMPGNCBZ&lid=LSTMOBGPVYEHMPGNCBZHUKI4Z&marketplace=FLIPKART&q=redmi+smartphone&store=tyy%2F4io&srno=s_1_16&otracker=search&otracker1=search&fm=organic&iid=1b46f281-1602-4314-bb73-75dafebd44e6.MOBGPVYEHMPGNCBZ.SEARCH&ppt=hp&ppn=homepage&ssid=t7o3907q280000001694347398905&qH=16e35e1c76bc3b93', 'https://www.flipkart.com/redmi-a2-classic-black-64-gb/p/itm5d49be2c0a95a?pid=MOBGRHB6XAEUADQB&lid=LSTMOBGRHB6XAEUADQBAI4AJ4&marketplace=FLIPKART&q=redmi+smartphone&store=tyy%2F4io&srno=s_1_17&otracker=search&otracker1=search&fm=organic&iid=1b46f281-1602-4314-bb73-75dafebd44e6.MOBGRHB6XAEUADQB.SEARCH&ppt=hp&ppn=homepage&ssid=t7o3907q280000001694347398905&qH=16e35e1c76bc3b93', 'https://www.flipkart.com/redmi-a2-sea-green-64-gb/p/itm5d49be2c0a95a?pid=MOBGRHB7GUUZG3QH&lid=LSTMOBGRHB7GUUZG3QHWXCHRR&marketplace=FLIPKART&q=redmi+smartphone&store=tyy%2F4io&srno=s_1_18&otracker=search&otracker1=search&fm=organic&iid=1b46f281-1602-4314-bb73-75dafebd44e6.MOBGRHB7GUUZG3QH.SEARCH&ppt=hp&ppn=homepage&ssid=t7o3907q280000001694347398905&qH=16e35e1c76bc3b93', 'https://www.flipkart.com/redmi-note-12-ice-blue-64-gb/p/itmee415766dfc1a?pid=MOBGNYHZYZ4CNTCM&lid=LSTMOBGNYHZYZ4CNTCMVONB0S&marketplace=FLIPKART&q=redmi+smartphone&store=tyy%2F4io&srno=s_1_19&otracker=search&otracker1=search&fm=organic&iid=1b46f281-1602-4314-bb73-75dafebd44e6.MOBGNYHZYZ4CNTCM.SEARCH&ppt=hp&ppn=homepage&ssid=t7o3907q280000001694347398905&qH=16e35e1c76bc3b93', 'https://www.flipkart.com/redmi-12-5g-jade-black-128-gb/p/itm0c8ba13f6fc5b?pid=MOBGS9QU7QVWUWRD&lid=LSTMOBGS9QU7QVWUWRDCTGYQ5&marketplace=FLIPKART&q=redmi+smartphone&store=tyy%2F4io&srno=s_1_20&otracker=search&otracker1=search&fm=organic&iid=1b46f281-1602-4314-bb73-75dafebd44e6.MOBGS9QU7QVWUWRD.SEARCH&ppt=hp&ppn=homepage&ssid=t7o3907q280000001694347398905&qH=16e35e1c76bc3b93', 'https://www.flipkart.com/redmi-note-12-sunrise-gold-64-gb/p/itm5d170187bcbf0?pid=MOBGNYHZ7ZGHES2V&lid=LSTMOBGNYHZ7ZGHES2VQILAET&marketplace=FLIPKART&q=redmi+smartphone&store=tyy%2F4io&srno=s_1_21&otracker=search&otracker1=search&fm=organic&iid=1b46f281-1602-4314-bb73-75dafebd44e6.MOBGNYHZ7ZGHES2V.SEARCH&ppt=hp&ppn=homepage&ssid=t7o3907q280000001694347398905&qH=16e35e1c76bc3b93', 'https://www.flipkart.com/redmi-12c-lavender-purple-128-gb/p/itm3fe4e598a0358?pid=MOBGZEU9TYHQ8RGE&lid=LSTMOBGZEU9TYHQ8RGEJXEEKD&marketplace=FLIPKART&q=redmi+smartphone&store=tyy%2F4io&srno=s_1_22&otracker=search&otracker1=search&fm=organic&iid=1b46f281-1602-4314-bb73-75dafebd44e6.MOBGZEU9TYHQ8RGE.SEARCH&ppt=hp&ppn=homepage&ssid=t7o3907q280000001694347398905&qH=16e35e1c76bc3b93', 'https://www.flipkart.com/redmi-12c-mint-green-128-gb/p/itm3fe4e598a0358?pid=MOBGZEUDZWSZHYJM&lid=LSTMOBGZEUDZWSZHYJMPU2O1S&marketplace=FLIPKART&q=redmi+smartphone&store=tyy%2F4io&srno=s_1_23&otracker=search&otracker1=search&fm=organic&iid=1b46f281-1602-4314-bb73-75dafebd44e6.MOBGZEUDZWSZHYJM.SEARCH&ppt=hp&ppn=homepage&ssid=t7o3907q280000001694347398905&qH=16e35e1c76bc3b93', 'https://www.flipkart.com/redmi-12c-lavender-purple-64-gb/p/itm3fe4e598a0358?pid=MOBGZEVUSSJ8VGXZ&lid=LSTMOBGZEVUSSJ8VGXZQC5UNR&marketplace=FLIPKART&q=redmi+smartphone&store=tyy%2F4io&srno=s_1_24&otracker=search&otracker1=search&fm=organic&iid=1b46f281-1602-4314-bb73-75dafebd44e6.MOBGZEVUSSJ8VGXZ.SEARCH&ppt=hp&ppn=homepage&ssid=t7o3907q280000001694347398905&qH=16e35e1c76bc3b93']\n",
      "['https://www.flipkart.com/redmi-12-moonstone-silver-128-gb/p/itme52e778c12701?pid=MOBGRMFK2MGRNG4Q&lid=LSTMOBGRMFK2MGRNG4QFZLVXT&marketplace=FLIPKART&q=redmi+smartphone&store=tyy%2F4io&spotlightTagId=BestsellerId_tyy%2F4io&srno=s_1_1&otracker=search&otracker1=search&fm=Search&iid=1b46f281-1602-4314-bb73-75dafebd44e6.MOBGRMFK2MGRNG4Q.SEARCH&ppt=sp&ppn=sp&ssid=t7o3907q280000001694347398905&qH=16e35e1c76bc3b93', 'https://www.flipkart.com/redmi-12-pastel-blue-128-gb/p/itm48719506a7ceb?pid=MOBGRMFKKGYD9ETX&lid=LSTMOBGRMFKKGYD9ETX5KD9VL&marketplace=FLIPKART&q=redmi+smartphone&store=tyy%2F4io&spotlightTagId=BestsellerId_tyy%2F4io&srno=s_1_2&otracker=search&otracker1=search&fm=Search&iid=1b46f281-1602-4314-bb73-75dafebd44e6.MOBGRMFKKGYD9ETX.SEARCH&ppt=sp&ppn=sp&ssid=t7o3907q280000001694347398905&qH=16e35e1c76bc3b93', 'https://www.flipkart.com/redmi-12-jade-black-128-gb/p/itmb7050ec01c09f?pid=MOBGRMFKTHKQSJEG&lid=LSTMOBGRMFKTHKQSJEGQK3FM2&marketplace=FLIPKART&q=redmi+smartphone&store=tyy%2F4io&spotlightTagId=BestsellerId_tyy%2F4io&srno=s_1_3&otracker=search&otracker1=search&fm=organic&iid=1b46f281-1602-4314-bb73-75dafebd44e6.MOBGRMFKTHKQSJEG.SEARCH&ppt=hp&ppn=homepage&ssid=t7o3907q280000001694347398905&qH=16e35e1c76bc3b93', 'https://www.flipkart.com/redmi-11-prime-peppy-purple-128-gb/p/itm52d6b0fe396e9?pid=MOBGZHFGUHYSHQYM&lid=LSTMOBGZHFGUHYSHQYMWGOOJ0&marketplace=FLIPKART&q=redmi+smartphone&store=tyy%2F4io&srno=s_1_4&otracker=search&otracker1=search&fm=organic&iid=1b46f281-1602-4314-bb73-75dafebd44e6.MOBGZHFGUHYSHQYM.SEARCH&ppt=hp&ppn=homepage&ssid=t7o3907q280000001694347398905&qH=16e35e1c76bc3b93', 'https://www.flipkart.com/redmi-12-pastel-blue-128-gb/p/itm9b1a6640faccd?pid=MOBGRMFKAHNTZPWE&lid=LSTMOBGRMFKAHNTZPWE1H5IWS&marketplace=FLIPKART&q=redmi+smartphone&store=tyy%2F4io&srno=s_1_5&otracker=search&otracker1=search&fm=organic&iid=1b46f281-1602-4314-bb73-75dafebd44e6.MOBGRMFKAHNTZPWE.SEARCH&ppt=hp&ppn=homepage&ssid=t7o3907q280000001694347398905&qH=16e35e1c76bc3b93', 'https://www.flipkart.com/redmi-a1-black-32-gb/p/itm70b00a77a7d1d?pid=MOBGGYBABVXHHRDQ&lid=LSTMOBGGYBABVXHHRDQTMWLXJ&marketplace=FLIPKART&q=redmi+smartphone&store=tyy%2F4io&srno=s_1_6&otracker=search&otracker1=search&fm=organic&iid=1b46f281-1602-4314-bb73-75dafebd44e6.MOBGGYBABVXHHRDQ.SEARCH&ppt=hp&ppn=homepage&ssid=t7o3907q280000001694347398905&qH=16e35e1c76bc3b93', 'https://www.flipkart.com/redmi-a1-light-green-32-gb/p/itmecc9e7ba0a1df?pid=MOBGGYBAHSAJVKHP&lid=LSTMOBGGYBAHSAJVKHP4UBD9A&marketplace=FLIPKART&q=redmi+smartphone&store=tyy%2F4io&srno=s_1_7&otracker=search&otracker1=search&fm=organic&iid=1b46f281-1602-4314-bb73-75dafebd44e6.MOBGGYBAHSAJVKHP.SEARCH&ppt=hp&ppn=homepage&ssid=t7o3907q280000001694347398905&qH=16e35e1c76bc3b93', 'https://www.flipkart.com/redmi-a2-aqua-blue-64-gb/p/itm5d49be2c0a95a?pid=MOBGPVYMG9RWX6XY&lid=LSTMOBGPVYMG9RWX6XYNJOQ2B&marketplace=FLIPKART&q=redmi+smartphone&store=tyy%2F4io&srno=s_1_8&otracker=search&otracker1=search&fm=organic&iid=1b46f281-1602-4314-bb73-75dafebd44e6.MOBGPVYMG9RWX6XY.SEARCH&ppt=hp&ppn=homepage&ssid=t7o3907q280000001694347398905&qH=16e35e1c76bc3b93', 'https://www.flipkart.com/redmi-a2-sea-green-32-gb/p/itm5d49be2c0a95a?pid=MOBGPVYATHJDTSSR&lid=LSTMOBGPVYATHJDTSSR6JMF4X&marketplace=FLIPKART&q=redmi+smartphone&store=tyy%2F4io&srno=s_1_9&otracker=search&otracker1=search&fm=organic&iid=1b46f281-1602-4314-bb73-75dafebd44e6.MOBGPVYATHJDTSSR.SEARCH&ppt=hp&ppn=homepage&ssid=t7o3907q280000001694347398905&qH=16e35e1c76bc3b93', 'https://www.flipkart.com/redmi-a2-aqua-blue-64-gb/p/itm5d49be2c0a95a?pid=MOBGR4UZWNAYKSUH&lid=LSTMOBGR4UZWNAYKSUHUXU5WM&marketplace=FLIPKART&q=redmi+smartphone&store=tyy%2F4io&srno=s_1_10&otracker=search&otracker1=search&fm=organic&iid=1b46f281-1602-4314-bb73-75dafebd44e6.MOBGR4UZWNAYKSUH.SEARCH&ppt=hp&ppn=homepage&ssid=t7o3907q280000001694347398905&qH=16e35e1c76bc3b93', 'https://www.flipkart.com/redmi-a2-classic-black-64-gb/p/itm5d49be2c0a95a?pid=MOBGPVYHRXZ3PFZU&lid=LSTMOBGPVYHRXZ3PFZU0QHLLF&marketplace=FLIPKART&q=redmi+smartphone&store=tyy%2F4io&srno=s_1_11&otracker=search&otracker1=search&fm=organic&iid=1b46f281-1602-4314-bb73-75dafebd44e6.MOBGPVYHRXZ3PFZU.SEARCH&ppt=hp&ppn=homepage&ssid=t7o3907q280000001694347398905&qH=16e35e1c76bc3b93', 'https://www.flipkart.com/redmi-9a-sport-coral-green-32-gb/p/itm53bc6ebfe147b?pid=MOBGHDXFKYSE5TPK&lid=LSTMOBGHDXFKYSE5TPKGHQ4XF&marketplace=FLIPKART&q=redmi+smartphone&store=tyy%2F4io&srno=s_1_12&otracker=search&otracker1=search&fm=organic&iid=1b46f281-1602-4314-bb73-75dafebd44e6.MOBGHDXFKYSE5TPK.SEARCH&ppt=hp&ppn=homepage&ssid=t7o3907q280000001694347398905&qH=16e35e1c76bc3b93', 'https://www.flipkart.com/redmi-6a-blue-16-gb/p/itm1ed294a755383?pid=MOBF9Z2Z3YDBSF6V&lid=LSTMOBF9Z2Z3YDBSF6VX16ZOH&marketplace=FLIPKART&q=redmi+smartphone&store=tyy%2F4io&srno=s_1_13&otracker=search&otracker1=search&fm=organic&iid=1b46f281-1602-4314-bb73-75dafebd44e6.MOBF9Z2Z3YDBSF6V.SEARCH&ppt=hp&ppn=homepage&ssid=t7o3907q280000001694347398905&qH=16e35e1c76bc3b93', 'https://www.flipkart.com/redmi-a2-aqua-blue-32-gb/p/itm5d49be2c0a95a?pid=MOBGPUZR8GHCE5ZQ&lid=LSTMOBGPUZR8GHCE5ZQ1P4DF9&marketplace=FLIPKART&q=redmi+smartphone&store=tyy%2F4io&srno=s_1_14&otracker=search&otracker1=search&fm=organic&iid=1b46f281-1602-4314-bb73-75dafebd44e6.MOBGPUZR8GHCE5ZQ.SEARCH&ppt=hp&ppn=homepage&ssid=t7o3907q280000001694347398905&qH=16e35e1c76bc3b93', 'https://www.flipkart.com/redmi-11-prime-playful-green-128-gb/p/itm0b080e6994972?pid=MOBGZHFGZQMESCDK&lid=LSTMOBGZHFGZQMESCDKZ6ILTE&marketplace=FLIPKART&q=redmi+smartphone&store=tyy%2F4io&srno=s_1_15&otracker=search&otracker1=search&fm=organic&iid=1b46f281-1602-4314-bb73-75dafebd44e6.MOBGZHFGZQMESCDK.SEARCH&ppt=hp&ppn=homepage&ssid=t7o3907q280000001694347398905&qH=16e35e1c76bc3b93', 'https://www.flipkart.com/redmi-a2-sea-green-64-gb/p/itm5d49be2c0a95a?pid=MOBGPVYEHMPGNCBZ&lid=LSTMOBGPVYEHMPGNCBZHUKI4Z&marketplace=FLIPKART&q=redmi+smartphone&store=tyy%2F4io&srno=s_1_16&otracker=search&otracker1=search&fm=organic&iid=1b46f281-1602-4314-bb73-75dafebd44e6.MOBGPVYEHMPGNCBZ.SEARCH&ppt=hp&ppn=homepage&ssid=t7o3907q280000001694347398905&qH=16e35e1c76bc3b93', 'https://www.flipkart.com/redmi-a2-classic-black-64-gb/p/itm5d49be2c0a95a?pid=MOBGRHB6XAEUADQB&lid=LSTMOBGRHB6XAEUADQBAI4AJ4&marketplace=FLIPKART&q=redmi+smartphone&store=tyy%2F4io&srno=s_1_17&otracker=search&otracker1=search&fm=organic&iid=1b46f281-1602-4314-bb73-75dafebd44e6.MOBGRHB6XAEUADQB.SEARCH&ppt=hp&ppn=homepage&ssid=t7o3907q280000001694347398905&qH=16e35e1c76bc3b93', 'https://www.flipkart.com/redmi-a2-sea-green-64-gb/p/itm5d49be2c0a95a?pid=MOBGRHB7GUUZG3QH&lid=LSTMOBGRHB7GUUZG3QHWXCHRR&marketplace=FLIPKART&q=redmi+smartphone&store=tyy%2F4io&srno=s_1_18&otracker=search&otracker1=search&fm=organic&iid=1b46f281-1602-4314-bb73-75dafebd44e6.MOBGRHB7GUUZG3QH.SEARCH&ppt=hp&ppn=homepage&ssid=t7o3907q280000001694347398905&qH=16e35e1c76bc3b93', 'https://www.flipkart.com/redmi-note-12-ice-blue-64-gb/p/itmee415766dfc1a?pid=MOBGNYHZYZ4CNTCM&lid=LSTMOBGNYHZYZ4CNTCMVONB0S&marketplace=FLIPKART&q=redmi+smartphone&store=tyy%2F4io&srno=s_1_19&otracker=search&otracker1=search&fm=organic&iid=1b46f281-1602-4314-bb73-75dafebd44e6.MOBGNYHZYZ4CNTCM.SEARCH&ppt=hp&ppn=homepage&ssid=t7o3907q280000001694347398905&qH=16e35e1c76bc3b93', 'https://www.flipkart.com/redmi-12-5g-jade-black-128-gb/p/itm0c8ba13f6fc5b?pid=MOBGS9QU7QVWUWRD&lid=LSTMOBGS9QU7QVWUWRDCTGYQ5&marketplace=FLIPKART&q=redmi+smartphone&store=tyy%2F4io&srno=s_1_20&otracker=search&otracker1=search&fm=organic&iid=1b46f281-1602-4314-bb73-75dafebd44e6.MOBGS9QU7QVWUWRD.SEARCH&ppt=hp&ppn=homepage&ssid=t7o3907q280000001694347398905&qH=16e35e1c76bc3b93', 'https://www.flipkart.com/redmi-note-12-sunrise-gold-64-gb/p/itm5d170187bcbf0?pid=MOBGNYHZ7ZGHES2V&lid=LSTMOBGNYHZ7ZGHES2VQILAET&marketplace=FLIPKART&q=redmi+smartphone&store=tyy%2F4io&srno=s_1_21&otracker=search&otracker1=search&fm=organic&iid=1b46f281-1602-4314-bb73-75dafebd44e6.MOBGNYHZ7ZGHES2V.SEARCH&ppt=hp&ppn=homepage&ssid=t7o3907q280000001694347398905&qH=16e35e1c76bc3b93', 'https://www.flipkart.com/redmi-12c-lavender-purple-128-gb/p/itm3fe4e598a0358?pid=MOBGZEU9TYHQ8RGE&lid=LSTMOBGZEU9TYHQ8RGEJXEEKD&marketplace=FLIPKART&q=redmi+smartphone&store=tyy%2F4io&srno=s_1_22&otracker=search&otracker1=search&fm=organic&iid=1b46f281-1602-4314-bb73-75dafebd44e6.MOBGZEU9TYHQ8RGE.SEARCH&ppt=hp&ppn=homepage&ssid=t7o3907q280000001694347398905&qH=16e35e1c76bc3b93', 'https://www.flipkart.com/redmi-12c-mint-green-128-gb/p/itm3fe4e598a0358?pid=MOBGZEUDZWSZHYJM&lid=LSTMOBGZEUDZWSZHYJMPU2O1S&marketplace=FLIPKART&q=redmi+smartphone&store=tyy%2F4io&srno=s_1_23&otracker=search&otracker1=search&fm=organic&iid=1b46f281-1602-4314-bb73-75dafebd44e6.MOBGZEUDZWSZHYJM.SEARCH&ppt=hp&ppn=homepage&ssid=t7o3907q280000001694347398905&qH=16e35e1c76bc3b93', 'https://www.flipkart.com/redmi-12c-lavender-purple-64-gb/p/itm3fe4e598a0358?pid=MOBGZEVUSSJ8VGXZ&lid=LSTMOBGZEVUSSJ8VGXZQC5UNR&marketplace=FLIPKART&q=redmi+smartphone&store=tyy%2F4io&srno=s_1_24&otracker=search&otracker1=search&fm=organic&iid=1b46f281-1602-4314-bb73-75dafebd44e6.MOBGZEVUSSJ8VGXZ.SEARCH&ppt=hp&ppn=homepage&ssid=t7o3907q280000001694347398905&qH=16e35e1c76bc3b93']\n"
     ]
    },
    {
     "name": "stdout",
     "output_type": "stream",
     "text": [
      "['https://www.flipkart.com/redmi-12-moonstone-silver-128-gb/p/itme52e778c12701?pid=MOBGRMFK2MGRNG4Q&lid=LSTMOBGRMFK2MGRNG4QFZLVXT&marketplace=FLIPKART&q=redmi+smartphone&store=tyy%2F4io&spotlightTagId=BestsellerId_tyy%2F4io&srno=s_1_1&otracker=search&otracker1=search&fm=Search&iid=1b46f281-1602-4314-bb73-75dafebd44e6.MOBGRMFK2MGRNG4Q.SEARCH&ppt=sp&ppn=sp&ssid=t7o3907q280000001694347398905&qH=16e35e1c76bc3b93', 'https://www.flipkart.com/redmi-12-pastel-blue-128-gb/p/itm48719506a7ceb?pid=MOBGRMFKKGYD9ETX&lid=LSTMOBGRMFKKGYD9ETX5KD9VL&marketplace=FLIPKART&q=redmi+smartphone&store=tyy%2F4io&spotlightTagId=BestsellerId_tyy%2F4io&srno=s_1_2&otracker=search&otracker1=search&fm=Search&iid=1b46f281-1602-4314-bb73-75dafebd44e6.MOBGRMFKKGYD9ETX.SEARCH&ppt=sp&ppn=sp&ssid=t7o3907q280000001694347398905&qH=16e35e1c76bc3b93', 'https://www.flipkart.com/redmi-12-jade-black-128-gb/p/itmb7050ec01c09f?pid=MOBGRMFKTHKQSJEG&lid=LSTMOBGRMFKTHKQSJEGQK3FM2&marketplace=FLIPKART&q=redmi+smartphone&store=tyy%2F4io&spotlightTagId=BestsellerId_tyy%2F4io&srno=s_1_3&otracker=search&otracker1=search&fm=organic&iid=1b46f281-1602-4314-bb73-75dafebd44e6.MOBGRMFKTHKQSJEG.SEARCH&ppt=hp&ppn=homepage&ssid=t7o3907q280000001694347398905&qH=16e35e1c76bc3b93', 'https://www.flipkart.com/redmi-11-prime-peppy-purple-128-gb/p/itm52d6b0fe396e9?pid=MOBGZHFGUHYSHQYM&lid=LSTMOBGZHFGUHYSHQYMWGOOJ0&marketplace=FLIPKART&q=redmi+smartphone&store=tyy%2F4io&srno=s_1_4&otracker=search&otracker1=search&fm=organic&iid=1b46f281-1602-4314-bb73-75dafebd44e6.MOBGZHFGUHYSHQYM.SEARCH&ppt=hp&ppn=homepage&ssid=t7o3907q280000001694347398905&qH=16e35e1c76bc3b93', 'https://www.flipkart.com/redmi-12-pastel-blue-128-gb/p/itm9b1a6640faccd?pid=MOBGRMFKAHNTZPWE&lid=LSTMOBGRMFKAHNTZPWE1H5IWS&marketplace=FLIPKART&q=redmi+smartphone&store=tyy%2F4io&srno=s_1_5&otracker=search&otracker1=search&fm=organic&iid=1b46f281-1602-4314-bb73-75dafebd44e6.MOBGRMFKAHNTZPWE.SEARCH&ppt=hp&ppn=homepage&ssid=t7o3907q280000001694347398905&qH=16e35e1c76bc3b93', 'https://www.flipkart.com/redmi-a1-black-32-gb/p/itm70b00a77a7d1d?pid=MOBGGYBABVXHHRDQ&lid=LSTMOBGGYBABVXHHRDQTMWLXJ&marketplace=FLIPKART&q=redmi+smartphone&store=tyy%2F4io&srno=s_1_6&otracker=search&otracker1=search&fm=organic&iid=1b46f281-1602-4314-bb73-75dafebd44e6.MOBGGYBABVXHHRDQ.SEARCH&ppt=hp&ppn=homepage&ssid=t7o3907q280000001694347398905&qH=16e35e1c76bc3b93', 'https://www.flipkart.com/redmi-a1-light-green-32-gb/p/itmecc9e7ba0a1df?pid=MOBGGYBAHSAJVKHP&lid=LSTMOBGGYBAHSAJVKHP4UBD9A&marketplace=FLIPKART&q=redmi+smartphone&store=tyy%2F4io&srno=s_1_7&otracker=search&otracker1=search&fm=organic&iid=1b46f281-1602-4314-bb73-75dafebd44e6.MOBGGYBAHSAJVKHP.SEARCH&ppt=hp&ppn=homepage&ssid=t7o3907q280000001694347398905&qH=16e35e1c76bc3b93', 'https://www.flipkart.com/redmi-a2-aqua-blue-64-gb/p/itm5d49be2c0a95a?pid=MOBGPVYMG9RWX6XY&lid=LSTMOBGPVYMG9RWX6XYNJOQ2B&marketplace=FLIPKART&q=redmi+smartphone&store=tyy%2F4io&srno=s_1_8&otracker=search&otracker1=search&fm=organic&iid=1b46f281-1602-4314-bb73-75dafebd44e6.MOBGPVYMG9RWX6XY.SEARCH&ppt=hp&ppn=homepage&ssid=t7o3907q280000001694347398905&qH=16e35e1c76bc3b93', 'https://www.flipkart.com/redmi-a2-sea-green-32-gb/p/itm5d49be2c0a95a?pid=MOBGPVYATHJDTSSR&lid=LSTMOBGPVYATHJDTSSR6JMF4X&marketplace=FLIPKART&q=redmi+smartphone&store=tyy%2F4io&srno=s_1_9&otracker=search&otracker1=search&fm=organic&iid=1b46f281-1602-4314-bb73-75dafebd44e6.MOBGPVYATHJDTSSR.SEARCH&ppt=hp&ppn=homepage&ssid=t7o3907q280000001694347398905&qH=16e35e1c76bc3b93', 'https://www.flipkart.com/redmi-a2-aqua-blue-64-gb/p/itm5d49be2c0a95a?pid=MOBGR4UZWNAYKSUH&lid=LSTMOBGR4UZWNAYKSUHUXU5WM&marketplace=FLIPKART&q=redmi+smartphone&store=tyy%2F4io&srno=s_1_10&otracker=search&otracker1=search&fm=organic&iid=1b46f281-1602-4314-bb73-75dafebd44e6.MOBGR4UZWNAYKSUH.SEARCH&ppt=hp&ppn=homepage&ssid=t7o3907q280000001694347398905&qH=16e35e1c76bc3b93', 'https://www.flipkart.com/redmi-a2-classic-black-64-gb/p/itm5d49be2c0a95a?pid=MOBGPVYHRXZ3PFZU&lid=LSTMOBGPVYHRXZ3PFZU0QHLLF&marketplace=FLIPKART&q=redmi+smartphone&store=tyy%2F4io&srno=s_1_11&otracker=search&otracker1=search&fm=organic&iid=1b46f281-1602-4314-bb73-75dafebd44e6.MOBGPVYHRXZ3PFZU.SEARCH&ppt=hp&ppn=homepage&ssid=t7o3907q280000001694347398905&qH=16e35e1c76bc3b93', 'https://www.flipkart.com/redmi-9a-sport-coral-green-32-gb/p/itm53bc6ebfe147b?pid=MOBGHDXFKYSE5TPK&lid=LSTMOBGHDXFKYSE5TPKGHQ4XF&marketplace=FLIPKART&q=redmi+smartphone&store=tyy%2F4io&srno=s_1_12&otracker=search&otracker1=search&fm=organic&iid=1b46f281-1602-4314-bb73-75dafebd44e6.MOBGHDXFKYSE5TPK.SEARCH&ppt=hp&ppn=homepage&ssid=t7o3907q280000001694347398905&qH=16e35e1c76bc3b93', 'https://www.flipkart.com/redmi-6a-blue-16-gb/p/itm1ed294a755383?pid=MOBF9Z2Z3YDBSF6V&lid=LSTMOBF9Z2Z3YDBSF6VX16ZOH&marketplace=FLIPKART&q=redmi+smartphone&store=tyy%2F4io&srno=s_1_13&otracker=search&otracker1=search&fm=organic&iid=1b46f281-1602-4314-bb73-75dafebd44e6.MOBF9Z2Z3YDBSF6V.SEARCH&ppt=hp&ppn=homepage&ssid=t7o3907q280000001694347398905&qH=16e35e1c76bc3b93', 'https://www.flipkart.com/redmi-a2-aqua-blue-32-gb/p/itm5d49be2c0a95a?pid=MOBGPUZR8GHCE5ZQ&lid=LSTMOBGPUZR8GHCE5ZQ1P4DF9&marketplace=FLIPKART&q=redmi+smartphone&store=tyy%2F4io&srno=s_1_14&otracker=search&otracker1=search&fm=organic&iid=1b46f281-1602-4314-bb73-75dafebd44e6.MOBGPUZR8GHCE5ZQ.SEARCH&ppt=hp&ppn=homepage&ssid=t7o3907q280000001694347398905&qH=16e35e1c76bc3b93', 'https://www.flipkart.com/redmi-11-prime-playful-green-128-gb/p/itm0b080e6994972?pid=MOBGZHFGZQMESCDK&lid=LSTMOBGZHFGZQMESCDKZ6ILTE&marketplace=FLIPKART&q=redmi+smartphone&store=tyy%2F4io&srno=s_1_15&otracker=search&otracker1=search&fm=organic&iid=1b46f281-1602-4314-bb73-75dafebd44e6.MOBGZHFGZQMESCDK.SEARCH&ppt=hp&ppn=homepage&ssid=t7o3907q280000001694347398905&qH=16e35e1c76bc3b93', 'https://www.flipkart.com/redmi-a2-sea-green-64-gb/p/itm5d49be2c0a95a?pid=MOBGPVYEHMPGNCBZ&lid=LSTMOBGPVYEHMPGNCBZHUKI4Z&marketplace=FLIPKART&q=redmi+smartphone&store=tyy%2F4io&srno=s_1_16&otracker=search&otracker1=search&fm=organic&iid=1b46f281-1602-4314-bb73-75dafebd44e6.MOBGPVYEHMPGNCBZ.SEARCH&ppt=hp&ppn=homepage&ssid=t7o3907q280000001694347398905&qH=16e35e1c76bc3b93', 'https://www.flipkart.com/redmi-a2-classic-black-64-gb/p/itm5d49be2c0a95a?pid=MOBGRHB6XAEUADQB&lid=LSTMOBGRHB6XAEUADQBAI4AJ4&marketplace=FLIPKART&q=redmi+smartphone&store=tyy%2F4io&srno=s_1_17&otracker=search&otracker1=search&fm=organic&iid=1b46f281-1602-4314-bb73-75dafebd44e6.MOBGRHB6XAEUADQB.SEARCH&ppt=hp&ppn=homepage&ssid=t7o3907q280000001694347398905&qH=16e35e1c76bc3b93', 'https://www.flipkart.com/redmi-a2-sea-green-64-gb/p/itm5d49be2c0a95a?pid=MOBGRHB7GUUZG3QH&lid=LSTMOBGRHB7GUUZG3QHWXCHRR&marketplace=FLIPKART&q=redmi+smartphone&store=tyy%2F4io&srno=s_1_18&otracker=search&otracker1=search&fm=organic&iid=1b46f281-1602-4314-bb73-75dafebd44e6.MOBGRHB7GUUZG3QH.SEARCH&ppt=hp&ppn=homepage&ssid=t7o3907q280000001694347398905&qH=16e35e1c76bc3b93', 'https://www.flipkart.com/redmi-note-12-ice-blue-64-gb/p/itmee415766dfc1a?pid=MOBGNYHZYZ4CNTCM&lid=LSTMOBGNYHZYZ4CNTCMVONB0S&marketplace=FLIPKART&q=redmi+smartphone&store=tyy%2F4io&srno=s_1_19&otracker=search&otracker1=search&fm=organic&iid=1b46f281-1602-4314-bb73-75dafebd44e6.MOBGNYHZYZ4CNTCM.SEARCH&ppt=hp&ppn=homepage&ssid=t7o3907q280000001694347398905&qH=16e35e1c76bc3b93', 'https://www.flipkart.com/redmi-12-5g-jade-black-128-gb/p/itm0c8ba13f6fc5b?pid=MOBGS9QU7QVWUWRD&lid=LSTMOBGS9QU7QVWUWRDCTGYQ5&marketplace=FLIPKART&q=redmi+smartphone&store=tyy%2F4io&srno=s_1_20&otracker=search&otracker1=search&fm=organic&iid=1b46f281-1602-4314-bb73-75dafebd44e6.MOBGS9QU7QVWUWRD.SEARCH&ppt=hp&ppn=homepage&ssid=t7o3907q280000001694347398905&qH=16e35e1c76bc3b93', 'https://www.flipkart.com/redmi-note-12-sunrise-gold-64-gb/p/itm5d170187bcbf0?pid=MOBGNYHZ7ZGHES2V&lid=LSTMOBGNYHZ7ZGHES2VQILAET&marketplace=FLIPKART&q=redmi+smartphone&store=tyy%2F4io&srno=s_1_21&otracker=search&otracker1=search&fm=organic&iid=1b46f281-1602-4314-bb73-75dafebd44e6.MOBGNYHZ7ZGHES2V.SEARCH&ppt=hp&ppn=homepage&ssid=t7o3907q280000001694347398905&qH=16e35e1c76bc3b93', 'https://www.flipkart.com/redmi-12c-lavender-purple-128-gb/p/itm3fe4e598a0358?pid=MOBGZEU9TYHQ8RGE&lid=LSTMOBGZEU9TYHQ8RGEJXEEKD&marketplace=FLIPKART&q=redmi+smartphone&store=tyy%2F4io&srno=s_1_22&otracker=search&otracker1=search&fm=organic&iid=1b46f281-1602-4314-bb73-75dafebd44e6.MOBGZEU9TYHQ8RGE.SEARCH&ppt=hp&ppn=homepage&ssid=t7o3907q280000001694347398905&qH=16e35e1c76bc3b93', 'https://www.flipkart.com/redmi-12c-mint-green-128-gb/p/itm3fe4e598a0358?pid=MOBGZEUDZWSZHYJM&lid=LSTMOBGZEUDZWSZHYJMPU2O1S&marketplace=FLIPKART&q=redmi+smartphone&store=tyy%2F4io&srno=s_1_23&otracker=search&otracker1=search&fm=organic&iid=1b46f281-1602-4314-bb73-75dafebd44e6.MOBGZEUDZWSZHYJM.SEARCH&ppt=hp&ppn=homepage&ssid=t7o3907q280000001694347398905&qH=16e35e1c76bc3b93', 'https://www.flipkart.com/redmi-12c-lavender-purple-64-gb/p/itm3fe4e598a0358?pid=MOBGZEVUSSJ8VGXZ&lid=LSTMOBGZEVUSSJ8VGXZQC5UNR&marketplace=FLIPKART&q=redmi+smartphone&store=tyy%2F4io&srno=s_1_24&otracker=search&otracker1=search&fm=organic&iid=1b46f281-1602-4314-bb73-75dafebd44e6.MOBGZEVUSSJ8VGXZ.SEARCH&ppt=hp&ppn=homepage&ssid=t7o3907q280000001694347398905&qH=16e35e1c76bc3b93']\n",
      "['https://www.flipkart.com/redmi-12-moonstone-silver-128-gb/p/itme52e778c12701?pid=MOBGRMFK2MGRNG4Q&lid=LSTMOBGRMFK2MGRNG4QFZLVXT&marketplace=FLIPKART&q=redmi+smartphone&store=tyy%2F4io&spotlightTagId=BestsellerId_tyy%2F4io&srno=s_1_1&otracker=search&otracker1=search&fm=Search&iid=1b46f281-1602-4314-bb73-75dafebd44e6.MOBGRMFK2MGRNG4Q.SEARCH&ppt=sp&ppn=sp&ssid=t7o3907q280000001694347398905&qH=16e35e1c76bc3b93', 'https://www.flipkart.com/redmi-12-pastel-blue-128-gb/p/itm48719506a7ceb?pid=MOBGRMFKKGYD9ETX&lid=LSTMOBGRMFKKGYD9ETX5KD9VL&marketplace=FLIPKART&q=redmi+smartphone&store=tyy%2F4io&spotlightTagId=BestsellerId_tyy%2F4io&srno=s_1_2&otracker=search&otracker1=search&fm=Search&iid=1b46f281-1602-4314-bb73-75dafebd44e6.MOBGRMFKKGYD9ETX.SEARCH&ppt=sp&ppn=sp&ssid=t7o3907q280000001694347398905&qH=16e35e1c76bc3b93', 'https://www.flipkart.com/redmi-12-jade-black-128-gb/p/itmb7050ec01c09f?pid=MOBGRMFKTHKQSJEG&lid=LSTMOBGRMFKTHKQSJEGQK3FM2&marketplace=FLIPKART&q=redmi+smartphone&store=tyy%2F4io&spotlightTagId=BestsellerId_tyy%2F4io&srno=s_1_3&otracker=search&otracker1=search&fm=organic&iid=1b46f281-1602-4314-bb73-75dafebd44e6.MOBGRMFKTHKQSJEG.SEARCH&ppt=hp&ppn=homepage&ssid=t7o3907q280000001694347398905&qH=16e35e1c76bc3b93', 'https://www.flipkart.com/redmi-11-prime-peppy-purple-128-gb/p/itm52d6b0fe396e9?pid=MOBGZHFGUHYSHQYM&lid=LSTMOBGZHFGUHYSHQYMWGOOJ0&marketplace=FLIPKART&q=redmi+smartphone&store=tyy%2F4io&srno=s_1_4&otracker=search&otracker1=search&fm=organic&iid=1b46f281-1602-4314-bb73-75dafebd44e6.MOBGZHFGUHYSHQYM.SEARCH&ppt=hp&ppn=homepage&ssid=t7o3907q280000001694347398905&qH=16e35e1c76bc3b93', 'https://www.flipkart.com/redmi-12-pastel-blue-128-gb/p/itm9b1a6640faccd?pid=MOBGRMFKAHNTZPWE&lid=LSTMOBGRMFKAHNTZPWE1H5IWS&marketplace=FLIPKART&q=redmi+smartphone&store=tyy%2F4io&srno=s_1_5&otracker=search&otracker1=search&fm=organic&iid=1b46f281-1602-4314-bb73-75dafebd44e6.MOBGRMFKAHNTZPWE.SEARCH&ppt=hp&ppn=homepage&ssid=t7o3907q280000001694347398905&qH=16e35e1c76bc3b93', 'https://www.flipkart.com/redmi-a1-black-32-gb/p/itm70b00a77a7d1d?pid=MOBGGYBABVXHHRDQ&lid=LSTMOBGGYBABVXHHRDQTMWLXJ&marketplace=FLIPKART&q=redmi+smartphone&store=tyy%2F4io&srno=s_1_6&otracker=search&otracker1=search&fm=organic&iid=1b46f281-1602-4314-bb73-75dafebd44e6.MOBGGYBABVXHHRDQ.SEARCH&ppt=hp&ppn=homepage&ssid=t7o3907q280000001694347398905&qH=16e35e1c76bc3b93', 'https://www.flipkart.com/redmi-a1-light-green-32-gb/p/itmecc9e7ba0a1df?pid=MOBGGYBAHSAJVKHP&lid=LSTMOBGGYBAHSAJVKHP4UBD9A&marketplace=FLIPKART&q=redmi+smartphone&store=tyy%2F4io&srno=s_1_7&otracker=search&otracker1=search&fm=organic&iid=1b46f281-1602-4314-bb73-75dafebd44e6.MOBGGYBAHSAJVKHP.SEARCH&ppt=hp&ppn=homepage&ssid=t7o3907q280000001694347398905&qH=16e35e1c76bc3b93', 'https://www.flipkart.com/redmi-a2-aqua-blue-64-gb/p/itm5d49be2c0a95a?pid=MOBGPVYMG9RWX6XY&lid=LSTMOBGPVYMG9RWX6XYNJOQ2B&marketplace=FLIPKART&q=redmi+smartphone&store=tyy%2F4io&srno=s_1_8&otracker=search&otracker1=search&fm=organic&iid=1b46f281-1602-4314-bb73-75dafebd44e6.MOBGPVYMG9RWX6XY.SEARCH&ppt=hp&ppn=homepage&ssid=t7o3907q280000001694347398905&qH=16e35e1c76bc3b93', 'https://www.flipkart.com/redmi-a2-sea-green-32-gb/p/itm5d49be2c0a95a?pid=MOBGPVYATHJDTSSR&lid=LSTMOBGPVYATHJDTSSR6JMF4X&marketplace=FLIPKART&q=redmi+smartphone&store=tyy%2F4io&srno=s_1_9&otracker=search&otracker1=search&fm=organic&iid=1b46f281-1602-4314-bb73-75dafebd44e6.MOBGPVYATHJDTSSR.SEARCH&ppt=hp&ppn=homepage&ssid=t7o3907q280000001694347398905&qH=16e35e1c76bc3b93', 'https://www.flipkart.com/redmi-a2-aqua-blue-64-gb/p/itm5d49be2c0a95a?pid=MOBGR4UZWNAYKSUH&lid=LSTMOBGR4UZWNAYKSUHUXU5WM&marketplace=FLIPKART&q=redmi+smartphone&store=tyy%2F4io&srno=s_1_10&otracker=search&otracker1=search&fm=organic&iid=1b46f281-1602-4314-bb73-75dafebd44e6.MOBGR4UZWNAYKSUH.SEARCH&ppt=hp&ppn=homepage&ssid=t7o3907q280000001694347398905&qH=16e35e1c76bc3b93', 'https://www.flipkart.com/redmi-a2-classic-black-64-gb/p/itm5d49be2c0a95a?pid=MOBGPVYHRXZ3PFZU&lid=LSTMOBGPVYHRXZ3PFZU0QHLLF&marketplace=FLIPKART&q=redmi+smartphone&store=tyy%2F4io&srno=s_1_11&otracker=search&otracker1=search&fm=organic&iid=1b46f281-1602-4314-bb73-75dafebd44e6.MOBGPVYHRXZ3PFZU.SEARCH&ppt=hp&ppn=homepage&ssid=t7o3907q280000001694347398905&qH=16e35e1c76bc3b93', 'https://www.flipkart.com/redmi-9a-sport-coral-green-32-gb/p/itm53bc6ebfe147b?pid=MOBGHDXFKYSE5TPK&lid=LSTMOBGHDXFKYSE5TPKGHQ4XF&marketplace=FLIPKART&q=redmi+smartphone&store=tyy%2F4io&srno=s_1_12&otracker=search&otracker1=search&fm=organic&iid=1b46f281-1602-4314-bb73-75dafebd44e6.MOBGHDXFKYSE5TPK.SEARCH&ppt=hp&ppn=homepage&ssid=t7o3907q280000001694347398905&qH=16e35e1c76bc3b93', 'https://www.flipkart.com/redmi-6a-blue-16-gb/p/itm1ed294a755383?pid=MOBF9Z2Z3YDBSF6V&lid=LSTMOBF9Z2Z3YDBSF6VX16ZOH&marketplace=FLIPKART&q=redmi+smartphone&store=tyy%2F4io&srno=s_1_13&otracker=search&otracker1=search&fm=organic&iid=1b46f281-1602-4314-bb73-75dafebd44e6.MOBF9Z2Z3YDBSF6V.SEARCH&ppt=hp&ppn=homepage&ssid=t7o3907q280000001694347398905&qH=16e35e1c76bc3b93', 'https://www.flipkart.com/redmi-a2-aqua-blue-32-gb/p/itm5d49be2c0a95a?pid=MOBGPUZR8GHCE5ZQ&lid=LSTMOBGPUZR8GHCE5ZQ1P4DF9&marketplace=FLIPKART&q=redmi+smartphone&store=tyy%2F4io&srno=s_1_14&otracker=search&otracker1=search&fm=organic&iid=1b46f281-1602-4314-bb73-75dafebd44e6.MOBGPUZR8GHCE5ZQ.SEARCH&ppt=hp&ppn=homepage&ssid=t7o3907q280000001694347398905&qH=16e35e1c76bc3b93', 'https://www.flipkart.com/redmi-11-prime-playful-green-128-gb/p/itm0b080e6994972?pid=MOBGZHFGZQMESCDK&lid=LSTMOBGZHFGZQMESCDKZ6ILTE&marketplace=FLIPKART&q=redmi+smartphone&store=tyy%2F4io&srno=s_1_15&otracker=search&otracker1=search&fm=organic&iid=1b46f281-1602-4314-bb73-75dafebd44e6.MOBGZHFGZQMESCDK.SEARCH&ppt=hp&ppn=homepage&ssid=t7o3907q280000001694347398905&qH=16e35e1c76bc3b93', 'https://www.flipkart.com/redmi-a2-sea-green-64-gb/p/itm5d49be2c0a95a?pid=MOBGPVYEHMPGNCBZ&lid=LSTMOBGPVYEHMPGNCBZHUKI4Z&marketplace=FLIPKART&q=redmi+smartphone&store=tyy%2F4io&srno=s_1_16&otracker=search&otracker1=search&fm=organic&iid=1b46f281-1602-4314-bb73-75dafebd44e6.MOBGPVYEHMPGNCBZ.SEARCH&ppt=hp&ppn=homepage&ssid=t7o3907q280000001694347398905&qH=16e35e1c76bc3b93', 'https://www.flipkart.com/redmi-a2-classic-black-64-gb/p/itm5d49be2c0a95a?pid=MOBGRHB6XAEUADQB&lid=LSTMOBGRHB6XAEUADQBAI4AJ4&marketplace=FLIPKART&q=redmi+smartphone&store=tyy%2F4io&srno=s_1_17&otracker=search&otracker1=search&fm=organic&iid=1b46f281-1602-4314-bb73-75dafebd44e6.MOBGRHB6XAEUADQB.SEARCH&ppt=hp&ppn=homepage&ssid=t7o3907q280000001694347398905&qH=16e35e1c76bc3b93', 'https://www.flipkart.com/redmi-a2-sea-green-64-gb/p/itm5d49be2c0a95a?pid=MOBGRHB7GUUZG3QH&lid=LSTMOBGRHB7GUUZG3QHWXCHRR&marketplace=FLIPKART&q=redmi+smartphone&store=tyy%2F4io&srno=s_1_18&otracker=search&otracker1=search&fm=organic&iid=1b46f281-1602-4314-bb73-75dafebd44e6.MOBGRHB7GUUZG3QH.SEARCH&ppt=hp&ppn=homepage&ssid=t7o3907q280000001694347398905&qH=16e35e1c76bc3b93', 'https://www.flipkart.com/redmi-note-12-ice-blue-64-gb/p/itmee415766dfc1a?pid=MOBGNYHZYZ4CNTCM&lid=LSTMOBGNYHZYZ4CNTCMVONB0S&marketplace=FLIPKART&q=redmi+smartphone&store=tyy%2F4io&srno=s_1_19&otracker=search&otracker1=search&fm=organic&iid=1b46f281-1602-4314-bb73-75dafebd44e6.MOBGNYHZYZ4CNTCM.SEARCH&ppt=hp&ppn=homepage&ssid=t7o3907q280000001694347398905&qH=16e35e1c76bc3b93', 'https://www.flipkart.com/redmi-12-5g-jade-black-128-gb/p/itm0c8ba13f6fc5b?pid=MOBGS9QU7QVWUWRD&lid=LSTMOBGS9QU7QVWUWRDCTGYQ5&marketplace=FLIPKART&q=redmi+smartphone&store=tyy%2F4io&srno=s_1_20&otracker=search&otracker1=search&fm=organic&iid=1b46f281-1602-4314-bb73-75dafebd44e6.MOBGS9QU7QVWUWRD.SEARCH&ppt=hp&ppn=homepage&ssid=t7o3907q280000001694347398905&qH=16e35e1c76bc3b93', 'https://www.flipkart.com/redmi-note-12-sunrise-gold-64-gb/p/itm5d170187bcbf0?pid=MOBGNYHZ7ZGHES2V&lid=LSTMOBGNYHZ7ZGHES2VQILAET&marketplace=FLIPKART&q=redmi+smartphone&store=tyy%2F4io&srno=s_1_21&otracker=search&otracker1=search&fm=organic&iid=1b46f281-1602-4314-bb73-75dafebd44e6.MOBGNYHZ7ZGHES2V.SEARCH&ppt=hp&ppn=homepage&ssid=t7o3907q280000001694347398905&qH=16e35e1c76bc3b93', 'https://www.flipkart.com/redmi-12c-lavender-purple-128-gb/p/itm3fe4e598a0358?pid=MOBGZEU9TYHQ8RGE&lid=LSTMOBGZEU9TYHQ8RGEJXEEKD&marketplace=FLIPKART&q=redmi+smartphone&store=tyy%2F4io&srno=s_1_22&otracker=search&otracker1=search&fm=organic&iid=1b46f281-1602-4314-bb73-75dafebd44e6.MOBGZEU9TYHQ8RGE.SEARCH&ppt=hp&ppn=homepage&ssid=t7o3907q280000001694347398905&qH=16e35e1c76bc3b93', 'https://www.flipkart.com/redmi-12c-mint-green-128-gb/p/itm3fe4e598a0358?pid=MOBGZEUDZWSZHYJM&lid=LSTMOBGZEUDZWSZHYJMPU2O1S&marketplace=FLIPKART&q=redmi+smartphone&store=tyy%2F4io&srno=s_1_23&otracker=search&otracker1=search&fm=organic&iid=1b46f281-1602-4314-bb73-75dafebd44e6.MOBGZEUDZWSZHYJM.SEARCH&ppt=hp&ppn=homepage&ssid=t7o3907q280000001694347398905&qH=16e35e1c76bc3b93', 'https://www.flipkart.com/redmi-12c-lavender-purple-64-gb/p/itm3fe4e598a0358?pid=MOBGZEVUSSJ8VGXZ&lid=LSTMOBGZEVUSSJ8VGXZQC5UNR&marketplace=FLIPKART&q=redmi+smartphone&store=tyy%2F4io&srno=s_1_24&otracker=search&otracker1=search&fm=organic&iid=1b46f281-1602-4314-bb73-75dafebd44e6.MOBGZEVUSSJ8VGXZ.SEARCH&ppt=hp&ppn=homepage&ssid=t7o3907q280000001694347398905&qH=16e35e1c76bc3b93']\n"
     ]
    },
    {
     "name": "stdout",
     "output_type": "stream",
     "text": [
      "['https://www.flipkart.com/redmi-12-moonstone-silver-128-gb/p/itme52e778c12701?pid=MOBGRMFK2MGRNG4Q&lid=LSTMOBGRMFK2MGRNG4QFZLVXT&marketplace=FLIPKART&q=redmi+smartphone&store=tyy%2F4io&spotlightTagId=BestsellerId_tyy%2F4io&srno=s_1_1&otracker=search&otracker1=search&fm=Search&iid=1b46f281-1602-4314-bb73-75dafebd44e6.MOBGRMFK2MGRNG4Q.SEARCH&ppt=sp&ppn=sp&ssid=t7o3907q280000001694347398905&qH=16e35e1c76bc3b93', 'https://www.flipkart.com/redmi-12-pastel-blue-128-gb/p/itm48719506a7ceb?pid=MOBGRMFKKGYD9ETX&lid=LSTMOBGRMFKKGYD9ETX5KD9VL&marketplace=FLIPKART&q=redmi+smartphone&store=tyy%2F4io&spotlightTagId=BestsellerId_tyy%2F4io&srno=s_1_2&otracker=search&otracker1=search&fm=Search&iid=1b46f281-1602-4314-bb73-75dafebd44e6.MOBGRMFKKGYD9ETX.SEARCH&ppt=sp&ppn=sp&ssid=t7o3907q280000001694347398905&qH=16e35e1c76bc3b93', 'https://www.flipkart.com/redmi-12-jade-black-128-gb/p/itmb7050ec01c09f?pid=MOBGRMFKTHKQSJEG&lid=LSTMOBGRMFKTHKQSJEGQK3FM2&marketplace=FLIPKART&q=redmi+smartphone&store=tyy%2F4io&spotlightTagId=BestsellerId_tyy%2F4io&srno=s_1_3&otracker=search&otracker1=search&fm=organic&iid=1b46f281-1602-4314-bb73-75dafebd44e6.MOBGRMFKTHKQSJEG.SEARCH&ppt=hp&ppn=homepage&ssid=t7o3907q280000001694347398905&qH=16e35e1c76bc3b93', 'https://www.flipkart.com/redmi-11-prime-peppy-purple-128-gb/p/itm52d6b0fe396e9?pid=MOBGZHFGUHYSHQYM&lid=LSTMOBGZHFGUHYSHQYMWGOOJ0&marketplace=FLIPKART&q=redmi+smartphone&store=tyy%2F4io&srno=s_1_4&otracker=search&otracker1=search&fm=organic&iid=1b46f281-1602-4314-bb73-75dafebd44e6.MOBGZHFGUHYSHQYM.SEARCH&ppt=hp&ppn=homepage&ssid=t7o3907q280000001694347398905&qH=16e35e1c76bc3b93', 'https://www.flipkart.com/redmi-12-pastel-blue-128-gb/p/itm9b1a6640faccd?pid=MOBGRMFKAHNTZPWE&lid=LSTMOBGRMFKAHNTZPWE1H5IWS&marketplace=FLIPKART&q=redmi+smartphone&store=tyy%2F4io&srno=s_1_5&otracker=search&otracker1=search&fm=organic&iid=1b46f281-1602-4314-bb73-75dafebd44e6.MOBGRMFKAHNTZPWE.SEARCH&ppt=hp&ppn=homepage&ssid=t7o3907q280000001694347398905&qH=16e35e1c76bc3b93', 'https://www.flipkart.com/redmi-a1-black-32-gb/p/itm70b00a77a7d1d?pid=MOBGGYBABVXHHRDQ&lid=LSTMOBGGYBABVXHHRDQTMWLXJ&marketplace=FLIPKART&q=redmi+smartphone&store=tyy%2F4io&srno=s_1_6&otracker=search&otracker1=search&fm=organic&iid=1b46f281-1602-4314-bb73-75dafebd44e6.MOBGGYBABVXHHRDQ.SEARCH&ppt=hp&ppn=homepage&ssid=t7o3907q280000001694347398905&qH=16e35e1c76bc3b93', 'https://www.flipkart.com/redmi-a1-light-green-32-gb/p/itmecc9e7ba0a1df?pid=MOBGGYBAHSAJVKHP&lid=LSTMOBGGYBAHSAJVKHP4UBD9A&marketplace=FLIPKART&q=redmi+smartphone&store=tyy%2F4io&srno=s_1_7&otracker=search&otracker1=search&fm=organic&iid=1b46f281-1602-4314-bb73-75dafebd44e6.MOBGGYBAHSAJVKHP.SEARCH&ppt=hp&ppn=homepage&ssid=t7o3907q280000001694347398905&qH=16e35e1c76bc3b93', 'https://www.flipkart.com/redmi-a2-aqua-blue-64-gb/p/itm5d49be2c0a95a?pid=MOBGPVYMG9RWX6XY&lid=LSTMOBGPVYMG9RWX6XYNJOQ2B&marketplace=FLIPKART&q=redmi+smartphone&store=tyy%2F4io&srno=s_1_8&otracker=search&otracker1=search&fm=organic&iid=1b46f281-1602-4314-bb73-75dafebd44e6.MOBGPVYMG9RWX6XY.SEARCH&ppt=hp&ppn=homepage&ssid=t7o3907q280000001694347398905&qH=16e35e1c76bc3b93', 'https://www.flipkart.com/redmi-a2-sea-green-32-gb/p/itm5d49be2c0a95a?pid=MOBGPVYATHJDTSSR&lid=LSTMOBGPVYATHJDTSSR6JMF4X&marketplace=FLIPKART&q=redmi+smartphone&store=tyy%2F4io&srno=s_1_9&otracker=search&otracker1=search&fm=organic&iid=1b46f281-1602-4314-bb73-75dafebd44e6.MOBGPVYATHJDTSSR.SEARCH&ppt=hp&ppn=homepage&ssid=t7o3907q280000001694347398905&qH=16e35e1c76bc3b93', 'https://www.flipkart.com/redmi-a2-aqua-blue-64-gb/p/itm5d49be2c0a95a?pid=MOBGR4UZWNAYKSUH&lid=LSTMOBGR4UZWNAYKSUHUXU5WM&marketplace=FLIPKART&q=redmi+smartphone&store=tyy%2F4io&srno=s_1_10&otracker=search&otracker1=search&fm=organic&iid=1b46f281-1602-4314-bb73-75dafebd44e6.MOBGR4UZWNAYKSUH.SEARCH&ppt=hp&ppn=homepage&ssid=t7o3907q280000001694347398905&qH=16e35e1c76bc3b93', 'https://www.flipkart.com/redmi-a2-classic-black-64-gb/p/itm5d49be2c0a95a?pid=MOBGPVYHRXZ3PFZU&lid=LSTMOBGPVYHRXZ3PFZU0QHLLF&marketplace=FLIPKART&q=redmi+smartphone&store=tyy%2F4io&srno=s_1_11&otracker=search&otracker1=search&fm=organic&iid=1b46f281-1602-4314-bb73-75dafebd44e6.MOBGPVYHRXZ3PFZU.SEARCH&ppt=hp&ppn=homepage&ssid=t7o3907q280000001694347398905&qH=16e35e1c76bc3b93', 'https://www.flipkart.com/redmi-9a-sport-coral-green-32-gb/p/itm53bc6ebfe147b?pid=MOBGHDXFKYSE5TPK&lid=LSTMOBGHDXFKYSE5TPKGHQ4XF&marketplace=FLIPKART&q=redmi+smartphone&store=tyy%2F4io&srno=s_1_12&otracker=search&otracker1=search&fm=organic&iid=1b46f281-1602-4314-bb73-75dafebd44e6.MOBGHDXFKYSE5TPK.SEARCH&ppt=hp&ppn=homepage&ssid=t7o3907q280000001694347398905&qH=16e35e1c76bc3b93', 'https://www.flipkart.com/redmi-6a-blue-16-gb/p/itm1ed294a755383?pid=MOBF9Z2Z3YDBSF6V&lid=LSTMOBF9Z2Z3YDBSF6VX16ZOH&marketplace=FLIPKART&q=redmi+smartphone&store=tyy%2F4io&srno=s_1_13&otracker=search&otracker1=search&fm=organic&iid=1b46f281-1602-4314-bb73-75dafebd44e6.MOBF9Z2Z3YDBSF6V.SEARCH&ppt=hp&ppn=homepage&ssid=t7o3907q280000001694347398905&qH=16e35e1c76bc3b93', 'https://www.flipkart.com/redmi-a2-aqua-blue-32-gb/p/itm5d49be2c0a95a?pid=MOBGPUZR8GHCE5ZQ&lid=LSTMOBGPUZR8GHCE5ZQ1P4DF9&marketplace=FLIPKART&q=redmi+smartphone&store=tyy%2F4io&srno=s_1_14&otracker=search&otracker1=search&fm=organic&iid=1b46f281-1602-4314-bb73-75dafebd44e6.MOBGPUZR8GHCE5ZQ.SEARCH&ppt=hp&ppn=homepage&ssid=t7o3907q280000001694347398905&qH=16e35e1c76bc3b93', 'https://www.flipkart.com/redmi-11-prime-playful-green-128-gb/p/itm0b080e6994972?pid=MOBGZHFGZQMESCDK&lid=LSTMOBGZHFGZQMESCDKZ6ILTE&marketplace=FLIPKART&q=redmi+smartphone&store=tyy%2F4io&srno=s_1_15&otracker=search&otracker1=search&fm=organic&iid=1b46f281-1602-4314-bb73-75dafebd44e6.MOBGZHFGZQMESCDK.SEARCH&ppt=hp&ppn=homepage&ssid=t7o3907q280000001694347398905&qH=16e35e1c76bc3b93', 'https://www.flipkart.com/redmi-a2-sea-green-64-gb/p/itm5d49be2c0a95a?pid=MOBGPVYEHMPGNCBZ&lid=LSTMOBGPVYEHMPGNCBZHUKI4Z&marketplace=FLIPKART&q=redmi+smartphone&store=tyy%2F4io&srno=s_1_16&otracker=search&otracker1=search&fm=organic&iid=1b46f281-1602-4314-bb73-75dafebd44e6.MOBGPVYEHMPGNCBZ.SEARCH&ppt=hp&ppn=homepage&ssid=t7o3907q280000001694347398905&qH=16e35e1c76bc3b93', 'https://www.flipkart.com/redmi-a2-classic-black-64-gb/p/itm5d49be2c0a95a?pid=MOBGRHB6XAEUADQB&lid=LSTMOBGRHB6XAEUADQBAI4AJ4&marketplace=FLIPKART&q=redmi+smartphone&store=tyy%2F4io&srno=s_1_17&otracker=search&otracker1=search&fm=organic&iid=1b46f281-1602-4314-bb73-75dafebd44e6.MOBGRHB6XAEUADQB.SEARCH&ppt=hp&ppn=homepage&ssid=t7o3907q280000001694347398905&qH=16e35e1c76bc3b93', 'https://www.flipkart.com/redmi-a2-sea-green-64-gb/p/itm5d49be2c0a95a?pid=MOBGRHB7GUUZG3QH&lid=LSTMOBGRHB7GUUZG3QHWXCHRR&marketplace=FLIPKART&q=redmi+smartphone&store=tyy%2F4io&srno=s_1_18&otracker=search&otracker1=search&fm=organic&iid=1b46f281-1602-4314-bb73-75dafebd44e6.MOBGRHB7GUUZG3QH.SEARCH&ppt=hp&ppn=homepage&ssid=t7o3907q280000001694347398905&qH=16e35e1c76bc3b93', 'https://www.flipkart.com/redmi-note-12-ice-blue-64-gb/p/itmee415766dfc1a?pid=MOBGNYHZYZ4CNTCM&lid=LSTMOBGNYHZYZ4CNTCMVONB0S&marketplace=FLIPKART&q=redmi+smartphone&store=tyy%2F4io&srno=s_1_19&otracker=search&otracker1=search&fm=organic&iid=1b46f281-1602-4314-bb73-75dafebd44e6.MOBGNYHZYZ4CNTCM.SEARCH&ppt=hp&ppn=homepage&ssid=t7o3907q280000001694347398905&qH=16e35e1c76bc3b93', 'https://www.flipkart.com/redmi-12-5g-jade-black-128-gb/p/itm0c8ba13f6fc5b?pid=MOBGS9QU7QVWUWRD&lid=LSTMOBGS9QU7QVWUWRDCTGYQ5&marketplace=FLIPKART&q=redmi+smartphone&store=tyy%2F4io&srno=s_1_20&otracker=search&otracker1=search&fm=organic&iid=1b46f281-1602-4314-bb73-75dafebd44e6.MOBGS9QU7QVWUWRD.SEARCH&ppt=hp&ppn=homepage&ssid=t7o3907q280000001694347398905&qH=16e35e1c76bc3b93', 'https://www.flipkart.com/redmi-note-12-sunrise-gold-64-gb/p/itm5d170187bcbf0?pid=MOBGNYHZ7ZGHES2V&lid=LSTMOBGNYHZ7ZGHES2VQILAET&marketplace=FLIPKART&q=redmi+smartphone&store=tyy%2F4io&srno=s_1_21&otracker=search&otracker1=search&fm=organic&iid=1b46f281-1602-4314-bb73-75dafebd44e6.MOBGNYHZ7ZGHES2V.SEARCH&ppt=hp&ppn=homepage&ssid=t7o3907q280000001694347398905&qH=16e35e1c76bc3b93', 'https://www.flipkart.com/redmi-12c-lavender-purple-128-gb/p/itm3fe4e598a0358?pid=MOBGZEU9TYHQ8RGE&lid=LSTMOBGZEU9TYHQ8RGEJXEEKD&marketplace=FLIPKART&q=redmi+smartphone&store=tyy%2F4io&srno=s_1_22&otracker=search&otracker1=search&fm=organic&iid=1b46f281-1602-4314-bb73-75dafebd44e6.MOBGZEU9TYHQ8RGE.SEARCH&ppt=hp&ppn=homepage&ssid=t7o3907q280000001694347398905&qH=16e35e1c76bc3b93', 'https://www.flipkart.com/redmi-12c-mint-green-128-gb/p/itm3fe4e598a0358?pid=MOBGZEUDZWSZHYJM&lid=LSTMOBGZEUDZWSZHYJMPU2O1S&marketplace=FLIPKART&q=redmi+smartphone&store=tyy%2F4io&srno=s_1_23&otracker=search&otracker1=search&fm=organic&iid=1b46f281-1602-4314-bb73-75dafebd44e6.MOBGZEUDZWSZHYJM.SEARCH&ppt=hp&ppn=homepage&ssid=t7o3907q280000001694347398905&qH=16e35e1c76bc3b93', 'https://www.flipkart.com/redmi-12c-lavender-purple-64-gb/p/itm3fe4e598a0358?pid=MOBGZEVUSSJ8VGXZ&lid=LSTMOBGZEVUSSJ8VGXZQC5UNR&marketplace=FLIPKART&q=redmi+smartphone&store=tyy%2F4io&srno=s_1_24&otracker=search&otracker1=search&fm=organic&iid=1b46f281-1602-4314-bb73-75dafebd44e6.MOBGZEVUSSJ8VGXZ.SEARCH&ppt=hp&ppn=homepage&ssid=t7o3907q280000001694347398905&qH=16e35e1c76bc3b93']\n",
      "['https://www.flipkart.com/redmi-12-moonstone-silver-128-gb/p/itme52e778c12701?pid=MOBGRMFK2MGRNG4Q&lid=LSTMOBGRMFK2MGRNG4QFZLVXT&marketplace=FLIPKART&q=redmi+smartphone&store=tyy%2F4io&spotlightTagId=BestsellerId_tyy%2F4io&srno=s_1_1&otracker=search&otracker1=search&fm=Search&iid=1b46f281-1602-4314-bb73-75dafebd44e6.MOBGRMFK2MGRNG4Q.SEARCH&ppt=sp&ppn=sp&ssid=t7o3907q280000001694347398905&qH=16e35e1c76bc3b93', 'https://www.flipkart.com/redmi-12-pastel-blue-128-gb/p/itm48719506a7ceb?pid=MOBGRMFKKGYD9ETX&lid=LSTMOBGRMFKKGYD9ETX5KD9VL&marketplace=FLIPKART&q=redmi+smartphone&store=tyy%2F4io&spotlightTagId=BestsellerId_tyy%2F4io&srno=s_1_2&otracker=search&otracker1=search&fm=Search&iid=1b46f281-1602-4314-bb73-75dafebd44e6.MOBGRMFKKGYD9ETX.SEARCH&ppt=sp&ppn=sp&ssid=t7o3907q280000001694347398905&qH=16e35e1c76bc3b93', 'https://www.flipkart.com/redmi-12-jade-black-128-gb/p/itmb7050ec01c09f?pid=MOBGRMFKTHKQSJEG&lid=LSTMOBGRMFKTHKQSJEGQK3FM2&marketplace=FLIPKART&q=redmi+smartphone&store=tyy%2F4io&spotlightTagId=BestsellerId_tyy%2F4io&srno=s_1_3&otracker=search&otracker1=search&fm=organic&iid=1b46f281-1602-4314-bb73-75dafebd44e6.MOBGRMFKTHKQSJEG.SEARCH&ppt=hp&ppn=homepage&ssid=t7o3907q280000001694347398905&qH=16e35e1c76bc3b93', 'https://www.flipkart.com/redmi-11-prime-peppy-purple-128-gb/p/itm52d6b0fe396e9?pid=MOBGZHFGUHYSHQYM&lid=LSTMOBGZHFGUHYSHQYMWGOOJ0&marketplace=FLIPKART&q=redmi+smartphone&store=tyy%2F4io&srno=s_1_4&otracker=search&otracker1=search&fm=organic&iid=1b46f281-1602-4314-bb73-75dafebd44e6.MOBGZHFGUHYSHQYM.SEARCH&ppt=hp&ppn=homepage&ssid=t7o3907q280000001694347398905&qH=16e35e1c76bc3b93', 'https://www.flipkart.com/redmi-12-pastel-blue-128-gb/p/itm9b1a6640faccd?pid=MOBGRMFKAHNTZPWE&lid=LSTMOBGRMFKAHNTZPWE1H5IWS&marketplace=FLIPKART&q=redmi+smartphone&store=tyy%2F4io&srno=s_1_5&otracker=search&otracker1=search&fm=organic&iid=1b46f281-1602-4314-bb73-75dafebd44e6.MOBGRMFKAHNTZPWE.SEARCH&ppt=hp&ppn=homepage&ssid=t7o3907q280000001694347398905&qH=16e35e1c76bc3b93', 'https://www.flipkart.com/redmi-a1-black-32-gb/p/itm70b00a77a7d1d?pid=MOBGGYBABVXHHRDQ&lid=LSTMOBGGYBABVXHHRDQTMWLXJ&marketplace=FLIPKART&q=redmi+smartphone&store=tyy%2F4io&srno=s_1_6&otracker=search&otracker1=search&fm=organic&iid=1b46f281-1602-4314-bb73-75dafebd44e6.MOBGGYBABVXHHRDQ.SEARCH&ppt=hp&ppn=homepage&ssid=t7o3907q280000001694347398905&qH=16e35e1c76bc3b93', 'https://www.flipkart.com/redmi-a1-light-green-32-gb/p/itmecc9e7ba0a1df?pid=MOBGGYBAHSAJVKHP&lid=LSTMOBGGYBAHSAJVKHP4UBD9A&marketplace=FLIPKART&q=redmi+smartphone&store=tyy%2F4io&srno=s_1_7&otracker=search&otracker1=search&fm=organic&iid=1b46f281-1602-4314-bb73-75dafebd44e6.MOBGGYBAHSAJVKHP.SEARCH&ppt=hp&ppn=homepage&ssid=t7o3907q280000001694347398905&qH=16e35e1c76bc3b93', 'https://www.flipkart.com/redmi-a2-aqua-blue-64-gb/p/itm5d49be2c0a95a?pid=MOBGPVYMG9RWX6XY&lid=LSTMOBGPVYMG9RWX6XYNJOQ2B&marketplace=FLIPKART&q=redmi+smartphone&store=tyy%2F4io&srno=s_1_8&otracker=search&otracker1=search&fm=organic&iid=1b46f281-1602-4314-bb73-75dafebd44e6.MOBGPVYMG9RWX6XY.SEARCH&ppt=hp&ppn=homepage&ssid=t7o3907q280000001694347398905&qH=16e35e1c76bc3b93', 'https://www.flipkart.com/redmi-a2-sea-green-32-gb/p/itm5d49be2c0a95a?pid=MOBGPVYATHJDTSSR&lid=LSTMOBGPVYATHJDTSSR6JMF4X&marketplace=FLIPKART&q=redmi+smartphone&store=tyy%2F4io&srno=s_1_9&otracker=search&otracker1=search&fm=organic&iid=1b46f281-1602-4314-bb73-75dafebd44e6.MOBGPVYATHJDTSSR.SEARCH&ppt=hp&ppn=homepage&ssid=t7o3907q280000001694347398905&qH=16e35e1c76bc3b93', 'https://www.flipkart.com/redmi-a2-aqua-blue-64-gb/p/itm5d49be2c0a95a?pid=MOBGR4UZWNAYKSUH&lid=LSTMOBGR4UZWNAYKSUHUXU5WM&marketplace=FLIPKART&q=redmi+smartphone&store=tyy%2F4io&srno=s_1_10&otracker=search&otracker1=search&fm=organic&iid=1b46f281-1602-4314-bb73-75dafebd44e6.MOBGR4UZWNAYKSUH.SEARCH&ppt=hp&ppn=homepage&ssid=t7o3907q280000001694347398905&qH=16e35e1c76bc3b93', 'https://www.flipkart.com/redmi-a2-classic-black-64-gb/p/itm5d49be2c0a95a?pid=MOBGPVYHRXZ3PFZU&lid=LSTMOBGPVYHRXZ3PFZU0QHLLF&marketplace=FLIPKART&q=redmi+smartphone&store=tyy%2F4io&srno=s_1_11&otracker=search&otracker1=search&fm=organic&iid=1b46f281-1602-4314-bb73-75dafebd44e6.MOBGPVYHRXZ3PFZU.SEARCH&ppt=hp&ppn=homepage&ssid=t7o3907q280000001694347398905&qH=16e35e1c76bc3b93', 'https://www.flipkart.com/redmi-9a-sport-coral-green-32-gb/p/itm53bc6ebfe147b?pid=MOBGHDXFKYSE5TPK&lid=LSTMOBGHDXFKYSE5TPKGHQ4XF&marketplace=FLIPKART&q=redmi+smartphone&store=tyy%2F4io&srno=s_1_12&otracker=search&otracker1=search&fm=organic&iid=1b46f281-1602-4314-bb73-75dafebd44e6.MOBGHDXFKYSE5TPK.SEARCH&ppt=hp&ppn=homepage&ssid=t7o3907q280000001694347398905&qH=16e35e1c76bc3b93', 'https://www.flipkart.com/redmi-6a-blue-16-gb/p/itm1ed294a755383?pid=MOBF9Z2Z3YDBSF6V&lid=LSTMOBF9Z2Z3YDBSF6VX16ZOH&marketplace=FLIPKART&q=redmi+smartphone&store=tyy%2F4io&srno=s_1_13&otracker=search&otracker1=search&fm=organic&iid=1b46f281-1602-4314-bb73-75dafebd44e6.MOBF9Z2Z3YDBSF6V.SEARCH&ppt=hp&ppn=homepage&ssid=t7o3907q280000001694347398905&qH=16e35e1c76bc3b93', 'https://www.flipkart.com/redmi-a2-aqua-blue-32-gb/p/itm5d49be2c0a95a?pid=MOBGPUZR8GHCE5ZQ&lid=LSTMOBGPUZR8GHCE5ZQ1P4DF9&marketplace=FLIPKART&q=redmi+smartphone&store=tyy%2F4io&srno=s_1_14&otracker=search&otracker1=search&fm=organic&iid=1b46f281-1602-4314-bb73-75dafebd44e6.MOBGPUZR8GHCE5ZQ.SEARCH&ppt=hp&ppn=homepage&ssid=t7o3907q280000001694347398905&qH=16e35e1c76bc3b93', 'https://www.flipkart.com/redmi-11-prime-playful-green-128-gb/p/itm0b080e6994972?pid=MOBGZHFGZQMESCDK&lid=LSTMOBGZHFGZQMESCDKZ6ILTE&marketplace=FLIPKART&q=redmi+smartphone&store=tyy%2F4io&srno=s_1_15&otracker=search&otracker1=search&fm=organic&iid=1b46f281-1602-4314-bb73-75dafebd44e6.MOBGZHFGZQMESCDK.SEARCH&ppt=hp&ppn=homepage&ssid=t7o3907q280000001694347398905&qH=16e35e1c76bc3b93', 'https://www.flipkart.com/redmi-a2-sea-green-64-gb/p/itm5d49be2c0a95a?pid=MOBGPVYEHMPGNCBZ&lid=LSTMOBGPVYEHMPGNCBZHUKI4Z&marketplace=FLIPKART&q=redmi+smartphone&store=tyy%2F4io&srno=s_1_16&otracker=search&otracker1=search&fm=organic&iid=1b46f281-1602-4314-bb73-75dafebd44e6.MOBGPVYEHMPGNCBZ.SEARCH&ppt=hp&ppn=homepage&ssid=t7o3907q280000001694347398905&qH=16e35e1c76bc3b93', 'https://www.flipkart.com/redmi-a2-classic-black-64-gb/p/itm5d49be2c0a95a?pid=MOBGRHB6XAEUADQB&lid=LSTMOBGRHB6XAEUADQBAI4AJ4&marketplace=FLIPKART&q=redmi+smartphone&store=tyy%2F4io&srno=s_1_17&otracker=search&otracker1=search&fm=organic&iid=1b46f281-1602-4314-bb73-75dafebd44e6.MOBGRHB6XAEUADQB.SEARCH&ppt=hp&ppn=homepage&ssid=t7o3907q280000001694347398905&qH=16e35e1c76bc3b93', 'https://www.flipkart.com/redmi-a2-sea-green-64-gb/p/itm5d49be2c0a95a?pid=MOBGRHB7GUUZG3QH&lid=LSTMOBGRHB7GUUZG3QHWXCHRR&marketplace=FLIPKART&q=redmi+smartphone&store=tyy%2F4io&srno=s_1_18&otracker=search&otracker1=search&fm=organic&iid=1b46f281-1602-4314-bb73-75dafebd44e6.MOBGRHB7GUUZG3QH.SEARCH&ppt=hp&ppn=homepage&ssid=t7o3907q280000001694347398905&qH=16e35e1c76bc3b93', 'https://www.flipkart.com/redmi-note-12-ice-blue-64-gb/p/itmee415766dfc1a?pid=MOBGNYHZYZ4CNTCM&lid=LSTMOBGNYHZYZ4CNTCMVONB0S&marketplace=FLIPKART&q=redmi+smartphone&store=tyy%2F4io&srno=s_1_19&otracker=search&otracker1=search&fm=organic&iid=1b46f281-1602-4314-bb73-75dafebd44e6.MOBGNYHZYZ4CNTCM.SEARCH&ppt=hp&ppn=homepage&ssid=t7o3907q280000001694347398905&qH=16e35e1c76bc3b93', 'https://www.flipkart.com/redmi-12-5g-jade-black-128-gb/p/itm0c8ba13f6fc5b?pid=MOBGS9QU7QVWUWRD&lid=LSTMOBGS9QU7QVWUWRDCTGYQ5&marketplace=FLIPKART&q=redmi+smartphone&store=tyy%2F4io&srno=s_1_20&otracker=search&otracker1=search&fm=organic&iid=1b46f281-1602-4314-bb73-75dafebd44e6.MOBGS9QU7QVWUWRD.SEARCH&ppt=hp&ppn=homepage&ssid=t7o3907q280000001694347398905&qH=16e35e1c76bc3b93', 'https://www.flipkart.com/redmi-note-12-sunrise-gold-64-gb/p/itm5d170187bcbf0?pid=MOBGNYHZ7ZGHES2V&lid=LSTMOBGNYHZ7ZGHES2VQILAET&marketplace=FLIPKART&q=redmi+smartphone&store=tyy%2F4io&srno=s_1_21&otracker=search&otracker1=search&fm=organic&iid=1b46f281-1602-4314-bb73-75dafebd44e6.MOBGNYHZ7ZGHES2V.SEARCH&ppt=hp&ppn=homepage&ssid=t7o3907q280000001694347398905&qH=16e35e1c76bc3b93', 'https://www.flipkart.com/redmi-12c-lavender-purple-128-gb/p/itm3fe4e598a0358?pid=MOBGZEU9TYHQ8RGE&lid=LSTMOBGZEU9TYHQ8RGEJXEEKD&marketplace=FLIPKART&q=redmi+smartphone&store=tyy%2F4io&srno=s_1_22&otracker=search&otracker1=search&fm=organic&iid=1b46f281-1602-4314-bb73-75dafebd44e6.MOBGZEU9TYHQ8RGE.SEARCH&ppt=hp&ppn=homepage&ssid=t7o3907q280000001694347398905&qH=16e35e1c76bc3b93', 'https://www.flipkart.com/redmi-12c-mint-green-128-gb/p/itm3fe4e598a0358?pid=MOBGZEUDZWSZHYJM&lid=LSTMOBGZEUDZWSZHYJMPU2O1S&marketplace=FLIPKART&q=redmi+smartphone&store=tyy%2F4io&srno=s_1_23&otracker=search&otracker1=search&fm=organic&iid=1b46f281-1602-4314-bb73-75dafebd44e6.MOBGZEUDZWSZHYJM.SEARCH&ppt=hp&ppn=homepage&ssid=t7o3907q280000001694347398905&qH=16e35e1c76bc3b93', 'https://www.flipkart.com/redmi-12c-lavender-purple-64-gb/p/itm3fe4e598a0358?pid=MOBGZEVUSSJ8VGXZ&lid=LSTMOBGZEVUSSJ8VGXZQC5UNR&marketplace=FLIPKART&q=redmi+smartphone&store=tyy%2F4io&srno=s_1_24&otracker=search&otracker1=search&fm=organic&iid=1b46f281-1602-4314-bb73-75dafebd44e6.MOBGZEVUSSJ8VGXZ.SEARCH&ppt=hp&ppn=homepage&ssid=t7o3907q280000001694347398905&qH=16e35e1c76bc3b93']\n"
     ]
    },
    {
     "name": "stdout",
     "output_type": "stream",
     "text": [
      "['https://www.flipkart.com/redmi-12-moonstone-silver-128-gb/p/itme52e778c12701?pid=MOBGRMFK2MGRNG4Q&lid=LSTMOBGRMFK2MGRNG4QFZLVXT&marketplace=FLIPKART&q=redmi+smartphone&store=tyy%2F4io&spotlightTagId=BestsellerId_tyy%2F4io&srno=s_1_1&otracker=search&otracker1=search&fm=Search&iid=1b46f281-1602-4314-bb73-75dafebd44e6.MOBGRMFK2MGRNG4Q.SEARCH&ppt=sp&ppn=sp&ssid=t7o3907q280000001694347398905&qH=16e35e1c76bc3b93', 'https://www.flipkart.com/redmi-12-pastel-blue-128-gb/p/itm48719506a7ceb?pid=MOBGRMFKKGYD9ETX&lid=LSTMOBGRMFKKGYD9ETX5KD9VL&marketplace=FLIPKART&q=redmi+smartphone&store=tyy%2F4io&spotlightTagId=BestsellerId_tyy%2F4io&srno=s_1_2&otracker=search&otracker1=search&fm=Search&iid=1b46f281-1602-4314-bb73-75dafebd44e6.MOBGRMFKKGYD9ETX.SEARCH&ppt=sp&ppn=sp&ssid=t7o3907q280000001694347398905&qH=16e35e1c76bc3b93', 'https://www.flipkart.com/redmi-12-jade-black-128-gb/p/itmb7050ec01c09f?pid=MOBGRMFKTHKQSJEG&lid=LSTMOBGRMFKTHKQSJEGQK3FM2&marketplace=FLIPKART&q=redmi+smartphone&store=tyy%2F4io&spotlightTagId=BestsellerId_tyy%2F4io&srno=s_1_3&otracker=search&otracker1=search&fm=organic&iid=1b46f281-1602-4314-bb73-75dafebd44e6.MOBGRMFKTHKQSJEG.SEARCH&ppt=hp&ppn=homepage&ssid=t7o3907q280000001694347398905&qH=16e35e1c76bc3b93', 'https://www.flipkart.com/redmi-11-prime-peppy-purple-128-gb/p/itm52d6b0fe396e9?pid=MOBGZHFGUHYSHQYM&lid=LSTMOBGZHFGUHYSHQYMWGOOJ0&marketplace=FLIPKART&q=redmi+smartphone&store=tyy%2F4io&srno=s_1_4&otracker=search&otracker1=search&fm=organic&iid=1b46f281-1602-4314-bb73-75dafebd44e6.MOBGZHFGUHYSHQYM.SEARCH&ppt=hp&ppn=homepage&ssid=t7o3907q280000001694347398905&qH=16e35e1c76bc3b93', 'https://www.flipkart.com/redmi-12-pastel-blue-128-gb/p/itm9b1a6640faccd?pid=MOBGRMFKAHNTZPWE&lid=LSTMOBGRMFKAHNTZPWE1H5IWS&marketplace=FLIPKART&q=redmi+smartphone&store=tyy%2F4io&srno=s_1_5&otracker=search&otracker1=search&fm=organic&iid=1b46f281-1602-4314-bb73-75dafebd44e6.MOBGRMFKAHNTZPWE.SEARCH&ppt=hp&ppn=homepage&ssid=t7o3907q280000001694347398905&qH=16e35e1c76bc3b93', 'https://www.flipkart.com/redmi-a1-black-32-gb/p/itm70b00a77a7d1d?pid=MOBGGYBABVXHHRDQ&lid=LSTMOBGGYBABVXHHRDQTMWLXJ&marketplace=FLIPKART&q=redmi+smartphone&store=tyy%2F4io&srno=s_1_6&otracker=search&otracker1=search&fm=organic&iid=1b46f281-1602-4314-bb73-75dafebd44e6.MOBGGYBABVXHHRDQ.SEARCH&ppt=hp&ppn=homepage&ssid=t7o3907q280000001694347398905&qH=16e35e1c76bc3b93', 'https://www.flipkart.com/redmi-a1-light-green-32-gb/p/itmecc9e7ba0a1df?pid=MOBGGYBAHSAJVKHP&lid=LSTMOBGGYBAHSAJVKHP4UBD9A&marketplace=FLIPKART&q=redmi+smartphone&store=tyy%2F4io&srno=s_1_7&otracker=search&otracker1=search&fm=organic&iid=1b46f281-1602-4314-bb73-75dafebd44e6.MOBGGYBAHSAJVKHP.SEARCH&ppt=hp&ppn=homepage&ssid=t7o3907q280000001694347398905&qH=16e35e1c76bc3b93', 'https://www.flipkart.com/redmi-a2-aqua-blue-64-gb/p/itm5d49be2c0a95a?pid=MOBGPVYMG9RWX6XY&lid=LSTMOBGPVYMG9RWX6XYNJOQ2B&marketplace=FLIPKART&q=redmi+smartphone&store=tyy%2F4io&srno=s_1_8&otracker=search&otracker1=search&fm=organic&iid=1b46f281-1602-4314-bb73-75dafebd44e6.MOBGPVYMG9RWX6XY.SEARCH&ppt=hp&ppn=homepage&ssid=t7o3907q280000001694347398905&qH=16e35e1c76bc3b93', 'https://www.flipkart.com/redmi-a2-sea-green-32-gb/p/itm5d49be2c0a95a?pid=MOBGPVYATHJDTSSR&lid=LSTMOBGPVYATHJDTSSR6JMF4X&marketplace=FLIPKART&q=redmi+smartphone&store=tyy%2F4io&srno=s_1_9&otracker=search&otracker1=search&fm=organic&iid=1b46f281-1602-4314-bb73-75dafebd44e6.MOBGPVYATHJDTSSR.SEARCH&ppt=hp&ppn=homepage&ssid=t7o3907q280000001694347398905&qH=16e35e1c76bc3b93', 'https://www.flipkart.com/redmi-a2-aqua-blue-64-gb/p/itm5d49be2c0a95a?pid=MOBGR4UZWNAYKSUH&lid=LSTMOBGR4UZWNAYKSUHUXU5WM&marketplace=FLIPKART&q=redmi+smartphone&store=tyy%2F4io&srno=s_1_10&otracker=search&otracker1=search&fm=organic&iid=1b46f281-1602-4314-bb73-75dafebd44e6.MOBGR4UZWNAYKSUH.SEARCH&ppt=hp&ppn=homepage&ssid=t7o3907q280000001694347398905&qH=16e35e1c76bc3b93', 'https://www.flipkart.com/redmi-a2-classic-black-64-gb/p/itm5d49be2c0a95a?pid=MOBGPVYHRXZ3PFZU&lid=LSTMOBGPVYHRXZ3PFZU0QHLLF&marketplace=FLIPKART&q=redmi+smartphone&store=tyy%2F4io&srno=s_1_11&otracker=search&otracker1=search&fm=organic&iid=1b46f281-1602-4314-bb73-75dafebd44e6.MOBGPVYHRXZ3PFZU.SEARCH&ppt=hp&ppn=homepage&ssid=t7o3907q280000001694347398905&qH=16e35e1c76bc3b93', 'https://www.flipkart.com/redmi-9a-sport-coral-green-32-gb/p/itm53bc6ebfe147b?pid=MOBGHDXFKYSE5TPK&lid=LSTMOBGHDXFKYSE5TPKGHQ4XF&marketplace=FLIPKART&q=redmi+smartphone&store=tyy%2F4io&srno=s_1_12&otracker=search&otracker1=search&fm=organic&iid=1b46f281-1602-4314-bb73-75dafebd44e6.MOBGHDXFKYSE5TPK.SEARCH&ppt=hp&ppn=homepage&ssid=t7o3907q280000001694347398905&qH=16e35e1c76bc3b93', 'https://www.flipkart.com/redmi-6a-blue-16-gb/p/itm1ed294a755383?pid=MOBF9Z2Z3YDBSF6V&lid=LSTMOBF9Z2Z3YDBSF6VX16ZOH&marketplace=FLIPKART&q=redmi+smartphone&store=tyy%2F4io&srno=s_1_13&otracker=search&otracker1=search&fm=organic&iid=1b46f281-1602-4314-bb73-75dafebd44e6.MOBF9Z2Z3YDBSF6V.SEARCH&ppt=hp&ppn=homepage&ssid=t7o3907q280000001694347398905&qH=16e35e1c76bc3b93', 'https://www.flipkart.com/redmi-a2-aqua-blue-32-gb/p/itm5d49be2c0a95a?pid=MOBGPUZR8GHCE5ZQ&lid=LSTMOBGPUZR8GHCE5ZQ1P4DF9&marketplace=FLIPKART&q=redmi+smartphone&store=tyy%2F4io&srno=s_1_14&otracker=search&otracker1=search&fm=organic&iid=1b46f281-1602-4314-bb73-75dafebd44e6.MOBGPUZR8GHCE5ZQ.SEARCH&ppt=hp&ppn=homepage&ssid=t7o3907q280000001694347398905&qH=16e35e1c76bc3b93', 'https://www.flipkart.com/redmi-11-prime-playful-green-128-gb/p/itm0b080e6994972?pid=MOBGZHFGZQMESCDK&lid=LSTMOBGZHFGZQMESCDKZ6ILTE&marketplace=FLIPKART&q=redmi+smartphone&store=tyy%2F4io&srno=s_1_15&otracker=search&otracker1=search&fm=organic&iid=1b46f281-1602-4314-bb73-75dafebd44e6.MOBGZHFGZQMESCDK.SEARCH&ppt=hp&ppn=homepage&ssid=t7o3907q280000001694347398905&qH=16e35e1c76bc3b93', 'https://www.flipkart.com/redmi-a2-sea-green-64-gb/p/itm5d49be2c0a95a?pid=MOBGPVYEHMPGNCBZ&lid=LSTMOBGPVYEHMPGNCBZHUKI4Z&marketplace=FLIPKART&q=redmi+smartphone&store=tyy%2F4io&srno=s_1_16&otracker=search&otracker1=search&fm=organic&iid=1b46f281-1602-4314-bb73-75dafebd44e6.MOBGPVYEHMPGNCBZ.SEARCH&ppt=hp&ppn=homepage&ssid=t7o3907q280000001694347398905&qH=16e35e1c76bc3b93', 'https://www.flipkart.com/redmi-a2-classic-black-64-gb/p/itm5d49be2c0a95a?pid=MOBGRHB6XAEUADQB&lid=LSTMOBGRHB6XAEUADQBAI4AJ4&marketplace=FLIPKART&q=redmi+smartphone&store=tyy%2F4io&srno=s_1_17&otracker=search&otracker1=search&fm=organic&iid=1b46f281-1602-4314-bb73-75dafebd44e6.MOBGRHB6XAEUADQB.SEARCH&ppt=hp&ppn=homepage&ssid=t7o3907q280000001694347398905&qH=16e35e1c76bc3b93', 'https://www.flipkart.com/redmi-a2-sea-green-64-gb/p/itm5d49be2c0a95a?pid=MOBGRHB7GUUZG3QH&lid=LSTMOBGRHB7GUUZG3QHWXCHRR&marketplace=FLIPKART&q=redmi+smartphone&store=tyy%2F4io&srno=s_1_18&otracker=search&otracker1=search&fm=organic&iid=1b46f281-1602-4314-bb73-75dafebd44e6.MOBGRHB7GUUZG3QH.SEARCH&ppt=hp&ppn=homepage&ssid=t7o3907q280000001694347398905&qH=16e35e1c76bc3b93', 'https://www.flipkart.com/redmi-note-12-ice-blue-64-gb/p/itmee415766dfc1a?pid=MOBGNYHZYZ4CNTCM&lid=LSTMOBGNYHZYZ4CNTCMVONB0S&marketplace=FLIPKART&q=redmi+smartphone&store=tyy%2F4io&srno=s_1_19&otracker=search&otracker1=search&fm=organic&iid=1b46f281-1602-4314-bb73-75dafebd44e6.MOBGNYHZYZ4CNTCM.SEARCH&ppt=hp&ppn=homepage&ssid=t7o3907q280000001694347398905&qH=16e35e1c76bc3b93', 'https://www.flipkart.com/redmi-12-5g-jade-black-128-gb/p/itm0c8ba13f6fc5b?pid=MOBGS9QU7QVWUWRD&lid=LSTMOBGS9QU7QVWUWRDCTGYQ5&marketplace=FLIPKART&q=redmi+smartphone&store=tyy%2F4io&srno=s_1_20&otracker=search&otracker1=search&fm=organic&iid=1b46f281-1602-4314-bb73-75dafebd44e6.MOBGS9QU7QVWUWRD.SEARCH&ppt=hp&ppn=homepage&ssid=t7o3907q280000001694347398905&qH=16e35e1c76bc3b93', 'https://www.flipkart.com/redmi-note-12-sunrise-gold-64-gb/p/itm5d170187bcbf0?pid=MOBGNYHZ7ZGHES2V&lid=LSTMOBGNYHZ7ZGHES2VQILAET&marketplace=FLIPKART&q=redmi+smartphone&store=tyy%2F4io&srno=s_1_21&otracker=search&otracker1=search&fm=organic&iid=1b46f281-1602-4314-bb73-75dafebd44e6.MOBGNYHZ7ZGHES2V.SEARCH&ppt=hp&ppn=homepage&ssid=t7o3907q280000001694347398905&qH=16e35e1c76bc3b93', 'https://www.flipkart.com/redmi-12c-lavender-purple-128-gb/p/itm3fe4e598a0358?pid=MOBGZEU9TYHQ8RGE&lid=LSTMOBGZEU9TYHQ8RGEJXEEKD&marketplace=FLIPKART&q=redmi+smartphone&store=tyy%2F4io&srno=s_1_22&otracker=search&otracker1=search&fm=organic&iid=1b46f281-1602-4314-bb73-75dafebd44e6.MOBGZEU9TYHQ8RGE.SEARCH&ppt=hp&ppn=homepage&ssid=t7o3907q280000001694347398905&qH=16e35e1c76bc3b93', 'https://www.flipkart.com/redmi-12c-mint-green-128-gb/p/itm3fe4e598a0358?pid=MOBGZEUDZWSZHYJM&lid=LSTMOBGZEUDZWSZHYJMPU2O1S&marketplace=FLIPKART&q=redmi+smartphone&store=tyy%2F4io&srno=s_1_23&otracker=search&otracker1=search&fm=organic&iid=1b46f281-1602-4314-bb73-75dafebd44e6.MOBGZEUDZWSZHYJM.SEARCH&ppt=hp&ppn=homepage&ssid=t7o3907q280000001694347398905&qH=16e35e1c76bc3b93', 'https://www.flipkart.com/redmi-12c-lavender-purple-64-gb/p/itm3fe4e598a0358?pid=MOBGZEVUSSJ8VGXZ&lid=LSTMOBGZEVUSSJ8VGXZQC5UNR&marketplace=FLIPKART&q=redmi+smartphone&store=tyy%2F4io&srno=s_1_24&otracker=search&otracker1=search&fm=organic&iid=1b46f281-1602-4314-bb73-75dafebd44e6.MOBGZEVUSSJ8VGXZ.SEARCH&ppt=hp&ppn=homepage&ssid=t7o3907q280000001694347398905&qH=16e35e1c76bc3b93']\n",
      "['https://www.flipkart.com/redmi-12-moonstone-silver-128-gb/p/itme52e778c12701?pid=MOBGRMFK2MGRNG4Q&lid=LSTMOBGRMFK2MGRNG4QFZLVXT&marketplace=FLIPKART&q=redmi+smartphone&store=tyy%2F4io&spotlightTagId=BestsellerId_tyy%2F4io&srno=s_1_1&otracker=search&otracker1=search&fm=Search&iid=1b46f281-1602-4314-bb73-75dafebd44e6.MOBGRMFK2MGRNG4Q.SEARCH&ppt=sp&ppn=sp&ssid=t7o3907q280000001694347398905&qH=16e35e1c76bc3b93', 'https://www.flipkart.com/redmi-12-pastel-blue-128-gb/p/itm48719506a7ceb?pid=MOBGRMFKKGYD9ETX&lid=LSTMOBGRMFKKGYD9ETX5KD9VL&marketplace=FLIPKART&q=redmi+smartphone&store=tyy%2F4io&spotlightTagId=BestsellerId_tyy%2F4io&srno=s_1_2&otracker=search&otracker1=search&fm=Search&iid=1b46f281-1602-4314-bb73-75dafebd44e6.MOBGRMFKKGYD9ETX.SEARCH&ppt=sp&ppn=sp&ssid=t7o3907q280000001694347398905&qH=16e35e1c76bc3b93', 'https://www.flipkart.com/redmi-12-jade-black-128-gb/p/itmb7050ec01c09f?pid=MOBGRMFKTHKQSJEG&lid=LSTMOBGRMFKTHKQSJEGQK3FM2&marketplace=FLIPKART&q=redmi+smartphone&store=tyy%2F4io&spotlightTagId=BestsellerId_tyy%2F4io&srno=s_1_3&otracker=search&otracker1=search&fm=organic&iid=1b46f281-1602-4314-bb73-75dafebd44e6.MOBGRMFKTHKQSJEG.SEARCH&ppt=hp&ppn=homepage&ssid=t7o3907q280000001694347398905&qH=16e35e1c76bc3b93', 'https://www.flipkart.com/redmi-11-prime-peppy-purple-128-gb/p/itm52d6b0fe396e9?pid=MOBGZHFGUHYSHQYM&lid=LSTMOBGZHFGUHYSHQYMWGOOJ0&marketplace=FLIPKART&q=redmi+smartphone&store=tyy%2F4io&srno=s_1_4&otracker=search&otracker1=search&fm=organic&iid=1b46f281-1602-4314-bb73-75dafebd44e6.MOBGZHFGUHYSHQYM.SEARCH&ppt=hp&ppn=homepage&ssid=t7o3907q280000001694347398905&qH=16e35e1c76bc3b93', 'https://www.flipkart.com/redmi-12-pastel-blue-128-gb/p/itm9b1a6640faccd?pid=MOBGRMFKAHNTZPWE&lid=LSTMOBGRMFKAHNTZPWE1H5IWS&marketplace=FLIPKART&q=redmi+smartphone&store=tyy%2F4io&srno=s_1_5&otracker=search&otracker1=search&fm=organic&iid=1b46f281-1602-4314-bb73-75dafebd44e6.MOBGRMFKAHNTZPWE.SEARCH&ppt=hp&ppn=homepage&ssid=t7o3907q280000001694347398905&qH=16e35e1c76bc3b93', 'https://www.flipkart.com/redmi-a1-black-32-gb/p/itm70b00a77a7d1d?pid=MOBGGYBABVXHHRDQ&lid=LSTMOBGGYBABVXHHRDQTMWLXJ&marketplace=FLIPKART&q=redmi+smartphone&store=tyy%2F4io&srno=s_1_6&otracker=search&otracker1=search&fm=organic&iid=1b46f281-1602-4314-bb73-75dafebd44e6.MOBGGYBABVXHHRDQ.SEARCH&ppt=hp&ppn=homepage&ssid=t7o3907q280000001694347398905&qH=16e35e1c76bc3b93', 'https://www.flipkart.com/redmi-a1-light-green-32-gb/p/itmecc9e7ba0a1df?pid=MOBGGYBAHSAJVKHP&lid=LSTMOBGGYBAHSAJVKHP4UBD9A&marketplace=FLIPKART&q=redmi+smartphone&store=tyy%2F4io&srno=s_1_7&otracker=search&otracker1=search&fm=organic&iid=1b46f281-1602-4314-bb73-75dafebd44e6.MOBGGYBAHSAJVKHP.SEARCH&ppt=hp&ppn=homepage&ssid=t7o3907q280000001694347398905&qH=16e35e1c76bc3b93', 'https://www.flipkart.com/redmi-a2-aqua-blue-64-gb/p/itm5d49be2c0a95a?pid=MOBGPVYMG9RWX6XY&lid=LSTMOBGPVYMG9RWX6XYNJOQ2B&marketplace=FLIPKART&q=redmi+smartphone&store=tyy%2F4io&srno=s_1_8&otracker=search&otracker1=search&fm=organic&iid=1b46f281-1602-4314-bb73-75dafebd44e6.MOBGPVYMG9RWX6XY.SEARCH&ppt=hp&ppn=homepage&ssid=t7o3907q280000001694347398905&qH=16e35e1c76bc3b93', 'https://www.flipkart.com/redmi-a2-sea-green-32-gb/p/itm5d49be2c0a95a?pid=MOBGPVYATHJDTSSR&lid=LSTMOBGPVYATHJDTSSR6JMF4X&marketplace=FLIPKART&q=redmi+smartphone&store=tyy%2F4io&srno=s_1_9&otracker=search&otracker1=search&fm=organic&iid=1b46f281-1602-4314-bb73-75dafebd44e6.MOBGPVYATHJDTSSR.SEARCH&ppt=hp&ppn=homepage&ssid=t7o3907q280000001694347398905&qH=16e35e1c76bc3b93', 'https://www.flipkart.com/redmi-a2-aqua-blue-64-gb/p/itm5d49be2c0a95a?pid=MOBGR4UZWNAYKSUH&lid=LSTMOBGR4UZWNAYKSUHUXU5WM&marketplace=FLIPKART&q=redmi+smartphone&store=tyy%2F4io&srno=s_1_10&otracker=search&otracker1=search&fm=organic&iid=1b46f281-1602-4314-bb73-75dafebd44e6.MOBGR4UZWNAYKSUH.SEARCH&ppt=hp&ppn=homepage&ssid=t7o3907q280000001694347398905&qH=16e35e1c76bc3b93', 'https://www.flipkart.com/redmi-a2-classic-black-64-gb/p/itm5d49be2c0a95a?pid=MOBGPVYHRXZ3PFZU&lid=LSTMOBGPVYHRXZ3PFZU0QHLLF&marketplace=FLIPKART&q=redmi+smartphone&store=tyy%2F4io&srno=s_1_11&otracker=search&otracker1=search&fm=organic&iid=1b46f281-1602-4314-bb73-75dafebd44e6.MOBGPVYHRXZ3PFZU.SEARCH&ppt=hp&ppn=homepage&ssid=t7o3907q280000001694347398905&qH=16e35e1c76bc3b93', 'https://www.flipkart.com/redmi-9a-sport-coral-green-32-gb/p/itm53bc6ebfe147b?pid=MOBGHDXFKYSE5TPK&lid=LSTMOBGHDXFKYSE5TPKGHQ4XF&marketplace=FLIPKART&q=redmi+smartphone&store=tyy%2F4io&srno=s_1_12&otracker=search&otracker1=search&fm=organic&iid=1b46f281-1602-4314-bb73-75dafebd44e6.MOBGHDXFKYSE5TPK.SEARCH&ppt=hp&ppn=homepage&ssid=t7o3907q280000001694347398905&qH=16e35e1c76bc3b93', 'https://www.flipkart.com/redmi-6a-blue-16-gb/p/itm1ed294a755383?pid=MOBF9Z2Z3YDBSF6V&lid=LSTMOBF9Z2Z3YDBSF6VX16ZOH&marketplace=FLIPKART&q=redmi+smartphone&store=tyy%2F4io&srno=s_1_13&otracker=search&otracker1=search&fm=organic&iid=1b46f281-1602-4314-bb73-75dafebd44e6.MOBF9Z2Z3YDBSF6V.SEARCH&ppt=hp&ppn=homepage&ssid=t7o3907q280000001694347398905&qH=16e35e1c76bc3b93', 'https://www.flipkart.com/redmi-a2-aqua-blue-32-gb/p/itm5d49be2c0a95a?pid=MOBGPUZR8GHCE5ZQ&lid=LSTMOBGPUZR8GHCE5ZQ1P4DF9&marketplace=FLIPKART&q=redmi+smartphone&store=tyy%2F4io&srno=s_1_14&otracker=search&otracker1=search&fm=organic&iid=1b46f281-1602-4314-bb73-75dafebd44e6.MOBGPUZR8GHCE5ZQ.SEARCH&ppt=hp&ppn=homepage&ssid=t7o3907q280000001694347398905&qH=16e35e1c76bc3b93', 'https://www.flipkart.com/redmi-11-prime-playful-green-128-gb/p/itm0b080e6994972?pid=MOBGZHFGZQMESCDK&lid=LSTMOBGZHFGZQMESCDKZ6ILTE&marketplace=FLIPKART&q=redmi+smartphone&store=tyy%2F4io&srno=s_1_15&otracker=search&otracker1=search&fm=organic&iid=1b46f281-1602-4314-bb73-75dafebd44e6.MOBGZHFGZQMESCDK.SEARCH&ppt=hp&ppn=homepage&ssid=t7o3907q280000001694347398905&qH=16e35e1c76bc3b93', 'https://www.flipkart.com/redmi-a2-sea-green-64-gb/p/itm5d49be2c0a95a?pid=MOBGPVYEHMPGNCBZ&lid=LSTMOBGPVYEHMPGNCBZHUKI4Z&marketplace=FLIPKART&q=redmi+smartphone&store=tyy%2F4io&srno=s_1_16&otracker=search&otracker1=search&fm=organic&iid=1b46f281-1602-4314-bb73-75dafebd44e6.MOBGPVYEHMPGNCBZ.SEARCH&ppt=hp&ppn=homepage&ssid=t7o3907q280000001694347398905&qH=16e35e1c76bc3b93', 'https://www.flipkart.com/redmi-a2-classic-black-64-gb/p/itm5d49be2c0a95a?pid=MOBGRHB6XAEUADQB&lid=LSTMOBGRHB6XAEUADQBAI4AJ4&marketplace=FLIPKART&q=redmi+smartphone&store=tyy%2F4io&srno=s_1_17&otracker=search&otracker1=search&fm=organic&iid=1b46f281-1602-4314-bb73-75dafebd44e6.MOBGRHB6XAEUADQB.SEARCH&ppt=hp&ppn=homepage&ssid=t7o3907q280000001694347398905&qH=16e35e1c76bc3b93', 'https://www.flipkart.com/redmi-a2-sea-green-64-gb/p/itm5d49be2c0a95a?pid=MOBGRHB7GUUZG3QH&lid=LSTMOBGRHB7GUUZG3QHWXCHRR&marketplace=FLIPKART&q=redmi+smartphone&store=tyy%2F4io&srno=s_1_18&otracker=search&otracker1=search&fm=organic&iid=1b46f281-1602-4314-bb73-75dafebd44e6.MOBGRHB7GUUZG3QH.SEARCH&ppt=hp&ppn=homepage&ssid=t7o3907q280000001694347398905&qH=16e35e1c76bc3b93', 'https://www.flipkart.com/redmi-note-12-ice-blue-64-gb/p/itmee415766dfc1a?pid=MOBGNYHZYZ4CNTCM&lid=LSTMOBGNYHZYZ4CNTCMVONB0S&marketplace=FLIPKART&q=redmi+smartphone&store=tyy%2F4io&srno=s_1_19&otracker=search&otracker1=search&fm=organic&iid=1b46f281-1602-4314-bb73-75dafebd44e6.MOBGNYHZYZ4CNTCM.SEARCH&ppt=hp&ppn=homepage&ssid=t7o3907q280000001694347398905&qH=16e35e1c76bc3b93', 'https://www.flipkart.com/redmi-12-5g-jade-black-128-gb/p/itm0c8ba13f6fc5b?pid=MOBGS9QU7QVWUWRD&lid=LSTMOBGS9QU7QVWUWRDCTGYQ5&marketplace=FLIPKART&q=redmi+smartphone&store=tyy%2F4io&srno=s_1_20&otracker=search&otracker1=search&fm=organic&iid=1b46f281-1602-4314-bb73-75dafebd44e6.MOBGS9QU7QVWUWRD.SEARCH&ppt=hp&ppn=homepage&ssid=t7o3907q280000001694347398905&qH=16e35e1c76bc3b93', 'https://www.flipkart.com/redmi-note-12-sunrise-gold-64-gb/p/itm5d170187bcbf0?pid=MOBGNYHZ7ZGHES2V&lid=LSTMOBGNYHZ7ZGHES2VQILAET&marketplace=FLIPKART&q=redmi+smartphone&store=tyy%2F4io&srno=s_1_21&otracker=search&otracker1=search&fm=organic&iid=1b46f281-1602-4314-bb73-75dafebd44e6.MOBGNYHZ7ZGHES2V.SEARCH&ppt=hp&ppn=homepage&ssid=t7o3907q280000001694347398905&qH=16e35e1c76bc3b93', 'https://www.flipkart.com/redmi-12c-lavender-purple-128-gb/p/itm3fe4e598a0358?pid=MOBGZEU9TYHQ8RGE&lid=LSTMOBGZEU9TYHQ8RGEJXEEKD&marketplace=FLIPKART&q=redmi+smartphone&store=tyy%2F4io&srno=s_1_22&otracker=search&otracker1=search&fm=organic&iid=1b46f281-1602-4314-bb73-75dafebd44e6.MOBGZEU9TYHQ8RGE.SEARCH&ppt=hp&ppn=homepage&ssid=t7o3907q280000001694347398905&qH=16e35e1c76bc3b93', 'https://www.flipkart.com/redmi-12c-mint-green-128-gb/p/itm3fe4e598a0358?pid=MOBGZEUDZWSZHYJM&lid=LSTMOBGZEUDZWSZHYJMPU2O1S&marketplace=FLIPKART&q=redmi+smartphone&store=tyy%2F4io&srno=s_1_23&otracker=search&otracker1=search&fm=organic&iid=1b46f281-1602-4314-bb73-75dafebd44e6.MOBGZEUDZWSZHYJM.SEARCH&ppt=hp&ppn=homepage&ssid=t7o3907q280000001694347398905&qH=16e35e1c76bc3b93', 'https://www.flipkart.com/redmi-12c-lavender-purple-64-gb/p/itm3fe4e598a0358?pid=MOBGZEVUSSJ8VGXZ&lid=LSTMOBGZEVUSSJ8VGXZQC5UNR&marketplace=FLIPKART&q=redmi+smartphone&store=tyy%2F4io&srno=s_1_24&otracker=search&otracker1=search&fm=organic&iid=1b46f281-1602-4314-bb73-75dafebd44e6.MOBGZEVUSSJ8VGXZ.SEARCH&ppt=hp&ppn=homepage&ssid=t7o3907q280000001694347398905&qH=16e35e1c76bc3b93']\n"
     ]
    },
    {
     "name": "stdout",
     "output_type": "stream",
     "text": [
      "['https://www.flipkart.com/redmi-12-moonstone-silver-128-gb/p/itme52e778c12701?pid=MOBGRMFK2MGRNG4Q&lid=LSTMOBGRMFK2MGRNG4QFZLVXT&marketplace=FLIPKART&q=redmi+smartphone&store=tyy%2F4io&spotlightTagId=BestsellerId_tyy%2F4io&srno=s_1_1&otracker=search&otracker1=search&fm=Search&iid=1b46f281-1602-4314-bb73-75dafebd44e6.MOBGRMFK2MGRNG4Q.SEARCH&ppt=sp&ppn=sp&ssid=t7o3907q280000001694347398905&qH=16e35e1c76bc3b93', 'https://www.flipkart.com/redmi-12-pastel-blue-128-gb/p/itm48719506a7ceb?pid=MOBGRMFKKGYD9ETX&lid=LSTMOBGRMFKKGYD9ETX5KD9VL&marketplace=FLIPKART&q=redmi+smartphone&store=tyy%2F4io&spotlightTagId=BestsellerId_tyy%2F4io&srno=s_1_2&otracker=search&otracker1=search&fm=Search&iid=1b46f281-1602-4314-bb73-75dafebd44e6.MOBGRMFKKGYD9ETX.SEARCH&ppt=sp&ppn=sp&ssid=t7o3907q280000001694347398905&qH=16e35e1c76bc3b93', 'https://www.flipkart.com/redmi-12-jade-black-128-gb/p/itmb7050ec01c09f?pid=MOBGRMFKTHKQSJEG&lid=LSTMOBGRMFKTHKQSJEGQK3FM2&marketplace=FLIPKART&q=redmi+smartphone&store=tyy%2F4io&spotlightTagId=BestsellerId_tyy%2F4io&srno=s_1_3&otracker=search&otracker1=search&fm=organic&iid=1b46f281-1602-4314-bb73-75dafebd44e6.MOBGRMFKTHKQSJEG.SEARCH&ppt=hp&ppn=homepage&ssid=t7o3907q280000001694347398905&qH=16e35e1c76bc3b93', 'https://www.flipkart.com/redmi-11-prime-peppy-purple-128-gb/p/itm52d6b0fe396e9?pid=MOBGZHFGUHYSHQYM&lid=LSTMOBGZHFGUHYSHQYMWGOOJ0&marketplace=FLIPKART&q=redmi+smartphone&store=tyy%2F4io&srno=s_1_4&otracker=search&otracker1=search&fm=organic&iid=1b46f281-1602-4314-bb73-75dafebd44e6.MOBGZHFGUHYSHQYM.SEARCH&ppt=hp&ppn=homepage&ssid=t7o3907q280000001694347398905&qH=16e35e1c76bc3b93', 'https://www.flipkart.com/redmi-12-pastel-blue-128-gb/p/itm9b1a6640faccd?pid=MOBGRMFKAHNTZPWE&lid=LSTMOBGRMFKAHNTZPWE1H5IWS&marketplace=FLIPKART&q=redmi+smartphone&store=tyy%2F4io&srno=s_1_5&otracker=search&otracker1=search&fm=organic&iid=1b46f281-1602-4314-bb73-75dafebd44e6.MOBGRMFKAHNTZPWE.SEARCH&ppt=hp&ppn=homepage&ssid=t7o3907q280000001694347398905&qH=16e35e1c76bc3b93', 'https://www.flipkart.com/redmi-a1-black-32-gb/p/itm70b00a77a7d1d?pid=MOBGGYBABVXHHRDQ&lid=LSTMOBGGYBABVXHHRDQTMWLXJ&marketplace=FLIPKART&q=redmi+smartphone&store=tyy%2F4io&srno=s_1_6&otracker=search&otracker1=search&fm=organic&iid=1b46f281-1602-4314-bb73-75dafebd44e6.MOBGGYBABVXHHRDQ.SEARCH&ppt=hp&ppn=homepage&ssid=t7o3907q280000001694347398905&qH=16e35e1c76bc3b93', 'https://www.flipkart.com/redmi-a1-light-green-32-gb/p/itmecc9e7ba0a1df?pid=MOBGGYBAHSAJVKHP&lid=LSTMOBGGYBAHSAJVKHP4UBD9A&marketplace=FLIPKART&q=redmi+smartphone&store=tyy%2F4io&srno=s_1_7&otracker=search&otracker1=search&fm=organic&iid=1b46f281-1602-4314-bb73-75dafebd44e6.MOBGGYBAHSAJVKHP.SEARCH&ppt=hp&ppn=homepage&ssid=t7o3907q280000001694347398905&qH=16e35e1c76bc3b93', 'https://www.flipkart.com/redmi-a2-aqua-blue-64-gb/p/itm5d49be2c0a95a?pid=MOBGPVYMG9RWX6XY&lid=LSTMOBGPVYMG9RWX6XYNJOQ2B&marketplace=FLIPKART&q=redmi+smartphone&store=tyy%2F4io&srno=s_1_8&otracker=search&otracker1=search&fm=organic&iid=1b46f281-1602-4314-bb73-75dafebd44e6.MOBGPVYMG9RWX6XY.SEARCH&ppt=hp&ppn=homepage&ssid=t7o3907q280000001694347398905&qH=16e35e1c76bc3b93', 'https://www.flipkart.com/redmi-a2-sea-green-32-gb/p/itm5d49be2c0a95a?pid=MOBGPVYATHJDTSSR&lid=LSTMOBGPVYATHJDTSSR6JMF4X&marketplace=FLIPKART&q=redmi+smartphone&store=tyy%2F4io&srno=s_1_9&otracker=search&otracker1=search&fm=organic&iid=1b46f281-1602-4314-bb73-75dafebd44e6.MOBGPVYATHJDTSSR.SEARCH&ppt=hp&ppn=homepage&ssid=t7o3907q280000001694347398905&qH=16e35e1c76bc3b93', 'https://www.flipkart.com/redmi-a2-aqua-blue-64-gb/p/itm5d49be2c0a95a?pid=MOBGR4UZWNAYKSUH&lid=LSTMOBGR4UZWNAYKSUHUXU5WM&marketplace=FLIPKART&q=redmi+smartphone&store=tyy%2F4io&srno=s_1_10&otracker=search&otracker1=search&fm=organic&iid=1b46f281-1602-4314-bb73-75dafebd44e6.MOBGR4UZWNAYKSUH.SEARCH&ppt=hp&ppn=homepage&ssid=t7o3907q280000001694347398905&qH=16e35e1c76bc3b93', 'https://www.flipkart.com/redmi-a2-classic-black-64-gb/p/itm5d49be2c0a95a?pid=MOBGPVYHRXZ3PFZU&lid=LSTMOBGPVYHRXZ3PFZU0QHLLF&marketplace=FLIPKART&q=redmi+smartphone&store=tyy%2F4io&srno=s_1_11&otracker=search&otracker1=search&fm=organic&iid=1b46f281-1602-4314-bb73-75dafebd44e6.MOBGPVYHRXZ3PFZU.SEARCH&ppt=hp&ppn=homepage&ssid=t7o3907q280000001694347398905&qH=16e35e1c76bc3b93', 'https://www.flipkart.com/redmi-9a-sport-coral-green-32-gb/p/itm53bc6ebfe147b?pid=MOBGHDXFKYSE5TPK&lid=LSTMOBGHDXFKYSE5TPKGHQ4XF&marketplace=FLIPKART&q=redmi+smartphone&store=tyy%2F4io&srno=s_1_12&otracker=search&otracker1=search&fm=organic&iid=1b46f281-1602-4314-bb73-75dafebd44e6.MOBGHDXFKYSE5TPK.SEARCH&ppt=hp&ppn=homepage&ssid=t7o3907q280000001694347398905&qH=16e35e1c76bc3b93', 'https://www.flipkart.com/redmi-6a-blue-16-gb/p/itm1ed294a755383?pid=MOBF9Z2Z3YDBSF6V&lid=LSTMOBF9Z2Z3YDBSF6VX16ZOH&marketplace=FLIPKART&q=redmi+smartphone&store=tyy%2F4io&srno=s_1_13&otracker=search&otracker1=search&fm=organic&iid=1b46f281-1602-4314-bb73-75dafebd44e6.MOBF9Z2Z3YDBSF6V.SEARCH&ppt=hp&ppn=homepage&ssid=t7o3907q280000001694347398905&qH=16e35e1c76bc3b93', 'https://www.flipkart.com/redmi-a2-aqua-blue-32-gb/p/itm5d49be2c0a95a?pid=MOBGPUZR8GHCE5ZQ&lid=LSTMOBGPUZR8GHCE5ZQ1P4DF9&marketplace=FLIPKART&q=redmi+smartphone&store=tyy%2F4io&srno=s_1_14&otracker=search&otracker1=search&fm=organic&iid=1b46f281-1602-4314-bb73-75dafebd44e6.MOBGPUZR8GHCE5ZQ.SEARCH&ppt=hp&ppn=homepage&ssid=t7o3907q280000001694347398905&qH=16e35e1c76bc3b93', 'https://www.flipkart.com/redmi-11-prime-playful-green-128-gb/p/itm0b080e6994972?pid=MOBGZHFGZQMESCDK&lid=LSTMOBGZHFGZQMESCDKZ6ILTE&marketplace=FLIPKART&q=redmi+smartphone&store=tyy%2F4io&srno=s_1_15&otracker=search&otracker1=search&fm=organic&iid=1b46f281-1602-4314-bb73-75dafebd44e6.MOBGZHFGZQMESCDK.SEARCH&ppt=hp&ppn=homepage&ssid=t7o3907q280000001694347398905&qH=16e35e1c76bc3b93', 'https://www.flipkart.com/redmi-a2-sea-green-64-gb/p/itm5d49be2c0a95a?pid=MOBGPVYEHMPGNCBZ&lid=LSTMOBGPVYEHMPGNCBZHUKI4Z&marketplace=FLIPKART&q=redmi+smartphone&store=tyy%2F4io&srno=s_1_16&otracker=search&otracker1=search&fm=organic&iid=1b46f281-1602-4314-bb73-75dafebd44e6.MOBGPVYEHMPGNCBZ.SEARCH&ppt=hp&ppn=homepage&ssid=t7o3907q280000001694347398905&qH=16e35e1c76bc3b93', 'https://www.flipkart.com/redmi-a2-classic-black-64-gb/p/itm5d49be2c0a95a?pid=MOBGRHB6XAEUADQB&lid=LSTMOBGRHB6XAEUADQBAI4AJ4&marketplace=FLIPKART&q=redmi+smartphone&store=tyy%2F4io&srno=s_1_17&otracker=search&otracker1=search&fm=organic&iid=1b46f281-1602-4314-bb73-75dafebd44e6.MOBGRHB6XAEUADQB.SEARCH&ppt=hp&ppn=homepage&ssid=t7o3907q280000001694347398905&qH=16e35e1c76bc3b93', 'https://www.flipkart.com/redmi-a2-sea-green-64-gb/p/itm5d49be2c0a95a?pid=MOBGRHB7GUUZG3QH&lid=LSTMOBGRHB7GUUZG3QHWXCHRR&marketplace=FLIPKART&q=redmi+smartphone&store=tyy%2F4io&srno=s_1_18&otracker=search&otracker1=search&fm=organic&iid=1b46f281-1602-4314-bb73-75dafebd44e6.MOBGRHB7GUUZG3QH.SEARCH&ppt=hp&ppn=homepage&ssid=t7o3907q280000001694347398905&qH=16e35e1c76bc3b93', 'https://www.flipkart.com/redmi-note-12-ice-blue-64-gb/p/itmee415766dfc1a?pid=MOBGNYHZYZ4CNTCM&lid=LSTMOBGNYHZYZ4CNTCMVONB0S&marketplace=FLIPKART&q=redmi+smartphone&store=tyy%2F4io&srno=s_1_19&otracker=search&otracker1=search&fm=organic&iid=1b46f281-1602-4314-bb73-75dafebd44e6.MOBGNYHZYZ4CNTCM.SEARCH&ppt=hp&ppn=homepage&ssid=t7o3907q280000001694347398905&qH=16e35e1c76bc3b93', 'https://www.flipkart.com/redmi-12-5g-jade-black-128-gb/p/itm0c8ba13f6fc5b?pid=MOBGS9QU7QVWUWRD&lid=LSTMOBGS9QU7QVWUWRDCTGYQ5&marketplace=FLIPKART&q=redmi+smartphone&store=tyy%2F4io&srno=s_1_20&otracker=search&otracker1=search&fm=organic&iid=1b46f281-1602-4314-bb73-75dafebd44e6.MOBGS9QU7QVWUWRD.SEARCH&ppt=hp&ppn=homepage&ssid=t7o3907q280000001694347398905&qH=16e35e1c76bc3b93', 'https://www.flipkart.com/redmi-note-12-sunrise-gold-64-gb/p/itm5d170187bcbf0?pid=MOBGNYHZ7ZGHES2V&lid=LSTMOBGNYHZ7ZGHES2VQILAET&marketplace=FLIPKART&q=redmi+smartphone&store=tyy%2F4io&srno=s_1_21&otracker=search&otracker1=search&fm=organic&iid=1b46f281-1602-4314-bb73-75dafebd44e6.MOBGNYHZ7ZGHES2V.SEARCH&ppt=hp&ppn=homepage&ssid=t7o3907q280000001694347398905&qH=16e35e1c76bc3b93', 'https://www.flipkart.com/redmi-12c-lavender-purple-128-gb/p/itm3fe4e598a0358?pid=MOBGZEU9TYHQ8RGE&lid=LSTMOBGZEU9TYHQ8RGEJXEEKD&marketplace=FLIPKART&q=redmi+smartphone&store=tyy%2F4io&srno=s_1_22&otracker=search&otracker1=search&fm=organic&iid=1b46f281-1602-4314-bb73-75dafebd44e6.MOBGZEU9TYHQ8RGE.SEARCH&ppt=hp&ppn=homepage&ssid=t7o3907q280000001694347398905&qH=16e35e1c76bc3b93', 'https://www.flipkart.com/redmi-12c-mint-green-128-gb/p/itm3fe4e598a0358?pid=MOBGZEUDZWSZHYJM&lid=LSTMOBGZEUDZWSZHYJMPU2O1S&marketplace=FLIPKART&q=redmi+smartphone&store=tyy%2F4io&srno=s_1_23&otracker=search&otracker1=search&fm=organic&iid=1b46f281-1602-4314-bb73-75dafebd44e6.MOBGZEUDZWSZHYJM.SEARCH&ppt=hp&ppn=homepage&ssid=t7o3907q280000001694347398905&qH=16e35e1c76bc3b93', 'https://www.flipkart.com/redmi-12c-lavender-purple-64-gb/p/itm3fe4e598a0358?pid=MOBGZEVUSSJ8VGXZ&lid=LSTMOBGZEVUSSJ8VGXZQC5UNR&marketplace=FLIPKART&q=redmi+smartphone&store=tyy%2F4io&srno=s_1_24&otracker=search&otracker1=search&fm=organic&iid=1b46f281-1602-4314-bb73-75dafebd44e6.MOBGZEVUSSJ8VGXZ.SEARCH&ppt=hp&ppn=homepage&ssid=t7o3907q280000001694347398905&qH=16e35e1c76bc3b93']\n",
      "['https://www.flipkart.com/redmi-12-moonstone-silver-128-gb/p/itme52e778c12701?pid=MOBGRMFK2MGRNG4Q&lid=LSTMOBGRMFK2MGRNG4QFZLVXT&marketplace=FLIPKART&q=redmi+smartphone&store=tyy%2F4io&spotlightTagId=BestsellerId_tyy%2F4io&srno=s_1_1&otracker=search&otracker1=search&fm=Search&iid=1b46f281-1602-4314-bb73-75dafebd44e6.MOBGRMFK2MGRNG4Q.SEARCH&ppt=sp&ppn=sp&ssid=t7o3907q280000001694347398905&qH=16e35e1c76bc3b93', 'https://www.flipkart.com/redmi-12-pastel-blue-128-gb/p/itm48719506a7ceb?pid=MOBGRMFKKGYD9ETX&lid=LSTMOBGRMFKKGYD9ETX5KD9VL&marketplace=FLIPKART&q=redmi+smartphone&store=tyy%2F4io&spotlightTagId=BestsellerId_tyy%2F4io&srno=s_1_2&otracker=search&otracker1=search&fm=Search&iid=1b46f281-1602-4314-bb73-75dafebd44e6.MOBGRMFKKGYD9ETX.SEARCH&ppt=sp&ppn=sp&ssid=t7o3907q280000001694347398905&qH=16e35e1c76bc3b93', 'https://www.flipkart.com/redmi-12-jade-black-128-gb/p/itmb7050ec01c09f?pid=MOBGRMFKTHKQSJEG&lid=LSTMOBGRMFKTHKQSJEGQK3FM2&marketplace=FLIPKART&q=redmi+smartphone&store=tyy%2F4io&spotlightTagId=BestsellerId_tyy%2F4io&srno=s_1_3&otracker=search&otracker1=search&fm=organic&iid=1b46f281-1602-4314-bb73-75dafebd44e6.MOBGRMFKTHKQSJEG.SEARCH&ppt=hp&ppn=homepage&ssid=t7o3907q280000001694347398905&qH=16e35e1c76bc3b93', 'https://www.flipkart.com/redmi-11-prime-peppy-purple-128-gb/p/itm52d6b0fe396e9?pid=MOBGZHFGUHYSHQYM&lid=LSTMOBGZHFGUHYSHQYMWGOOJ0&marketplace=FLIPKART&q=redmi+smartphone&store=tyy%2F4io&srno=s_1_4&otracker=search&otracker1=search&fm=organic&iid=1b46f281-1602-4314-bb73-75dafebd44e6.MOBGZHFGUHYSHQYM.SEARCH&ppt=hp&ppn=homepage&ssid=t7o3907q280000001694347398905&qH=16e35e1c76bc3b93', 'https://www.flipkart.com/redmi-12-pastel-blue-128-gb/p/itm9b1a6640faccd?pid=MOBGRMFKAHNTZPWE&lid=LSTMOBGRMFKAHNTZPWE1H5IWS&marketplace=FLIPKART&q=redmi+smartphone&store=tyy%2F4io&srno=s_1_5&otracker=search&otracker1=search&fm=organic&iid=1b46f281-1602-4314-bb73-75dafebd44e6.MOBGRMFKAHNTZPWE.SEARCH&ppt=hp&ppn=homepage&ssid=t7o3907q280000001694347398905&qH=16e35e1c76bc3b93', 'https://www.flipkart.com/redmi-a1-black-32-gb/p/itm70b00a77a7d1d?pid=MOBGGYBABVXHHRDQ&lid=LSTMOBGGYBABVXHHRDQTMWLXJ&marketplace=FLIPKART&q=redmi+smartphone&store=tyy%2F4io&srno=s_1_6&otracker=search&otracker1=search&fm=organic&iid=1b46f281-1602-4314-bb73-75dafebd44e6.MOBGGYBABVXHHRDQ.SEARCH&ppt=hp&ppn=homepage&ssid=t7o3907q280000001694347398905&qH=16e35e1c76bc3b93', 'https://www.flipkart.com/redmi-a1-light-green-32-gb/p/itmecc9e7ba0a1df?pid=MOBGGYBAHSAJVKHP&lid=LSTMOBGGYBAHSAJVKHP4UBD9A&marketplace=FLIPKART&q=redmi+smartphone&store=tyy%2F4io&srno=s_1_7&otracker=search&otracker1=search&fm=organic&iid=1b46f281-1602-4314-bb73-75dafebd44e6.MOBGGYBAHSAJVKHP.SEARCH&ppt=hp&ppn=homepage&ssid=t7o3907q280000001694347398905&qH=16e35e1c76bc3b93', 'https://www.flipkart.com/redmi-a2-aqua-blue-64-gb/p/itm5d49be2c0a95a?pid=MOBGPVYMG9RWX6XY&lid=LSTMOBGPVYMG9RWX6XYNJOQ2B&marketplace=FLIPKART&q=redmi+smartphone&store=tyy%2F4io&srno=s_1_8&otracker=search&otracker1=search&fm=organic&iid=1b46f281-1602-4314-bb73-75dafebd44e6.MOBGPVYMG9RWX6XY.SEARCH&ppt=hp&ppn=homepage&ssid=t7o3907q280000001694347398905&qH=16e35e1c76bc3b93', 'https://www.flipkart.com/redmi-a2-sea-green-32-gb/p/itm5d49be2c0a95a?pid=MOBGPVYATHJDTSSR&lid=LSTMOBGPVYATHJDTSSR6JMF4X&marketplace=FLIPKART&q=redmi+smartphone&store=tyy%2F4io&srno=s_1_9&otracker=search&otracker1=search&fm=organic&iid=1b46f281-1602-4314-bb73-75dafebd44e6.MOBGPVYATHJDTSSR.SEARCH&ppt=hp&ppn=homepage&ssid=t7o3907q280000001694347398905&qH=16e35e1c76bc3b93', 'https://www.flipkart.com/redmi-a2-aqua-blue-64-gb/p/itm5d49be2c0a95a?pid=MOBGR4UZWNAYKSUH&lid=LSTMOBGR4UZWNAYKSUHUXU5WM&marketplace=FLIPKART&q=redmi+smartphone&store=tyy%2F4io&srno=s_1_10&otracker=search&otracker1=search&fm=organic&iid=1b46f281-1602-4314-bb73-75dafebd44e6.MOBGR4UZWNAYKSUH.SEARCH&ppt=hp&ppn=homepage&ssid=t7o3907q280000001694347398905&qH=16e35e1c76bc3b93', 'https://www.flipkart.com/redmi-a2-classic-black-64-gb/p/itm5d49be2c0a95a?pid=MOBGPVYHRXZ3PFZU&lid=LSTMOBGPVYHRXZ3PFZU0QHLLF&marketplace=FLIPKART&q=redmi+smartphone&store=tyy%2F4io&srno=s_1_11&otracker=search&otracker1=search&fm=organic&iid=1b46f281-1602-4314-bb73-75dafebd44e6.MOBGPVYHRXZ3PFZU.SEARCH&ppt=hp&ppn=homepage&ssid=t7o3907q280000001694347398905&qH=16e35e1c76bc3b93', 'https://www.flipkart.com/redmi-9a-sport-coral-green-32-gb/p/itm53bc6ebfe147b?pid=MOBGHDXFKYSE5TPK&lid=LSTMOBGHDXFKYSE5TPKGHQ4XF&marketplace=FLIPKART&q=redmi+smartphone&store=tyy%2F4io&srno=s_1_12&otracker=search&otracker1=search&fm=organic&iid=1b46f281-1602-4314-bb73-75dafebd44e6.MOBGHDXFKYSE5TPK.SEARCH&ppt=hp&ppn=homepage&ssid=t7o3907q280000001694347398905&qH=16e35e1c76bc3b93', 'https://www.flipkart.com/redmi-6a-blue-16-gb/p/itm1ed294a755383?pid=MOBF9Z2Z3YDBSF6V&lid=LSTMOBF9Z2Z3YDBSF6VX16ZOH&marketplace=FLIPKART&q=redmi+smartphone&store=tyy%2F4io&srno=s_1_13&otracker=search&otracker1=search&fm=organic&iid=1b46f281-1602-4314-bb73-75dafebd44e6.MOBF9Z2Z3YDBSF6V.SEARCH&ppt=hp&ppn=homepage&ssid=t7o3907q280000001694347398905&qH=16e35e1c76bc3b93', 'https://www.flipkart.com/redmi-a2-aqua-blue-32-gb/p/itm5d49be2c0a95a?pid=MOBGPUZR8GHCE5ZQ&lid=LSTMOBGPUZR8GHCE5ZQ1P4DF9&marketplace=FLIPKART&q=redmi+smartphone&store=tyy%2F4io&srno=s_1_14&otracker=search&otracker1=search&fm=organic&iid=1b46f281-1602-4314-bb73-75dafebd44e6.MOBGPUZR8GHCE5ZQ.SEARCH&ppt=hp&ppn=homepage&ssid=t7o3907q280000001694347398905&qH=16e35e1c76bc3b93', 'https://www.flipkart.com/redmi-11-prime-playful-green-128-gb/p/itm0b080e6994972?pid=MOBGZHFGZQMESCDK&lid=LSTMOBGZHFGZQMESCDKZ6ILTE&marketplace=FLIPKART&q=redmi+smartphone&store=tyy%2F4io&srno=s_1_15&otracker=search&otracker1=search&fm=organic&iid=1b46f281-1602-4314-bb73-75dafebd44e6.MOBGZHFGZQMESCDK.SEARCH&ppt=hp&ppn=homepage&ssid=t7o3907q280000001694347398905&qH=16e35e1c76bc3b93', 'https://www.flipkart.com/redmi-a2-sea-green-64-gb/p/itm5d49be2c0a95a?pid=MOBGPVYEHMPGNCBZ&lid=LSTMOBGPVYEHMPGNCBZHUKI4Z&marketplace=FLIPKART&q=redmi+smartphone&store=tyy%2F4io&srno=s_1_16&otracker=search&otracker1=search&fm=organic&iid=1b46f281-1602-4314-bb73-75dafebd44e6.MOBGPVYEHMPGNCBZ.SEARCH&ppt=hp&ppn=homepage&ssid=t7o3907q280000001694347398905&qH=16e35e1c76bc3b93', 'https://www.flipkart.com/redmi-a2-classic-black-64-gb/p/itm5d49be2c0a95a?pid=MOBGRHB6XAEUADQB&lid=LSTMOBGRHB6XAEUADQBAI4AJ4&marketplace=FLIPKART&q=redmi+smartphone&store=tyy%2F4io&srno=s_1_17&otracker=search&otracker1=search&fm=organic&iid=1b46f281-1602-4314-bb73-75dafebd44e6.MOBGRHB6XAEUADQB.SEARCH&ppt=hp&ppn=homepage&ssid=t7o3907q280000001694347398905&qH=16e35e1c76bc3b93', 'https://www.flipkart.com/redmi-a2-sea-green-64-gb/p/itm5d49be2c0a95a?pid=MOBGRHB7GUUZG3QH&lid=LSTMOBGRHB7GUUZG3QHWXCHRR&marketplace=FLIPKART&q=redmi+smartphone&store=tyy%2F4io&srno=s_1_18&otracker=search&otracker1=search&fm=organic&iid=1b46f281-1602-4314-bb73-75dafebd44e6.MOBGRHB7GUUZG3QH.SEARCH&ppt=hp&ppn=homepage&ssid=t7o3907q280000001694347398905&qH=16e35e1c76bc3b93', 'https://www.flipkart.com/redmi-note-12-ice-blue-64-gb/p/itmee415766dfc1a?pid=MOBGNYHZYZ4CNTCM&lid=LSTMOBGNYHZYZ4CNTCMVONB0S&marketplace=FLIPKART&q=redmi+smartphone&store=tyy%2F4io&srno=s_1_19&otracker=search&otracker1=search&fm=organic&iid=1b46f281-1602-4314-bb73-75dafebd44e6.MOBGNYHZYZ4CNTCM.SEARCH&ppt=hp&ppn=homepage&ssid=t7o3907q280000001694347398905&qH=16e35e1c76bc3b93', 'https://www.flipkart.com/redmi-12-5g-jade-black-128-gb/p/itm0c8ba13f6fc5b?pid=MOBGS9QU7QVWUWRD&lid=LSTMOBGS9QU7QVWUWRDCTGYQ5&marketplace=FLIPKART&q=redmi+smartphone&store=tyy%2F4io&srno=s_1_20&otracker=search&otracker1=search&fm=organic&iid=1b46f281-1602-4314-bb73-75dafebd44e6.MOBGS9QU7QVWUWRD.SEARCH&ppt=hp&ppn=homepage&ssid=t7o3907q280000001694347398905&qH=16e35e1c76bc3b93', 'https://www.flipkart.com/redmi-note-12-sunrise-gold-64-gb/p/itm5d170187bcbf0?pid=MOBGNYHZ7ZGHES2V&lid=LSTMOBGNYHZ7ZGHES2VQILAET&marketplace=FLIPKART&q=redmi+smartphone&store=tyy%2F4io&srno=s_1_21&otracker=search&otracker1=search&fm=organic&iid=1b46f281-1602-4314-bb73-75dafebd44e6.MOBGNYHZ7ZGHES2V.SEARCH&ppt=hp&ppn=homepage&ssid=t7o3907q280000001694347398905&qH=16e35e1c76bc3b93', 'https://www.flipkart.com/redmi-12c-lavender-purple-128-gb/p/itm3fe4e598a0358?pid=MOBGZEU9TYHQ8RGE&lid=LSTMOBGZEU9TYHQ8RGEJXEEKD&marketplace=FLIPKART&q=redmi+smartphone&store=tyy%2F4io&srno=s_1_22&otracker=search&otracker1=search&fm=organic&iid=1b46f281-1602-4314-bb73-75dafebd44e6.MOBGZEU9TYHQ8RGE.SEARCH&ppt=hp&ppn=homepage&ssid=t7o3907q280000001694347398905&qH=16e35e1c76bc3b93', 'https://www.flipkart.com/redmi-12c-mint-green-128-gb/p/itm3fe4e598a0358?pid=MOBGZEUDZWSZHYJM&lid=LSTMOBGZEUDZWSZHYJMPU2O1S&marketplace=FLIPKART&q=redmi+smartphone&store=tyy%2F4io&srno=s_1_23&otracker=search&otracker1=search&fm=organic&iid=1b46f281-1602-4314-bb73-75dafebd44e6.MOBGZEUDZWSZHYJM.SEARCH&ppt=hp&ppn=homepage&ssid=t7o3907q280000001694347398905&qH=16e35e1c76bc3b93', 'https://www.flipkart.com/redmi-12c-lavender-purple-64-gb/p/itm3fe4e598a0358?pid=MOBGZEVUSSJ8VGXZ&lid=LSTMOBGZEVUSSJ8VGXZQC5UNR&marketplace=FLIPKART&q=redmi+smartphone&store=tyy%2F4io&srno=s_1_24&otracker=search&otracker1=search&fm=organic&iid=1b46f281-1602-4314-bb73-75dafebd44e6.MOBGZEVUSSJ8VGXZ.SEARCH&ppt=hp&ppn=homepage&ssid=t7o3907q280000001694347398905&qH=16e35e1c76bc3b93']\n"
     ]
    }
   ],
   "source": [
    "#scraping urls\n",
    "info1=soup.find_all('div', class_=\"fMghEO\")\n",
    "for i in info1:\n",
    "    url=[i.get_attribute('href') for i in driver.find_elements(By.XPATH, '//a[@class=\"_1fQZEK\"]')]\n",
    "    print(url)"
   ]
  },
  {
   "cell_type": "code",
   "execution_count": 57,
   "id": "eac8958c",
   "metadata": {},
   "outputs": [
    {
     "name": "stdout",
     "output_type": "stream",
     "text": [
      "[<div class=\"fMghEO\"><ul class=\"_1xgFaf\"><li class=\"rgWa7D\">4 GB RAM | 128 GB ROM | Expandable Upto 1 TB</li><li class=\"rgWa7D\">17.25 cm (6.79 inch) Full HD+ Display</li><li class=\"rgWa7D\">50MP + 8MP + 2MP | 8MP Front Camera</li><li class=\"rgWa7D\">5000 mAh Battery</li><li class=\"rgWa7D\">Helio G88 Processor</li><li class=\"rgWa7D\">1 Year Manufacturer Warranty for Phone and 6 Months Warranty for in the Box Accessories</li></ul></div>, <div class=\"fMghEO\"><ul class=\"_1xgFaf\"><li class=\"rgWa7D\">4 GB RAM | 128 GB ROM | Expandable Upto 1 TB</li><li class=\"rgWa7D\">17.25 cm (6.79 inch) Full HD+ Display</li><li class=\"rgWa7D\">50MP + 8MP + 2MP | 8MP Front Camera</li><li class=\"rgWa7D\">5000 mAh Battery</li><li class=\"rgWa7D\">Helio G88 Processor</li><li class=\"rgWa7D\">1 Year Manufacturer Warranty for Phone and 6 Months Warranty for in the Box Accessories</li></ul></div>, <div class=\"fMghEO\"><ul class=\"_1xgFaf\"><li class=\"rgWa7D\">6 GB RAM | 128 GB ROM | Expandable Upto 1 TB</li><li class=\"rgWa7D\">17.25 cm (6.79 inch) Full HD+ Display</li><li class=\"rgWa7D\">50MP + 8MP + 2MP | 8MP Front Camera</li><li class=\"rgWa7D\">5000 mAh Battery</li><li class=\"rgWa7D\">Helio G88 Processor</li><li class=\"rgWa7D\">1 Year Manufacturer Warranty for Phone and 6 Months Warranty for in the Box Accessories</li></ul></div>, <div class=\"fMghEO\"><ul class=\"_1xgFaf\"><li class=\"rgWa7D\">6 GB RAM | 128 GB ROM | Expandable Upto 512 GB</li><li class=\"rgWa7D\">16.71 cm (6.58 inch) Full HD+ Display</li><li class=\"rgWa7D\">50MP + 2MP + 2MP | 8MP Front Camera</li><li class=\"rgWa7D\">5000 mAh Battery</li><li class=\"rgWa7D\">Helio G99 Processor</li><li class=\"rgWa7D\">1 Year Manufacturer Warranty for Phone and 6 Months Warranty for In the Box Accessories</li></ul></div>, <div class=\"fMghEO\"><ul class=\"_1xgFaf\"><li class=\"rgWa7D\">6 GB RAM | 128 GB ROM | Expandable Upto 1 TB</li><li class=\"rgWa7D\">17.25 cm (6.79 inch) Full HD+ Display</li><li class=\"rgWa7D\">50MP + 8MP + 2MP | 8MP Front Camera</li><li class=\"rgWa7D\">5000 mAh Battery</li><li class=\"rgWa7D\">Helio G88 Processor</li><li class=\"rgWa7D\">1 Year Manufacturer Warranty for Phone and 6 Months Warranty for in the Box Accessories</li></ul></div>, <div class=\"fMghEO\"><ul class=\"_1xgFaf\"><li class=\"rgWa7D\">2 GB RAM | 32 GB ROM | Expandable Upto 512 GB</li><li class=\"rgWa7D\">16.56 cm (6.52 inch) HD+ Display</li><li class=\"rgWa7D\">8MP Rear Camera | 5MP Front Camera</li><li class=\"rgWa7D\">5000 mAh Lithium Polymer Battery</li><li class=\"rgWa7D\">Mediatek Helio A22 Processor</li><li class=\"rgWa7D\">1 Year Manufacturer Warranty for Phone and 6 Months Warranty for in the Box Accessories</li></ul></div>, <div class=\"fMghEO\"><ul class=\"_1xgFaf\"><li class=\"rgWa7D\">2 GB RAM | 32 GB ROM | Expandable Upto 512 GB</li><li class=\"rgWa7D\">16.56 cm (6.52 inch) HD+ Display</li><li class=\"rgWa7D\">8MP Rear Camera | 5MP Front Camera</li><li class=\"rgWa7D\">5000 mAh Lithium Polymer Battery</li><li class=\"rgWa7D\">Mediatek Helio A22 Processor</li><li class=\"rgWa7D\">1 Year Manufacturer Warranty for Phone and 6 Months Warranty for in the Box Accessories</li></ul></div>, <div class=\"fMghEO\"><ul class=\"_1xgFaf\"><li class=\"rgWa7D\">4 GB RAM | 64 GB ROM</li><li class=\"rgWa7D\">16.56 cm (6.52 inch) Display</li><li class=\"rgWa7D\">8MP Rear Camera</li><li class=\"rgWa7D\">5000 mAh Battery</li><li class=\"rgWa7D\">2 year on phone domestic</li></ul></div>, <div class=\"fMghEO\"><ul class=\"_1xgFaf\"><li class=\"rgWa7D\">2 GB RAM | 32 GB ROM</li><li class=\"rgWa7D\">16.56 cm (6.52 inch) Display</li><li class=\"rgWa7D\">8MP Rear Camera</li><li class=\"rgWa7D\">5000 mAh Battery</li><li class=\"rgWa7D\">2 year on phone domestic</li></ul></div>, <div class=\"fMghEO\"><ul class=\"_1xgFaf\"><li class=\"rgWa7D\">2 GB RAM | 64 GB ROM</li><li class=\"rgWa7D\">16.56 cm (6.52 inch) Display</li><li class=\"rgWa7D\">8MP Rear Camera</li><li class=\"rgWa7D\">5000 mAh Battery</li><li class=\"rgWa7D\">2 year on phone domestic</li></ul></div>, <div class=\"fMghEO\"><ul class=\"_1xgFaf\"><li class=\"rgWa7D\">4 GB RAM | 64 GB ROM</li><li class=\"rgWa7D\">16.56 cm (6.52 inch) Display</li><li class=\"rgWa7D\">8MP Rear Camera</li><li class=\"rgWa7D\">5000 mAh Battery</li><li class=\"rgWa7D\">2 year on phone domestic</li></ul></div>, <div class=\"fMghEO\"><ul class=\"_1xgFaf\"><li class=\"rgWa7D\">3 GB RAM | 32 GB ROM</li><li class=\"rgWa7D\">16.59 cm (6.53 inch) Display</li><li class=\"rgWa7D\">13MP Rear Camera</li><li class=\"rgWa7D\">5000 mAh Battery</li><li class=\"rgWa7D\">1 Year Warranty</li></ul></div>, <div class=\"fMghEO\"><ul class=\"_1xgFaf\"><li class=\"rgWa7D\">2 GB RAM | 16 GB ROM | Expandable Upto 128 GB</li><li class=\"rgWa7D\">13.84 cm (5.45 inch) Display</li><li class=\"rgWa7D\">13MP Rear Camera | 5MP Front Camera</li><li class=\"rgWa7D\">3000 mAh Battery</li><li class=\"rgWa7D\">1 Year Manufacturer Warranty</li></ul></div>, <div class=\"fMghEO\"><ul class=\"_1xgFaf\"><li class=\"rgWa7D\">2 GB RAM | 32 GB ROM</li><li class=\"rgWa7D\">16.56 cm (6.52 inch) Display</li><li class=\"rgWa7D\">8MP Rear Camera</li><li class=\"rgWa7D\">5000 mAh Battery</li><li class=\"rgWa7D\">2 year on phone domestic</li></ul></div>, <div class=\"fMghEO\"><ul class=\"_1xgFaf\"><li class=\"rgWa7D\">6 GB RAM | 128 GB ROM | Expandable Upto 512 GB</li><li class=\"rgWa7D\">16.71 cm (6.58 inch) Full HD+ Display</li><li class=\"rgWa7D\">50MP + 2MP + 2MP | 8MP Front Camera</li><li class=\"rgWa7D\">5000 mAh Battery</li><li class=\"rgWa7D\">Helio G99 Processor</li><li class=\"rgWa7D\">1 Year Manufacturer Warranty for Phone and 6 Months Warranty for In the Box Accessories</li></ul></div>, <div class=\"fMghEO\"><ul class=\"_1xgFaf\"><li class=\"rgWa7D\">4 GB RAM | 64 GB ROM</li><li class=\"rgWa7D\">16.56 cm (6.52 inch) Display</li><li class=\"rgWa7D\">8MP Rear Camera</li><li class=\"rgWa7D\">5000 mAh Battery</li><li class=\"rgWa7D\">2 year on phone domestic</li></ul></div>, <div class=\"fMghEO\"><ul class=\"_1xgFaf\"><li class=\"rgWa7D\">2 GB RAM | 64 GB ROM</li><li class=\"rgWa7D\">16.56 cm (6.52 inch) Display</li><li class=\"rgWa7D\">8MP Rear Camera</li><li class=\"rgWa7D\">5000 mAh Battery</li><li class=\"rgWa7D\">2 year on phone domestic</li></ul></div>, <div class=\"fMghEO\"><ul class=\"_1xgFaf\"><li class=\"rgWa7D\">2 GB RAM | 64 GB ROM</li><li class=\"rgWa7D\">16.56 cm (6.52 inch) Display</li><li class=\"rgWa7D\">8MP Rear Camera</li><li class=\"rgWa7D\">5000 mAh Battery</li><li class=\"rgWa7D\">2 year on phone domestic</li></ul></div>, <div class=\"fMghEO\"><ul class=\"_1xgFaf\"><li class=\"rgWa7D\">6 GB RAM | 64 GB ROM | Expandable Upto 1 TB</li><li class=\"rgWa7D\">16.94 cm (6.67 inch) Full HD+ Super AMOLED Display</li><li class=\"rgWa7D\">50MP + 8MP + 2MP | 13MP Front Camera</li><li class=\"rgWa7D\">5000 mAh Battery</li><li class=\"rgWa7D\">Snapdragon 685 Processor</li><li class=\"rgWa7D\">1 Year Manufacturer Warranty for Phone and 6 Months Warranty for In the Box Accessories</li></ul></div>, <div class=\"fMghEO\"><ul class=\"_1xgFaf\"><li class=\"rgWa7D\">4 GB RAM | 128 GB ROM</li><li class=\"rgWa7D\">17.25 cm (6.79 inch) Full HD Display</li><li class=\"rgWa7D\">50MP Rear Camera</li><li class=\"rgWa7D\">5000 mAh Battery</li><li class=\"rgWa7D\">1 Year Domestic Warranty for Phone and 6 Months Warranty for In-Box Accessories</li></ul></div>, <div class=\"fMghEO\"><ul class=\"_1xgFaf\"><li class=\"rgWa7D\">6 GB RAM | 64 GB ROM | Expandable Upto 1 TB</li><li class=\"rgWa7D\">16.94 cm (6.67 inch) Full HD+ Super AMOLED Display</li><li class=\"rgWa7D\">50MP + 8MP + 2MP | 13MP Front Camera</li><li class=\"rgWa7D\">5000 mAh Battery</li><li class=\"rgWa7D\">Snapdragon 685 Processor</li><li class=\"rgWa7D\">1 Year Manufacturer Warranty for Phone and 6 Months Warranty for In the Box Accessories</li></ul></div>, <div class=\"fMghEO\"><ul class=\"_1xgFaf\"><li class=\"rgWa7D\">6 GB RAM | 128 GB ROM</li><li class=\"rgWa7D\">17.04 cm (6.71 inch) Display</li><li class=\"rgWa7D\">50MP Rear Camera</li><li class=\"rgWa7D\">5000 mAh Battery</li><li class=\"rgWa7D\">Domestic warranty of 12 months on phone &amp; 6 months on accessories</li></ul></div>, <div class=\"fMghEO\"><ul class=\"_1xgFaf\"><li class=\"rgWa7D\">6 GB RAM | 128 GB ROM</li><li class=\"rgWa7D\">17.04 cm (6.71 inch) Display</li><li class=\"rgWa7D\">50MP Rear Camera</li><li class=\"rgWa7D\">5000 mAh Battery</li><li class=\"rgWa7D\">Domestic warranty of 12 months on phone &amp; 6 months on accessories</li></ul></div>, <div class=\"fMghEO\"><ul class=\"_1xgFaf\"><li class=\"rgWa7D\">4 GB RAM | 64 GB ROM</li><li class=\"rgWa7D\">17.04 cm (6.71 inch) Display</li><li class=\"rgWa7D\">50MP Rear Camera</li><li class=\"rgWa7D\">5000 mAh Battery</li><li class=\"rgWa7D\">Domestic warranty of 12 months on phone &amp; 6 months on accessories</li></ul></div>]\n"
     ]
    }
   ],
   "source": [
    "info=soup.find_all('div', class_='fMghEO')\n",
    "print(info)"
   ]
  },
  {
   "cell_type": "code",
   "execution_count": 58,
   "id": "e5ba746f",
   "metadata": {},
   "outputs": [
    {
     "name": "stdout",
     "output_type": "stream",
     "text": [
      "5000 \n",
      "5000 \n",
      "5000 \n",
      "5000 \n",
      "5000 \n",
      "5000 \n",
      "5000 \n",
      "5000 \n",
      "5000 \n",
      "5000 \n",
      "5000 \n",
      "5000 \n",
      "3000 \n",
      "5000 \n",
      "5000 \n",
      "5000 \n",
      "5000 \n",
      "5000 \n",
      "5000 \n",
      "5000 \n",
      "5000 \n",
      "5000 \n",
      "5000 \n",
      "5000 \n"
     ]
    }
   ],
   "source": [
    "#scraping battery\n",
    "for i in info:\n",
    "    information=i.find_all('li', class_='rgWa7D')\n",
    "    battery=information[3].text.split('mAh')[0]\n",
    "    print(battery)"
   ]
  },
  {
   "cell_type": "code",
   "execution_count": 59,
   "id": "c0c786e8",
   "metadata": {},
   "outputs": [
    {
     "name": "stdout",
     "output_type": "stream",
     "text": [
      "50MP + 8MP + 2MP   8MP Front Camera\n",
      "50MP + 8MP + 2MP   8MP Front Camera\n",
      "50MP + 8MP + 2MP   8MP Front Camera\n",
      "50MP + 2MP + 2MP   8MP Front Camera\n",
      "50MP + 8MP + 2MP   8MP Front Camera\n",
      "8MP Rear Camera   5MP Front Camera\n",
      "8MP Rear Camera   5MP Front Camera\n",
      "8MP Rear Camera 0\n",
      "8MP Rear Camera 0\n",
      "8MP Rear Camera 0\n",
      "8MP Rear Camera 0\n",
      "13MP Rear Camera 0\n",
      "13MP Rear Camera   5MP Front Camera\n",
      "8MP Rear Camera 0\n",
      "50MP + 2MP + 2MP   8MP Front Camera\n",
      "8MP Rear Camera 0\n",
      "8MP Rear Camera 0\n",
      "8MP Rear Camera 0\n",
      "50MP + 8MP + 2MP   13MP Front Camera\n",
      "50MP Rear Camera 0\n",
      "50MP + 8MP + 2MP   13MP Front Camera\n",
      "50MP Rear Camera 0\n",
      "50MP Rear Camera 0\n",
      "50MP Rear Camera 0\n"
     ]
    }
   ],
   "source": [
    "#combining camera info\n",
    "for i in info:\n",
    "    information=i.find_all('li', class_='rgWa7D')\n",
    "    camera=information[2].text.split('|')\n",
    "    try:\n",
    "        prim_cam=camera[0]\n",
    "        sec_cam=camera[1]\n",
    "    except:\n",
    "        sec_cam=0\n",
    "    print(prim_cam, sec_cam)"
   ]
  },
  {
   "cell_type": "code",
   "execution_count": 60,
   "id": "88819e83",
   "metadata": {},
   "outputs": [
    {
     "name": "stdout",
     "output_type": "stream",
     "text": [
      "4 GB 128 GB\n",
      "4 GB 128 GB\n",
      "6 GB 128 GB\n",
      "6 GB 128 GB\n",
      "6 GB 128 GB\n",
      "2 GB 32 GB\n",
      "2 GB 32 GB\n",
      "4 GB 64 GB\n",
      "2 GB 32 GB\n",
      "2 GB 64 GB\n",
      "4 GB 64 GB\n",
      "3 GB 32 GB\n",
      "2 GB 16 GB\n",
      "2 GB 32 GB\n",
      "6 GB 128 GB\n",
      "4 GB 64 GB\n",
      "2 GB 64 GB\n",
      "2 GB 64 GB\n",
      "6 GB 64 GB\n",
      "4 GB 128 GB\n",
      "6 GB 64 GB\n",
      "6 GB 128 GB\n",
      "6 GB 128 GB\n",
      "4 GB 64 GB\n"
     ]
    }
   ],
   "source": [
    "#combining ram and rom info\n",
    "for i in info:\n",
    "    information=i.find_all('li', class_='rgWa7D')\n",
    "    space=information[0].text\n",
    "    RAM1=space.split('|')[0].strip(' RAM')\n",
    "    ROM1=space.split('|')[1].strip(' ROM')\n",
    "    print(RAM1, ROM1)"
   ]
  },
  {
   "cell_type": "code",
   "execution_count": 61,
   "id": "d11b1b41",
   "metadata": {},
   "outputs": [
    {
     "name": "stdout",
     "output_type": "stream",
     "text": [
      "17.25 cm\n",
      "17.25 cm\n",
      "17.25 cm\n",
      "16.71 cm\n",
      "17.25 cm\n",
      "16.56 cm\n",
      "16.56 cm\n",
      "16.56 cm\n",
      "16.56 cm\n",
      "16.56 cm\n",
      "16.56 cm\n",
      "16.59 cm\n",
      "13.84 cm\n",
      "16.56 cm\n",
      "16.71 cm\n",
      "16.56 cm\n",
      "16.56 cm\n",
      "16.56 cm\n",
      "16.94 cm\n",
      "17.25 cm\n",
      "16.94 cm\n",
      "17.04 cm\n",
      "17.04 cm\n",
      "17.04 cm\n"
     ]
    }
   ],
   "source": [
    "for i in info:\n",
    "    information=i.find_all('li', class_='rgWa7D')\n",
    "    display_size=information[1].text.split(' (')[0]\n",
    "    print(display_size)"
   ]
  },
  {
   "cell_type": "code",
   "execution_count": 62,
   "id": "3ac8003d",
   "metadata": {},
   "outputs": [],
   "source": [
    "Phone_details=pd.DataFrame({\"Brand\":brand_name, \"Smartphone Name\":smartphone_name, \"Color\":color_name, \"RAM\":RAM1, 'ROM':ROM1, 'Primary Camera':prim_cam, \"Secondary Camera\":sec_cam, 'Display Size':display_size, 'Battery Capacity':battery, \"Price\":price, 'Product URL':url})"
   ]
  },
  {
   "cell_type": "code",
   "execution_count": 63,
   "id": "99b523d7",
   "metadata": {},
   "outputs": [
    {
     "data": {
      "text/html": [
       "<div>\n",
       "<style scoped>\n",
       "    .dataframe tbody tr th:only-of-type {\n",
       "        vertical-align: middle;\n",
       "    }\n",
       "\n",
       "    .dataframe tbody tr th {\n",
       "        vertical-align: top;\n",
       "    }\n",
       "\n",
       "    .dataframe thead th {\n",
       "        text-align: right;\n",
       "    }\n",
       "</style>\n",
       "<table border=\"1\" class=\"dataframe\">\n",
       "  <thead>\n",
       "    <tr style=\"text-align: right;\">\n",
       "      <th></th>\n",
       "      <th>Brand</th>\n",
       "      <th>Smartphone Name</th>\n",
       "      <th>Color</th>\n",
       "      <th>RAM</th>\n",
       "      <th>ROM</th>\n",
       "      <th>Primary Camera</th>\n",
       "      <th>Secondary Camera</th>\n",
       "      <th>Display Size</th>\n",
       "      <th>Battery Capacity</th>\n",
       "      <th>Price</th>\n",
       "      <th>Product URL</th>\n",
       "    </tr>\n",
       "  </thead>\n",
       "  <tbody>\n",
       "    <tr>\n",
       "      <th>0</th>\n",
       "      <td>REDMI</td>\n",
       "      <td>REDMI 12 (Moonstone Silver, 128 GB)</td>\n",
       "      <td>Moonstone Silver</td>\n",
       "      <td>4 GB</td>\n",
       "      <td>64 GB</td>\n",
       "      <td>50MP Rear Camera</td>\n",
       "      <td>0</td>\n",
       "      <td>17.04 cm</td>\n",
       "      <td>5000</td>\n",
       "      <td>₹9,999</td>\n",
       "      <td>https://www.flipkart.com/redmi-12-moonstone-si...</td>\n",
       "    </tr>\n",
       "    <tr>\n",
       "      <th>1</th>\n",
       "      <td>REDMI</td>\n",
       "      <td>REDMI 12 (Pastel Blue, 128 GB)</td>\n",
       "      <td>Pastel Blue</td>\n",
       "      <td>4 GB</td>\n",
       "      <td>64 GB</td>\n",
       "      <td>50MP Rear Camera</td>\n",
       "      <td>0</td>\n",
       "      <td>17.04 cm</td>\n",
       "      <td>5000</td>\n",
       "      <td>₹9,999</td>\n",
       "      <td>https://www.flipkart.com/redmi-12-pastel-blue-...</td>\n",
       "    </tr>\n",
       "    <tr>\n",
       "      <th>2</th>\n",
       "      <td>REDMI</td>\n",
       "      <td>REDMI 12 (Jade Black, 128 GB)</td>\n",
       "      <td>Jade Black</td>\n",
       "      <td>4 GB</td>\n",
       "      <td>64 GB</td>\n",
       "      <td>50MP Rear Camera</td>\n",
       "      <td>0</td>\n",
       "      <td>17.04 cm</td>\n",
       "      <td>5000</td>\n",
       "      <td>₹11,499</td>\n",
       "      <td>https://www.flipkart.com/redmi-12-jade-black-1...</td>\n",
       "    </tr>\n",
       "    <tr>\n",
       "      <th>3</th>\n",
       "      <td>REDMI</td>\n",
       "      <td>REDMI 11 Prime (Peppy Purple, 128 GB)</td>\n",
       "      <td>Peppy Purple</td>\n",
       "      <td>4 GB</td>\n",
       "      <td>64 GB</td>\n",
       "      <td>50MP Rear Camera</td>\n",
       "      <td>0</td>\n",
       "      <td>17.04 cm</td>\n",
       "      <td>5000</td>\n",
       "      <td>₹10,499</td>\n",
       "      <td>https://www.flipkart.com/redmi-11-prime-peppy-...</td>\n",
       "    </tr>\n",
       "    <tr>\n",
       "      <th>4</th>\n",
       "      <td>REDMI</td>\n",
       "      <td>REDMI 12 (Pastel Blue, 128 GB)</td>\n",
       "      <td>Pastel Blue</td>\n",
       "      <td>4 GB</td>\n",
       "      <td>64 GB</td>\n",
       "      <td>50MP Rear Camera</td>\n",
       "      <td>0</td>\n",
       "      <td>17.04 cm</td>\n",
       "      <td>5000</td>\n",
       "      <td>₹11,499</td>\n",
       "      <td>https://www.flipkart.com/redmi-12-pastel-blue-...</td>\n",
       "    </tr>\n",
       "    <tr>\n",
       "      <th>5</th>\n",
       "      <td>REDMI</td>\n",
       "      <td>REDMI A1+ (Black, 32 GB)</td>\n",
       "      <td>Black</td>\n",
       "      <td>4 GB</td>\n",
       "      <td>64 GB</td>\n",
       "      <td>50MP Rear Camera</td>\n",
       "      <td>0</td>\n",
       "      <td>17.04 cm</td>\n",
       "      <td>5000</td>\n",
       "      <td>₹6,299</td>\n",
       "      <td>https://www.flipkart.com/redmi-a1-black-32-gb/...</td>\n",
       "    </tr>\n",
       "    <tr>\n",
       "      <th>6</th>\n",
       "      <td>REDMI</td>\n",
       "      <td>REDMI A1+ (Light Green, 32 GB)</td>\n",
       "      <td>Light Green</td>\n",
       "      <td>4 GB</td>\n",
       "      <td>64 GB</td>\n",
       "      <td>50MP Rear Camera</td>\n",
       "      <td>0</td>\n",
       "      <td>17.04 cm</td>\n",
       "      <td>5000</td>\n",
       "      <td>₹6,299</td>\n",
       "      <td>https://www.flipkart.com/redmi-a1-light-green-...</td>\n",
       "    </tr>\n",
       "    <tr>\n",
       "      <th>7</th>\n",
       "      <td>REDMI</td>\n",
       "      <td>REDMI A2 (Aqua Blue, 64 GB)</td>\n",
       "      <td>Aqua Blue</td>\n",
       "      <td>4 GB</td>\n",
       "      <td>64 GB</td>\n",
       "      <td>50MP Rear Camera</td>\n",
       "      <td>0</td>\n",
       "      <td>17.04 cm</td>\n",
       "      <td>5000</td>\n",
       "      <td>₹6,773</td>\n",
       "      <td>https://www.flipkart.com/redmi-a2-aqua-blue-64...</td>\n",
       "    </tr>\n",
       "    <tr>\n",
       "      <th>8</th>\n",
       "      <td>REDMI</td>\n",
       "      <td>REDMI A2 (Sea Green, 32 GB)</td>\n",
       "      <td>Sea Green</td>\n",
       "      <td>4 GB</td>\n",
       "      <td>64 GB</td>\n",
       "      <td>50MP Rear Camera</td>\n",
       "      <td>0</td>\n",
       "      <td>17.04 cm</td>\n",
       "      <td>5000</td>\n",
       "      <td>₹6,725</td>\n",
       "      <td>https://www.flipkart.com/redmi-a2-sea-green-32...</td>\n",
       "    </tr>\n",
       "    <tr>\n",
       "      <th>9</th>\n",
       "      <td>REDMI</td>\n",
       "      <td>REDMI A2 (Aqua Blue, 64 GB)</td>\n",
       "      <td>Aqua Blue</td>\n",
       "      <td>4 GB</td>\n",
       "      <td>64 GB</td>\n",
       "      <td>50MP Rear Camera</td>\n",
       "      <td>0</td>\n",
       "      <td>17.04 cm</td>\n",
       "      <td>5000</td>\n",
       "      <td>₹6,990</td>\n",
       "      <td>https://www.flipkart.com/redmi-a2-aqua-blue-64...</td>\n",
       "    </tr>\n",
       "    <tr>\n",
       "      <th>10</th>\n",
       "      <td>REDMI</td>\n",
       "      <td>REDMI A2 (Classic Black, 64 GB)</td>\n",
       "      <td>Classic Black</td>\n",
       "      <td>4 GB</td>\n",
       "      <td>64 GB</td>\n",
       "      <td>50MP Rear Camera</td>\n",
       "      <td>0</td>\n",
       "      <td>17.04 cm</td>\n",
       "      <td>5000</td>\n",
       "      <td>₹6,787</td>\n",
       "      <td>https://www.flipkart.com/redmi-a2-classic-blac...</td>\n",
       "    </tr>\n",
       "    <tr>\n",
       "      <th>11</th>\n",
       "      <td>Redmi</td>\n",
       "      <td>Redmi 9A Sport (Coral Green, 32 GB)</td>\n",
       "      <td>Coral Green</td>\n",
       "      <td>4 GB</td>\n",
       "      <td>64 GB</td>\n",
       "      <td>50MP Rear Camera</td>\n",
       "      <td>0</td>\n",
       "      <td>17.04 cm</td>\n",
       "      <td>5000</td>\n",
       "      <td>₹8,150</td>\n",
       "      <td>https://www.flipkart.com/redmi-9a-sport-coral-...</td>\n",
       "    </tr>\n",
       "    <tr>\n",
       "      <th>12</th>\n",
       "      <td>Redmi</td>\n",
       "      <td>Redmi 6A (Blue, 16 GB)</td>\n",
       "      <td>Blue</td>\n",
       "      <td>4 GB</td>\n",
       "      <td>64 GB</td>\n",
       "      <td>50MP Rear Camera</td>\n",
       "      <td>0</td>\n",
       "      <td>17.04 cm</td>\n",
       "      <td>5000</td>\n",
       "      <td>₹6,490</td>\n",
       "      <td>https://www.flipkart.com/redmi-6a-blue-16-gb/p...</td>\n",
       "    </tr>\n",
       "    <tr>\n",
       "      <th>13</th>\n",
       "      <td>REDMI</td>\n",
       "      <td>REDMI A2 (Aqua Blue, 32 GB)</td>\n",
       "      <td>Aqua Blue</td>\n",
       "      <td>4 GB</td>\n",
       "      <td>64 GB</td>\n",
       "      <td>50MP Rear Camera</td>\n",
       "      <td>0</td>\n",
       "      <td>17.04 cm</td>\n",
       "      <td>5000</td>\n",
       "      <td>₹7,128</td>\n",
       "      <td>https://www.flipkart.com/redmi-a2-aqua-blue-32...</td>\n",
       "    </tr>\n",
       "    <tr>\n",
       "      <th>14</th>\n",
       "      <td>REDMI</td>\n",
       "      <td>REDMI 11 Prime (Playful Green, 128 GB)</td>\n",
       "      <td>Playful Green</td>\n",
       "      <td>4 GB</td>\n",
       "      <td>64 GB</td>\n",
       "      <td>50MP Rear Camera</td>\n",
       "      <td>0</td>\n",
       "      <td>17.04 cm</td>\n",
       "      <td>5000</td>\n",
       "      <td>₹10,499</td>\n",
       "      <td>https://www.flipkart.com/redmi-11-prime-playfu...</td>\n",
       "    </tr>\n",
       "    <tr>\n",
       "      <th>15</th>\n",
       "      <td>REDMI</td>\n",
       "      <td>REDMI A2 (Sea Green, 64 GB)</td>\n",
       "      <td>Sea Green</td>\n",
       "      <td>4 GB</td>\n",
       "      <td>64 GB</td>\n",
       "      <td>50MP Rear Camera</td>\n",
       "      <td>0</td>\n",
       "      <td>17.04 cm</td>\n",
       "      <td>5000</td>\n",
       "      <td>₹6,783</td>\n",
       "      <td>https://www.flipkart.com/redmi-a2-sea-green-64...</td>\n",
       "    </tr>\n",
       "    <tr>\n",
       "      <th>16</th>\n",
       "      <td>REDMI</td>\n",
       "      <td>REDMI A2 (Classic Black, 64 GB)</td>\n",
       "      <td>Classic Black</td>\n",
       "      <td>4 GB</td>\n",
       "      <td>64 GB</td>\n",
       "      <td>50MP Rear Camera</td>\n",
       "      <td>0</td>\n",
       "      <td>17.04 cm</td>\n",
       "      <td>5000</td>\n",
       "      <td>₹6,725</td>\n",
       "      <td>https://www.flipkart.com/redmi-a2-classic-blac...</td>\n",
       "    </tr>\n",
       "    <tr>\n",
       "      <th>17</th>\n",
       "      <td>REDMI</td>\n",
       "      <td>REDMI A2 (Sea Green, 64 GB)</td>\n",
       "      <td>Sea Green</td>\n",
       "      <td>4 GB</td>\n",
       "      <td>64 GB</td>\n",
       "      <td>50MP Rear Camera</td>\n",
       "      <td>0</td>\n",
       "      <td>17.04 cm</td>\n",
       "      <td>5000</td>\n",
       "      <td>₹6,900</td>\n",
       "      <td>https://www.flipkart.com/redmi-a2-sea-green-64...</td>\n",
       "    </tr>\n",
       "    <tr>\n",
       "      <th>18</th>\n",
       "      <td>REDMI</td>\n",
       "      <td>REDMI Note 12 (Ice Blue, 64 GB)</td>\n",
       "      <td>Ice Blue</td>\n",
       "      <td>4 GB</td>\n",
       "      <td>64 GB</td>\n",
       "      <td>50MP Rear Camera</td>\n",
       "      <td>0</td>\n",
       "      <td>17.04 cm</td>\n",
       "      <td>5000</td>\n",
       "      <td>₹12,999</td>\n",
       "      <td>https://www.flipkart.com/redmi-note-12-ice-blu...</td>\n",
       "    </tr>\n",
       "    <tr>\n",
       "      <th>19</th>\n",
       "      <td>REDMI</td>\n",
       "      <td>REDMI 12 5G (Jade Black, 128 GB)</td>\n",
       "      <td>Jade Black</td>\n",
       "      <td>4 GB</td>\n",
       "      <td>64 GB</td>\n",
       "      <td>50MP Rear Camera</td>\n",
       "      <td>0</td>\n",
       "      <td>17.04 cm</td>\n",
       "      <td>5000</td>\n",
       "      <td>₹14,088</td>\n",
       "      <td>https://www.flipkart.com/redmi-12-5g-jade-blac...</td>\n",
       "    </tr>\n",
       "    <tr>\n",
       "      <th>20</th>\n",
       "      <td>REDMI</td>\n",
       "      <td>REDMI Note 12 (Sunrise Gold, 64 GB)</td>\n",
       "      <td>Sunrise Gold</td>\n",
       "      <td>4 GB</td>\n",
       "      <td>64 GB</td>\n",
       "      <td>50MP Rear Camera</td>\n",
       "      <td>0</td>\n",
       "      <td>17.04 cm</td>\n",
       "      <td>5000</td>\n",
       "      <td>₹12,999</td>\n",
       "      <td>https://www.flipkart.com/redmi-note-12-sunrise...</td>\n",
       "    </tr>\n",
       "    <tr>\n",
       "      <th>21</th>\n",
       "      <td>REDMI</td>\n",
       "      <td>REDMI 12C (?Lavender Purple, 128 GB)</td>\n",
       "      <td>?Lavender Purple</td>\n",
       "      <td>4 GB</td>\n",
       "      <td>64 GB</td>\n",
       "      <td>50MP Rear Camera</td>\n",
       "      <td>0</td>\n",
       "      <td>17.04 cm</td>\n",
       "      <td>5000</td>\n",
       "      <td>₹9,717</td>\n",
       "      <td>https://www.flipkart.com/redmi-12c-lavender-pu...</td>\n",
       "    </tr>\n",
       "    <tr>\n",
       "      <th>22</th>\n",
       "      <td>REDMI</td>\n",
       "      <td>REDMI 12C (Mint Green, 128 GB)</td>\n",
       "      <td>Mint Green</td>\n",
       "      <td>4 GB</td>\n",
       "      <td>64 GB</td>\n",
       "      <td>50MP Rear Camera</td>\n",
       "      <td>0</td>\n",
       "      <td>17.04 cm</td>\n",
       "      <td>5000</td>\n",
       "      <td>₹9,917</td>\n",
       "      <td>https://www.flipkart.com/redmi-12c-mint-green-...</td>\n",
       "    </tr>\n",
       "    <tr>\n",
       "      <th>23</th>\n",
       "      <td>REDMI</td>\n",
       "      <td>REDMI 12C (Lavender Purple, 64 GB)</td>\n",
       "      <td>Lavender Purple</td>\n",
       "      <td>4 GB</td>\n",
       "      <td>64 GB</td>\n",
       "      <td>50MP Rear Camera</td>\n",
       "      <td>0</td>\n",
       "      <td>17.04 cm</td>\n",
       "      <td>5000</td>\n",
       "      <td>₹8,295</td>\n",
       "      <td>https://www.flipkart.com/redmi-12c-lavender-pu...</td>\n",
       "    </tr>\n",
       "  </tbody>\n",
       "</table>\n",
       "</div>"
      ],
      "text/plain": [
       "    Brand                         Smartphone Name             Color   RAM  \\\n",
       "0   REDMI     REDMI 12 (Moonstone Silver, 128 GB)  Moonstone Silver  4 GB   \n",
       "1   REDMI          REDMI 12 (Pastel Blue, 128 GB)       Pastel Blue  4 GB   \n",
       "2   REDMI           REDMI 12 (Jade Black, 128 GB)        Jade Black  4 GB   \n",
       "3   REDMI   REDMI 11 Prime (Peppy Purple, 128 GB)      Peppy Purple  4 GB   \n",
       "4   REDMI          REDMI 12 (Pastel Blue, 128 GB)       Pastel Blue  4 GB   \n",
       "5   REDMI                REDMI A1+ (Black, 32 GB)             Black  4 GB   \n",
       "6   REDMI          REDMI A1+ (Light Green, 32 GB)       Light Green  4 GB   \n",
       "7   REDMI             REDMI A2 (Aqua Blue, 64 GB)         Aqua Blue  4 GB   \n",
       "8   REDMI             REDMI A2 (Sea Green, 32 GB)         Sea Green  4 GB   \n",
       "9   REDMI             REDMI A2 (Aqua Blue, 64 GB)         Aqua Blue  4 GB   \n",
       "10  REDMI         REDMI A2 (Classic Black, 64 GB)     Classic Black  4 GB   \n",
       "11  Redmi     Redmi 9A Sport (Coral Green, 32 GB)       Coral Green  4 GB   \n",
       "12  Redmi                  Redmi 6A (Blue, 16 GB)              Blue  4 GB   \n",
       "13  REDMI             REDMI A2 (Aqua Blue, 32 GB)         Aqua Blue  4 GB   \n",
       "14  REDMI  REDMI 11 Prime (Playful Green, 128 GB)     Playful Green  4 GB   \n",
       "15  REDMI             REDMI A2 (Sea Green, 64 GB)         Sea Green  4 GB   \n",
       "16  REDMI         REDMI A2 (Classic Black, 64 GB)     Classic Black  4 GB   \n",
       "17  REDMI             REDMI A2 (Sea Green, 64 GB)         Sea Green  4 GB   \n",
       "18  REDMI         REDMI Note 12 (Ice Blue, 64 GB)          Ice Blue  4 GB   \n",
       "19  REDMI        REDMI 12 5G (Jade Black, 128 GB)        Jade Black  4 GB   \n",
       "20  REDMI     REDMI Note 12 (Sunrise Gold, 64 GB)      Sunrise Gold  4 GB   \n",
       "21  REDMI    REDMI 12C (?Lavender Purple, 128 GB)  ?Lavender Purple  4 GB   \n",
       "22  REDMI          REDMI 12C (Mint Green, 128 GB)        Mint Green  4 GB   \n",
       "23  REDMI      REDMI 12C (Lavender Purple, 64 GB)   Lavender Purple  4 GB   \n",
       "\n",
       "      ROM    Primary Camera  Secondary Camera Display Size Battery Capacity  \\\n",
       "0   64 GB  50MP Rear Camera                 0     17.04 cm            5000    \n",
       "1   64 GB  50MP Rear Camera                 0     17.04 cm            5000    \n",
       "2   64 GB  50MP Rear Camera                 0     17.04 cm            5000    \n",
       "3   64 GB  50MP Rear Camera                 0     17.04 cm            5000    \n",
       "4   64 GB  50MP Rear Camera                 0     17.04 cm            5000    \n",
       "5   64 GB  50MP Rear Camera                 0     17.04 cm            5000    \n",
       "6   64 GB  50MP Rear Camera                 0     17.04 cm            5000    \n",
       "7   64 GB  50MP Rear Camera                 0     17.04 cm            5000    \n",
       "8   64 GB  50MP Rear Camera                 0     17.04 cm            5000    \n",
       "9   64 GB  50MP Rear Camera                 0     17.04 cm            5000    \n",
       "10  64 GB  50MP Rear Camera                 0     17.04 cm            5000    \n",
       "11  64 GB  50MP Rear Camera                 0     17.04 cm            5000    \n",
       "12  64 GB  50MP Rear Camera                 0     17.04 cm            5000    \n",
       "13  64 GB  50MP Rear Camera                 0     17.04 cm            5000    \n",
       "14  64 GB  50MP Rear Camera                 0     17.04 cm            5000    \n",
       "15  64 GB  50MP Rear Camera                 0     17.04 cm            5000    \n",
       "16  64 GB  50MP Rear Camera                 0     17.04 cm            5000    \n",
       "17  64 GB  50MP Rear Camera                 0     17.04 cm            5000    \n",
       "18  64 GB  50MP Rear Camera                 0     17.04 cm            5000    \n",
       "19  64 GB  50MP Rear Camera                 0     17.04 cm            5000    \n",
       "20  64 GB  50MP Rear Camera                 0     17.04 cm            5000    \n",
       "21  64 GB  50MP Rear Camera                 0     17.04 cm            5000    \n",
       "22  64 GB  50MP Rear Camera                 0     17.04 cm            5000    \n",
       "23  64 GB  50MP Rear Camera                 0     17.04 cm            5000    \n",
       "\n",
       "      Price                                        Product URL  \n",
       "0    ₹9,999  https://www.flipkart.com/redmi-12-moonstone-si...  \n",
       "1    ₹9,999  https://www.flipkart.com/redmi-12-pastel-blue-...  \n",
       "2   ₹11,499  https://www.flipkart.com/redmi-12-jade-black-1...  \n",
       "3   ₹10,499  https://www.flipkart.com/redmi-11-prime-peppy-...  \n",
       "4   ₹11,499  https://www.flipkart.com/redmi-12-pastel-blue-...  \n",
       "5    ₹6,299  https://www.flipkart.com/redmi-a1-black-32-gb/...  \n",
       "6    ₹6,299  https://www.flipkart.com/redmi-a1-light-green-...  \n",
       "7    ₹6,773  https://www.flipkart.com/redmi-a2-aqua-blue-64...  \n",
       "8    ₹6,725  https://www.flipkart.com/redmi-a2-sea-green-32...  \n",
       "9    ₹6,990  https://www.flipkart.com/redmi-a2-aqua-blue-64...  \n",
       "10   ₹6,787  https://www.flipkart.com/redmi-a2-classic-blac...  \n",
       "11   ₹8,150  https://www.flipkart.com/redmi-9a-sport-coral-...  \n",
       "12   ₹6,490  https://www.flipkart.com/redmi-6a-blue-16-gb/p...  \n",
       "13   ₹7,128  https://www.flipkart.com/redmi-a2-aqua-blue-32...  \n",
       "14  ₹10,499  https://www.flipkart.com/redmi-11-prime-playfu...  \n",
       "15   ₹6,783  https://www.flipkart.com/redmi-a2-sea-green-64...  \n",
       "16   ₹6,725  https://www.flipkart.com/redmi-a2-classic-blac...  \n",
       "17   ₹6,900  https://www.flipkart.com/redmi-a2-sea-green-64...  \n",
       "18  ₹12,999  https://www.flipkart.com/redmi-note-12-ice-blu...  \n",
       "19  ₹14,088  https://www.flipkart.com/redmi-12-5g-jade-blac...  \n",
       "20  ₹12,999  https://www.flipkart.com/redmi-note-12-sunrise...  \n",
       "21   ₹9,717  https://www.flipkart.com/redmi-12c-lavender-pu...  \n",
       "22   ₹9,917  https://www.flipkart.com/redmi-12c-mint-green-...  \n",
       "23   ₹8,295  https://www.flipkart.com/redmi-12c-lavender-pu...  "
      ]
     },
     "execution_count": 63,
     "metadata": {},
     "output_type": "execute_result"
    }
   ],
   "source": [
    "Phone_details"
   ]
  },
  {
   "cell_type": "code",
   "execution_count": 65,
   "id": "8928684d",
   "metadata": {},
   "outputs": [],
   "source": [
    "Phone_details.to_csv(r\"C:\\Users\\VIJAY\\flip robo internship\")"
   ]
  },
  {
   "cell_type": "code",
   "execution_count": null,
   "id": "0b1e2d1f",
   "metadata": {},
   "outputs": [],
   "source": []
  },
  {
   "cell_type": "code",
   "execution_count": null,
   "id": "0e6e59af",
   "metadata": {},
   "outputs": [],
   "source": [
    "# QUESTION 5"
   ]
  },
  {
   "cell_type": "code",
   "execution_count": 66,
   "id": "32436939",
   "metadata": {},
   "outputs": [],
   "source": [
    "# to get web browser\n",
    "driver=webdriver.Chrome() \n",
    "time.sleep(2)"
   ]
  },
  {
   "cell_type": "code",
   "execution_count": 67,
   "id": "2d4e7b88",
   "metadata": {},
   "outputs": [],
   "source": [
    "# opening google maps\n",
    "url = \"https://www.google.co.in/maps\"\n",
    "driver.get(url)\n",
    "time.sleep(2)"
   ]
  },
  {
   "cell_type": "code",
   "execution_count": 74,
   "id": "77bebf64",
   "metadata": {},
   "outputs": [],
   "source": [
    "# Sending keyword for search bar and search button\n",
    "search_icon=driver.find_element(By.XPATH, \"/html/body/div[3]/div[8]/div[3]/div[1]/div[1]/div/div[2]/form/input\")\n",
    "search_icon.send_keys('jabalpur')"
   ]
  },
  {
   "cell_type": "code",
   "execution_count": 75,
   "id": "72e8fd28",
   "metadata": {},
   "outputs": [],
   "source": [
    "search_btn=driver.find_element(By.XPATH, '/html/body/div[3]/div[8]/div[3]/div[1]/div[1]/div/div[2]/div[1]/button')\n",
    "search_btn.click()"
   ]
  },
  {
   "cell_type": "code",
   "execution_count": 76,
   "id": "5c4c68f3",
   "metadata": {},
   "outputs": [
    {
     "name": "stdout",
     "output_type": "stream",
     "text": [
      "https://www.google.co.in/maps/place/Jabalpur,+Madhya+Pradesh/@23.1756093,79.8039395,11z/data=!3m1!4b1!4m6!3m5!1s0x3981ae1a0fb6a97d:0x44020616bc43e3b9!8m2!3d23.1685786!4d79.9338798!16zL20vMDJkcm5r?entry=ttu\n"
     ]
    }
   ],
   "source": [
    "url=driver.current_url\n",
    "print(url)"
   ]
  },
  {
   "cell_type": "code",
   "execution_count": 77,
   "id": "82f1a29b",
   "metadata": {},
   "outputs": [
    {
     "data": {
      "text/plain": [
       "'23.1756093,79.8039395,11z/data=!3m1!4b1!4m6!3m5!1s0x3981ae1a0fb6a97d:0x44020616bc43e3b9!8m2!3d23.1685786!4d79.9338798!16zL20vMDJkcm5r?entry=ttu'"
      ]
     },
     "execution_count": 77,
     "metadata": {},
     "output_type": "execute_result"
    }
   ],
   "source": [
    "det=url.split('@')[1]\n",
    "det"
   ]
  },
  {
   "cell_type": "code",
   "execution_count": 78,
   "id": "b6b7ff51",
   "metadata": {},
   "outputs": [
    {
     "name": "stdout",
     "output_type": "stream",
     "text": [
      "23.1756093 79.8039395\n"
     ]
    }
   ],
   "source": [
    "lat=det.split(\",\")[0]\n",
    "long=det.split(',')[1]\n",
    "print(lat, long)"
   ]
  },
  {
   "cell_type": "code",
   "execution_count": null,
   "id": "ce7059de",
   "metadata": {},
   "outputs": [],
   "source": []
  },
  {
   "cell_type": "code",
   "execution_count": null,
   "id": "1485aa72",
   "metadata": {},
   "outputs": [],
   "source": [
    "# QUESTION 6"
   ]
  },
  {
   "cell_type": "code",
   "execution_count": 79,
   "id": "ecf363df",
   "metadata": {},
   "outputs": [],
   "source": [
    "# Connecting to the webdriver\n",
    "driver=webdriver.Chrome()"
   ]
  },
  {
   "cell_type": "code",
   "execution_count": 80,
   "id": "e2a475cf",
   "metadata": {},
   "outputs": [],
   "source": [
    "# opening the url digit.in\n",
    "url = \"https://www.digit.in/\"\n",
    "driver.get(url)\n",
    "time.sleep(2)"
   ]
  },
  {
   "cell_type": "code",
   "execution_count": 81,
   "id": "43eafe99",
   "metadata": {},
   "outputs": [],
   "source": [
    "#searching for best laptop\n",
    "best_gam_laptops = driver.find_element(By.XPATH,\"//div[@class='listing_container']//ul//li[9]\").click()\n",
    "time.sleep(4)"
   ]
  },
  {
   "cell_type": "code",
   "execution_count": 82,
   "id": "9d7841ce",
   "metadata": {},
   "outputs": [],
   "source": [
    "#Creating empty lists\n",
    "Laptop_Name = []\n",
    "Operating_sys = []\n",
    "Display = []\n",
    "Processor = []\n",
    "Memory = []\n",
    "Weight = []\n",
    "Dimensions = []\n",
    "Graph_proc = []\n",
    "Price = []"
   ]
  },
  {
   "cell_type": "code",
   "execution_count": 83,
   "id": "3069397f",
   "metadata": {},
   "outputs": [],
   "source": [
    "# Scraping the data of laptop names\n",
    "laptop_name= driver.find_elements(By.XPATH,'//span[@class=\"datahreflink\"]/h3')\n",
    "for name in laptop_name:\n",
    "    Laptop_Name.append(name.text)"
   ]
  },
  {
   "cell_type": "code",
   "execution_count": 84,
   "id": "a40cba8f",
   "metadata": {},
   "outputs": [],
   "source": [
    "#Scraping the data of operating system\n",
    "try:\n",
    "    op_sys = driver.find_elements(By.XPATH,'//div[@class=\"Spcs-details\"]//table/tbody/tr[4]/td[3]')\n",
    "    for os in op_sys:\n",
    "        Operating_sys.append(os.text)\n",
    "except NoSuchElementException:\n",
    "    pass"
   ]
  },
  {
   "cell_type": "code",
   "execution_count": 85,
   "id": "be1db54f",
   "metadata": {},
   "outputs": [],
   "source": [
    "#Scraping data of display of the laptop\n",
    "try:\n",
    "    display= driver.find_elements(By.XPATH,'//div[@class=\"Spcs-details\"]/table/tbody/tr[3]/td[3]')\n",
    "    for disp in display:\n",
    "        Display.append(disp.text)\n",
    "except NoSuchElementException:\n",
    "    pass"
   ]
  },
  {
   "cell_type": "code",
   "execution_count": 86,
   "id": "b31f80ff",
   "metadata": {},
   "outputs": [],
   "source": [
    "#Scraping data of Processor\n",
    "try:\n",
    "    processor = driver.find_elements(By.XPATH,'//div[@class=\"Spcs-details\"]/table/tbody/tr[2]/td[3]')\n",
    "    for pro in processor:\n",
    "        Processor.append(pro.text)\n",
    "except NoSuchElementException:\n",
    "    pass"
   ]
  },
  {
   "cell_type": "code",
   "execution_count": 87,
   "id": "47b2aaf5",
   "metadata": {},
   "outputs": [],
   "source": [
    "#Scraping data of memory\n",
    "try:\n",
    "    memory = driver.find_elements(By.XPATH,'//div[@class=\"Spcs-details\"]/table/tbody/tr[5]/td[3]')\n",
    "    for memo in memory:\n",
    "        Memory.append(memo.text)\n",
    "except NoSuchElementException:\n",
    "    pass"
   ]
  },
  {
   "cell_type": "code",
   "execution_count": 88,
   "id": "169656e0",
   "metadata": {},
   "outputs": [],
   "source": [
    "#Scraping data of dimensions\n",
    "try:\n",
    "    dimension = driver.find_elements(By.XPATH,'//div[@class=\"Spcs-details\"]/table/tbody/tr[7]/td[3]')\n",
    "    for dim in dimension:\n",
    "        Dimensions.append(dim.text)\n",
    "except NoSuchElementException:\n",
    "    pass"
   ]
  },
  {
   "cell_type": "code",
   "execution_count": 89,
   "id": "fa691b5a",
   "metadata": {},
   "outputs": [],
   "source": [
    "#Scraping data of Graph processor\n",
    "try:\n",
    "    graph = driver.find_elements(By.XPATH,'//div[@class=\"Spcs-details\"]/table/tbody/tr[6]/td[3]')\n",
    "    for gra in graph:\n",
    "        Graph_proc.append(gra.text)\n",
    "except NoSuchElementException:\n",
    "    pass"
   ]
  },
  {
   "cell_type": "code",
   "execution_count": 90,
   "id": "1a505bb3",
   "metadata": {},
   "outputs": [],
   "source": [
    "#Scraping data of price\n",
    "try:\n",
    "    price = driver.find_elements(By.XPATH,'//div[@class=\"Spcs-details\"]/table/tbody/tr[8]/td[3]')\n",
    "    for pri in price:\n",
    "        Price.append(pri.text.replace('₹','Rs '))\n",
    "except NoSuchElementException:\n",
    "    pass"
   ]
  },
  {
   "cell_type": "code",
   "execution_count": 91,
   "id": "988a53a0",
   "metadata": {},
   "outputs": [
    {
     "name": "stdout",
     "output_type": "stream",
     "text": [
      "7 7 7 7 7 7 7 7\n"
     ]
    }
   ],
   "source": [
    "print(len(Laptop_Name),len(Operating_sys),len(Display),len(Processor),len(Memory),len(Dimensions),len(Graph_proc),len(Price))"
   ]
  },
  {
   "cell_type": "code",
   "execution_count": 92,
   "id": "8933d6de",
   "metadata": {},
   "outputs": [],
   "source": [
    "data=list(zip(Laptop_Name, Operating_sys, Display, Processor, Memory, Dimensions, Graph_proc, Price))"
   ]
  },
  {
   "cell_type": "code",
   "execution_count": 93,
   "id": "fc9dbd65",
   "metadata": {},
   "outputs": [],
   "source": [
    "df=pd.DataFrame(data,columns=['Laptop_Name','Operating_System','Display','Processor','Memory','Dimension','Graph_Proc','Price'])"
   ]
  },
  {
   "cell_type": "code",
   "execution_count": 94,
   "id": "63f8d45c",
   "metadata": {},
   "outputs": [
    {
     "data": {
      "text/html": [
       "<div>\n",
       "<style scoped>\n",
       "    .dataframe tbody tr th:only-of-type {\n",
       "        vertical-align: middle;\n",
       "    }\n",
       "\n",
       "    .dataframe tbody tr th {\n",
       "        vertical-align: top;\n",
       "    }\n",
       "\n",
       "    .dataframe thead th {\n",
       "        text-align: right;\n",
       "    }\n",
       "</style>\n",
       "<table border=\"1\" class=\"dataframe\">\n",
       "  <thead>\n",
       "    <tr style=\"text-align: right;\">\n",
       "      <th></th>\n",
       "      <th>Laptop_Name</th>\n",
       "      <th>Operating_System</th>\n",
       "      <th>Display</th>\n",
       "      <th>Processor</th>\n",
       "      <th>Memory</th>\n",
       "      <th>Dimension</th>\n",
       "      <th>Graph_Proc</th>\n",
       "      <th>Price</th>\n",
       "    </tr>\n",
       "  </thead>\n",
       "  <tbody>\n",
       "    <tr>\n",
       "      <th>0</th>\n",
       "      <td>HP OMEN 17 (2023)</td>\n",
       "      <td>Windows 11 Home</td>\n",
       "      <td>17.3″ (2560 x 1440) screen, 165 Hz refresh rate</td>\n",
       "      <td>13th Gen Intel Core i7-13700HX 16 core process...</td>\n",
       "      <td>16 GB DDR5GB RAM &amp; 1 TB SSD</td>\n",
       "      <td>397.1 x 262 x 27 mm dimension &amp; 2.78 kg weight</td>\n",
       "      <td>12 GB DDR6 NVIDIA GeForce RTX 4080 Graphics card</td>\n",
       "      <td>Rs  269,777</td>\n",
       "    </tr>\n",
       "    <tr>\n",
       "      <th>1</th>\n",
       "      <td>MSI Titan GT77 12UHS</td>\n",
       "      <td>Windows 11 Home</td>\n",
       "      <td>17.3″ (3840 x 2160) screen, 120 Hz refresh rate</td>\n",
       "      <td>12th Gen Intel Core i9-12900HX 16 core process...</td>\n",
       "      <td>64 GB DDR5GB RAM &amp; 2 TB SSD</td>\n",
       "      <td>397 x 330 x 23 mm dimension &amp; 3.3 kg weight</td>\n",
       "      <td>16 GB DDR6 NVIDIA GeForce RTX 3080Ti Graphics ...</td>\n",
       "      <td>Rs  499,990</td>\n",
       "    </tr>\n",
       "    <tr>\n",
       "      <th>2</th>\n",
       "      <td>Lenovo Legion 5i Pro</td>\n",
       "      <td>Windows 11 Home</td>\n",
       "      <td>16″ (2560 x 1600) screen</td>\n",
       "      <td>12th Gen Intel Core i7-12700H 14 core processo...</td>\n",
       "      <td>32 GB DDR5GB RAM &amp; 1 TB SSD</td>\n",
       "      <td>359.9 x 264.4 x 19.9 mm dimension &amp; 3.6 kg weight</td>\n",
       "      <td>NVIDIA GeForce RTX 3070 Ti Graphics card</td>\n",
       "      <td>Rs  179,990</td>\n",
       "    </tr>\n",
       "    <tr>\n",
       "      <th>3</th>\n",
       "      <td>ASUS ROG Strix Scar 18 2023</td>\n",
       "      <td>Windows 11 Home</td>\n",
       "      <td>18″ (1920 x 1200) screen, 165 Hz refresh rate</td>\n",
       "      <td>13th Gen Intel Core i9-13980HX 24 core process...</td>\n",
       "      <td>32 GB DDR5GB RAM &amp; 1 TB SSD</td>\n",
       "      <td>294 x 399 x 23 mm dimension &amp; 3.1 kg weight</td>\n",
       "      <td>12 GB DDR6 NVIDIA GeForce RTX 4080 Graphics card</td>\n",
       "      <td>Rs  279,990</td>\n",
       "    </tr>\n",
       "    <tr>\n",
       "      <th>4</th>\n",
       "      <td>Acer Predator Helios Neo 16</td>\n",
       "      <td>Windows 11 Home</td>\n",
       "      <td>16″ (2560 x 1600) screen, 165 Hz refresh rate</td>\n",
       "      <td>13th Gen Intel Core i7-13700HX processor</td>\n",
       "      <td>16 GB DDR5GB RAM &amp; 1 TB SSD</td>\n",
       "      <td>360 x 279 x 28 mm dimension &amp; 2.6 kg weight</td>\n",
       "      <td>8 GB DDR6 NVIDIA GeForce RTX 4060 Graphics card</td>\n",
       "      <td>Rs  149,990</td>\n",
       "    </tr>\n",
       "    <tr>\n",
       "      <th>5</th>\n",
       "      <td>ASUS ROG Zephyrus G14</td>\n",
       "      <td>Windows 11 Home</td>\n",
       "      <td>14″ (1920 x 1200) screen, 144 Hz refresh rate</td>\n",
       "      <td>AMD Ryzen 9-6900HS 8 core processor with 4.9 G...</td>\n",
       "      <td>16 GB DDR5GB RAM &amp; 1 TB SSD</td>\n",
       "      <td>312 x 227 x 19 mm dimension &amp; 1.65 kg weight</td>\n",
       "      <td>8 GB DDR6 AMD Radeon RX 6700S Graphics card</td>\n",
       "      <td>Rs  156,990</td>\n",
       "    </tr>\n",
       "    <tr>\n",
       "      <th>6</th>\n",
       "      <td>MSI Cyborg 15</td>\n",
       "      <td>Windows 11 Home</td>\n",
       "      <td>15.6″ (1920 x 1080) screen, 144 Hz refresh rate</td>\n",
       "      <td>12th Gen Intel Core i7-12650H 10 core processo...</td>\n",
       "      <td>16 GB DDR5GB RAM &amp; 1 TB SSD</td>\n",
       "      <td>&amp; 1.98 kg weight</td>\n",
       "      <td>8 GB DDR6 NVIDIA GeForce RTX 4060 Graphics card</td>\n",
       "      <td>Rs  125,000</td>\n",
       "    </tr>\n",
       "  </tbody>\n",
       "</table>\n",
       "</div>"
      ],
      "text/plain": [
       "                   Laptop_Name Operating_System  \\\n",
       "0            HP OMEN 17 (2023)  Windows 11 Home   \n",
       "1         MSI Titan GT77 12UHS  Windows 11 Home   \n",
       "2         Lenovo Legion 5i Pro  Windows 11 Home   \n",
       "3  ASUS ROG Strix Scar 18 2023  Windows 11 Home   \n",
       "4  Acer Predator Helios Neo 16  Windows 11 Home   \n",
       "5        ASUS ROG Zephyrus G14  Windows 11 Home   \n",
       "6                MSI Cyborg 15  Windows 11 Home   \n",
       "\n",
       "                                           Display  \\\n",
       "0  17.3″ (2560 x 1440) screen, 165 Hz refresh rate   \n",
       "1  17.3″ (3840 x 2160) screen, 120 Hz refresh rate   \n",
       "2                         16″ (2560 x 1600) screen   \n",
       "3    18″ (1920 x 1200) screen, 165 Hz refresh rate   \n",
       "4    16″ (2560 x 1600) screen, 165 Hz refresh rate   \n",
       "5    14″ (1920 x 1200) screen, 144 Hz refresh rate   \n",
       "6  15.6″ (1920 x 1080) screen, 144 Hz refresh rate   \n",
       "\n",
       "                                           Processor  \\\n",
       "0  13th Gen Intel Core i7-13700HX 16 core process...   \n",
       "1  12th Gen Intel Core i9-12900HX 16 core process...   \n",
       "2  12th Gen Intel Core i7-12700H 14 core processo...   \n",
       "3  13th Gen Intel Core i9-13980HX 24 core process...   \n",
       "4           13th Gen Intel Core i7-13700HX processor   \n",
       "5  AMD Ryzen 9-6900HS 8 core processor with 4.9 G...   \n",
       "6  12th Gen Intel Core i7-12650H 10 core processo...   \n",
       "\n",
       "                        Memory  \\\n",
       "0  16 GB DDR5GB RAM & 1 TB SSD   \n",
       "1  64 GB DDR5GB RAM & 2 TB SSD   \n",
       "2  32 GB DDR5GB RAM & 1 TB SSD   \n",
       "3  32 GB DDR5GB RAM & 1 TB SSD   \n",
       "4  16 GB DDR5GB RAM & 1 TB SSD   \n",
       "5  16 GB DDR5GB RAM & 1 TB SSD   \n",
       "6  16 GB DDR5GB RAM & 1 TB SSD   \n",
       "\n",
       "                                           Dimension  \\\n",
       "0     397.1 x 262 x 27 mm dimension & 2.78 kg weight   \n",
       "1        397 x 330 x 23 mm dimension & 3.3 kg weight   \n",
       "2  359.9 x 264.4 x 19.9 mm dimension & 3.6 kg weight   \n",
       "3        294 x 399 x 23 mm dimension & 3.1 kg weight   \n",
       "4        360 x 279 x 28 mm dimension & 2.6 kg weight   \n",
       "5       312 x 227 x 19 mm dimension & 1.65 kg weight   \n",
       "6                                   & 1.98 kg weight   \n",
       "\n",
       "                                          Graph_Proc        Price  \n",
       "0   12 GB DDR6 NVIDIA GeForce RTX 4080 Graphics card  Rs  269,777  \n",
       "1  16 GB DDR6 NVIDIA GeForce RTX 3080Ti Graphics ...  Rs  499,990  \n",
       "2           NVIDIA GeForce RTX 3070 Ti Graphics card  Rs  179,990  \n",
       "3   12 GB DDR6 NVIDIA GeForce RTX 4080 Graphics card  Rs  279,990  \n",
       "4    8 GB DDR6 NVIDIA GeForce RTX 4060 Graphics card  Rs  149,990  \n",
       "5        8 GB DDR6 AMD Radeon RX 6700S Graphics card  Rs  156,990  \n",
       "6    8 GB DDR6 NVIDIA GeForce RTX 4060 Graphics card  Rs  125,000  "
      ]
     },
     "execution_count": 94,
     "metadata": {},
     "output_type": "execute_result"
    }
   ],
   "source": [
    "df"
   ]
  },
  {
   "cell_type": "code",
   "execution_count": null,
   "id": "e2814c6c",
   "metadata": {},
   "outputs": [],
   "source": []
  },
  {
   "cell_type": "code",
   "execution_count": null,
   "id": "153cc40d",
   "metadata": {},
   "outputs": [],
   "source": [
    "# QUESTION 7"
   ]
  },
  {
   "cell_type": "code",
   "execution_count": 95,
   "id": "dd8b548e",
   "metadata": {},
   "outputs": [],
   "source": [
    "# Connecting to the webdriver\n",
    "driver=webdriver.Chrome()"
   ]
  },
  {
   "cell_type": "code",
   "execution_count": 96,
   "id": "44543b37",
   "metadata": {},
   "outputs": [],
   "source": [
    "#Getting the specified url\n",
    "url = \"https://www.forbes.com/?sh=7df7e2b02254\"\n",
    "driver.get(url)\n",
    "time.sleep(3)"
   ]
  },
  {
   "cell_type": "code",
   "execution_count": 97,
   "id": "90a91c42",
   "metadata": {},
   "outputs": [],
   "source": [
    "#clicking on the explore button\n",
    "button = driver.find_element(By.XPATH,'//div[@class=\"_69hVhdY4\"]')\n",
    "button.click()\n",
    "time.sleep(1)"
   ]
  },
  {
   "cell_type": "code",
   "execution_count": 98,
   "id": "7fe4c408",
   "metadata": {},
   "outputs": [],
   "source": [
    "#select billionaire  \n",
    "bill = driver.find_element(By.XPATH,'/html/body/div[1]/header/nav/div[1]/div[1]/div/div[2]/ul/li[2]/div[1]')\n",
    "bill.click()\n",
    "time.sleep(1)"
   ]
  },
  {
   "cell_type": "code",
   "execution_count": 101,
   "id": "6cc42ae7",
   "metadata": {},
   "outputs": [],
   "source": [
    "#select world billionaire  \n",
    "world_bill= driver.find_element(By.XPATH,'/html/body/div[1]/div/div[1]/header/div[1]/div[1]/div[2]/ul/li[2]/div[2]/div[3]/ul/li[1]/a')\n",
    "world_bill.click()\n",
    "time.sleep(1)"
   ]
  },
  {
   "cell_type": "code",
   "execution_count": 102,
   "id": "826db28e",
   "metadata": {},
   "outputs": [],
   "source": [
    "#scraping rank\n",
    "rank= [i.text for i in driver.find_elements(By.XPATH,'//div[@class=\"Table_rank___YBhk Table_dataCell__2QCve\"]')]\n",
    "time.sleep(2)"
   ]
  },
  {
   "cell_type": "code",
   "execution_count": 103,
   "id": "79192a6f",
   "metadata": {},
   "outputs": [],
   "source": [
    "#scraping name\n",
    "name=[i.text for i in driver.find_elements(By.XPATH, '//div[@class=\"TableRow_cell__db-hv Table_cell__houv9\"]')][1:1400:7]\n",
    "time.sleep(2)"
   ]
  },
  {
   "cell_type": "code",
   "execution_count": 104,
   "id": "e975aa8d",
   "metadata": {},
   "outputs": [],
   "source": [
    "#scraping age\n",
    "age=[i.text for i in driver.find_elements(By.XPATH, '//div[@class=\"Table_dataCell__2QCve\"]')][1:800:4]\n",
    "time.sleep(2)"
   ]
  },
  {
   "cell_type": "code",
   "execution_count": 105,
   "id": "e95ac7f7",
   "metadata": {},
   "outputs": [],
   "source": [
    "#sccraping industry\n",
    "industry=[i.text for i in driver.find_elements(By.XPATH, '//div[@class=\"Table_dataCell__2QCve\"]')][3:800:4]\n",
    "time.sleep(2)"
   ]
  },
  {
   "cell_type": "code",
   "execution_count": 106,
   "id": "c475841b",
   "metadata": {},
   "outputs": [],
   "source": [
    "#scraping source\n",
    "source=[i.text for i in driver.find_elements(By.XPATH, '//div[@class=\"Table_dataCell__2QCve\"]')][2:800:4]\n",
    "time.sleep(2)"
   ]
  },
  {
   "cell_type": "code",
   "execution_count": 107,
   "id": "55cd645f",
   "metadata": {},
   "outputs": [],
   "source": [
    "#scraping net_worth\n",
    "net_worth=[i.text for i in driver.find_elements(By.XPATH, '//div[@class=\"Table_netWorth___L4R5 Table_dataCell__2QCve\"]')]\n",
    "time.sleep(2)"
   ]
  },
  {
   "cell_type": "code",
   "execution_count": 108,
   "id": "a6323a8d",
   "metadata": {},
   "outputs": [],
   "source": [
    "#scraping country_name\n",
    "country=[i.text for i in driver.find_elements(By.XPATH, '//div[@class=\"TableRow_cell__db-hv Table_cell__houv9\"]')][4:1400:7]\n",
    "time.sleep(2)"
   ]
  },
  {
   "cell_type": "code",
   "execution_count": 109,
   "id": "2e4359cf",
   "metadata": {},
   "outputs": [],
   "source": [
    "#scraping source\n",
    "source=[i.text for i in driver.find_elements(By.XPATH, '//div[@class=\"Table_dataCell__2QCve\"]')][2:800:4]\n",
    "time.sleep(2)"
   ]
  },
  {
   "cell_type": "code",
   "execution_count": 110,
   "id": "d9c95be8",
   "metadata": {},
   "outputs": [
    {
     "data": {
      "text/plain": [
       "200"
      ]
     },
     "execution_count": 110,
     "metadata": {},
     "output_type": "execute_result"
    }
   ],
   "source": [
    "len(source)"
   ]
  },
  {
   "cell_type": "code",
   "execution_count": 111,
   "id": "797fa2b6",
   "metadata": {},
   "outputs": [
    {
     "name": "stdout",
     "output_type": "stream",
     "text": [
      "['LVMH', 'Tesla, SpaceX', 'Amazon', 'Oracle', 'Berkshire Hathaway', 'Microsoft', 'Bloomberg LP', 'Telecom', 'Diversified', 'Microsoft', \"L'Oréal\", 'Google', 'Zara', 'Google', 'Beverages, pharmaceuticals', 'Facebook', 'Koch Industries', 'Koch Industries', 'Walmart', 'Walmart', 'Walmart', 'Media', 'Dell Technologies', 'Infrastructure, commodities', 'Nike', 'TikTok', 'Retail', 'Luxury goods', 'Shipping', 'Nutella, chocolates', 'Candy, pet food', 'Candy, pet food', 'Diversified', 'Internet media', 'Casinos', 'Hedge funds', 'Red Bull', 'Batteries', 'Fashion retail', 'Music, chemicals', 'Chanel', 'Chanel', 'Shipping', 'Shipping', 'E-commerce', 'Fasteners', 'Real estate', 'Trading, investments', 'Hedge funds', 'Investments', 'BMW, pharmaceuticals', 'Mining', 'Online games', 'Mining', 'software services', 'Coal', 'Discount brokerage', 'Fertilizers, coal', 'BMW', 'Amazon', 'Banking, tobacco', 'Metals', 'E-commerce', 'Home appliances', 'Mining', 'Banking, tobacco', 'Chemicals', 'Vaccines', 'Internet, telecom', 'Steel, transport', 'Cheese', 'Fidelity', 'Gas, chemicals', 'Walmart', 'Package delivery', 'Semiconductors', 'Estee Lauder', 'Sensors', 'Steel, investments', 'Oil', 'Hospitals', 'Mining', 'Hedge funds', 'Automobiles', 'Mining, copper products', 'Real estate, shipping', 'Pig breeding', 'Batteries, automobiles', 'Oil & gas', 'Hedge funds', 'Oil, gas', 'Quicken Loans', 'Steel', 'Hedge funds', 'Investments', 'Steel', 'Real estate', 'Home improvement stores', 'Newspapers, TV network', 'Banking', \"Aldi, Trader Joe's\", 'Finance, telecommunications', 'medical devices', 'H&M', 'Google', 'Hedge funds', 'Soy sauce', 'Supermarkets', 'Supermarkets', 'Beer', 'Real estate', 'Pharmaceuticals', 'Wireless networking', 'Retail, investments', 'Batteries', 'Diversified', 'Retail', 'Alcohol, real estate', 'Heineken', 'Medical devices', 'Automobiles', 'Steel, telecom, investments', 'Paints', 'Commodities', 'Cement, sugar', 'Real estate', 'Shipping', 'Hospitals', 'Casinos/hotels', 'Shipping', 'Building supplies', 'WhatsApp', 'Dallas Cowboys', 'Oil & gas, banking', 'Real estate', 'Automobiles, batteries', 'Real estate', 'Banking', 'Sports, real estate', 'Oil, banking, telecom', 'Energy', 'Coal', 'Vaccines', 'Auto parts', 'Apple, Disney', 'Palm oil, shipping, property', 'Real estate', 'Messaging app', 'Pharmaceuticals', 'Pharmaceuticals', 'Agribusiness', 'Online retail', 'Hedge funds', 'Fertilizer, real estate', 'Manufacturing', 'Investments', 'Luxury goods', 'Luxury goods', 'Video surveillance', 'Internet media', 'Energy, sports, entertainment', 'Gas stations', 'Retail, media', 'Media', 'Manufacturing, New England Patriots', 'Beer', 'Gold', 'E-commerce', 'Cryptocurrency exchange', 'Banks, real estate', 'Software', 'Medical devices', 'Business software', 'Oil', 'Steel', 'Facebook', 'Auto parts', 'Walmart', 'Software', 'Banking, property', 'Real estate', 'Oil', 'Diversified', 'Infrastructure, commodities', 'Hermes', 'Shipping', 'Shipping', 'Shipping', 'Investments', 'Fertilizers', 'Private equity', 'Smartphones', 'Manufacturing', 'Pharmaceuticals', 'Warehouse automation', 'Solar panels', 'Chemicals', 'Candy, pet food', 'Candy, pet food', 'Candy, pet food']\n"
     ]
    }
   ],
   "source": [
    "print(source)"
   ]
  },
  {
   "cell_type": "code",
   "execution_count": 112,
   "id": "0ec92108",
   "metadata": {},
   "outputs": [],
   "source": [
    "#sccraping industry\n",
    "industry=[i.text for i in driver.find_elements(By.XPATH, '//div[@class=\"Table_dataCell__2QCve\"]')][3:800:4]\n",
    "time.sleep(2)"
   ]
  },
  {
   "cell_type": "code",
   "execution_count": 113,
   "id": "41b06b30",
   "metadata": {},
   "outputs": [
    {
     "name": "stdout",
     "output_type": "stream",
     "text": [
      "['Fashion & Retail', 'Automotive', 'Technology', 'Technology', 'Finance & Investments', 'Technology', 'Media & Entertainment', 'Telecom', 'Diversified', 'Technology', 'Fashion & Retail', 'Technology', 'Fashion & Retail', 'Technology', 'Food & Beverage', 'Technology', 'Diversified', 'Diversified', 'Fashion & Retail', 'Fashion & Retail', 'Fashion & Retail', 'Media & Entertainment', 'Technology', 'Diversified', 'Fashion & Retail', 'Technology', 'Fashion & Retail', 'Fashion & Retail', 'Logistics', 'Food & Beverage', 'Food & Beverage', 'Food & Beverage', 'Diversified', 'Technology', 'Gambling & Casinos', 'Finance & Investments', 'Food & Beverage', 'Automotive', 'Fashion & Retail', 'Diversified', 'Fashion & Retail', 'Fashion & Retail', 'Logistics', 'Logistics', 'Technology', 'Manufacturing', 'Real Estate', 'Finance & Investments', 'Finance & Investments', 'Finance & Investments', 'Automotive', 'Metals & Mining', 'Technology', 'Metals & Mining', 'Technology', 'Energy', 'Finance & Investments', 'Metals & Mining', 'Automotive', 'Technology', 'Finance & Investments', 'Metals & Mining', 'Technology', 'Manufacturing', 'Metals & Mining', 'Manufacturing', 'Manufacturing', 'Healthcare', 'Telecom', 'Metals & Mining', 'Food & Beverage', 'Finance & Investments', 'Energy', 'Fashion & Retail', 'Service', 'Technology', 'Fashion & Retail', 'Manufacturing', 'Metals & Mining', 'Energy', 'Healthcare', 'Metals & Mining', 'Finance & Investments', 'Automotive', 'Metals & Mining', 'Diversified', 'Food & Beverage', 'Automotive', 'Energy', 'Finance & Investments', 'Energy', 'Finance & Investments', 'Metals & Mining', 'Finance & Investments', 'Finance & Investments', 'Metals & Mining', 'Real Estate', 'Fashion & Retail', 'Media & Entertainment', 'Finance & Investments', 'Fashion & Retail', 'Finance & Investments', 'Healthcare', 'Fashion & Retail', 'Technology', 'Finance & Investments', 'Food & Beverage', 'Fashion & Retail', 'Fashion & Retail', 'Food & Beverage', 'Real Estate', 'Healthcare', 'Technology', 'Fashion & Retail', 'Automotive', 'Diversified', 'Fashion & Retail', 'Food & Beverage', 'Food & Beverage', 'Healthcare', 'Automotive', 'Metals & Mining', 'Manufacturing', 'Diversified', 'Manufacturing', 'Real Estate', 'Diversified', 'Healthcare', 'Gambling & Casinos', 'Logistics', 'Construction & Engineering', 'Technology', 'Sports', 'Energy', 'Real Estate', 'Automotive', 'Real Estate', 'Finance & Investments', 'Sports', 'Energy', 'Energy', 'Metals & Mining', 'Healthcare', 'Automotive', 'Technology', 'Diversified', 'Real Estate', 'Technology', 'Healthcare', 'Healthcare', 'Food & Beverage', 'Fashion & Retail', 'Finance & Investments', 'Manufacturing', 'Manufacturing', 'Finance & Investments', 'Fashion & Retail', 'Fashion & Retail', 'Finance & Investments', 'Technology', 'Finance & Investments', 'Fashion & Retail', 'Fashion & Retail', 'Media & Entertainment', 'Sports', 'Food & Beverage', 'Finance & Investments', 'Fashion & Retail', 'Finance & Investments', 'Finance & Investments', 'Technology', 'Healthcare', 'Technology', 'Energy', 'Manufacturing', 'Technology', 'Automotive', 'Fashion & Retail', 'Technology', 'Diversified', 'Real Estate', 'Energy', 'Service', 'Diversified', 'Fashion & Retail', 'Logistics', 'Logistics', 'Logistics', 'Finance & Investments', 'Manufacturing', 'Finance & Investments', 'Technology', 'Manufacturing', 'Healthcare', 'Technology', 'Energy', 'Manufacturing', 'Food & Beverage', 'Food & Beverage', 'Food & Beverage']\n"
     ]
    }
   ],
   "source": [
    "print(industry)"
   ]
  },
  {
   "cell_type": "code",
   "execution_count": 114,
   "id": "14f2067a",
   "metadata": {},
   "outputs": [
    {
     "name": "stdout",
     "output_type": "stream",
     "text": [
      "200 200 200 200 200 200 200\n"
     ]
    }
   ],
   "source": [
    "print(len(rank),len(name),len(net_worth),len(age), len(source), len(industry),len(country))"
   ]
  },
  {
   "cell_type": "code",
   "execution_count": 115,
   "id": "22673aec",
   "metadata": {},
   "outputs": [],
   "source": [
    "Billionare_list=pd.DataFrame({\"Rank\":rank, \"Name\":name, \"Net Worth\":net_worth, \"Age\": age, \"COUNTRY / TERRITORY\":country, \"Source\":source, \"Industry\":industry})"
   ]
  },
  {
   "cell_type": "code",
   "execution_count": 116,
   "id": "78e956e0",
   "metadata": {},
   "outputs": [
    {
     "data": {
      "text/html": [
       "<div>\n",
       "<style scoped>\n",
       "    .dataframe tbody tr th:only-of-type {\n",
       "        vertical-align: middle;\n",
       "    }\n",
       "\n",
       "    .dataframe tbody tr th {\n",
       "        vertical-align: top;\n",
       "    }\n",
       "\n",
       "    .dataframe thead th {\n",
       "        text-align: right;\n",
       "    }\n",
       "</style>\n",
       "<table border=\"1\" class=\"dataframe\">\n",
       "  <thead>\n",
       "    <tr style=\"text-align: right;\">\n",
       "      <th></th>\n",
       "      <th>Rank</th>\n",
       "      <th>Name</th>\n",
       "      <th>Net Worth</th>\n",
       "      <th>Age</th>\n",
       "      <th>COUNTRY / TERRITORY</th>\n",
       "      <th>Source</th>\n",
       "      <th>Industry</th>\n",
       "    </tr>\n",
       "  </thead>\n",
       "  <tbody>\n",
       "    <tr>\n",
       "      <th>0</th>\n",
       "      <td>1</td>\n",
       "      <td>Bernard Arnault &amp; family</td>\n",
       "      <td>$211 B</td>\n",
       "      <td>74</td>\n",
       "      <td>France</td>\n",
       "      <td>LVMH</td>\n",
       "      <td>Fashion &amp; Retail</td>\n",
       "    </tr>\n",
       "    <tr>\n",
       "      <th>1</th>\n",
       "      <td>2</td>\n",
       "      <td>Elon Musk</td>\n",
       "      <td>$180 B</td>\n",
       "      <td>51</td>\n",
       "      <td>United States</td>\n",
       "      <td>Tesla, SpaceX</td>\n",
       "      <td>Automotive</td>\n",
       "    </tr>\n",
       "    <tr>\n",
       "      <th>2</th>\n",
       "      <td>3</td>\n",
       "      <td>Jeff Bezos</td>\n",
       "      <td>$114 B</td>\n",
       "      <td>59</td>\n",
       "      <td>United States</td>\n",
       "      <td>Amazon</td>\n",
       "      <td>Technology</td>\n",
       "    </tr>\n",
       "    <tr>\n",
       "      <th>3</th>\n",
       "      <td>4</td>\n",
       "      <td>Larry Ellison</td>\n",
       "      <td>$107 B</td>\n",
       "      <td>78</td>\n",
       "      <td>United States</td>\n",
       "      <td>Oracle</td>\n",
       "      <td>Technology</td>\n",
       "    </tr>\n",
       "    <tr>\n",
       "      <th>4</th>\n",
       "      <td>5</td>\n",
       "      <td>Warren Buffett</td>\n",
       "      <td>$106 B</td>\n",
       "      <td>92</td>\n",
       "      <td>United States</td>\n",
       "      <td>Berkshire Hathaway</td>\n",
       "      <td>Finance &amp; Investments</td>\n",
       "    </tr>\n",
       "    <tr>\n",
       "      <th>...</th>\n",
       "      <td>...</td>\n",
       "      <td>...</td>\n",
       "      <td>...</td>\n",
       "      <td>...</td>\n",
       "      <td>...</td>\n",
       "      <td>...</td>\n",
       "      <td>...</td>\n",
       "    </tr>\n",
       "    <tr>\n",
       "      <th>195</th>\n",
       "      <td>195</td>\n",
       "      <td>Jin Baofang</td>\n",
       "      <td>$9.6 B</td>\n",
       "      <td>70</td>\n",
       "      <td>China</td>\n",
       "      <td>Solar panels</td>\n",
       "      <td>Energy</td>\n",
       "    </tr>\n",
       "    <tr>\n",
       "      <th>196</th>\n",
       "      <td>195</td>\n",
       "      <td>Luo Liguo &amp; family</td>\n",
       "      <td>$9.6 B</td>\n",
       "      <td>67</td>\n",
       "      <td>China</td>\n",
       "      <td>Chemicals</td>\n",
       "      <td>Manufacturing</td>\n",
       "    </tr>\n",
       "    <tr>\n",
       "      <th>197</th>\n",
       "      <td>195</td>\n",
       "      <td>Marijke Mars</td>\n",
       "      <td>$9.6 B</td>\n",
       "      <td>58</td>\n",
       "      <td>United States</td>\n",
       "      <td>Candy, pet food</td>\n",
       "      <td>Food &amp; Beverage</td>\n",
       "    </tr>\n",
       "    <tr>\n",
       "      <th>198</th>\n",
       "      <td>195</td>\n",
       "      <td>Pamela Mars</td>\n",
       "      <td>$9.6 B</td>\n",
       "      <td>62</td>\n",
       "      <td>United States</td>\n",
       "      <td>Candy, pet food</td>\n",
       "      <td>Food &amp; Beverage</td>\n",
       "    </tr>\n",
       "    <tr>\n",
       "      <th>199</th>\n",
       "      <td>195</td>\n",
       "      <td>Valerie Mars</td>\n",
       "      <td>$9.6 B</td>\n",
       "      <td>64</td>\n",
       "      <td>United States</td>\n",
       "      <td>Candy, pet food</td>\n",
       "      <td>Food &amp; Beverage</td>\n",
       "    </tr>\n",
       "  </tbody>\n",
       "</table>\n",
       "<p>200 rows × 7 columns</p>\n",
       "</div>"
      ],
      "text/plain": [
       "    Rank                      Name Net Worth Age COUNTRY / TERRITORY  \\\n",
       "0      1  Bernard Arnault & family    $211 B  74              France   \n",
       "1      2                 Elon Musk    $180 B  51       United States   \n",
       "2      3                Jeff Bezos    $114 B  59       United States   \n",
       "3      4             Larry Ellison    $107 B  78       United States   \n",
       "4      5            Warren Buffett    $106 B  92       United States   \n",
       "..   ...                       ...       ...  ..                 ...   \n",
       "195  195               Jin Baofang    $9.6 B  70               China   \n",
       "196  195        Luo Liguo & family    $9.6 B  67               China   \n",
       "197  195              Marijke Mars    $9.6 B  58       United States   \n",
       "198  195               Pamela Mars    $9.6 B  62       United States   \n",
       "199  195              Valerie Mars    $9.6 B  64       United States   \n",
       "\n",
       "                 Source               Industry  \n",
       "0                  LVMH       Fashion & Retail  \n",
       "1         Tesla, SpaceX             Automotive  \n",
       "2                Amazon             Technology  \n",
       "3                Oracle             Technology  \n",
       "4    Berkshire Hathaway  Finance & Investments  \n",
       "..                  ...                    ...  \n",
       "195        Solar panels                 Energy  \n",
       "196           Chemicals          Manufacturing  \n",
       "197     Candy, pet food        Food & Beverage  \n",
       "198     Candy, pet food        Food & Beverage  \n",
       "199     Candy, pet food        Food & Beverage  \n",
       "\n",
       "[200 rows x 7 columns]"
      ]
     },
     "execution_count": 116,
     "metadata": {},
     "output_type": "execute_result"
    }
   ],
   "source": [
    "Billionare_list"
   ]
  },
  {
   "cell_type": "code",
   "execution_count": 117,
   "id": "9f89510a",
   "metadata": {},
   "outputs": [],
   "source": [
    "Billionare_list.to_csv(r\"C:\\Users\\VIJAY\\flip robo internship\")"
   ]
  },
  {
   "cell_type": "code",
   "execution_count": null,
   "id": "c6be496a",
   "metadata": {},
   "outputs": [],
   "source": []
  },
  {
   "cell_type": "code",
   "execution_count": null,
   "id": "5cd34c57",
   "metadata": {},
   "outputs": [],
   "source": [
    "# QUESTION 8"
   ]
  },
  {
   "cell_type": "code",
   "execution_count": 9,
   "id": "09950dba",
   "metadata": {},
   "outputs": [],
   "source": [
    "# to get web browser\n",
    "driver=webdriver.Chrome() \n",
    "time.sleep(2)"
   ]
  },
  {
   "cell_type": "code",
   "execution_count": 10,
   "id": "2fb67b75",
   "metadata": {},
   "outputs": [],
   "source": [
    "# to get url\n",
    "url = \"https://www.youtube.com/\"\n",
    "driver.get(url)\n",
    "time.sleep(2)"
   ]
  },
  {
   "cell_type": "code",
   "execution_count": 11,
   "id": "4be9e220",
   "metadata": {},
   "outputs": [],
   "source": [
    "driver.get('https://www.youtube.com/watch?v=92sDjg8OGhg')"
   ]
  },
  {
   "cell_type": "code",
   "execution_count": 20,
   "id": "4b0c7059",
   "metadata": {},
   "outputs": [],
   "source": [
    "# 10000 time we scroll down to generate more Comments\n",
    "for _ in range(30000):\n",
    "    driver.execute_script(\"window.scrollBy(0,30000)\")"
   ]
  },
  {
   "cell_type": "code",
   "execution_count": 21,
   "id": "7f5aa5a2",
   "metadata": {},
   "outputs": [],
   "source": [
    "# empty lists\n",
    "comments = []\n",
    "comment_time = []\n",
    "upvote=[]"
   ]
  },
  {
   "cell_type": "code",
   "execution_count": 22,
   "id": "3f106d09",
   "metadata": {},
   "outputs": [],
   "source": [
    "# to scrape comments\n",
    "cm_tags = driver.find_elements(By.ID,\"content-text\")\n",
    "for cm in cm_tags:\n",
    "    if cm.text is None:\n",
    "        comments.append(\"--\")\n",
    "    else:\n",
    "        comments.append(cm.text)\n",
    "time.sleep(5)"
   ]
  },
  {
   "cell_type": "code",
   "execution_count": 23,
   "id": "dae2195d",
   "metadata": {},
   "outputs": [],
   "source": [
    "# to scrape comments\n",
    "ct_tags = driver.find_elements(By.XPATH,\"//a[contains(text(),'ago')]\")\n",
    "for ct in ct_tags:\n",
    "    if ct.text is None:\n",
    "        comment_time.append(\"--\")\n",
    "    else:\n",
    "        comment_time.append(ct.text)\n",
    "time.sleep(5)"
   ]
  },
  {
   "cell_type": "code",
   "execution_count": 24,
   "id": "13401eb8",
   "metadata": {},
   "outputs": [],
   "source": [
    "# to scrape comments\n",
    "upvote_tags = driver.find_elements(By.XPATH,'//span[@id=\"vote-count-middle\"]')\n",
    "for vt in upvote_tags:\n",
    "    if vt.text is None:\n",
    "        upvote.append(\"--\")\n",
    "    else:\n",
    "        upvote.append(vt.text)\n",
    "time.sleep(5)"
   ]
  },
  {
   "cell_type": "code",
   "execution_count": 25,
   "id": "3b5746e3",
   "metadata": {},
   "outputs": [
    {
     "name": "stdout",
     "output_type": "stream",
     "text": [
      "740 740 740\n"
     ]
    }
   ],
   "source": [
    "print(len(comments), len(comment_time), len(upvote))"
   ]
  },
  {
   "cell_type": "code",
   "execution_count": 26,
   "id": "3764719e",
   "metadata": {},
   "outputs": [],
   "source": [
    "#Creating dataframe\n",
    "Youtube=pd.DataFrame({})\n",
    "Youtube['Comments'] = comments[:500]\n",
    "Youtube['Comment_time'] = comment_time[:500]\n",
    "Youtube['upvote'] = upvote[:500]"
   ]
  },
  {
   "cell_type": "code",
   "execution_count": 27,
   "id": "0d7dacbb",
   "metadata": {},
   "outputs": [
    {
     "data": {
      "text/html": [
       "<div>\n",
       "<style scoped>\n",
       "    .dataframe tbody tr th:only-of-type {\n",
       "        vertical-align: middle;\n",
       "    }\n",
       "\n",
       "    .dataframe tbody tr th {\n",
       "        vertical-align: top;\n",
       "    }\n",
       "\n",
       "    .dataframe thead th {\n",
       "        text-align: right;\n",
       "    }\n",
       "</style>\n",
       "<table border=\"1\" class=\"dataframe\">\n",
       "  <thead>\n",
       "    <tr style=\"text-align: right;\">\n",
       "      <th></th>\n",
       "      <th>Comments</th>\n",
       "      <th>Comment_time</th>\n",
       "      <th>upvote</th>\n",
       "    </tr>\n",
       "  </thead>\n",
       "  <tbody>\n",
       "    <tr>\n",
       "      <th>0</th>\n",
       "      <td>Congratulations to India! May more successes b...</td>\n",
       "      <td>2 weeks ago</td>\n",
       "      <td>629</td>\n",
       "    </tr>\n",
       "    <tr>\n",
       "      <th>1</th>\n",
       "      <td>Goosebumps man \\nHuge respect for ISRO angels ...</td>\n",
       "      <td>2 weeks ago</td>\n",
       "      <td>180</td>\n",
       "    </tr>\n",
       "    <tr>\n",
       "      <th>2</th>\n",
       "      <td>Congratulations India and ISRO for this amazin...</td>\n",
       "      <td>2 weeks ago</td>\n",
       "      <td>182</td>\n",
       "    </tr>\n",
       "    <tr>\n",
       "      <th>3</th>\n",
       "      <td>Congrats to our Indian brothers &amp; sisters - wh...</td>\n",
       "      <td>6 days ago</td>\n",
       "      <td>6</td>\n",
       "    </tr>\n",
       "    <tr>\n",
       "      <th>4</th>\n",
       "      <td>Congratulations India! What an awesome achieve...</td>\n",
       "      <td>2 weeks ago</td>\n",
       "      <td>84</td>\n",
       "    </tr>\n",
       "    <tr>\n",
       "      <th>...</th>\n",
       "      <td>...</td>\n",
       "      <td>...</td>\n",
       "      <td>...</td>\n",
       "    </tr>\n",
       "    <tr>\n",
       "      <th>495</th>\n",
       "      <td>Chúc mừng from Viet Nam</td>\n",
       "      <td>8 days ago</td>\n",
       "      <td></td>\n",
       "    </tr>\n",
       "    <tr>\n",
       "      <th>496</th>\n",
       "      <td>How did they get the shot of the module landing ?</td>\n",
       "      <td>2 weeks ago</td>\n",
       "      <td>2</td>\n",
       "    </tr>\n",
       "    <tr>\n",
       "      <th>497</th>\n",
       "      <td>Why does the Vikram Lander look like a party d...</td>\n",
       "      <td>2 weeks ago</td>\n",
       "      <td>2</td>\n",
       "    </tr>\n",
       "    <tr>\n",
       "      <th>498</th>\n",
       "      <td>Just let me be clear: are they claiming that w...</td>\n",
       "      <td>2 weeks ago</td>\n",
       "      <td>8</td>\n",
       "    </tr>\n",
       "    <tr>\n",
       "      <th>499</th>\n",
       "      <td>That is the power of India. Many so-called dev...</td>\n",
       "      <td>2 weeks ago</td>\n",
       "      <td></td>\n",
       "    </tr>\n",
       "  </tbody>\n",
       "</table>\n",
       "<p>500 rows × 3 columns</p>\n",
       "</div>"
      ],
      "text/plain": [
       "                                              Comments Comment_time upvote\n",
       "0    Congratulations to India! May more successes b...  2 weeks ago    629\n",
       "1    Goosebumps man \\nHuge respect for ISRO angels ...  2 weeks ago    180\n",
       "2    Congratulations India and ISRO for this amazin...  2 weeks ago    182\n",
       "3    Congrats to our Indian brothers & sisters - wh...   6 days ago      6\n",
       "4    Congratulations India! What an awesome achieve...  2 weeks ago     84\n",
       "..                                                 ...          ...    ...\n",
       "495                            Chúc mừng from Viet Nam   8 days ago       \n",
       "496  How did they get the shot of the module landing ?  2 weeks ago      2\n",
       "497  Why does the Vikram Lander look like a party d...  2 weeks ago      2\n",
       "498  Just let me be clear: are they claiming that w...  2 weeks ago      8\n",
       "499  That is the power of India. Many so-called dev...  2 weeks ago       \n",
       "\n",
       "[500 rows x 3 columns]"
      ]
     },
     "execution_count": 27,
     "metadata": {},
     "output_type": "execute_result"
    }
   ],
   "source": [
    "Youtube"
   ]
  },
  {
   "cell_type": "code",
   "execution_count": null,
   "id": "79f7071a",
   "metadata": {},
   "outputs": [],
   "source": []
  },
  {
   "cell_type": "code",
   "execution_count": null,
   "id": "db3c20f5",
   "metadata": {},
   "outputs": [],
   "source": [
    "# QUESTION 9"
   ]
  },
  {
   "cell_type": "code",
   "execution_count": 28,
   "id": "a452dd8c",
   "metadata": {},
   "outputs": [],
   "source": [
    "driver=webdriver.Chrome()"
   ]
  },
  {
   "cell_type": "code",
   "execution_count": 29,
   "id": "33616963",
   "metadata": {},
   "outputs": [],
   "source": [
    "#get url\n",
    "driver.get('https://www.hostelworld.com/')"
   ]
  },
  {
   "cell_type": "code",
   "execution_count": 30,
   "id": "baf2db3c",
   "metadata": {},
   "outputs": [],
   "source": [
    "#sending input \n",
    "input=driver.find_element(By.XPATH, '/html/body/div[3]/div/div/div[2]/div[2]/div[2]/div/div/div/div[1]/div/div/div[2]/input')\n",
    "input.send_keys('London')"
   ]
  },
  {
   "cell_type": "code",
   "execution_count": 31,
   "id": "9340bfb2",
   "metadata": {},
   "outputs": [],
   "source": [
    "#clicking on london\n",
    "select=driver.find_element(By.XPATH, '/html/body/div[3]/div/div/div[2]/div[2]/div[2]/div/div/div/div[1]/div[2]/div/ul/li[2]/button')\n",
    "select.click()"
   ]
  },
  {
   "cell_type": "code",
   "execution_count": 32,
   "id": "1874750b",
   "metadata": {},
   "outputs": [],
   "source": [
    "#clicking on search button\n",
    "search_btn=driver.find_element(By.XPATH, '/html/body/div[3]/div/div/div[2]/div[2]/div[2]/div/div/div/div[5]/button[1]')\n",
    "search_btn.click()\n",
    "time.sleep(5)"
   ]
  },
  {
   "cell_type": "code",
   "execution_count": 33,
   "id": "803d861b",
   "metadata": {},
   "outputs": [],
   "source": [
    "#empty lists\n",
    "hostel_name = []\n",
    "distance = []\n",
    "rating = []\n",
    "reviews = []\n",
    "facilities = []\n",
    "description =[]\n",
    "product_url = []"
   ]
  },
  {
   "cell_type": "code",
   "execution_count": 34,
   "id": "8b3fae4b",
   "metadata": {},
   "outputs": [
    {
     "data": {
      "text/plain": [
       "[]"
      ]
     },
     "execution_count": 34,
     "metadata": {},
     "output_type": "execute_result"
    }
   ],
   "source": [
    "#scraping hostel_name\n",
    "hostel_name=[i.text for i in driver.find_elements(By.XPATH, '//div[@class=\"property-name\"]')][2:]\n",
    "hostel_name"
   ]
  },
  {
   "cell_type": "code",
   "execution_count": 35,
   "id": "2eb064ce",
   "metadata": {},
   "outputs": [
    {
     "data": {
      "text/plain": [
       "[]"
      ]
     },
     "execution_count": 35,
     "metadata": {},
     "output_type": "execute_result"
    }
   ],
   "source": [
    "#scraping distance\n",
    "distance=[i.text.strip('- ').split(' from')[0] for i in driver.find_elements(By.XPATH, '//span[@class=\"distance-description\"]')]\n",
    "distance"
   ]
  },
  {
   "cell_type": "code",
   "execution_count": 36,
   "id": "682bcd08",
   "metadata": {},
   "outputs": [
    {
     "data": {
      "text/plain": [
       "[]"
      ]
     },
     "execution_count": 36,
     "metadata": {},
     "output_type": "execute_result"
    }
   ],
   "source": [
    "#scraping rating\n",
    "rating=[i.text for i in driver.find_elements(By.XPATH, '//span[@class=\"number\"]')][2:]\n",
    "rating"
   ]
  },
  {
   "cell_type": "code",
   "execution_count": 37,
   "id": "3c062898",
   "metadata": {},
   "outputs": [
    {
     "data": {
      "text/plain": [
       "[]"
      ]
     },
     "execution_count": 37,
     "metadata": {},
     "output_type": "execute_result"
    }
   ],
   "source": [
    "#scraping total review\n",
    "total_reviews=[i.text.strip('(').strip(\")\") for i in driver.find_elements(By.XPATH, '//span[@class=\"left-margin\"]')]\n",
    "total_reviews"
   ]
  },
  {
   "cell_type": "code",
   "execution_count": 38,
   "id": "d780f54d",
   "metadata": {},
   "outputs": [
    {
     "data": {
      "text/plain": [
       "[]"
      ]
     },
     "execution_count": 38,
     "metadata": {},
     "output_type": "execute_result"
    }
   ],
   "source": [
    "#scraping urls\n",
    "url=[i.get_attribute('href') for i in driver.find_elements(By.XPATH, '//a[@rel=\"noreferrer noopener\"]')][2:]\n",
    "url"
   ]
  },
  {
   "cell_type": "code",
   "execution_count": 39,
   "id": "5385b418",
   "metadata": {},
   "outputs": [],
   "source": [
    "#scraping property des\n",
    "property_des=[]\n",
    "for i in url:\n",
    "    driver.get(i)\n",
    "    propert =[i.text for i in driver.find_elements(By.XPATH, '//div[@class=\"content collapse-content\"]')][:1]\n",
    "    property_des.append(propert)"
   ]
  },
  {
   "cell_type": "code",
   "execution_count": 40,
   "id": "56475df0",
   "metadata": {},
   "outputs": [],
   "source": [
    "#scraping all facilities\n",
    "for i in url:\n",
    "    driver.get(i)\n",
    "    all_facilities=[i.text for i in driver.find_elements(By.XPATH, '//ul[@class=\"facilities\"]')]\n",
    "    print(all_facilities)\n",
    "    print('\\n')"
   ]
  },
  {
   "cell_type": "code",
   "execution_count": 41,
   "id": "48abb4eb",
   "metadata": {},
   "outputs": [
    {
     "name": "stdout",
     "output_type": "stream",
     "text": [
      "0 0 0 0 0\n"
     ]
    }
   ],
   "source": [
    "print(len(hostel_name), len(rating), len(total_reviews), len(property_des), len(distance))"
   ]
  },
  {
   "cell_type": "code",
   "execution_count": 42,
   "id": "24afd2d0",
   "metadata": {},
   "outputs": [
    {
     "data": {
      "text/html": [
       "<div>\n",
       "<style scoped>\n",
       "    .dataframe tbody tr th:only-of-type {\n",
       "        vertical-align: middle;\n",
       "    }\n",
       "\n",
       "    .dataframe tbody tr th {\n",
       "        vertical-align: top;\n",
       "    }\n",
       "\n",
       "    .dataframe thead th {\n",
       "        text-align: right;\n",
       "    }\n",
       "</style>\n",
       "<table border=\"1\" class=\"dataframe\">\n",
       "  <thead>\n",
       "    <tr style=\"text-align: right;\">\n",
       "      <th></th>\n",
       "      <th>Hostel Name</th>\n",
       "      <th>Distance from City Centre</th>\n",
       "      <th>rating</th>\n",
       "      <th>Total Reviews</th>\n",
       "      <th>Property Description</th>\n",
       "    </tr>\n",
       "  </thead>\n",
       "  <tbody>\n",
       "  </tbody>\n",
       "</table>\n",
       "</div>"
      ],
      "text/plain": [
       "Empty DataFrame\n",
       "Columns: [Hostel Name, Distance from City Centre, rating, Total Reviews, Property Description]\n",
       "Index: []"
      ]
     },
     "execution_count": 42,
     "metadata": {},
     "output_type": "execute_result"
    }
   ],
   "source": [
    "#creating dataframe\n",
    "Hostel_details=pd.DataFrame({\"Hostel Name\":hostel_name, \"Distance from City Centre\":distance, \"rating\":rating ,\"Total Reviews\": total_reviews, \"Property Description\":property_des})\n",
    "Hostel_details"
   ]
  },
  {
   "cell_type": "code",
   "execution_count": null,
   "id": "22f5645f",
   "metadata": {},
   "outputs": [],
   "source": []
  }
 ],
 "metadata": {
  "kernelspec": {
   "display_name": "Python 3 (ipykernel)",
   "language": "python",
   "name": "python3"
  },
  "language_info": {
   "codemirror_mode": {
    "name": "ipython",
    "version": 3
   },
   "file_extension": ".py",
   "mimetype": "text/x-python",
   "name": "python",
   "nbconvert_exporter": "python",
   "pygments_lexer": "ipython3",
   "version": "3.9.13"
  }
 },
 "nbformat": 4,
 "nbformat_minor": 5
}
